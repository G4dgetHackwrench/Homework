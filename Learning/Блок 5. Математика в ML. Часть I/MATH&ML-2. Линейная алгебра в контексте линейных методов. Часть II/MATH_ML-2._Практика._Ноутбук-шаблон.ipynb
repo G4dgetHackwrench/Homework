{
  "cells": [
    {
      "cell_type": "markdown",
      "id": "b054bd88",
      "metadata": {
        "id": "b054bd88"
      },
      "source": [
        "# <center> Линейная алгебра в контексте линейных методов. Практика.\n",
        "\n",
        "## <center> Прогнозирование выработки газа на скважинах."
      ]
    },
    {
      "cell_type": "markdown",
      "id": "325bc80b",
      "metadata": {
        "id": "325bc80b"
      },
      "source": [
        "## Постановка задачи"
      ]
    },
    {
      "cell_type": "markdown",
      "id": "8247bd54",
      "metadata": {
        "id": "8247bd54"
      },
      "source": [
        "У Василия, основателя компании «Газ-Таз-Ваз-Нефть», дела идут в гору: у него уже функционирует 200 скважин для добычи газа. В этом году он открывает 30 новых скважин. Однако в целях оптимизации расходов и повышения дохода Василию необходимо оценить, сколько денег будет приносить ему каждая из скважин, а также понять, какие факторы (параметры скважин) потенциально сильнее всего повлияют на объём добычи газа. Для этого Василий решил нанять вас как специалиста в области Data Science.\n",
        "\n",
        "Василий представляет вам набор данных о добыче газа на своих скважинах. Файл с данными вы можете скачать на платформе.\n",
        "\n",
        "**Признаки в данных:**\n",
        "\n",
        "* Well — идентификатор скважины;\n",
        "* Por — пористость скважины (%);\n",
        "* Perm — проницаемость скважины;\n",
        "* AI — акустический импеданс ($кг/м^2 * 10^6$);\n",
        "* Brittle — коэффициент хрупкости скважины (%);\n",
        "* TOC — общий органический углерод (%);\n",
        "* VR — коэффициент отражения витринита (%);\n",
        "* Prod — добыча газа в сутки (млн. кубических футов).\n",
        "\n",
        "**Ваша задача** — построить регрессионную модель, которая прогнозирует выработку газа на скважине (целевой признак — Prod) на основе остальных характеристик скважины, и проинтерпретировать результаты вашей модели.\n",
        "\n",
        "Разделим задачу на две части:\n",
        "* В первой мы построим простейшую модель линейной регрессии, проанализируем результаты её работы и выберем наиболее значимые факторы для прогнозирования.\n",
        "* Во второй мы займёмся построением модели полиномиальной регрессии с регуляризацией и посмотрим на итоговые результаты моделирования.\n"
      ]
    },
    {
      "cell_type": "markdown",
      "id": "d67d069e",
      "metadata": {
        "id": "d67d069e"
      },
      "source": [
        "Импортируем необходимые библиотеки:"
      ]
    },
    {
      "cell_type": "code",
      "execution_count": 133,
      "id": "83a555bc-8dff-4b7e-bba1-cd4f4a9e69b2",
      "metadata": {
        "id": "83a555bc-8dff-4b7e-bba1-cd4f4a9e69b2"
      },
      "outputs": [],
      "source": [
        "# Импорт библиотек\n",
        "import numpy as np # для работы с массивами\n",
        "import pandas as pd # для работы с DataFrame \n",
        "import seaborn as sns # библиотека для визуализации статистических данных\n",
        "import matplotlib.pyplot as plt # для построения графиков\n",
        "from sklearn import metrics\n",
        "from sklearn import linear_model\n",
        "\n",
        "%matplotlib inline"
      ]
    },
    {
      "cell_type": "markdown",
      "id": "e689ddaf",
      "metadata": {
        "id": "e689ddaf"
      },
      "source": [
        "Прочитаем исходные данные:"
      ]
    },
    {
      "cell_type": "code",
      "execution_count": 134,
      "id": "b7b5cd9b-703f-4dbc-a6e3-61d583eafcac",
      "metadata": {
        "colab": {
          "base_uri": "https://localhost:8080/",
          "height": 206
        },
        "id": "b7b5cd9b-703f-4dbc-a6e3-61d583eafcac",
        "outputId": "d4e99a48-2a0d-4edd-f86c-617c44bf36d2"
      },
      "outputs": [
        {
          "data": {
            "text/html": [
              "<div>\n",
              "<style scoped>\n",
              "    .dataframe tbody tr th:only-of-type {\n",
              "        vertical-align: middle;\n",
              "    }\n",
              "\n",
              "    .dataframe tbody tr th {\n",
              "        vertical-align: top;\n",
              "    }\n",
              "\n",
              "    .dataframe thead th {\n",
              "        text-align: right;\n",
              "    }\n",
              "</style>\n",
              "<table border=\"1\" class=\"dataframe\">\n",
              "  <thead>\n",
              "    <tr style=\"text-align: right;\">\n",
              "      <th></th>\n",
              "      <th>Well</th>\n",
              "      <th>Por</th>\n",
              "      <th>Perm</th>\n",
              "      <th>AI</th>\n",
              "      <th>Brittle</th>\n",
              "      <th>TOC</th>\n",
              "      <th>VR</th>\n",
              "      <th>Prod</th>\n",
              "    </tr>\n",
              "  </thead>\n",
              "  <tbody>\n",
              "    <tr>\n",
              "      <th>0</th>\n",
              "      <td>1</td>\n",
              "      <td>12.08</td>\n",
              "      <td>2.92</td>\n",
              "      <td>2.80</td>\n",
              "      <td>81.40</td>\n",
              "      <td>1.16</td>\n",
              "      <td>2.31</td>\n",
              "      <td>4165.196191</td>\n",
              "    </tr>\n",
              "    <tr>\n",
              "      <th>1</th>\n",
              "      <td>2</td>\n",
              "      <td>12.38</td>\n",
              "      <td>3.53</td>\n",
              "      <td>3.22</td>\n",
              "      <td>46.17</td>\n",
              "      <td>0.89</td>\n",
              "      <td>1.88</td>\n",
              "      <td>3561.146205</td>\n",
              "    </tr>\n",
              "    <tr>\n",
              "      <th>2</th>\n",
              "      <td>3</td>\n",
              "      <td>14.02</td>\n",
              "      <td>2.59</td>\n",
              "      <td>4.01</td>\n",
              "      <td>72.80</td>\n",
              "      <td>0.89</td>\n",
              "      <td>2.72</td>\n",
              "      <td>4284.348574</td>\n",
              "    </tr>\n",
              "    <tr>\n",
              "      <th>3</th>\n",
              "      <td>4</td>\n",
              "      <td>17.67</td>\n",
              "      <td>6.75</td>\n",
              "      <td>2.63</td>\n",
              "      <td>39.81</td>\n",
              "      <td>1.08</td>\n",
              "      <td>1.88</td>\n",
              "      <td>5098.680869</td>\n",
              "    </tr>\n",
              "    <tr>\n",
              "      <th>4</th>\n",
              "      <td>5</td>\n",
              "      <td>17.52</td>\n",
              "      <td>4.57</td>\n",
              "      <td>3.18</td>\n",
              "      <td>10.94</td>\n",
              "      <td>1.51</td>\n",
              "      <td>1.90</td>\n",
              "      <td>3406.132832</td>\n",
              "    </tr>\n",
              "  </tbody>\n",
              "</table>\n",
              "</div>"
            ],
            "text/plain": [
              "   Well    Por  Perm    AI  Brittle   TOC    VR         Prod\n",
              "0     1  12.08  2.92  2.80    81.40  1.16  2.31  4165.196191\n",
              "1     2  12.38  3.53  3.22    46.17  0.89  1.88  3561.146205\n",
              "2     3  14.02  2.59  4.01    72.80  0.89  2.72  4284.348574\n",
              "3     4  17.67  6.75  2.63    39.81  1.08  1.88  5098.680869\n",
              "4     5  17.52  4.57  3.18    10.94  1.51  1.90  3406.132832"
            ]
          },
          "execution_count": 134,
          "metadata": {},
          "output_type": "execute_result"
        }
      ],
      "source": [
        "data = pd.read_csv('data/unconv.csv')\n",
        "data.head()"
      ]
    },
    {
      "cell_type": "markdown",
      "id": "58639b40",
      "metadata": {
        "id": "58639b40"
      },
      "source": [
        "## Практика: линейная регрессия по методу наименьших квадратов"
      ]
    },
    {
      "cell_type": "markdown",
      "id": "a90535b8",
      "metadata": {
        "id": "a90535b8"
      },
      "source": [
        "Для начала построим простейшую модель линейной регрессии, проанализируем результаты её работы и выберем наиболее значимые факторы для прогнозирования.\n",
        "\n",
        "В первой части вам предстоит выполнить задания 5.0–5.6. Максимальное количество баллов, которое можно получить, — 9."
      ]
    },
    {
      "cell_type": "markdown",
      "id": "4061b706",
      "metadata": {
        "id": "4061b706"
      },
      "source": [
        "### Задание 5.0. (не оценивается)\n",
        "\n",
        "Проведите небольшой разведывательный анализ, чтобы поближе познакомиться с исходными данными. Постройте несколько визуализаций, которые помогут вам понять, как устроены исходные признаки, а также смогут продемонстрировать взаимосвязь факторов. \n",
        "\n",
        "Сделайте промежуточные выводы из проведённого разведывательного анализа."
      ]
    },
    {
      "cell_type": "code",
      "execution_count": 135,
      "id": "daf1ccc7",
      "metadata": {
        "id": "daf1ccc7"
      },
      "outputs": [
        {
          "data": {
            "text/html": [
              "<div>\n",
              "<style scoped>\n",
              "    .dataframe tbody tr th:only-of-type {\n",
              "        vertical-align: middle;\n",
              "    }\n",
              "\n",
              "    .dataframe tbody tr th {\n",
              "        vertical-align: top;\n",
              "    }\n",
              "\n",
              "    .dataframe thead th {\n",
              "        text-align: right;\n",
              "    }\n",
              "</style>\n",
              "<table border=\"1\" class=\"dataframe\">\n",
              "  <thead>\n",
              "    <tr style=\"text-align: right;\">\n",
              "      <th></th>\n",
              "      <th>Well</th>\n",
              "      <th>Por</th>\n",
              "      <th>Perm</th>\n",
              "      <th>AI</th>\n",
              "      <th>Brittle</th>\n",
              "      <th>TOC</th>\n",
              "      <th>VR</th>\n",
              "      <th>Prod</th>\n",
              "    </tr>\n",
              "  </thead>\n",
              "  <tbody>\n",
              "    <tr>\n",
              "      <th>count</th>\n",
              "      <td>200.000000</td>\n",
              "      <td>200.000000</td>\n",
              "      <td>200.000000</td>\n",
              "      <td>200.000000</td>\n",
              "      <td>200.000000</td>\n",
              "      <td>200.000000</td>\n",
              "      <td>200.000000</td>\n",
              "      <td>200.000000</td>\n",
              "    </tr>\n",
              "    <tr>\n",
              "      <th>mean</th>\n",
              "      <td>100.500000</td>\n",
              "      <td>14.991150</td>\n",
              "      <td>4.330750</td>\n",
              "      <td>2.968850</td>\n",
              "      <td>48.161950</td>\n",
              "      <td>0.990450</td>\n",
              "      <td>1.964300</td>\n",
              "      <td>4311.219852</td>\n",
              "    </tr>\n",
              "    <tr>\n",
              "      <th>std</th>\n",
              "      <td>57.879185</td>\n",
              "      <td>2.971176</td>\n",
              "      <td>1.731014</td>\n",
              "      <td>0.566885</td>\n",
              "      <td>14.129455</td>\n",
              "      <td>0.481588</td>\n",
              "      <td>0.300827</td>\n",
              "      <td>992.038414</td>\n",
              "    </tr>\n",
              "    <tr>\n",
              "      <th>min</th>\n",
              "      <td>1.000000</td>\n",
              "      <td>6.550000</td>\n",
              "      <td>1.130000</td>\n",
              "      <td>1.280000</td>\n",
              "      <td>10.940000</td>\n",
              "      <td>-0.190000</td>\n",
              "      <td>0.930000</td>\n",
              "      <td>2107.139414</td>\n",
              "    </tr>\n",
              "    <tr>\n",
              "      <th>25%</th>\n",
              "      <td>50.750000</td>\n",
              "      <td>12.912500</td>\n",
              "      <td>3.122500</td>\n",
              "      <td>2.547500</td>\n",
              "      <td>37.755000</td>\n",
              "      <td>0.617500</td>\n",
              "      <td>1.770000</td>\n",
              "      <td>3618.064513</td>\n",
              "    </tr>\n",
              "    <tr>\n",
              "      <th>50%</th>\n",
              "      <td>100.500000</td>\n",
              "      <td>15.070000</td>\n",
              "      <td>4.035000</td>\n",
              "      <td>2.955000</td>\n",
              "      <td>49.510000</td>\n",
              "      <td>1.030000</td>\n",
              "      <td>1.960000</td>\n",
              "      <td>4284.687348</td>\n",
              "    </tr>\n",
              "    <tr>\n",
              "      <th>75%</th>\n",
              "      <td>150.250000</td>\n",
              "      <td>17.402500</td>\n",
              "      <td>5.287500</td>\n",
              "      <td>3.345000</td>\n",
              "      <td>58.262500</td>\n",
              "      <td>1.350000</td>\n",
              "      <td>2.142500</td>\n",
              "      <td>5086.089761</td>\n",
              "    </tr>\n",
              "    <tr>\n",
              "      <th>max</th>\n",
              "      <td>200.000000</td>\n",
              "      <td>23.550000</td>\n",
              "      <td>9.870000</td>\n",
              "      <td>4.630000</td>\n",
              "      <td>84.330000</td>\n",
              "      <td>2.180000</td>\n",
              "      <td>2.870000</td>\n",
              "      <td>6662.622385</td>\n",
              "    </tr>\n",
              "  </tbody>\n",
              "</table>\n",
              "</div>"
            ],
            "text/plain": [
              "             Well         Por        Perm          AI     Brittle         TOC  \\\n",
              "count  200.000000  200.000000  200.000000  200.000000  200.000000  200.000000   \n",
              "mean   100.500000   14.991150    4.330750    2.968850   48.161950    0.990450   \n",
              "std     57.879185    2.971176    1.731014    0.566885   14.129455    0.481588   \n",
              "min      1.000000    6.550000    1.130000    1.280000   10.940000   -0.190000   \n",
              "25%     50.750000   12.912500    3.122500    2.547500   37.755000    0.617500   \n",
              "50%    100.500000   15.070000    4.035000    2.955000   49.510000    1.030000   \n",
              "75%    150.250000   17.402500    5.287500    3.345000   58.262500    1.350000   \n",
              "max    200.000000   23.550000    9.870000    4.630000   84.330000    2.180000   \n",
              "\n",
              "               VR         Prod  \n",
              "count  200.000000   200.000000  \n",
              "mean     1.964300  4311.219852  \n",
              "std      0.300827   992.038414  \n",
              "min      0.930000  2107.139414  \n",
              "25%      1.770000  3618.064513  \n",
              "50%      1.960000  4284.687348  \n",
              "75%      2.142500  5086.089761  \n",
              "max      2.870000  6662.622385  "
            ]
          },
          "execution_count": 135,
          "metadata": {},
          "output_type": "execute_result"
        }
      ],
      "source": [
        "data.describe()"
      ]
    },
    {
      "cell_type": "code",
      "execution_count": 136,
      "id": "0a6a2fdb",
      "metadata": {},
      "outputs": [
        {
          "data": {
            "text/plain": [
              "array([[<Axes: title={'center': 'Well'}>,\n",
              "        <Axes: title={'center': 'Por'}>,\n",
              "        <Axes: title={'center': 'Perm'}>],\n",
              "       [<Axes: title={'center': 'AI'}>,\n",
              "        <Axes: title={'center': 'Brittle'}>,\n",
              "        <Axes: title={'center': 'TOC'}>],\n",
              "       [<Axes: title={'center': 'VR'}>, <Axes: title={'center': 'Prod'}>,\n",
              "        <Axes: >]], dtype=object)"
            ]
          },
          "execution_count": 136,
          "metadata": {},
          "output_type": "execute_result"
        },
        {
          "data": {
            "image/png": "[encoded data removed]",
            "text/plain": [
              "<Figure size 1500x1000 with 9 Axes>"
            ]
          },
          "metadata": {},
          "output_type": "display_data"
        }
      ],
      "source": [
        "data.hist(figsize=(15,10))"
      ]
    },
    {
      "cell_type": "markdown",
      "id": "d11cb44f",
      "metadata": {
        "id": "d11cb44f"
      },
      "source": [
        "### Задание 5.1. (2 балла)\n",
        "\n",
        "Постройте корреляционную матрицу факторов, включив в неё целевой признак. \n",
        "\n",
        "Для наглядности визуализируйте полученную матрицу с помощью тепловой карты. \n",
        "\n",
        "**Примечание.** *Для визуализации вы можете использовать любую из знакомых вам библиотек.*\n",
        "\n",
        "На основе построенной корреляционной матрицы ответьте на следующий вопрос:\n",
        "\n",
        "* Какие факторы сильнее всего коррелируют с целевой переменной?\n",
        "\n",
        "Вычислите ранг и определитель полученной матрицы корреляций и приведите развёрнутые ответы на следующие вопросы:\n",
        "* Является ли корреляционная матрица плохо обусловенной (близок ли её опредитель к нулю)?\n",
        "* Что вы можете сказать о наличии коллинераности/мультиколлинеарности в данных? \n",
        "* Применима ли в данном случае модель классической линейной регрессии по методу наименьших квадратов и почему? "
      ]
    },
    {
      "cell_type": "markdown",
      "id": "57OjUl5e2oiL",
      "metadata": {
        "id": "57OjUl5e2oiL"
      },
      "source": [
        "**Критерии оценивания:**\n",
        "- Задание выполнено верно, учтены все условия (**2 балла**): \n",
        "    * приведён код для расчёта корреляционной матрицы;\n",
        "    * приведён код для визуализации корреляционной матрицы в виде тепловой карты;\n",
        "    * рассчитаны ранг и определитель корреляционной матрицы;\n",
        "    * предоставлены обоснованные ответы на все поставленные вопросы. \n",
        "\n",
        "- Задание выполнено верно, но не учтено одно условие (**1 балл**).\n",
        "- Задание выполнено неверно, не учтено несколько условий (**0 баллов**)."
      ]
    },
    {
      "cell_type": "code",
      "execution_count": 137,
      "id": "af00a5a0",
      "metadata": {
        "id": "af00a5a0"
      },
      "outputs": [
        {
          "data": {
            "text/plain": [
              "Text(0.5, 1.0, 'Тепловая карта корреляции')"
            ]
          },
          "execution_count": 137,
          "metadata": {},
          "output_type": "execute_result"
        },
        {
          "data": {
            "image/png": "[encoded data removed]",
            "text/plain": [
              "<Figure size 640x480 with 2 Axes>"
            ]
          },
          "metadata": {},
          "output_type": "display_data"
        }
      ],
      "source": [
        "data_corr = data.corr() #матрица корреляции\n",
        "ax = sns.heatmap(data_corr, fmt='.2f', linewidths=.1, annot=True)\n",
        "ax.set_title('Тепловая карта корреляции')"
      ]
    },
    {
      "cell_type": "markdown",
      "id": "f7f1ddd3",
      "metadata": {},
      "source": [
        "Сильнее всего с целевой переменной коррелируют факторы \"пористость скважины\"(Por) и \"проницаемость скважины\"(Perm). Немного слабее корреляция целевой переменной с фактором \"общий органический углерод\"(TOC)."
      ]
    },
    {
      "cell_type": "code",
      "execution_count": 138,
      "id": "c6824ef7",
      "metadata": {},
      "outputs": [
        {
          "name": "stdout",
          "output_type": "stream",
          "text": [
            "Ранг матрицы коллинеарности: 8 \n",
            "Определитель матрицы: 0.00073\n"
          ]
        }
      ],
      "source": [
        "print('Ранг матрицы коллинеарности:', np.linalg.matrix_rank(data_corr),\n",
        "      '\\nОпределитель матрицы:', np.linalg.det(data_corr).round(5))"
      ]
    },
    {
      "cell_type": "markdown",
      "id": "9a56013d",
      "metadata": {
        "id": "9a56013d"
      },
      "source": [
        "Определитель матрицы близок к нулю, поэтому матрица близка к вырожденной и плохо обусловлена. Чистой коллинеарности не наблюдается, зато присутствует мультиколлинеарность - сильная связь с двумя факторами. Без удаления признаков модель классической линейной регрессии в данном случае не применима - в связи с близостью матрицы корреляции к вырождению. Наши данные плохо обусловлены."
      ]
    },
    {
      "cell_type": "markdown",
      "id": "43fd91c4",
      "metadata": {
        "id": "43fd91c4"
      },
      "source": [
        "### Задание 5.2. (2 балла)\n",
        "\n",
        "Создайте матрицу наблюдений `X` и вектор правильных ответов `y`. В качестве факторов для матрицы наблюдений возьмите все имеющиеся в данных признаки. \n",
        "\n",
        "Постройте модель линейной регрессии по методу наименьших квадратов. Для этого воспользуйтесь матричной формулой МНК и инструментарием библиотеки numpy. \n",
        "\n",
        "Выведите на экран полученные оценки коэффициентов модели, округлённые до целого.\n",
        "\n",
        "Приведите подробные выводы по полученным результатам, ответив на следующие вопросы:\n",
        "* Есть ли в ваших данных признаки, которые, согласно модели, можно назвать неинформативными, то есть они не оказывают влияния на целевую переменную или оказывают шумовое влияние?\n",
        "* Приведите интерпретацию нескольких (двух или трёх) коэффициентов полученной модели линейной регрессии.\n"
      ]
    },
    {
      "cell_type": "markdown",
      "id": "QtNtTUzI4Cpq",
      "metadata": {
        "id": "QtNtTUzI4Cpq"
      },
      "source": [
        "**Критерии оценивания:**\n",
        "- Задание выполнено верно, учтены все условия (**2 балла**): \n",
        "    * приведён код для нахождения параметров модели линейной регрессии с помощью матричной формулы МНК;\n",
        "    * на основе полученных параметров даны верные ответы на поставленные вопросы;\n",
        "    * приведена корректная интерпретация нескольких коэффициентов полученной модели линейной регрессии.\n",
        "\n",
        "- Задание выполнено верно, но не учтено одно из условий (**1 балл**).\n",
        "- Задание выполнено неверно, не учтено несколько условий (**0 баллов**)."
      ]
    },
    {
      "cell_type": "code",
      "execution_count": 139,
      "id": "5724288c",
      "metadata": {
        "id": "5724288c"
      },
      "outputs": [
        {
          "name": "stdout",
          "output_type": "stream",
          "text": [
            "     Prod\n",
            "0 -1232.0\n",
            "1     0.0\n",
            "2   230.0\n",
            "3   116.0\n",
            "4  -365.0\n",
            "5    25.0\n",
            "6   -78.0\n",
            "7   785.0\n"
          ]
        }
      ],
      "source": [
        "X = np.column_stack((np.ones(200), data.drop(['Prod'], axis=1)))\n",
        "y = data[['Prod']]\n",
        "w_hat=np.linalg.inv(X.T@X)@X.T@y\n",
        "print(w_hat.round())"
      ]
    },
    {
      "cell_type": "markdown",
      "id": "bab9ee21",
      "metadata": {
        "id": "bab9ee21"
      },
      "source": [
        "Первый признак \"Well\" совсем неинформативен, его округленный до целого коэффициент равен 0, значит при его изменении изменения целевого признака будут минимальны. А если посмотреть на матрицу корреляции, то данный признак имеет минимальную корреляцию с целевым признаком, а значит и оказывает на него минимальное влияние.\n",
        "\n",
        "При увеличении пористости скважины(2) на 1% добыча газа возрастает на 230 млн. кубических футов в сутки.\n",
        "\n",
        "При увеличении аккустического импеданса(4) на одну единицу добыча газа уменьшается на 365 млн. кубических футов в сутки.\n",
        "\n",
        "Признак коэффициент отражения витринита(7) - при его увеличении на 1% добыча газа возрастает на 785 млн. кубических футов в сутки."
      ]
    },
    {
      "cell_type": "markdown",
      "id": "4a05a4ac",
      "metadata": {
        "id": "4a05a4ac"
      },
      "source": [
        "### Задание 5.3. (1 балл)\n",
        "\n",
        "Теперь потренируемся строить предсказание для наблюдений целевой переменной. \n",
        "\n",
        "**а)** Постройте прогноз выработки газа для скважины со следующими параметрами:\n",
        "\n",
        "```python\n",
        "{\n",
        "    'Well': 106.0,\n",
        "    'Por': 15.32,\n",
        "    'Perm': 3.71,\n",
        "    'AI': 3.29,\n",
        "    'Brittle': 55.99,\n",
        "    'TOC': 1.35,\n",
        "    'VR': 2.42\n",
        " }\n",
        "```\n",
        "\n",
        "Рассчитайте абсолютную ошибку построенного вами прогноза для предложенной скважины (в миллионах кубических футов в день), если известно, что на этой скважине производится `4748.315024` миллионов кубических футов газа в день. \n",
        "\n",
        "**б)** Постройте прогноз выработки газа для всех скважин из обучающего набора данных. Выберите метрику, по которой вы будете оценивать качество регрессионных моделей и сравнивать их между собой (можно использовать несколько метрик, но не более двух).\n",
        "\n",
        "Рассчитайте значение выбранной метрики для вашей модели. Приведите интерпретацию полученного результата. "
      ]
    },
    {
      "cell_type": "markdown",
      "id": "qUDcep5Q5GWU",
      "metadata": {
        "id": "qUDcep5Q5GWU"
      },
      "source": [
        "**Критерии оценивания:**\n",
        "- Задание выполнено верно, учтены все условия (**1 балл**): \n",
        "    * приведён код для построения прогноза выработки газа на указанной скважине и рассчитана абсолютная ошибка прогноза для этой скважины;\n",
        "    * выбрана корректная для поставленной задачи метрика (или метрики) оценки качества модели и приведён код для расчёта этой метрики на всём обучающем наборе данных;\n",
        "    * приведена корректная интерпретация полученного результата.\n",
        "\n",
        "- Задание выполнено верно, но не учтено одно из условий, или задание выполнено неверно (**0 баллов**)."
      ]
    },
    {
      "cell_type": "code",
      "execution_count": 140,
      "id": "e4291db0",
      "metadata": {
        "id": "e4291db0"
      },
      "outputs": [
        {
          "name": "stdout",
          "output_type": "stream",
          "text": [
            "Prediction new: [[4723.06405371]]\n",
            "MAE score new: [[25.25097029]]\n"
          ]
        }
      ],
      "source": [
        "new = np.array([[1, 106.0, 15.32, 3.71, 3.29, 55.99, 1.35, 2.42]])\n",
        "new_pred = (new@w_hat).values\n",
        "pred = 4748.315024\n",
        "print('Prediction new:', new_pred)\n",
        "print('MAE score new:', pred - new_pred)"
      ]
    },
    {
      "cell_type": "code",
      "execution_count": 141,
      "id": "d6a93d51",
      "metadata": {},
      "outputs": [
        {
          "name": "stdout",
          "output_type": "stream",
          "text": [
            "MAE score: [153.62]\n",
            "MAPE score: [3.63]\n"
          ]
        }
      ],
      "source": [
        "y_pred = (X@w_hat).values\n",
        "#MSE_pred = (abs((y_pred - y))**2).sum()/len(y)\n",
        "#y_mean = y_pred.mean()\n",
        "#MSE_mean = (((abs(y - y_mean))**2).sum())/len(y)\n",
        "print('MAE score:', (abs((y - y_pred)).sum()/len(y)).values.round(2))\n",
        "print('MAPE score:', (((abs((y - y_pred))/y).sum()/len(y))*100).values.round(2))\n",
        "#print('R2 score:', (1 - (MSE_pred/MSE_mean)).values)"
      ]
    },
    {
      "cell_type": "markdown",
      "id": "c9bee4bc",
      "metadata": {
        "id": "c9bee4bc"
      },
      "source": [
        "Не знала можно ли пользоваться библиотекой метрик, решила раз у нас модуль по математике, то рассчет метрик должен производиться ручками без использования библиотеки с метриками.\n",
        "\n",
        "Из метрики MAE видно что в среднем предсказанная выработка газа разошлась с реальной на 153,6 млн. кубических футов. А из метрики MAPE видно что построеная модель в среднем отклоняется на 3,63% от реального значения, что является весьма неплохим результатом."
      ]
    },
    {
      "cell_type": "markdown",
      "id": "0c25c3aa",
      "metadata": {
        "id": "0c25c3aa"
      },
      "source": [
        "### Задание 5.4. (1 балл)\n",
        "\n",
        "Настало время анализа построенной модели. Посмотрите на коэффициенты и сравните их знаки со значениями выборочных корреляций между целевым признаком и факторами, которые вы нашли ранее.\n",
        "\n",
        "Дайте развёрнутые ответы на следующие вопросы:\n",
        "\n",
        "* Есть ли в вашей модели фактор, при котором коэффициент в модели линейной регрессии противоречит соответствующему коэффициенту корреляции? Например, корреляция говорит, что зависимость между фактором и целевой переменной прямая, а модель говорит обратное. Если таких факторов несколько, укажите их все.\n",
        "* Как вы считаете, с чем связано полученное противоречие результатов?"
      ]
    },
    {
      "cell_type": "markdown",
      "id": "ngJ3UdYb6Ll6",
      "metadata": {
        "id": "ngJ3UdYb6Ll6"
      },
      "source": [
        "**Критерии оценивания:**\n",
        "\n",
        "- Задание выполнено верно, даны корректные развёрнутые ответы на все поставленные в задании вопросы (**1 балл**). \n",
        "\n",
        "- Задание выполнено неверно, даны некорректные ответы на один или несколько поставленных в задании вопросов (**0 баллов**)."
      ]
    },
    {
      "cell_type": "code",
      "execution_count": 142,
      "id": "v-zIxRPY9wK7",
      "metadata": {
        "id": "v-zIxRPY9wK7"
      },
      "outputs": [
        {
          "data": {
            "text/html": [
              "<div>\n",
              "<style scoped>\n",
              "    .dataframe tbody tr th:only-of-type {\n",
              "        vertical-align: middle;\n",
              "    }\n",
              "\n",
              "    .dataframe tbody tr th {\n",
              "        vertical-align: top;\n",
              "    }\n",
              "\n",
              "    .dataframe thead th {\n",
              "        text-align: right;\n",
              "    }\n",
              "</style>\n",
              "<table border=\"1\" class=\"dataframe\">\n",
              "  <thead>\n",
              "    <tr style=\"text-align: right;\">\n",
              "      <th></th>\n",
              "      <th>Prod</th>\n",
              "    </tr>\n",
              "  </thead>\n",
              "  <tbody>\n",
              "    <tr>\n",
              "      <th>0</th>\n",
              "      <td>-1232.308030</td>\n",
              "    </tr>\n",
              "    <tr>\n",
              "      <th>1</th>\n",
              "      <td>0.050700</td>\n",
              "    </tr>\n",
              "    <tr>\n",
              "      <th>2</th>\n",
              "      <td>230.179140</td>\n",
              "    </tr>\n",
              "    <tr>\n",
              "      <th>3</th>\n",
              "      <td>116.239006</td>\n",
              "    </tr>\n",
              "    <tr>\n",
              "      <th>4</th>\n",
              "      <td>-365.202301</td>\n",
              "    </tr>\n",
              "    <tr>\n",
              "      <th>5</th>\n",
              "      <td>24.994370</td>\n",
              "    </tr>\n",
              "    <tr>\n",
              "      <th>6</th>\n",
              "      <td>-78.400929</td>\n",
              "    </tr>\n",
              "    <tr>\n",
              "      <th>7</th>\n",
              "      <td>785.259815</td>\n",
              "    </tr>\n",
              "  </tbody>\n",
              "</table>\n",
              "</div>"
            ],
            "text/plain": [
              "          Prod\n",
              "0 -1232.308030\n",
              "1     0.050700\n",
              "2   230.179140\n",
              "3   116.239006\n",
              "4  -365.202301\n",
              "5    24.994370\n",
              "6   -78.400929\n",
              "7   785.259815"
            ]
          },
          "execution_count": 142,
          "metadata": {},
          "output_type": "execute_result"
        },
        {
          "data": {
            "image/png": "[encoded data removed]",
            "text/plain": [
              "<Figure size 640x480 with 2 Axes>"
            ]
          },
          "metadata": {},
          "output_type": "display_data"
        }
      ],
      "source": [
        "ax = sns.heatmap(data_corr, fmt='.2f', linewidths=.1, annot=True)\n",
        "w_hat"
      ]
    },
    {
      "cell_type": "code",
      "execution_count": 143,
      "id": "bd1e5979",
      "metadata": {},
      "outputs": [
        {
          "data": {
            "text/html": [
              "<div>\n",
              "<style scoped>\n",
              "    .dataframe tbody tr th:only-of-type {\n",
              "        vertical-align: middle;\n",
              "    }\n",
              "\n",
              "    .dataframe tbody tr th {\n",
              "        vertical-align: top;\n",
              "    }\n",
              "\n",
              "    .dataframe thead th {\n",
              "        text-align: right;\n",
              "    }\n",
              "</style>\n",
              "<table border=\"1\" class=\"dataframe\">\n",
              "  <thead>\n",
              "    <tr style=\"text-align: right;\">\n",
              "      <th></th>\n",
              "      <th>Prod</th>\n",
              "    </tr>\n",
              "  </thead>\n",
              "  <tbody>\n",
              "    <tr>\n",
              "      <th>0</th>\n",
              "      <td>2975.981677</td>\n",
              "    </tr>\n",
              "    <tr>\n",
              "      <th>1</th>\n",
              "      <td>1348.112651</td>\n",
              "    </tr>\n",
              "  </tbody>\n",
              "</table>\n",
              "</div>"
            ],
            "text/plain": [
              "          Prod\n",
              "0  2975.981677\n",
              "1  1348.112651"
            ]
          },
          "execution_count": 143,
          "metadata": {},
          "output_type": "execute_result"
        }
      ],
      "source": [
        "x_toc = np.column_stack((np.ones(200), data['TOC']))\n",
        "np.linalg.inv(x_toc.T@x_toc)@x_toc.T@y"
      ]
    },
    {
      "cell_type": "markdown",
      "id": "qeowwIp99yBf",
      "metadata": {
        "id": "qeowwIp99yBf"
      },
      "source": [
        "Таким фактором является \"TOC\"(общий органический углерод). Пыталась разобраться откуда появляется отрицательный коэффициент, но на модели построенной с использованием только одного фактора коэффициент получается положительный. Могу только предположить что это произошло из-за отрицательного нулевого коэффициента."
      ]
    },
    {
      "cell_type": "markdown",
      "id": "9cea9195",
      "metadata": {
        "id": "9cea9195"
      },
      "source": [
        "### Задание 5.5. (2 балла)\n",
        "\n",
        "* Исключите из данных сильно коррелированные между собой факторы. Под сильной корреляцией в данной задаче будем понимать значения выше `0.7`.\n",
        "\n",
        "Выбирая, какой из коррелированных факторов оставить, руководствуйтесь коэффициентом корреляции с целевой переменной: оставляйте тот фактор, который больше всего коррелирует с целевой переменной (объёмом добычи газа).\n",
        "\n",
        "* Также исключите из данных факторы, для которых корреляция с целевой переменной меньше `0.05`.\n",
        "\n",
        "Постройте модель линейной регрессии на обновлённых после удаления факторов данных по методу наименьших квадратов. Для этого используйте матричную формулу и библиотеку numpy. Выведите значение полученных коэффициентов, округлённых до целого.\n",
        "\n",
        "Сделайте прогноз для всего обучающего набора данных и рассчитайте выбранную вами ранее метрику (или метрики). \n",
        "\n",
        "Дайте подробные ответы на следующие вопросы:\n",
        "\n",
        "* Приведите интерпретацию нескольких полученных коэффициентов (двух или трёх). Сравните их значения с полученными ранее.\n",
        "* Приведите интерпретацию полученных значений метрик. Сравните их значения с полученными ранее. \n",
        "* Удалось ли вам побороть противоречие коэффициентов линейной регрессии и коэффициентов корреляции?"
      ]
    },
    {
      "cell_type": "markdown",
      "id": "vlUYVjJP6oXN",
      "metadata": {
        "id": "vlUYVjJP6oXN"
      },
      "source": [
        "**Критерии оценивания:**\n",
        "- Задание выполнено верно, учтены все условия (**2 балла**): \n",
        "    * отобраны верные факторы;\n",
        "    * на основе отобранных факторов построена модель линейной регрессии с помощью матричной формулы МНК и найдены параметры модели, соответствующие каждому из факторов;\n",
        "    * построен прогноз для всего обучающего набора данных и рассчитано значение метрики (метрика должна быть выбрана корректно);\n",
        "    * даны ответы на все поставленные в задании вопросы.\n",
        "\n",
        "- Задание выполнено верно, но не учтено одно из условий (**1 балл**).\n",
        "- Задание выполнено верно, не учтено несколько из условий (**0 баллов**)."
      ]
    },
    {
      "cell_type": "code",
      "execution_count": 144,
      "id": "5d5ZJ0lX_UHe",
      "metadata": {
        "id": "5d5ZJ0lX_UHe"
      },
      "outputs": [
        {
          "name": "stdout",
          "output_type": "stream",
          "text": [
            "     Prod\n",
            "0 -1835.0\n",
            "1   293.0\n",
            "2  -200.0\n",
            "3    28.0\n",
            "4   517.0\n"
          ]
        }
      ],
      "source": [
        "#считаем модель без скорррелированных данных\n",
        "X_del = np.column_stack((np.ones(200), data.drop(['Prod', 'Perm', 'TOC', 'Well'], axis=1)))\n",
        "y = data[['Prod']]\n",
        "w_hat_del=np.linalg.inv(X_del.T@X_del)@X_del.T@y\n",
        "print(w_hat_del.round())"
      ]
    },
    {
      "cell_type": "markdown",
      "id": "c232bae4",
      "metadata": {},
      "source": [
        "*\"При увеличении пористости скважины(2) на 1% добыча газа возрастает на 230 млн. кубических футов в сутки.*\n",
        "\n",
        "*При увеличении аккустического импеданса(4) на одну единицу добыча газа уменьшается на 365 млн. кубических футов в сутки.*\n",
        "\n",
        "*Признак коэффициент отражения витринита(7) - при его увеличении на 1% добыча газа возрастает на 785 млн. кубических футов в сутки.\"*\n",
        "\n",
        "При увеличении пористости скважины(2) на 1% добыча газа возрастает на 293 млн. кубических футов в сутки.\n",
        "\n",
        "При увеличении аккустического импеданса(3) на одну единицу добыча газа уменьшается на 200 млн. кубических футов в сутки.\n",
        "\n",
        "Признак коэффициент отражения витринита(5) - при его увеличении на 1% добыча газа возрастает на 517 млн. кубических футов в сутки.\n",
        "\n",
        "У менее коррелированных с целевой переменной факторов значения изменились в меньшую сторону, а у \"Por\" сильноскоррелированного значение увеличилось."
      ]
    },
    {
      "cell_type": "code",
      "execution_count": 145,
      "id": "068821b0",
      "metadata": {},
      "outputs": [
        {
          "name": "stdout",
          "output_type": "stream",
          "text": [
            "MAE score: [171.43]\n",
            "MAPE score: [4.04]\n"
          ]
        }
      ],
      "source": [
        "#рассчитываем метрики\n",
        "y_pred_del = (X_del@w_hat_del).values\n",
        "print('MAE score:', (abs((y - y_pred_del)).sum()/len(y)).values.round(2))\n",
        "print('MAPE score:', (((abs((y - y_pred_del))/y).sum()/len(y))*100).values.round(2))"
      ]
    },
    {
      "cell_type": "markdown",
      "id": "KxbYvMDo_WLe",
      "metadata": {
        "id": "KxbYvMDo_WLe"
      },
      "source": [
        "Значения метрик изменились в худшую сторону, если раньше модель ошибалась в среднем на 153,62 млн. кубических футов, то теперь на 171,43. Также ухудшилось значение метрики MAPE - вместо 3,63% мы получили 4,04%.\n",
        "\n",
        "Ответ на последний вопрос весьма интересен, особенно учитывая что по всем параметрам фактор \"TOC\" должен быть удален из-за корреляции(0.71) с фактором \"Por\", а \"Por\" в свою очередь более скоррелирован с целевым фактором(Por - 0.86, TOC - 0.65)."
      ]
    },
    {
      "cell_type": "code",
      "execution_count": 146,
      "id": "70a0e03b",
      "metadata": {},
      "outputs": [
        {
          "name": "stdout",
          "output_type": "stream",
          "text": [
            "     Prod\n",
            "0 -1889.0\n",
            "1   290.0\n",
            "2  -140.0\n",
            "3    29.0\n",
            "4    89.0\n",
            "5   407.0\n",
            "MAE score: [170.37]\n",
            "MAPE score: [4.02]\n"
          ]
        }
      ],
      "source": [
        "#считаем модель и предсказания с \"TOC\"\n",
        "X_toc = np.column_stack((np.ones(200), data.drop(['Prod', 'Perm', 'Well'], axis=1)))\n",
        "y = data[['Prod']]\n",
        "w_hat_toc=np.linalg.inv(X_toc.T@X_toc)@X_toc.T@y\n",
        "print(w_hat_toc.round())\n",
        "\n",
        "y_pred_toc = (X_toc@w_hat_toc).values\n",
        "print('MAE score:', (abs((y - y_pred_toc)).sum()/len(y)).values.round(2))\n",
        "print('MAPE score:', (((abs((y - y_pred_toc))/y).sum()/len(y))*100).values.round(2))"
      ]
    },
    {
      "cell_type": "markdown",
      "id": "d4cc69a9",
      "metadata": {},
      "source": [
        "Значения метрик даже немного улучшились. А противоречие исчезло - коэффициент положительный."
      ]
    },
    {
      "cell_type": "markdown",
      "id": "7d50db12",
      "metadata": {
        "id": "7d50db12"
      },
      "source": [
        "### Задание 5.6. (1 балл)\n",
        "\n",
        "Наконец, давайте построим модель линейной регрессии из библиотеки `scikit-learn (sklearn)` и сравним результаты её работы с теми, что нам удалось получить вручную. \n",
        "\n",
        "Постройте модель линейной регрессии на обновлённых после удаления факторов данных по методу наименьших квадратов. Для этого воспользуйтесь классом `LinearRegression` из библиотеки `sklearn`. Выведите значения полученных коэффициентов, округлённые до целого.\n",
        "\n",
        "Сделайте прогноз для всего обучающего набора данных и рассчитайте значение выбранной вами метрики (или метрик).\n",
        "\n",
        "Сравните результаты библиотечной реализации с тем, что вы получили ранее. "
      ]
    },
    {
      "cell_type": "markdown",
      "id": "emu5D3w278JP",
      "metadata": {
        "id": "emu5D3w278JP"
      },
      "source": [
        "**Критерии оценивания:**\n",
        "\n",
        "- Задание выполнено верно, учтены все условия (**1 балл**): \n",
        "    * на основе отобранных факторов построена модель линейной регрессии из библиотеки sklearn и найдены параметры модели, соответствующие каждому из факторов;\n",
        "    * построен прогноз для всего обучающего набора данных и рассчитано значение метрики (метрика должна быть выбрана корректно);\n",
        "    * приведён вывод о соответствии результатов, полученных вручную и с помощью библиотеки.\n",
        "- Задание выполнено неверно, не учтено одно или несколько условий (**0 баллов**)."
      ]
    },
    {
      "cell_type": "code",
      "execution_count": 148,
      "id": "Gpdpfq59AKGu",
      "metadata": {
        "id": "Gpdpfq59AKGu"
      },
      "outputs": [
        {
          "name": "stdout",
          "output_type": "stream",
          "text": [
            "[[   0.  293. -200.   28.  517.]]\n",
            "MAE score: 171.43\n",
            "MAPE score: 4.04\n"
          ]
        }
      ],
      "source": [
        "lr = linear_model.LinearRegression()\n",
        "lr.fit(X_del, y)\n",
        "print(lr.coef_.round())\n",
        "mae_lr = metrics.mean_absolute_error(y, lr.predict(X_del))\n",
        "mape_lr = metrics.mean_absolute_percentage_error(y, lr.predict(X_del))*100\n",
        "print('MAE score:', mae_lr.round(2))\n",
        "print('MAPE score:', mape_lr.round(2))"
      ]
    },
    {
      "cell_type": "markdown",
      "id": "WT9cdHAbAMG7",
      "metadata": {
        "id": "WT9cdHAbAMG7"
      },
      "source": [
        "Результаты полностью совпадают с рассчитанными ранее."
      ]
    },
    {
      "cell_type": "markdown",
      "id": "5346338e",
      "metadata": {
        "id": "5346338e"
      },
      "source": [
        "## Практика: полиномиальная регрессия и регуляризация"
      ]
    },
    {
      "cell_type": "markdown",
      "id": "aad9e3a6",
      "metadata": {
        "id": "aad9e3a6"
      },
      "source": [
        "Мы продолжаем работать над задачей от владельца компании «Газ-Таз-Ваз-Нефть» Василия.\n",
        "\n",
        "Ранее мы построили модель линейной регрессии, которая прогнозирует выработку газа на скважине. Для этого мы с помощью матрицы корреляций и рассуждений отобрали некоррелированные, значимые для предсказания признаки. **Далее мы будем использовать именно их (см. задание 5.5).**\n",
        "\n",
        "Мы хотим улучшить результат — уменьшить ошибку прогноза. Для этого мы воспользуемся моделью полиномиальной регрессии третьей степени. Однако теперь мы знаем, что полиномиальным моделям очень легко переобучиться под исходную выборку. Так как данных у нас не так много (всего 200 скважин), то для контроля качества модели мы будем использовать кросс-валидацию. \n",
        "\n",
        "Приступим! Выполните задания 8.1–8.5:\n"
      ]
    },
    {
      "cell_type": "code",
      "execution_count": 149,
      "id": "18506d1b",
      "metadata": {
        "id": "18506d1b"
      },
      "outputs": [],
      "source": [
        "from sklearn.preprocessing import PolynomialFeatures, StandardScaler\n",
        "from sklearn.linear_model import LinearRegression, Lasso, Ridge, ElasticNet\n",
        "from sklearn.model_selection import GridSearchCV\n",
        "from sklearn.model_selection import cross_validate\n",
        "import optuna"
      ]
    },
    {
      "cell_type": "markdown",
      "id": "bfbfea8d",
      "metadata": {
        "id": "bfbfea8d"
      },
      "source": [
        "### Задание 8.1. (1 балл)\n",
        "\n",
        "Стандаризируйте признаки с помощью `StandartScaler` из библиотеки `sklearn`. \n",
        "\n",
        "Затем сгенерируйте полиномиальные признаки третьего порядка на факторах, которые вы выбрали для обучения моделей. Для этого воспользуйтесь генератором полиномов `PolynomialFeatures` из библиотеки `sklearn`. Параметр `include_bias` установите в значение `False`.\n",
        "\n",
        "Выведите на экран, сколько факторов у вас получилось после генерации полиномиальных признаков.\n",
        "\n",
        "**Важно:** стандартизацию необходимо произвести до генерации полиномиальных факторов!\n",
        "\n",
        "Обучите модель линейной регрессии из библиотеки `sklearn` (`LinearRegression`) на полученных полиномиальных факторах.\n",
        "\n",
        "Используя кросс-валидацию оцените среднее значение выбранной вами метрики (или метрик) на тренировочных и валидационных фолдах.\n",
        "\n",
        "Проинтерпретируйте полученные результаты."
      ]
    },
    {
      "cell_type": "markdown",
      "id": "Y8oAhQkr8gV-",
      "metadata": {
        "id": "Y8oAhQkr8gV-"
      },
      "source": [
        "**Критерии оценивания:**\n",
        "\n",
        "- Задание выполнено верно, учтены все условия (**1 балл**): \n",
        "    * на основе отобранных факторов сгенерированы полиномиальные признаки третьего порядка;\n",
        "    * построена модель полиномиальной регрессии (линейной регрессии на полиномиальных признаках);\n",
        "    * с помощью кросс-валидации оценено среднее значение выбранной студентом метрики (или метрик) на тренировочных и валидационных фолдах (метрика должна быть выбрана корректно).\n",
        "- Задание выполнено неверно, не учтено одно или несколько из условий (**0 баллов**)."
      ]
    },
    {
      "cell_type": "code",
      "execution_count": 115,
      "id": "-ln3bx8NFNRw",
      "metadata": {
        "id": "-ln3bx8NFNRw"
      },
      "outputs": [
        {
          "name": "stdout",
          "output_type": "stream",
          "text": [
            "Количество полиноминальных факторов: 34\n",
            "MAE на тренировочных фолдах: 75.35 млн. кубических футов\n",
            "MAE на валидационных фолдах: 110.47 млн. кубических футов\n",
            "MAPE на тренировочных фолдах: 1.77 %\n",
            "MAPE на валидационных фолдах: 2.68 %\n"
          ]
        }
      ],
      "source": [
        "X_del = data.drop(['Prod', 'Perm', 'TOC', 'Well'], axis=1)\n",
        "\n",
        "scaler = StandardScaler()\n",
        "X_sc = scaler.fit_transform(X_del)\n",
        "\n",
        "poly = PolynomialFeatures(degree=3, include_bias=False)\n",
        "X_sc = poly.fit_transform(X_sc)\n",
        "print('Количество полиноминальных факторов:', X_sc.shape[1])\n",
        "\n",
        "lr_poly = LinearRegression()\n",
        "results_mae = cross_validate(lr_poly, X_sc, y, scoring='neg_mean_absolute_error', cv=5, return_train_score=True)\n",
        "results_mape = cross_validate(lr_poly, X_sc, y, scoring='neg_mean_absolute_percentage_error', cv=5, return_train_score=True)\n",
        "\n",
        "print('MAE на тренировочных фолдах: {:.2f} млн. кубических футов'.format(-results_mae['train_score'].mean()))\n",
        "print('MAE на валидационных фолдах: {:.2f} млн. кубических футов'.format(-results_mae['test_score'].mean()))\n",
        "print('MAPE на тренировочных фолдах: {:.2f} %'.format(-results_mape['train_score'].mean() *100))\n",
        "print('MAPE на валидационных фолдах: {:.2f} %'.format(-results_mape['test_score'].mean() *100))"
      ]
    },
    {
      "cell_type": "markdown",
      "id": "9DkuuLLtFPPy",
      "metadata": {
        "id": "9DkuuLLtFPPy"
      },
      "source": [
        "Прекрасные результаты, лучше чем было до генерации полиноминальных признаков. Расхождения между тренировочными и валидационными фолдами небольшое, значит переобучения нет."
      ]
    },
    {
      "cell_type": "markdown",
      "id": "63d06013",
      "metadata": {
        "id": "63d06013"
      },
      "source": [
        "### Задание 8.2. (2 балла)\n",
        "\n",
        "Теперь попробуем воспользоваться линейной регрессией с регуляризацией. Для начала возьмём $L_1$-регуляризацию.\n",
        "\n",
        "Обучите модель `Lasso` из библиотеки `sklearn` на полученных полиномиальных факторах, предварительно стандартизировав факторы. \n",
        "\n",
        "Коэффициент регуляризации (`alpha`) подберите самостоятельно с помощью любого известного вам метода подбора гиперпаметров.\n",
        "\n",
        "Используя кросс-валидацию, оцените среднее значение выбранной вами метрики (или метрик) на тренировочных и валидационных фолдах.\n",
        "\n",
        "Проинтерпретируйте полученные результаты."
      ]
    },
    {
      "cell_type": "markdown",
      "id": "z24YUfuA9rUq",
      "metadata": {
        "id": "z24YUfuA9rUq"
      },
      "source": [
        "**Критерии оценивания:**\n",
        "\n",
        "- Задание выполнено верно, учтены все условия (**2 балла**): \n",
        "    * правильно построена модель полиномиальной регрессии (линейной регрессии на полиномиальных признаках) с регуляризацией (Lasso), учтены условия необходимости масштабирования факторов для построения модели;\n",
        "    * приведён код для подбора параметра регуляризации (вручную или с помощью библиотечных инструментов);\n",
        "    * с помощью кросс-валидации оценено среднее значение выбранной студентом метрики (или метрик) на тренировочных и валидационных фолдах (метрика должна быть выбрана корректно).\n",
        "\n",
        "- Задание выполнено верно, но не учтено одно из условий (**1 балл**).\n",
        "- Задание выполнено неверно, не учтено несколько условий (**0 баллов**)."
      ]
    },
    {
      "cell_type": "code",
      "execution_count": 105,
      "id": "d996b403",
      "metadata": {},
      "outputs": [
        {
          "name": "stderr",
          "output_type": "stream",
          "text": [
            "[I 2024-06-14 20:08:13,491] A new study created in memory with name: Lasso_one\n",
            "[I 2024-06-14 20:08:17,482] Trial 0 finished with value: 106.61620801155682 and parameters: {'alpha': 18.66}. Best is trial 0 with value: 106.61620801155682.\n",
            "[I 2024-06-14 20:08:20,027] Trial 1 finished with value: 104.5366340665818 and parameters: {'alpha': 15.68}. Best is trial 1 with value: 104.5366340665818.\n",
            "[I 2024-06-14 20:08:20,056] Trial 2 finished with value: 117.99674445751873 and parameters: {'alpha': 26.22}. Best is trial 1 with value: 104.5366340665818.\n",
            "[I 2024-06-14 20:08:20,083] Trial 3 finished with value: 107.88607191210447 and parameters: {'alpha': 19.95}. Best is trial 1 with value: 104.5366340665818.\n",
            "[I 2024-06-14 20:08:20,110] Trial 4 finished with value: 98.79293941052777 and parameters: {'alpha': 9.06}. Best is trial 4 with value: 98.79293941052777.\n",
            "[I 2024-06-14 20:08:20,137] Trial 5 finished with value: 100.31369772017074 and parameters: {'alpha': 1.78}. Best is trial 4 with value: 98.79293941052777.\n",
            "[I 2024-06-14 20:08:20,165] Trial 6 finished with value: 108.0533706299224 and parameters: {'alpha': 20.11}. Best is trial 4 with value: 98.79293941052777.\n",
            "[I 2024-06-14 20:08:20,192] Trial 7 finished with value: 96.1442468100959 and parameters: {'alpha': 6.58}. Best is trial 7 with value: 96.1442468100959.\n",
            "[I 2024-06-14 20:08:20,220] Trial 8 finished with value: 96.70158444214658 and parameters: {'alpha': 7.28}. Best is trial 7 with value: 96.1442468100959.\n",
            "[I 2024-06-14 20:08:20,248] Trial 9 finished with value: 102.17473764715461 and parameters: {'alpha': 11.65}. Best is trial 7 with value: 96.1442468100959.\n",
            "[I 2024-06-14 20:08:20,285] Trial 10 finished with value: 98.12382360693141 and parameters: {'alpha': 2.54}. Best is trial 7 with value: 96.1442468100959.\n",
            "[I 2024-06-14 20:08:20,319] Trial 11 finished with value: 97.53117888586522 and parameters: {'alpha': 8.05}. Best is trial 7 with value: 96.1442468100959.\n",
            "[I 2024-06-14 20:08:20,356] Trial 12 finished with value: 95.85488992633809 and parameters: {'alpha': 5.82}. Best is trial 12 with value: 95.85488992633809.\n",
            "[I 2024-06-14 20:08:20,395] Trial 13 finished with value: 95.85594287225977 and parameters: {'alpha': 4.08}. Best is trial 12 with value: 95.85488992633809.\n",
            "[I 2024-06-14 20:08:20,431] Trial 14 finished with value: 102.56718976785612 and parameters: {'alpha': 1.08}. Best is trial 12 with value: 95.85488992633809.\n",
            "[I 2024-06-14 20:08:20,466] Trial 15 finished with value: 95.70130733952797 and parameters: {'alpha': 5.0600000000000005}. Best is trial 15 with value: 95.70130733952797.\n",
            "[I 2024-06-14 20:08:20,503] Trial 16 finished with value: 102.88981368978789 and parameters: {'alpha': 12.51}. Best is trial 15 with value: 95.70130733952797.\n",
            "[I 2024-06-14 20:08:20,541] Trial 17 finished with value: 95.67761605076825 and parameters: {'alpha': 4.83}. Best is trial 17 with value: 95.67761605076825.\n",
            "[I 2024-06-14 20:08:20,589] Trial 18 finished with value: 109.22119671608114 and parameters: {'alpha': 0.07}. Best is trial 17 with value: 95.67761605076825.\n",
            "[I 2024-06-14 20:08:20,627] Trial 19 finished with value: 124.16116524973017 and parameters: {'alpha': 29.09}. Best is trial 17 with value: 95.67761605076825.\n",
            "[I 2024-06-14 20:08:20,665] Trial 20 finished with value: 101.70296913088626 and parameters: {'alpha': 11.22}. Best is trial 17 with value: 95.67761605076825.\n",
            "[I 2024-06-14 20:08:20,706] Trial 21 finished with value: 95.76562163523958 and parameters: {'alpha': 4.3}. Best is trial 17 with value: 95.67761605076825.\n",
            "[I 2024-06-14 20:08:20,744] Trial 22 finished with value: 95.66615751632816 and parameters: {'alpha': 4.69}. Best is trial 22 with value: 95.66615751632816.\n",
            "[I 2024-06-14 20:08:20,780] Trial 23 finished with value: 99.44230166659402 and parameters: {'alpha': 9.57}. Best is trial 22 with value: 95.66615751632816.\n",
            "[I 2024-06-14 20:08:20,818] Trial 24 finished with value: 95.79374957367489 and parameters: {'alpha': 4.22}. Best is trial 22 with value: 95.66615751632816.\n",
            "[I 2024-06-14 20:08:20,855] Trial 25 finished with value: 103.82858104243687 and parameters: {'alpha': 14.32}. Best is trial 22 with value: 95.66615751632816.\n",
            "[I 2024-06-14 20:08:20,902] Trial 26 finished with value: 95.77652364120799 and parameters: {'alpha': 5.5200000000000005}. Best is trial 22 with value: 95.66615751632816.\n",
            "[I 2024-06-14 20:08:20,939] Trial 27 finished with value: 97.18525674058773 and parameters: {'alpha': 2.9}. Best is trial 22 with value: 95.66615751632816.\n",
            "[I 2024-06-14 20:08:20,979] Trial 28 finished with value: 99.15036238946907 and parameters: {'alpha': 9.34}. Best is trial 22 with value: 95.66615751632816.\n",
            "[I 2024-06-14 20:08:21,019] Trial 29 finished with value: 105.34998448953493 and parameters: {'alpha': 17.01}. Best is trial 22 with value: 95.66615751632816.\n",
            "[I 2024-06-14 20:08:21,056] Trial 30 finished with value: 103.2936421246275 and parameters: {'alpha': 13.09}. Best is trial 22 with value: 95.66615751632816.\n",
            "[I 2024-06-14 20:08:21,094] Trial 31 finished with value: 95.66271949995689 and parameters: {'alpha': 4.65}. Best is trial 31 with value: 95.66271949995689.\n",
            "[I 2024-06-14 20:08:21,132] Trial 32 finished with value: 95.80032459085001 and parameters: {'alpha': 5.64}. Best is trial 31 with value: 95.66271949995689.\n",
            "[I 2024-06-14 20:08:21,180] Trial 33 finished with value: 108.38362445026834 and parameters: {'alpha': 0.15}. Best is trial 31 with value: 95.66271949995689.\n",
            "[I 2024-06-14 20:08:21,217] Trial 34 finished with value: 113.03491844854118 and parameters: {'alpha': 23.53}. Best is trial 31 with value: 95.66271949995689.\n",
            "[I 2024-06-14 20:08:21,255] Trial 35 finished with value: 96.68927761216486 and parameters: {'alpha': 3.24}. Best is trial 31 with value: 95.66271949995689.\n",
            "[I 2024-06-14 20:08:21,295] Trial 36 finished with value: 97.3256491258173 and parameters: {'alpha': 7.88}. Best is trial 31 with value: 95.66271949995689.\n",
            "[I 2024-06-14 20:08:21,335] Trial 37 finished with value: 100.04337162909052 and parameters: {'alpha': 10.040000000000001}. Best is trial 31 with value: 95.66271949995689.\n",
            "[I 2024-06-14 20:08:21,376] Trial 38 finished with value: 101.43448513962434 and parameters: {'alpha': 1.42}. Best is trial 31 with value: 95.66271949995689.\n",
            "[I 2024-06-14 20:08:21,414] Trial 39 finished with value: 96.49771294249771 and parameters: {'alpha': 7.0600000000000005}. Best is trial 31 with value: 95.66271949995689.\n",
            "[I 2024-06-14 20:08:21,455] Trial 40 finished with value: 105.1796222937769 and parameters: {'alpha': 16.76}. Best is trial 31 with value: 95.66271949995689.\n",
            "[I 2024-06-14 20:08:21,496] Trial 41 finished with value: 95.72449407594198 and parameters: {'alpha': 5.21}. Best is trial 31 with value: 95.66271949995689.\n",
            "[I 2024-06-14 20:08:21,535] Trial 42 finished with value: 95.70664536204086 and parameters: {'alpha': 5.1000000000000005}. Best is trial 31 with value: 95.66271949995689.\n",
            "[I 2024-06-14 20:08:21,575] Trial 43 finished with value: 98.51636580012759 and parameters: {'alpha': 2.39}. Best is trial 31 with value: 95.66271949995689.\n",
            "[I 2024-06-14 20:08:21,613] Trial 44 finished with value: 97.59074844864425 and parameters: {'alpha': 8.1}. Best is trial 31 with value: 95.66271949995689.\n",
            "[I 2024-06-14 20:08:21,653] Trial 45 finished with value: 96.12598900103386 and parameters: {'alpha': 6.55}. Best is trial 31 with value: 95.66271949995689.\n",
            "[I 2024-06-14 20:08:21,692] Trial 46 finished with value: 95.76210490173136 and parameters: {'alpha': 4.32}. Best is trial 31 with value: 95.66271949995689.\n",
            "[I 2024-06-14 20:08:21,731] Trial 47 finished with value: 100.55902332835606 and parameters: {'alpha': 1.7}. Best is trial 31 with value: 95.66271949995689.\n",
            "[I 2024-06-14 20:08:21,770] Trial 48 finished with value: 100.91715400491157 and parameters: {'alpha': 10.64}. Best is trial 31 with value: 95.66271949995689.\n",
            "[I 2024-06-14 20:08:21,809] Trial 49 finished with value: 98.07228712513522 and parameters: {'alpha': 8.5}. Best is trial 31 with value: 95.66271949995689.\n"
          ]
        }
      ],
      "source": [
        "def optuna_lasso(trial, cv=5, X=X_sc, y=y):\n",
        "  # задаем пространства поиска гиперпараметров\n",
        "  alpha_l1= trial.suggest_float('alpha', 0, 30, step=0.01)\n",
        "\n",
        "  # создаем модель\n",
        "  lasso = Lasso(alpha=alpha_l1, max_iter=10000)\n",
        "  \n",
        "  score = cross_validate(lasso, X, y, cv=cv, scoring=\"neg_mean_absolute_error\", n_jobs=-1)\n",
        "  score = -score['test_score'].mean()\n",
        "\n",
        "  return score\n",
        "\n",
        "# cоздаем объект исследования\n",
        "study_lasso = optuna.create_study(study_name=\"Lasso_one\", direction=\"minimize\")\n",
        "# ищем лучшую комбинацию гиперпараметров n_trials раз\n",
        "study_lasso.optimize(optuna_lasso, n_trials=50)"
      ]
    },
    {
      "cell_type": "code",
      "execution_count": 106,
      "id": "IJ5b5G8qFz-r",
      "metadata": {
        "id": "IJ5b5G8qFz-r"
      },
      "outputs": [
        {
          "name": "stdout",
          "output_type": "stream",
          "text": [
            "MAE на тренировочных фолдах: 78.04 млн. кубических футов\n",
            "MAE на валидационных фолдах: 95.66 млн. кубических футов\n",
            "MAPE на тренировочных фолдах: 1.82 %\n",
            "MAPE на валидационных фолдах: 2.28 %\n"
          ]
        }
      ],
      "source": [
        "lasso = Lasso(**study_lasso.best_params, max_iter=10000)\n",
        "\n",
        "mae_lasso = cross_validate(lasso, X_sc, y, scoring='neg_mean_absolute_error', cv=5, return_train_score=True)\n",
        "mape_lasso = cross_validate(lasso, X_sc, y, scoring='neg_mean_absolute_percentage_error', cv=5, return_train_score=True)\n",
        "\n",
        "print('MAE на тренировочных фолдах: {:.2f} млн. кубических футов'.format(-mae_lasso['train_score'].mean()))\n",
        "print('MAE на валидационных фолдах: {:.2f} млн. кубических футов'.format(-mae_lasso['test_score'].mean()))\n",
        "print('MAPE на тренировочных фолдах: {:.2f} %'.format(-mape_lasso['train_score'].mean() *100))\n",
        "print('MAPE на валидационных фолдах: {:.2f} %'.format(-mape_lasso['test_score'].mean() *100))"
      ]
    },
    {
      "cell_type": "markdown",
      "id": "Se0OGR8UF2Td",
      "metadata": {
        "id": "Se0OGR8UF2Td"
      },
      "source": [
        "Результаты метрик стали лучше чем без регуляризации. Переобучения не наблюдается."
      ]
    },
    {
      "cell_type": "markdown",
      "id": "2975ae60",
      "metadata": {
        "id": "2975ae60"
      },
      "source": [
        "### Задание 8.3. (2 балла)\n",
        "\n",
        "Проделаем то же самое с $L_2$-регуляризацией.\n",
        "\n",
        "Обучите модель `Ridge` из библиотеки `sklearn` на полученных полиномиальных факторах, предварительно стандартизировав факторы. \n",
        "\n",
        "Коэффициент регуляризации (`alpha`) подберите самостоятельно с помощью любого известного вам метода подбора гиперпаметров.\n",
        "\n",
        "Используя кросс-валидацию оцените среднее значение выбранной вами метрики (или метрик) на тренировочных и валидационных фолдах.\n",
        "\n",
        "Проинтерпретируйте полученные результаты."
      ]
    },
    {
      "cell_type": "code",
      "execution_count": 107,
      "id": "UfPGyNsjGGS8",
      "metadata": {
        "id": "UfPGyNsjGGS8"
      },
      "outputs": [
        {
          "name": "stderr",
          "output_type": "stream",
          "text": [
            "[I 2024-06-14 20:09:25,869] A new study created in memory with name: Ridge_one\n",
            "[I 2024-06-14 20:09:25,905] Trial 0 finished with value: 175.74087431700582 and parameters: {'alpha': 17.02}. Best is trial 0 with value: 175.74087431700582.\n",
            "[I 2024-06-14 20:09:25,934] Trial 1 finished with value: 178.86083542554147 and parameters: {'alpha': 17.990000000000002}. Best is trial 0 with value: 175.74087431700582.\n",
            "[I 2024-06-14 20:09:25,962] Trial 2 finished with value: 207.30696777830508 and parameters: {'alpha': 28.21}. Best is trial 0 with value: 175.74087431700582.\n",
            "[I 2024-06-14 20:09:25,997] Trial 3 finished with value: 113.23089636902012 and parameters: {'alpha': 1.52}. Best is trial 3 with value: 113.23089636902012.\n",
            "[I 2024-06-14 20:09:26,040] Trial 4 finished with value: 200.1656272854661 and parameters: {'alpha': 25.41}. Best is trial 3 with value: 113.23089636902012.\n",
            "[I 2024-06-14 20:09:26,070] Trial 5 finished with value: 192.3699601789636 and parameters: {'alpha': 22.52}. Best is trial 3 with value: 113.23089636902012.\n",
            "[I 2024-06-14 20:09:26,098] Trial 6 finished with value: 178.09350581814618 and parameters: {'alpha': 17.75}. Best is trial 3 with value: 113.23089636902012.\n",
            "[I 2024-06-14 20:09:26,130] Trial 7 finished with value: 176.13350456496767 and parameters: {'alpha': 17.14}. Best is trial 3 with value: 113.23089636902012.\n",
            "[I 2024-06-14 20:09:26,160] Trial 8 finished with value: 196.09219063582032 and parameters: {'alpha': 23.88}. Best is trial 3 with value: 113.23089636902012.\n",
            "[I 2024-06-14 20:09:26,188] Trial 9 finished with value: 132.6654753545009 and parameters: {'alpha': 6.09}. Best is trial 3 with value: 113.23089636902012.\n",
            "[I 2024-06-14 20:09:26,226] Trial 10 finished with value: 110.16687735977489 and parameters: {'alpha': 0.35000000000000003}. Best is trial 10 with value: 110.16687735977489.\n",
            "[I 2024-06-14 20:09:26,263] Trial 11 finished with value: 110.4412733568503 and parameters: {'alpha': 0.54}. Best is trial 10 with value: 110.16687735977489.\n",
            "[I 2024-06-14 20:09:26,298] Trial 12 finished with value: 141.44752860383457 and parameters: {'alpha': 8.0}. Best is trial 10 with value: 110.16687735977489.\n",
            "[I 2024-06-14 20:09:26,332] Trial 13 finished with value: 111.42898637828667 and parameters: {'alpha': 0.98}. Best is trial 10 with value: 110.16687735977489.\n",
            "[I 2024-06-14 20:09:26,371] Trial 14 finished with value: 145.91730875777813 and parameters: {'alpha': 9.03}. Best is trial 10 with value: 110.16687735977489.\n",
            "[I 2024-06-14 20:09:26,406] Trial 15 finished with value: 156.74938112373192 and parameters: {'alpha': 11.72}. Best is trial 10 with value: 110.16687735977489.\n",
            "[I 2024-06-14 20:09:26,444] Trial 16 finished with value: 123.07950163941743 and parameters: {'alpha': 4.03}. Best is trial 10 with value: 110.16687735977489.\n",
            "[I 2024-06-14 20:09:26,482] Trial 17 finished with value: 161.4307099374399 and parameters: {'alpha': 12.92}. Best is trial 10 with value: 110.16687735977489.\n",
            "[I 2024-06-14 20:09:26,518] Trial 18 finished with value: 110.17908725461845 and parameters: {'alpha': 0.36}. Best is trial 10 with value: 110.16687735977489.\n",
            "[I 2024-06-14 20:09:26,555] Trial 19 finished with value: 123.12662718280646 and parameters: {'alpha': 4.04}. Best is trial 10 with value: 110.16687735977489.\n",
            "[I 2024-06-14 20:09:26,592] Trial 20 finished with value: 123.36132822975966 and parameters: {'alpha': 4.09}. Best is trial 10 with value: 110.16687735977489.\n",
            "[I 2024-06-14 20:09:26,629] Trial 21 finished with value: 110.47360945493969 and parameters: {'alpha': 0.0}. Best is trial 10 with value: 110.16687735977489.\n",
            "[I 2024-06-14 20:09:26,667] Trial 22 finished with value: 117.5772175372878 and parameters: {'alpha': 2.68}. Best is trial 10 with value: 110.16687735977489.\n",
            "[I 2024-06-14 20:09:26,704] Trial 23 finished with value: 136.2291920803946 and parameters: {'alpha': 6.87}. Best is trial 10 with value: 110.16687735977489.\n",
            "[I 2024-06-14 20:09:26,742] Trial 24 finished with value: 152.12019157793333 and parameters: {'alpha': 10.55}. Best is trial 10 with value: 110.16687735977489.\n",
            "[I 2024-06-14 20:09:26,781] Trial 25 finished with value: 128.76125123753818 and parameters: {'alpha': 5.25}. Best is trial 10 with value: 110.16687735977489.\n",
            "[I 2024-06-14 20:09:26,825] Trial 26 finished with value: 110.08127688623173 and parameters: {'alpha': 0.27}. Best is trial 26 with value: 110.08127688623173.\n",
            "[I 2024-06-14 20:09:26,867] Trial 27 finished with value: 116.2213999888078 and parameters: {'alpha': 2.34}. Best is trial 26 with value: 110.08127688623173.\n",
            "[I 2024-06-14 20:09:26,907] Trial 28 finished with value: 119.64983078135973 and parameters: {'alpha': 3.19}. Best is trial 26 with value: 110.08127688623173.\n",
            "[I 2024-06-14 20:09:26,945] Trial 29 finished with value: 142.60551143682767 and parameters: {'alpha': 8.26}. Best is trial 26 with value: 110.08127688623173.\n",
            "[I 2024-06-14 20:09:26,986] Trial 30 finished with value: 164.55419880475986 and parameters: {'alpha': 13.76}. Best is trial 26 with value: 110.08127688623173.\n",
            "[I 2024-06-14 20:09:27,024] Trial 31 finished with value: 110.07273572466124 and parameters: {'alpha': 0.17}. Best is trial 31 with value: 110.07273572466124.\n",
            "[I 2024-06-14 20:09:27,066] Trial 32 finished with value: 110.09922153616512 and parameters: {'alpha': 0.13}. Best is trial 31 with value: 110.07273572466124.\n",
            "[I 2024-06-14 20:09:27,106] Trial 33 finished with value: 129.77976735289525 and parameters: {'alpha': 5.47}. Best is trial 31 with value: 110.07273572466124.\n",
            "[I 2024-06-14 20:09:27,147] Trial 34 finished with value: 186.23154743944102 and parameters: {'alpha': 20.38}. Best is trial 31 with value: 110.07273572466124.\n",
            "[I 2024-06-14 20:09:27,185] Trial 35 finished with value: 114.64924024539589 and parameters: {'alpha': 1.9000000000000001}. Best is trial 31 with value: 110.07273572466124.\n",
            "[I 2024-06-14 20:09:27,224] Trial 36 finished with value: 206.9401514302223 and parameters: {'alpha': 28.060000000000002}. Best is trial 31 with value: 110.07273572466124.\n",
            "[I 2024-06-14 20:09:27,266] Trial 37 finished with value: 114.50353273589641 and parameters: {'alpha': 1.86}. Best is trial 31 with value: 110.07273572466124.\n",
            "[I 2024-06-14 20:09:27,336] Trial 38 finished with value: 126.93979621065792 and parameters: {'alpha': 4.8500000000000005}. Best is trial 31 with value: 110.07273572466124.\n",
            "[I 2024-06-14 20:09:27,433] Trial 39 finished with value: 171.27932200280443 and parameters: {'alpha': 15.68}. Best is trial 31 with value: 110.07273572466124.\n",
            "[I 2024-06-14 20:09:27,481] Trial 40 finished with value: 137.97380263261826 and parameters: {'alpha': 7.24}. Best is trial 31 with value: 110.07273572466124.\n",
            "[I 2024-06-14 20:09:27,522] Trial 41 finished with value: 110.41404910793531 and parameters: {'alpha': 0.01}. Best is trial 31 with value: 110.07273572466124.\n",
            "[I 2024-06-14 20:09:27,561] Trial 42 finished with value: 112.77043566452463 and parameters: {'alpha': 1.3900000000000001}. Best is trial 31 with value: 110.07273572466124.\n",
            "[I 2024-06-14 20:09:27,604] Trial 43 finished with value: 117.7769137444171 and parameters: {'alpha': 2.73}. Best is trial 31 with value: 110.07273572466124.\n",
            "[I 2024-06-14 20:09:27,642] Trial 44 finished with value: 110.07615467615986 and parameters: {'alpha': 0.26}. Best is trial 31 with value: 110.07273572466124.\n",
            "[I 2024-06-14 20:09:27,682] Trial 45 finished with value: 120.20118122290042 and parameters: {'alpha': 3.33}. Best is trial 31 with value: 110.07273572466124.\n",
            "[I 2024-06-14 20:09:27,720] Trial 46 finished with value: 112.83741946281823 and parameters: {'alpha': 1.41}. Best is trial 31 with value: 110.07273572466124.\n",
            "[I 2024-06-14 20:09:27,760] Trial 47 finished with value: 132.48166138718997 and parameters: {'alpha': 6.05}. Best is trial 31 with value: 110.07273572466124.\n",
            "[I 2024-06-14 20:09:27,797] Trial 48 finished with value: 149.1686046354349 and parameters: {'alpha': 9.81}. Best is trial 31 with value: 110.07273572466124.\n",
            "[I 2024-06-14 20:09:27,836] Trial 49 finished with value: 181.45049331767274 and parameters: {'alpha': 18.81}. Best is trial 31 with value: 110.07273572466124.\n"
          ]
        },
        {
          "name": "stdout",
          "output_type": "stream",
          "text": [
            "MAE на тренировочных фолдах: 75.37 млн. кубических футов\n",
            "MAE на валидационных фолдах: 110.07 млн. кубических футов\n",
            "MAPE на тренировочных фолдах: 1.77 %\n",
            "MAPE на валидационных фолдах: 2.67 %\n"
          ]
        }
      ],
      "source": [
        "def optuna_ridge(trial, cv=5, X=X_sc, y=y):\n",
        "  # задаем пространства поиска гиперпараметров\n",
        "  alpha_l2= trial.suggest_float('alpha', 0, 30, step=0.01)\n",
        "\n",
        "  # создаем модель\n",
        "  ridge = Ridge(alpha=alpha_l2, max_iter=10000)\n",
        "  \n",
        "  score = cross_validate(ridge, X, y, cv=cv, scoring=\"neg_mean_absolute_error\", n_jobs=-1)\n",
        "  score = -score['test_score'].mean()\n",
        "\n",
        "  return score\n",
        "\n",
        "# cоздаем объект исследования\n",
        "study_ridge = optuna.create_study(study_name=\"Ridge_one\", direction=\"minimize\")\n",
        "# ищем лучшую комбинацию гиперпараметров n_trials раз\n",
        "study_ridge.optimize(optuna_ridge, n_trials=50)\n",
        "\n",
        "ridge = Ridge(**study_ridge.best_params, max_iter=10000)\n",
        "\n",
        "mae_ridge = cross_validate(ridge, X_sc, y, scoring='neg_mean_absolute_error', cv=5, return_train_score=True)\n",
        "mape_ridge = cross_validate(ridge, X_sc, y, scoring='neg_mean_absolute_percentage_error', cv=5, return_train_score=True)\n",
        "\n",
        "print('MAE на тренировочных фолдах: {:.2f} млн. кубических футов'.format(-mae_ridge['train_score'].mean()))\n",
        "print('MAE на валидационных фолдах: {:.2f} млн. кубических футов'.format(-mae_ridge['test_score'].mean()))\n",
        "print('MAPE на тренировочных фолдах: {:.2f} %'.format(-mape_ridge['train_score'].mean() *100))\n",
        "print('MAPE на валидационных фолдах: {:.2f} %'.format(-mape_ridge['test_score'].mean() *100))"
      ]
    },
    {
      "cell_type": "markdown",
      "id": "dQBd7ny_GIi1",
      "metadata": {
        "id": "dQBd7ny_GIi1"
      },
      "source": [
        "Переобучения нет, но результаты метрик хуже чем с L1 регуляризацией, они почти такие же как без регуляризации."
      ]
    },
    {
      "cell_type": "markdown",
      "id": "86pXnWE7-5ch",
      "metadata": {
        "id": "86pXnWE7-5ch"
      },
      "source": [
        "**Критерии оценивания:**\n",
        "\n",
        "- Задание выполнено верно, учтены все условия (**2 балла**): \n",
        "    * правильно построена модель полиномиальной регрессии (линейной регрессии на полиномиальных признаках) с регуляризацией (Ridge), учтены условия необходимости масштабирования факторов для построения модели;\n",
        "    * приведён код для подбора параметра регуляризации (вручную или с помощью библиотечных инструментов);\n",
        "    * с помощью кросс-валидации оценено среднее значение выбранной студентом метрики (или метрик) на тренировочных и валидационных фолдах (метрика должна быть выбрана корректно).\n",
        "\n",
        "- Задание выполнено верно, но не учтено одно из условий (**1 балл**).\n",
        "- Задание выполнено неверно, не учтено несколько условий (**0 баллов**)."
      ]
    },
    {
      "cell_type": "markdown",
      "id": "7ad85b78",
      "metadata": {
        "id": "7ad85b78"
      },
      "source": [
        "### Задание 8.4. (2 балла)\n",
        "\n",
        "Наконец, настало время комбинировать $L_1$ и $L_2$ -регуляризации.\n",
        "\n",
        "Обучите модель `ElasticNet` из библиотеки `sklearn` на полученных полиномиальных факторах, предварительно стандартизировав факторы. \n",
        "\n",
        "Коэффициенты регуляризации (`alpha` и `l1-ratio`) подберите самостоятельно с помощью любого известного вам метода подбора гиперпаметров.\n",
        "\n",
        "Используя кросс-валидацию, оцените среднее значение метрики MAPE на тренировочных и валидационных фолдах.\n",
        "\n",
        "Проинтерпретируйте полученные результаты."
      ]
    },
    {
      "cell_type": "markdown",
      "id": "sy8ESceQ-__u",
      "metadata": {
        "id": "sy8ESceQ-__u"
      },
      "source": [
        "**Критерии оценивания:**\n",
        "\n",
        "- Задание выполнено верно, учтены все условия (**2 балла**): \n",
        "    * правильно построена модель полиномиальной регрессии (линейной регрессии на полиномиальных признаках) с регуляризацией (ElasticNet), учтены условия необходимости масштабирования факторов для построения модели;\n",
        "    * приведён код для подбора параметра регуляризации (вручную или с помощью библиотечных инструментов);\n",
        "    * с помощью кросс-валидации оценено среднее значение выбранной студентом метрики (или метрик) на тренировочных и валидационных фолдах (метрика должна быть выбрана корректно).\n",
        "\n",
        "- Задание выполнено верно, но не учтено одно из условий (**1 балл**).\n",
        "- Задание выполнено неверно, не учтено несколько условий (**0 баллов**)."
      ]
    },
    {
      "cell_type": "code",
      "execution_count": 110,
      "id": "-Yi3P20hQnLS",
      "metadata": {
        "id": "-Yi3P20hQnLS"
      },
      "outputs": [
        {
          "name": "stderr",
          "output_type": "stream",
          "text": [
            "[I 2024-06-14 20:11:15,555] A new study created in memory with name: En_one\n",
            "[I 2024-06-14 20:11:15,593] Trial 0 finished with value: 518.7830919974642 and parameters: {'alpha': 22.12, 'l1_ratio': 0.71}. Best is trial 0 with value: 518.7830919974642.\n",
            "[I 2024-06-14 20:11:15,629] Trial 1 finished with value: 413.48517944066117 and parameters: {'alpha': 26.47, 'l1_ratio': 0.9400000000000001}. Best is trial 1 with value: 413.48517944066117.\n",
            "c:\\Python\\Python312\\Lib\\site-packages\\sklearn\\linear_model\\_coordinate_descent.py:678: ConvergenceWarning: Objective did not converge. You might want to increase the number of iterations, check the scale of the features or consider increasing regularisation. Duality gap: 6.489e+07, tolerance: 1.958e+04 Linear regression models with null weight for the l1 regularization term are more efficiently fitted using one of the solvers implemented in sklearn.linear_model.Ridge/RidgeCV instead.\n",
            "  model = cd_fast.enet_coordinate_descent(\n",
            "[I 2024-06-14 20:11:15,912] Trial 2 finished with value: 592.4619715286206 and parameters: {'alpha': 16.16, 'l1_ratio': 0.0}. Best is trial 1 with value: 413.48517944066117.\n",
            "[I 2024-06-14 20:11:15,945] Trial 3 finished with value: 182.24510554159775 and parameters: {'alpha': 11.01, 'l1_ratio': 0.99}. Best is trial 3 with value: 182.24510554159775.\n",
            "[I 2024-06-14 20:11:15,978] Trial 4 finished with value: 558.1879658933406 and parameters: {'alpha': 18.71, 'l1_ratio': 0.42}. Best is trial 3 with value: 182.24510554159775.\n",
            "[I 2024-06-14 20:11:16,009] Trial 5 finished with value: 394.01590073906414 and parameters: {'alpha': 4.13, 'l1_ratio': 0.62}. Best is trial 3 with value: 182.24510554159775.\n",
            "[I 2024-06-14 20:11:16,043] Trial 6 finished with value: 502.31132177284735 and parameters: {'alpha': 21.650000000000002, 'l1_ratio': 0.76}. Best is trial 3 with value: 182.24510554159775.\n",
            "[I 2024-06-14 20:11:16,073] Trial 7 finished with value: 402.03914666367154 and parameters: {'alpha': 27.38, 'l1_ratio': 0.9500000000000001}. Best is trial 3 with value: 182.24510554159775.\n",
            "[I 2024-06-14 20:11:16,105] Trial 8 finished with value: 491.18416188831816 and parameters: {'alpha': 7.3, 'l1_ratio': 0.32}. Best is trial 3 with value: 182.24510554159775.\n",
            "[I 2024-06-14 20:11:16,138] Trial 9 finished with value: 612.3420877239977 and parameters: {'alpha': 24.93, 'l1_ratio': 0.21}. Best is trial 3 with value: 182.24510554159775.\n",
            "[I 2024-06-14 20:11:16,183] Trial 10 finished with value: 180.99255203330046 and parameters: {'alpha': 10.83, 'l1_ratio': 0.99}. Best is trial 10 with value: 180.99255203330046.\n",
            "[I 2024-06-14 20:11:16,231] Trial 11 finished with value: 101.53363915258458 and parameters: {'alpha': 11.07, 'l1_ratio': 1.0}. Best is trial 11 with value: 101.53363915258458.\n",
            "[I 2024-06-14 20:11:16,280] Trial 12 finished with value: 424.53421813979656 and parameters: {'alpha': 11.15, 'l1_ratio': 0.81}. Best is trial 11 with value: 101.53363915258458.\n",
            "[I 2024-06-14 20:11:16,327] Trial 13 finished with value: 356.4062325093409 and parameters: {'alpha': 2.4, 'l1_ratio': 0.5700000000000001}. Best is trial 11 with value: 101.53363915258458.\n",
            "[I 2024-06-14 20:11:16,378] Trial 14 finished with value: 403.9038497966597 and parameters: {'alpha': 11.06, 'l1_ratio': 0.85}. Best is trial 11 with value: 101.53363915258458.\n",
            "[I 2024-06-14 20:11:16,428] Trial 15 finished with value: 430.2817368131702 and parameters: {'alpha': 7.140000000000001, 'l1_ratio': 0.67}. Best is trial 11 with value: 101.53363915258458.\n",
            "[I 2024-06-14 20:11:16,480] Trial 16 finished with value: 420.4042319999504 and parameters: {'alpha': 14.01, 'l1_ratio': 0.86}. Best is trial 11 with value: 101.53363915258458.\n",
            "[I 2024-06-14 20:11:16,531] Trial 17 finished with value: 96.03135391348212 and parameters: {'alpha': 6.36, 'l1_ratio': 1.0}. Best is trial 17 with value: 96.03135391348212.\n",
            "[I 2024-06-14 20:11:16,588] Trial 18 finished with value: 438.4685853084605 and parameters: {'alpha': 5.28, 'l1_ratio': 0.5}. Best is trial 17 with value: 96.03135391348212.\n",
            "[I 2024-06-14 20:11:16,638] Trial 19 finished with value: 295.1112357273076 and parameters: {'alpha': 0.58, 'l1_ratio': 0.09}. Best is trial 17 with value: 96.03135391348212.\n",
            "[I 2024-06-14 20:11:16,692] Trial 20 finished with value: 406.0103767350678 and parameters: {'alpha': 14.91, 'l1_ratio': 0.89}. Best is trial 17 with value: 96.03135391348212.\n",
            "[I 2024-06-14 20:11:16,745] Trial 21 finished with value: 98.48521242709118 and parameters: {'alpha': 8.82, 'l1_ratio': 1.0}. Best is trial 17 with value: 96.03135391348212.\n",
            "[I 2024-06-14 20:11:16,800] Trial 22 finished with value: 97.6144432777497 and parameters: {'alpha': 8.120000000000001, 'l1_ratio': 1.0}. Best is trial 17 with value: 96.03135391348212.\n",
            "[I 2024-06-14 20:11:16,855] Trial 23 finished with value: 405.2213832263725 and parameters: {'alpha': 7.88, 'l1_ratio': 0.78}. Best is trial 17 with value: 96.03135391348212.\n",
            "[I 2024-06-14 20:11:16,911] Trial 24 finished with value: 314.30779275283004 and parameters: {'alpha': 5.2, 'l1_ratio': 0.88}. Best is trial 17 with value: 96.03135391348212.\n",
            "[I 2024-06-14 20:11:16,965] Trial 25 finished with value: 338.4702432293931 and parameters: {'alpha': 8.76, 'l1_ratio': 0.91}. Best is trial 17 with value: 96.03135391348212.\n",
            "[I 2024-06-14 20:11:17,019] Trial 26 finished with value: 161.24985713349625 and parameters: {'alpha': 0.35000000000000003, 'l1_ratio': 0.77}. Best is trial 17 with value: 96.03135391348212.\n",
            "[I 2024-06-14 20:11:17,074] Trial 27 finished with value: 344.9183777719199 and parameters: {'alpha': 2.82, 'l1_ratio': 0.68}. Best is trial 17 with value: 96.03135391348212.\n",
            "[I 2024-06-14 20:11:17,130] Trial 28 finished with value: 504.8961419656986 and parameters: {'alpha': 29.88, 'l1_ratio': 0.8300000000000001}. Best is trial 17 with value: 96.03135391348212.\n",
            "[I 2024-06-14 20:11:17,181] Trial 29 finished with value: 470.69559699496915 and parameters: {'alpha': 13.13, 'l1_ratio': 0.72}. Best is trial 17 with value: 96.03135391348212.\n",
            "[I 2024-06-14 20:11:17,234] Trial 30 finished with value: 321.9638594149973 and parameters: {'alpha': 9.290000000000001, 'l1_ratio': 0.93}. Best is trial 17 with value: 96.03135391348212.\n",
            "[I 2024-06-14 20:11:17,286] Trial 31 finished with value: 221.30059037370793 and parameters: {'alpha': 17.5, 'l1_ratio': 0.99}. Best is trial 17 with value: 96.03135391348212.\n",
            "[I 2024-06-14 20:11:17,340] Trial 32 finished with value: 103.35667765614912 and parameters: {'alpha': 13.23, 'l1_ratio': 1.0}. Best is trial 17 with value: 96.03135391348212.\n",
            "[I 2024-06-14 20:11:17,397] Trial 33 finished with value: 279.84753497528664 and parameters: {'alpha': 6.01, 'l1_ratio': 0.93}. Best is trial 17 with value: 96.03135391348212.\n",
            "[I 2024-06-14 20:11:17,445] Trial 34 finished with value: 100.06925069824652 and parameters: {'alpha': 10.06, 'l1_ratio': 1.0}. Best is trial 17 with value: 96.03135391348212.\n",
            "[I 2024-06-14 20:11:17,499] Trial 35 finished with value: 325.23502242759093 and parameters: {'alpha': 9.61, 'l1_ratio': 0.93}. Best is trial 17 with value: 96.03135391348212.\n",
            "[I 2024-06-14 20:11:17,551] Trial 36 finished with value: 292.63223820477003 and parameters: {'alpha': 3.13, 'l1_ratio': 0.84}. Best is trial 17 with value: 96.03135391348212.\n",
            "[I 2024-06-14 20:11:17,599] Trial 37 finished with value: 466.0155924757686 and parameters: {'alpha': 6.09, 'l1_ratio': 0.4}. Best is trial 17 with value: 96.03135391348212.\n",
            "[I 2024-06-14 20:11:17,648] Trial 38 finished with value: 364.3387060291734 and parameters: {'alpha': 16.34, 'l1_ratio': 0.9400000000000001}. Best is trial 17 with value: 96.03135391348212.\n",
            "[I 2024-06-14 20:11:17,700] Trial 39 finished with value: 460.3901945217878 and parameters: {'alpha': 12.49, 'l1_ratio': 0.74}. Best is trial 17 with value: 96.03135391348212.\n",
            "[I 2024-06-14 20:11:17,751] Trial 40 finished with value: 263.598224790518 and parameters: {'alpha': 8.42, 'l1_ratio': 0.96}. Best is trial 17 with value: 96.03135391348212.\n",
            "[I 2024-06-14 20:11:17,802] Trial 41 finished with value: 99.70882288983822 and parameters: {'alpha': 9.78, 'l1_ratio': 1.0}. Best is trial 17 with value: 96.03135391348212.\n",
            "[I 2024-06-14 20:11:17,850] Trial 42 finished with value: 332.5798256072567 and parameters: {'alpha': 6.84, 'l1_ratio': 0.89}. Best is trial 17 with value: 96.03135391348212.\n",
            "[I 2024-06-14 20:11:17,900] Trial 43 finished with value: 95.96267634369828 and parameters: {'alpha': 3.88, 'l1_ratio': 1.0}. Best is trial 43 with value: 95.96267634369828.\n",
            "[I 2024-06-14 20:11:17,989] Trial 44 finished with value: 210.84059803432174 and parameters: {'alpha': 4.47, 'l1_ratio': 0.96}. Best is trial 43 with value: 95.96267634369828.\n",
            "[I 2024-06-14 20:11:18,082] Trial 45 finished with value: 236.83459367625878 and parameters: {'alpha': 1.46, 'l1_ratio': 0.8200000000000001}. Best is trial 43 with value: 95.96267634369828.\n",
            "[I 2024-06-14 20:11:18,145] Trial 46 finished with value: 439.2150227575248 and parameters: {'alpha': 21.13, 'l1_ratio': 0.89}. Best is trial 43 with value: 95.96267634369828.\n",
            "[I 2024-06-14 20:11:18,195] Trial 47 finished with value: 197.9614153171468 and parameters: {'alpha': 3.75, 'l1_ratio': 0.96}. Best is trial 43 with value: 95.96267634369828.\n",
            "[I 2024-06-14 20:11:18,247] Trial 48 finished with value: 455.5712674453813 and parameters: {'alpha': 7.930000000000001, 'l1_ratio': 0.6}. Best is trial 43 with value: 95.96267634369828.\n",
            "[I 2024-06-14 20:11:18,296] Trial 49 finished with value: 436.6486850332388 and parameters: {'alpha': 12.19, 'l1_ratio': 0.8}. Best is trial 43 with value: 95.96267634369828.\n"
          ]
        },
        {
          "name": "stdout",
          "output_type": "stream",
          "text": [
            "MAE на тренировочных фолдах: 77.56 млн. кубических футов\n",
            "MAE на валидационных фолдах: 95.96 млн. кубических футов\n",
            "MAPE на тренировочных фолдах: 1.81 %\n",
            "MAPE на валидационных фолдах: 2.29 %\n"
          ]
        }
      ],
      "source": [
        "def optuna_en(trial, cv=5, X=X_sc, y=y):\n",
        "  # задаем пространства поиска гиперпараметров\n",
        "  alpha_l1= trial.suggest_float('alpha', 0, 30, step=0.01)\n",
        "  l1_rat= trial.suggest_float('l1_ratio', 0, 1, step=0.01)\n",
        "\n",
        "  # создаем модель\n",
        "  en = ElasticNet(alpha=alpha_l1, l1_ratio=l1_rat, max_iter=10000)\n",
        "  en.fit(X, y)\n",
        "  \n",
        "  score = cross_validate(en, X, y, cv=cv, scoring=\"neg_mean_absolute_error\", n_jobs=-1)\n",
        "  score = -score['test_score'].mean()\n",
        "\n",
        "  return score\n",
        "\n",
        "# cоздаем объект исследования\n",
        "study_en = optuna.create_study(study_name=\"En_one\", direction=\"minimize\")\n",
        "# ищем лучшую комбинацию гиперпараметров n_trials раз\n",
        "study_en.optimize(optuna_en, n_trials=50)\n",
        "\n",
        "en = ElasticNet(**study_en.best_params, max_iter=10000)\n",
        "\n",
        "mae_en = cross_validate(en, X_sc, y, scoring='neg_mean_absolute_error', cv=5, return_train_score=True)\n",
        "mape_en = cross_validate(en, X_sc, y, scoring='neg_mean_absolute_percentage_error', cv=5, return_train_score=True)\n",
        "\n",
        "print('MAE на тренировочных фолдах: {:.2f} млн. кубических футов'.format(-mae_en['train_score'].mean()))\n",
        "print('MAE на валидационных фолдах: {:.2f} млн. кубических футов'.format(-mae_en['test_score'].mean()))\n",
        "print('MAPE на тренировочных фолдах: {:.2f} %'.format(-mape_en['train_score'].mean() *100))\n",
        "print('MAPE на валидационных фолдах: {:.2f} %'.format(-mape_en['test_score'].mean() *100))"
      ]
    },
    {
      "cell_type": "markdown",
      "id": "er2lAiE9QpAb",
      "metadata": {
        "id": "er2lAiE9QpAb"
      },
      "source": [
        "Результаты метрик получились почти один в один как с L1 регуляризацией. Видимо это произошло из-за достаточно большого подобранного значения коэффициента L1."
      ]
    },
    {
      "cell_type": "markdown",
      "id": "91c6e1d1",
      "metadata": {
        "id": "91c6e1d1"
      },
      "source": [
        "### Задание 8.5. (1 балл)\n",
        "\n",
        "Завершением вашей работы будет сводная таблица результатов, которую вы представите на презентации заказчику Василию.\n",
        "\n",
        "Составьте таблицу (DataFrame) со следующими столбцами (имена столбцов выберите самостоятельно):\n",
        "* Наименование модели.\n",
        "* Гиперпараметры (коэффициенты регуляризации, если таковые имеются), если нет — оставьте ячейку пустой.\n",
        "* Использовались ли полиномиальные признаки при построении модели (Да/Нет или True/False).\n",
        "* Значение выбранной метрики на тренировочных фолдах при кросс-валидации модели.\n",
        "* Значение выбранной метрики на валидационных фолдах при кросс-валидации модели.\n",
        "\n",
        "Сделайте финальный вывод по проделанной работе. Какая линейная модель из тех, что мы рассмотрели, показала наилучший результат с точки зрения качества на валидационных фолдах, а также с точки зрения переобученности?"
      ]
    },
    {
      "cell_type": "markdown",
      "id": "OsFRaKkF_nLq",
      "metadata": {
        "id": "OsFRaKkF_nLq"
      },
      "source": [
        "**Критерии оценивания:**\n",
        "\n",
        "- Задание выполнено верно, учтены все условия (**1 балл**): \n",
        "    * верно составлена сводная таблица итоговых результатов построенных ранее моделей с указанными в задании столбцами;\n",
        "    * приведены итоговые выводы по проделанной работе, указано, какая из рассмотренных моделей показала наилучший результат.\n",
        "\n",
        "- Задание выполнено неверно, не учтено одно или несколько условий (**0 баллов**)."
      ]
    },
    {
      "cell_type": "code",
      "execution_count": 121,
      "id": "df5f9464",
      "metadata": {},
      "outputs": [
        {
          "data": {
            "text/plain": [
              "{'alpha': 4.65}"
            ]
          },
          "execution_count": 121,
          "metadata": {},
          "output_type": "execute_result"
        }
      ],
      "source": [
        "study_lasso.best_params"
      ]
    },
    {
      "cell_type": "code",
      "execution_count": 132,
      "id": "wRiys8lKQuqW",
      "metadata": {
        "id": "wRiys8lKQuqW"
      },
      "outputs": [
        {
          "data": {
            "text/html": [
              "<div>\n",
              "<style scoped>\n",
              "    .dataframe tbody tr th:only-of-type {\n",
              "        vertical-align: middle;\n",
              "    }\n",
              "\n",
              "    .dataframe tbody tr th {\n",
              "        vertical-align: top;\n",
              "    }\n",
              "\n",
              "    .dataframe thead th {\n",
              "        text-align: right;\n",
              "    }\n",
              "</style>\n",
              "<table border=\"1\" class=\"dataframe\">\n",
              "  <thead>\n",
              "    <tr style=\"text-align: right;\">\n",
              "      <th></th>\n",
              "      <th>Name_model</th>\n",
              "      <th>Hyperparameters</th>\n",
              "      <th>PolynomialFeatures</th>\n",
              "      <th>MAE_train, млн. куб. футов</th>\n",
              "      <th>MAE_test, млн. куб. футов</th>\n",
              "      <th>MAPE_train, %</th>\n",
              "      <th>MAPE_test, %</th>\n",
              "    </tr>\n",
              "  </thead>\n",
              "  <tbody>\n",
              "    <tr>\n",
              "      <th>0</th>\n",
              "      <td>lr (LinearRegression)</td>\n",
              "      <td></td>\n",
              "      <td>Нет</td>\n",
              "      <td>171.431461</td>\n",
              "      <td></td>\n",
              "      <td>4.044138</td>\n",
              "      <td></td>\n",
              "    </tr>\n",
              "    <tr>\n",
              "      <th>1</th>\n",
              "      <td>lr_poly (LinearRegression)</td>\n",
              "      <td></td>\n",
              "      <td>Да</td>\n",
              "      <td>75.345310</td>\n",
              "      <td>110.473609</td>\n",
              "      <td>1.773240</td>\n",
              "      <td>2.680875</td>\n",
              "    </tr>\n",
              "    <tr>\n",
              "      <th>2</th>\n",
              "      <td>lasso (Lasso)</td>\n",
              "      <td>{'alpha': 4.65}</td>\n",
              "      <td>Да</td>\n",
              "      <td>78.042769</td>\n",
              "      <td>95.662719</td>\n",
              "      <td>1.822107</td>\n",
              "      <td>2.275562</td>\n",
              "    </tr>\n",
              "    <tr>\n",
              "      <th>3</th>\n",
              "      <td>ridge (Ridge)</td>\n",
              "      <td>{'alpha': 0.17}</td>\n",
              "      <td>Да</td>\n",
              "      <td>75.374345</td>\n",
              "      <td>110.072736</td>\n",
              "      <td>1.773209</td>\n",
              "      <td>2.672116</td>\n",
              "    </tr>\n",
              "    <tr>\n",
              "      <th>4</th>\n",
              "      <td>en (ElasticNet)</td>\n",
              "      <td>{'alpha': 3.88, 'l1_ratio': 1.0}</td>\n",
              "      <td>Да</td>\n",
              "      <td>77.562697</td>\n",
              "      <td>95.962676</td>\n",
              "      <td>1.811981</td>\n",
              "      <td>2.286542</td>\n",
              "    </tr>\n",
              "  </tbody>\n",
              "</table>\n",
              "</div>"
            ],
            "text/plain": [
              "                   Name_model                   Hyperparameters  \\\n",
              "0       lr (LinearRegression)                                     \n",
              "1  lr_poly (LinearRegression)                                     \n",
              "2               lasso (Lasso)                   {'alpha': 4.65}   \n",
              "3               ridge (Ridge)                   {'alpha': 0.17}   \n",
              "4             en (ElasticNet)  {'alpha': 3.88, 'l1_ratio': 1.0}   \n",
              "\n",
              "  PolynomialFeatures  MAE_train, млн. куб. футов MAE_test, млн. куб. футов  \\\n",
              "0                Нет                  171.431461                             \n",
              "1                 Да                   75.345310                110.473609   \n",
              "2                 Да                   78.042769                 95.662719   \n",
              "3                 Да                   75.374345                110.072736   \n",
              "4                 Да                   77.562697                 95.962676   \n",
              "\n",
              "   MAPE_train, % MAPE_test, %  \n",
              "0       4.044138               \n",
              "1       1.773240     2.680875  \n",
              "2       1.822107     2.275562  \n",
              "3       1.773209     2.672116  \n",
              "4       1.811981     2.286542  "
            ]
          },
          "execution_count": 132,
          "metadata": {},
          "output_type": "execute_result"
        }
      ],
      "source": [
        "result_data = {'Name_model': ['lr (LinearRegression)', 'lr_poly (LinearRegression)', 'lasso (Lasso)', 'ridge (Ridge)', 'en (ElasticNet)'],\n",
        "               'Hyperparameters':['', '', study_lasso.best_params, study_ridge.best_params, study_en.best_params],\n",
        "               'PolynomialFeatures':['Нет', 'Да', 'Да', 'Да', 'Да'],\n",
        "               'MAE_train, млн. куб. футов':[mae_lr, -results_mae['train_score'].mean(), -mae_lasso['train_score'].mean(), -mae_ridge['train_score'].mean(), -mae_en['train_score'].mean()],\n",
        "               'MAE_test, млн. куб. футов':['', -results_mae['test_score'].mean(), -mae_lasso['test_score'].mean(), -mae_ridge['test_score'].mean(), -mae_en['test_score'].mean()],\n",
        "               'MAPE_train, %':[mape_lr, -results_mape['train_score'].mean()*100, -mape_lasso['train_score'].mean()*100, -mape_ridge['train_score'].mean()*100, -mape_en['train_score'].mean()*100],\n",
        "               'MAPE_test, %':['', -results_mape['test_score'].mean()*100, -mape_lasso['test_score'].mean()*100, -mape_ridge['test_score'].mean()*100, -mape_en['test_score'].mean()*100\n",
        "]}\n",
        "result_data = pd.DataFrame(result_data)\n",
        "result_data"
      ]
    },
    {
      "cell_type": "markdown",
      "id": "UP7_LSoEQsrA",
      "metadata": {
        "id": "UP7_LSoEQsrA"
      },
      "source": [
        "Наилучшие результаты показала модель lasso построенная с использованием полиноминальных признаков, с подобранным с помощью optuna параметром альфа, c регуляризацией L1. С точки зрения переобученности лучшие результаты также принадлежат модели lasso - на фолдах результат немного ниже, чем у elasticnet, а на тренировочных данных немного выше, значит разрыв меньше чем у модели en. По всем параметрам модель lasso занимает первое место."
      ]
    }
  ],
  "metadata": {
    "colab": {
      "provenance": []
    },
    "kernelspec": {
      "display_name": "Python 3.10.8 ('base')",
      "language": "python",
      "name": "python3"
    },
    "language_info": {
      "codemirror_mode": {
        "name": "ipython",
        "version": 3
      },
      "file_extension": ".py",
      "mimetype": "text/x-python",
      "name": "python",
      "nbconvert_exporter": "python",
      "pygments_lexer": "ipython3",
      "version": "3.12.2"
    },
    "vscode": {
      "interpreter": {
        "hash": "86c56a74836ad344b00594bf6f38fa6a676a207ceefe20d101fbc465800ccb8d"
      }
    }
  },
  "nbformat": 4,
  "nbformat_minor": 5
}
