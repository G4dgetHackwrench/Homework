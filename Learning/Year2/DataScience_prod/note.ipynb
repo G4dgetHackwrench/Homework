{
 "cells": [
  {
   "cell_type": "code",
   "execution_count": 1,
   "metadata": {},
   "outputs": [],
   "source": [
    "import requests"
   ]
  },
  {
   "cell_type": "markdown",
   "metadata": {},
   "source": [
    "### 3"
   ]
  },
  {
   "cell_type": "code",
   "execution_count": 8,
   "metadata": {},
   "outputs": [],
   "source": [
    "response = requests.get('http://api.open-notify.org/astros')"
   ]
  },
  {
   "cell_type": "code",
   "execution_count": 9,
   "metadata": {},
   "outputs": [
    {
     "data": {
      "text/plain": [
       "<Response [200]>"
      ]
     },
     "execution_count": 9,
     "metadata": {},
     "output_type": "execute_result"
    }
   ],
   "source": [
    "response"
   ]
  },
  {
   "cell_type": "code",
   "execution_count": 10,
   "metadata": {},
   "outputs": [
    {
     "data": {
      "text/plain": [
       "{'people': [{'craft': 'ISS', 'name': 'Oleg Kononenko'},\n",
       "  {'craft': 'ISS', 'name': 'Nikolai Chub'},\n",
       "  {'craft': 'ISS', 'name': 'Tracy Caldwell Dyson'},\n",
       "  {'craft': 'ISS', 'name': 'Matthew Dominick'},\n",
       "  {'craft': 'ISS', 'name': 'Michael Barratt'},\n",
       "  {'craft': 'ISS', 'name': 'Jeanette Epps'},\n",
       "  {'craft': 'ISS', 'name': 'Alexander Grebenkin'},\n",
       "  {'craft': 'ISS', 'name': 'Butch Wilmore'},\n",
       "  {'craft': 'ISS', 'name': 'Sunita Williams'},\n",
       "  {'craft': 'Tiangong', 'name': 'Li Guangsu'},\n",
       "  {'craft': 'Tiangong', 'name': 'Li Cong'},\n",
       "  {'craft': 'Tiangong', 'name': 'Ye Guangfu'}],\n",
       " 'number': 12,\n",
       " 'message': 'success'}"
      ]
     },
     "execution_count": 10,
     "metadata": {},
     "output_type": "execute_result"
    }
   ],
   "source": [
    "response.json()"
   ]
  },
  {
   "cell_type": "code",
   "execution_count": 13,
   "metadata": {},
   "outputs": [
    {
     "data": {
      "text/plain": [
       "<Response [404]>"
      ]
     },
     "execution_count": 13,
     "metadata": {},
     "output_type": "execute_result"
    }
   ],
   "source": [
    "r_post = requests.post('https://domain.ru/rest/1/854984lkjdsijd432/crm.deal.list')\n",
    "r_post"
   ]
  },
  {
   "cell_type": "code",
   "execution_count": 14,
   "metadata": {},
   "outputs": [],
   "source": [
    "response = requests.post('https://httpbin.org/post', data = \"\"\"{'test': 'cheers'}\"\"\")"
   ]
  },
  {
   "cell_type": "code",
   "execution_count": 16,
   "metadata": {},
   "outputs": [
    {
     "data": {
      "text/plain": [
       "{'args': {},\n",
       " 'data': \"{'test': 'cheers'}\",\n",
       " 'files': {},\n",
       " 'form': {},\n",
       " 'headers': {'Accept': '*/*',\n",
       "  'Accept-Encoding': 'gzip, deflate, br, zstd',\n",
       "  'Content-Length': '18',\n",
       "  'Host': 'httpbin.org',\n",
       "  'User-Agent': 'python-requests/2.32.3',\n",
       "  'X-Amzn-Trace-Id': 'Root=1-67bd693d-78b744fb1b76f770755020fd'},\n",
       " 'json': None,\n",
       " 'origin': '194.34.98.140',\n",
       " 'url': 'https://httpbin.org/post'}"
      ]
     },
     "execution_count": 16,
     "metadata": {},
     "output_type": "execute_result"
    }
   ],
   "source": [
    "response.json()"
   ]
  },
  {
   "cell_type": "code",
   "execution_count": 17,
   "metadata": {},
   "outputs": [
    {
     "data": {
      "text/plain": [
       "{'args': {},\n",
       " 'data': '',\n",
       " 'files': {},\n",
       " 'form': {'name': 'skillFactory student'},\n",
       " 'headers': {'Accept': '*/*',\n",
       "  'Accept-Encoding': 'gzip, deflate, br, zstd',\n",
       "  'Content-Length': '25',\n",
       "  'Content-Type': 'application/x-www-form-urlencoded',\n",
       "  'Host': 'httpbin.org',\n",
       "  'User-Agent': 'python-requests/2.32.3',\n",
       "  'X-Amzn-Trace-Id': 'Root=1-67bd6985-4016744d56d9497b5aad1113'},\n",
       " 'json': None,\n",
       " 'origin': '194.34.98.140',\n",
       " 'url': 'https://httpbin.org/put'}"
      ]
     },
     "execution_count": 17,
     "metadata": {},
     "output_type": "execute_result"
    }
   ],
   "source": [
    "response = requests.put('https://httpbin.org/put', data = {'name':'skillFactory student'})\n",
    "response.json()"
   ]
  },
  {
   "cell_type": "code",
   "execution_count": 20,
   "metadata": {},
   "outputs": [
    {
     "data": {
      "text/plain": [
       "<Response [200]>"
      ]
     },
     "execution_count": 20,
     "metadata": {},
     "output_type": "execute_result"
    }
   ],
   "source": [
    "response = requests.delete('https://httpbin.org/delete', data = {'name':'skillFactory student'})\n",
    "response"
   ]
  },
  {
   "cell_type": "markdown",
   "metadata": {},
   "source": [
    "### 6"
   ]
  },
  {
   "cell_type": "markdown",
   "metadata": {},
   "source": [
    "***В случае отсутствия пользователя с заданными параметрами:***\n",
    "\n",
    "Request URL: http://{host:port}/token\n",
    "parameters: {'user': 'admin', 'password':'12345'}\n",
    "\n",
    "Response Body: \n",
    "{\"error\": 'invalid_grant'\n",
    "\"error_description\":\"Нет такого пользователя или неправильный пароль\"\n",
    "}\n",
    "\n",
    "Response Code: 401"
   ]
  },
  {
   "cell_type": "markdown",
   "metadata": {},
   "source": [
    "***В случае существования пользователя с заданными параметрами:***\n",
    "    \n",
    "Request URL: http://{host:port}/token\n",
    "parameters: {'user': 'admin', 'password':'admin'}\n",
    "\n",
    "Response Body: \n",
    "{\"success\": true\n",
    "}\n",
    "\n",
    "Response Code: 200"
   ]
  },
  {
   "cell_type": "markdown",
   "metadata": {},
   "source": []
  }
 ],
 "metadata": {
  "kernelspec": {
   "display_name": "base",
   "language": "python",
   "name": "python3"
  },
  "language_info": {
   "codemirror_mode": {
    "name": "ipython",
    "version": 3
   },
   "file_extension": ".py",
   "mimetype": "text/x-python",
   "name": "python",
   "nbconvert_exporter": "python",
   "pygments_lexer": "ipython3",
   "version": "3.12.3"
  }
 },
 "nbformat": 4,
 "nbformat_minor": 2
}
