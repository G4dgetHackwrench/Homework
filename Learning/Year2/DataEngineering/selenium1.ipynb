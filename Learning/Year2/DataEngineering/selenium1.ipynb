{
 "cells": [
  {
   "cell_type": "code",
<<<<<<< HEAD
   "execution_count": 1,
=======
   "execution_count": 6,
>>>>>>> 7883b6f (new_system)
   "metadata": {},
   "outputs": [],
   "source": [
    "from selenium import webdriver\n",
<<<<<<< HEAD
    "from selenium.webdriver.chrome.service import Service as EdgeService\n",
=======
    "from selenium.webdriver.chrome.service import Service as ChromeService\n",
    "from selenium.webdriver.common.keys import Keys\n",
>>>>>>> 7883b6f (new_system)
    "from selenium.webdriver.common.by import By\n",
    "import numpy as np"
   ]
  },
  {
   "cell_type": "code",
<<<<<<< HEAD
   "execution_count": 26,
   "metadata": {},
   "outputs": [
    {
     "name": "stdout",
     "output_type": "stream",
     "text": [
      "Шуточный тест для проверки, на самом ли деле вы программист или только так считаете. Также отлично вычисляет гуманитариев. Попробуйте. \n",
      "\n",
      "Начнём с простого. Какую первую программу обычно пишут программисты? \n",
      "\n",
      "Hello world\n",
      "Сортировку «пузырьком»\n",
      "Для взлома аккаунта «ВКонтакте». Такая программа есть у каждого программиста\n",
      "Это вопрос с подвохом. Начинают они с починки утюгов, программы тут не при чём.\n",
      "Правильный ответ:  Hello world\n",
      "91% \n",
      "\n",
      "Бывает ли так, что программа скомпилировалась с первого раза и без ошибок? \n",
      "\n",
      "Да, конечно\n",
      "Нет, это фантастика\n",
      "Правильный ответ:  Нет, это фантастика\n",
      "69% \n",
      "\n",
      "Представим гипотетическую ситуацию, в которой программа всё-таки скомпилировалась с первого раза. Как вы поступите? \n",
      "\n",
      "Выключу комп и спокойно пойду спать — дело сделано\n",
      "Порадуюсь за себя и продолжу писать код\n",
      "Буду искать ошибку в компиляторе, где-то она должна быть\n",
      "Правильный ответ:  Буду искать ошибку в компиляторе, где-то она должна быть\n",
      "71% \n",
      "\n",
      "Движемся дальше. Вопрос на проверку логического мышления. Допустим, вы пишете проект, и заказчик утвердил документ, в котором чётко написано, что он хочет получить в результате. Назовём его ТЗ. Изменятся ли требования в процессе работы над проектом? \n",
      "\n",
      "Изменятся, конечно\n",
      "Не изменятся. Вы же сами сказали, что всё чётко зафиксировано\n",
      "Правильный ответ:  Изменятся, конечно\n",
      "80% \n",
      "\n",
      "Какой правильный ответ на вопрос про рекурсию? \n",
      "\n",
      "Да\n",
      "42\n",
      "Какой правильный ответ на вопрос про рекурсию?\n",
      "Правильный ответ:  Какой правильный ответ на вопрос про рекурсию?\n",
      "74% \n",
      "\n",
      "Представьте, что вы пишете программу и при попытке её сборки компилятор выдал вам одну ошибку. Вы исправили её и пробуете собрать проект ещё раз. Сколько теперь будет ошибок? \n",
      "\n",
      "Была одна, теперь ошибок не будет\n",
      "Неизвестно\n",
      "Правильный ответ:  Неизвестно\n",
      "87% \n",
      "\n",
      "Вы пришли на проект, над которым раньше работал другой программист. Что можно сказать о его коде? \n",
      "\n",
      "Надо сначала детально изучить проект, чтобы понять это\n",
      "Его код просто ужасен, ну кто так пишет!\n",
      "Правильный ответ:  Его код просто ужасен, ну кто так пишет!\n",
      "72% \n",
      "\n",
      "Перед вами три дерева. На том, что посередине, сидит кот. На дереве с каким индексом сидит кот? \n",
      "\n",
      "2\n",
      "1\n",
      "0\n",
      "Правильный ответ:  1\n",
      "76% \n",
      "\n",
      "Теперь чуть сложнее. Что такое Пик Балмера? \n",
      "\n",
      "Гора в Северной Америке\n",
      "Феномен о том, что при определённой концентрации алкоголя в крови программистские способности резко возрастают\n",
      "Яхта Стива Балмера — бывшего генерального директора Microsoft\n",
      "Правильный ответ:  Феномен о том, что при определённой концентрации алкоголя в крови программистские способности резко возрастают\n",
      "59% \n",
      "\n",
      "Что такое стринги? \n",
      "\n",
      "Разновидность мини-трусиков\n",
      "«Верёвки» на английском\n",
      "Несколько переменных типа «строка»\n",
      "Правильный ответ:  Несколько переменных типа «строка»\n",
      "79% \n",
      "\n",
      "Какое максимальное число из перечисленных можно показать пальцами одной руки? \n",
      "\n",
      "5\n",
      "4\n",
      "31\n",
      "32\n",
      "Правильный ответ:  31\n",
      "23% \n",
      "\n",
      "Буратино дали три яблока. Два он съел. Сколько яблок осталось у Буратино? \n",
      "\n",
      "Одно\n",
      "У него не осталось яблок\n",
      "Никто не знает наверняка\n",
      "Правильный ответ:  Никто не знает наверняка\n",
      "70% \n",
      "\n"
=======
   "execution_count": null,
   "metadata": {},
   "outputs": [],
   "source": [
    "# Задаём путь до файла с драйвером для браузера\n",
    "executable_path = './chromedriver-linux64/chromedriver'"
   ]
  },
  {
   "cell_type": "code",
   "execution_count": null,
   "metadata": {},
   "outputs": [],
   "source": [
    "# Создаём веб-драйвер для работы\n",
    "driver = webdriver.Chrome(\n",
    "    service=ChromeService(executable_path=executable_path)\n",
    ")"
   ]
  },
  {
   "cell_type": "code",
   "execution_count": null,
   "metadata": {},
   "outputs": [
    {
     "ename": "ElementClickInterceptedException",
     "evalue": "Message: element click intercepted: Element is not clickable at point (674, 870)\n  (Session info: chrome=134.0.6998.88)\nStacktrace:\n#0 0x5d9f0dd58a1a <unknown>\n#1 0x5d9f0d810390 <unknown>\n#2 0x5d9f0d868afc <unknown>\n#3 0x5d9f0d86695c <unknown>\n#4 0x5d9f0d863ff2 <unknown>\n#5 0x5d9f0d8636f0 <unknown>\n#6 0x5d9f0d855e0d <unknown>\n#7 0x5d9f0d887bd2 <unknown>\n#8 0x5d9f0d85578a <unknown>\n#9 0x5d9f0d887d9e <unknown>\n#10 0x5d9f0d8ae07b <unknown>\n#11 0x5d9f0d8879a3 <unknown>\n#12 0x5d9f0d85360e <unknown>\n#13 0x5d9f0d854dd1 <unknown>\n#14 0x5d9f0dd1eddb <unknown>\n#15 0x5d9f0dd22cbc <unknown>\n#16 0x5d9f0dd06392 <unknown>\n#17 0x5d9f0dd23834 <unknown>\n#18 0x5d9f0dcea1ef <unknown>\n#19 0x5d9f0dd47038 <unknown>\n#20 0x5d9f0dd47216 <unknown>\n#21 0x5d9f0dd57896 <unknown>\n#22 0x71bc1f8a1e2e <unknown>\n#23 0x71bc1f933a4c <unknown>\n",
     "output_type": "error",
     "traceback": [
      "\u001b[0;31m---------------------------------------------------------------------------\u001b[0m",
      "\u001b[0;31mElementClickInterceptedException\u001b[0m          Traceback (most recent call last)",
      "Cell \u001b[0;32mIn[15], line 58\u001b[0m\n\u001b[1;32m     55\u001b[0m     driver\u001b[38;5;241m.\u001b[39mclose()\n\u001b[1;32m     56\u001b[0m     driver\u001b[38;5;241m.\u001b[39mquit()\n\u001b[0;32m---> 58\u001b[0m run(executable_path)\n",
      "Cell \u001b[0;32mIn[15], line 13\u001b[0m, in \u001b[0;36mrun\u001b[0;34m(executable_path)\u001b[0m\n\u001b[1;32m     11\u001b[0m \u001b[38;5;66;03m# Убираем всплывающие окна кукис и уведомления\u001b[39;00m\n\u001b[1;32m     12\u001b[0m cookies \u001b[38;5;241m=\u001b[39m driver\u001b[38;5;241m.\u001b[39mfind_element(by\u001b[38;5;241m=\u001b[39mBy\u001b[38;5;241m.\u001b[39mCLASS_NAME, value\u001b[38;5;241m=\u001b[39m\u001b[38;5;124m'\u001b[39m\u001b[38;5;124mtp-button--tertiary\u001b[39m\u001b[38;5;124m'\u001b[39m)\n\u001b[0;32m---> 13\u001b[0m cookies\u001b[38;5;241m.\u001b[39mclick()\n\u001b[1;32m     14\u001b[0m push \u001b[38;5;241m=\u001b[39m driver\u001b[38;5;241m.\u001b[39mfind_element(by\u001b[38;5;241m=\u001b[39mBy\u001b[38;5;241m.\u001b[39mCLASS_NAME, value\u001b[38;5;241m=\u001b[39m\u001b[38;5;124m'\u001b[39m\u001b[38;5;124mtp-button--extract\u001b[39m\u001b[38;5;124m'\u001b[39m)\n\u001b[1;32m     15\u001b[0m push\u001b[38;5;241m.\u001b[39mclick()\n",
      "File \u001b[0;32m~/anaconda3/lib/python3.12/site-packages/selenium/webdriver/remote/webelement.py:119\u001b[0m, in \u001b[0;36mWebElement.click\u001b[0;34m(self)\u001b[0m\n\u001b[1;32m    111\u001b[0m \u001b[38;5;28;01mdef\u001b[39;00m \u001b[38;5;21mclick\u001b[39m(\u001b[38;5;28mself\u001b[39m) \u001b[38;5;241m-\u001b[39m\u001b[38;5;241m>\u001b[39m \u001b[38;5;28;01mNone\u001b[39;00m:\n\u001b[1;32m    112\u001b[0m \u001b[38;5;250m    \u001b[39m\u001b[38;5;124;03m\"\"\"Clicks the element.\u001b[39;00m\n\u001b[1;32m    113\u001b[0m \n\u001b[1;32m    114\u001b[0m \u001b[38;5;124;03m    Example:\u001b[39;00m\n\u001b[0;32m   (...)\u001b[0m\n\u001b[1;32m    117\u001b[0m \u001b[38;5;124;03m    >>> element.click()\u001b[39;00m\n\u001b[1;32m    118\u001b[0m \u001b[38;5;124;03m    \"\"\"\u001b[39;00m\n\u001b[0;32m--> 119\u001b[0m     \u001b[38;5;28mself\u001b[39m\u001b[38;5;241m.\u001b[39m_execute(Command\u001b[38;5;241m.\u001b[39mCLICK_ELEMENT)\n",
      "File \u001b[0;32m~/anaconda3/lib/python3.12/site-packages/selenium/webdriver/remote/webelement.py:572\u001b[0m, in \u001b[0;36mWebElement._execute\u001b[0;34m(self, command, params)\u001b[0m\n\u001b[1;32m    570\u001b[0m     params \u001b[38;5;241m=\u001b[39m {}\n\u001b[1;32m    571\u001b[0m params[\u001b[38;5;124m\"\u001b[39m\u001b[38;5;124mid\u001b[39m\u001b[38;5;124m\"\u001b[39m] \u001b[38;5;241m=\u001b[39m \u001b[38;5;28mself\u001b[39m\u001b[38;5;241m.\u001b[39m_id\n\u001b[0;32m--> 572\u001b[0m \u001b[38;5;28;01mreturn\u001b[39;00m \u001b[38;5;28mself\u001b[39m\u001b[38;5;241m.\u001b[39m_parent\u001b[38;5;241m.\u001b[39mexecute(command, params)\n",
      "File \u001b[0;32m~/anaconda3/lib/python3.12/site-packages/selenium/webdriver/remote/webdriver.py:429\u001b[0m, in \u001b[0;36mWebDriver.execute\u001b[0;34m(self, driver_command, params)\u001b[0m\n\u001b[1;32m    427\u001b[0m response \u001b[38;5;241m=\u001b[39m \u001b[38;5;28mself\u001b[39m\u001b[38;5;241m.\u001b[39mcommand_executor\u001b[38;5;241m.\u001b[39mexecute(driver_command, params)\n\u001b[1;32m    428\u001b[0m \u001b[38;5;28;01mif\u001b[39;00m response:\n\u001b[0;32m--> 429\u001b[0m     \u001b[38;5;28mself\u001b[39m\u001b[38;5;241m.\u001b[39merror_handler\u001b[38;5;241m.\u001b[39mcheck_response(response)\n\u001b[1;32m    430\u001b[0m     response[\u001b[38;5;124m\"\u001b[39m\u001b[38;5;124mvalue\u001b[39m\u001b[38;5;124m\"\u001b[39m] \u001b[38;5;241m=\u001b[39m \u001b[38;5;28mself\u001b[39m\u001b[38;5;241m.\u001b[39m_unwrap_value(response\u001b[38;5;241m.\u001b[39mget(\u001b[38;5;124m\"\u001b[39m\u001b[38;5;124mvalue\u001b[39m\u001b[38;5;124m\"\u001b[39m, \u001b[38;5;28;01mNone\u001b[39;00m))\n\u001b[1;32m    431\u001b[0m     \u001b[38;5;28;01mreturn\u001b[39;00m response\n",
      "File \u001b[0;32m~/anaconda3/lib/python3.12/site-packages/selenium/webdriver/remote/errorhandler.py:232\u001b[0m, in \u001b[0;36mErrorHandler.check_response\u001b[0;34m(self, response)\u001b[0m\n\u001b[1;32m    230\u001b[0m         alert_text \u001b[38;5;241m=\u001b[39m value[\u001b[38;5;124m\"\u001b[39m\u001b[38;5;124malert\u001b[39m\u001b[38;5;124m\"\u001b[39m]\u001b[38;5;241m.\u001b[39mget(\u001b[38;5;124m\"\u001b[39m\u001b[38;5;124mtext\u001b[39m\u001b[38;5;124m\"\u001b[39m)\n\u001b[1;32m    231\u001b[0m     \u001b[38;5;28;01mraise\u001b[39;00m exception_class(message, screen, stacktrace, alert_text)  \u001b[38;5;66;03m# type: ignore[call-arg]  # mypy is not smart enough here\u001b[39;00m\n\u001b[0;32m--> 232\u001b[0m \u001b[38;5;28;01mraise\u001b[39;00m exception_class(message, screen, stacktrace)\n",
      "\u001b[0;31mElementClickInterceptedException\u001b[0m: Message: element click intercepted: Element is not clickable at point (674, 870)\n  (Session info: chrome=134.0.6998.88)\nStacktrace:\n#0 0x5d9f0dd58a1a <unknown>\n#1 0x5d9f0d810390 <unknown>\n#2 0x5d9f0d868afc <unknown>\n#3 0x5d9f0d86695c <unknown>\n#4 0x5d9f0d863ff2 <unknown>\n#5 0x5d9f0d8636f0 <unknown>\n#6 0x5d9f0d855e0d <unknown>\n#7 0x5d9f0d887bd2 <unknown>\n#8 0x5d9f0d85578a <unknown>\n#9 0x5d9f0d887d9e <unknown>\n#10 0x5d9f0d8ae07b <unknown>\n#11 0x5d9f0d8879a3 <unknown>\n#12 0x5d9f0d85360e <unknown>\n#13 0x5d9f0d854dd1 <unknown>\n#14 0x5d9f0dd1eddb <unknown>\n#15 0x5d9f0dd22cbc <unknown>\n#16 0x5d9f0dd06392 <unknown>\n#17 0x5d9f0dd23834 <unknown>\n#18 0x5d9f0dcea1ef <unknown>\n#19 0x5d9f0dd47038 <unknown>\n#20 0x5d9f0dd47216 <unknown>\n#21 0x5d9f0dd57896 <unknown>\n#22 0x71bc1f8a1e2e <unknown>\n#23 0x71bc1f933a4c <unknown>\n"
>>>>>>> 7883b6f (new_system)
     ]
    }
   ],
   "source": [
<<<<<<< HEAD
    "executable_path = './msedgedriver.exe'\n",
    "\n",
    "def run(executable_path):\n",
    "    driver = webdriver.Edge(service=EdgeService(executable_path=executable_path))\n",
=======
    "executable_path = './chromedriver'\n",
    "\n",
    "def run(executable_path):\n",
    "    driver = webdriver.Chrome(service=ChromeService(executable_path=executable_path))\n",
>>>>>>> 7883b6f (new_system)
    "    # Указываем сайт \n",
    "    driver.get(\"https://tproger.ru/quiz/real-programmer/\")\n",
    "    \n",
    "    # Устанавливаем задержку, чтобы сайт успел прогрузиться\n",
    "    driver.implicitly_wait(15)\n",
    "    \n",
    "    # Убираем всплывающие окна кукис и уведомления\n",
    "    cookies = driver.find_element(by=By.CLASS_NAME, value='tp-button--tertiary')\n",
    "    cookies.click()\n",
    "    push = driver.find_element(by=By.CLASS_NAME, value='tp-button--extract')\n",
    "    push.click()\n",
    "    \n",
    "    # Фиксируем короткий обзор теста\n",
    "    paragraph = driver.find_element(By.CLASS_NAME, 'tp-content-paragraph').text\n",
    "    print(paragraph, '\\n')\n",
    "    \n",
    "    # Фиксируем количество вопросов\n",
    "    count_answer = np.arange(0, 12)\n",
    "    \n",
    "    for i in count_answer:\n",
    "        # Вопрос\n",
    "        question = driver.find_element(by=By.CLASS_NAME, value=\"tp-quiz-question__text\")\n",
    "        print(question.text, '\\n')\n",
    "\n",
    "        # Все ответы\n",
    "        answers = driver.find_elements(by=By.CLASS_NAME, value=\"tp-quiz-answer-list__item\")\n",
    "        for j in answers:\n",
    "            print(j.text)\n",
    "\n",
    "        # Задержка\n",
    "        driver.implicitly_wait(15)\n",
    "        \n",
    "        # Выбор ответа\n",
    "        click_answer = driver.find_element(by=By.XPATH, value='//*[@id=\"quiz-app\"]/div/div/div/div[3]/ul/li[1]')\n",
    "        click_answer.click()\n",
    "        \n",
    "        # Задержка\n",
    "        driver.implicitly_wait(15)\n",
    "        \n",
    "        # Правильный ответ\n",
    "        true_answer = driver.find_element(by=By.CLASS_NAME, value=\"tp-answer--result-true\").text\n",
    "        print('Правильный ответ: ', true_answer, '\\n')\n",
    "\n",
    "        # Задержка\n",
    "        driver.implicitly_wait(15)\n",
    "        \n",
    "        # Следующий вопрос\n",
    "        click_next = driver.find_element(by=By.XPATH, value='//*[@id=\"quiz-app\"]/div/div/div/div[3]/div[2]/button')\n",
    "        click_next.click()\n",
    "        \n",
    "    driver.close()\n",
    "    driver.quit()\n",
    "    \n",
    "run(executable_path)"
   ]
  },
  {
   "cell_type": "code",
   "execution_count": null,
   "metadata": {},
   "outputs": [],
   "source": []
  }
 ],
 "metadata": {
  "kernelspec": {
<<<<<<< HEAD
   "display_name": "Python 3",
=======
   "display_name": "base",
>>>>>>> 7883b6f (new_system)
   "language": "python",
   "name": "python3"
  },
  "language_info": {
   "codemirror_mode": {
    "name": "ipython",
    "version": 3
   },
   "file_extension": ".py",
   "mimetype": "text/x-python",
   "name": "python",
   "nbconvert_exporter": "python",
   "pygments_lexer": "ipython3",
<<<<<<< HEAD
   "version": "3.12.8"
=======
   "version": "3.12.9"
>>>>>>> 7883b6f (new_system)
  }
 },
 "nbformat": 4,
 "nbformat_minor": 2
}
