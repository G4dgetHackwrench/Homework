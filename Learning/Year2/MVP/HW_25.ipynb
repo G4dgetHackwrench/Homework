{
 "cells": [
  {
   "cell_type": "code",
   "execution_count": 445,
   "metadata": {},
   "outputs": [],
   "source": [
    "import pandas as pd\n",
    "import numpy as np\n",
    "from scipy.stats import shapiro, mannwhitneyu, ttest_ind"
   ]
  },
  {
   "cell_type": "markdown",
   "metadata": {},
   "source": [
    "К вам попали результаты A/A/B-тестирования от одного известного маркетплейса. \n",
    "\n",
    "sample_a, sample_c — АА-группы, sample_b — отдельная группа. \n",
    "\n",
    "В каждом датасете есть три типа действий пользователей: 0 — клик, 1 — просмотр и 2 — покупка (пользователь просматривает выдачу товаров, кликает на понравившийся товар и совершает покупку).\n",
    "\n",
    "Маркетплейс ориентируется на следующие метрики:\n",
    "\n",
    "* ctr (отношение кликов к просмотрам товаров);\n",
    "* purchase rate (отношение покупок к просмотрам товаров);\n",
    "* gmv (оборот, сумма произведений количества покупок на стоимость покупки), где считаем 1 сессию за 1 точку (1 сессия на 1 пользователя)."
   ]
  },
  {
   "cell_type": "code",
   "execution_count": 446,
   "metadata": {},
   "outputs": [],
   "source": [
    "# загрузка данных\n",
    "df_a = pd.read_csv(\"data/sample_a.csv\")\n",
    "df_b = pd.read_csv(\"data/sample_b.csv\")\n",
    "df_c = pd.read_csv(\"data/sample_c.csv\")\n",
    "df = pd.read_csv(\"data/item_prices.csv\")"
   ]
  },
  {
   "cell_type": "markdown",
   "metadata": {},
   "source": [
    "## Подготовка данных"
   ]
  },
  {
   "cell_type": "markdown",
   "metadata": {},
   "source": [
    "Замена действия просмотра с цифры 1 на цифру 5 для удобной проверки, что нет ситуаций , когда происходит покупка/клик без действия просмотра."
   ]
  },
  {
   "cell_type": "code",
   "execution_count": 447,
   "metadata": {},
   "outputs": [],
   "source": [
    "df_a.loc[df_a.action_id==1, 'action_id'] = 5\n",
    "df_b.loc[df_b.action_id==1, 'action_id'] = 5\n",
    "df_c.loc[df_c.action_id==1, 'action_id'] = 5"
   ]
  },
  {
   "cell_type": "code",
   "execution_count": 448,
   "metadata": {},
   "outputs": [
    {
     "name": "stdout",
     "output_type": "stream",
     "text": [
      "   user_id  item_id  action_id\n",
      "0    84636      360          5\n",
      "1    21217     9635          5\n",
      "2    13445     8590          5\n",
      "3    38450     5585          5\n",
      "4    14160     2383          0\n",
      "   user_id  item_id  action_id\n",
      "0   118375     4105          5\n",
      "1   107569     8204          5\n",
      "2   175990      880          5\n",
      "3   160582     9568          0\n",
      "4   123400     4000          5\n",
      "   user_id  item_id  action_id\n",
      "0   274623     2863          5\n",
      "1   265472      343          5\n",
      "2   242779     6009          0\n",
      "3   275009     2184          5\n",
      "4   268104     3134          2\n",
      "   item_id  item_price\n",
      "0      338        1501\n",
      "1       74         647\n",
      "2     7696         825\n",
      "3      866         875\n",
      "4     5876         804\n"
     ]
    }
   ],
   "source": [
    "print(df_a.head())\n",
    "print(df_b.head())\n",
    "print(df_c.head())\n",
    "print(df.head())"
   ]
  },
  {
   "cell_type": "code",
   "execution_count": 449,
   "metadata": {},
   "outputs": [
    {
     "name": "stdout",
     "output_type": "stream",
     "text": [
      "(1188912, 3)\n",
      "(1198438, 3)\n",
      "(1205510, 3)\n",
      "(1000, 2)\n"
     ]
    }
   ],
   "source": [
    "print(df_a.shape)\n",
    "print(df_b.shape)\n",
    "print(df_c.shape)\n",
    "print(df.shape)"
   ]
  },
  {
   "cell_type": "code",
   "execution_count": 450,
   "metadata": {},
   "outputs": [],
   "source": [
    "df_a_group = df_a.groupby(['user_id', 'item_id'])['action_id'].sum()\n",
    "df_b_group = df_b.groupby(['user_id', 'item_id'])['action_id'].sum()\n",
    "df_c_group = df_c.groupby(['user_id', 'item_id'])['action_id'].sum()"
   ]
  },
  {
   "cell_type": "markdown",
   "metadata": {},
   "source": [
    "Действие просмотра теперь равно пяти, поэтому любая сумма меньше 5-ти будет без действия просмотра, что является недопустимым."
   ]
  },
  {
   "cell_type": "code",
   "execution_count": 451,
   "metadata": {},
   "outputs": [
    {
     "name": "stdout",
     "output_type": "stream",
     "text": [
      "Series([], Name: action_id, dtype: int64)\n",
      "Series([], Name: action_id, dtype: int64)\n",
      "Series([], Name: action_id, dtype: int64)\n"
     ]
    }
   ],
   "source": [
    "print(df_a_group[df_a_group < 5])\n",
    "print(df_b_group[df_b_group < 5])\n",
    "print(df_c_group[df_c_group < 5])"
   ]
  },
  {
   "cell_type": "markdown",
   "metadata": {},
   "source": [
    "Ситуаций, когда происходит покупка/клик без действия просмотра, не обнаружено."
   ]
  },
  {
   "cell_type": "code",
   "execution_count": 452,
   "metadata": {},
   "outputs": [
    {
     "name": "stdout",
     "output_type": "stream",
     "text": [
      "0\n",
      "0\n",
      "0\n",
      "0\n"
     ]
    }
   ],
   "source": [
    "# полные дубликаты\n",
    "print(df_a.duplicated().sum())\n",
    "print(df_b.duplicated().sum())\n",
    "print(df_c.duplicated().sum())\n",
    "print(df.duplicated().sum())"
   ]
  },
  {
   "cell_type": "markdown",
   "metadata": {},
   "source": [
    "Поиск дублей между группами"
   ]
  },
  {
   "cell_type": "code",
   "execution_count": 453,
   "metadata": {},
   "outputs": [
    {
     "name": "stdout",
     "output_type": "stream",
     "text": [
      "Дубли номеров сессий(группы a, b): True\n",
      "Дубли номеров сессий(группы a, c): True\n",
      "Дубли номеров сессий(группы c, b): True\n",
      "Количество номеров сессий в группах a, b, с: (955, 955, 955)\n",
      "Дубли номеров сессий(группы a, b): 955\n",
      "Дубли номеров сессий(группы a, c): 955\n",
      "Дубли номеров сессий(группы c, b): 955\n"
     ]
    }
   ],
   "source": [
    "# item_id\n",
    "list_a = list(set(df_a.item_id.values))\n",
    "list_b = list(set(df_b.item_id.values))\n",
    "list_c = list(set(df_c.item_id.values))\n",
    "list_ab = list_a+list_b\n",
    "list_ac = list_a+list_c\n",
    "list_cb = list_c+list_b\n",
    "print(f'Дубли номеров сессий(группы a, b): {not(len(set(list_ab))==len(list_ab))}')\n",
    "print(f'Дубли номеров сессий(группы a, c): {not(len(set(list_ac))==len(list_ac))}')\n",
    "print(f'Дубли номеров сессий(группы c, b): {not(len(set(list_cb))==len(list_cb))}')\n",
    "print(f'Количество номеров сессий в группах a, b, с: {len(list_a), len(list_b), len(list_c)}')\n",
    "print(f'Дубли номеров сессий(группы a, b): {len(list_ab)-len(set(list_ab))}')\n",
    "print(f'Дубли номеров сессий(группы a, c): {len(list_ac)-len(set(list_ac))}')\n",
    "print(f'Дубли номеров сессий(группы c, b): {len(list_cb)-len(set(list_cb))}')"
   ]
  },
  {
   "cell_type": "markdown",
   "metadata": {},
   "source": [
    "Номера сессий полностью совпадают, очевидно что это нормальная ситуация."
   ]
  },
  {
   "cell_type": "code",
   "execution_count": 454,
   "metadata": {},
   "outputs": [
    {
     "name": "stdout",
     "output_type": "stream",
     "text": [
      "Дубли уникальных пользователей(группы a, b): False\n",
      "Дубли уникальных пользователей(группы a, c): False\n",
      "Дубли уникальных пользователей(группы c, b): False\n",
      "Количество уникальных пользователей в группах a, b, с: (996, 996, 994)\n"
     ]
    }
   ],
   "source": [
    "# user_id\n",
    "list_a = list(set(df_a.user_id.values))\n",
    "list_b = list(set(df_b.user_id.values))\n",
    "list_c = list(set(df_c.user_id.values))\n",
    "list_ab = list_a+list_b\n",
    "list_ac = list_a+list_c\n",
    "list_cb = list_c+list_b\n",
    "print(f'Дубли уникальных пользователей(группы a, b): {not(len(set(list_ab))==len(list_ab))}')\n",
    "print(f'Дубли уникальных пользователей(группы a, c): {not(len(set(list_ac))==len(list_ac))}')\n",
    "print(f'Дубли уникальных пользователей(группы c, b): {not(len(set(list_cb))==len(list_cb))}')\n",
    "print(f'Количество уникальных пользователей в группах a, b, с: {len(list_a), len(list_b), len(list_c)}')"
   ]
  },
  {
   "cell_type": "markdown",
   "metadata": {},
   "source": [
    "Дубликатов уникальных пользователей по разным группам нет - пользователи в каждой группе уникальны."
   ]
  },
  {
   "cell_type": "code",
   "execution_count": 455,
   "metadata": {},
   "outputs": [
    {
     "data": {
      "text/plain": [
       "-45"
      ]
     },
     "execution_count": 455,
     "metadata": {},
     "output_type": "execute_result"
    }
   ],
   "source": [
    "len(set(df.item_id))-len(df.item_id)"
   ]
  },
  {
   "cell_type": "markdown",
   "metadata": {},
   "source": [
    "45 товаров с задвоенной ценой..."
   ]
  },
  {
   "cell_type": "code",
   "execution_count": 456,
   "metadata": {},
   "outputs": [],
   "source": [
    "# кодирование столбца с действиями\n",
    "df_aa = pd.get_dummies(df_a.action_id)\n",
    "df_bb = pd.get_dummies(df_b.action_id)\n",
    "df_cc = pd.get_dummies(df_c.action_id)\n",
    "df_aa = df_aa.rename(columns={0:'click', 2:'buy', 5:'view'})\n",
    "df_bb = df_bb.rename(columns={0:'click', 2:'buy', 5:'view'})\n",
    "df_cc = df_cc.rename(columns={0:'click', 2:'buy', 5:'view'})\n",
    "df_a = pd.concat([df_a, df_aa], axis=1)\n",
    "df_b = pd.concat([df_b, df_bb], axis=1)\n",
    "df_c = pd.concat([df_c, df_cc], axis=1)"
   ]
  },
  {
   "cell_type": "code",
   "execution_count": 457,
   "metadata": {},
   "outputs": [],
   "source": [
    "# добавление столбца с ценой при покупке\n",
    "df_dict = df.set_index('item_id')\n",
    "df_a['item_price'] = 0\n",
    "df_a.loc[df_a.buy==True, 'item_price'] = df_a.loc[df_a.buy==True, 'item_id']\n",
    "df_a.item_price = df_a.item_price.apply(lambda x: df_dict.loc[x, 'item_price'].mean() if x!=0 else 0)\n",
    "\n",
    "df_b['item_price'] = 0\n",
    "df_b.loc[df_b.buy==True, 'item_price'] = df_b.loc[df_b.buy==True, 'item_id']\n",
    "df_b.item_price = df_b.item_price.apply(lambda x: df_dict.loc[x, 'item_price'].mean() if x!=0 else 0)\n",
    "\n",
    "df_c['item_price'] = 0\n",
    "df_c.loc[df_c.buy==True, 'item_price'] = df_c.loc[df_c.buy==True, 'item_id']\n",
    "df_c.item_price = df_c.item_price.apply(lambda x: df_dict.loc[x, 'item_price'].mean() if x!=0 else 0)"
   ]
  },
  {
   "cell_type": "markdown",
   "metadata": {},
   "source": [
    "## Расчет метрик"
   ]
  },
  {
   "cell_type": "markdown",
   "metadata": {},
   "source": [
    "### ctr"
   ]
  },
  {
   "cell_type": "code",
   "execution_count": 458,
   "metadata": {},
   "outputs": [],
   "source": [
    "df_actr = df_a.groupby('user_id')['click'].sum()/df_a.groupby('user_id')['view'].sum()*100\n",
    "df_bctr = df_b.groupby('user_id')['click'].sum()/df_b.groupby('user_id')['view'].sum()*100\n",
    "df_cctr = df_c.groupby('user_id')['click'].sum()/df_c.groupby('user_id')['view'].sum()*100"
   ]
  },
  {
   "cell_type": "code",
   "execution_count": 459,
   "metadata": {},
   "outputs": [
    {
     "data": {
      "text/plain": [
       "count    996.000000\n",
       "mean      20.000012\n",
       "std        1.301818\n",
       "min       16.544503\n",
       "25%       19.057592\n",
       "50%       19.895288\n",
       "75%       20.837696\n",
       "max       24.188482\n",
       "dtype: float64"
      ]
     },
     "execution_count": 459,
     "metadata": {},
     "output_type": "execute_result"
    }
   ],
   "source": [
    "df_actr.describe()"
   ]
  },
  {
   "cell_type": "code",
   "execution_count": 460,
   "metadata": {},
   "outputs": [
    {
     "data": {
      "text/plain": [
       "count    994.000000\n",
       "mean      20.999952\n",
       "std        1.255021\n",
       "min       17.277487\n",
       "25%       20.125786\n",
       "50%       21.047120\n",
       "75%       21.780105\n",
       "max       25.235602\n",
       "dtype: float64"
      ]
     },
     "execution_count": 460,
     "metadata": {},
     "output_type": "execute_result"
    }
   ],
   "source": [
    "df_cctr.describe()"
   ]
  },
  {
   "cell_type": "code",
   "execution_count": 461,
   "metadata": {},
   "outputs": [
    {
     "data": {
      "text/plain": [
       "count    996.000000\n",
       "mean      16.000046\n",
       "std        1.220117\n",
       "min       11.727749\n",
       "25%       15.183246\n",
       "50%       16.020942\n",
       "75%       16.858639\n",
       "max       19.581152\n",
       "dtype: float64"
      ]
     },
     "execution_count": 461,
     "metadata": {},
     "output_type": "execute_result"
    }
   ],
   "source": [
    "df_bctr.describe()"
   ]
  },
  {
   "cell_type": "markdown",
   "metadata": {},
   "source": [
    "В группе В среднее значение метрики существенно ниже, в группах А и С значения почти одинаковы. Это значит что в группе В меньшее количество пользователей кликнуло на товар при просмотре."
   ]
  },
  {
   "cell_type": "markdown",
   "metadata": {},
   "source": [
    "### purchase rate"
   ]
  },
  {
   "cell_type": "code",
   "execution_count": 462,
   "metadata": {},
   "outputs": [],
   "source": [
    "df_apurchase = df_a.groupby('user_id')['buy'].sum()/df_a.groupby('user_id')['view'].sum()*100\n",
    "df_bpurchase = df_b.groupby('user_id')['buy'].sum()/df_b.groupby('user_id')['view'].sum()*100\n",
    "df_cpurchase = df_c.groupby('user_id')['buy'].sum()/df_c.groupby('user_id')['view'].sum()*100"
   ]
  },
  {
   "cell_type": "code",
   "execution_count": 463,
   "metadata": {},
   "outputs": [
    {
     "data": {
      "text/plain": [
       "count    996.000000\n",
       "mean       4.999953\n",
       "std        0.713566\n",
       "min        2.827225\n",
       "25%        4.502618\n",
       "50%        4.921466\n",
       "75%        5.445026\n",
       "max        7.225131\n",
       "dtype: float64"
      ]
     },
     "execution_count": 463,
     "metadata": {},
     "output_type": "execute_result"
    }
   ],
   "source": [
    "df_apurchase.describe()"
   ]
  },
  {
   "cell_type": "code",
   "execution_count": 464,
   "metadata": {},
   "outputs": [
    {
     "data": {
      "text/plain": [
       "count    994.000000\n",
       "mean       5.999975\n",
       "std        0.772815\n",
       "min        3.664921\n",
       "25%        5.445026\n",
       "50%        5.968586\n",
       "75%        6.492147\n",
       "max        9.214660\n",
       "dtype: float64"
      ]
     },
     "execution_count": 464,
     "metadata": {},
     "output_type": "execute_result"
    }
   ],
   "source": [
    "df_cpurchase.describe()"
   ]
  },
  {
   "cell_type": "code",
   "execution_count": 465,
   "metadata": {},
   "outputs": [
    {
     "data": {
      "text/plain": [
       "count    996.000000\n",
       "mean       9.999986\n",
       "std        0.979052\n",
       "min        6.910995\n",
       "25%        9.319372\n",
       "50%       10.052356\n",
       "75%       10.680628\n",
       "max       13.298429\n",
       "dtype: float64"
      ]
     },
     "execution_count": 465,
     "metadata": {},
     "output_type": "execute_result"
    }
   ],
   "source": [
    "df_bpurchase.describe()"
   ]
  },
  {
   "cell_type": "markdown",
   "metadata": {},
   "source": [
    "В группе В среднее значение метрики выше на 4 пункта, в группах А и С значения почти одинаковы. Значит что из всех просматривающих выдачу товаров пользователей в группе В большее количество пользователей совершило покупку, а если учесть предыдущую метрику(самое маленькое количество кликов к просмотру) то становится понятно что из кликнувших на товар пользователей достаточно большое количество купивших."
   ]
  },
  {
   "cell_type": "markdown",
   "metadata": {},
   "source": [
    "### gmv"
   ]
  },
  {
   "cell_type": "code",
   "execution_count": 466,
   "metadata": {},
   "outputs": [],
   "source": [
    "df_agmv = df_a.groupby(['user_id', 'item_id'])['item_price'].sum()\n",
    "df_bgmv = df_b.groupby(['user_id', 'item_id'])['item_price'].sum()\n",
    "df_cgmv = df_c.groupby(['user_id', 'item_id'])['item_price'].sum()"
   ]
  },
  {
   "cell_type": "code",
   "execution_count": 467,
   "metadata": {},
   "outputs": [
    {
     "data": {
      "text/plain": [
       "count    47556.000000\n",
       "mean      1069.730237\n",
       "std        553.449624\n",
       "min        102.000000\n",
       "25%        611.000000\n",
       "50%       1054.000000\n",
       "75%       1569.000000\n",
       "max       1998.000000\n",
       "Name: item_price, dtype: float64"
      ]
     },
     "execution_count": 467,
     "metadata": {},
     "output_type": "execute_result"
    }
   ],
   "source": [
    "df_agmv[df_agmv!=0].describe()"
   ]
  },
  {
   "cell_type": "code",
   "execution_count": 468,
   "metadata": {},
   "outputs": [
    {
     "data": {
      "text/plain": [
       "count    56953.000000\n",
       "mean      1068.845375\n",
       "std        553.570614\n",
       "min        102.000000\n",
       "25%        610.500000\n",
       "50%       1054.000000\n",
       "75%       1569.000000\n",
       "max       1998.000000\n",
       "Name: item_price, dtype: float64"
      ]
     },
     "execution_count": 468,
     "metadata": {},
     "output_type": "execute_result"
    }
   ],
   "source": [
    "df_cgmv[df_cgmv!=0].describe()"
   ]
  },
  {
   "cell_type": "code",
   "execution_count": 469,
   "metadata": {},
   "outputs": [
    {
     "data": {
      "text/plain": [
       "count    95114.000000\n",
       "mean      1068.908650\n",
       "std        556.063523\n",
       "min        102.000000\n",
       "25%        607.000000\n",
       "50%       1054.000000\n",
       "75%       1569.000000\n",
       "max       1998.000000\n",
       "Name: item_price, dtype: float64"
      ]
     },
     "execution_count": 469,
     "metadata": {},
     "output_type": "execute_result"
    }
   ],
   "source": [
    "df_bgmv[df_bgmv!=0].describe()"
   ]
  },
  {
   "cell_type": "markdown",
   "metadata": {},
   "source": [
    "Думаю уместнее смотреть средние на непустых данных. Количество покупок в группе В существенно больше количества покупок в группах А и С."
   ]
  },
  {
   "cell_type": "markdown",
   "metadata": {},
   "source": [
    "## Статистические тесты"
   ]
  },
  {
   "cell_type": "code",
   "execution_count": 470,
   "metadata": {},
   "outputs": [],
   "source": [
    "alpha = 0.01\n",
    "\n",
    "# функция для красивого вывода решения\n",
    "def decision_hypothesis(p):\n",
    "    print('p-value = {:.3f}'.format(p))\n",
    "    if (p <= alpha):\n",
    "        print(\"Отвергаем нулевую гипотезу в пользу альтернативной\")\n",
    "    else:\n",
    "        print(\"У нас нет оснований отвергнуть нулевую гипотезу\")\n",
    "        \n",
    "# функция для принятия решения о нормальности\n",
    "def decision_normality(data):\n",
    "    _, p = shapiro(data)\n",
    "    print('p-value = {:.3f}'.format(p))\n",
    "    if p <= alpha:\n",
    "        print('p-значение меньше, чем заданный уровень значимости {:.2f}. Распределение отлично от нормального'.format(alpha))\n",
    "    else:\n",
    "        print('p-значение больше, чем заданный уровень значимости {:.2f}. Распределение является нормальным'.format(alpha))"
   ]
  },
  {
   "cell_type": "markdown",
   "metadata": {},
   "source": [
    "### A/C"
   ]
  },
  {
   "cell_type": "code",
   "execution_count": 471,
   "metadata": {},
   "outputs": [
    {
     "name": "stdout",
     "output_type": "stream",
     "text": [
      "p-value = 0.025\n",
      "p-значение больше, чем заданный уровень значимости 0.01. Распределение является нормальным\n",
      "p-value = 0.172\n",
      "p-значение больше, чем заданный уровень значимости 0.01. Распределение является нормальным\n"
     ]
    }
   ],
   "source": [
    "decision_normality(df_actr)\n",
    "decision_normality(df_cctr)"
   ]
  },
  {
   "cell_type": "code",
   "execution_count": 472,
   "metadata": {},
   "outputs": [
    {
     "name": "stdout",
     "output_type": "stream",
     "text": [
      "p-value = 0.006\n",
      "p-значение меньше, чем заданный уровень значимости 0.01. Распределение отлично от нормального\n",
      "p-value = 0.023\n",
      "p-значение больше, чем заданный уровень значимости 0.01. Распределение является нормальным\n"
     ]
    }
   ],
   "source": [
    "decision_normality(df_apurchase)\n",
    "decision_normality(df_cpurchase)"
   ]
  },
  {
   "cell_type": "code",
   "execution_count": 473,
   "metadata": {},
   "outputs": [
    {
     "name": "stdout",
     "output_type": "stream",
     "text": [
      "p-value = 0.000\n",
      "p-значение меньше, чем заданный уровень значимости 0.01. Распределение отлично от нормального\n",
      "p-value = 0.000\n",
      "p-значение меньше, чем заданный уровень значимости 0.01. Распределение отлично от нормального\n"
     ]
    },
    {
     "name": "stderr",
     "output_type": "stream",
     "text": [
      "c:\\Users\\anzel\\anaconda3\\Lib\\site-packages\\scipy\\stats\\_axis_nan_policy.py:586: UserWarning: scipy.stats.shapiro: For N > 5000, computed p-value may not be accurate. Current N is 951130.\n",
      "  res = hypotest_fun_out(*samples, **kwds)\n",
      "c:\\Users\\anzel\\anaconda3\\Lib\\site-packages\\scipy\\stats\\_axis_nan_policy.py:586: UserWarning: scipy.stats.shapiro: For N > 5000, computed p-value may not be accurate. Current N is 949221.\n",
      "  res = hypotest_fun_out(*samples, **kwds)\n"
     ]
    }
   ],
   "source": [
    "decision_normality(df_agmv)\n",
    "decision_normality(df_cgmv)"
   ]
  },
  {
   "cell_type": "markdown",
   "metadata": {},
   "source": [
    "*Нулевая гипотеза* ($H_0$): метрика группы A равна метрике группы С.\n",
    "\n",
    "$$ H_0 : p_a = p_с$$\n",
    "\n",
    "*Альтернативная гипотеза* ($H_1$): метрика группы A отличается от метрики группы С.\n",
    "\n",
    "$$ H_1 : p_a \\neq p_c$$"
   ]
  },
  {
   "cell_type": "code",
   "execution_count": 474,
   "metadata": {},
   "outputs": [
    {
     "name": "stdout",
     "output_type": "stream",
     "text": [
      "p-value = 0.000\n",
      "Отвергаем нулевую гипотезу в пользу альтернативной\n"
     ]
    }
   ],
   "source": [
    "alpha = 0.05\n",
    "\n",
    "results = ttest_ind(\n",
    "    df_actr.values,\n",
    "    df_cctr.values,\n",
    "    alternative='two-sided'\n",
    ")\n",
    "decision_hypothesis(results.pvalue)"
   ]
  },
  {
   "cell_type": "code",
   "execution_count": 475,
   "metadata": {},
   "outputs": [
    {
     "name": "stdout",
     "output_type": "stream",
     "text": [
      "p-value = 0.000\n",
      "Отвергаем нулевую гипотезу в пользу альтернативной\n"
     ]
    }
   ],
   "source": [
    "results = mannwhitneyu(\n",
    "    df_apurchase.values,\n",
    "    df_cpurchase.values,\n",
    "    alternative='two-sided'\n",
    ")\n",
    "decision_hypothesis(results.pvalue)"
   ]
  },
  {
   "cell_type": "code",
   "execution_count": 476,
   "metadata": {},
   "outputs": [
    {
     "name": "stdout",
     "output_type": "stream",
     "text": [
      "p-value = 0.000\n",
      "Отвергаем нулевую гипотезу в пользу альтернативной\n"
     ]
    }
   ],
   "source": [
    "results = mannwhitneyu(\n",
    "    df_agmv,\n",
    "    df_cgmv,\n",
    "    alternative='two-sided'\n",
    ")\n",
    "decision_hypothesis(results.pvalue)"
   ]
  },
  {
   "cell_type": "markdown",
   "metadata": {},
   "source": [
    "По результатам тестирования есть статистически значимая разница между группами A и C по всем метрикам. Получается что выборки неравномерны и сплиты \"разъезжаются\"."
   ]
  },
  {
   "cell_type": "markdown",
   "metadata": {},
   "source": [
    "### A/B"
   ]
  },
  {
   "cell_type": "markdown",
   "metadata": {},
   "source": [
    "*Нулевая гипотеза* ($H_0$): метрика группы A равна метрике группы В.\n",
    "\n",
    "$$ H_0 : p_a = p_b$$\n",
    "\n",
    "*Альтернативная гипотеза* ($H_1$): метрика группы A отличается от метрики группы B.\n",
    "\n",
    "$$ H_1 : p_a \\neq p_b$$"
   ]
  },
  {
   "cell_type": "code",
   "execution_count": 477,
   "metadata": {},
   "outputs": [
    {
     "name": "stdout",
     "output_type": "stream",
     "text": [
      "p-value = 0.025\n",
      "p-значение больше, чем заданный уровень значимости 0.01. Распределение является нормальным\n",
      "p-value = 0.332\n",
      "p-значение больше, чем заданный уровень значимости 0.01. Распределение является нормальным\n"
     ]
    }
   ],
   "source": [
    "alpha = 0.01\n",
    "\n",
    "decision_normality(df_actr)\n",
    "decision_normality(df_bctr)"
   ]
  },
  {
   "cell_type": "code",
   "execution_count": 478,
   "metadata": {},
   "outputs": [
    {
     "name": "stdout",
     "output_type": "stream",
     "text": [
      "p-value = 0.006\n",
      "p-значение меньше, чем заданный уровень значимости 0.01. Распределение отлично от нормального\n",
      "p-value = 0.023\n",
      "p-значение больше, чем заданный уровень значимости 0.01. Распределение является нормальным\n"
     ]
    }
   ],
   "source": [
    "decision_normality(df_apurchase)\n",
    "decision_normality(df_cpurchase)"
   ]
  },
  {
   "cell_type": "code",
   "execution_count": 479,
   "metadata": {},
   "outputs": [
    {
     "name": "stdout",
     "output_type": "stream",
     "text": [
      "p-value = 0.000\n",
      "p-значение меньше, чем заданный уровень значимости 0.01. Распределение отлично от нормального\n",
      "p-value = 0.000\n",
      "p-значение меньше, чем заданный уровень значимости 0.01. Распределение отлично от нормального\n"
     ]
    }
   ],
   "source": [
    "decision_normality(df_agmv)\n",
    "decision_normality(df_cgmv)"
   ]
  },
  {
   "cell_type": "code",
   "execution_count": 480,
   "metadata": {},
   "outputs": [
    {
     "name": "stdout",
     "output_type": "stream",
     "text": [
      "p-value = 0.000\n",
      "Отвергаем нулевую гипотезу в пользу альтернативной\n"
     ]
    }
   ],
   "source": [
    "alpha = 0.05\n",
    "results = ttest_ind(\n",
    "    df_actr.values,\n",
    "    df_bctr.values,\n",
    "    alternative='two-sided'\n",
    ")\n",
    "decision_hypothesis(results.pvalue)"
   ]
  },
  {
   "cell_type": "code",
   "execution_count": 481,
   "metadata": {},
   "outputs": [
    {
     "name": "stdout",
     "output_type": "stream",
     "text": [
      "p-value = 0.000\n",
      "Отвергаем нулевую гипотезу в пользу альтернативной\n"
     ]
    }
   ],
   "source": [
    "results = mannwhitneyu(\n",
    "    df_apurchase.values,\n",
    "    df_bpurchase.values,\n",
    "    alternative='two-sided'\n",
    ")\n",
    "decision_hypothesis(results.pvalue)"
   ]
  },
  {
   "cell_type": "code",
   "execution_count": 482,
   "metadata": {},
   "outputs": [
    {
     "name": "stdout",
     "output_type": "stream",
     "text": [
      "p-value = 0.000\n",
      "Отвергаем нулевую гипотезу в пользу альтернативной\n"
     ]
    }
   ],
   "source": [
    "results = mannwhitneyu(\n",
    "    df_agmv,\n",
    "    df_bgmv,\n",
    "    alternative='two-sided'\n",
    ")\n",
    "decision_hypothesis(results.pvalue)"
   ]
  },
  {
   "cell_type": "markdown",
   "metadata": {},
   "source": [
    "## Вывод"
   ]
  },
  {
   "cell_type": "markdown",
   "metadata": {},
   "source": [
    "Метрики в группе В отличаются от метрик в группе А. Здесь можно было бы посмотреть в какую сторону отличаются, но смысла это не имеет потому что контрольные группы A и C имеют статистически значимую разницу, а значит доверять результатам тестирования нельзя."
   ]
  }
 ],
 "metadata": {
  "kernelspec": {
   "display_name": "base",
   "language": "python",
   "name": "python3"
  },
  "language_info": {
   "codemirror_mode": {
    "name": "ipython",
    "version": 3
   },
   "file_extension": ".py",
   "mimetype": "text/x-python",
   "name": "python",
   "nbconvert_exporter": "python",
   "pygments_lexer": "ipython3",
   "version": "3.12.3"
  }
 },
 "nbformat": 4,
 "nbformat_minor": 2
}
