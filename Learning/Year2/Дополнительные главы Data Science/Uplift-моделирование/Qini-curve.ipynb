{
 "cells": [
  {
   "cell_type": "markdown",
   "metadata": {
    "id": "BSvvTPDQ52Za"
   },
   "source": [
    "# <center> Оценка качестве uplift-моделирования. Практика"
   ]
  },
  {
   "cell_type": "markdown",
   "metadata": {
    "id": "oI3sghkU52Ze"
   },
   "source": [
    "**Общая постановка задачи:**\n",
    "\n",
    "Представим, что мы решаем задачу удержания клиенту либо с помощью скидок, либо с помощью промо-механик . \n",
    "\n",
    "В нашем распоряжении будут результаты некоторой маркетинговой компании, в которой клиентам предлагались скидки и промоакции (в данном случае использовалась промо-акция \"Buy One Get One\" - \"Купи один товар, получи второй в подарок\"). \n",
    "\n",
    "На основе результатов маркетинговой компании нам необходимо будет провести uplift-моделирование и оценить uplift-эффект для каждого уникального клиента, чтобы в дальнейшем в автоматическом режиме проводим сегментацию клиентов и повышать эффективность маркетинговой компании. "
   ]
  },
  {
   "cell_type": "markdown",
   "metadata": {
    "id": "99p-yMkx52Ze"
   },
   "source": [
    "В рамках данной практики нам предстоит научиться оценивать качество нашей uplift-модели! \n",
    "\n",
    "> В нашем распоряжении будет два датасета с предсказаниями некоторых uplift-моделей. Нам необходимо будет реализовать функционал для построения quni-curve и рассчета quni-score и оценить качество uplift-моделирования. "
   ]
  },
  {
   "cell_type": "markdown",
   "metadata": {
    "id": "PS_DOGO652Zf"
   },
   "source": [
    "Импортируем необходимые библиотеки и загрузим семплы данных (данные о результатах воздействия скидками и промоакциями)."
   ]
  },
  {
   "cell_type": "code",
   "execution_count": 1,
   "metadata": {
    "id": "rp8zjbfy52Zf"
   },
   "outputs": [],
   "source": [
    "import numpy as np \n",
    "import pandas as pd \n",
    "import matplotlib.pyplot as plt\n",
    "import seaborn as sns\n",
    "\n",
    "import warnings\n",
    "warnings.filterwarnings('ignore')\n",
    "\n",
    "# Прочитаем файлы с данными\n",
    "\n",
    "# Читаем файл с результатами uplift-моделирования на данных о скидках\n",
    "df_discount = pd.read_csv('data/data_discount_uplift.csv')\n",
    "# Читаем файл с результатами uplift-моделирования на данных о промоакциях\n",
    "df_bogo = pd.read_csv('data/data_bogo_uplift.csv')"
   ]
  },
  {
   "cell_type": "markdown",
   "metadata": {
    "id": "cOkhhJS652Zg"
   },
   "source": [
    "Посмотрим на данные поближе:"
   ]
  },
  {
   "cell_type": "code",
   "execution_count": 2,
   "metadata": {
    "colab": {
     "base_uri": "https://localhost:8080/",
     "height": 287
    },
    "executionInfo": {
     "elapsed": 9,
     "status": "ok",
     "timestamp": 1677350917228,
     "user": {
      "displayName": "Андрей Достоевский",
      "userId": "09718989537568551698"
     },
     "user_tz": -180
    },
    "id": "ihgximZV52Zh",
    "outputId": "adad740e-48d6-47ca-95a7-a78a6defae48"
   },
   "outputs": [
    {
     "name": "stdout",
     "output_type": "stream",
     "text": [
      "Data discount shape: (42613, 15)\n"
     ]
    },
    {
     "data": {
      "text/html": [
       "<div>\n",
       "<style scoped>\n",
       "    .dataframe tbody tr th:only-of-type {\n",
       "        vertical-align: middle;\n",
       "    }\n",
       "\n",
       "    .dataframe tbody tr th {\n",
       "        vertical-align: top;\n",
       "    }\n",
       "\n",
       "    .dataframe thead th {\n",
       "        text-align: right;\n",
       "    }\n",
       "</style>\n",
       "<table border=\"1\" class=\"dataframe\">\n",
       "  <thead>\n",
       "    <tr style=\"text-align: right;\">\n",
       "      <th></th>\n",
       "      <th>recency</th>\n",
       "      <th>history</th>\n",
       "      <th>used_discount</th>\n",
       "      <th>used_bogo</th>\n",
       "      <th>is_referral</th>\n",
       "      <th>treatment</th>\n",
       "      <th>target_class</th>\n",
       "      <th>conversion</th>\n",
       "      <th>zip_code_Rural</th>\n",
       "      <th>zip_code_Surburban</th>\n",
       "      <th>zip_code_Urban</th>\n",
       "      <th>channel_Multichannel</th>\n",
       "      <th>channel_Phone</th>\n",
       "      <th>channel_Web</th>\n",
       "      <th>uplift_score</th>\n",
       "    </tr>\n",
       "  </thead>\n",
       "  <tbody>\n",
       "    <tr>\n",
       "      <th>0</th>\n",
       "      <td>6</td>\n",
       "      <td>329.08</td>\n",
       "      <td>1</td>\n",
       "      <td>1</td>\n",
       "      <td>1</td>\n",
       "      <td>0</td>\n",
       "      <td>0</td>\n",
       "      <td>0</td>\n",
       "      <td>1</td>\n",
       "      <td>0</td>\n",
       "      <td>0</td>\n",
       "      <td>0</td>\n",
       "      <td>0</td>\n",
       "      <td>1</td>\n",
       "      <td>0.093915</td>\n",
       "    </tr>\n",
       "    <tr>\n",
       "      <th>1</th>\n",
       "      <td>9</td>\n",
       "      <td>675.83</td>\n",
       "      <td>1</td>\n",
       "      <td>0</td>\n",
       "      <td>1</td>\n",
       "      <td>1</td>\n",
       "      <td>2</td>\n",
       "      <td>0</td>\n",
       "      <td>1</td>\n",
       "      <td>0</td>\n",
       "      <td>0</td>\n",
       "      <td>0</td>\n",
       "      <td>0</td>\n",
       "      <td>1</td>\n",
       "      <td>0.072600</td>\n",
       "    </tr>\n",
       "    <tr>\n",
       "      <th>2</th>\n",
       "      <td>9</td>\n",
       "      <td>675.07</td>\n",
       "      <td>1</td>\n",
       "      <td>1</td>\n",
       "      <td>1</td>\n",
       "      <td>1</td>\n",
       "      <td>2</td>\n",
       "      <td>0</td>\n",
       "      <td>1</td>\n",
       "      <td>0</td>\n",
       "      <td>0</td>\n",
       "      <td>0</td>\n",
       "      <td>1</td>\n",
       "      <td>0</td>\n",
       "      <td>0.083439</td>\n",
       "    </tr>\n",
       "    <tr>\n",
       "      <th>3</th>\n",
       "      <td>2</td>\n",
       "      <td>101.64</td>\n",
       "      <td>0</td>\n",
       "      <td>1</td>\n",
       "      <td>0</td>\n",
       "      <td>1</td>\n",
       "      <td>3</td>\n",
       "      <td>1</td>\n",
       "      <td>0</td>\n",
       "      <td>0</td>\n",
       "      <td>1</td>\n",
       "      <td>0</td>\n",
       "      <td>0</td>\n",
       "      <td>1</td>\n",
       "      <td>0.077655</td>\n",
       "    </tr>\n",
       "    <tr>\n",
       "      <th>4</th>\n",
       "      <td>4</td>\n",
       "      <td>241.42</td>\n",
       "      <td>0</td>\n",
       "      <td>1</td>\n",
       "      <td>1</td>\n",
       "      <td>0</td>\n",
       "      <td>0</td>\n",
       "      <td>0</td>\n",
       "      <td>1</td>\n",
       "      <td>0</td>\n",
       "      <td>0</td>\n",
       "      <td>1</td>\n",
       "      <td>0</td>\n",
       "      <td>0</td>\n",
       "      <td>0.074123</td>\n",
       "    </tr>\n",
       "  </tbody>\n",
       "</table>\n",
       "</div>"
      ],
      "text/plain": [
       "   recency  history  used_discount  used_bogo  is_referral  treatment  \\\n",
       "0        6   329.08              1          1            1          0   \n",
       "1        9   675.83              1          0            1          1   \n",
       "2        9   675.07              1          1            1          1   \n",
       "3        2   101.64              0          1            0          1   \n",
       "4        4   241.42              0          1            1          0   \n",
       "\n",
       "   target_class  conversion  zip_code_Rural  zip_code_Surburban  \\\n",
       "0             0           0               1                   0   \n",
       "1             2           0               1                   0   \n",
       "2             2           0               1                   0   \n",
       "3             3           1               0                   0   \n",
       "4             0           0               1                   0   \n",
       "\n",
       "   zip_code_Urban  channel_Multichannel  channel_Phone  channel_Web  \\\n",
       "0               0                     0              0            1   \n",
       "1               0                     0              0            1   \n",
       "2               0                     0              1            0   \n",
       "3               1                     0              0            1   \n",
       "4               0                     1              0            0   \n",
       "\n",
       "   uplift_score  \n",
       "0      0.093915  \n",
       "1      0.072600  \n",
       "2      0.083439  \n",
       "3      0.077655  \n",
       "4      0.074123  "
      ]
     },
     "execution_count": 2,
     "metadata": {},
     "output_type": "execute_result"
    }
   ],
   "source": [
    "print('Data discount shape: {}'.format(df_discount.shape))\n",
    "df_discount.head()"
   ]
  },
  {
   "cell_type": "code",
   "execution_count": 3,
   "metadata": {
    "colab": {
     "base_uri": "https://localhost:8080/",
     "height": 287
    },
    "executionInfo": {
     "elapsed": 500,
     "status": "ok",
     "timestamp": 1677350917723,
     "user": {
      "displayName": "Андрей Достоевский",
      "userId": "09718989537568551698"
     },
     "user_tz": -180
    },
    "id": "rx9aFl4O52Zi",
    "outputId": "f17c1722-2dc8-42bb-e58e-af7f21394264"
   },
   "outputs": [
    {
     "name": "stdout",
     "output_type": "stream",
     "text": [
      "Data discount shape: (42693, 15)\n"
     ]
    },
    {
     "data": {
      "text/html": [
       "<div>\n",
       "<style scoped>\n",
       "    .dataframe tbody tr th:only-of-type {\n",
       "        vertical-align: middle;\n",
       "    }\n",
       "\n",
       "    .dataframe tbody tr th {\n",
       "        vertical-align: top;\n",
       "    }\n",
       "\n",
       "    .dataframe thead th {\n",
       "        text-align: right;\n",
       "    }\n",
       "</style>\n",
       "<table border=\"1\" class=\"dataframe\">\n",
       "  <thead>\n",
       "    <tr style=\"text-align: right;\">\n",
       "      <th></th>\n",
       "      <th>recency</th>\n",
       "      <th>history</th>\n",
       "      <th>used_discount</th>\n",
       "      <th>used_bogo</th>\n",
       "      <th>is_referral</th>\n",
       "      <th>treatment</th>\n",
       "      <th>target_class</th>\n",
       "      <th>conversion</th>\n",
       "      <th>zip_code_Rural</th>\n",
       "      <th>zip_code_Surburban</th>\n",
       "      <th>zip_code_Urban</th>\n",
       "      <th>channel_Multichannel</th>\n",
       "      <th>channel_Phone</th>\n",
       "      <th>channel_Web</th>\n",
       "      <th>uplift_score</th>\n",
       "    </tr>\n",
       "  </thead>\n",
       "  <tbody>\n",
       "    <tr>\n",
       "      <th>0</th>\n",
       "      <td>10</td>\n",
       "      <td>142.44</td>\n",
       "      <td>1</td>\n",
       "      <td>0</td>\n",
       "      <td>0</td>\n",
       "      <td>1</td>\n",
       "      <td>2</td>\n",
       "      <td>0</td>\n",
       "      <td>0</td>\n",
       "      <td>1</td>\n",
       "      <td>0</td>\n",
       "      <td>0</td>\n",
       "      <td>1</td>\n",
       "      <td>0</td>\n",
       "      <td>0.006968</td>\n",
       "    </tr>\n",
       "    <tr>\n",
       "      <th>1</th>\n",
       "      <td>6</td>\n",
       "      <td>329.08</td>\n",
       "      <td>1</td>\n",
       "      <td>1</td>\n",
       "      <td>1</td>\n",
       "      <td>0</td>\n",
       "      <td>0</td>\n",
       "      <td>0</td>\n",
       "      <td>1</td>\n",
       "      <td>0</td>\n",
       "      <td>0</td>\n",
       "      <td>0</td>\n",
       "      <td>0</td>\n",
       "      <td>1</td>\n",
       "      <td>0.022530</td>\n",
       "    </tr>\n",
       "    <tr>\n",
       "      <th>2</th>\n",
       "      <td>7</td>\n",
       "      <td>180.65</td>\n",
       "      <td>0</td>\n",
       "      <td>1</td>\n",
       "      <td>1</td>\n",
       "      <td>1</td>\n",
       "      <td>2</td>\n",
       "      <td>0</td>\n",
       "      <td>0</td>\n",
       "      <td>1</td>\n",
       "      <td>0</td>\n",
       "      <td>0</td>\n",
       "      <td>0</td>\n",
       "      <td>1</td>\n",
       "      <td>0.077381</td>\n",
       "    </tr>\n",
       "    <tr>\n",
       "      <th>3</th>\n",
       "      <td>2</td>\n",
       "      <td>45.34</td>\n",
       "      <td>1</td>\n",
       "      <td>0</td>\n",
       "      <td>0</td>\n",
       "      <td>1</td>\n",
       "      <td>2</td>\n",
       "      <td>0</td>\n",
       "      <td>0</td>\n",
       "      <td>0</td>\n",
       "      <td>1</td>\n",
       "      <td>0</td>\n",
       "      <td>0</td>\n",
       "      <td>1</td>\n",
       "      <td>0.027151</td>\n",
       "    </tr>\n",
       "    <tr>\n",
       "      <th>4</th>\n",
       "      <td>6</td>\n",
       "      <td>134.83</td>\n",
       "      <td>0</td>\n",
       "      <td>1</td>\n",
       "      <td>0</td>\n",
       "      <td>1</td>\n",
       "      <td>3</td>\n",
       "      <td>1</td>\n",
       "      <td>0</td>\n",
       "      <td>1</td>\n",
       "      <td>0</td>\n",
       "      <td>0</td>\n",
       "      <td>1</td>\n",
       "      <td>0</td>\n",
       "      <td>0.074412</td>\n",
       "    </tr>\n",
       "  </tbody>\n",
       "</table>\n",
       "</div>"
      ],
      "text/plain": [
       "   recency  history  used_discount  used_bogo  is_referral  treatment  \\\n",
       "0       10   142.44              1          0            0          1   \n",
       "1        6   329.08              1          1            1          0   \n",
       "2        7   180.65              0          1            1          1   \n",
       "3        2    45.34              1          0            0          1   \n",
       "4        6   134.83              0          1            0          1   \n",
       "\n",
       "   target_class  conversion  zip_code_Rural  zip_code_Surburban  \\\n",
       "0             2           0               0                   1   \n",
       "1             0           0               1                   0   \n",
       "2             2           0               0                   1   \n",
       "3             2           0               0                   0   \n",
       "4             3           1               0                   1   \n",
       "\n",
       "   zip_code_Urban  channel_Multichannel  channel_Phone  channel_Web  \\\n",
       "0               0                     0              1            0   \n",
       "1               0                     0              0            1   \n",
       "2               0                     0              0            1   \n",
       "3               1                     0              0            1   \n",
       "4               0                     0              1            0   \n",
       "\n",
       "   uplift_score  \n",
       "0      0.006968  \n",
       "1      0.022530  \n",
       "2      0.077381  \n",
       "3      0.027151  \n",
       "4      0.074412  "
      ]
     },
     "execution_count": 3,
     "metadata": {},
     "output_type": "execute_result"
    }
   ],
   "source": [
    "print('Data discount shape: {}'.format(df_bogo.shape))\n",
    "df_bogo.head()"
   ]
  },
  {
   "cell_type": "markdown",
   "metadata": {
    "id": "wCSHXdIz52Zi"
   },
   "source": [
    "Структура предоставленных таблиц идентична. Каждая строка в таблице отвечает за  признаки, характеризующие некоторого конкретного пользователя. \n",
    "\n",
    "С более детальным описанием признаков в данных мы познакомимся позже. Сейчас для нас важны 4 следующих признака в данных:\n",
    "* **treatment**  - фактор целевого воздействия (1 - было воздействие, 0 - воздействия не было)\n",
    "\n",
    "    Для данных о скидках 1 означает, что клиенту была предложена скидка\n",
    "    \n",
    "    Для данных о промоакциях 1 означает, что клиенту была предложена промоакция\n",
    "\n",
    "* **conversion** - признак конверсии (1 - купил, 0 - не купил)\n",
    "\n",
    "* **target_class** - класс клиента (вспомогательный признак):\n",
    "    * **0 - Control Non-Responders(CN)** \n",
    "\n",
    "        Это клиенты, которым не было выдвинуто предложение (целевое воздействие) и они ничего не купили ((y=0, c) в наших терминах)\n",
    "    * **1 - Control Responders(CR)**\n",
    "\n",
    "        Это клиенты, совершившие покупку без предложения (целевого воздействия) (y=1, c)\n",
    "    * **2 - Treatment Non-Responders(CN)**\n",
    "\n",
    "        Это клиенты, которым было выдвинуто предложение, но они не совершили покупку (y=0, t)\n",
    "    * **3 - Treatment Responders(CN)** \n",
    "        \n",
    "        Это клиенты, которым было выдвинуто предложение (совершено целевое воздействие) и они совершили покупку (y=1, t)\n",
    "\n",
    "* **uplift_score** - uplift-эффект, предсказанный некоторой моделью машинного обучения для конкретного клиента"
   ]
  },
  {
   "cell_type": "markdown",
   "metadata": {
    "id": "eDJNtKko52Zj"
   },
   "source": [
    "Нашей задачей в рамках данной практики является реализовать функцию для построения quni-curve и рассчета quni-score. "
   ]
  },
  {
   "cell_type": "markdown",
   "metadata": {
    "id": "ASDFK5TU52Zj"
   },
   "source": [
    "## Работаем с данными о скидках"
   ]
  },
  {
   "cell_type": "markdown",
   "metadata": {
    "id": "rsdbcPhh52Zk"
   },
   "source": [
    "### Quni-curve и qini-score"
   ]
  },
  {
   "cell_type": "markdown",
   "metadata": {
    "id": "3NqCgdEb52Zk"
   },
   "source": [
    "Создадим функцию для построения qini-curve и расчета qini-score. Она будет принимать на вход некоторый DataFrame, в котором должны содержаться признаки uplift_score (uplift-эффект) и target_class (класс пользователя). "
   ]
  },
  {
   "cell_type": "code",
   "execution_count": 4,
   "metadata": {
    "id": "gMHz3WrU52Zk"
   },
   "outputs": [],
   "source": [
    "def qini_df(df, title='train', figsize=(5, 3)):\n",
    "    # Отранжируем выборку по значению uplift в убывающем порядке\n",
    "    ranked = df.sort_values(\"uplift_score\", ascending=False)\n",
    "    \n",
    "    N_c = sum(ranked['target_class'] <= 1)\n",
    "    N_t = sum(ranked['target_class'] >= 2)\n",
    "    \n",
    "    # Посчитаем в отсортированном датафрейме основные показатели, которые используются при расчете qini\n",
    "    ranked['n_c1'] = 0\n",
    "    ranked['n_t1'] = 0\n",
    "    ranked.loc[ranked.target_class == 1,'n_c1'] = 1\n",
    "    ranked.loc[ranked.target_class == 3,'n_t1'] = 1\n",
    "    ranked['n_c1/nc'] = ranked.n_c1.cumsum() / N_c\n",
    "    ranked['n_t1/nt'] = ranked.n_t1.cumsum() / N_t\n",
    "    \n",
    "    # Посчитаем qini curve и рандомную прямую под ней\n",
    "    ranked['uplift'] = round(ranked['n_t1/nt'] - ranked['n_c1/nc'],5)\n",
    "    # Добавим случайную кривую\n",
    "    ranked['random_uplift'] = round(ranked[\"uplift_score\"].rank(pct=True, ascending=False) * ranked['uplift'].iloc[-1],5)\n",
    "    ranked[\"n\"] = ranked[\"uplift_score\"].rank(pct=True, ascending=False)\n",
    "    \n",
    "    # Немного кода для визуализации\n",
    "    fig = plt.figure(figsize=figsize)\n",
    "    plt.plot(ranked['n'], ranked['uplift'], color='r', label='Model')\n",
    "    plt.plot(ranked['n'], ranked['random_uplift'], color='b', label='RandomModel')\n",
    "    plt.legend()\n",
    "    plt.title('Qini-curve for {} samples'.format(title))\n",
    "    plt.show()\n",
    "    quni_score = (ranked['uplift'] - ranked['random_uplift']).sum()\n",
    "    print('Qini score: {:.3f}'.format(quni_score))\n",
    "    print(ranked.sort_values(\"n\", ascending=True).iloc[-1].uplift)"
   ]
  },
  {
   "cell_type": "markdown",
   "metadata": {
    "id": "APcFYlHI52Zk"
   },
   "source": [
    "Построим qini-curve и рассчитаем qini-score для данных о скидках."
   ]
  },
  {
   "cell_type": "code",
   "execution_count": 5,
   "metadata": {
    "colab": {
     "base_uri": "https://localhost:8080/",
     "height": 244
    },
    "executionInfo": {
     "elapsed": 844,
     "status": "ok",
     "timestamp": 1677350931269,
     "user": {
      "displayName": "Андрей Достоевский",
      "userId": "09718989537568551698"
     },
     "user_tz": -180
    },
    "id": "3ZvTRe1552Zl",
    "outputId": "58ff8518-2838-4e27-dd9e-f42f7c4e244a"
   },
   "outputs": [
    {
     "data": {
      "image/png": "[encoded data removed]",
      "text/plain": [
       "<Figure size 500x300 with 1 Axes>"
      ]
     },
     "metadata": {},
     "output_type": "display_data"
    },
    {
     "name": "stdout",
     "output_type": "stream",
     "text": [
      "Qini score: 514.117\n",
      "0.07659\n"
     ]
    }
   ],
   "source": [
    "qini_df(df_discount)"
   ]
  },
  {
   "cell_type": "markdown",
   "metadata": {
    "id": "bp-MLIuJ52Zl"
   },
   "source": [
    "## Работаем с данными о промоакциях"
   ]
  },
  {
   "cell_type": "markdown",
   "metadata": {
    "id": "CNf6XjKI52Zl"
   },
   "source": [
    "Теперь вам предстоит самостоятельно оценить результаты uplift-моделирования на данных о промоакциях. "
   ]
  },
  {
   "cell_type": "markdown",
   "metadata": {
    "id": "LHlghGsv52Zl"
   },
   "source": [
    "**Задание №1**"
   ]
  },
  {
   "cell_type": "markdown",
   "metadata": {
    "id": "xli1QzQY52Zl"
   },
   "source": [
    "Рассчитайте qini-score для результатов uplift-моделирования на данных о промоакциях (df_bogo) с точностью до третьего знака после запятой. Полученный результат запишите в качестве ответа."
   ]
  },
  {
   "cell_type": "code",
   "execution_count": 6,
   "metadata": {
    "id": "VXDk_55B52Zm"
   },
   "outputs": [
    {
     "data": {
      "image/png": "[encoded data removed]",
      "text/plain": [
       "<Figure size 500x300 with 1 Axes>"
      ]
     },
     "metadata": {},
     "output_type": "display_data"
    },
    {
     "name": "stdout",
     "output_type": "stream",
     "text": [
      "Qini score: 551.121\n",
      "0.04523\n"
     ]
    }
   ],
   "source": [
    "qini_df(df_bogo)"
   ]
  },
  {
   "cell_type": "markdown",
   "metadata": {
    "id": "dTflT1Qa52Zm"
   },
   "source": [
    "**Задание №2**"
   ]
  },
  {
   "cell_type": "markdown",
   "metadata": {
    "id": "wb_3xUra52Zm"
   },
   "source": [
    "Найдите ординату (координату по оси y) у крайней точки случайной кривой по датасету о промоакциях (df_bogo) с точностью до третьего знака после запятой."
   ]
  },
  {
   "cell_type": "code",
   "execution_count": 7,
   "metadata": {
    "id": "gRRlIpKI52Zm"
   },
   "outputs": [],
   "source": [
    "# ваш код здесь\n",
    "# мой код выше"
   ]
  }
 ],
 "metadata": {
  "colab": {
   "provenance": []
  },
  "kernelspec": {
   "display_name": "Python 3",
   "language": "python",
   "name": "python3"
  },
  "language_info": {
   "codemirror_mode": {
    "name": "ipython",
    "version": 3
   },
   "file_extension": ".py",
   "mimetype": "text/x-python",
   "name": "python",
   "nbconvert_exporter": "python",
   "pygments_lexer": "ipython3",
   "version": "3.12.8"
  },
  "orig_nbformat": 4
 },
 "nbformat": 4,
 "nbformat_minor": 0
}
