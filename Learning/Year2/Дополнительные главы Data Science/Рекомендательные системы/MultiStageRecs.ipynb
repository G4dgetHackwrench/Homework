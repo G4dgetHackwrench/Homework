{
 "cells": [
  {
   "cell_type": "code",
   "execution_count": 1,
   "metadata": {
    "id": "S2m9jrt-lgfH",
    "outputId": "8ab5ee48-d492-4eb9-a5b0-d39be86612db"
   },
   "outputs": [
    {
     "name": "stderr",
     "output_type": "stream",
     "text": [
      "c:\\Users\\anzel\\anaconda3\\envs\\py311\\Lib\\site-packages\\tqdm\\auto.py:21: TqdmWarning: IProgress not found. Please update jupyter and ipywidgets. See https://ipywidgets.readthedocs.io/en/stable/user_install.html\n",
      "  from .autonotebook import tqdm as notebook_tqdm\n",
      "c:\\Users\\anzel\\anaconda3\\envs\\py311\\Lib\\site-packages\\lightfm\\_lightfm_fast.py:9: UserWarning: LightFM was compiled without OpenMP support. Only a single thread will be used.\n",
      "  warnings.warn(\n"
     ]
    }
   ],
   "source": [
    "import pandas as pd\n",
    "import implicit\n",
    "import lightfm\n",
    "import scipy\n",
    "\n",
    "import string\n",
    "# Библиотека построения индекса приближенного поиска ближайших соседей\n",
    "import annoy\n",
    "import numpy as np\n",
    "\n",
    "from pymorphy3 import MorphAnalyzer\n",
    "from stop_words import get_stop_words\n",
    "from gensim.models import FastText\n",
    "from tqdm import tqdm_notebook\n",
    "\n",
    "from sklearn.model_selection import train_test_split"
   ]
  },
  {
   "cell_type": "code",
   "execution_count": 2,
   "metadata": {
    "id": "ddqQLulwlgfO"
   },
   "outputs": [],
   "source": [
    "# Для фильтрации пунктуации\n",
    "exclude = set(string.punctuation)\n",
    "# Для приведения слов в начальной форме\n",
    "morpher = MorphAnalyzer()\n",
    "\n",
    "# Для фильтрации стоп-слов\n",
    "sw = get_stop_words(\"en\")\n",
    "\n",
    "def preprocess_txt(line):\n",
    "    spls = \"\".join(i for i in str(line).strip() if i not in exclude).split()\n",
    "    spls = [morpher.parse(i.lower())[0].normal_form for i in spls]\n",
    "    spls = [i for i in spls if i not in sw and i != \"\"]\n",
    "    return spls"
   ]
  },
  {
   "cell_type": "code",
   "execution_count": 3,
   "metadata": {
    "id": "hX4jSy5UlgfQ",
    "outputId": "688846ff-12a4-426e-f82b-143cc7c8c4e0"
   },
   "outputs": [
    {
     "data": {
      "text/html": [
       "<div>\n",
       "<style scoped>\n",
       "    .dataframe tbody tr th:only-of-type {\n",
       "        vertical-align: middle;\n",
       "    }\n",
       "\n",
       "    .dataframe tbody tr th {\n",
       "        vertical-align: top;\n",
       "    }\n",
       "\n",
       "    .dataframe thead th {\n",
       "        text-align: right;\n",
       "    }\n",
       "</style>\n",
       "<table border=\"1\" class=\"dataframe\">\n",
       "  <thead>\n",
       "    <tr style=\"text-align: right;\">\n",
       "      <th></th>\n",
       "      <th>user id</th>\n",
       "      <th>item id</th>\n",
       "      <th>rating</th>\n",
       "      <th>timestamp</th>\n",
       "      <th>score</th>\n",
       "    </tr>\n",
       "  </thead>\n",
       "  <tbody>\n",
       "    <tr>\n",
       "      <th>214</th>\n",
       "      <td>259</td>\n",
       "      <td>255</td>\n",
       "      <td>4</td>\n",
       "      <td>874724710</td>\n",
       "      <td>1</td>\n",
       "    </tr>\n",
       "    <tr>\n",
       "      <th>83965</th>\n",
       "      <td>259</td>\n",
       "      <td>286</td>\n",
       "      <td>4</td>\n",
       "      <td>874724727</td>\n",
       "      <td>1</td>\n",
       "    </tr>\n",
       "    <tr>\n",
       "      <th>43027</th>\n",
       "      <td>259</td>\n",
       "      <td>298</td>\n",
       "      <td>4</td>\n",
       "      <td>874724754</td>\n",
       "      <td>1</td>\n",
       "    </tr>\n",
       "    <tr>\n",
       "      <th>21396</th>\n",
       "      <td>259</td>\n",
       "      <td>185</td>\n",
       "      <td>4</td>\n",
       "      <td>874724781</td>\n",
       "      <td>1</td>\n",
       "    </tr>\n",
       "    <tr>\n",
       "      <th>82655</th>\n",
       "      <td>259</td>\n",
       "      <td>173</td>\n",
       "      <td>4</td>\n",
       "      <td>874724843</td>\n",
       "      <td>1</td>\n",
       "    </tr>\n",
       "  </tbody>\n",
       "</table>\n",
       "</div>"
      ],
      "text/plain": [
       "       user id  item id  rating  timestamp  score\n",
       "214        259      255       4  874724710      1\n",
       "83965      259      286       4  874724727      1\n",
       "43027      259      298       4  874724754      1\n",
       "21396      259      185       4  874724781      1\n",
       "82655      259      173       4  874724843      1"
      ]
     },
     "execution_count": 3,
     "metadata": {},
     "output_type": "execute_result"
    }
   ],
   "source": [
    "# Загрузим рейтинги, также как делали\n",
    "ratings = pd.read_csv(\"data/ml-100k/u.data\", sep=\"\\t\", header=None)\n",
    "ratings.columns = ['user id', 'item id', 'rating', 'timestamp']\n",
    "ratings.sort_values('timestamp', inplace=True)\n",
    "\n",
    "ratings['score'] = (ratings['rating'] > 2).apply(int)\n",
    "train, test = train_test_split(ratings, test_size=0.2, shuffle=False)\n",
    "\n",
    "ratings.head()"
   ]
  },
  {
   "cell_type": "code",
   "execution_count": 4,
   "metadata": {
    "id": "xXuM5W2KlgfR",
    "outputId": "3b5fb32d-0945-4e8f-ab3a-5618b05caa9b"
   },
   "outputs": [
    {
     "data": {
      "text/html": [
       "<div>\n",
       "<style scoped>\n",
       "    .dataframe tbody tr th:only-of-type {\n",
       "        vertical-align: middle;\n",
       "    }\n",
       "\n",
       "    .dataframe tbody tr th {\n",
       "        vertical-align: top;\n",
       "    }\n",
       "\n",
       "    .dataframe thead th {\n",
       "        text-align: right;\n",
       "    }\n",
       "</style>\n",
       "<table border=\"1\" class=\"dataframe\">\n",
       "  <thead>\n",
       "    <tr style=\"text-align: right;\">\n",
       "      <th></th>\n",
       "      <th>id</th>\n",
       "      <th>title</th>\n",
       "      <th>tagline</th>\n",
       "      <th>description</th>\n",
       "      <th>genres</th>\n",
       "      <th>keywords</th>\n",
       "      <th>date</th>\n",
       "      <th>collection</th>\n",
       "      <th>runtime</th>\n",
       "      <th>revenue</th>\n",
       "      <th>...</th>\n",
       "      <th>cast</th>\n",
       "      <th>production_companies</th>\n",
       "      <th>production_countries</th>\n",
       "      <th>popularity</th>\n",
       "      <th>average_vote</th>\n",
       "      <th>num_votes</th>\n",
       "      <th>language</th>\n",
       "      <th>imdb_id</th>\n",
       "      <th>poster_url</th>\n",
       "      <th>joined</th>\n",
       "    </tr>\n",
       "  </thead>\n",
       "  <tbody>\n",
       "    <tr>\n",
       "      <th>0</th>\n",
       "      <td>862</td>\n",
       "      <td>Toy Story</td>\n",
       "      <td>NaN</td>\n",
       "      <td>Led by Woody, Andy's toys live happily in his ...</td>\n",
       "      <td>animation, comedy, family</td>\n",
       "      <td>jealousy, toy, boy, friendship, friends, rival...</td>\n",
       "      <td>1995-10-30</td>\n",
       "      <td>Toy Story Collection</td>\n",
       "      <td>81.0</td>\n",
       "      <td>373554033.0</td>\n",
       "      <td>...</td>\n",
       "      <td>Tom Hanks, Tim Allen, Don Rickles, Jim Varney,...</td>\n",
       "      <td>Pixar Animation Studios</td>\n",
       "      <td>United States of America</td>\n",
       "      <td>21.946943</td>\n",
       "      <td>7.7</td>\n",
       "      <td>5415.0</td>\n",
       "      <td>en</td>\n",
       "      <td>tt0114709</td>\n",
       "      <td>/rhIRbceoE9lR4veEXuwCC2wARtG.jpg</td>\n",
       "      <td>[toy, story, led, woody, andys, toys, live, ha...</td>\n",
       "    </tr>\n",
       "    <tr>\n",
       "      <th>1</th>\n",
       "      <td>8844</td>\n",
       "      <td>Jumanji</td>\n",
       "      <td>Roll the dice and unleash the excitement!</td>\n",
       "      <td>When siblings Judy and Peter discover an encha...</td>\n",
       "      <td>adventure, fantasy, family</td>\n",
       "      <td>board game, disappearance, based on children's...</td>\n",
       "      <td>1995-12-15</td>\n",
       "      <td>NaN</td>\n",
       "      <td>104.0</td>\n",
       "      <td>262797249.0</td>\n",
       "      <td>...</td>\n",
       "      <td>Robin Williams, Jonathan Hyde, Kirsten Dunst, ...</td>\n",
       "      <td>TriStar Pictures, Teitler Film, Interscope Com...</td>\n",
       "      <td>United States of America</td>\n",
       "      <td>17.015539</td>\n",
       "      <td>6.9</td>\n",
       "      <td>2413.0</td>\n",
       "      <td>en</td>\n",
       "      <td>tt0113497</td>\n",
       "      <td>/vzmL6fP7aPKNKPRTFnZmiUfciyV.jpg</td>\n",
       "      <td>[jumanji, siblings, judy, peter, discover, enc...</td>\n",
       "    </tr>\n",
       "    <tr>\n",
       "      <th>2</th>\n",
       "      <td>15602</td>\n",
       "      <td>Grumpier Old Men</td>\n",
       "      <td>Still Yelling. Still Fighting. Still Ready for...</td>\n",
       "      <td>A family wedding reignites the ancient feud be...</td>\n",
       "      <td>romance, comedy</td>\n",
       "      <td>fishing, best friend, duringcreditsstinger, ol...</td>\n",
       "      <td>1995-12-22</td>\n",
       "      <td>Grumpy Old Men Collection</td>\n",
       "      <td>101.0</td>\n",
       "      <td>0.0</td>\n",
       "      <td>...</td>\n",
       "      <td>Walter Matthau, Jack Lemmon, Ann-Margret, Soph...</td>\n",
       "      <td>Warner Bros., Lancaster Gate</td>\n",
       "      <td>United States of America</td>\n",
       "      <td>11.712900</td>\n",
       "      <td>6.5</td>\n",
       "      <td>92.0</td>\n",
       "      <td>en</td>\n",
       "      <td>tt0113228</td>\n",
       "      <td>/6ksm1sjKMFLbO7UY2i6G1ju9SML.jpg</td>\n",
       "      <td>[grumpier, old, men, family, wedding, reignite...</td>\n",
       "    </tr>\n",
       "    <tr>\n",
       "      <th>3</th>\n",
       "      <td>31357</td>\n",
       "      <td>Waiting to Exhale</td>\n",
       "      <td>Friends are the people who let you be yourself...</td>\n",
       "      <td>Cheated on, mistreated and stepped on, the wom...</td>\n",
       "      <td>comedy, drama, romance</td>\n",
       "      <td>based on novel, interracial relationship, sing...</td>\n",
       "      <td>1995-12-22</td>\n",
       "      <td>NaN</td>\n",
       "      <td>127.0</td>\n",
       "      <td>81452156.0</td>\n",
       "      <td>...</td>\n",
       "      <td>Whitney Houston, Angela Bassett, Loretta Devin...</td>\n",
       "      <td>Twentieth Century Fox Film Corporation</td>\n",
       "      <td>United States of America</td>\n",
       "      <td>3.859495</td>\n",
       "      <td>6.1</td>\n",
       "      <td>34.0</td>\n",
       "      <td>en</td>\n",
       "      <td>tt0114885</td>\n",
       "      <td>/16XOMpEaLWkrcPqSQqhTmeJuqQl.jpg</td>\n",
       "      <td>[waiting, exhale, cheated, mistreated, stepped...</td>\n",
       "    </tr>\n",
       "    <tr>\n",
       "      <th>4</th>\n",
       "      <td>11862</td>\n",
       "      <td>Father of the Bride Part II</td>\n",
       "      <td>Just When His World Is Back To Normal... He's ...</td>\n",
       "      <td>Just when George Banks has recovered from his ...</td>\n",
       "      <td>comedy</td>\n",
       "      <td>baby, midlife crisis, confidence, aging, daugh...</td>\n",
       "      <td>1995-02-10</td>\n",
       "      <td>Father of the Bride Collection</td>\n",
       "      <td>106.0</td>\n",
       "      <td>76578911.0</td>\n",
       "      <td>...</td>\n",
       "      <td>Steve Martin, Diane Keaton, Martin Short, Kimb...</td>\n",
       "      <td>Sandollar Productions, Touchstone Pictures</td>\n",
       "      <td>United States of America</td>\n",
       "      <td>8.387519</td>\n",
       "      <td>5.7</td>\n",
       "      <td>173.0</td>\n",
       "      <td>en</td>\n",
       "      <td>tt0113041</td>\n",
       "      <td>/e64sOI48hQXyru7naBFyssKFxVd.jpg</td>\n",
       "      <td>[father, bride, part, ii, just, george, banks,...</td>\n",
       "    </tr>\n",
       "  </tbody>\n",
       "</table>\n",
       "<p>5 rows × 22 columns</p>\n",
       "</div>"
      ],
      "text/plain": [
       "      id                        title  \\\n",
       "0    862                    Toy Story   \n",
       "1   8844                      Jumanji   \n",
       "2  15602             Grumpier Old Men   \n",
       "3  31357            Waiting to Exhale   \n",
       "4  11862  Father of the Bride Part II   \n",
       "\n",
       "                                             tagline  \\\n",
       "0                                                NaN   \n",
       "1          Roll the dice and unleash the excitement!   \n",
       "2  Still Yelling. Still Fighting. Still Ready for...   \n",
       "3  Friends are the people who let you be yourself...   \n",
       "4  Just When His World Is Back To Normal... He's ...   \n",
       "\n",
       "                                         description  \\\n",
       "0  Led by Woody, Andy's toys live happily in his ...   \n",
       "1  When siblings Judy and Peter discover an encha...   \n",
       "2  A family wedding reignites the ancient feud be...   \n",
       "3  Cheated on, mistreated and stepped on, the wom...   \n",
       "4  Just when George Banks has recovered from his ...   \n",
       "\n",
       "                       genres  \\\n",
       "0   animation, comedy, family   \n",
       "1  adventure, fantasy, family   \n",
       "2             romance, comedy   \n",
       "3      comedy, drama, romance   \n",
       "4                      comedy   \n",
       "\n",
       "                                            keywords        date  \\\n",
       "0  jealousy, toy, boy, friendship, friends, rival...  1995-10-30   \n",
       "1  board game, disappearance, based on children's...  1995-12-15   \n",
       "2  fishing, best friend, duringcreditsstinger, ol...  1995-12-22   \n",
       "3  based on novel, interracial relationship, sing...  1995-12-22   \n",
       "4  baby, midlife crisis, confidence, aging, daugh...  1995-02-10   \n",
       "\n",
       "                       collection  runtime      revenue  ...  \\\n",
       "0            Toy Story Collection     81.0  373554033.0  ...   \n",
       "1                             NaN    104.0  262797249.0  ...   \n",
       "2       Grumpy Old Men Collection    101.0          0.0  ...   \n",
       "3                             NaN    127.0   81452156.0  ...   \n",
       "4  Father of the Bride Collection    106.0   76578911.0  ...   \n",
       "\n",
       "                                                cast  \\\n",
       "0  Tom Hanks, Tim Allen, Don Rickles, Jim Varney,...   \n",
       "1  Robin Williams, Jonathan Hyde, Kirsten Dunst, ...   \n",
       "2  Walter Matthau, Jack Lemmon, Ann-Margret, Soph...   \n",
       "3  Whitney Houston, Angela Bassett, Loretta Devin...   \n",
       "4  Steve Martin, Diane Keaton, Martin Short, Kimb...   \n",
       "\n",
       "                                production_companies  \\\n",
       "0                            Pixar Animation Studios   \n",
       "1  TriStar Pictures, Teitler Film, Interscope Com...   \n",
       "2                       Warner Bros., Lancaster Gate   \n",
       "3             Twentieth Century Fox Film Corporation   \n",
       "4         Sandollar Productions, Touchstone Pictures   \n",
       "\n",
       "       production_countries popularity average_vote  num_votes  language  \\\n",
       "0  United States of America  21.946943          7.7     5415.0        en   \n",
       "1  United States of America  17.015539          6.9     2413.0        en   \n",
       "2  United States of America  11.712900          6.5       92.0        en   \n",
       "3  United States of America   3.859495          6.1       34.0        en   \n",
       "4  United States of America   8.387519          5.7      173.0        en   \n",
       "\n",
       "     imdb_id                        poster_url  \\\n",
       "0  tt0114709  /rhIRbceoE9lR4veEXuwCC2wARtG.jpg   \n",
       "1  tt0113497  /vzmL6fP7aPKNKPRTFnZmiUfciyV.jpg   \n",
       "2  tt0113228  /6ksm1sjKMFLbO7UY2i6G1ju9SML.jpg   \n",
       "3  tt0114885  /16XOMpEaLWkrcPqSQqhTmeJuqQl.jpg   \n",
       "4  tt0113041  /e64sOI48hQXyru7naBFyssKFxVd.jpg   \n",
       "\n",
       "                                              joined  \n",
       "0  [toy, story, led, woody, andys, toys, live, ha...  \n",
       "1  [jumanji, siblings, judy, peter, discover, enc...  \n",
       "2  [grumpier, old, men, family, wedding, reignite...  \n",
       "3  [waiting, exhale, cheated, mistreated, stepped...  \n",
       "4  [father, bride, part, ii, just, george, banks,...  \n",
       "\n",
       "[5 rows x 22 columns]"
      ]
     },
     "execution_count": 4,
     "metadata": {},
     "output_type": "execute_result"
    }
   ],
   "source": [
    "# Загрузим данные о фильмах, сразу же создадим колонку с title+description предобработанные для обучения fasttext\n",
    "movies = pd.read_csv(\"data/ml-100k/movies.csv\")\n",
    "movies['joined'] = (movies['title'] + \" \" + movies[\"description\"]).apply(preprocess_txt)\n",
    "\n",
    "movies.head()"
   ]
  },
  {
   "cell_type": "code",
   "execution_count": 6,
   "metadata": {
    "colab": {
     "referenced_widgets": [
      "a845c4da8db14f7cb67a3b559133aa78"
     ]
    },
    "id": "Ihfn6pkglgfS",
    "outputId": "90583c77-af26-4f1e-e957-8cd59e195bdd"
   },
   "outputs": [
    {
     "name": "stderr",
     "output_type": "stream",
     "text": [
      "C:\\Users\\anzel\\AppData\\Local\\Temp\\ipykernel_15652\\3572501135.py:15: TqdmDeprecationWarning: This function will be removed in tqdm==5.0.0\n",
      "Please use `tqdm.notebook.tqdm` instead of `tqdm.tqdm_notebook`\n",
      "  for i in tqdm_notebook(range(len(movies))):\n"
     ]
    },
    {
     "ename": "ImportError",
     "evalue": "IProgress not found. Please update jupyter and ipywidgets. See https://ipywidgets.readthedocs.io/en/stable/user_install.html",
     "output_type": "error",
     "traceback": [
      "\u001b[1;31m---------------------------------------------------------------------------\u001b[0m",
      "\u001b[1;31mImportError\u001b[0m                               Traceback (most recent call last)",
      "Cell \u001b[1;32mIn[6], line 15\u001b[0m\n\u001b[0;32m     12\u001b[0m reverse_index_map \u001b[38;5;241m=\u001b[39m {}\n\u001b[0;32m     13\u001b[0m counter \u001b[38;5;241m=\u001b[39m \u001b[38;5;241m0\u001b[39m\n\u001b[1;32m---> 15\u001b[0m \u001b[38;5;28;01mfor\u001b[39;00m i \u001b[38;5;129;01min\u001b[39;00m \u001b[43mtqdm_notebook\u001b[49m\u001b[43m(\u001b[49m\u001b[38;5;28;43mrange\u001b[39;49m\u001b[43m(\u001b[49m\u001b[38;5;28;43mlen\u001b[39;49m\u001b[43m(\u001b[49m\u001b[43mmovies\u001b[49m\u001b[43m)\u001b[49m\u001b[43m)\u001b[49m\u001b[43m)\u001b[49m:\n\u001b[0;32m     16\u001b[0m     n_ft \u001b[38;5;241m=\u001b[39m \u001b[38;5;241m0\u001b[39m\n\u001b[0;32m     17\u001b[0m     index_map_movies[counter] \u001b[38;5;241m=\u001b[39m movies\u001b[38;5;241m.\u001b[39mloc[i, \u001b[38;5;124m\"\u001b[39m\u001b[38;5;124mtitle\u001b[39m\u001b[38;5;124m\"\u001b[39m]\n",
      "File \u001b[1;32mc:\\Users\\anzel\\anaconda3\\envs\\py311\\Lib\\site-packages\\tqdm\\__init__.py:28\u001b[0m, in \u001b[0;36mtqdm_notebook\u001b[1;34m(*args, **kwargs)\u001b[0m\n\u001b[0;32m     24\u001b[0m \u001b[38;5;28;01mfrom\u001b[39;00m\u001b[38;5;250m \u001b[39m\u001b[38;5;21;01m.\u001b[39;00m\u001b[38;5;21;01mnotebook\u001b[39;00m\u001b[38;5;250m \u001b[39m\u001b[38;5;28;01mimport\u001b[39;00m tqdm \u001b[38;5;28;01mas\u001b[39;00m _tqdm_notebook\n\u001b[0;32m     25\u001b[0m warn(\u001b[38;5;124m\"\u001b[39m\u001b[38;5;124mThis function will be removed in tqdm==5.0.0\u001b[39m\u001b[38;5;130;01m\\n\u001b[39;00m\u001b[38;5;124m\"\u001b[39m\n\u001b[0;32m     26\u001b[0m      \u001b[38;5;124m\"\u001b[39m\u001b[38;5;124mPlease use `tqdm.notebook.tqdm` instead of `tqdm.tqdm_notebook`\u001b[39m\u001b[38;5;124m\"\u001b[39m,\n\u001b[0;32m     27\u001b[0m      TqdmDeprecationWarning, stacklevel\u001b[38;5;241m=\u001b[39m\u001b[38;5;241m2\u001b[39m)\n\u001b[1;32m---> 28\u001b[0m \u001b[38;5;28;01mreturn\u001b[39;00m \u001b[43m_tqdm_notebook\u001b[49m\u001b[43m(\u001b[49m\u001b[38;5;241;43m*\u001b[39;49m\u001b[43margs\u001b[49m\u001b[43m,\u001b[49m\u001b[43m \u001b[49m\u001b[38;5;241;43m*\u001b[39;49m\u001b[38;5;241;43m*\u001b[39;49m\u001b[43mkwargs\u001b[49m\u001b[43m)\u001b[49m\n",
      "File \u001b[1;32mc:\\Users\\anzel\\anaconda3\\envs\\py311\\Lib\\site-packages\\tqdm\\notebook.py:234\u001b[0m, in \u001b[0;36mtqdm_notebook.__init__\u001b[1;34m(self, *args, **kwargs)\u001b[0m\n\u001b[0;32m    232\u001b[0m unit_scale \u001b[38;5;241m=\u001b[39m \u001b[38;5;241m1\u001b[39m \u001b[38;5;28;01mif\u001b[39;00m \u001b[38;5;28mself\u001b[39m\u001b[38;5;241m.\u001b[39munit_scale \u001b[38;5;129;01mis\u001b[39;00m \u001b[38;5;28;01mTrue\u001b[39;00m \u001b[38;5;28;01melse\u001b[39;00m \u001b[38;5;28mself\u001b[39m\u001b[38;5;241m.\u001b[39munit_scale \u001b[38;5;129;01mor\u001b[39;00m \u001b[38;5;241m1\u001b[39m\n\u001b[0;32m    233\u001b[0m total \u001b[38;5;241m=\u001b[39m \u001b[38;5;28mself\u001b[39m\u001b[38;5;241m.\u001b[39mtotal \u001b[38;5;241m*\u001b[39m unit_scale \u001b[38;5;28;01mif\u001b[39;00m \u001b[38;5;28mself\u001b[39m\u001b[38;5;241m.\u001b[39mtotal \u001b[38;5;28;01melse\u001b[39;00m \u001b[38;5;28mself\u001b[39m\u001b[38;5;241m.\u001b[39mtotal\n\u001b[1;32m--> 234\u001b[0m \u001b[38;5;28mself\u001b[39m\u001b[38;5;241m.\u001b[39mcontainer \u001b[38;5;241m=\u001b[39m \u001b[38;5;28;43mself\u001b[39;49m\u001b[38;5;241;43m.\u001b[39;49m\u001b[43mstatus_printer\u001b[49m\u001b[43m(\u001b[49m\u001b[38;5;28;43mself\u001b[39;49m\u001b[38;5;241;43m.\u001b[39;49m\u001b[43mfp\u001b[49m\u001b[43m,\u001b[49m\u001b[43m \u001b[49m\u001b[43mtotal\u001b[49m\u001b[43m,\u001b[49m\u001b[43m \u001b[49m\u001b[38;5;28;43mself\u001b[39;49m\u001b[38;5;241;43m.\u001b[39;49m\u001b[43mdesc\u001b[49m\u001b[43m,\u001b[49m\u001b[43m \u001b[49m\u001b[38;5;28;43mself\u001b[39;49m\u001b[38;5;241;43m.\u001b[39;49m\u001b[43mncols\u001b[49m\u001b[43m)\u001b[49m\n\u001b[0;32m    235\u001b[0m \u001b[38;5;28mself\u001b[39m\u001b[38;5;241m.\u001b[39mcontainer\u001b[38;5;241m.\u001b[39mpbar \u001b[38;5;241m=\u001b[39m proxy(\u001b[38;5;28mself\u001b[39m)\n\u001b[0;32m    236\u001b[0m \u001b[38;5;28mself\u001b[39m\u001b[38;5;241m.\u001b[39mdisplayed \u001b[38;5;241m=\u001b[39m \u001b[38;5;28;01mFalse\u001b[39;00m\n",
      "File \u001b[1;32mc:\\Users\\anzel\\anaconda3\\envs\\py311\\Lib\\site-packages\\tqdm\\notebook.py:108\u001b[0m, in \u001b[0;36mtqdm_notebook.status_printer\u001b[1;34m(_, total, desc, ncols)\u001b[0m\n\u001b[0;32m     99\u001b[0m \u001b[38;5;66;03m# Fallback to text bar if there's no total\u001b[39;00m\n\u001b[0;32m    100\u001b[0m \u001b[38;5;66;03m# DEPRECATED: replaced with an 'info' style bar\u001b[39;00m\n\u001b[0;32m    101\u001b[0m \u001b[38;5;66;03m# if not total:\u001b[39;00m\n\u001b[1;32m   (...)\u001b[0m\n\u001b[0;32m    105\u001b[0m \n\u001b[0;32m    106\u001b[0m \u001b[38;5;66;03m# Prepare IPython progress bar\u001b[39;00m\n\u001b[0;32m    107\u001b[0m \u001b[38;5;28;01mif\u001b[39;00m IProgress \u001b[38;5;129;01mis\u001b[39;00m \u001b[38;5;28;01mNone\u001b[39;00m:  \u001b[38;5;66;03m# #187 #451 #558 #872\u001b[39;00m\n\u001b[1;32m--> 108\u001b[0m     \u001b[38;5;28;01mraise\u001b[39;00m \u001b[38;5;167;01mImportError\u001b[39;00m(WARN_NOIPYW)\n\u001b[0;32m    109\u001b[0m \u001b[38;5;28;01mif\u001b[39;00m total:\n\u001b[0;32m    110\u001b[0m     pbar \u001b[38;5;241m=\u001b[39m IProgress(\u001b[38;5;28mmin\u001b[39m\u001b[38;5;241m=\u001b[39m\u001b[38;5;241m0\u001b[39m, \u001b[38;5;28mmax\u001b[39m\u001b[38;5;241m=\u001b[39mtotal)\n",
      "\u001b[1;31mImportError\u001b[0m: IProgress not found. Please update jupyter and ipywidgets. See https://ipywidgets.readthedocs.io/en/stable/user_install.html"
     ]
    }
   ],
   "source": [
    "# Подготовим кандидатогенератор, который будет отдавать фильмы похожие по текстовому описанию на те, которые оценил пользователь\n",
    "# Обучим Fasttext и заэмбедим фильмы\n",
    "sentences = [i for i in movies['joined'] if len(i) > 2]\n",
    "modelFT = FastText(sentences=sentences, min_count=1, window=5)\n",
    "\n",
    "# Для того, чтобы быстро находить айтемы положим эмбединги их тайтлов в ANN индекс\n",
    "# Создадим объект индекса\n",
    "ft_index_movies = annoy.AnnoyIndex(20 ,'angular')\n",
    "\n",
    "# Будем хранить соответствия не только id-> фильм, но и фильм-> id, чтобы быстрее находить эмбеддинги айтемов\n",
    "index_map_movies = {}\n",
    "reverse_index_map = {}\n",
    "counter = 0\n",
    "\n",
    "for i in tqdm_notebook(range(len(movies))):\n",
    "    n_ft = 0\n",
    "    index_map_movies[counter] = movies.loc[i, \"title\"]\n",
    "    reverse_index_map[movies.loc[i, \"id\"]] = counter\n",
    "    vector_ft = np.zeros(20)\n",
    "    # Каждое слово обернем в эмбеддинг\n",
    "    for word in movies.loc[i, \"joined\"]:\n",
    "        if word in modelFT:\n",
    "            vector_ft += modelFT[word]\n",
    "            n_ft += 1\n",
    "    if n_ft > 0:\n",
    "        vector_ft = vector_ft / n_ft\n",
    "    ft_index_movies.add_item(counter, vector_ft)\n",
    "    counter += 1\n",
    "\n",
    "# \n",
    "ft_index_movies.build(10)"
   ]
  },
  {
   "cell_type": "code",
   "execution_count": null,
   "metadata": {
    "id": "Fjvppbi0lgfT"
   },
   "outputs": [],
   "source": [
    "# Создадим метод, который по id фильма будет возвращать похожие на него по описанию фильмы\n",
    "def recommend(movie_id, num_sampled=10):\n",
    "    if movie_id not in reverse_index_map:\n",
    "        return []\n",
    "    return ft_index_movies.get_nns_by_item(reverse_index_map[movie_id], num_sampled)"
   ]
  },
  {
   "cell_type": "code",
   "execution_count": null,
   "metadata": {
    "id": "xBAt2UivlgfU"
   },
   "outputs": [],
   "source": [
    "# Сделаем сразу рандомный кандидатогенератор (он нам пригодится для кандидатогенерации по жанрам)\n",
    "def sample_random(sample_set, num_sampled=10):\n",
    "    return np.random.choice(sample_set, num_sampled, replace=False)"
   ]
  },
  {
   "cell_type": "code",
   "execution_count": null,
   "metadata": {
    "id": "PemDQOPalgfV"
   },
   "outputs": [],
   "source": [
    "# Сделаем кандидатогенератор по последним просмотренным жанрам\n",
    "\n",
    "movies2genres = {}\n",
    "genres_dict = {}\n",
    "\n",
    "for i in range(len(movies)):\n",
    "    genres = str(movies.loc[i, \"genres\"]).strip().split(\",\")\n",
    "    movies2genres[movies.loc[i, 'id']] = genres\n",
    "    for genre in genres:\n",
    "        if genre not in genres_dict:\n",
    "            genres_dict[genre] = []\n",
    "        genres_dict[genre].append(movies.loc[i, 'id'])"
   ]
  },
  {
   "cell_type": "code",
   "execution_count": null,
   "metadata": {
    "id": "MZ0sZaE1lgfW"
   },
   "outputs": [],
   "source": [
    "# Создадим метод, который по последнему пролайканному пользователем фильму будет возвращать набор кандидатов\n",
    "# КОнечно, целесообразно включать более полную историю, но все-таки это учебный пример\n",
    "\n",
    "movies_unique = movies['id'].unique()\n",
    "\n",
    "def candidate_generator(movie_id):\n",
    "    candidates_ft = []\n",
    "    if movie_id is not None:\n",
    "        candidates_ft = list(recommend(movie_id))\n",
    "    candidates_random = list(sample_random(movies_unique))\n",
    "\n",
    "    candidates_genres = []\n",
    "    for genre in movies2genres.get(movie_id, []):\n",
    "        candidates_genres += list(sample_random(genres_dict[genre], 5))\n",
    "    # Отфильтруем входной фильмы (он мог попасть в кандидаты) и уберем дубликаты\n",
    "    return set([i for i in candidates_ft + candidates_genres + candidates_random if i!= movie_id])"
   ]
  },
  {
   "cell_type": "code",
   "execution_count": null,
   "metadata": {
    "id": "f6PJONE3lgfX",
    "outputId": "2920f72d-947b-4f2d-f6cd-2932d0cd8bb9"
   },
   "outputs": [
    {
     "data": {
      "text/plain": [
       "{350,\n",
       " 1989,\n",
       " 2641,\n",
       " 3081,\n",
       " 5721,\n",
       " 7348,\n",
       " 7547,\n",
       " 10915,\n",
       " 11109,\n",
       " 12565,\n",
       " 19783,\n",
       " 21246,\n",
       " 26691,\n",
       " 29664,\n",
       " 35646,\n",
       " 36931,\n",
       " 37828,\n",
       " 40669,\n",
       " 41862,\n",
       " 45049,\n",
       " 49131,\n",
       " 52237,\n",
       " 54635,\n",
       " 56151,\n",
       " 74122,\n",
       " 175924,\n",
       " 183855,\n",
       " 224746,\n",
       " 285423,\n",
       " 337758}"
      ]
     },
     "execution_count": 56,
     "metadata": {},
     "output_type": "execute_result"
    }
   ],
   "source": [
    "# Проверим как работает наш кандидатогенератор\n",
    "\n",
    "candidate_generator(802)"
   ]
  },
  {
   "cell_type": "code",
   "execution_count": null,
   "metadata": {
    "id": "INLDZWV8lgfY",
    "outputId": "db2caf8c-13f0-4ea2-8a67-0dd504247a33"
   },
   "outputs": [
    {
     "data": {
      "text/plain": [
       "<lightfm.lightfm.LightFM at 0x7f6573bc4350>"
      ]
     },
     "execution_count": 54,
     "metadata": {},
     "output_type": "execute_result"
    }
   ],
   "source": [
    "# Подготовим наши ранжирующие факторизационные машины\n",
    "train_pivot = (1 + ratings.pivot(index=\"user id\", columns=\"item id\", values=\"score\")).fillna(0)\n",
    "train_pivot.reset_index(inplace=True, drop=False)\n",
    "train_pivot = scipy.sparse.csr_matrix(train_pivot)\n",
    "\n",
    "model = lightfm.LightFM(loss='warp')\n",
    "model.fit(train_pivot, epochs=30)"
   ]
  },
  {
   "cell_type": "code",
   "execution_count": null,
   "metadata": {
    "colab": {
     "referenced_widgets": [
      "023494c9ab02406b9b93ff23c56d2a9d"
     ]
    },
    "id": "6GQC4CLvlgfY",
    "outputId": "65e5669e-2f13-4499-9f47-6bd7d04de35e"
   },
   "outputs": [
    {
     "name": "stderr",
     "output_type": "stream",
     "text": [
      "/home/kinetik/anaconda3/lib/python3.7/site-packages/ipykernel_launcher.py:12: TqdmDeprecationWarning: This function will be removed in tqdm==5.0.0\n",
      "Please use `tqdm.notebook.tqdm` instead of `tqdm.tqdm_notebook`\n",
      "  if sys.path[0] == '':\n"
     ]
    },
    {
     "data": {
      "application/vnd.jupyter.widget-view+json": {
       "model_id": "023494c9ab02406b9b93ff23c56d2a9d",
       "version_major": 2,
       "version_minor": 0
      },
      "text/plain": [
       "HBox(children=(FloatProgress(value=0.0, max=301.0), HTML(value='')))"
      ]
     },
     "metadata": {},
     "output_type": "display_data"
    },
    {
     "name": "stdout",
     "output_type": "stream",
     "text": [
      "\n",
      "0.003986710963455149\n"
     ]
    }
   ],
   "source": [
    "# Посмотрим, насколько статичные рекомендации будут хороши: возьмем последний лайк для каждого пользователя в тренировочном сете\n",
    "item_ids = set(train['item id'].unique())\n",
    "known_likes = train[train['score'] > 0].groupby('user id')['item id'].unique().to_dict()\n",
    "\n",
    "# Получаем последние лайки\n",
    "last_like = train[train['score'] > 0].drop_duplicates(['user id'], keep=\"last\")[[\"user id\", \"item id\"]].to_dict()\n",
    "test_grouped = test[test['score'] > 0].groupby('user id')['item id'].unique().to_dict()\n",
    "\n",
    "\n",
    "map_at10 = 0\n",
    "\n",
    "for user_id, liked in tqdm_notebook(test_grouped.items()):\n",
    "    values = set(liked)\n",
    "    train_likes = set(known_likes.get(user_id, []))\n",
    "    candidates = list(candidate_generator(last_like.get(user_id, None)))\n",
    "    \n",
    "    # Факторизационные машины не умеют работать с айтемами, которых они не видели\n",
    "    # ПОэтому надо отфильтровать кандидатов\n",
    "    candidates = [i for i in candidates if i in item_ids]\n",
    "    \n",
    "    # Если мы не смогли ничего отскорить, то считаем, что пользователь просто получил нашу выдачу в рандомном порядке\n",
    "    recommendations = candidates[:min(10, len(candidates))]\n",
    "    if len(candidates) != 0:\n",
    "        recommendations = sorted(list(zip(item_ids, model.predict(user_id, candidates))), key=lambda x: x[1], reverse=True)\n",
    "        recommendations = set([i[0] for i in recommendations if i not in train_likes][:10])\n",
    "    map_at10 += len(values.intersection(recommendations)) / 10\n",
    "map_at10 = map_at10 / len(test_grouped)\n",
    "print(map_at10)"
   ]
  },
  {
   "cell_type": "markdown",
   "metadata": {
    "id": "TNqqzlkslgfZ"
   },
   "source": [
    "Мы видим, что качество просело, это объясняется тем, что мы начали рекомендовать из всего пула фильмов (не все видело наше ранжирование), данное упражнение должно было показать вам что такое многостадийные рекомендации. Вы должны усвоить, что обе стадии - ранжирование и кандидатогенерация тесно связаны между собой и очень важны каждая сама по себе."
   ]
  }
 ],
 "metadata": {
  "colab": {
   "collapsed_sections": [],
   "name": "MultiStageRecs.ipynb",
   "provenance": []
  },
  "kernelspec": {
   "display_name": "py311",
   "language": "python",
   "name": "python3"
  },
  "language_info": {
   "codemirror_mode": {
    "name": "ipython",
    "version": 3
   },
   "file_extension": ".py",
   "mimetype": "text/x-python",
   "name": "python",
   "nbconvert_exporter": "python",
   "pygments_lexer": "ipython3",
   "version": "3.11.11"
  }
 },
 "nbformat": 4,
 "nbformat_minor": 0
}
