{
 "cells": [
  {
   "cell_type": "markdown",
   "metadata": {},
   "source": [
    "Повысить прибыль от допродаж в интернет-магазине на 20%.\n",
    "\n",
    "***Лог событий(events)***\n",
    "* timestamp — время события\n",
    "* visitorid — идентификатор пользователя\n",
    "* event — тип события\n",
    "* itemid — идентификатор объекта\n",
    "* transactionid — идентификатор транзакции, если она проходила\n",
    "\n",
    "***Дерево категорий(category_tree)***\n",
    "* category_id — идентификатор категорий\n",
    "* parent_id — идентификатор родительской категории\n",
    "\n",
    "***Свойства товаров(item_properties_part1, item_properties_part2)***\n",
    "* timestamp — момент записи значения свойства\n",
    "* item_id — идентификатор объекта\n",
    "* property — свойство, кажется, они все, кроме категории, захешированы\n",
    "* value — значение свойства\n",
    "\n",
    "В разделе Валидация есть подгрузка обработанного датасета(нужно только раскомментировать, ссылка:)"
   ]
  },
  {
   "cell_type": "code",
   "execution_count": 1,
   "metadata": {},
   "outputs": [],
   "source": [
    "import numpy as np\n",
    "import pandas as pd\n",
    "from datetime import datetime\n",
    "import matplotlib.pyplot as plt\n",
    "from sklearn.model_selection import train_test_split\n",
    "from sklearn.feature_selection import mutual_info_classif\n",
    "from sklearn.preprocessing import StandardScaler\n",
    "import scipy.stats as stats\n",
    "import plotly.express as px\n",
    "import seaborn as sns\n",
    "from scipy.sparse import csr_matrix, coo_matrix\n",
    "#import implicit\n",
    "from implicit.cpu.als import AlternatingLeastSquares\n",
    "import optuna\n",
    "from optuna.samplers import TPESampler\n",
    "from sklearn.preprocessing import LabelEncoder\n",
    "#import lightgbm as lgb\n",
    "from lightgbm import LGBMRanker\n",
    "#from collections import defaultdict\n",
    "import pickle\n",
    "sns.set_theme('notebook')"
   ]
  },
  {
   "cell_type": "code",
   "execution_count": 2,
   "metadata": {},
   "outputs": [
    {
     "data": {
      "text/html": [
       "<div>\n",
       "<style scoped>\n",
       "    .dataframe tbody tr th:only-of-type {\n",
       "        vertical-align: middle;\n",
       "    }\n",
       "\n",
       "    .dataframe tbody tr th {\n",
       "        vertical-align: top;\n",
       "    }\n",
       "\n",
       "    .dataframe thead th {\n",
       "        text-align: right;\n",
       "    }\n",
       "</style>\n",
       "<table border=\"1\" class=\"dataframe\">\n",
       "  <thead>\n",
       "    <tr style=\"text-align: right;\">\n",
       "      <th></th>\n",
       "      <th>timestamp</th>\n",
       "      <th>visitorid</th>\n",
       "      <th>event</th>\n",
       "      <th>itemid</th>\n",
       "      <th>transactionid</th>\n",
       "    </tr>\n",
       "  </thead>\n",
       "  <tbody>\n",
       "    <tr>\n",
       "      <th>0</th>\n",
       "      <td>1433221332117</td>\n",
       "      <td>257597</td>\n",
       "      <td>view</td>\n",
       "      <td>355908</td>\n",
       "      <td>NaN</td>\n",
       "    </tr>\n",
       "    <tr>\n",
       "      <th>1</th>\n",
       "      <td>1433224214164</td>\n",
       "      <td>992329</td>\n",
       "      <td>view</td>\n",
       "      <td>248676</td>\n",
       "      <td>NaN</td>\n",
       "    </tr>\n",
       "    <tr>\n",
       "      <th>2</th>\n",
       "      <td>1433221999827</td>\n",
       "      <td>111016</td>\n",
       "      <td>view</td>\n",
       "      <td>318965</td>\n",
       "      <td>NaN</td>\n",
       "    </tr>\n",
       "    <tr>\n",
       "      <th>3</th>\n",
       "      <td>1433221955914</td>\n",
       "      <td>483717</td>\n",
       "      <td>view</td>\n",
       "      <td>253185</td>\n",
       "      <td>NaN</td>\n",
       "    </tr>\n",
       "    <tr>\n",
       "      <th>4</th>\n",
       "      <td>1433221337106</td>\n",
       "      <td>951259</td>\n",
       "      <td>view</td>\n",
       "      <td>367447</td>\n",
       "      <td>NaN</td>\n",
       "    </tr>\n",
       "  </tbody>\n",
       "</table>\n",
       "</div>"
      ],
      "text/plain": [
       "       timestamp  visitorid event  itemid  transactionid\n",
       "0  1433221332117     257597  view  355908            NaN\n",
       "1  1433224214164     992329  view  248676            NaN\n",
       "2  1433221999827     111016  view  318965            NaN\n",
       "3  1433221955914     483717  view  253185            NaN\n",
       "4  1433221337106     951259  view  367447            NaN"
      ]
     },
     "execution_count": 2,
     "metadata": {},
     "output_type": "execute_result"
    }
   ],
   "source": [
    "#загрузка датасета с событиями\n",
    "data = pd.read_csv('data/events.csv')\n",
    "data.head()"
   ]
  },
  {
   "cell_type": "code",
   "execution_count": 3,
   "metadata": {},
   "outputs": [
    {
     "data": {
      "text/html": [
       "<div>\n",
       "<style scoped>\n",
       "    .dataframe tbody tr th:only-of-type {\n",
       "        vertical-align: middle;\n",
       "    }\n",
       "\n",
       "    .dataframe tbody tr th {\n",
       "        vertical-align: top;\n",
       "    }\n",
       "\n",
       "    .dataframe thead th {\n",
       "        text-align: right;\n",
       "    }\n",
       "</style>\n",
       "<table border=\"1\" class=\"dataframe\">\n",
       "  <thead>\n",
       "    <tr style=\"text-align: right;\">\n",
       "      <th></th>\n",
       "      <th>timestamp</th>\n",
       "      <th>itemid</th>\n",
       "      <th>property</th>\n",
       "      <th>value</th>\n",
       "    </tr>\n",
       "  </thead>\n",
       "  <tbody>\n",
       "    <tr>\n",
       "      <th>0</th>\n",
       "      <td>1435460400000</td>\n",
       "      <td>460429</td>\n",
       "      <td>categoryid</td>\n",
       "      <td>1338</td>\n",
       "    </tr>\n",
       "    <tr>\n",
       "      <th>1</th>\n",
       "      <td>1441508400000</td>\n",
       "      <td>206783</td>\n",
       "      <td>888</td>\n",
       "      <td>1116713 960601 n277.200</td>\n",
       "    </tr>\n",
       "    <tr>\n",
       "      <th>2</th>\n",
       "      <td>1439089200000</td>\n",
       "      <td>395014</td>\n",
       "      <td>400</td>\n",
       "      <td>n552.000 639502 n720.000 424566</td>\n",
       "    </tr>\n",
       "    <tr>\n",
       "      <th>3</th>\n",
       "      <td>1431226800000</td>\n",
       "      <td>59481</td>\n",
       "      <td>790</td>\n",
       "      <td>n15360.000</td>\n",
       "    </tr>\n",
       "    <tr>\n",
       "      <th>4</th>\n",
       "      <td>1431831600000</td>\n",
       "      <td>156781</td>\n",
       "      <td>917</td>\n",
       "      <td>828513</td>\n",
       "    </tr>\n",
       "  </tbody>\n",
       "</table>\n",
       "</div>"
      ],
      "text/plain": [
       "       timestamp  itemid    property                            value\n",
       "0  1435460400000  460429  categoryid                             1338\n",
       "1  1441508400000  206783         888          1116713 960601 n277.200\n",
       "2  1439089200000  395014         400  n552.000 639502 n720.000 424566\n",
       "3  1431226800000   59481         790                       n15360.000\n",
       "4  1431831600000  156781         917                           828513"
      ]
     },
     "execution_count": 3,
     "metadata": {},
     "output_type": "execute_result"
    }
   ],
   "source": [
    "#загрузка датасета со свойствами товаров\n",
    "item_properties = pd.concat([pd.read_csv('data/item_properties_part1.csv'), pd.read_csv('data/item_properties_part2.csv')])\n",
    "properties = item_properties.copy()\n",
    "properties.head()"
   ]
  },
  {
   "cell_type": "code",
   "execution_count": 4,
   "metadata": {},
   "outputs": [
    {
     "data": {
      "text/html": [
       "<div>\n",
       "<style scoped>\n",
       "    .dataframe tbody tr th:only-of-type {\n",
       "        vertical-align: middle;\n",
       "    }\n",
       "\n",
       "    .dataframe tbody tr th {\n",
       "        vertical-align: top;\n",
       "    }\n",
       "\n",
       "    .dataframe thead th {\n",
       "        text-align: right;\n",
       "    }\n",
       "</style>\n",
       "<table border=\"1\" class=\"dataframe\">\n",
       "  <thead>\n",
       "    <tr style=\"text-align: right;\">\n",
       "      <th></th>\n",
       "      <th>timestamp</th>\n",
       "      <th>itemid</th>\n",
       "      <th>property</th>\n",
       "      <th>value</th>\n",
       "    </tr>\n",
       "  </thead>\n",
       "  <tbody>\n",
       "    <tr>\n",
       "      <th>0</th>\n",
       "      <td>1435460400000</td>\n",
       "      <td>460429</td>\n",
       "      <td>categoryid</td>\n",
       "      <td>1338</td>\n",
       "    </tr>\n",
       "    <tr>\n",
       "      <th>1</th>\n",
       "      <td>1441508400000</td>\n",
       "      <td>206783</td>\n",
       "      <td>888</td>\n",
       "      <td>1116713 960601 n277.200</td>\n",
       "    </tr>\n",
       "    <tr>\n",
       "      <th>2</th>\n",
       "      <td>1439089200000</td>\n",
       "      <td>395014</td>\n",
       "      <td>400</td>\n",
       "      <td>n552.000 639502 n720.000 424566</td>\n",
       "    </tr>\n",
       "    <tr>\n",
       "      <th>3</th>\n",
       "      <td>1431226800000</td>\n",
       "      <td>59481</td>\n",
       "      <td>790</td>\n",
       "      <td>n15360.000</td>\n",
       "    </tr>\n",
       "    <tr>\n",
       "      <th>4</th>\n",
       "      <td>1431831600000</td>\n",
       "      <td>156781</td>\n",
       "      <td>917</td>\n",
       "      <td>828513</td>\n",
       "    </tr>\n",
       "  </tbody>\n",
       "</table>\n",
       "</div>"
      ],
      "text/plain": [
       "       timestamp  itemid    property                            value\n",
       "0  1435460400000  460429  categoryid                             1338\n",
       "1  1441508400000  206783         888          1116713 960601 n277.200\n",
       "2  1439089200000  395014         400  n552.000 639502 n720.000 424566\n",
       "3  1431226800000   59481         790                       n15360.000\n",
       "4  1431831600000  156781         917                           828513"
      ]
     },
     "execution_count": 4,
     "metadata": {},
     "output_type": "execute_result"
    }
   ],
   "source": [
    "#загрузка датасета с иерархией категорий\n",
    "properties = item_properties.copy()\n",
    "properties.head()"
   ]
  },
  {
   "cell_type": "code",
   "execution_count": 5,
   "metadata": {},
   "outputs": [
    {
     "data": {
      "text/html": [
       "<div>\n",
       "<style scoped>\n",
       "    .dataframe tbody tr th:only-of-type {\n",
       "        vertical-align: middle;\n",
       "    }\n",
       "\n",
       "    .dataframe tbody tr th {\n",
       "        vertical-align: top;\n",
       "    }\n",
       "\n",
       "    .dataframe thead th {\n",
       "        text-align: right;\n",
       "    }\n",
       "</style>\n",
       "<table border=\"1\" class=\"dataframe\">\n",
       "  <thead>\n",
       "    <tr style=\"text-align: right;\">\n",
       "      <th></th>\n",
       "      <th>categoryid</th>\n",
       "      <th>parentid</th>\n",
       "    </tr>\n",
       "  </thead>\n",
       "  <tbody>\n",
       "    <tr>\n",
       "      <th>0</th>\n",
       "      <td>1016</td>\n",
       "      <td>213.0</td>\n",
       "    </tr>\n",
       "    <tr>\n",
       "      <th>1</th>\n",
       "      <td>809</td>\n",
       "      <td>169.0</td>\n",
       "    </tr>\n",
       "    <tr>\n",
       "      <th>2</th>\n",
       "      <td>570</td>\n",
       "      <td>9.0</td>\n",
       "    </tr>\n",
       "    <tr>\n",
       "      <th>3</th>\n",
       "      <td>1691</td>\n",
       "      <td>885.0</td>\n",
       "    </tr>\n",
       "    <tr>\n",
       "      <th>4</th>\n",
       "      <td>536</td>\n",
       "      <td>1691.0</td>\n",
       "    </tr>\n",
       "  </tbody>\n",
       "</table>\n",
       "</div>"
      ],
      "text/plain": [
       "   categoryid  parentid\n",
       "0        1016     213.0\n",
       "1         809     169.0\n",
       "2         570       9.0\n",
       "3        1691     885.0\n",
       "4         536    1691.0"
      ]
     },
     "execution_count": 5,
     "metadata": {},
     "output_type": "execute_result"
    }
   ],
   "source": [
    "#загрузка датасета с иерархией категорий\n",
    "category = pd.read_csv('data/category_tree.csv')\n",
    "category.head()"
   ]
  },
  {
   "cell_type": "markdown",
   "metadata": {},
   "source": [
    "# Исследование данных"
   ]
  },
  {
   "cell_type": "markdown",
   "metadata": {},
   "source": [
    "## events"
   ]
  },
  {
   "cell_type": "code",
   "execution_count": 6,
   "metadata": {},
   "outputs": [
    {
     "name": "stdout",
     "output_type": "stream",
     "text": [
      "<class 'pandas.core.frame.DataFrame'>\n",
      "RangeIndex: 2756101 entries, 0 to 2756100\n",
      "Data columns (total 5 columns):\n",
      " #   Column         Dtype  \n",
      "---  ------         -----  \n",
      " 0   timestamp      int64  \n",
      " 1   visitorid      int64  \n",
      " 2   event          object \n",
      " 3   itemid         int64  \n",
      " 4   transactionid  float64\n",
      "dtypes: float64(1), int64(3), object(1)\n",
      "memory usage: 105.1+ MB\n"
     ]
    }
   ],
   "source": [
    "data.info()"
   ]
  },
  {
   "cell_type": "code",
   "execution_count": 7,
   "metadata": {},
   "outputs": [
    {
     "data": {
      "text/plain": [
       "460"
      ]
     },
     "execution_count": 7,
     "metadata": {},
     "output_type": "execute_result"
    }
   ],
   "source": [
    "#поиск полных дубликатов\n",
    "data.duplicated().sum()"
   ]
  },
  {
   "cell_type": "code",
   "execution_count": 8,
   "metadata": {},
   "outputs": [],
   "source": [
    "#удаление дубликатов\n",
    "data.drop_duplicates(inplace=True)"
   ]
  },
  {
   "cell_type": "code",
   "execution_count": 9,
   "metadata": {},
   "outputs": [
    {
     "data": {
      "text/plain": [
       "event\n",
       "view           2664218\n",
       "addtocart        68966\n",
       "transaction      22457\n",
       "Name: count, dtype: int64"
      ]
     },
     "execution_count": 9,
     "metadata": {},
     "output_type": "execute_result"
    }
   ],
   "source": [
    "#типы событий в датасете\n",
    "data.event.value_counts()"
   ]
  },
  {
   "cell_type": "code",
   "execution_count": 10,
   "metadata": {},
   "outputs": [],
   "source": [
    "#изменение столбца с датой в формат datetime\n",
    "data['date']=0\n",
    "data['date'] = data['timestamp'].apply(lambda x: datetime.fromtimestamp(x/1000).replace(microsecond=0))\n",
    "data['timestamp'] = data['timestamp'].apply(lambda x: x/1000)"
   ]
  },
  {
   "cell_type": "markdown",
   "metadata": {},
   "source": [
    "Какой процент продаж обеспечивают топовые товары (точка отсечения — 1 июля)?"
   ]
  },
  {
   "cell_type": "code",
   "execution_count": 11,
   "metadata": {},
   "outputs": [
    {
     "data": {
      "text/plain": [
       "[119736, 369447, 7943]"
      ]
     },
     "execution_count": 11,
     "metadata": {},
     "output_type": "execute_result"
    }
   ],
   "source": [
    "#все продажи до 1 июля, сгруппированные по товарам\n",
    "date_key = datetime.strptime('2015-07-01', '%Y-%m-%d')\n",
    "data41 = data[data['date']<=date_key].dropna(subset='transactionid').groupby('itemid')['transactionid'].count()\n",
    "\n",
    "#топ-3 товаров по продажам до 1-го июля\n",
    "list_top3 = list(data41.sort_values(ascending=False).head(3).index)\n",
    "list_top3"
   ]
  },
  {
   "cell_type": "code",
   "execution_count": 12,
   "metadata": {},
   "outputs": [
    {
     "data": {
      "text/plain": [
       "0.61"
      ]
     },
     "execution_count": 12,
     "metadata": {},
     "output_type": "execute_result"
    }
   ],
   "source": [
    "date_key = datetime.strptime('2015-07-02', '%Y-%m-%d')\n",
    "#все продажи после 1-го июля, сгруппированные по товарам\n",
    "data_top = data[data['date']>=date_key].dropna(subset='transactionid').groupby('itemid')['transactionid'].count()\n",
    "\n",
    "#доля продаж товаров топ-3(до1-го июля) после 1-го июля\n",
    "round((data_top[data_top.index.isin(list_top3)].sum())/data_top.sum()*100, 2)"
   ]
  },
  {
   "cell_type": "markdown",
   "metadata": {},
   "source": [
    "Товар с идентификатором 369447 очень активно покупался до 1 июля и ни одного раза после(в пределах датасета).\n",
    "\n",
    "Доля продаж топ-3 товаров меньше 1%."
   ]
  },
  {
   "cell_type": "code",
   "execution_count": 13,
   "metadata": {},
   "outputs": [
    {
     "data": {
      "text/html": [
       "<div>\n",
       "<style scoped>\n",
       "    .dataframe tbody tr th:only-of-type {\n",
       "        vertical-align: middle;\n",
       "    }\n",
       "\n",
       "    .dataframe tbody tr th {\n",
       "        vertical-align: top;\n",
       "    }\n",
       "\n",
       "    .dataframe thead th {\n",
       "        text-align: right;\n",
       "    }\n",
       "</style>\n",
       "<table border=\"1\" class=\"dataframe\">\n",
       "  <thead>\n",
       "    <tr style=\"text-align: right;\">\n",
       "      <th></th>\n",
       "      <th>timestamp</th>\n",
       "      <th>visitorid</th>\n",
       "      <th>itemid</th>\n",
       "      <th>transactionid</th>\n",
       "      <th>date</th>\n",
       "    </tr>\n",
       "  </thead>\n",
       "  <tbody>\n",
       "    <tr>\n",
       "      <th>count</th>\n",
       "      <td>2.755641e+06</td>\n",
       "      <td>2.755641e+06</td>\n",
       "      <td>2.755641e+06</td>\n",
       "      <td>22457.000000</td>\n",
       "      <td>2755641</td>\n",
       "    </tr>\n",
       "    <tr>\n",
       "      <th>mean</th>\n",
       "      <td>1.436424e+09</td>\n",
       "      <td>7.019227e+05</td>\n",
       "      <td>2.349214e+05</td>\n",
       "      <td>8826.497796</td>\n",
       "      <td>2015-07-09 09:46:18.279217664</td>\n",
       "    </tr>\n",
       "    <tr>\n",
       "      <th>min</th>\n",
       "      <td>1.430622e+09</td>\n",
       "      <td>0.000000e+00</td>\n",
       "      <td>3.000000e+00</td>\n",
       "      <td>0.000000</td>\n",
       "      <td>2015-05-03 06:00:04</td>\n",
       "    </tr>\n",
       "    <tr>\n",
       "      <th>25%</th>\n",
       "      <td>1.433478e+09</td>\n",
       "      <td>3.505660e+05</td>\n",
       "      <td>1.181200e+05</td>\n",
       "      <td>4411.000000</td>\n",
       "      <td>2015-06-05 07:21:34</td>\n",
       "    </tr>\n",
       "    <tr>\n",
       "      <th>50%</th>\n",
       "      <td>1.436453e+09</td>\n",
       "      <td>7.020600e+05</td>\n",
       "      <td>2.360620e+05</td>\n",
       "      <td>8813.000000</td>\n",
       "      <td>2015-07-09 17:39:51</td>\n",
       "    </tr>\n",
       "    <tr>\n",
       "      <th>75%</th>\n",
       "      <td>1.439225e+09</td>\n",
       "      <td>1.053443e+06</td>\n",
       "      <td>3.507140e+05</td>\n",
       "      <td>13224.000000</td>\n",
       "      <td>2015-08-10 19:44:03</td>\n",
       "    </tr>\n",
       "    <tr>\n",
       "      <th>max</th>\n",
       "      <td>1.442545e+09</td>\n",
       "      <td>1.407579e+06</td>\n",
       "      <td>4.668670e+05</td>\n",
       "      <td>17671.000000</td>\n",
       "      <td>2015-09-18 05:59:47</td>\n",
       "    </tr>\n",
       "    <tr>\n",
       "      <th>std</th>\n",
       "      <td>3.366334e+06</td>\n",
       "      <td>4.056892e+05</td>\n",
       "      <td>1.341947e+05</td>\n",
       "      <td>5098.996290</td>\n",
       "      <td>NaN</td>\n",
       "    </tr>\n",
       "  </tbody>\n",
       "</table>\n",
       "</div>"
      ],
      "text/plain": [
       "          timestamp     visitorid        itemid  transactionid  \\\n",
       "count  2.755641e+06  2.755641e+06  2.755641e+06   22457.000000   \n",
       "mean   1.436424e+09  7.019227e+05  2.349214e+05    8826.497796   \n",
       "min    1.430622e+09  0.000000e+00  3.000000e+00       0.000000   \n",
       "25%    1.433478e+09  3.505660e+05  1.181200e+05    4411.000000   \n",
       "50%    1.436453e+09  7.020600e+05  2.360620e+05    8813.000000   \n",
       "75%    1.439225e+09  1.053443e+06  3.507140e+05   13224.000000   \n",
       "max    1.442545e+09  1.407579e+06  4.668670e+05   17671.000000   \n",
       "std    3.366334e+06  4.056892e+05  1.341947e+05    5098.996290   \n",
       "\n",
       "                                date  \n",
       "count                        2755641  \n",
       "mean   2015-07-09 09:46:18.279217664  \n",
       "min              2015-05-03 06:00:04  \n",
       "25%              2015-06-05 07:21:34  \n",
       "50%              2015-07-09 17:39:51  \n",
       "75%              2015-08-10 19:44:03  \n",
       "max              2015-09-18 05:59:47  \n",
       "std                              NaN  "
      ]
     },
     "execution_count": 13,
     "metadata": {},
     "output_type": "execute_result"
    }
   ],
   "source": [
    "data.describe()"
   ]
  },
  {
   "cell_type": "code",
   "execution_count": 14,
   "metadata": {},
   "outputs": [],
   "source": [
    "#кодирование целевой переменной\n",
    "data['target'] = data['event'].apply(lambda x: 0 if x=='view' else 1)"
   ]
  },
  {
   "cell_type": "code",
   "execution_count": 15,
   "metadata": {},
   "outputs": [],
   "source": [
    "#замена пропусков 0\n",
    "data['transactionid'] = data['transactionid'].fillna(0)"
   ]
  },
  {
   "cell_type": "code",
   "execution_count": 16,
   "metadata": {},
   "outputs": [
    {
     "data": {
      "text/html": [
       "<div>\n",
       "<style scoped>\n",
       "    .dataframe tbody tr th:only-of-type {\n",
       "        vertical-align: middle;\n",
       "    }\n",
       "\n",
       "    .dataframe tbody tr th {\n",
       "        vertical-align: top;\n",
       "    }\n",
       "\n",
       "    .dataframe thead th {\n",
       "        text-align: right;\n",
       "    }\n",
       "</style>\n",
       "<table border=\"1\" class=\"dataframe\">\n",
       "  <thead>\n",
       "    <tr style=\"text-align: right;\">\n",
       "      <th></th>\n",
       "      <th>timestamp</th>\n",
       "      <th>visitorid</th>\n",
       "      <th>event</th>\n",
       "      <th>itemid</th>\n",
       "      <th>transactionid</th>\n",
       "      <th>date</th>\n",
       "      <th>target</th>\n",
       "    </tr>\n",
       "  </thead>\n",
       "  <tbody>\n",
       "    <tr>\n",
       "      <th>0</th>\n",
       "      <td>1.433221e+09</td>\n",
       "      <td>257597</td>\n",
       "      <td>view</td>\n",
       "      <td>355908</td>\n",
       "      <td>0.0</td>\n",
       "      <td>2015-06-02 08:02:12</td>\n",
       "      <td>0</td>\n",
       "    </tr>\n",
       "    <tr>\n",
       "      <th>1</th>\n",
       "      <td>1.433224e+09</td>\n",
       "      <td>992329</td>\n",
       "      <td>view</td>\n",
       "      <td>248676</td>\n",
       "      <td>0.0</td>\n",
       "      <td>2015-06-02 08:50:14</td>\n",
       "      <td>0</td>\n",
       "    </tr>\n",
       "    <tr>\n",
       "      <th>2</th>\n",
       "      <td>1.433222e+09</td>\n",
       "      <td>111016</td>\n",
       "      <td>view</td>\n",
       "      <td>318965</td>\n",
       "      <td>0.0</td>\n",
       "      <td>2015-06-02 08:13:19</td>\n",
       "      <td>0</td>\n",
       "    </tr>\n",
       "    <tr>\n",
       "      <th>3</th>\n",
       "      <td>1.433222e+09</td>\n",
       "      <td>483717</td>\n",
       "      <td>view</td>\n",
       "      <td>253185</td>\n",
       "      <td>0.0</td>\n",
       "      <td>2015-06-02 08:12:35</td>\n",
       "      <td>0</td>\n",
       "    </tr>\n",
       "    <tr>\n",
       "      <th>4</th>\n",
       "      <td>1.433221e+09</td>\n",
       "      <td>951259</td>\n",
       "      <td>view</td>\n",
       "      <td>367447</td>\n",
       "      <td>0.0</td>\n",
       "      <td>2015-06-02 08:02:17</td>\n",
       "      <td>0</td>\n",
       "    </tr>\n",
       "  </tbody>\n",
       "</table>\n",
       "</div>"
      ],
      "text/plain": [
       "      timestamp  visitorid event  itemid  transactionid                date  \\\n",
       "0  1.433221e+09     257597  view  355908            0.0 2015-06-02 08:02:12   \n",
       "1  1.433224e+09     992329  view  248676            0.0 2015-06-02 08:50:14   \n",
       "2  1.433222e+09     111016  view  318965            0.0 2015-06-02 08:13:19   \n",
       "3  1.433222e+09     483717  view  253185            0.0 2015-06-02 08:12:35   \n",
       "4  1.433221e+09     951259  view  367447            0.0 2015-06-02 08:02:17   \n",
       "\n",
       "   target  \n",
       "0       0  \n",
       "1       0  \n",
       "2       0  \n",
       "3       0  \n",
       "4       0  "
      ]
     },
     "execution_count": 16,
     "metadata": {},
     "output_type": "execute_result"
    }
   ],
   "source": [
    "data.head()"
   ]
  },
  {
   "cell_type": "code",
   "execution_count": 17,
   "metadata": {},
   "outputs": [],
   "source": [
    "#создание признаков месяц, день, день недели, выходные, час, минута\n",
    "data['month'] = data['date'].apply(lambda x: x.month)\n",
    "data['day'] = data['date'].apply(lambda x: x.day)\n",
    "data['dayofweek'] = data['date'].apply(lambda x: x.weekday())\n",
    "data['weekend'] = data['dayofweek'].apply(lambda x: 1 if (x==5)|(x==6) else 0)\n",
    "data['hour'] = data['date'].apply(lambda x: x.hour)\n",
    "data['minute'] = data['date'].apply(lambda x: x.minute)"
   ]
  },
  {
   "cell_type": "code",
   "execution_count": 18,
   "metadata": {},
   "outputs": [],
   "source": [
    "#создание признака время дня\n",
    "def time_day(hour):\n",
    "    if 0 <= hour < 6: # ночь\n",
    "        return 1\n",
    "    elif 6 <= hour < 12: # утро\n",
    "        return 2\n",
    "    elif 12 <= hour < 18: # день\n",
    "        return 3\n",
    "    else: # вечер\n",
    "        return 4\n",
    "data['timeday'] = data['hour'].apply(time_day)"
   ]
  },
  {
   "cell_type": "code",
   "execution_count": 19,
   "metadata": {},
   "outputs": [
    {
     "data": {
      "text/html": [
       "<div>\n",
       "<style scoped>\n",
       "    .dataframe tbody tr th:only-of-type {\n",
       "        vertical-align: middle;\n",
       "    }\n",
       "\n",
       "    .dataframe tbody tr th {\n",
       "        vertical-align: top;\n",
       "    }\n",
       "\n",
       "    .dataframe thead th {\n",
       "        text-align: right;\n",
       "    }\n",
       "</style>\n",
       "<table border=\"1\" class=\"dataframe\">\n",
       "  <thead>\n",
       "    <tr style=\"text-align: right;\">\n",
       "      <th></th>\n",
       "      <th>timestamp</th>\n",
       "      <th>visitorid</th>\n",
       "      <th>event</th>\n",
       "      <th>itemid</th>\n",
       "      <th>transactionid</th>\n",
       "      <th>date</th>\n",
       "      <th>target</th>\n",
       "      <th>month</th>\n",
       "      <th>day</th>\n",
       "      <th>dayofweek</th>\n",
       "      <th>weekend</th>\n",
       "      <th>hour</th>\n",
       "      <th>minute</th>\n",
       "      <th>timeday</th>\n",
       "    </tr>\n",
       "  </thead>\n",
       "  <tbody>\n",
       "    <tr>\n",
       "      <th>0</th>\n",
       "      <td>1.433221e+09</td>\n",
       "      <td>257597</td>\n",
       "      <td>view</td>\n",
       "      <td>355908</td>\n",
       "      <td>0.0</td>\n",
       "      <td>2015-06-02 08:02:12</td>\n",
       "      <td>0</td>\n",
       "      <td>6</td>\n",
       "      <td>2</td>\n",
       "      <td>1</td>\n",
       "      <td>0</td>\n",
       "      <td>8</td>\n",
       "      <td>2</td>\n",
       "      <td>2</td>\n",
       "    </tr>\n",
       "    <tr>\n",
       "      <th>1</th>\n",
       "      <td>1.433224e+09</td>\n",
       "      <td>992329</td>\n",
       "      <td>view</td>\n",
       "      <td>248676</td>\n",
       "      <td>0.0</td>\n",
       "      <td>2015-06-02 08:50:14</td>\n",
       "      <td>0</td>\n",
       "      <td>6</td>\n",
       "      <td>2</td>\n",
       "      <td>1</td>\n",
       "      <td>0</td>\n",
       "      <td>8</td>\n",
       "      <td>50</td>\n",
       "      <td>2</td>\n",
       "    </tr>\n",
       "    <tr>\n",
       "      <th>2</th>\n",
       "      <td>1.433222e+09</td>\n",
       "      <td>111016</td>\n",
       "      <td>view</td>\n",
       "      <td>318965</td>\n",
       "      <td>0.0</td>\n",
       "      <td>2015-06-02 08:13:19</td>\n",
       "      <td>0</td>\n",
       "      <td>6</td>\n",
       "      <td>2</td>\n",
       "      <td>1</td>\n",
       "      <td>0</td>\n",
       "      <td>8</td>\n",
       "      <td>13</td>\n",
       "      <td>2</td>\n",
       "    </tr>\n",
       "    <tr>\n",
       "      <th>3</th>\n",
       "      <td>1.433222e+09</td>\n",
       "      <td>483717</td>\n",
       "      <td>view</td>\n",
       "      <td>253185</td>\n",
       "      <td>0.0</td>\n",
       "      <td>2015-06-02 08:12:35</td>\n",
       "      <td>0</td>\n",
       "      <td>6</td>\n",
       "      <td>2</td>\n",
       "      <td>1</td>\n",
       "      <td>0</td>\n",
       "      <td>8</td>\n",
       "      <td>12</td>\n",
       "      <td>2</td>\n",
       "    </tr>\n",
       "    <tr>\n",
       "      <th>4</th>\n",
       "      <td>1.433221e+09</td>\n",
       "      <td>951259</td>\n",
       "      <td>view</td>\n",
       "      <td>367447</td>\n",
       "      <td>0.0</td>\n",
       "      <td>2015-06-02 08:02:17</td>\n",
       "      <td>0</td>\n",
       "      <td>6</td>\n",
       "      <td>2</td>\n",
       "      <td>1</td>\n",
       "      <td>0</td>\n",
       "      <td>8</td>\n",
       "      <td>2</td>\n",
       "      <td>2</td>\n",
       "    </tr>\n",
       "  </tbody>\n",
       "</table>\n",
       "</div>"
      ],
      "text/plain": [
       "      timestamp  visitorid event  itemid  transactionid                date  \\\n",
       "0  1.433221e+09     257597  view  355908            0.0 2015-06-02 08:02:12   \n",
       "1  1.433224e+09     992329  view  248676            0.0 2015-06-02 08:50:14   \n",
       "2  1.433222e+09     111016  view  318965            0.0 2015-06-02 08:13:19   \n",
       "3  1.433222e+09     483717  view  253185            0.0 2015-06-02 08:12:35   \n",
       "4  1.433221e+09     951259  view  367447            0.0 2015-06-02 08:02:17   \n",
       "\n",
       "   target  month  day  dayofweek  weekend  hour  minute  timeday  \n",
       "0       0      6    2          1        0     8       2        2  \n",
       "1       0      6    2          1        0     8      50        2  \n",
       "2       0      6    2          1        0     8      13        2  \n",
       "3       0      6    2          1        0     8      12        2  \n",
       "4       0      6    2          1        0     8       2        2  "
      ]
     },
     "execution_count": 19,
     "metadata": {},
     "output_type": "execute_result"
    }
   ],
   "source": [
    "data.head()"
   ]
  },
  {
   "cell_type": "code",
   "execution_count": 20,
   "metadata": {},
   "outputs": [],
   "source": [
    "# финальная таблица\n",
    "df = pd.DataFrame()\n",
    "df = data.drop('transactionid', axis=1)"
   ]
  },
  {
   "cell_type": "code",
   "execution_count": 21,
   "metadata": {},
   "outputs": [
    {
     "data": {
      "text/html": [
       "<div>\n",
       "<style scoped>\n",
       "    .dataframe tbody tr th:only-of-type {\n",
       "        vertical-align: middle;\n",
       "    }\n",
       "\n",
       "    .dataframe tbody tr th {\n",
       "        vertical-align: top;\n",
       "    }\n",
       "\n",
       "    .dataframe thead th {\n",
       "        text-align: right;\n",
       "    }\n",
       "</style>\n",
       "<table border=\"1\" class=\"dataframe\">\n",
       "  <thead>\n",
       "    <tr style=\"text-align: right;\">\n",
       "      <th></th>\n",
       "      <th>timestamp</th>\n",
       "      <th>visitorid</th>\n",
       "      <th>event</th>\n",
       "      <th>itemid</th>\n",
       "      <th>date</th>\n",
       "      <th>target</th>\n",
       "      <th>month</th>\n",
       "      <th>day</th>\n",
       "      <th>dayofweek</th>\n",
       "      <th>weekend</th>\n",
       "      <th>hour</th>\n",
       "      <th>minute</th>\n",
       "      <th>timeday</th>\n",
       "    </tr>\n",
       "  </thead>\n",
       "  <tbody>\n",
       "    <tr>\n",
       "      <th>0</th>\n",
       "      <td>1.433221e+09</td>\n",
       "      <td>257597</td>\n",
       "      <td>view</td>\n",
       "      <td>355908</td>\n",
       "      <td>2015-06-02 08:02:12</td>\n",
       "      <td>0</td>\n",
       "      <td>6</td>\n",
       "      <td>2</td>\n",
       "      <td>1</td>\n",
       "      <td>0</td>\n",
       "      <td>8</td>\n",
       "      <td>2</td>\n",
       "      <td>2</td>\n",
       "    </tr>\n",
       "    <tr>\n",
       "      <th>1</th>\n",
       "      <td>1.433224e+09</td>\n",
       "      <td>992329</td>\n",
       "      <td>view</td>\n",
       "      <td>248676</td>\n",
       "      <td>2015-06-02 08:50:14</td>\n",
       "      <td>0</td>\n",
       "      <td>6</td>\n",
       "      <td>2</td>\n",
       "      <td>1</td>\n",
       "      <td>0</td>\n",
       "      <td>8</td>\n",
       "      <td>50</td>\n",
       "      <td>2</td>\n",
       "    </tr>\n",
       "    <tr>\n",
       "      <th>2</th>\n",
       "      <td>1.433222e+09</td>\n",
       "      <td>111016</td>\n",
       "      <td>view</td>\n",
       "      <td>318965</td>\n",
       "      <td>2015-06-02 08:13:19</td>\n",
       "      <td>0</td>\n",
       "      <td>6</td>\n",
       "      <td>2</td>\n",
       "      <td>1</td>\n",
       "      <td>0</td>\n",
       "      <td>8</td>\n",
       "      <td>13</td>\n",
       "      <td>2</td>\n",
       "    </tr>\n",
       "    <tr>\n",
       "      <th>3</th>\n",
       "      <td>1.433222e+09</td>\n",
       "      <td>483717</td>\n",
       "      <td>view</td>\n",
       "      <td>253185</td>\n",
       "      <td>2015-06-02 08:12:35</td>\n",
       "      <td>0</td>\n",
       "      <td>6</td>\n",
       "      <td>2</td>\n",
       "      <td>1</td>\n",
       "      <td>0</td>\n",
       "      <td>8</td>\n",
       "      <td>12</td>\n",
       "      <td>2</td>\n",
       "    </tr>\n",
       "    <tr>\n",
       "      <th>4</th>\n",
       "      <td>1.433221e+09</td>\n",
       "      <td>951259</td>\n",
       "      <td>view</td>\n",
       "      <td>367447</td>\n",
       "      <td>2015-06-02 08:02:17</td>\n",
       "      <td>0</td>\n",
       "      <td>6</td>\n",
       "      <td>2</td>\n",
       "      <td>1</td>\n",
       "      <td>0</td>\n",
       "      <td>8</td>\n",
       "      <td>2</td>\n",
       "      <td>2</td>\n",
       "    </tr>\n",
       "  </tbody>\n",
       "</table>\n",
       "</div>"
      ],
      "text/plain": [
       "      timestamp  visitorid event  itemid                date  target  month  \\\n",
       "0  1.433221e+09     257597  view  355908 2015-06-02 08:02:12       0      6   \n",
       "1  1.433224e+09     992329  view  248676 2015-06-02 08:50:14       0      6   \n",
       "2  1.433222e+09     111016  view  318965 2015-06-02 08:13:19       0      6   \n",
       "3  1.433222e+09     483717  view  253185 2015-06-02 08:12:35       0      6   \n",
       "4  1.433221e+09     951259  view  367447 2015-06-02 08:02:17       0      6   \n",
       "\n",
       "   day  dayofweek  weekend  hour  minute  timeday  \n",
       "0    2          1        0     8       2        2  \n",
       "1    2          1        0     8      50        2  \n",
       "2    2          1        0     8      13        2  \n",
       "3    2          1        0     8      12        2  \n",
       "4    2          1        0     8       2        2  "
      ]
     },
     "execution_count": 21,
     "metadata": {},
     "output_type": "execute_result"
    }
   ],
   "source": [
    "df.head()"
   ]
  },
  {
   "cell_type": "markdown",
   "metadata": {},
   "source": [
    "Данные с 3 мая по 18 сентября 2015 года. Целевая переменная заменена на бинарную(просмотр - 0, добавление в корзину и покупка - 1). Создана новая таблица, которая будет итоговой, со столбцами пользователь, товар, действие и созданные из даты - месяц, число, день недели, будни-выходные, час, минуты, время дня."
   ]
  },
  {
   "cell_type": "markdown",
   "metadata": {},
   "source": [
    "## item_properties"
   ]
  },
  {
   "cell_type": "code",
   "execution_count": 22,
   "metadata": {},
   "outputs": [
    {
     "name": "stdout",
     "output_type": "stream",
     "text": [
      "<class 'pandas.core.frame.DataFrame'>\n",
      "Index: 20275902 entries, 0 to 9275902\n",
      "Data columns (total 4 columns):\n",
      " #   Column     Dtype \n",
      "---  ------     ----- \n",
      " 0   timestamp  int64 \n",
      " 1   itemid     int64 \n",
      " 2   property   object\n",
      " 3   value      object\n",
      "dtypes: int64(2), object(2)\n",
      "memory usage: 773.5+ MB\n"
     ]
    }
   ],
   "source": [
    "properties.info()"
   ]
  },
  {
   "cell_type": "code",
   "execution_count": 23,
   "metadata": {},
   "outputs": [
    {
     "data": {
      "text/plain": [
       "0"
      ]
     },
     "execution_count": 23,
     "metadata": {},
     "output_type": "execute_result"
    }
   ],
   "source": [
    "#поиск полных дубликатов\n",
    "properties.duplicated().sum()"
   ]
  },
  {
   "cell_type": "code",
   "execution_count": 24,
   "metadata": {},
   "outputs": [],
   "source": [
    "#изменение столбца с датой в формат datetime\n",
    "properties['date']=0\n",
    "properties['date'] = properties['timestamp'].apply(lambda x: datetime.fromtimestamp(x/1000).replace(microsecond=0))"
   ]
  },
  {
   "cell_type": "code",
   "execution_count": 25,
   "metadata": {},
   "outputs": [
    {
     "data": {
      "text/html": [
       "<div>\n",
       "<style scoped>\n",
       "    .dataframe tbody tr th:only-of-type {\n",
       "        vertical-align: middle;\n",
       "    }\n",
       "\n",
       "    .dataframe tbody tr th {\n",
       "        vertical-align: top;\n",
       "    }\n",
       "\n",
       "    .dataframe thead th {\n",
       "        text-align: right;\n",
       "    }\n",
       "</style>\n",
       "<table border=\"1\" class=\"dataframe\">\n",
       "  <thead>\n",
       "    <tr style=\"text-align: right;\">\n",
       "      <th></th>\n",
       "      <th>timestamp</th>\n",
       "      <th>itemid</th>\n",
       "      <th>date</th>\n",
       "    </tr>\n",
       "  </thead>\n",
       "  <tbody>\n",
       "    <tr>\n",
       "      <th>count</th>\n",
       "      <td>2.027590e+07</td>\n",
       "      <td>2.027590e+07</td>\n",
       "      <td>20275902</td>\n",
       "    </tr>\n",
       "    <tr>\n",
       "      <th>mean</th>\n",
       "      <td>1.435157e+12</td>\n",
       "      <td>2.333904e+05</td>\n",
       "      <td>2015-06-24 17:42:23.682881536</td>\n",
       "    </tr>\n",
       "    <tr>\n",
       "      <th>min</th>\n",
       "      <td>1.431227e+12</td>\n",
       "      <td>0.000000e+00</td>\n",
       "      <td>2015-05-10 06:00:00</td>\n",
       "    </tr>\n",
       "    <tr>\n",
       "      <th>25%</th>\n",
       "      <td>1.432436e+12</td>\n",
       "      <td>1.165160e+05</td>\n",
       "      <td>2015-05-24 06:00:00</td>\n",
       "    </tr>\n",
       "    <tr>\n",
       "      <th>50%</th>\n",
       "      <td>1.433646e+12</td>\n",
       "      <td>2.334830e+05</td>\n",
       "      <td>2015-06-07 06:00:00</td>\n",
       "    </tr>\n",
       "    <tr>\n",
       "      <th>75%</th>\n",
       "      <td>1.437880e+12</td>\n",
       "      <td>3.503040e+05</td>\n",
       "      <td>2015-07-26 06:00:00</td>\n",
       "    </tr>\n",
       "    <tr>\n",
       "      <th>max</th>\n",
       "      <td>1.442113e+12</td>\n",
       "      <td>4.668660e+05</td>\n",
       "      <td>2015-09-13 06:00:00</td>\n",
       "    </tr>\n",
       "    <tr>\n",
       "      <th>std</th>\n",
       "      <td>3.327798e+09</td>\n",
       "      <td>1.348452e+05</td>\n",
       "      <td>NaN</td>\n",
       "    </tr>\n",
       "  </tbody>\n",
       "</table>\n",
       "</div>"
      ],
      "text/plain": [
       "          timestamp        itemid                           date\n",
       "count  2.027590e+07  2.027590e+07                       20275902\n",
       "mean   1.435157e+12  2.333904e+05  2015-06-24 17:42:23.682881536\n",
       "min    1.431227e+12  0.000000e+00            2015-05-10 06:00:00\n",
       "25%    1.432436e+12  1.165160e+05            2015-05-24 06:00:00\n",
       "50%    1.433646e+12  2.334830e+05            2015-06-07 06:00:00\n",
       "75%    1.437880e+12  3.503040e+05            2015-07-26 06:00:00\n",
       "max    1.442113e+12  4.668660e+05            2015-09-13 06:00:00\n",
       "std    3.327798e+09  1.348452e+05                            NaN"
      ]
     },
     "execution_count": 25,
     "metadata": {},
     "output_type": "execute_result"
    }
   ],
   "source": [
    "properties.describe()"
   ]
  },
  {
   "cell_type": "code",
   "execution_count": 26,
   "metadata": {},
   "outputs": [
    {
     "data": {
      "text/html": [
       "<div>\n",
       "<style scoped>\n",
       "    .dataframe tbody tr th:only-of-type {\n",
       "        vertical-align: middle;\n",
       "    }\n",
       "\n",
       "    .dataframe tbody tr th {\n",
       "        vertical-align: top;\n",
       "    }\n",
       "\n",
       "    .dataframe thead th {\n",
       "        text-align: right;\n",
       "    }\n",
       "</style>\n",
       "<table border=\"1\" class=\"dataframe\">\n",
       "  <thead>\n",
       "    <tr style=\"text-align: right;\">\n",
       "      <th></th>\n",
       "      <th>property</th>\n",
       "      <th>value</th>\n",
       "    </tr>\n",
       "  </thead>\n",
       "  <tbody>\n",
       "    <tr>\n",
       "      <th>count</th>\n",
       "      <td>20275902</td>\n",
       "      <td>20275902</td>\n",
       "    </tr>\n",
       "    <tr>\n",
       "      <th>unique</th>\n",
       "      <td>1104</td>\n",
       "      <td>1966868</td>\n",
       "    </tr>\n",
       "    <tr>\n",
       "      <th>top</th>\n",
       "      <td>888</td>\n",
       "      <td>769062</td>\n",
       "    </tr>\n",
       "    <tr>\n",
       "      <th>freq</th>\n",
       "      <td>3000398</td>\n",
       "      <td>1537247</td>\n",
       "    </tr>\n",
       "  </tbody>\n",
       "</table>\n",
       "</div>"
      ],
      "text/plain": [
       "        property     value\n",
       "count   20275902  20275902\n",
       "unique      1104   1966868\n",
       "top          888    769062\n",
       "freq     3000398   1537247"
      ]
     },
     "execution_count": 26,
     "metadata": {},
     "output_type": "execute_result"
    }
   ],
   "source": [
    "properties.describe(include='object')"
   ]
  },
  {
   "cell_type": "code",
   "execution_count": 27,
   "metadata": {},
   "outputs": [
    {
     "data": {
      "text/html": [
       "<div>\n",
       "<style scoped>\n",
       "    .dataframe tbody tr th:only-of-type {\n",
       "        vertical-align: middle;\n",
       "    }\n",
       "\n",
       "    .dataframe tbody tr th {\n",
       "        vertical-align: top;\n",
       "    }\n",
       "\n",
       "    .dataframe thead th {\n",
       "        text-align: right;\n",
       "    }\n",
       "</style>\n",
       "<table border=\"1\" class=\"dataframe\">\n",
       "  <thead>\n",
       "    <tr style=\"text-align: right;\">\n",
       "      <th></th>\n",
       "      <th>timestamp</th>\n",
       "      <th>itemid</th>\n",
       "      <th>property</th>\n",
       "      <th>value</th>\n",
       "      <th>date</th>\n",
       "    </tr>\n",
       "  </thead>\n",
       "  <tbody>\n",
       "    <tr>\n",
       "      <th>0</th>\n",
       "      <td>1435460400000</td>\n",
       "      <td>460429</td>\n",
       "      <td>categoryid</td>\n",
       "      <td>1338</td>\n",
       "      <td>2015-06-28 06:00:00</td>\n",
       "    </tr>\n",
       "    <tr>\n",
       "      <th>1</th>\n",
       "      <td>1441508400000</td>\n",
       "      <td>206783</td>\n",
       "      <td>888</td>\n",
       "      <td>1116713 960601 n277.200</td>\n",
       "      <td>2015-09-06 06:00:00</td>\n",
       "    </tr>\n",
       "    <tr>\n",
       "      <th>2</th>\n",
       "      <td>1439089200000</td>\n",
       "      <td>395014</td>\n",
       "      <td>400</td>\n",
       "      <td>n552.000 639502 n720.000 424566</td>\n",
       "      <td>2015-08-09 06:00:00</td>\n",
       "    </tr>\n",
       "    <tr>\n",
       "      <th>3</th>\n",
       "      <td>1431226800000</td>\n",
       "      <td>59481</td>\n",
       "      <td>790</td>\n",
       "      <td>n15360.000</td>\n",
       "      <td>2015-05-10 06:00:00</td>\n",
       "    </tr>\n",
       "    <tr>\n",
       "      <th>4</th>\n",
       "      <td>1431831600000</td>\n",
       "      <td>156781</td>\n",
       "      <td>917</td>\n",
       "      <td>828513</td>\n",
       "      <td>2015-05-17 06:00:00</td>\n",
       "    </tr>\n",
       "  </tbody>\n",
       "</table>\n",
       "</div>"
      ],
      "text/plain": [
       "       timestamp  itemid    property                            value  \\\n",
       "0  1435460400000  460429  categoryid                             1338   \n",
       "1  1441508400000  206783         888          1116713 960601 n277.200   \n",
       "2  1439089200000  395014         400  n552.000 639502 n720.000 424566   \n",
       "3  1431226800000   59481         790                       n15360.000   \n",
       "4  1431831600000  156781         917                           828513   \n",
       "\n",
       "                 date  \n",
       "0 2015-06-28 06:00:00  \n",
       "1 2015-09-06 06:00:00  \n",
       "2 2015-08-09 06:00:00  \n",
       "3 2015-05-10 06:00:00  \n",
       "4 2015-05-17 06:00:00  "
      ]
     },
     "execution_count": 27,
     "metadata": {},
     "output_type": "execute_result"
    }
   ],
   "source": [
    "properties.head()"
   ]
  },
  {
   "cell_type": "code",
   "execution_count": 28,
   "metadata": {},
   "outputs": [],
   "source": [
    "#сортировка по дате, чтобы из всех дубликатов оставались последние добавленные\n",
    "properties = properties.sort_values('date', ascending=False)"
   ]
  },
  {
   "cell_type": "code",
   "execution_count": 29,
   "metadata": {},
   "outputs": [],
   "source": [
    "#уникальные пары свойство-товар\n",
    "properties_noduplicate = properties.drop_duplicates(['property', 'itemid'])"
   ]
  },
  {
   "cell_type": "code",
   "execution_count": 30,
   "metadata": {},
   "outputs": [
    {
     "data": {
      "text/plain": [
       "417053"
      ]
     },
     "execution_count": 30,
     "metadata": {},
     "output_type": "execute_result"
    }
   ],
   "source": [
    "#количество уникальных идентификаторов товаров\n",
    "properties.itemid.nunique()"
   ]
  },
  {
   "cell_type": "code",
   "execution_count": 31,
   "metadata": {},
   "outputs": [],
   "source": [
    "#ранжирование свойств по частоте\n",
    "properties_50 = properties_noduplicate.groupby('property')['itemid'].count().sort_values(ascending=False)"
   ]
  },
  {
   "cell_type": "code",
   "execution_count": 32,
   "metadata": {},
   "outputs": [
    {
     "data": {
      "text/plain": [
       "property\n",
       "categoryid    417053\n",
       "159           417053\n",
       "790           417053\n",
       "Name: itemid, dtype: int64"
      ]
     },
     "execution_count": 32,
     "metadata": {},
     "output_type": "execute_result"
    }
   ],
   "source": [
    "properties_50.head(3)"
   ]
  },
  {
   "cell_type": "code",
   "execution_count": 33,
   "metadata": {},
   "outputs": [],
   "source": [
    "list_drop = properties_50[properties_50==properties.itemid.nunique()].index #список свойств, которые есть у всех товаров\n",
    "properties_50.drop(list_drop, axis=0, inplace=True) #удаление предыдущих свойств\n",
    "properties_50 = properties_50[:20] #выбор 50-ти самых часто встречающихся свойств"
   ]
  },
  {
   "cell_type": "markdown",
   "metadata": {},
   "source": [
    "Есть свойства которые встречаются у всех товаров, но они либо имеют 1 значение, либо очень много, из-за этого не получится использовать значения свойств. Попробую использовать таблицу со свойствами для добавления наличия свойства у товара(за исключением свойств, которые есть у всех)"
   ]
  },
  {
   "cell_type": "code",
   "execution_count": 34,
   "metadata": {},
   "outputs": [
    {
     "name": "stdout",
     "output_type": "stream",
     "text": [
      "Процент товаров c отсутствующими свойствами - 10.78%\n"
     ]
    }
   ],
   "source": [
    "#удаление товаров, для которых нет свойств(никаких, в том числе)\n",
    "list_drop = list(df[~df.itemid.isin(list(properties.itemid.unique()))].index)\n",
    "print(f'Процент товаров c отсутствующими свойствами - {round(len(df)/len(list_drop), 2)}%')\n",
    "df.drop(list_drop, axis=0, inplace=True)"
   ]
  },
  {
   "cell_type": "markdown",
   "metadata": {},
   "source": [
    "процент небольшой, датасет объемный, думаю лучше всего подойдёт удаление этих товаров"
   ]
  },
  {
   "cell_type": "code",
   "execution_count": 35,
   "metadata": {},
   "outputs": [],
   "source": [
    "#добавление столбцов со свойствами(1-есть, 0-нет)\n",
    "for i in properties_50.index:\n",
    "    temp = pd.DataFrame(properties_noduplicate[properties_noduplicate.property==i]['itemid'], columns=['itemid'])\n",
    "    temp[f'property_{i}'] = 1\n",
    "    df = df.merge(temp, on='itemid', how='left').fillna(0)"
   ]
  },
  {
   "cell_type": "markdown",
   "metadata": {},
   "source": [
    "## Корреляция"
   ]
  },
  {
   "cell_type": "code",
   "execution_count": 36,
   "metadata": {},
   "outputs": [],
   "source": [
    "#таблица корреляций\n",
    "df_corr = df.drop('event', axis=1).corr()"
   ]
  },
  {
   "cell_type": "code",
   "execution_count": 37,
   "metadata": {},
   "outputs": [
    {
     "data": {
      "text/plain": [
       "Text(0.5, 1.0, 'Тепловая карта корреляции')"
      ]
     },
     "execution_count": 37,
     "metadata": {},
     "output_type": "execute_result"
    },
    {
     "data": {
      "image/png": "[encoded data removed]",
      "text/plain": [
       "<Figure size 2500x2000 with 2 Axes>"
      ]
     },
     "metadata": {},
     "output_type": "display_data"
    }
   ],
   "source": [
    "#корреляция между признаками, превышающая значение 0,7\n",
    "fig = plt.figure(figsize = (25,20))\n",
    "\n",
    "ax = sns.heatmap(df_corr[0.7<=df_corr.abs()], fmt='.2f', linewidths=.4, cmap='coolwarm', annot=True)\n",
    "\n",
    "ax.set_title('Тепловая карта корреляции')"
   ]
  },
  {
   "cell_type": "code",
   "execution_count": 38,
   "metadata": {},
   "outputs": [],
   "source": [
    "#список столбцов в порядке возрастания корреляции c целевой переменной\n",
    "df_corr_clean = df_corr.copy()\n",
    "df_corr_clean.target = abs(df_corr_clean.target)\n",
    "list_corr_sort = pd.DataFrame(df_corr_clean.sort_values('target').index, columns=['name']).reset_index()"
   ]
  },
  {
   "cell_type": "code",
   "execution_count": 39,
   "metadata": {},
   "outputs": [],
   "source": [
    "#список признаков, которые останутся в очищенном датасете\n",
    "list_corr_clean = ['visitorid', 'target', 'itemid', 'date', 'event', 'timestamp', 'timeday', 'month', 'dayofweek', 'weekend']\n",
    "\n",
    "for i in list_corr_sort.name: # имена всех столбцов\n",
    "    if i in list_corr_clean:\n",
    "        continue\n",
    "    else:\n",
    "        temp = df_corr[abs(df_corr[i])>0.7][i].index # имена столбцов c сильной корреляцией между собой\n",
    "        temp = pd.DataFrame(temp, columns=['name']) # таблица c именами скоррелированных столбцов\n",
    "        temp = temp.merge(list_corr_sort, on='name', how='left') # добавление номера в ранжированном списке по корреляции c целевой переменнной\n",
    "        list_corr_clean.append(temp.sort_values('index', ascending=False).iloc[0, 0]) # сортировка по корреляции c целевой переменной\n",
    "    \n",
    "list_corr_clean = list(set(list_corr_clean)) # удаление дубликатов из финального списка столбцов"
   ]
  },
  {
   "cell_type": "code",
   "execution_count": 40,
   "metadata": {},
   "outputs": [],
   "source": [
    "df = df[list_corr_clean]"
   ]
  },
  {
   "cell_type": "code",
   "execution_count": 41,
   "metadata": {},
   "outputs": [
    {
     "data": {
      "text/html": [
       "<div>\n",
       "<style scoped>\n",
       "    .dataframe tbody tr th:only-of-type {\n",
       "        vertical-align: middle;\n",
       "    }\n",
       "\n",
       "    .dataframe tbody tr th {\n",
       "        vertical-align: top;\n",
       "    }\n",
       "\n",
       "    .dataframe thead th {\n",
       "        text-align: right;\n",
       "    }\n",
       "</style>\n",
       "<table border=\"1\" class=\"dataframe\">\n",
       "  <thead>\n",
       "    <tr style=\"text-align: right;\">\n",
       "      <th></th>\n",
       "      <th>visitorid</th>\n",
       "      <th>property_928</th>\n",
       "      <th>itemid</th>\n",
       "      <th>property_28</th>\n",
       "      <th>timeday</th>\n",
       "      <th>month</th>\n",
       "      <th>property_678</th>\n",
       "      <th>property_839</th>\n",
       "      <th>property_698</th>\n",
       "      <th>date</th>\n",
       "      <th>...</th>\n",
       "      <th>property_19</th>\n",
       "      <th>dayofweek</th>\n",
       "      <th>weekend</th>\n",
       "      <th>timestamp</th>\n",
       "      <th>property_776</th>\n",
       "      <th>property_348</th>\n",
       "      <th>property_1036</th>\n",
       "      <th>target</th>\n",
       "      <th>property_202</th>\n",
       "      <th>property_6</th>\n",
       "    </tr>\n",
       "  </thead>\n",
       "  <tbody>\n",
       "    <tr>\n",
       "      <th>0</th>\n",
       "      <td>257597</td>\n",
       "      <td>1.0</td>\n",
       "      <td>355908</td>\n",
       "      <td>0.0</td>\n",
       "      <td>2</td>\n",
       "      <td>6</td>\n",
       "      <td>1.0</td>\n",
       "      <td>1.0</td>\n",
       "      <td>1.0</td>\n",
       "      <td>2015-06-02 08:02:12</td>\n",
       "      <td>...</td>\n",
       "      <td>0.0</td>\n",
       "      <td>1</td>\n",
       "      <td>0</td>\n",
       "      <td>1.433221e+09</td>\n",
       "      <td>1.0</td>\n",
       "      <td>0.0</td>\n",
       "      <td>1.0</td>\n",
       "      <td>0</td>\n",
       "      <td>1.0</td>\n",
       "      <td>1.0</td>\n",
       "    </tr>\n",
       "    <tr>\n",
       "      <th>1</th>\n",
       "      <td>992329</td>\n",
       "      <td>0.0</td>\n",
       "      <td>248676</td>\n",
       "      <td>0.0</td>\n",
       "      <td>2</td>\n",
       "      <td>6</td>\n",
       "      <td>1.0</td>\n",
       "      <td>1.0</td>\n",
       "      <td>1.0</td>\n",
       "      <td>2015-06-02 08:50:14</td>\n",
       "      <td>...</td>\n",
       "      <td>0.0</td>\n",
       "      <td>1</td>\n",
       "      <td>0</td>\n",
       "      <td>1.433224e+09</td>\n",
       "      <td>1.0</td>\n",
       "      <td>0.0</td>\n",
       "      <td>1.0</td>\n",
       "      <td>0</td>\n",
       "      <td>1.0</td>\n",
       "      <td>1.0</td>\n",
       "    </tr>\n",
       "    <tr>\n",
       "      <th>2</th>\n",
       "      <td>483717</td>\n",
       "      <td>0.0</td>\n",
       "      <td>253185</td>\n",
       "      <td>0.0</td>\n",
       "      <td>2</td>\n",
       "      <td>6</td>\n",
       "      <td>1.0</td>\n",
       "      <td>1.0</td>\n",
       "      <td>1.0</td>\n",
       "      <td>2015-06-02 08:12:35</td>\n",
       "      <td>...</td>\n",
       "      <td>0.0</td>\n",
       "      <td>1</td>\n",
       "      <td>0</td>\n",
       "      <td>1.433222e+09</td>\n",
       "      <td>1.0</td>\n",
       "      <td>0.0</td>\n",
       "      <td>0.0</td>\n",
       "      <td>0</td>\n",
       "      <td>1.0</td>\n",
       "      <td>1.0</td>\n",
       "    </tr>\n",
       "    <tr>\n",
       "      <th>3</th>\n",
       "      <td>951259</td>\n",
       "      <td>0.0</td>\n",
       "      <td>367447</td>\n",
       "      <td>0.0</td>\n",
       "      <td>2</td>\n",
       "      <td>6</td>\n",
       "      <td>1.0</td>\n",
       "      <td>1.0</td>\n",
       "      <td>1.0</td>\n",
       "      <td>2015-06-02 08:02:17</td>\n",
       "      <td>...</td>\n",
       "      <td>0.0</td>\n",
       "      <td>1</td>\n",
       "      <td>0</td>\n",
       "      <td>1.433221e+09</td>\n",
       "      <td>1.0</td>\n",
       "      <td>0.0</td>\n",
       "      <td>1.0</td>\n",
       "      <td>0</td>\n",
       "      <td>1.0</td>\n",
       "      <td>1.0</td>\n",
       "    </tr>\n",
       "    <tr>\n",
       "      <th>4</th>\n",
       "      <td>972639</td>\n",
       "      <td>0.0</td>\n",
       "      <td>22556</td>\n",
       "      <td>0.0</td>\n",
       "      <td>2</td>\n",
       "      <td>6</td>\n",
       "      <td>1.0</td>\n",
       "      <td>1.0</td>\n",
       "      <td>1.0</td>\n",
       "      <td>2015-06-02 08:48:06</td>\n",
       "      <td>...</td>\n",
       "      <td>1.0</td>\n",
       "      <td>1</td>\n",
       "      <td>0</td>\n",
       "      <td>1.433224e+09</td>\n",
       "      <td>1.0</td>\n",
       "      <td>0.0</td>\n",
       "      <td>0.0</td>\n",
       "      <td>0</td>\n",
       "      <td>1.0</td>\n",
       "      <td>0.0</td>\n",
       "    </tr>\n",
       "  </tbody>\n",
       "</table>\n",
       "<p>5 rows × 29 columns</p>\n",
       "</div>"
      ],
      "text/plain": [
       "   visitorid  property_928  itemid  property_28  timeday  month  property_678  \\\n",
       "0     257597           1.0  355908          0.0        2      6           1.0   \n",
       "1     992329           0.0  248676          0.0        2      6           1.0   \n",
       "2     483717           0.0  253185          0.0        2      6           1.0   \n",
       "3     951259           0.0  367447          0.0        2      6           1.0   \n",
       "4     972639           0.0   22556          0.0        2      6           1.0   \n",
       "\n",
       "   property_839  property_698                date  ...  property_19  \\\n",
       "0           1.0           1.0 2015-06-02 08:02:12  ...          0.0   \n",
       "1           1.0           1.0 2015-06-02 08:50:14  ...          0.0   \n",
       "2           1.0           1.0 2015-06-02 08:12:35  ...          0.0   \n",
       "3           1.0           1.0 2015-06-02 08:02:17  ...          0.0   \n",
       "4           1.0           1.0 2015-06-02 08:48:06  ...          1.0   \n",
       "\n",
       "   dayofweek  weekend     timestamp  property_776 property_348  property_1036  \\\n",
       "0          1        0  1.433221e+09           1.0          0.0            1.0   \n",
       "1          1        0  1.433224e+09           1.0          0.0            1.0   \n",
       "2          1        0  1.433222e+09           1.0          0.0            0.0   \n",
       "3          1        0  1.433221e+09           1.0          0.0            1.0   \n",
       "4          1        0  1.433224e+09           1.0          0.0            0.0   \n",
       "\n",
       "   target  property_202  property_6  \n",
       "0       0           1.0         1.0  \n",
       "1       0           1.0         1.0  \n",
       "2       0           1.0         1.0  \n",
       "3       0           1.0         1.0  \n",
       "4       0           1.0         0.0  \n",
       "\n",
       "[5 rows x 29 columns]"
      ]
     },
     "execution_count": 41,
     "metadata": {},
     "output_type": "execute_result"
    }
   ],
   "source": [
    "df.head()"
   ]
  },
  {
   "cell_type": "markdown",
   "metadata": {},
   "source": [
    "## category_tree"
   ]
  },
  {
   "cell_type": "code",
   "execution_count": 42,
   "metadata": {},
   "outputs": [
    {
     "name": "stdout",
     "output_type": "stream",
     "text": [
      "<class 'pandas.core.frame.DataFrame'>\n",
      "RangeIndex: 1669 entries, 0 to 1668\n",
      "Data columns (total 2 columns):\n",
      " #   Column      Non-Null Count  Dtype  \n",
      "---  ------      --------------  -----  \n",
      " 0   categoryid  1669 non-null   int64  \n",
      " 1   parentid    1644 non-null   float64\n",
      "dtypes: float64(1), int64(1)\n",
      "memory usage: 26.2 KB\n"
     ]
    }
   ],
   "source": [
    "category.info()"
   ]
  },
  {
   "cell_type": "code",
   "execution_count": 43,
   "metadata": {},
   "outputs": [
    {
     "data": {
      "text/html": [
       "<div>\n",
       "<style scoped>\n",
       "    .dataframe tbody tr th:only-of-type {\n",
       "        vertical-align: middle;\n",
       "    }\n",
       "\n",
       "    .dataframe tbody tr th {\n",
       "        vertical-align: top;\n",
       "    }\n",
       "\n",
       "    .dataframe thead th {\n",
       "        text-align: right;\n",
       "    }\n",
       "</style>\n",
       "<table border=\"1\" class=\"dataframe\">\n",
       "  <thead>\n",
       "    <tr style=\"text-align: right;\">\n",
       "      <th></th>\n",
       "      <th>categoryid</th>\n",
       "      <th>parentid</th>\n",
       "    </tr>\n",
       "  </thead>\n",
       "  <tbody>\n",
       "    <tr>\n",
       "      <th>0</th>\n",
       "      <td>1016</td>\n",
       "      <td>213.0</td>\n",
       "    </tr>\n",
       "    <tr>\n",
       "      <th>1</th>\n",
       "      <td>809</td>\n",
       "      <td>169.0</td>\n",
       "    </tr>\n",
       "    <tr>\n",
       "      <th>2</th>\n",
       "      <td>570</td>\n",
       "      <td>9.0</td>\n",
       "    </tr>\n",
       "    <tr>\n",
       "      <th>3</th>\n",
       "      <td>1691</td>\n",
       "      <td>885.0</td>\n",
       "    </tr>\n",
       "    <tr>\n",
       "      <th>4</th>\n",
       "      <td>536</td>\n",
       "      <td>1691.0</td>\n",
       "    </tr>\n",
       "  </tbody>\n",
       "</table>\n",
       "</div>"
      ],
      "text/plain": [
       "   categoryid  parentid\n",
       "0        1016     213.0\n",
       "1         809     169.0\n",
       "2         570       9.0\n",
       "3        1691     885.0\n",
       "4         536    1691.0"
      ]
     },
     "execution_count": 43,
     "metadata": {},
     "output_type": "execute_result"
    }
   ],
   "source": [
    "category.head()"
   ]
  },
  {
   "cell_type": "code",
   "execution_count": 44,
   "metadata": {},
   "outputs": [],
   "source": [
    "#рекурсивная функция для расчета вложенности категорий\n",
    "def tree(x, list_parent=[]):\n",
    "    df_tree = x.copy()\n",
    "    if df_tree.shape[1] < 3: #первая итерация\n",
    "        df_tree['nesting'] = 0 #столбец вложенности\n",
    "        df_parent = df_tree[df_tree.parentid.isna()] #df c категориями начального уровня\n",
    "        list_parent = list(df_parent['categoryid'].values) #список категорий начального уровня\n",
    "        #объединение начальной категории c меткой 0 и значений отправленных на дальнейшую обработку\n",
    "        print(df_tree[~df_tree.parentid.isna()].shape)\n",
    "        return pd.concat([df_parent, tree(df_tree[~df_tree.parentid.isna()], list_parent)])\n",
    "    else:\n",
    "        while not x.empty: #пока не пустой\n",
    "            df_tree['nesting'] +=1 #прибавление вложенности\n",
    "            df_parent = df_tree[df_tree['parentid'].isin(list_parent)] #df со значениями у которых родители есть в списке\n",
    "            list_parent.extend(list(df_parent['categoryid'].values)) #добавление значений чьи родители в списке\n",
    "            #объединение значений, остающихся на этом уровне, cо значениями у которых родителей нет в списке(после обработки)\n",
    "            print(df_tree[~df_tree['categoryid'].isin(list_parent)].shape)\n",
    "            return pd.concat([df_parent, tree(df_tree[~df_tree['categoryid'].isin(list_parent)], list_parent)])"
   ]
  },
  {
   "cell_type": "code",
   "execution_count": 45,
   "metadata": {},
   "outputs": [
    {
     "name": "stdout",
     "output_type": "stream",
     "text": [
      "(1644, 3)\n",
      "(1470, 3)\n",
      "(768, 3)\n",
      "(103, 3)\n",
      "(13, 3)\n",
      "(0, 3)\n"
     ]
    }
   ],
   "source": [
    "category = tree(category)"
   ]
  },
  {
   "cell_type": "code",
   "execution_count": 46,
   "metadata": {},
   "outputs": [
    {
     "data": {
      "text/plain": [
       "nesting\n",
       "2    702\n",
       "3    665\n",
       "1    174\n",
       "4     90\n",
       "0     25\n",
       "5     13\n",
       "Name: count, dtype: int64"
      ]
     },
     "execution_count": 46,
     "metadata": {},
     "output_type": "execute_result"
    }
   ],
   "source": [
    "#распределение вложенности\n",
    "category.nesting.value_counts()"
   ]
  },
  {
   "cell_type": "code",
   "execution_count": 47,
   "metadata": {},
   "outputs": [
    {
     "data": {
      "text/html": [
       "<div>\n",
       "<style scoped>\n",
       "    .dataframe tbody tr th:only-of-type {\n",
       "        vertical-align: middle;\n",
       "    }\n",
       "\n",
       "    .dataframe tbody tr th {\n",
       "        vertical-align: top;\n",
       "    }\n",
       "\n",
       "    .dataframe thead th {\n",
       "        text-align: right;\n",
       "    }\n",
       "</style>\n",
       "<table border=\"1\" class=\"dataframe\">\n",
       "  <thead>\n",
       "    <tr style=\"text-align: right;\">\n",
       "      <th></th>\n",
       "      <th>categoryid</th>\n",
       "      <th>parentid</th>\n",
       "      <th>nesting</th>\n",
       "    </tr>\n",
       "  </thead>\n",
       "  <tbody>\n",
       "    <tr>\n",
       "      <th>count</th>\n",
       "      <td>1669.000000</td>\n",
       "      <td>1644.000000</td>\n",
       "      <td>1669.000000</td>\n",
       "    </tr>\n",
       "    <tr>\n",
       "      <th>mean</th>\n",
       "      <td>849.285201</td>\n",
       "      <td>847.571168</td>\n",
       "      <td>2.395446</td>\n",
       "    </tr>\n",
       "    <tr>\n",
       "      <th>std</th>\n",
       "      <td>490.195116</td>\n",
       "      <td>505.058485</td>\n",
       "      <td>0.832135</td>\n",
       "    </tr>\n",
       "    <tr>\n",
       "      <th>min</th>\n",
       "      <td>0.000000</td>\n",
       "      <td>8.000000</td>\n",
       "      <td>0.000000</td>\n",
       "    </tr>\n",
       "    <tr>\n",
       "      <th>25%</th>\n",
       "      <td>427.000000</td>\n",
       "      <td>381.000000</td>\n",
       "      <td>2.000000</td>\n",
       "    </tr>\n",
       "    <tr>\n",
       "      <th>50%</th>\n",
       "      <td>848.000000</td>\n",
       "      <td>866.000000</td>\n",
       "      <td>2.000000</td>\n",
       "    </tr>\n",
       "    <tr>\n",
       "      <th>75%</th>\n",
       "      <td>1273.000000</td>\n",
       "      <td>1291.000000</td>\n",
       "      <td>3.000000</td>\n",
       "    </tr>\n",
       "    <tr>\n",
       "      <th>max</th>\n",
       "      <td>1698.000000</td>\n",
       "      <td>1698.000000</td>\n",
       "      <td>5.000000</td>\n",
       "    </tr>\n",
       "  </tbody>\n",
       "</table>\n",
       "</div>"
      ],
      "text/plain": [
       "        categoryid     parentid      nesting\n",
       "count  1669.000000  1644.000000  1669.000000\n",
       "mean    849.285201   847.571168     2.395446\n",
       "std     490.195116   505.058485     0.832135\n",
       "min       0.000000     8.000000     0.000000\n",
       "25%     427.000000   381.000000     2.000000\n",
       "50%     848.000000   866.000000     2.000000\n",
       "75%    1273.000000  1291.000000     3.000000\n",
       "max    1698.000000  1698.000000     5.000000"
      ]
     },
     "execution_count": 47,
     "metadata": {},
     "output_type": "execute_result"
    }
   ],
   "source": [
    "category.describe()"
   ]
  },
  {
   "cell_type": "code",
   "execution_count": 48,
   "metadata": {},
   "outputs": [],
   "source": [
    "#таблица связывающая itemid и categoryid\n",
    "df_category = properties[properties['property']=='categoryid'][['itemid', 'value', 'date']].drop_duplicates()\n",
    "df_category['categoryid'] = df_category.value.astype('int') #изменение типа\n",
    "df_category.drop('value', axis=1, inplace=True)\n",
    "df_category = df_category.merge(category.drop('parentid', axis=1), on='categoryid', how='left')"
   ]
  },
  {
   "cell_type": "code",
   "execution_count": 49,
   "metadata": {},
   "outputs": [],
   "source": [
    "#сортировка по дате, чтобы из всех дубликатов оставались последние добавленные\n",
    "df_category = df_category.sort_values('date')\n",
    "df_category = df_category.drop_duplicates(['itemid'])"
   ]
  },
  {
   "cell_type": "code",
   "execution_count": 50,
   "metadata": {},
   "outputs": [],
   "source": [
    "#добавление столбца c вложенностью категорий и столбца c категорией\n",
    "df = df.merge(df_category[['itemid', 'categoryid', 'nesting']], on=['itemid'], how='left')"
   ]
  },
  {
   "cell_type": "code",
   "execution_count": 51,
   "metadata": {},
   "outputs": [],
   "source": [
    "def target_encode(df, cat_col, target_col, smooth=10):\n",
    "    '''Функция для кодирования категориальных признаков:\n",
    "    вычисление средних по категориям + сглаживание'''\n",
    "    averages = df.groupby(cat_col)[target_col].mean()\n",
    "    counts = df.groupby(cat_col)[target_col].count()\n",
    "    global_mean = df[target_col].mean()\n",
    "    encoded = (averages * counts + global_mean * smooth) / (counts + smooth)\n",
    "    return df[cat_col].map(encoded)"
   ]
  },
  {
   "cell_type": "code",
   "execution_count": 52,
   "metadata": {},
   "outputs": [],
   "source": [
    "df['categoryid_enc'] = target_encode(df, 'categoryid', 'target')"
   ]
  },
  {
   "cell_type": "markdown",
   "metadata": {},
   "source": [
    "# Валидация"
   ]
  },
  {
   "cell_type": "markdown",
   "metadata": {},
   "source": [
    "### Загрузка"
   ]
  },
  {
   "cell_type": "code",
   "execution_count": null,
   "metadata": {},
   "outputs": [],
   "source": [
    "#изменение ключевой таблицы, если потребуется\n",
    "#data = df.copy()\n",
    "#data.to_csv('data/data.csv', index=False)"
   ]
  },
  {
   "cell_type": "code",
   "execution_count": 54,
   "metadata": {},
   "outputs": [],
   "source": [
    "#загрузка данных\n",
    "#df = pd.read_csv('data/data.csv')"
   ]
  },
  {
   "cell_type": "code",
   "execution_count": null,
   "metadata": {},
   "outputs": [],
   "source": [
    "#сортировка по дате(по возрастанию)\n",
    "df = df.sort_values('date')\n",
    "df_temp = df.groupby('visitorid')['visitorid'].count() #количество действий пользователя\n",
    "dfmin = df[df.visitorid.isin(df_temp[df_temp>=5].index)] #пользователи, сделавшие минимум 5 действий\n",
    "temp = df.groupby('visitorid')['target'].sum()\n",
    "dfmin = dfmin[dfmin.visitorid.isin(temp[temp>0].index)] #пользователи, совершившие хотя бы одну покупку\n",
    "traindf, testdf = train_test_split(dfmin, test_size=0.3, shuffle=False, random_state=19)"
   ]
  },
  {
   "cell_type": "code",
   "execution_count": 56,
   "metadata": {},
   "outputs": [
    {
     "name": "stdout",
     "output_type": "stream",
     "text": [
      "(247158, 32)\n",
      "(105926, 32)\n"
     ]
    }
   ],
   "source": [
    "print(traindf.shape)\n",
    "print(testdf.shape)"
   ]
  },
  {
   "cell_type": "markdown",
   "metadata": {},
   "source": [
    "### Признаки для товаров"
   ]
  },
  {
   "cell_type": "code",
   "execution_count": 57,
   "metadata": {},
   "outputs": [],
   "source": [
    "def value_top(dataframe, column, target):\n",
    "    '''Функция для выбора топового значения для каждого пользователя или товара:\n",
    "    \tcolumn - топ чего нужен; \n",
    "    \ttarget - столбец по которому нужна группировка(товар или пользователь)'''\n",
    "    temp = dataframe.groupby(target)[column].agg(lambda x: x.value_counts().index[0]).reset_index()\n",
    "    temp.rename(columns={column:target+'_'+column}, inplace=True)\n",
    "    return dataframe.merge(temp, on=[target], how='left')\n",
    "    "
   ]
  },
  {
   "cell_type": "code",
   "execution_count": 58,
   "metadata": {},
   "outputs": [],
   "source": [
    "traindf = value_top(traindf, 'day', 'itemid')\n",
    "traindf = value_top(traindf, 'weekend', 'itemid')\n",
    "traindf = value_top(traindf, 'timeday', 'itemid')\n",
    "traindf['item_count'] = traindf.groupby('itemid')['target'].transform('count') #количество товара в таблице\n",
    "traindf['item_purchase_count'] = traindf.groupby('itemid')['target'].transform('sum').fillna(0) #количество покупок товара в таблице\n",
    "traindf['item_mean'] = traindf.groupby('itemid')['target'].transform('mean') #средняя конверсия по товару\n",
    "#количество дней с последнего просмотра\n",
    "traindf['item_days_since_last_view'] = round((testdf.timestamp.min() - traindf.groupby('itemid')['timestamp'].transform('max'))/86400)\n",
    "#популярность категории товара\n",
    "traindf['category_popularity'] = traindf.groupby('categoryid')['itemid'].transform('count')\n",
    "#насколько часто покупают в категории товара\n",
    "traindf['category_popularity_purchase'] = traindf.groupby('categoryid')['target'].transform('sum')\n",
    "#средняя конверсия в категории\n",
    "traindf['category_avg_conversion'] = traindf.groupby('categoryid')['target'].transform('mean')\n",
    "#количество уникальных товаров в категории\n",
    "traindf['category_unique_items'] = traindf.groupby('categoryid')['itemid'].transform('nunique')\n",
    "#количество уникальных пользователей, просмотревших товар\n",
    "traindf['item_unique_users'] = traindf.groupby('itemid')['visitorid'].transform('nunique')\n",
    "#доля возвращающихся пользователей\n",
    "traindf['item_returning_users_ratio'] = traindf.groupby('itemid')['visitorid'].transform(lambda x: x.duplicated().mean())\n"
   ]
  },
  {
   "cell_type": "code",
   "execution_count": 59,
   "metadata": {},
   "outputs": [],
   "source": [
    "#количество взаимодействий с товаром за 7 последних дней\n",
    "items7 = traindf[traindf['timestamp'] > (traindf.timestamp.max() - (86400*7))].groupby('itemid')['target'].count().rename('item_recent_7d')\n",
    "#количество покупок товара за 7 последних дней\n",
    "items7_purchase = traindf[traindf['timestamp'] > (traindf.timestamp.max() - (86400*7))].groupby('itemid')['target'].sum().rename('item_recent_7d_purchase')\n",
    "#количество взаимодействий с товаром за 30 последних дней\n",
    "items30 = traindf[traindf['timestamp'] > (traindf.timestamp.max() - (86400*30))].groupby('itemid')['target'].count().rename('item_recent_30d')\n",
    "#количество покупок товара за 30 последних дней\n",
    "items30_purchase = traindf[traindf['timestamp'] > (traindf.timestamp.max() - (86400*30))].groupby('itemid')['target'].sum().rename('item_recent_30d_purchase')\n",
    "#количество дней с последней покупки\n",
    "days_since_last_purchase = round((testdf.timestamp.min() - traindf[traindf.target==1].groupby('itemid')['timestamp'].max())/86400).rename('item_days_since_last_purchase')\n",
    "#добавление признаков в таблицу\n",
    "traindf = pd.merge(traindf, items7, on='itemid', how='left')\n",
    "traindf = pd.merge(traindf, items7_purchase, on='itemid', how='left')\n",
    "traindf = pd.merge(traindf, items30, on='itemid', how='left')\n",
    "traindf = pd.merge(traindf, items30_purchase, on='itemid', how='left')\n",
    "traindf = pd.merge(traindf, days_since_last_purchase, on='itemid', how='left')"
   ]
  },
  {
   "cell_type": "code",
   "execution_count": 60,
   "metadata": {},
   "outputs": [
    {
     "data": {
      "text/plain": [
       "item_recent_7d_purchase          155522\n",
       "item_recent_7d                   155522\n",
       "item_recent_30d_purchase          65089\n",
       "item_recent_30d                   65089\n",
       "item_days_since_last_purchase     56434\n",
       "item_count                            0\n",
       "property_202                          0\n",
       "property_6                            0\n",
       "categoryid                            0\n",
       "nesting                               0\n",
       "categoryid_enc                        0\n",
       "itemid_day                            0\n",
       "itemid_weekend                        0\n",
       "itemid_timeday                        0\n",
       "item_days_since_last_view             0\n",
       "item_purchase_count                   0\n",
       "item_mean                             0\n",
       "property_928                          0\n",
       "category_popularity                   0\n",
       "category_popularity_purchase          0\n",
       "category_avg_conversion               0\n",
       "category_unique_items                 0\n",
       "item_unique_users                     0\n",
       "item_returning_users_ratio            0\n",
       "target                                0\n",
       "visitorid                             0\n",
       "property_348                          0\n",
       "property_776                          0\n",
       "itemid                                0\n",
       "property_28                           0\n",
       "timeday                               0\n",
       "month                                 0\n",
       "property_678                          0\n",
       "property_839                          0\n",
       "property_698                          0\n",
       "date                                  0\n",
       "property_689                          0\n",
       "property_434                          0\n",
       "property_917                          0\n",
       "day                                   0\n",
       "minute                                0\n",
       "event                                 0\n",
       "property_227                          0\n",
       "property_400                          0\n",
       "property_713                          0\n",
       "property_19                           0\n",
       "dayofweek                             0\n",
       "weekend                               0\n",
       "timestamp                             0\n",
       "property_1036                         0\n",
       "dtype: int64"
      ]
     },
     "execution_count": 60,
     "metadata": {},
     "output_type": "execute_result"
    }
   ],
   "source": [
    "#пустые значения, для которых нет данных\n",
    "traindf.isnull().sum().sort_values(ascending=False)"
   ]
  },
  {
   "cell_type": "code",
   "execution_count": 61,
   "metadata": {},
   "outputs": [],
   "source": [
    "#все заполняем 0, а дни с последней покупки большим числом\n",
    "traindf.fillna({'item_recent_7d_purchase': 0,'item_recent_30d_purchase': 0,'item_recent_7d': 0,\n",
    "                'item_days_since_last_purchase': 120,'item_recent_30d': 0\n",
    "\t\t\t\t}, inplace=True)"
   ]
  },
  {
   "cell_type": "code",
   "execution_count": 62,
   "metadata": {},
   "outputs": [
    {
     "data": {
      "text/plain": [
       "Index(['visitorid', 'property_928', 'itemid', 'property_28', 'timeday',\n",
       "       'month', 'property_678', 'property_839', 'property_698', 'date',\n",
       "       'property_689', 'property_434', 'property_917', 'day', 'minute',\n",
       "       'event', 'property_227', 'property_400', 'property_713', 'property_19',\n",
       "       'dayofweek', 'weekend', 'timestamp', 'property_776', 'property_348',\n",
       "       'property_1036', 'target', 'property_202', 'property_6', 'categoryid',\n",
       "       'nesting', 'categoryid_enc', 'itemid_day', 'itemid_weekend',\n",
       "       'itemid_timeday', 'item_count', 'item_purchase_count', 'item_mean',\n",
       "       'item_days_since_last_view', 'category_popularity',\n",
       "       'category_popularity_purchase', 'category_avg_conversion',\n",
       "       'category_unique_items', 'item_unique_users',\n",
       "       'item_returning_users_ratio', 'item_recent_7d',\n",
       "       'item_recent_7d_purchase', 'item_recent_30d',\n",
       "       'item_recent_30d_purchase', 'item_days_since_last_purchase'],\n",
       "      dtype='object')"
      ]
     },
     "execution_count": 62,
     "metadata": {},
     "output_type": "execute_result"
    }
   ],
   "source": [
    "traindf.columns"
   ]
  },
  {
   "cell_type": "code",
   "execution_count": 63,
   "metadata": {},
   "outputs": [],
   "source": [
    "#столбцы с признаками товаров\n",
    "item_features = ['property_6', 'property_928', 'property_227', 'property_202',\n",
    "                 'property_689', 'property_713', 'property_678', 'property_348',\n",
    "                 'property_839', 'property_917', 'property_1036', 'property_19',\n",
    "                 'property_28', 'property_776', 'property_434', 'property_698',\n",
    "                 'property_400', 'categoryid', 'nesting', 'categoryid_enc',\n",
    "                 'itemid_day', 'itemid_weekend', 'itemid_timeday', 'item_count',\n",
    "                 'item_purchase_count', 'item_mean', 'item_days_since_last_view', 'category_popularity',\n",
    "                 'category_avg_conversion', 'category_unique_items', 'item_unique_users', 'item_returning_users_ratio',\n",
    "                 'item_recent_7d_purchase', 'item_recent_30d_purchase','item_recent_7d', 'category_popularity_purchase',\n",
    "                 'item_days_since_last_purchase','item_recent_30d'\n",
    "\t\t\t\t]"
   ]
  },
  {
   "cell_type": "code",
   "execution_count": 64,
   "metadata": {},
   "outputs": [],
   "source": [
    "#важность признаков\n",
    "mi_scores = mutual_info_classif(traindf[item_features], traindf['target'], random_state=19)\n",
    "mi_df = pd.DataFrame({'feature': item_features, 'mi_score': mi_scores}).sort_values('mi_score', ascending=False).reset_index(drop=True)"
   ]
  },
  {
   "cell_type": "code",
   "execution_count": 65,
   "metadata": {},
   "outputs": [
    {
     "data": {
      "image/png": "[encoded data removed]",
      "text/plain": [
       "<Figure size 1200x800 with 1 Axes>"
      ]
     },
     "metadata": {},
     "output_type": "display_data"
    }
   ],
   "source": [
    "plt.figure(figsize=(12, 8))\n",
    "plt.barh(mi_df['feature'], mi_df['mi_score'], color='skyblue')\n",
    "plt.xlabel('Mutual Information Score')\n",
    "plt.title('Важность признаков товаров')\n",
    "plt.gca().invert_yaxis()  #самые важные признаки сверху\n",
    "plt.show()"
   ]
  },
  {
   "cell_type": "code",
   "execution_count": 66,
   "metadata": {},
   "outputs": [],
   "source": [
    "#стандартизация признаков\n",
    "scaler_features = ['item_count', 'item_purchase_count', 'item_days_since_last_view',\n",
    "                   'category_popularity', 'category_unique_items', 'item_unique_users',\n",
    "                   'item_recent_7d_purchase','item_recent_30d_purchase','item_recent_7d',\n",
    "                   'category_popularity_purchase','item_days_since_last_purchase','item_recent_30d'\n",
    "]\n",
    "for i in scaler_features:\n",
    "    traindf[i]= StandardScaler().fit_transform(traindf[[i]])"
   ]
  },
  {
   "cell_type": "markdown",
   "metadata": {},
   "source": [
    "### Признаки для пользователя"
   ]
  },
  {
   "cell_type": "code",
   "execution_count": 67,
   "metadata": {},
   "outputs": [
    {
     "data": {
      "text/plain": [
       "Index(['visitorid', 'property_928', 'itemid', 'property_28', 'timeday',\n",
       "       'month', 'property_678', 'property_839', 'property_698', 'date',\n",
       "       'property_689', 'property_434', 'property_917', 'day', 'minute',\n",
       "       'event', 'property_227', 'property_400', 'property_713', 'property_19',\n",
       "       'dayofweek', 'weekend', 'timestamp', 'property_776', 'property_348',\n",
       "       'property_1036', 'target', 'property_202', 'property_6', 'categoryid',\n",
       "       'nesting', 'categoryid_enc', 'itemid_day', 'itemid_weekend',\n",
       "       'itemid_timeday', 'item_count', 'item_purchase_count', 'item_mean',\n",
       "       'item_days_since_last_view', 'category_popularity',\n",
       "       'category_popularity_purchase', 'category_avg_conversion',\n",
       "       'category_unique_items', 'item_unique_users',\n",
       "       'item_returning_users_ratio', 'item_recent_7d',\n",
       "       'item_recent_7d_purchase', 'item_recent_30d',\n",
       "       'item_recent_30d_purchase', 'item_days_since_last_purchase'],\n",
       "      dtype='object')"
      ]
     },
     "execution_count": 67,
     "metadata": {},
     "output_type": "execute_result"
    }
   ],
   "source": [
    "traindf.columns"
   ]
  },
  {
   "cell_type": "code",
   "execution_count": 68,
   "metadata": {},
   "outputs": [],
   "source": [
    "traindf = value_top(traindf, 'day', 'visitorid')\n",
    "traindf = value_top(traindf, 'weekend', 'visitorid')\n",
    "traindf = value_top(traindf, 'timeday', 'visitorid')\n",
    "traindf = value_top(traindf, 'categoryid', 'visitorid')\n",
    "#любимая категоия пользователя\n",
    "cat_dict = dict(zip(traindf['categoryid'], traindf['categoryid_enc']))\n",
    "traindf['visitorid_categoryid_enc'] = traindf['visitorid_categoryid'].map(cat_dict)"
   ]
  },
  {
   "cell_type": "code",
   "execution_count": 69,
   "metadata": {},
   "outputs": [],
   "source": [
    "traindf['user_count'] = traindf.groupby('visitorid')['target'].transform('count') #количество пользователя в таблице\n",
    "traindf['user_purchase_count'] = traindf.groupby('visitorid')['target'].transform('sum') #количество покупок пользователя\n",
    "traindf['user_mean'] = traindf.groupby('visitorid')['target'].transform('mean') #средняя конверсия для пользователя\n",
    "#время между действиями\n",
    "traindf['user_avg_time_between_actions'] = traindf.groupby('visitorid')['timestamp'].transform(lambda x: x.diff().mean())\n",
    "#возвращение к товарам\n",
    "traindf['user_repeat_view_ratio'] = traindf.groupby('visitorid')['itemid'].transform(lambda x: x.duplicated().mean())\n",
    "#изменение активности(последние 7 дней по сравнению с полной историей)\n",
    "user_7 = (traindf[(traindf.target==1)&(traindf['timestamp'] > (traindf.timestamp.max() - (86400*7)))].groupby('visitorid')['itemid'].count()).rename('user_activity_trend')\n",
    "traindf = pd.merge(traindf, user_7, on='visitorid', how='left')\n",
    "traindf['user_activity_trend'] = traindf['user_activity_trend']/traindf.groupby('visitorid')['itemid'].transform('count')"
   ]
  },
  {
   "cell_type": "code",
   "execution_count": 70,
   "metadata": {},
   "outputs": [
    {
     "data": {
      "text/plain": [
       "user_activity_trend              210573\n",
       "user_avg_time_between_actions       245\n",
       "item_recent_7d                        0\n",
       "itemid_weekend                        0\n",
       "itemid_timeday                        0\n",
       "item_count                            0\n",
       "item_purchase_count                   0\n",
       "item_mean                             0\n",
       "item_days_since_last_view             0\n",
       "category_popularity                   0\n",
       "dtype: int64"
      ]
     },
     "execution_count": 70,
     "metadata": {},
     "output_type": "execute_result"
    }
   ],
   "source": [
    "#незаполненные значения\n",
    "traindf.isnull().sum().sort_values(ascending=False).head(10)"
   ]
  },
  {
   "cell_type": "code",
   "execution_count": 71,
   "metadata": {},
   "outputs": [],
   "source": [
    "#активность заполнить 0, время  между действиями большим числом\n",
    "traindf.fillna({'user_activity_trend': 0,'user_avg_time_between_actions': 120\n",
    "}, inplace=True)"
   ]
  },
  {
   "cell_type": "code",
   "execution_count": 72,
   "metadata": {},
   "outputs": [
    {
     "data": {
      "text/plain": [
       "Index(['visitorid', 'property_928', 'itemid', 'property_28', 'timeday',\n",
       "       'month', 'property_678', 'property_839', 'property_698', 'date',\n",
       "       'property_689', 'property_434', 'property_917', 'day', 'minute',\n",
       "       'event', 'property_227', 'property_400', 'property_713', 'property_19',\n",
       "       'dayofweek', 'weekend', 'timestamp', 'property_776', 'property_348',\n",
       "       'property_1036', 'target', 'property_202', 'property_6', 'categoryid',\n",
       "       'nesting', 'categoryid_enc', 'itemid_day', 'itemid_weekend',\n",
       "       'itemid_timeday', 'item_count', 'item_purchase_count', 'item_mean',\n",
       "       'item_days_since_last_view', 'category_popularity',\n",
       "       'category_popularity_purchase', 'category_avg_conversion',\n",
       "       'category_unique_items', 'item_unique_users',\n",
       "       'item_returning_users_ratio', 'item_recent_7d',\n",
       "       'item_recent_7d_purchase', 'item_recent_30d',\n",
       "       'item_recent_30d_purchase', 'item_days_since_last_purchase',\n",
       "       'visitorid_day', 'visitorid_weekend', 'visitorid_timeday',\n",
       "       'visitorid_categoryid', 'visitorid_categoryid_enc', 'user_count',\n",
       "       'user_purchase_count', 'user_mean', 'user_avg_time_between_actions',\n",
       "       'user_repeat_view_ratio', 'user_activity_trend'],\n",
       "      dtype='object')"
      ]
     },
     "execution_count": 72,
     "metadata": {},
     "output_type": "execute_result"
    }
   ],
   "source": [
    "traindf.columns"
   ]
  },
  {
   "cell_type": "code",
   "execution_count": 73,
   "metadata": {},
   "outputs": [],
   "source": [
    "user_features = ['visitorid_day', 'visitorid_weekend', 'visitorid_timeday',\n",
    "                 'visitorid_categoryid', 'visitorid_categoryid_enc', 'user_count',\n",
    "                 'user_purchase_count', 'user_mean', 'user_avg_time_between_actions',\n",
    "                 'user_repeat_view_ratio', 'user_activity_trend'\n",
    "]"
   ]
  },
  {
   "cell_type": "code",
   "execution_count": 74,
   "metadata": {},
   "outputs": [],
   "source": [
    "#важность признаков\n",
    "mi_scores = mutual_info_classif(traindf[user_features], traindf['target'], random_state=19)\n",
    "mi_df = pd.DataFrame({'feature': user_features, 'mi_score': mi_scores}) \\\n",
    "         .sort_values('mi_score', ascending=False) \\\n",
    "         .reset_index(drop=True)"
   ]
  },
  {
   "cell_type": "code",
   "execution_count": 75,
   "metadata": {},
   "outputs": [
    {
     "data": {
      "image/png": "[encoded data removed]",
      "text/plain": [
       "<Figure size 1200x800 with 1 Axes>"
      ]
     },
     "metadata": {},
     "output_type": "display_data"
    }
   ],
   "source": [
    "plt.figure(figsize=(12, 8))\n",
    "plt.barh(mi_df['feature'], mi_df['mi_score'], color='skyblue')\n",
    "plt.xlabel('Mutual Information Score')\n",
    "plt.title('Важность признаков товаров')\n",
    "plt.gca().invert_yaxis()  #самые важные признаки сверху\n",
    "plt.show()"
   ]
  },
  {
   "cell_type": "code",
   "execution_count": 76,
   "metadata": {},
   "outputs": [],
   "source": [
    "#стандартизация\n",
    "scaler_features = ['user_count', 'user_purchase_count', 'user_avg_time_between_actions']\n",
    "for i in scaler_features:\n",
    "    traindf[i]= StandardScaler().fit_transform(traindf[[i]])"
   ]
  },
  {
   "cell_type": "markdown",
   "metadata": {},
   "source": [
    "### Статистические тесты"
   ]
  },
  {
   "cell_type": "markdown",
   "metadata": {},
   "source": [
    "#### Зависимость вложенности и целевой переменной\n",
    "* Нулевая гипотеза: признаки Вложенность и Целевая переменная независимы.\n",
    "* Альтернативная гипотеза: признаки Вложенность и Целевая переменная взаимосвязаны."
   ]
  },
  {
   "cell_type": "code",
   "execution_count": 77,
   "metadata": {},
   "outputs": [
    {
     "name": "stdout",
     "output_type": "stream",
     "text": [
      "p-value = 2.1270849102203072e-08\n",
      "p-значение меньше, чем заданный уровень значимости 0.05. Отвергаем нулевую гипотезу.\n"
     ]
    }
   ],
   "source": [
    "alpha = 0.05\n",
    "table = pd.crosstab(traindf['nesting'], traindf['target'])\n",
    "_, p, _, _ = stats.chi2_contingency(table)\n",
    "print(f'p-value = {p}')\n",
    "#интерпретируем результат\n",
    "if p <= alpha:\n",
    "    print('p-значение меньше, чем заданный уровень значимости {:.2f}. Отвергаем нулевую гипотезу.'.format(alpha))\n",
    "else:\n",
    "    print('p-значение больше, чем заданный уровень значимости {:.2f}. У нас нет оснований отвергнуть нулевую гипотезу.'.format(alpha))"
   ]
  },
  {
   "cell_type": "markdown",
   "metadata": {},
   "source": [
    "#### Зависимость наличия у товара свойства 678 и целевой переменной\n",
    "* Нулевая гипотеза: признаки свойство 678 и целевая переменная независимы.\n",
    "* Альтернативная гипотеза: признаки свойство 678 и целевая переменная взаимосвязаны."
   ]
  },
  {
   "cell_type": "code",
   "execution_count": 78,
   "metadata": {},
   "outputs": [
    {
     "name": "stdout",
     "output_type": "stream",
     "text": [
      "p-value = 1.0\n",
      "p-значение больше, чем заданный уровень значимости 0.05. У нас нет оснований отвергнуть нулевую гипотезу.\n"
     ]
    }
   ],
   "source": [
    "alpha = 0.05\n",
    "table = pd.crosstab(traindf['property_678'], traindf['target'])\n",
    "_, p, _, _ = stats.chi2_contingency(table)\n",
    "print(f'p-value = {p}')\n",
    "#интерпретируем результат\n",
    "if p <= alpha:\n",
    "    print('p-значение меньше, чем заданный уровень значимости {:.2f}. Отвергаем нулевую гипотезу.'.format(alpha))\n",
    "else:\n",
    "    print('p-значение больше, чем заданный уровень значимости {:.2f}. У нас нет оснований отвергнуть нулевую гипотезу.'.format(alpha))"
   ]
  },
  {
   "cell_type": "markdown",
   "metadata": {},
   "source": [
    "#### Зависимость наличия у товара свойства 1036 и целевой переменной\n",
    "* Нулевая гипотеза: признаки свойство 1036 и целевая переменная независимы.\n",
    "* Альтернативная гипотеза: признаки свойство 1036 и целевая переменная взаимосвязаны."
   ]
  },
  {
   "cell_type": "code",
   "execution_count": 79,
   "metadata": {},
   "outputs": [
    {
     "name": "stdout",
     "output_type": "stream",
     "text": [
      "p-value = 0.0668452044668831\n",
      "p-значение больше, чем заданный уровень значимости 0.05. У нас нет оснований отвергнуть нулевую гипотезу.\n"
     ]
    }
   ],
   "source": [
    "alpha = 0.05\n",
    "table = pd.crosstab(traindf['property_1036'], traindf['target'])\n",
    "_, p, _, _ = stats.chi2_contingency(table)\n",
    "print(f'p-value = {p}')\n",
    "#интерпретируем результат\n",
    "if p <= alpha:\n",
    "    print('p-значение меньше, чем заданный уровень значимости {:.2f}. Отвергаем нулевую гипотезу.'.format(alpha))\n",
    "else:\n",
    "    print('p-значение больше, чем заданный уровень значимости {:.2f}. У нас нет оснований отвергнуть нулевую гипотезу.'.format(alpha))"
   ]
  },
  {
   "cell_type": "markdown",
   "metadata": {},
   "source": [
    "#### Зависимость самой просматриваемой пользователем категории и целевой переменной\n",
    "* Нулевая гипотеза: признаки самая просматриваемая категория и целевая переменная независимы.\n",
    "* Альтернативная гипотеза: признаки самая просматриваемая категория и целевая переменная взаимосвязаны."
   ]
  },
  {
   "cell_type": "code",
   "execution_count": 80,
   "metadata": {},
   "outputs": [
    {
     "name": "stdout",
     "output_type": "stream",
     "text": [
      "p-value = 0.0\n",
      "p-значение меньше, чем заданный уровень значимости 0.05. Отвергаем нулевую гипотезу.\n"
     ]
    }
   ],
   "source": [
    "alpha = 0.05\n",
    "table = pd.crosstab(traindf['visitorid_categoryid'], traindf['target'])\n",
    "_, p, _, _ = stats.chi2_contingency(table)\n",
    "print(f'p-value = {p}')\n",
    "#интерпретируем результат\n",
    "if p <= alpha:\n",
    "    print('p-значение меньше, чем заданный уровень значимости {:.2f}. Отвергаем нулевую гипотезу.'.format(alpha))\n",
    "else:\n",
    "    print('p-значение больше, чем заданный уровень значимости {:.2f}. У нас нет оснований отвергнуть нулевую гипотезу.'.format(alpha))"
   ]
  },
  {
   "cell_type": "markdown",
   "metadata": {},
   "source": [
    "#### Зависимость категории товара и целевой переменной\n",
    "* Нулевая гипотеза: признаки категория товара и целевая переменная независимы.\n",
    "* Альтернативная гипотеза: признаки категория товара и целевая переменная взаимосвязаны."
   ]
  },
  {
   "cell_type": "code",
   "execution_count": 81,
   "metadata": {},
   "outputs": [
    {
     "name": "stdout",
     "output_type": "stream",
     "text": [
      "p-value = 0.0\n",
      "p-значение меньше, чем заданный уровень значимости 0.05. Отвергаем нулевую гипотезу.\n"
     ]
    }
   ],
   "source": [
    "alpha = 0.05\n",
    "table = pd.crosstab(traindf['categoryid'], traindf['target'])\n",
    "_, p, _, _ = stats.chi2_contingency(table)\n",
    "print(f'p-value = {p}')\n",
    "#интерпретируем результат\n",
    "if p <= alpha:\n",
    "    print('p-значение меньше, чем заданный уровень значимости {:.2f}. Отвергаем нулевую гипотезу.'.format(alpha))\n",
    "else:\n",
    "    print('p-значение больше, чем заданный уровень значимости {:.2f}. У нас нет оснований отвергнуть нулевую гипотезу.'.format(alpha))"
   ]
  },
  {
   "cell_type": "markdown",
   "metadata": {},
   "source": [
    "# Построение моделей"
   ]
  },
  {
   "cell_type": "code",
   "execution_count": 82,
   "metadata": {},
   "outputs": [],
   "source": [
    "item_features = ['property_6', 'property_928', 'property_227', 'property_202',\n",
    "                 'property_689', 'property_713', 'property_678', 'property_348',\n",
    "                 'property_839', 'property_917', 'property_1036', 'property_19',\n",
    "                 'property_28', 'property_776', 'property_434', 'property_698',\n",
    "                 'property_400', 'categoryid', 'nesting', 'categoryid_enc',\n",
    "                 'itemid_day', 'itemid_weekend', 'itemid_timeday', 'item_count',\n",
    "                 'item_purchase_count', 'item_mean', 'item_days_since_last_view', 'category_popularity',\n",
    "                 'category_popularity_purchase', 'category_avg_conversion', 'category_unique_items',\n",
    "                 'item_unique_users', 'item_returning_users_ratio', 'item_recent_7d',\n",
    "                 'item_recent_7d_purchase', 'item_recent_30d', 'item_recent_30d_purchase',\n",
    "                 'item_days_since_last_purchase'\n",
    "]\n",
    "\n",
    "user_features = ['visitorid_day', 'visitorid_weekend', 'visitorid_timeday',\n",
    "                 'visitorid_categoryid', 'visitorid_categoryid_enc', 'user_count',\n",
    "                 'user_purchase_count', 'user_mean', 'user_avg_time_between_actions',\n",
    "                 'user_repeat_view_ratio', 'user_activity_trend'\n",
    "]\n",
    "features = user_features + item_features"
   ]
  },
  {
   "cell_type": "code",
   "execution_count": 83,
   "metadata": {},
   "outputs": [],
   "source": [
    "col = ['itemid', 'target', 'minute', 'event', 'date',\n",
    "       'timestamp', 'timeday', 'dayofweek', 'weekend', 'day',\n",
    "       'month', 'visitorid'\n",
    "]\n",
    "testdf = pd.merge(testdf[col], traindf[['itemid'] + item_features].drop_duplicates(), on='itemid', how='inner')\n",
    "testdf = pd.merge(testdf, traindf[['visitorid'] + user_features].drop_duplicates(), on='visitorid', how='inner')\n",
    "train = traindf[['itemid', 'visitorid', 'target', 'timestamp'] + features]\n",
    "test = testdf[['itemid', 'visitorid', 'target', 'timestamp'] + features]\n",
    "test_temp = testdf.groupby('visitorid')['target'].sum() #количество покупок пользователя\n",
    "test = testdf[testdf['visitorid'].isin(test_temp[test_temp>0].index)] #только покупки"
   ]
  },
  {
   "cell_type": "markdown",
   "metadata": {},
   "source": [
    "### Предварительное исследование целевой переменной"
   ]
  },
  {
   "cell_type": "markdown",
   "metadata": {},
   "source": [
    "#### Исследуем пользователей, которые были раньше и совершили хотя бы одну покупку в тестовом периоде"
   ]
  },
  {
   "cell_type": "code",
   "execution_count": 84,
   "metadata": {},
   "outputs": [],
   "source": [
    "test_temp = test\n",
    "#добавление столбца с индикатором есть ли этот товар в трейне у пользователя\n",
    "test_temp = pd.merge(test_temp,\n",
    "                     train[['visitorid', 'itemid']].drop_duplicates(),\n",
    "                     on=['visitorid', 'itemid'],\n",
    "                     how='left',\n",
    "                     indicator=True\n",
    ")\n",
    "test_temp['_merge'] = test_temp['_merge'].map({'left_only':'only_test', 'both':'train'})\n",
    "test_temp.rename(columns={'_merge': 'item_in'}, inplace=True)"
   ]
  },
  {
   "cell_type": "code",
   "execution_count": 85,
   "metadata": {},
   "outputs": [
    {
     "data": {
      "image/png": "[encoded data removed]"
     },
     "metadata": {},
     "output_type": "display_data"
    }
   ],
   "source": [
    "pivot = test_temp.pivot_table(index='target', columns='item_in', values='visitorid', aggfunc='count')\n",
    "fig = px.bar(pivot, height=400, width=800, text_auto=True,\n",
    "             title='Количество товаров у пользователя в зависимости от целевой переменной и датасета'\n",
    ")\n",
    "\n",
    "fig.update_layout(\n",
    "    margin=dict(l=20, r=20, t=60, b=20),\n",
    "    paper_bgcolor='LightSteelBlue',\n",
    "    showlegend=True\n",
    ")\n",
    "\n",
    "fig.show('png')"
   ]
  },
  {
   "cell_type": "code",
   "execution_count": 86,
   "metadata": {},
   "outputs": [
    {
     "name": "stdout",
     "output_type": "stream",
     "text": [
      "В среднем 21% купленных товаров есть у пользователей среди ранее просмотренных\n"
     ]
    }
   ],
   "source": [
    "#доля купленных товаров из теста, которые были в трейне куплены или просмотрены одним и тем же пользователей\n",
    "train_temp = train.groupby('visitorid')['itemid'].unique()\n",
    "temp = test_temp[test_temp['target']==1].groupby('visitorid')['itemid'].unique()\n",
    "temp  = pd.concat([train_temp, temp], join='inner', axis=1)\n",
    "temp.columns = ['train', 'test']\n",
    "\n",
    "\n",
    "test_in_train = []\n",
    "for i in temp.index:\n",
    "    flags = np.isin(temp.loc[i, 'test'], temp.loc[i, 'train'])\n",
    "    part = flags.sum()/len(flags)\n",
    "    test_in_train.append(part)\n",
    "print(f'В среднем {round(np.array(test_in_train).mean()*100)}% купленных товаров есть у пользователей среди ранее просмотренных')"
   ]
  },
  {
   "cell_type": "code",
   "execution_count": 87,
   "metadata": {},
   "outputs": [
    {
     "name": "stdout",
     "output_type": "stream",
     "text": [
      "В среднем 20% купленных товаров среди ранее купленных\n"
     ]
    }
   ],
   "source": [
    "#доля купленных товаров из теста, также купленных в трейне одним и тем же пользователей\n",
    "train_temp = train[train['target']==1].groupby('visitorid')['itemid'].unique()\n",
    "temp = test_temp[test_temp['target']==1].groupby('visitorid')['itemid'].unique()\n",
    "temp  = pd.concat([train_temp, temp], join='inner', axis=1)\n",
    "temp.columns = ['train', 'test']\n",
    "\n",
    "\n",
    "test_in_train = []\n",
    "for i in temp.index:\n",
    "    flags = np.isin(temp.loc[i, 'test'], temp.loc[i, 'train'])\n",
    "    part = flags.sum()/len(flags)\n",
    "    test_in_train.append(part)\n",
    "print(f'В среднем {round(np.array(test_in_train).mean()*100)}% купленных товаров среди ранее купленных')"
   ]
  },
  {
   "cell_type": "code",
   "execution_count": 88,
   "metadata": {},
   "outputs": [
    {
     "data": {
      "text/html": [
       "<div>\n",
       "<style scoped>\n",
       "    .dataframe tbody tr th:only-of-type {\n",
       "        vertical-align: middle;\n",
       "    }\n",
       "\n",
       "    .dataframe tbody tr th {\n",
       "        vertical-align: top;\n",
       "    }\n",
       "\n",
       "    .dataframe thead th {\n",
       "        text-align: right;\n",
       "    }\n",
       "</style>\n",
       "<table border=\"1\" class=\"dataframe\">\n",
       "  <thead>\n",
       "    <tr style=\"text-align: right;\">\n",
       "      <th></th>\n",
       "      <th>visitorid</th>\n",
       "      <th>5038</th>\n",
       "      <th>518659</th>\n",
       "      <th>548772</th>\n",
       "      <th>652361</th>\n",
       "      <th>825321</th>\n",
       "      <th>861299</th>\n",
       "      <th>895999</th>\n",
       "      <th>896088</th>\n",
       "      <th>1150086</th>\n",
       "      <th>1385073</th>\n",
       "    </tr>\n",
       "    <tr>\n",
       "      <th>target</th>\n",
       "      <th>item_in</th>\n",
       "      <th></th>\n",
       "      <th></th>\n",
       "      <th></th>\n",
       "      <th></th>\n",
       "      <th></th>\n",
       "      <th></th>\n",
       "      <th></th>\n",
       "      <th></th>\n",
       "      <th></th>\n",
       "      <th></th>\n",
       "    </tr>\n",
       "  </thead>\n",
       "  <tbody>\n",
       "    <tr>\n",
       "      <th rowspan=\"2\" valign=\"top\">0</th>\n",
       "      <th>only_test</th>\n",
       "      <td>0.0</td>\n",
       "      <td>390.0</td>\n",
       "      <td>67.0</td>\n",
       "      <td>0.0</td>\n",
       "      <td>116.0</td>\n",
       "      <td>661.0</td>\n",
       "      <td>620.0</td>\n",
       "      <td>3.0</td>\n",
       "      <td>1310.0</td>\n",
       "      <td>162.0</td>\n",
       "    </tr>\n",
       "    <tr>\n",
       "      <th>train</th>\n",
       "      <td>1.0</td>\n",
       "      <td>48.0</td>\n",
       "      <td>18.0</td>\n",
       "      <td>2.0</td>\n",
       "      <td>24.0</td>\n",
       "      <td>122.0</td>\n",
       "      <td>78.0</td>\n",
       "      <td>5.0</td>\n",
       "      <td>312.0</td>\n",
       "      <td>10.0</td>\n",
       "    </tr>\n",
       "    <tr>\n",
       "      <th rowspan=\"2\" valign=\"top\">1</th>\n",
       "      <th>only_test</th>\n",
       "      <td>0.0</td>\n",
       "      <td>50.0</td>\n",
       "      <td>5.0</td>\n",
       "      <td>0.0</td>\n",
       "      <td>0.0</td>\n",
       "      <td>175.0</td>\n",
       "      <td>53.0</td>\n",
       "      <td>0.0</td>\n",
       "      <td>321.0</td>\n",
       "      <td>106.0</td>\n",
       "    </tr>\n",
       "    <tr>\n",
       "      <th>train</th>\n",
       "      <td>1.0</td>\n",
       "      <td>8.0</td>\n",
       "      <td>0.0</td>\n",
       "      <td>2.0</td>\n",
       "      <td>1.0</td>\n",
       "      <td>8.0</td>\n",
       "      <td>5.0</td>\n",
       "      <td>2.0</td>\n",
       "      <td>69.0</td>\n",
       "      <td>6.0</td>\n",
       "    </tr>\n",
       "  </tbody>\n",
       "</table>\n",
       "</div>"
      ],
      "text/plain": [
       "visitorid         5038     518659   548772   652361   825321   861299   \\\n",
       "target item_in                                                           \n",
       "0      only_test      0.0    390.0     67.0      0.0    116.0    661.0   \n",
       "       train          1.0     48.0     18.0      2.0     24.0    122.0   \n",
       "1      only_test      0.0     50.0      5.0      0.0      0.0    175.0   \n",
       "       train          1.0      8.0      0.0      2.0      1.0      8.0   \n",
       "\n",
       "visitorid         895999   896088   1150086  1385073  \n",
       "target item_in                                        \n",
       "0      only_test    620.0      3.0   1310.0    162.0  \n",
       "       train         78.0      5.0    312.0     10.0  \n",
       "1      only_test     53.0      0.0    321.0    106.0  \n",
       "       train          5.0      2.0     69.0      6.0  "
      ]
     },
     "execution_count": 88,
     "metadata": {},
     "output_type": "execute_result"
    }
   ],
   "source": [
    "#первые 10 пользователей\n",
    "first10 = test_temp['visitorid'].unique()[:10]\n",
    "pivot = test_temp[test_temp['visitorid'].isin(first10)].pivot_table(index=['target', 'item_in'], columns='visitorid', values='itemid', aggfunc='count').fillna(0)\n",
    "pivot"
   ]
  },
  {
   "cell_type": "markdown",
   "metadata": {},
   "source": [
    "Фильтровать рекомендации на наличие уже просмотренных товаров мы не будем - 17% немаленькая цифра, значит есть смысл включить просмотренные товары в рекомендации."
   ]
  },
  {
   "cell_type": "code",
   "execution_count": 89,
   "metadata": {},
   "outputs": [
    {
     "name": "stdout",
     "output_type": "stream",
     "text": [
      "Общая доля покупок:  0.19498962821126536\n"
     ]
    }
   ],
   "source": [
    "print('Общая доля покупок: ', test[test.target>0].shape[0]/test.shape[0])"
   ]
  },
  {
   "cell_type": "code",
   "execution_count": 90,
   "metadata": {},
   "outputs": [],
   "source": [
    "#столбец принадлежности товара к любимой категории пользователя\n",
    "test_temp['category_in'] = test_temp.apply(lambda x: 1 if x['categoryid']==x['visitorid_categoryid']\n",
    "                                           else 0, axis=1)"
   ]
  },
  {
   "cell_type": "code",
   "execution_count": 91,
   "metadata": {},
   "outputs": [
    {
     "data": {
      "image/png": "[encoded data removed]"
     },
     "metadata": {},
     "output_type": "display_data"
    }
   ],
   "source": [
    "#просмотренные товары(которые есть в трейне у пользователя)\n",
    "pivot = test_temp[test_temp['item_in']=='train'].pivot_table(index='target', columns='category_in', values='itemid', aggfunc='count')\n",
    "fig = px.bar(pivot, height=400, width=800, text_auto=True,\n",
    "    title='Просмотренные товары в зависимости от целевой переменной и входит ли в любимую категорию'\n",
    ")\n",
    "\n",
    "fig.update_layout(\n",
    "    margin=dict(l=20, r=20, t=60, b=20),\n",
    "    paper_bgcolor='LightSteelBlue',\n",
    "    showlegend=True\n",
    ")\n",
    "\n",
    "fig.show('png')"
   ]
  },
  {
   "cell_type": "code",
   "execution_count": 92,
   "metadata": {},
   "outputs": [
    {
     "data": {
      "image/png": "[encoded data removed]"
     },
     "metadata": {},
     "output_type": "display_data"
    }
   ],
   "source": [
    "#непросмотренные товары\n",
    "pivot = test_temp[test_temp['item_in']=='only_test'].pivot_table(index='target', columns='category_in', values='visitorid', aggfunc='count')\n",
    "fig = px.bar(pivot, height=400, width=800, text_auto=True,\n",
    "    title='Количество товаров в зависимости от целевой переменной и входит ли в любимую категорию'\n",
    ")\n",
    "\n",
    "fig.update_layout(\n",
    "    margin=dict(l=20, r=20, t=60, b=20),\n",
    "    paper_bgcolor='LightSteelBlue',\n",
    "    showlegend=True\n",
    ")\n",
    "\n",
    "fig.show('png')"
   ]
  },
  {
   "cell_type": "code",
   "execution_count": 93,
   "metadata": {},
   "outputs": [
    {
     "data": {
      "image/png": "[encoded data removed]"
     },
     "metadata": {},
     "output_type": "display_data"
    }
   ],
   "source": [
    "#покупки\n",
    "pivot = test_temp[test_temp['target']==1].pivot_table(index='target', columns='category_in', values='itemid', aggfunc='count')\n",
    "fig = px.histogram(test_temp[test_temp['target']==1],x='item_in', height=400, width=800, text_auto=True, color='category_in', histfunc='count',\n",
    "    title='Количество товаров в зависимости от целевой переменной и входит ли в любимую категорию'\n",
    ")\n",
    "\n",
    "fig.update_layout(\n",
    "    margin=dict(l=20, r=20, t=60, b=20),\n",
    "    paper_bgcolor='LightSteelBlue',\n",
    "    showlegend=True\n",
    ")\n",
    "\n",
    "fig.show('png')"
   ]
  },
  {
   "cell_type": "code",
   "execution_count": 94,
   "metadata": {},
   "outputs": [
    {
     "name": "stdout",
     "output_type": "stream",
     "text": [
      "В среднем 26% из купленных товаров у каждого пользователя из любимой категории\n"
     ]
    }
   ],
   "source": [
    "num = test_temp[test_temp['target']==1].groupby('visitorid')['category_in'].mean().mean()*100\n",
    "print(f'В среднем {round(num)}% из купленных товаров у каждого пользователя из любимой категории')"
   ]
  },
  {
   "cell_type": "code",
   "execution_count": 95,
   "metadata": {},
   "outputs": [
    {
     "data": {
      "text/plain": [
       "[683, 959, 1051]"
      ]
     },
     "execution_count": 95,
     "metadata": {},
     "output_type": "execute_result"
    }
   ],
   "source": [
    "#из какой категории наибольшее количество пользователей совершает покупки\n",
    "pairs_cat_vis = train[train['target']==1][['categoryid', 'visitorid']].drop_duplicates()\n",
    "top_cat = pairs_cat_vis.groupby('categoryid')['visitorid'].count().sort_values().tail(3).index.tolist()\n",
    "top_cat"
   ]
  },
  {
   "cell_type": "code",
   "execution_count": 96,
   "metadata": {},
   "outputs": [
    {
     "data": {
      "image/png": "[encoded data removed]"
     },
     "metadata": {},
     "output_type": "display_data"
    }
   ],
   "source": [
    "#товары из любимой категории и из топ-3 категорий\n",
    "test_temp['category_in'] = test_temp.apply(lambda x: 1 if (x['categoryid']==x['visitorid_categoryid'])|(x['categoryid'] in top_cat)\n",
    "                                           else 0, axis=1)\n",
    "\n",
    "pivot = test_temp.pivot_table(index='target', columns='category_in', values='itemid', aggfunc='count')\n",
    "fig = px.bar(pivot, height=400, width=800, text_auto=True,\n",
    "    title='Количество товаров в зависимости от целевой переменной и входит ли в любимую категорию'\n",
    ")\n",
    "\n",
    "fig.update_layout(\n",
    "    margin=dict(l=20, r=20, t=60, b=20),\n",
    "    paper_bgcolor='LightSteelBlue',\n",
    "    showlegend=True\n",
    ")\n",
    "\n",
    "fig.show('png')"
   ]
  },
  {
   "cell_type": "markdown",
   "metadata": {},
   "source": [
    "#### Исследуем новых пользователей, которые совершили хотя бы одну покупку в тестовом периоде"
   ]
  },
  {
   "cell_type": "code",
   "execution_count": 97,
   "metadata": {},
   "outputs": [],
   "source": [
    "test_temp = testdf[~testdf['visitorid'].isin(traindf['visitorid'].unique())][['visitorid', 'itemid', 'target', 'categoryid']]\n",
    "temp = test_temp.groupby('visitorid')['target'].sum() #количество покупок пользователя\n",
    "test_temp = test_temp[test_temp['visitorid'].isin(temp[temp>0].index)]"
   ]
  },
  {
   "cell_type": "code",
   "execution_count": 98,
   "metadata": {},
   "outputs": [
    {
     "data": {
      "text/plain": [
       "Series([], Name: count, dtype: int64)"
      ]
     },
     "execution_count": 98,
     "metadata": {},
     "output_type": "execute_result"
    }
   ],
   "source": [
    "#самые покупаемые\n",
    "top_items = train.groupby('itemid')['target'].count().sort_values(ascending=False).head(100).index.tolist()\n",
    "test_temp['top'] = test_temp['itemid'].apply(lambda x: 1 if x in top_items else 0)\n",
    "test_temp[test_temp.target==1].top.value_counts()"
   ]
  },
  {
   "cell_type": "markdown",
   "metadata": {},
   "source": [
    "Среди всех купленных товаров новых пользователей только 1 входит в топ-100 самых просматриваемых(в 100 самых покупаемых ни одного)."
   ]
  },
  {
   "cell_type": "code",
   "execution_count": 99,
   "metadata": {},
   "outputs": [
    {
     "data": {
      "text/plain": [
       "Series([], Name: count, dtype: int64)"
      ]
     },
     "execution_count": 99,
     "metadata": {},
     "output_type": "execute_result"
    }
   ],
   "source": [
    "cat = train.groupby('categoryid')['target'].sum().sort_values(ascending=False).head(3).index.tolist()\n",
    "test_temp['cat'] = test_temp['categoryid'].apply(lambda x: 1 if x in cat else 0)\n",
    "test_temp[test_temp.target==1].cat.value_counts()"
   ]
  },
  {
   "cell_type": "code",
   "execution_count": 100,
   "metadata": {},
   "outputs": [
    {
     "data": {
      "text/plain": [
       "nan"
      ]
     },
     "execution_count": 100,
     "metadata": {},
     "output_type": "execute_result"
    }
   ],
   "source": [
    "(test_temp[test_temp.target==1].groupby('visitorid')['cat'].sum()/3).mean()*100"
   ]
  },
  {
   "cell_type": "markdown",
   "metadata": {},
   "source": [
    "В среднем 7% купленных товаров у новых пользователей входят в топ-3 категорий\n",
    "\n",
    "Думаю неправильно включать этих пользователей в тестовую выборку для расчета метрики, потому что по ним нет никакой информации из-за того что пользователи новые, и никакой взаимосвязи в их покупках в отрыве от хотя бы просмотров нет."
   ]
  },
  {
   "cell_type": "markdown",
   "metadata": {},
   "source": [
    "### Коллаборативная фильтрация"
   ]
  },
  {
   "cell_type": "code",
   "execution_count": null,
   "metadata": {},
   "outputs": [],
   "source": [
    "#подсчет пользователей из тестовой таблицы, которых нет в обучающей\n",
    "#test_users = test.visitorid.nunique()\n",
    "#new_test_users = len(set(test['visitorid']) - set(train['visitorid']))\n",
    "\n",
    "#print('В тестовом дата сете {} юзеров'.format(test_users))\n",
    "#print('В тестовом дата сете {} новых юзеров'.format(new_test_users))"
   ]
  },
  {
   "cell_type": "code",
   "execution_count": 102,
   "metadata": {},
   "outputs": [],
   "source": [
    "traincol = train.copy()\n",
    "traincol['target'] = traincol['target'].map({0:20, 1:100})\n",
    "train_group = traincol.groupby(['visitorid', 'itemid'])['target'].max().reset_index()\n",
    "train_matrix = coo_matrix((train_group['target'], (train_group['visitorid'], train_group['itemid']))).tocsr()"
   ]
  },
  {
   "cell_type": "code",
   "execution_count": 103,
   "metadata": {},
   "outputs": [],
   "source": [
    "#купленные или добавленные в корзину товары\n",
    "result = test[test.target>0].groupby('visitorid')['itemid'].unique()"
   ]
  },
  {
   "cell_type": "code",
   "execution_count": 104,
   "metadata": {},
   "outputs": [
    {
     "name": "stderr",
     "output_type": "stream",
     "text": [
      "/home/alena/anaconda3/lib/python3.12/site-packages/implicit/cpu/als.py:95: RuntimeWarning:\n",
      "\n",
      "Intel MKL BLAS is configured to use 10 threads. It is highly recommended to disable its internal threadpool by setting the environment variable 'MKL_NUM_THREADS=1' or by callng 'threadpoolctl.threadpool_limits(1, \"blas\")'. Having MKL use a threadpool can lead to severe performance issues\n",
      "\n"
     ]
    },
    {
     "data": {
      "application/vnd.jupyter.widget-view+json": {
       "model_id": "c3a6a4650ec44fa29287c8b26361d55a",
       "version_major": 2,
       "version_minor": 0
      },
      "text/plain": [
       "  0%|          | 0/15 [00:00<?, ?it/s]"
      ]
     },
     "metadata": {},
     "output_type": "display_data"
    }
   ],
   "source": [
    "als = AlternatingLeastSquares(factors=200, \n",
    "                                regularization=0.01,\n",
    "                                iterations=15,\n",
    "                                random_state=19,\n",
    "                                calculate_training_loss=True,\n",
    "                                num_threads=4\n",
    "                                )\n",
    " \n",
    "als.fit(train_matrix, show_progress=True)"
   ]
  },
  {
   "cell_type": "code",
   "execution_count": 105,
   "metadata": {},
   "outputs": [],
   "source": [
    "#предсказания по id пользователя\n",
    "recs = als.recommend(userid=range(train_matrix.shape[0]),  \n",
    "                        user_items=train_matrix,  \n",
    "                        N=3, \n",
    "                        filter_already_liked_items=False, \n",
    "                        filter_items=None, \n",
    "                        recalculate_user=False)"
   ]
  },
  {
   "cell_type": "code",
   "execution_count": 106,
   "metadata": {},
   "outputs": [],
   "source": [
    "def rec(uid, k):\n",
    "    return als.recommend(userid=uid,  \n",
    "                        user_items=train_matrix,  \n",
    "                        N=k, \n",
    "                        filter_already_liked_items=False, \n",
    "                        filter_items=None, \n",
    "                        recalculate_user=False)"
   ]
  },
  {
   "cell_type": "code",
   "execution_count": 107,
   "metadata": {},
   "outputs": [],
   "source": [
    "def precision_at_3(k):\n",
    "    precision = []\n",
    "    for i in test['visitorid'].unique():\n",
    "        pred = rec(i, k)\n",
    "        y = test[(test['target']==1)&(test['visitorid']==i)]['itemid'].unique().tolist()\n",
    "\n",
    "        flags = np.isin(pred, y)\n",
    "        if len(y)<k:\n",
    "            p = flags.sum() / len(y)\n",
    "        else:\n",
    "            p = flags.sum() / k\n",
    "        precision.append(p)\n",
    "    return np.array(precision).mean()"
   ]
  },
  {
   "cell_type": "code",
   "execution_count": 108,
   "metadata": {},
   "outputs": [
    {
     "data": {
      "text/plain": [
       "0.13984220907297829"
      ]
     },
     "execution_count": 108,
     "metadata": {},
     "output_type": "execute_result"
    }
   ],
   "source": [
    "precision_at_3(3)"
   ]
  },
  {
   "cell_type": "markdown",
   "metadata": {},
   "source": [
    "### Кандидатогенератор"
   ]
  },
  {
   "cell_type": "code",
   "execution_count": 109,
   "metadata": {},
   "outputs": [],
   "source": [
    "#кодировщики для пользователей и товаров\n",
    "user_encoder = LabelEncoder().fit(train['visitorid'])\n",
    "item_encoder = LabelEncoder().fit(train['itemid'])\n",
    "#уникальные\n",
    "unique_users = train['visitorid'].unique()\n",
    "unique_items = train['itemid'].unique()"
   ]
  },
  {
   "cell_type": "code",
   "execution_count": 110,
   "metadata": {},
   "outputs": [],
   "source": [
    "def recommend(uid, model, k=20):\n",
    "    '''Получение рекомендаций из модели ALS'''\n",
    "    if uid not in unique_users:\n",
    "        return []\n",
    "    uidx = user_encoder.transform([uid])[0]\n",
    "    items = model.recommend(uidx, \n",
    "                            user_items=None, \n",
    "                            N=k, \n",
    "                            filter_already_liked_items=False)\n",
    "    result = []\n",
    "    for i in items[0]:\n",
    "        result.append(item_encoder.inverse_transform([i])[0])\n",
    "    return result\n",
    "def recall_als(model, k):\n",
    "    '''Расчет полноты рекомендаций для ALS'''\n",
    "    recall = []\n",
    "    for i in test['visitorid'].unique():\n",
    "        pred = recommend(i, model, k)\n",
    "        y = test[(test['target']==1)&(test['visitorid']==i)]['itemid'].unique().tolist()\n",
    "        flags = np.isin(y, pred)\n",
    "        if len(y)>len(pred):\n",
    "            p = flags.sum() / len(pred)\n",
    "        else:\n",
    "            p = flags.sum() / len(y)\n",
    "        recall.append(p)\n",
    "    return np.array(recall).mean()"
   ]
  },
  {
   "cell_type": "code",
   "execution_count": 111,
   "metadata": {},
   "outputs": [],
   "source": [
    "#значения для сводной таблицы\n",
    "rows = user_encoder.transform(train['visitorid'])\n",
    "cols = item_encoder.transform(train['itemid'])\n",
    "values = train['target'].apply(lambda x: 1000.0 if x == 1 else 100).values #изменение таргета\n",
    "user_item_matrix = csr_matrix((values, (rows, cols)), shape=(len(unique_users), len(unique_items))).tocsr()"
   ]
  },
  {
   "cell_type": "code",
   "execution_count": 112,
   "metadata": {},
   "outputs": [
    {
     "name": "stderr",
     "output_type": "stream",
     "text": [
      "[I 2025-06-02 12:11:27,805] A new study created in memory with name: no-name-2041b848-8edb-47c3-9bf6-3d85fd1f2cfb\n",
      "[I 2025-06-02 12:11:34,075] Trial 0 finished with value: 0.20990553496470654 and parameters: {'factors': 53, 'regularization': 0.1546374461682227, 'alpha': 32.22441758496943, 'iterations': 15}. Best is trial 0 with value: 0.20990553496470654.\n",
      "[I 2025-06-02 12:11:41,828] Trial 1 finished with value: 0.2210254965284551 and parameters: {'factors': 106, 'regularization': 0.025769917351309644, 'alpha': 70.477937315242, 'iterations': 43}. Best is trial 1 with value: 0.2210254965284551.\n",
      "[I 2025-06-02 12:11:53,174] Trial 2 finished with value: 0.2217004067595784 and parameters: {'factors': 253, 'regularization': 0.130775539611402, 'alpha': 29.433093044246228, 'iterations': 32}. Best is trial 2 with value: 0.2217004067595784.\n",
      "[I 2025-06-02 12:12:01,414] Trial 3 finished with value: 0.22934466913756857 and parameters: {'factors': 154, 'regularization': 0.05447445389793031, 'alpha': 20.235325870637148, 'iterations': 30}. Best is trial 3 with value: 0.22934466913756857.\n",
      "[I 2025-06-02 12:12:08,032] Trial 4 finished with value: 0.21203571247949943 and parameters: {'factors': 66, 'regularization': 0.11121035530588122, 'alpha': 44.83060916018941, 'iterations': 38}. Best is trial 3 with value: 0.22934466913756857.\n",
      "[I 2025-06-02 12:12:15,025] Trial 5 finished with value: 0.20946402381313622 and parameters: {'factors': 115, 'regularization': 0.1897704085430446, 'alpha': 79.96221262960363, 'iterations': 34}. Best is trial 3 with value: 0.22934466913756857.\n",
      "[I 2025-06-02 12:12:23,954] Trial 6 finished with value: 0.2245679534141073 and parameters: {'factors': 170, 'regularization': 0.13216764424117144, 'alpha': 34.163515641730115, 'iterations': 40}. Best is trial 3 with value: 0.22934466913756857.\n",
      "[I 2025-06-02 12:12:30,929] Trial 7 finished with value: 0.22593775061230684 and parameters: {'factors': 96, 'regularization': 0.14478145098698447, 'alpha': 15.830809792458904, 'iterations': 38}. Best is trial 3 with value: 0.22934466913756857.\n",
      "[I 2025-06-02 12:12:38,270] Trial 8 finished with value: 0.21363890875725197 and parameters: {'factors': 156, 'regularization': 0.11522703125900653, 'alpha': 41.187576681153125, 'iterations': 17}. Best is trial 3 with value: 0.22934466913756857.\n",
      "[I 2025-06-02 12:12:47,041] Trial 9 finished with value: 0.2171639176077046 and parameters: {'factors': 153, 'regularization': 0.019836118172997144, 'alpha': 84.30018520637891, 'iterations': 39}. Best is trial 3 with value: 0.22934466913756857.\n",
      "[I 2025-06-02 12:12:56,010] Trial 10 finished with value: 0.22646372036904583 and parameters: {'factors': 208, 'regularization': 0.06355870118829426, 'alpha': 12.852219843678881, 'iterations': 25}. Best is trial 3 with value: 0.22934466913756857.\n",
      "[I 2025-06-02 12:13:05,851] Trial 11 finished with value: 0.22804592843054383 and parameters: {'factors': 234, 'regularization': 0.06317538684378829, 'alpha': 10.163196510674156, 'iterations': 25}. Best is trial 3 with value: 0.22934466913756857.\n",
      "[I 2025-06-02 12:13:15,274] Trial 12 finished with value: 0.22896435254423417 and parameters: {'factors': 217, 'regularization': 0.07093784551096582, 'alpha': 11.791807752855311, 'iterations': 24}. Best is trial 3 with value: 0.22934466913756857.\n",
      "[I 2025-06-02 12:13:23,982] Trial 13 finished with value: 0.21080297086214247 and parameters: {'factors': 193, 'regularization': 0.07352495192318621, 'alpha': 56.84539847642079, 'iterations': 24}. Best is trial 3 with value: 0.22934466913756857.\n",
      "[I 2025-06-02 12:13:35,533] Trial 14 finished with value: 0.22875497612184 and parameters: {'factors': 206, 'regularization': 0.08345061202797585, 'alpha': 21.192724035100635, 'iterations': 49}. Best is trial 3 with value: 0.22934466913756857.\n",
      "[I 2025-06-02 12:13:42,752] Trial 15 finished with value: 0.20347085853003014 and parameters: {'factors': 127, 'regularization': 0.05017912293238243, 'alpha': 96.80234045802122, 'iterations': 19}. Best is trial 3 with value: 0.22934466913756857.\n",
      "[I 2025-06-02 12:13:51,738] Trial 16 finished with value: 0.21670040675957838 and parameters: {'factors': 189, 'regularization': 0.03794225484926174, 'alpha': 54.263228887885795, 'iterations': 29}. Best is trial 3 with value: 0.22934466913756857.\n",
      "[I 2025-06-02 12:13:59,785] Trial 17 finished with value: 0.21405798884566724 and parameters: {'factors': 231, 'regularization': 0.09116795531506881, 'alpha': 24.738942780218245, 'iterations': 12}. Best is trial 3 with value: 0.22934466913756857.\n",
      "[I 2025-06-02 12:14:05,786] Trial 18 finished with value: 0.22179245146700768 and parameters: {'factors': 77, 'regularization': 0.0501698180224087, 'alpha': 47.34421739308325, 'iterations': 21}. Best is trial 3 with value: 0.22934466913756857.\n",
      "[I 2025-06-02 12:14:12,287] Trial 19 finished with value: 0.22115698896763986 and parameters: {'factors': 167, 'regularization': 0.0943791574788942, 'alpha': 20.8274331157103, 'iterations': 10}. Best is trial 3 with value: 0.22934466913756857.\n",
      "[I 2025-06-02 12:14:19,118] Trial 20 finished with value: 0.2105488364364104 and parameters: {'factors': 136, 'regularization': 0.038454431377089815, 'alpha': 66.51997686836773, 'iterations': 29}. Best is trial 3 with value: 0.22934466913756857.\n",
      "[I 2025-06-02 12:14:30,611] Trial 21 finished with value: 0.22389531901366222 and parameters: {'factors': 213, 'regularization': 0.07591616494108479, 'alpha': 23.320887083751014, 'iterations': 48}. Best is trial 3 with value: 0.22934466913756857.\n",
      "[I 2025-06-02 12:14:41,478] Trial 22 finished with value: 0.22897851326845411 and parameters: {'factors': 183, 'regularization': 0.0845371038120691, 'alpha': 17.635310490372635, 'iterations': 50}. Best is trial 3 with value: 0.22934466913756857.\n",
      "[I 2025-06-02 12:14:50,629] Trial 23 finished with value: 0.21788196024882417 and parameters: {'factors': 179, 'regularization': 0.10025391823149798, 'alpha': 36.25584410872304, 'iterations': 35}. Best is trial 3 with value: 0.22934466913756857.\n",
      "[I 2025-06-02 12:15:02,293] Trial 24 finished with value: 0.23300445773818554 and parameters: {'factors': 225, 'regularization': 0.05974342664508904, 'alpha': 10.278394323537086, 'iterations': 43}. Best is trial 24 with value: 0.23300445773818554.\n",
      "[I 2025-06-02 12:15:14,076] Trial 25 finished with value: 0.22585556783781635 and parameters: {'factors': 248, 'regularization': 0.051076339749446066, 'alpha': 17.734733134271515, 'iterations': 45}. Best is trial 24 with value: 0.23300445773818554.\n",
      "[I 2025-06-02 12:15:24,896] Trial 26 finished with value: 0.22469185975103137 and parameters: {'factors': 191, 'regularization': 0.026811368166262395, 'alpha': 26.972371570089482, 'iterations': 50}. Best is trial 24 with value: 0.23300445773818554.\n",
      "[I 2025-06-02 12:15:33,082] Trial 27 finished with value: 0.22563860531316152 and parameters: {'factors': 143, 'regularization': 0.05777678884467107, 'alpha': 16.402732216171103, 'iterations': 44}. Best is trial 24 with value: 0.23300445773818554.\n",
      "[I 2025-06-02 12:15:44,289] Trial 28 finished with value: 0.2229430103098742 and parameters: {'factors': 229, 'regularization': 0.03648696369651922, 'alpha': 39.212813433723205, 'iterations': 43}. Best is trial 24 with value: 0.23300445773818554.\n",
      "[I 2025-06-02 12:15:53,269] Trial 29 finished with value: 0.22935882986178846 and parameters: {'factors': 166, 'regularization': 0.010417591411640954, 'alpha': 31.24980444120428, 'iterations': 47}. Best is trial 24 with value: 0.23300445773818554.\n",
      "[I 2025-06-02 12:15:59,294] Trial 30 finished with value: 0.21656992580069506 and parameters: {'factors': 42, 'regularization': 0.014698723613332933, 'alpha': 30.471958784853864, 'iterations': 47}. Best is trial 24 with value: 0.23300445773818554.\n",
      "[I 2025-06-02 12:16:08,031] Trial 31 finished with value: 0.22682861188778353 and parameters: {'factors': 162, 'regularization': 0.0871613156919218, 'alpha': 26.34918848634867, 'iterations': 46}. Best is trial 24 with value: 0.23300445773818554.\n",
      "[I 2025-06-02 12:16:17,323] Trial 32 finished with value: 0.23273590971815822 and parameters: {'factors': 183, 'regularization': 0.010351309240738224, 'alpha': 19.29892869894773, 'iterations': 42}. Best is trial 24 with value: 0.23300445773818554.\n",
      "[I 2025-06-02 12:16:24,714] Trial 33 finished with value: 0.22959981504360202 and parameters: {'factors': 130, 'regularization': 0.010279350300239794, 'alpha': 31.864771880382534, 'iterations': 41}. Best is trial 24 with value: 0.23300445773818554.\n",
      "[I 2025-06-02 12:16:31,624] Trial 34 finished with value: 0.22843939426779664 and parameters: {'factors': 116, 'regularization': 0.013104039010312993, 'alpha': 29.751447954501625, 'iterations': 41}. Best is trial 24 with value: 0.23300445773818554.\n",
      "[I 2025-06-02 12:16:38,192] Trial 35 finished with value: 0.22036348267117498 and parameters: {'factors': 96, 'regularization': 0.02954769338938909, 'alpha': 52.45627244999277, 'iterations': 42}. Best is trial 24 with value: 0.23300445773818554.\n",
      "[I 2025-06-02 12:16:45,629] Trial 36 finished with value: 0.2234295323348578 and parameters: {'factors': 135, 'regularization': 0.010075375504431612, 'alpha': 34.34247698636154, 'iterations': 36}. Best is trial 24 with value: 0.23300445773818554.\n",
      "[I 2025-06-02 12:16:53,826] Trial 37 finished with value: 0.22461751594887688 and parameters: {'factors': 172, 'regularization': 0.023799136231050597, 'alpha': 41.793269395302566, 'iterations': 32}. Best is trial 24 with value: 0.23300445773818554.\n",
      "[I 2025-06-02 12:17:03,724] Trial 38 finished with value: 0.22210474601007144 and parameters: {'factors': 201, 'regularization': 0.1665817728931, 'alpha': 48.01288061083866, 'iterations': 42}. Best is trial 24 with value: 0.23300445773818554.\n",
      "[I 2025-06-02 12:17:14,704] Trial 39 finished with value: 0.2154052062336086 and parameters: {'factors': 247, 'regularization': 0.04148660242832883, 'alpha': 61.9862661487062, 'iterations': 37}. Best is trial 24 with value: 0.23300445773818554.\n",
      "[I 2025-06-02 12:17:23,335] Trial 40 finished with value: 0.2239860993707148 and parameters: {'factors': 151, 'regularization': 0.02833975278095553, 'alpha': 31.414859767490913, 'iterations': 45}. Best is trial 24 with value: 0.23300445773818554.\n",
      "[I 2025-06-02 12:17:30,500] Trial 41 finished with value: 0.2291889011711497 and parameters: {'factors': 121, 'regularization': 0.010017789599141638, 'alpha': 21.340330411110816, 'iterations': 33}. Best is trial 24 with value: 0.23300445773818554.\n",
      "[I 2025-06-02 12:17:37,460] Trial 42 finished with value: 0.22532302345911814 and parameters: {'factors': 108, 'regularization': 0.11931439955733067, 'alpha': 13.963815849242033, 'iterations': 39}. Best is trial 24 with value: 0.23300445773818554.\n",
      "[I 2025-06-02 12:17:45,239] Trial 43 finished with value: 0.2307602358194074 and parameters: {'factors': 145, 'regularization': 0.02181100163165036, 'alpha': 10.016734300690935, 'iterations': 40}. Best is trial 24 with value: 0.23300445773818554.\n",
      "[I 2025-06-02 12:17:53,605] Trial 44 finished with value: 0.23637395149229465 and parameters: {'factors': 148, 'regularization': 0.02205850352887652, 'alpha': 13.526664255279133, 'iterations': 40}. Best is trial 44 with value: 0.23637395149229465.\n",
      "[I 2025-06-02 12:18:01,785] Trial 45 finished with value: 0.2300863370685856 and parameters: {'factors': 143, 'regularization': 0.022296729234408164, 'alpha': 11.205027797766657, 'iterations': 40}. Best is trial 44 with value: 0.23637395149229465.\n",
      "[I 2025-06-02 12:18:09,945] Trial 46 finished with value: 0.23167082096076178 and parameters: {'factors': 144, 'regularization': 0.022098985319105664, 'alpha': 10.131227365985517, 'iterations': 38}. Best is trial 44 with value: 0.23637395149229465.\n",
      "[I 2025-06-02 12:18:18,520] Trial 47 finished with value: 0.2298825237878492 and parameters: {'factors': 154, 'regularization': 0.04371968906454321, 'alpha': 14.640567635582169, 'iterations': 37}. Best is trial 44 with value: 0.23637395149229465.\n",
      "[I 2025-06-02 12:18:28,718] Trial 48 finished with value: 0.2280613535051405 and parameters: {'factors': 222, 'regularization': 0.03332018992148625, 'alpha': 11.010135137242486, 'iterations': 31}. Best is trial 44 with value: 0.23637395149229465.\n",
      "[I 2025-06-02 12:18:37,781] Trial 49 finished with value: 0.22818627132236602 and parameters: {'factors': 177, 'regularization': 0.019532683412087797, 'alpha': 17.060467860057063, 'iterations': 34}. Best is trial 44 with value: 0.23637395149229465.\n"
     ]
    },
    {
     "name": "stdout",
     "output_type": "stream",
     "text": [
      "Best recall: 0.23637395149229465\n",
      "Best params: {'factors': 148, 'regularization': 0.02205850352887652, 'alpha': 13.526664255279133, 'iterations': 40}\n"
     ]
    },
    {
     "data": {
      "application/vnd.jupyter.widget-view+json": {
       "model_id": "b155f8ddb2c44ad8bdb3306753dd6d9a",
       "version_major": 2,
       "version_minor": 0
      },
      "text/plain": [
       "  0%|          | 0/40 [00:00<?, ?it/s]"
      ]
     },
     "metadata": {},
     "output_type": "display_data"
    }
   ],
   "source": [
    "#функция для оптимизации\n",
    "def objective(trial):\n",
    "    params = {'factors': trial.suggest_int('factors', 32, 256),\n",
    "            'regularization': trial.suggest_float('regularization', 0.01, 0.2),\n",
    "            'alpha': trial.suggest_float('alpha', 10, 100),\n",
    "            'iterations': trial.suggest_int('iterations', 10, 50)\n",
    "    }\n",
    "    model = AlternatingLeastSquares(\n",
    "            **params,\n",
    "            calculate_training_loss=True,\n",
    "            num_threads=4,\n",
    "            random_state=19\n",
    "    )\n",
    "    model.fit(user_item_matrix, show_progress=False)\n",
    "    return recall_als(model, 20)\n",
    "#оптимизация гиперпараметров\n",
    "study = optuna.create_study(direction='maximize', sampler=TPESampler(seed=19))\n",
    "study.optimize(objective, n_trials=50)\n",
    "#лучшие параметры\n",
    "best_params_als = study.best_params\n",
    "print(f\"Best recall: {study.best_value}\")\n",
    "print(\"Best params:\", best_params_als)\n",
    "best_als = AlternatingLeastSquares(**best_params_als, random_state=19)\n",
    "best_als.fit(user_item_matrix)"
   ]
  },
  {
   "cell_type": "code",
   "execution_count": 140,
   "metadata": {},
   "outputs": [],
   "source": [
    "def generate_candidates(df, als_model, uid, k):\n",
    "    '''Генерация кандидатов для пользователя'''\n",
    "    mask_time = df['timestamp'] > (df.timestamp.max() - (86400*7))\n",
    "    candidates = []\n",
    "    items = []\n",
    "    candidates.extend(recommend(uid, als_model, k))\n",
    "    items.extend(df[mask_time]['itemid'].values)\n",
    "    items = list(set(items))\n",
    "    uvec = als_model.user_factors[user_encoder.transform([uid])[0]]\n",
    "    ivec = als_model.item_factors[item_encoder.transform(items)]\n",
    "    scores = dict(zip(items, np.dot(ivec, uvec.T)))\n",
    "    scores = sorted(scores.items(), key=lambda item: -item[1])\n",
    "    scores = {k: v for k, v in scores}\n",
    "    candidates.extend(list(scores.keys())[:k])\n",
    "    return candidates\n",
    "\n",
    "def recall_canditates(n):\n",
    "    '''Полнота рекомендаций для кандидатогенератора'''\n",
    "    recall = []\n",
    "    for i in test['visitorid'].unique():\n",
    "        pred = generate_candidates(train, best_als, i, n)\n",
    "        y = test[(test['visitorid']==i)&(test.target==1)]['itemid'].values.tolist()\n",
    "        \n",
    "        flags = np.isin(y, pred)\n",
    "        if len(y)>len(pred):\n",
    "            p = flags.sum() / len(pred)\n",
    "        else:\n",
    "            p = flags.sum() / len(y)\n",
    "        recall.append(p)\n",
    "    return np.array(recall).mean()"
   ]
  },
  {
   "cell_type": "code",
   "execution_count": 114,
   "metadata": {},
   "outputs": [
    {
     "data": {
      "text/plain": [
       "0.22199722340401443"
      ]
     },
     "execution_count": 114,
     "metadata": {},
     "output_type": "execute_result"
    }
   ],
   "source": [
    "recall_canditates(10)"
   ]
  },
  {
   "cell_type": "markdown",
   "metadata": {},
   "source": [
    "### LightGBM"
   ]
  },
  {
   "cell_type": "code",
   "execution_count": null,
   "metadata": {},
   "outputs": [],
   "source": [
    "def prepare_reranker_data(df, als_model):\n",
    "    '''Датасет для обучения реранкера'''\n",
    "    user_factors = als_model.user_factors\n",
    "    item_factors = als_model.item_factors\n",
    "    #кодирование фичей\n",
    "    data = []\n",
    "    for uidx in range(user_factors.shape[0]):\n",
    "        uid = user_encoder.inverse_transform([uidx])[0]\n",
    "        #кандидаты из ALS\n",
    "        candidate_indices = generate_candidates(df, als_model, uid, 20)\n",
    "        #фичи пользователя\n",
    "        user_feats = df[df['visitorid'] == uid][user_features].values[0]\n",
    "        #для каждого кандитата\n",
    "        for iid in candidate_indices:\n",
    "            iidx = item_encoder.transform([iid])[0]\n",
    "            #фичи товара\n",
    "            item_feats = df[df['itemid'] == iid][item_features].values[0]\n",
    "            #целевая переменная: 1 если было взаимодействие, иначе 0\n",
    "            target = 1 if user_item_matrix[uidx, iidx] > 0 else 0\n",
    "            #все фичи\n",
    "            features = np.concatenate([(user_factors[uidx]), (item_factors[iidx]),\n",
    "            user_feats, item_feats                             \n",
    "            ])\n",
    "            data.append((uidx, features, target))\n",
    "    #массивы\n",
    "    users = np.array([x[0] for x in data])\n",
    "    X = np.vstack([x[1] for x in data])\n",
    "    y = np.array([x[2] for x in data])\n",
    "    return X, y, users\n",
    "\n",
    "def recommend_rr(df, uid, als_model, reranker, k, n):\n",
    "\t'''Рекомендации для пользователя'''\n",
    "\tcandidate_indices = generate_candidates(df, als_model, uid, n)\n",
    "\tuidx = user_encoder.transform([uid])[0]\n",
    "\tuser_vec = als_model.user_factors[uidx]\n",
    "\tuser_feats = df[df['visitorid'] == uid][user_features].values[0]\n",
    "\tcandidates = []\n",
    "\tfor iid in candidate_indices:\n",
    "\t\tiidx = item_encoder.transform([iid])[0]\n",
    "\t\titem_feats = df[df['itemid'] == iid][item_features].values[0]\n",
    "\t\tfeatures = np.concatenate([user_vec, als_model.item_factors[iidx], user_feats, item_feats])\n",
    "\t\tcandidates.append((iid, features))\n",
    "\tX_rerank = np.vstack([x[1] for x in candidates])\n",
    "\tscores = reranker.predict(X_rerank)\n",
    "\tsorted_indices = np.argsort(-scores)\n",
    "\trecommendations = [candidates[i][0] for i in sorted_indices[:k]]\n",
    "\treturn recommendations\n",
    "\n",
    "def precision_rr(als_model, model, k, n):\n",
    "    '''Precision@k после ранжирования'''\n",
    "    precision = []\n",
    "    for i in test['visitorid'].unique():\n",
    "        pred = recommend_rr(train, i, als_model, model, k, n)\n",
    "        y = test[(test['target']==1)&(test['visitorid']==i)]['itemid'].unique().tolist()\n",
    "        flags = np.isin(pred, y)\n",
    "        if len(y)<k:\n",
    "            p = flags.sum() / len(y)\n",
    "        else:\n",
    "            p = flags.sum() / k\n",
    "        precision.append(p)\n",
    "    return np.array(precision).mean()"
   ]
  },
  {
   "cell_type": "code",
   "execution_count": 116,
   "metadata": {},
   "outputs": [],
   "source": [
    "X, y, users = prepare_reranker_data(train, best_als)"
   ]
  },
  {
   "cell_type": "code",
   "execution_count": 117,
   "metadata": {},
   "outputs": [
    {
     "name": "stderr",
     "output_type": "stream",
     "text": [
      "[I 2025-06-02 12:28:17,341] A new study created in memory with name: no-name-2e3bbabd-41f8-4bd0-8b26-f9c656f566c9\n",
      "[I 2025-06-02 12:28:47,124] Trial 0 finished with value: 0.12071005917159763 and parameters: {'scale_pos_weight': 18.778024157450645, 'num_leaves': 81, 'learning_rate': 0.023161001183405354, 'n_estimators': 227, 'min_child_samples': 36, 'max_depth': 3, 'reg_alpha': 0.005245305803365814, 'reg_lambda': 0.11639598010499581, 'subsample': 0.991370957272107, 'colsample_bytree': 0.8178303673984263, 'lambdarank_truncation_level': 4}. Best is trial 0 with value: 0.12071005917159763.\n",
      "[I 2025-06-02 12:29:17,178] Trial 1 finished with value: 0.1282051282051282 and parameters: {'scale_pos_weight': 59.41246888758516, 'num_leaves': 64, 'learning_rate': 0.022169645204427414, 'n_estimators': 222, 'min_child_samples': 52, 'max_depth': 4, 'reg_alpha': 0.00021225640563023423, 'reg_lambda': 7.4142578294287195e-06, 'subsample': 0.8441636917110822, 'colsample_bytree': 0.6864635782041965, 'lambdarank_truncation_level': 10}. Best is trial 1 with value: 0.1282051282051282.\n",
      "[I 2025-06-02 12:30:24,651] Trial 2 finished with value: 0.24063116370808676 and parameters: {'scale_pos_weight': 79.96221262960363, 'num_leaves': 69, 'learning_rate': 0.08105360167971055, 'n_estimators': 329, 'min_child_samples': 30, 'max_depth': 10, 'reg_alpha': 7.384224538756501e-07, 'reg_lambda': 0.012409679870741793, 'subsample': 0.5323933877358829, 'colsample_bytree': 0.8449292396196179, 'lambdarank_truncation_level': 7}. Best is trial 2 with value: 0.24063116370808676.\n",
      "[I 2025-06-02 12:31:01,441] Trial 3 finished with value: 0.13392504930966467 and parameters: {'scale_pos_weight': 59.844383227950466, 'num_leaves': 48, 'learning_rate': 0.017987477851283358, 'n_estimators': 308, 'min_child_samples': 9, 'max_depth': 11, 'reg_alpha': 0.012902376249462342, 'reg_lambda': 2.764854150242529e-09, 'subsample': 0.5382682807678143, 'colsample_bytree': 0.5051719475551228, 'lambdarank_truncation_level': 10}. Best is trial 2 with value: 0.24063116370808676.\n",
      "[I 2025-06-02 12:32:05,434] Trial 4 finished with value: 0.22327416173570017 and parameters: {'scale_pos_weight': 63.949950738723444, 'num_leaves': 34, 'learning_rate': 0.034532743458552145, 'n_estimators': 373, 'min_child_samples': 48, 'max_depth': 12, 'reg_alpha': 2.272991267080129e-08, 'reg_lambda': 0.0143464624853092, 'subsample': 0.9604741252936315, 'colsample_bytree': 0.9676822112739304, 'lambdarank_truncation_level': 10}. Best is trial 2 with value: 0.24063116370808676.\n",
      "[I 2025-06-02 12:33:17,659] Trial 5 finished with value: 0.23412228796844178 and parameters: {'scale_pos_weight': 70.5496640396151, 'num_leaves': 96, 'learning_rate': 0.05947684495550554, 'n_estimators': 290, 'min_child_samples': 8, 'max_depth': 11, 'reg_alpha': 6.687871811129655e-08, 'reg_lambda': 0.019190861152275192, 'subsample': 0.9836841393313462, 'colsample_bytree': 0.9491578729366634, 'lambdarank_truncation_level': 9}. Best is trial 2 with value: 0.24063116370808676.\n",
      "[I 2025-06-02 12:34:02,321] Trial 6 finished with value: 0.20591715976331362 and parameters: {'scale_pos_weight': 63.14570236255389, 'num_leaves': 49, 'learning_rate': 0.01751761291786798, 'n_estimators': 288, 'min_child_samples': 77, 'max_depth': 7, 'reg_alpha': 2.019453785929835e-08, 'reg_lambda': 6.6133796273773e-08, 'subsample': 0.99871866622482, 'colsample_bytree': 0.634425950702352, 'lambdarank_truncation_level': 10}. Best is trial 2 with value: 0.24063116370808676.\n",
      "[I 2025-06-02 12:34:51,075] Trial 7 finished with value: 0.13925049309664694 and parameters: {'scale_pos_weight': 24.75645041998427, 'num_leaves': 96, 'learning_rate': 0.03900274583305275, 'n_estimators': 331, 'min_child_samples': 73, 'max_depth': 7, 'reg_alpha': 1.3129959946533503, 'reg_lambda': 3.4608194843050084e-09, 'subsample': 0.7476020816471411, 'colsample_bytree': 0.624819320293236, 'lambdarank_truncation_level': 5}. Best is trial 2 with value: 0.24063116370808676.\n",
      "[I 2025-06-02 12:35:34,345] Trial 8 finished with value: 0.21952662721893496 and parameters: {'scale_pos_weight': 76.67975545903444, 'num_leaves': 49, 'learning_rate': 0.08544419521828231, 'n_estimators': 395, 'min_child_samples': 45, 'max_depth': 3, 'reg_alpha': 6.107594126679166e-09, 'reg_lambda': 1.1446223834801959e-07, 'subsample': 0.6437607180354146, 'colsample_bytree': 0.6907348049282349, 'lambdarank_truncation_level': 9}. Best is trial 2 with value: 0.24063116370808676.\n",
      "[I 2025-06-02 12:36:17,663] Trial 9 finished with value: 0.1502958579881657 and parameters: {'scale_pos_weight': 17.386819107534546, 'num_leaves': 86, 'learning_rate': 0.16080584099655174, 'n_estimators': 266, 'min_child_samples': 69, 'max_depth': 12, 'reg_alpha': 3.9083459212178315, 'reg_lambda': 0.0050054030435764665, 'subsample': 0.9464808236958238, 'colsample_bytree': 0.6737788641619182, 'lambdarank_truncation_level': 8}. Best is trial 2 with value: 0.24063116370808676.\n",
      "[I 2025-06-02 12:37:13,530] Trial 10 finished with value: 0.22840236686390533 and parameters: {'scale_pos_weight': 99.44336404348164, 'num_leaves': 70, 'learning_rate': 0.21683515636453407, 'n_estimators': 356, 'min_child_samples': 28, 'max_depth': 9, 'reg_alpha': 3.882474171993068e-06, 'reg_lambda': 4.578695696711229, 'subsample': 0.5025551362117993, 'colsample_bytree': 0.8333602936142916, 'lambdarank_truncation_level': 6}. Best is trial 2 with value: 0.24063116370808676.\n",
      "[I 2025-06-02 12:38:18,038] Trial 11 finished with value: 0.23293885601577907 and parameters: {'scale_pos_weight': 86.86257028968633, 'num_leaves': 95, 'learning_rate': 0.08046450161091338, 'n_estimators': 266, 'min_child_samples': 8, 'max_depth': 9, 'reg_alpha': 1.6599569590440853e-06, 'reg_lambda': 0.0002165877181030295, 'subsample': 0.7059710904810796, 'colsample_bytree': 0.9897726803462887, 'lambdarank_truncation_level': 7}. Best is trial 2 with value: 0.24063116370808676.\n",
      "[I 2025-06-02 12:39:27,704] Trial 12 finished with value: 0.23372781065088755 and parameters: {'scale_pos_weight': 42.07519265158002, 'num_leaves': 78, 'learning_rate': 0.08840393391828257, 'n_estimators': 323, 'min_child_samples': 22, 'max_depth': 10, 'reg_alpha': 1.035226029819796e-06, 'reg_lambda': 0.763750945063596, 'subsample': 0.8492585387631957, 'colsample_bytree': 0.8908635670922154, 'lambdarank_truncation_level': 8}. Best is trial 2 with value: 0.24063116370808676.\n",
      "[I 2025-06-02 12:40:14,621] Trial 13 finished with value: 0.22564102564102562 and parameters: {'scale_pos_weight': 79.37401809187412, 'num_leaves': 24, 'learning_rate': 0.05404470274866651, 'n_estimators': 285, 'min_child_samples': 20, 'max_depth': 9, 'reg_alpha': 1.0095782932037772e-09, 'reg_lambda': 0.0002031283816942995, 'subsample': 0.6039113777651217, 'colsample_bytree': 0.900812207125879, 'lambdarank_truncation_level': 7}. Best is trial 2 with value: 0.24063116370808676.\n",
      "[I 2025-06-02 12:41:25,334] Trial 14 finished with value: 0.18915187376725837 and parameters: {'scale_pos_weight': 40.686814617804366, 'num_leaves': 100, 'learning_rate': 0.010541996391937137, 'n_estimators': 345, 'min_child_samples': 6, 'max_depth': 10, 'reg_alpha': 2.6186032594111857e-07, 'reg_lambda': 0.0071613825440568265, 'subsample': 0.8499014614486495, 'colsample_bytree': 0.7691241674805825, 'lambdarank_truncation_level': 3}. Best is trial 2 with value: 0.24063116370808676.\n",
      "[I 2025-06-02 12:42:04,272] Trial 15 finished with value: 0.22485207100591717 and parameters: {'scale_pos_weight': 97.40868140396282, 'num_leaves': 73, 'learning_rate': 0.12780701974984748, 'n_estimators': 250, 'min_child_samples': 96, 'max_depth': 6, 'reg_alpha': 2.9390972867981482e-05, 'reg_lambda': 0.10233209769520221, 'subsample': 0.6432300168951532, 'colsample_bytree': 0.915077781003257, 'lambdarank_truncation_level': 8}. Best is trial 2 with value: 0.24063116370808676.\n",
      "[I 2025-06-02 12:43:11,640] Trial 16 finished with value: 0.22859960552268244 and parameters: {'scale_pos_weight': 72.9298298433355, 'num_leaves': 88, 'learning_rate': 0.05073759740582451, 'n_estimators': 310, 'min_child_samples': 34, 'max_depth': 11, 'reg_alpha': 8.775779896677477e-08, 'reg_lambda': 5.2620591573147786e-06, 'subsample': 0.772619470958274, 'colsample_bytree': 0.8420353221100028, 'lambdarank_truncation_level': 6}. Best is trial 2 with value: 0.24063116370808676.\n",
      "[I 2025-06-02 12:43:59,264] Trial 17 finished with value: 0.17041420118343195 and parameters: {'scale_pos_weight': 49.74717282048961, 'num_leaves': 59, 'learning_rate': 0.29329470808543345, 'n_estimators': 367, 'min_child_samples': 21, 'max_depth': 8, 'reg_alpha': 5.398405550094283e-05, 'reg_lambda': 0.0010370017641144003, 'subsample': 0.9020760020536276, 'colsample_bytree': 0.9436755536419764, 'lambdarank_truncation_level': 9}. Best is trial 2 with value: 0.24063116370808676.\n",
      "[I 2025-06-02 12:44:32,572] Trial 18 finished with value: 0.1465483234714004 and parameters: {'scale_pos_weight': 87.91272122476279, 'num_leaves': 59, 'learning_rate': 0.12069864941065774, 'n_estimators': 206, 'min_child_samples': 15, 'max_depth': 11, 'reg_alpha': 0.0006194048819898293, 'reg_lambda': 1.4332234763390224e-05, 'subsample': 0.565656135697843, 'colsample_bytree': 0.7448690000766139, 'lambdarank_truncation_level': 5}. Best is trial 2 with value: 0.24063116370808676.\n",
      "[I 2025-06-02 12:45:13,836] Trial 19 finished with value: 0.2195266272189349 and parameters: {'scale_pos_weight': 70.06046679126665, 'num_leaves': 89, 'learning_rate': 0.06554315447066503, 'n_estimators': 285, 'min_child_samples': 62, 'max_depth': 5, 'reg_alpha': 1.060133978579511e-05, 'reg_lambda': 4.42954274354526, 'subsample': 0.6985322298790936, 'colsample_bytree': 0.8620515113790699, 'lambdarank_truncation_level': 9}. Best is trial 2 with value: 0.24063116370808676.\n",
      "[I 2025-06-02 12:46:14,158] Trial 20 finished with value: 0.2252465483234714 and parameters: {'scale_pos_weight': 87.43943810300583, 'num_leaves': 40, 'learning_rate': 0.03291778404660551, 'n_estimators': 333, 'min_child_samples': 38, 'max_depth': 10, 'reg_alpha': 3.236913460663158e-07, 'reg_lambda': 0.10991351314867744, 'subsample': 0.7888125897150344, 'colsample_bytree': 0.7851633418532797, 'lambdarank_truncation_level': 7}. Best is trial 2 with value: 0.24063116370808676.\n",
      "[I 2025-06-02 12:47:25,814] Trial 21 finished with value: 0.23136094674556212 and parameters: {'scale_pos_weight': 44.56398783376012, 'num_leaves': 78, 'learning_rate': 0.0931081490295537, 'n_estimators': 320, 'min_child_samples': 26, 'max_depth': 10, 'reg_alpha': 1.6836192689760078e-06, 'reg_lambda': 1.2203781389877315, 'subsample': 0.8816233685257509, 'colsample_bytree': 0.8827814426921704, 'lambdarank_truncation_level': 8}. Best is trial 2 with value: 0.24063116370808676.\n",
      "[I 2025-06-02 12:48:27,547] Trial 22 finished with value: 0.2386587771203156 and parameters: {'scale_pos_weight': 33.18285091776213, 'num_leaves': 69, 'learning_rate': 0.11588380155696548, 'n_estimators': 301, 'min_child_samples': 16, 'max_depth': 8, 'reg_alpha': 4.018215047086165e-07, 'reg_lambda': 0.23587988157584036, 'subsample': 0.9110396892627037, 'colsample_bytree': 0.9364586555743631, 'lambdarank_truncation_level': 8}. Best is trial 2 with value: 0.24063116370808676.\n",
      "[I 2025-06-02 12:49:34,320] Trial 23 finished with value: 0.2522682445759369 and parameters: {'scale_pos_weight': 32.76646433606382, 'num_leaves': 68, 'learning_rate': 0.13252142979294942, 'n_estimators': 295, 'min_child_samples': 12, 'max_depth': 8, 'reg_alpha': 1.3583072289221058e-09, 'reg_lambda': 0.04857113119670418, 'subsample': 0.948178146926568, 'colsample_bytree': 0.9433960599960594, 'lambdarank_truncation_level': 9}. Best is trial 23 with value: 0.2522682445759369.\n",
      "[I 2025-06-02 12:50:35,432] Trial 24 finished with value: 0.23293885601577907 and parameters: {'scale_pos_weight': 31.283718853595143, 'num_leaves': 67, 'learning_rate': 0.16975371192403296, 'n_estimators': 264, 'min_child_samples': 15, 'max_depth': 8, 'reg_alpha': 1.0423228335024872e-09, 'reg_lambda': 0.0012462005040349596, 'subsample': 0.9177416355172187, 'colsample_bytree': 0.9903797104981847, 'lambdarank_truncation_level': 7}. Best is trial 23 with value: 0.2522682445759369.\n",
      "[I 2025-06-02 12:51:28,940] Trial 25 finished with value: 0.23688362919132144 and parameters: {'scale_pos_weight': 29.993934067526734, 'num_leaves': 58, 'learning_rate': 0.12183948131462154, 'n_estimators': 350, 'min_child_samples': 31, 'max_depth': 6, 'reg_alpha': 4.838186420431706e-09, 'reg_lambda': 0.33643160472998895, 'subsample': 0.8064897072081003, 'colsample_bytree': 0.9278138041219377, 'lambdarank_truncation_level': 6}. Best is trial 23 with value: 0.2522682445759369.\n",
      "[I 2025-06-02 12:52:23,690] Trial 26 finished with value: 0.22899408284023665 and parameters: {'scale_pos_weight': 33.686917432354555, 'num_leaves': 74, 'learning_rate': 0.20372223601088485, 'n_estimators': 301, 'min_child_samples': 16, 'max_depth': 8, 'reg_alpha': 2.783417437561435e-07, 'reg_lambda': 0.024132829698713793, 'subsample': 0.9435873407643794, 'colsample_bytree': 0.8038554068918342, 'lambdarank_truncation_level': 8}. Best is trial 23 with value: 0.2522682445759369.\n",
      "[I 2025-06-02 12:53:18,265] Trial 27 finished with value: 0.23313609467455618 and parameters: {'scale_pos_weight': 50.81559424609529, 'num_leaves': 64, 'learning_rate': 0.281042588150478, 'n_estimators': 316, 'min_child_samples': 41, 'max_depth': 6, 'reg_alpha': 6.195594382814734e-09, 'reg_lambda': 9.753715421878306, 'subsample': 0.8834411249188149, 'colsample_bytree': 0.863996730443294, 'lambdarank_truncation_level': 9}. Best is trial 23 with value: 0.2522682445759369.\n",
      "[I 2025-06-02 12:54:07,581] Trial 28 finished with value: 0.22662721893491125 and parameters: {'scale_pos_weight': 10.101358138405764, 'num_leaves': 54, 'learning_rate': 0.1450564318213292, 'n_estimators': 336, 'min_child_samples': 27, 'max_depth': 7, 'reg_alpha': 8.154279261315697e-06, 'reg_lambda': 0.0016597007212823375, 'subsample': 0.7239172440647169, 'colsample_bytree': 0.7358147932362233, 'lambdarank_truncation_level': 5}. Best is trial 23 with value: 0.2522682445759369.\n",
      "[I 2025-06-02 12:54:53,799] Trial 29 finished with value: 0.1428007889546351 and parameters: {'scale_pos_weight': 22.232202814845248, 'num_leaves': 80, 'learning_rate': 0.10342288985054279, 'n_estimators': 298, 'min_child_samples': 57, 'max_depth': 9, 'reg_alpha': 0.0041940734957926174, 'reg_lambda': 0.1413295717951977, 'subsample': 0.8230422015566555, 'colsample_bytree': 0.8304021365284627, 'lambdarank_truncation_level': 8}. Best is trial 23 with value: 0.2522682445759369.\n",
      "[I 2025-06-02 12:55:37,989] Trial 30 finished with value: 0.13570019723865875 and parameters: {'scale_pos_weight': 37.179567692247346, 'num_leaves': 69, 'learning_rate': 0.2011676124373846, 'n_estimators': 274, 'min_child_samples': 34, 'max_depth': 8, 'reg_alpha': 0.22186242938313563, 'reg_lambda': 0.05123678390836312, 'subsample': 0.647895738480881, 'colsample_bytree': 0.9613228950564476, 'lambdarank_truncation_level': 4}. Best is trial 23 with value: 0.2522682445759369.\n",
      "[I 2025-06-02 12:56:33,532] Trial 31 finished with value: 0.23076923076923073 and parameters: {'scale_pos_weight': 27.55101251167391, 'num_leaves': 56, 'learning_rate': 0.11506597411088582, 'n_estimators': 360, 'min_child_samples': 32, 'max_depth': 6, 'reg_alpha': 1.0136107102519041e-08, 'reg_lambda': 0.44047651475694904, 'subsample': 0.8058596591192388, 'colsample_bytree': 0.9259955677024695, 'lambdarank_truncation_level': 6}. Best is trial 23 with value: 0.2522682445759369.\n",
      "[I 2025-06-02 12:57:23,539] Trial 32 finished with value: 0.23136094674556212 and parameters: {'scale_pos_weight': 15.71412188876345, 'num_leaves': 63, 'learning_rate': 0.07788948212923254, 'n_estimators': 381, 'min_child_samples': 15, 'max_depth': 5, 'reg_alpha': 3.2664367504482313e-09, 'reg_lambda': 0.4010092876330879, 'subsample': 0.9249414129552939, 'colsample_bytree': 0.9281461315471066, 'lambdarank_truncation_level': 6}. Best is trial 23 with value: 0.2522682445759369.\n",
      "[I 2025-06-02 12:58:12,256] Trial 33 finished with value: 0.23471400394477315 and parameters: {'scale_pos_weight': 29.83423771200902, 'num_leaves': 74, 'learning_rate': 0.1439286529362139, 'n_estimators': 347, 'min_child_samples': 41, 'max_depth': 5, 'reg_alpha': 6.107781327521962e-08, 'reg_lambda': 1.0167297795045023, 'subsample': 0.8843645126020723, 'colsample_bytree': 0.9941459960057026, 'lambdarank_truncation_level': 7}. Best is trial 23 with value: 0.2522682445759369.\n",
      "[I 2025-06-02 12:58:59,904] Trial 34 finished with value: 0.13826429980276134 and parameters: {'scale_pos_weight': 54.24826265965669, 'num_leaves': 42, 'learning_rate': 0.06826706284041427, 'n_estimators': 349, 'min_child_samples': 27, 'max_depth': 7, 'reg_alpha': 0.0005006974468202583, 'reg_lambda': 0.004705730536861364, 'subsample': 0.8308118488230742, 'colsample_bytree': 0.8603927998053567, 'lambdarank_truncation_level': 7}. Best is trial 23 with value: 0.2522682445759369.\n",
      "[I 2025-06-02 12:59:37,057] Trial 35 finished with value: 0.2331360946745562 and parameters: {'scale_pos_weight': 36.92224450217772, 'num_leaves': 53, 'learning_rate': 0.10432367541389058, 'n_estimators': 241, 'min_child_samples': 11, 'max_depth': 4, 'reg_alpha': 4.1550932585634256e-08, 'reg_lambda': 0.12566584812873094, 'subsample': 0.9633263503396003, 'colsample_bytree': 0.8964360620176682, 'lambdarank_truncation_level': 10}. Best is trial 23 with value: 0.2522682445759369.\n",
      "[I 2025-06-02 13:00:41,706] Trial 36 finished with value: 0.23057199211045362 and parameters: {'scale_pos_weight': 45.25840958622747, 'num_leaves': 63, 'learning_rate': 0.17640187369794255, 'n_estimators': 305, 'min_child_samples': 50, 'max_depth': 6, 'reg_alpha': 1.9921180534491977e-09, 'reg_lambda': 0.020406578117785477, 'subsample': 0.9732433527812435, 'colsample_bytree': 0.9570222363780841, 'lambdarank_truncation_level': 9}. Best is trial 23 with value: 0.2522682445759369.\n",
      "[I 2025-06-02 13:01:55,897] Trial 37 finished with value: 0.2362919132149901 and parameters: {'scale_pos_weight': 21.674125156359544, 'num_leaves': 83, 'learning_rate': 0.04881801859333348, 'n_estimators': 383, 'min_child_samples': 23, 'max_depth': 7, 'reg_alpha': 1.5904441802747136e-08, 'reg_lambda': 5.303563777247695e-05, 'subsample': 0.7483706236476957, 'colsample_bytree': 0.9350956791082333, 'lambdarank_truncation_level': 6}. Best is trial 23 with value: 0.2522682445759369.\n",
      "[I 2025-06-02 13:02:45,043] Trial 38 finished with value: 0.23412228796844178 and parameters: {'scale_pos_weight': 57.47011515016143, 'num_leaves': 67, 'learning_rate': 0.13663050584924138, 'n_estimators': 326, 'min_child_samples': 45, 'max_depth': 9, 'reg_alpha': 1.5234170448591912e-07, 'reg_lambda': 2.833242441505039, 'subsample': 0.8661251040941382, 'colsample_bytree': 0.5550451731405903, 'lambdarank_truncation_level': 5}. Best is trial 23 with value: 0.2522682445759369.\n",
      "[I 2025-06-02 13:03:40,698] Trial 39 finished with value: 0.23767258382642995 and parameters: {'scale_pos_weight': 12.664187363442828, 'num_leaves': 50, 'learning_rate': 0.2406327395122995, 'n_estimators': 338, 'min_child_samples': 5, 'max_depth': 8, 'reg_alpha': 7.97179049707763e-07, 'reg_lambda': 0.2597648840946603, 'subsample': 0.9145127162342814, 'colsample_bytree': 0.9713600805256138, 'lambdarank_truncation_level': 8}. Best is trial 23 with value: 0.2522682445759369.\n",
      "[I 2025-06-02 13:04:25,148] Trial 40 finished with value: 0.22741617357001975 and parameters: {'scale_pos_weight': 66.10535219220895, 'num_leaves': 41, 'learning_rate': 0.24564908709870092, 'n_estimators': 311, 'min_child_samples': 11, 'max_depth': 8, 'reg_alpha': 1.855105854129188e-05, 'reg_lambda': 1.0949877336101225e-06, 'subsample': 0.9286252137929507, 'colsample_bytree': 0.9845067547594974, 'lambdarank_truncation_level': 10}. Best is trial 23 with value: 0.2522682445759369.\n",
      "[I 2025-06-02 13:05:33,414] Trial 41 finished with value: 0.2313609467455621 and parameters: {'scale_pos_weight': 11.347918644545054, 'num_leaves': 47, 'learning_rate': 0.10860626994489, 'n_estimators': 339, 'min_child_samples': 5, 'max_depth': 8, 'reg_alpha': 7.889744181743096e-07, 'reg_lambda': 0.3829140967296536, 'subsample': 0.9985224849997094, 'colsample_bytree': 0.9620357740562001, 'lambdarank_truncation_level': 8}. Best is trial 23 with value: 0.2522682445759369.\n",
      "[I 2025-06-02 13:06:35,181] Trial 42 finished with value: 0.23668639053254434 and parameters: {'scale_pos_weight': 26.666513655795743, 'num_leaves': 51, 'learning_rate': 0.16592988540552242, 'n_estimators': 295, 'min_child_samples': 18, 'max_depth': 7, 'reg_alpha': 3.463052031841883e-06, 'reg_lambda': 0.047782040657058336, 'subsample': 0.9017391748003643, 'colsample_bytree': 0.9116089032658059, 'lambdarank_truncation_level': 9}. Best is trial 23 with value: 0.2522682445759369.\n",
      "[I 2025-06-02 13:07:41,758] Trial 43 finished with value: 0.2321499013806706 and parameters: {'scale_pos_weight': 18.118276563758265, 'num_leaves': 57, 'learning_rate': 0.23565447448758617, 'n_estimators': 327, 'min_child_samples': 11, 'max_depth': 9, 'reg_alpha': 2.3737601510219434e-08, 'reg_lambda': 0.2691625220667908, 'subsample': 0.944659012829486, 'colsample_bytree': 0.8791388904533702, 'lambdarank_truncation_level': 7}. Best is trial 23 with value: 0.2522682445759369.\n",
      "[I 2025-06-02 13:08:28,505] Trial 44 finished with value: 0.1429980276134122 and parameters: {'scale_pos_weight': 34.10312545514505, 'num_leaves': 63, 'learning_rate': 0.06882864618532782, 'n_estimators': 277, 'min_child_samples': 30, 'max_depth': 12, 'reg_alpha': 0.00013579939212614414, 'reg_lambda': 0.008214468166085178, 'subsample': 0.5458442687046722, 'colsample_bytree': 0.966566954201012, 'lambdarank_truncation_level': 8}. Best is trial 23 with value: 0.2522682445759369.\n",
      "[I 2025-06-02 13:09:29,072] Trial 45 finished with value: 0.23412228796844178 and parameters: {'scale_pos_weight': 13.857198452466605, 'num_leaves': 46, 'learning_rate': 0.09521587856070314, 'n_estimators': 360, 'min_child_samples': 12, 'max_depth': 7, 'reg_alpha': 4.843729080468222e-09, 'reg_lambda': 1.641933216652254, 'subsample': 0.68026320697558, 'colsample_bytree': 0.9454311356121273, 'lambdarank_truncation_level': 7}. Best is trial 23 with value: 0.2522682445759369.\n",
      "[I 2025-06-02 13:10:18,811] Trial 46 finished with value: 0.2319526627218935 and parameters: {'scale_pos_weight': 22.47420574334944, 'num_leaves': 27, 'learning_rate': 0.0429025506488993, 'n_estimators': 317, 'min_child_samples': 23, 'max_depth': 10, 'reg_alpha': 6.01440849692749e-07, 'reg_lambda': 0.03664205685650426, 'subsample': 0.7748039152460757, 'colsample_bytree': 0.8042119119804445, 'lambdarank_truncation_level': 8}. Best is trial 23 with value: 0.2522682445759369.\n",
      "[I 2025-06-02 13:11:08,998] Trial 47 finished with value: 0.23136094674556212 and parameters: {'scale_pos_weight': 48.86838612752131, 'num_leaves': 36, 'learning_rate': 0.1903357123800288, 'n_estimators': 339, 'min_child_samples': 5, 'max_depth': 6, 'reg_alpha': 4.3949886115523075e-08, 'reg_lambda': 0.003812261741035096, 'subsample': 0.5002672356475439, 'colsample_bytree': 0.9110949719303616, 'lambdarank_truncation_level': 9}. Best is trial 23 with value: 0.2522682445759369.\n",
      "[I 2025-06-02 13:12:09,566] Trial 48 finished with value: 0.23786982248520708 and parameters: {'scale_pos_weight': 37.08938098037653, 'num_leaves': 71, 'learning_rate': 0.08215940585265222, 'n_estimators': 352, 'min_child_samples': 84, 'max_depth': 9, 'reg_alpha': 1.2628050233062437e-07, 'reg_lambda': 0.22640548640879518, 'subsample': 0.9784865579806842, 'colsample_bytree': 0.7133226028429784, 'lambdarank_truncation_level': 6}. Best is trial 23 with value: 0.2522682445759369.\n",
      "[I 2025-06-02 13:13:06,589] Trial 49 finished with value: 0.23668639053254437 and parameters: {'scale_pos_weight': 39.22555674759844, 'num_leaves': 74, 'learning_rate': 0.07923121392895856, 'n_estimators': 373, 'min_child_samples': 78, 'max_depth': 9, 'reg_alpha': 3.4071477696041788e-06, 'reg_lambda': 0.00038784396537589806, 'subsample': 0.9494218123229297, 'colsample_bytree': 0.6260530540225423, 'lambdarank_truncation_level': 9}. Best is trial 23 with value: 0.2522682445759369.\n"
     ]
    }
   ],
   "source": [
    "def objective(trial):\n",
    "    params = {\n",
    "        'objective': 'lambdarank',\n",
    "        'metric': 'ndcg',\n",
    "        'boosting_type': 'gbdt',\n",
    "        'importance_type': 'gain',\n",
    "        'scale_pos_weight': trial.suggest_float('scale_pos_weight', 10, 100),\n",
    "        'num_leaves': trial.suggest_int('num_leaves', 20, 100),\n",
    "        'learning_rate': trial.suggest_float('learning_rate', 0.01, 0.3, log=True),\n",
    "        'n_estimators': trial.suggest_int('n_estimators', 200, 400),\n",
    "        'min_child_samples': trial.suggest_int('min_child_samples', 5, 100),\n",
    "        'max_depth': trial.suggest_int('max_depth', 3, 12),\n",
    "        'reg_alpha': trial.suggest_float('reg_alpha', 1e-9, 10.0, log=True),\n",
    "        'reg_lambda': trial.suggest_float('reg_lambda', 1e-9, 10.0, log=True),\n",
    "        'subsample': trial.suggest_float('subsample', 0.5, 1.0),\n",
    "        'colsample_bytree': trial.suggest_float('colsample_bytree', 0.5, 1.0),\n",
    "        'lambdarank_truncation_level': trial.suggest_int('lambdarank_truncation_level', 3, 10),\n",
    "        'verbosity': -1\n",
    "    }\n",
    "    model = LGBMRanker(**params, lambarank_norm=True, random_state=19)\n",
    "    model.fit(X, y, group=np.bincount(users))\n",
    "    return precision_rr(best_als, model, k=3, n=5)\n",
    "study = optuna.create_study(direction='maximize', sampler=TPESampler(seed=19))\n",
    "study.optimize(objective, n_trials=50)\n",
    "best_params_rr = study.best_params"
   ]
  },
  {
   "cell_type": "code",
   "execution_count": 118,
   "metadata": {},
   "outputs": [
    {
     "data": {
      "text/plain": [
       "0.2522682445759369"
      ]
     },
     "execution_count": 118,
     "metadata": {},
     "output_type": "execute_result"
    }
   ],
   "source": [
    "model_rr = LGBMRanker(**best_params_rr, lambarank_norm=True,random_state=19)\n",
    "model_rr.fit(X, y, group=np.bincount(users))\n",
    "precision_rr(best_als, model_rr, 3, 5)"
   ]
  },
  {
   "cell_type": "code",
   "execution_count": 119,
   "metadata": {},
   "outputs": [
    {
     "name": "stdout",
     "output_type": "stream",
     "text": [
      "                   feature    importance\n",
      "44          item_recent_7d  25595.587815\n",
      "42       item_unique_users  23148.978965\n",
      "5               user_count  11956.392976\n",
      "9   user_repeat_view_ratio  11336.117312\n",
      "10     user_activity_trend   8878.923830\n"
     ]
    }
   ],
   "source": [
    "importance = model_rr.booster_.feature_importance(importance_type='gain')[296:]\n",
    "feature_names = features\n",
    "importance_df = pd.DataFrame({\n",
    "        'feature': feature_names,\n",
    "        'importance': importance\n",
    "}).sort_values('importance', ascending=False)\n",
    "print(importance_df.head(5))"
   ]
  },
  {
   "cell_type": "markdown",
   "metadata": {},
   "source": [
    "### дальше"
   ]
  },
  {
   "cell_type": "code",
   "execution_count": 120,
   "metadata": {},
   "outputs": [],
   "source": [
    "def change_train(traindf, scaler=False):\n",
    "    '''Добавление новых признаков к датафрейму'''\n",
    "    new_train = traindf.copy()\n",
    "    new_train = value_top(new_train, 'day', 'itemid')\n",
    "    new_train = value_top(new_train, 'weekend', 'itemid')\n",
    "    new_train = value_top(new_train, 'timeday', 'itemid')\n",
    "    new_train['item_count'] = new_train.groupby('itemid')['target'].transform('count')\n",
    "    new_train['item_purchase_count'] = new_train.groupby('itemid')['target'].transform('sum').fillna(0)\n",
    "    new_train['item_mean'] = new_train.groupby('itemid')['target'].transform('mean')\n",
    "    new_train['item_days_since_last_view'] = round((testdf.timestamp.min() - new_train.groupby('itemid')['timestamp'].transform('max'))/86400)\n",
    "    new_train['category_popularity'] = new_train.groupby('categoryid')['itemid'].transform('count')\n",
    "    new_train['category_popularity_purchase'] = new_train.groupby('categoryid')['target'].transform('sum')\n",
    "    new_train['category_avg_conversion'] = new_train.groupby('categoryid')['target'].transform('mean')\n",
    "    new_train['category_unique_items'] = new_train.groupby('categoryid')['itemid'].transform('nunique')\n",
    "    new_train['item_unique_users'] = new_train.groupby('itemid')['visitorid'].transform('nunique')\n",
    "    new_train['item_returning_users_ratio'] = new_train.groupby('itemid')['visitorid'].transform(lambda x: x.duplicated().mean())\n",
    "    items7 = new_train[new_train['timestamp'] > (new_train.timestamp.max() - (86400*7))].groupby('itemid')['target'].count().rename('item_recent_7d')\n",
    "    items7_purchase = new_train[new_train['timestamp'] > (new_train.timestamp.max() - (86400*7))].groupby('itemid')['target'].sum().rename('item_recent_7d_purchase')\n",
    "    items30 = new_train[new_train['timestamp'] > (new_train.timestamp.max() - (86400*30))].groupby('itemid')['target'].count().rename('item_recent_30d')\n",
    "    items30_purchase = new_train[new_train['timestamp'] > (new_train.timestamp.max() - (86400*30))].groupby('itemid')['target'].sum().rename('item_recent_30d_purchase')\n",
    "    days_since_last_purchase = round((testdf.timestamp.min() - new_train[new_train.target==1].groupby('itemid')['timestamp'].max())/86400).rename('item_days_since_last_purchase')\n",
    "    new_train = pd.merge(new_train, items7, on='itemid', how='left')\n",
    "    new_train = pd.merge(new_train, items7_purchase, on='itemid', how='left')\n",
    "    new_train = pd.merge(new_train, items30, on='itemid', how='left')\n",
    "    new_train = pd.merge(new_train, items30_purchase, on='itemid', how='left')\n",
    "    new_train = pd.merge(new_train, days_since_last_purchase, on='itemid', how='left')\n",
    "    \n",
    "    new_train = value_top(new_train, 'day', 'visitorid')\n",
    "    new_train = value_top(new_train, 'weekend', 'visitorid')\n",
    "    new_train = value_top(new_train, 'timeday', 'visitorid')\n",
    "    new_train = value_top(new_train, 'categoryid', 'visitorid')\n",
    "    cat_dict = dict(zip(new_train['categoryid'], new_train['categoryid_enc']))\n",
    "    new_train['visitorid_categoryid_enc'] = new_train['visitorid_categoryid'].map(cat_dict)\n",
    "    new_train['user_count'] = new_train.groupby('visitorid')['target'].transform('count')\n",
    "    new_train['user_purchase_count'] = new_train.groupby('visitorid')['target'].transform('sum')\n",
    "    new_train['user_mean'] = new_train.groupby('visitorid')['target'].transform('mean')\n",
    "    new_train['user_avg_time_between_actions'] = new_train.groupby('visitorid')['timestamp'].transform(lambda x: x.diff().mean())\n",
    "    new_train['user_repeat_view_ratio'] = new_train.groupby('visitorid')['itemid'].transform(lambda x: x.duplicated().mean())\n",
    "    user_7 = (new_train[(new_train.target==1)&(new_train['timestamp'] > (new_train.timestamp.max() - (86400*7)))].groupby('visitorid')['itemid'].count()).rename('user_activity_trend')\n",
    "    new_train = pd.merge(new_train, user_7, on='visitorid', how='left')\n",
    "    new_train['user_activity_trend'] = new_train['user_activity_trend']/new_train.groupby('visitorid')['itemid'].transform('count')\n",
    "    new_train.fillna({'item_recent_7d_purchase': 0,'item_recent_30d_purchase': 0,'item_recent_7d': 0,\n",
    "                'item_days_since_last_purchase': 120,'item_recent_30d': 0,\n",
    "                'user_activity_trend': 0,'user_avg_time_between_actions': 120\n",
    "    }, inplace=True)\n",
    "    if scaler==True:\n",
    "        scaler_features = ['item_count', 'item_purchase_count', 'item_days_since_last_view',\n",
    "                   'category_popularity', 'category_unique_items', 'item_unique_users',\n",
    "                   'item_recent_7d_purchase','item_recent_30d_purchase','item_recent_7d',\n",
    "                   'category_popularity_purchase','item_days_since_last_purchase','item_recent_30d',\n",
    "                   'user_count', 'user_purchase_count', 'user_avg_time_between_actions'\n",
    "        ]\n",
    "        for i in scaler_features:\n",
    "            new_train[i]= StandardScaler().fit_transform(new_train[[i]])\n",
    "    return new_train"
   ]
  },
  {
   "cell_type": "code",
   "execution_count": 121,
   "metadata": {},
   "outputs": [
    {
     "data": {
      "application/vnd.jupyter.widget-view+json": {
       "model_id": "f646e247f9164e7682494c8349a4656d",
       "version_major": 2,
       "version_minor": 0
      },
      "text/plain": [
       "  0%|          | 0/40 [00:00<?, ?it/s]"
      ]
     },
     "metadata": {},
     "output_type": "display_data"
    }
   ],
   "source": [
    "dfmin = change_train(dfmin, scaler=True)\n",
    "#кодировщики для пользователей и товаров\n",
    "user_encoder = LabelEncoder().fit(dfmin['visitorid'])\n",
    "item_encoder = LabelEncoder().fit(dfmin['itemid'])\n",
    "#уникальные\n",
    "unique_users = dfmin['visitorid'].unique()\n",
    "unique_items = dfmin['itemid'].unique()\n",
    "#значения для сводной таблицы\n",
    "rows = user_encoder.transform(dfmin['visitorid'])\n",
    "cols = item_encoder.transform(dfmin['itemid'])\n",
    "values = dfmin['target'].apply(lambda x: 1000.0 if x == 1 else 100).values #изменение таргета\n",
    "user_item_matrix = csr_matrix((values, (rows, cols)), shape=(len(unique_users), len(unique_items))).tocsr()\n",
    "#лучшие параметры\n",
    "final_als = AlternatingLeastSquares(**best_params_als)\n",
    "final_als.fit(user_item_matrix)\n",
    "#сохранение\n",
    "with open('final_als.pkl', 'wb') as f:\n",
    "    pickle.dump(final_als, f)\n",
    "#реранкер\n",
    "X_f, y_f, users_f = prepare_reranker_data(dfmin, final_als)\n",
    "final_rr = LGBMRanker(**best_params_rr, lambdarank_norm=True, random_state=19)\n",
    "final_rr.fit(X_f, y_f, group=np.bincount(users_f))\n",
    "with open('final_rr.pkl', 'wb') as f:\n",
    "    pickle.dump(final_rr, f)"
   ]
  },
  {
   "cell_type": "code",
   "execution_count": null,
   "metadata": {},
   "outputs": [],
   "source": [
    "#dfmin.to_csv('data/data.csv', index=False)"
   ]
  },
  {
   "cell_type": "code",
   "execution_count": 122,
   "metadata": {},
   "outputs": [
    {
     "data": {
      "text/plain": [
       "{'factors': 148,\n",
       " 'regularization': 0.02205850352887652,\n",
       " 'alpha': 13.526664255279133,\n",
       " 'iterations': 40}"
      ]
     },
     "execution_count": 122,
     "metadata": {},
     "output_type": "execute_result"
    }
   ],
   "source": [
    "best_params_als"
   ]
  },
  {
   "cell_type": "code",
   "execution_count": 123,
   "metadata": {},
   "outputs": [
    {
     "data": {
      "text/plain": [
       "{'scale_pos_weight': 32.76646433606382,\n",
       " 'num_leaves': 68,\n",
       " 'learning_rate': 0.13252142979294942,\n",
       " 'n_estimators': 295,\n",
       " 'min_child_samples': 12,\n",
       " 'max_depth': 8,\n",
       " 'reg_alpha': 1.3583072289221058e-09,\n",
       " 'reg_lambda': 0.04857113119670418,\n",
       " 'subsample': 0.948178146926568,\n",
       " 'colsample_bytree': 0.9433960599960594,\n",
       " 'lambdarank_truncation_level': 9}"
      ]
     },
     "execution_count": 123,
     "metadata": {},
     "output_type": "execute_result"
    }
   ],
   "source": [
    "best_params_rr"
   ]
  },
  {
   "cell_type": "markdown",
   "metadata": {},
   "source": [
    "В данный момент подбор рекомендаций осуществляется по id пользователя. Это сделано для упрощения визуального отображения и ввода идентификатора. Можно изменить для ввода не идентификатора, а, например, купленных и просмотренных пользователем товаров. Такой способ будет удобен для автоматической подачи данных и позволит подбирать рекомендации пользователям, которых нет в списке."
   ]
  }
 ],
 "metadata": {
  "kernelspec": {
   "display_name": "base",
   "language": "python",
   "name": "python3"
  },
  "language_info": {
   "codemirror_mode": {
    "name": "ipython",
    "version": 3
   },
   "file_extension": ".py",
   "mimetype": "text/x-python",
   "name": "python",
   "nbconvert_exporter": "python",
   "pygments_lexer": "ipython3",
   "version": "3.12.2"
  }
 },
 "nbformat": 4,
 "nbformat_minor": 2
}
