{
 "cells": [
  {
   "cell_type": "markdown",
   "metadata": {
    "_uuid": "9bb54771ab0e8de3f40d12e7f47d3c86fe58645b"
   },
   "source": [
    "# Прогнозирование временных рядов с использованием XGBoost\n",
    "\n",
    "\n",
    "В этом блокноте мы рассмотрим прогнозирование временных рядов с помощью XGBoost. Мы будем использовать данные о почасовом потреблении энергии."
   ]
  },
  {
   "cell_type": "code",
   "execution_count": null,
   "metadata": {
    "_cell_guid": "b1076dfc-b9ad-4769-8c92-a6c4dae69d19",
    "_uuid": "8f2839f25d086af736a60e9eeb907d3b93b6e0e5"
   },
   "outputs": [],
   "source": [
    "import numpy as np \n",
    "import pandas as pd \n",
    "import seaborn as sns\n",
    "import matplotlib.pyplot as plt\n",
    "import xgboost as xgb\n",
    "from xgboost import plot_importance, plot_tree\n",
    "from sklearn.metrics import mean_squared_error, mean_absolute_error\n",
    "from catboost import CatBoostRegressor"
   ]
  },
  {
   "cell_type": "markdown",
   "metadata": {
    "_uuid": "102c0bcb9cfc3be70922d8a308d4e29f02002c3e"
   },
   "source": [
    "# Данные\n",
    "Мы будем использовать данные о почасовом потреблении энергии от компании PJM. "
   ]
  },
  {
   "cell_type": "code",
   "execution_count": null,
   "metadata": {
    "_cell_guid": "79c7e3d0-c299-4dcb-8224-4455121ee9b0",
    "_uuid": "d629ff2d2480ee46fbb7e2d37f6b5fab8052498a"
   },
   "outputs": [],
   "source": [
    "pjme = pd.read_csv('PJME_hourly.csv', index_col=[0], parse_dates=[0])"
   ]
  },
  {
   "cell_type": "code",
   "execution_count": null,
   "metadata": {
    "_uuid": "c9ed25d7b8010577d04385c9c4077b6fffd7d409"
   },
   "outputs": [],
   "source": [
    "color_pal = [\"#F8766D\", \"#D39200\", \"#93AA00\", \"#00BA38\", \"#00C19F\", \"#00B9E3\", \"#619CFF\", \"#DB72FB\"]\n",
    "_ = pjme.plot(style='.', figsize=(15,5), color=color_pal[0], title='PJM East')"
   ]
  },
  {
   "cell_type": "markdown",
   "metadata": {
    "_uuid": "1c1c9cf0b6c70a8edd221810bb289b8837889288"
   },
   "source": [
    "# Train / Test Split\n",
    "Отрежем данные после 2015 года, чтобы использовать их в качестве набора для проверки."
   ]
  },
  {
   "cell_type": "code",
   "execution_count": null,
   "metadata": {
    "_uuid": "9e5c8c6fd78d2ac35c628315a7f12ad19c84dddb"
   },
   "outputs": [],
   "source": [
    "split_date = '01-Jan-2015'\n",
    "pjme_train = pjme.loc[pjme.index <= split_date].copy()\n",
    "pjme_test = pjme.loc[pjme.index > split_date].copy()"
   ]
  },
  {
   "cell_type": "code",
   "execution_count": null,
   "metadata": {
    "_uuid": "e1a730acd8b68e569ce5ff1abe18b047ca85ab91"
   },
   "outputs": [],
   "source": [
    "_ = pjme_test \\\n",
    "    .rename(columns={'PJME_MW': 'TEST SET'}) \\\n",
    "    .join(pjme_train.rename(columns={'PJME_MW': 'TRAINING SET'}), how='outer') \\\n",
    "    .plot(figsize=(15,5), title='PJM East', style='.')"
   ]
  },
  {
   "cell_type": "markdown",
   "metadata": {
    "_uuid": "a40373b87cfcbbfac9be205b3dbacf56bb9bc3d0"
   },
   "source": [
    "# Создадим признаки"
   ]
  },
  {
   "cell_type": "code",
   "execution_count": null,
   "metadata": {
    "_uuid": "53212882b070962fad91503aec7d2e550ac401c7"
   },
   "outputs": [],
   "source": [
    "def create_features(df, label=None):\n",
    "    \"\"\"\n",
    "    создаем признаки из datetime индекса\n",
    "    \"\"\"\n",
    "    df['date'] = df.index\n",
    "    df['hour'] = df['date'].dt.hour\n",
    "    df['dayofweek'] = df['date'].dt.dayofweek\n",
    "    df['quarter'] = df['date'].dt.quarter\n",
    "    df['month'] = df['date'].dt.month\n",
    "    df['year'] = df['date'].dt.year\n",
    "    df['dayofyear'] = df['date'].dt.dayofyear\n",
    "    df['dayofmonth'] = df['date'].dt.day\n",
    "    df['weekofyear'] = df['date'].dt.isocalendar().week\n",
    "    \n",
    "    X = df[['hour','dayofweek','quarter','month','year',\n",
    "           'dayofyear','dayofmonth','weekofyear']]\n",
    "    if label:\n",
    "        y = df[label]\n",
    "        return X, y\n",
    "    return X"
   ]
  },
  {
   "cell_type": "code",
   "execution_count": null,
   "metadata": {
    "_uuid": "6bb80315201ecc19305b67e4ba8177bcbb9514b4"
   },
   "outputs": [],
   "source": [
    "X_train, y_train = create_features(pjme_train, label='PJME_MW')\n",
    "X_test, y_test = create_features(pjme_test, label='PJME_MW')"
   ]
  },
  {
   "cell_type": "markdown",
   "metadata": {
    "_uuid": "60ffc6c21d16280ee05faead916fd09c34fa490c"
   },
   "source": [
    "# Создадим XGBoost Model"
   ]
  },
  {
   "cell_type": "code",
   "execution_count": null,
   "metadata": {
    "_uuid": "f608b0b457225f175c2eb1c4a74450747b095e93"
   },
   "outputs": [],
   "source": [
    "reg = xgb.XGBRegressor(n_estimators=1000, early_stopping_rounds=50)\n",
    "reg.fit(X_train, y_train,\n",
    "        eval_set=[(X_train, y_train), (X_test, y_test)],\n",
    "        verbose=False) # Измените verbose на True, если хотите увидеть процесс обучения"
   ]
  },
  {
   "cell_type": "markdown",
   "metadata": {
    "_uuid": "bf8d62f71d3037055bb267d283d58e510b2f58ff"
   },
   "source": [
    "## Важность признаков\n",
    "Важность признаков - отличный способ получить общее представление о том, на какие признаки модель больше всего полагается при прогнозировании. Это показатель, который просто суммирует, сколько раз каждая функция была разделена. Можно посмотреть с помощью plot_importance\n"
   ]
  },
  {
   "cell_type": "code",
   "execution_count": null,
   "metadata": {
    "_uuid": "bf9e389874f0463e33fc844a4821b27f32353e2c"
   },
   "outputs": [],
   "source": [
    "_ = plot_importance(reg, height=0.9)"
   ]
  },
  {
   "cell_type": "markdown",
   "metadata": {},
   "source": [
    "\n",
    "Мы видим, что день года чаще всего использовался для разделения деревьев, а затем следуют час и год. Квартал имеет невысокую важность в связи с тем, что он мог быть создан разным разбиением по дням и годам."
   ]
  },
  {
   "cell_type": "markdown",
   "metadata": {
    "_uuid": "7d16d64d0081f8ab9d5aff6970115f82a2e455a1"
   },
   "source": [
    "# Предсказание на Test Set"
   ]
  },
  {
   "cell_type": "code",
   "execution_count": null,
   "metadata": {
    "_uuid": "ab0386238f329132254a5d2fd1ab15cc05c2ce4e"
   },
   "outputs": [],
   "source": [
    "pjme_test['MW_Prediction'] = reg.predict(X_test)\n",
    "pjme_all = pd.concat([pjme_test, pjme_train], sort=False)"
   ]
  },
  {
   "cell_type": "code",
   "execution_count": null,
   "metadata": {
    "_uuid": "46c23648943927364a6e35428ac15dbb52a3ee7b"
   },
   "outputs": [],
   "source": [
    "_ = pjme_all[['PJME_MW','MW_Prediction']].plot(figsize=(15, 5))"
   ]
  },
  {
   "cell_type": "markdown",
   "metadata": {
    "_uuid": "7b0c23f8ab69549bcf64c154a4ab6cb86c0fe204"
   },
   "source": [
    "# Посмотрим на первый месяц прогнозов"
   ]
  },
  {
   "cell_type": "code",
   "execution_count": null,
   "metadata": {
    "_uuid": "b07c99d3ceffa3634714f23ab3e27b7d1c6fb3e1"
   },
   "outputs": [],
   "source": [
    "# Plot the forecast with the actuals\n",
    "f, ax = plt.subplots(1)\n",
    "f.set_figheight(5)\n",
    "f.set_figwidth(15)\n",
    "_ = pjme_all[['MW_Prediction','PJME_MW']].plot(ax=ax,\n",
    "                                              style=['-','.'])\n",
    "ax.set_xbound(lower='01-01-2015', upper='02-01-2015')\n",
    "ax.set_ylim(0, 60000)\n",
    "plot = plt.suptitle('January 2015 Forecast vs Actuals')"
   ]
  },
  {
   "cell_type": "markdown",
   "metadata": {
    "_uuid": "7c46fb18df1f2a56cf2ab082814d890d34e54e4e"
   },
   "source": []
  },
  {
   "cell_type": "code",
   "execution_count": null,
   "metadata": {
    "_uuid": "153d79e6a408c5705b5c4a19ef100449d0c38d8b"
   },
   "outputs": [],
   "source": [
    "# Построим прогноз с фактическими данными\n",
    "f, ax = plt.subplots(1)\n",
    "f.set_figheight(5)\n",
    "f.set_figwidth(15)\n",
    "_ = pjme_all[['MW_Prediction','PJME_MW']].plot(ax=ax,\n",
    "                                              style=['-','.'])\n",
    "ax.set_xbound(lower='01-01-2015', upper='01-08-2015')\n",
    "ax.set_ylim(0, 60000)\n",
    "plot = plt.suptitle('First Week of January Forecast vs Actuals')"
   ]
  },
  {
   "cell_type": "code",
   "execution_count": null,
   "metadata": {
    "_uuid": "8e24f91a3a71acd6d16eb930381d5b9baabffae2"
   },
   "outputs": [],
   "source": [
    "f, ax = plt.subplots(1)\n",
    "f.set_figheight(5)\n",
    "f.set_figwidth(15)\n",
    "_ = pjme_all[['MW_Prediction','PJME_MW']].plot(ax=ax,\n",
    "                                              style=['-','.'])\n",
    "ax.set_ylim(0, 60000)\n",
    "ax.set_xbound(lower='07-01-2015', upper='07-08-2015')\n",
    "plot = plt.suptitle('First Week of July Forecast vs Actuals')"
   ]
  },
  {
   "cell_type": "markdown",
   "metadata": {
    "_uuid": "31964c9653b64c3e3f6fe48f5b3d7eb1987eaf84"
   },
   "source": [
    "# Ошибки на Test Set\n",
    " RMSE  is 13780445  \n",
    " MAE  is 2848.89  \n",
    " MAPE  is 8.9%"
   ]
  },
  {
   "cell_type": "code",
   "execution_count": null,
   "metadata": {
    "_uuid": "baf33e07988ad1860ab3fee31817cba797110879"
   },
   "outputs": [],
   "source": [
    "mean_squared_error(y_true=pjme_test['PJME_MW'],\n",
    "                   y_pred=pjme_test['MW_Prediction'])"
   ]
  },
  {
   "cell_type": "code",
   "execution_count": null,
   "metadata": {
    "_uuid": "4943521452099c82efb7fd00da4305b457a52fc0"
   },
   "outputs": [],
   "source": [
    "mean_absolute_error(y_true=pjme_test['PJME_MW'],\n",
    "                   y_pred=pjme_test['MW_Prediction'])"
   ]
  },
  {
   "cell_type": "markdown",
   "metadata": {
    "_uuid": "3bfa58efee593e8ea8a8accdcd981b6b9cde5146"
   },
   "source": [
    "Неплохо использовать средний абсолютный процент ошибки, потому что он дает легко интерпретируемый процент, показывающий, насколько ошибочны прогнозы.\n",
    "MAPE не включен в sklearn, поэтому нам нужно использовать настраиваемую функцию."
   ]
  },
  {
   "cell_type": "code",
   "execution_count": null,
   "metadata": {
    "_uuid": "32fcb6d7905e2847a18e89e310b0a61bfc6c3321"
   },
   "outputs": [],
   "source": [
    "def mean_absolute_percentage_error(y_true, y_pred): \n",
    "    \"\"\"считаем MAPE по y_true и y_pred\"\"\"\n",
    "    y_true, y_pred = np.array(y_true), np.array(y_pred)\n",
    "    return np.mean(np.abs((y_true - y_pred) / y_true)) * 100"
   ]
  },
  {
   "cell_type": "code",
   "execution_count": null,
   "metadata": {
    "_uuid": "eb095dfe68dccdc10f545d2345e3ed10865102dd"
   },
   "outputs": [],
   "source": [
    "mean_absolute_percentage_error(y_true=pjme_test['PJME_MW'],\n",
    "                   y_pred=pjme_test['MW_Prediction'])"
   ]
  },
  {
   "cell_type": "markdown",
   "metadata": {
    "_uuid": "5f5225264a6ae80a24b4c2802eff73f576aa4867"
   },
   "source": [
    "# Посмотрим на худшие и лучшие прогнозируемые дни"
   ]
  },
  {
   "cell_type": "code",
   "execution_count": null,
   "metadata": {
    "_uuid": "fb1fcc67506951b7a9708cce9463f899b98a7b37"
   },
   "outputs": [],
   "source": [
    "pjme_test['error'] = pjme_test['PJME_MW'] - pjme_test['MW_Prediction']\n",
    "pjme_test['abs_error'] = pjme_test['error'].apply(np.abs)\n",
    "error_by_day = pjme_test.groupby(['year','month','dayofmonth']) \\\n",
    "    .mean()[['PJME_MW','MW_Prediction','error','abs_error']]"
   ]
  },
  {
   "cell_type": "code",
   "execution_count": null,
   "metadata": {
    "_uuid": "6364555e8bed275076f6f6ee93c8537da3741aba"
   },
   "outputs": [],
   "source": [
    "# За прогнозные дни\n",
    "error_by_day.sort_values('error', ascending=True).head(10)"
   ]
  },
  {
   "cell_type": "markdown",
   "metadata": {
    "_uuid": "adcc6c413889583c4ab195d3b9933827ff630762"
   },
   "source": [
    "\n",
    "- Худший день №1 - 4 июля 2016 года - выходной.\n",
    "- Худший день # 3 - 25 декабря 2015 - Рождество\n",
    "- Худший день №5 - 4 июля 2016 года - выходной.\n",
    "\n",
    "Похоже, наша модель может улучшиться после добавления индикатора праздника."
   ]
  },
  {
   "cell_type": "code",
   "execution_count": null,
   "metadata": {
    "_uuid": "72ee8685aea837bc274cec93c2fabb108b6a107d"
   },
   "outputs": [],
   "source": [
    "# Худшие абсолютные прогнозируемые дни\n",
    "error_by_day.sort_values('abs_error', ascending=False).head(10)"
   ]
  },
  {
   "cell_type": "markdown",
   "metadata": {
    "_uuid": "0f4c1097312214cb35781d1e692a50b9a4c75654"
   },
   "source": [
    "Больше хорошо спрогнозируемых дней в октябре (не много праздников). Также ранний май."
   ]
  },
  {
   "cell_type": "code",
   "execution_count": null,
   "metadata": {
    "_uuid": "faf0e5530e1f02fb82022813780562c42a911493"
   },
   "outputs": [],
   "source": [
    "# Лучшие прогнозируемые дни\n",
    "error_by_day.sort_values('abs_error', ascending=True).head(10)"
   ]
  },
  {
   "cell_type": "markdown",
   "metadata": {
    "_uuid": "0f78f528ca59a1e1cfb253ab69651149a5018b3b"
   },
   "source": [
    "# Построение лучших / худших прогнозируемых дней"
   ]
  },
  {
   "cell_type": "code",
   "execution_count": null,
   "metadata": {
    "_uuid": "fd9d1df9db6153690488549f11cfd32c87cce960"
   },
   "outputs": [],
   "source": [
    "f, ax = plt.subplots(1)\n",
    "f.set_figheight(5)\n",
    "f.set_figwidth(10)\n",
    "_ = pjme_all[['MW_Prediction','PJME_MW']].plot(ax=ax,\n",
    "                                              style=['-','.'])\n",
    "ax.set_ylim(0, 60000)\n",
    "ax.set_xbound(lower='08-13-2016', upper='08-14-2016')\n",
    "plot = plt.suptitle('Aug 13, 2016 - Дни с наихудшим предсказанием')"
   ]
  },
  {
   "cell_type": "code",
   "execution_count": null,
   "metadata": {
    "_uuid": "39eac1134b1278e7dd5f848ea03e7246d730b97f"
   },
   "outputs": [],
   "source": [
    "f, ax = plt.subplots(1)\n",
    "f.set_figheight(5)\n",
    "f.set_figwidth(10)\n",
    "_ = pjme_all[['MW_Prediction','PJME_MW']].plot(ax=ax,\n",
    "                                              style=['-','.'])\n",
    "ax.set_ylim(0, 60000)\n",
    "ax.set_xbound(lower='10-03-2016', upper='10-04-2016')\n",
    "plot = plt.suptitle('Oct 3, 2016 - Дни с наилучшим предсказанием')"
   ]
  },
  {
   "cell_type": "markdown",
   "metadata": {},
   "source": [
    "# Сравним с CatBoost"
   ]
  },
  {
   "cell_type": "code",
   "execution_count": null,
   "metadata": {},
   "outputs": [],
   "source": [
    "cbr = CatBoostRegressor(n_estimators=1000)\n",
    "cbr.fit(X_train, y_train,\n",
    "        eval_set=[(X_train, y_train), (X_test, y_test)],\n",
    "        early_stopping_rounds=50,\n",
    "       verbose=False)"
   ]
  },
  {
   "cell_type": "code",
   "execution_count": null,
   "metadata": {},
   "outputs": [],
   "source": [
    "pjme_test['MW_Prediction_catboost'] = cbr.predict(X_test)\n",
    "pjme_all = pd.concat([pjme_test, pjme_train], sort=False)"
   ]
  },
  {
   "cell_type": "code",
   "execution_count": null,
   "metadata": {},
   "outputs": [],
   "source": [
    "mean_squared_error(y_true=pjme_test['PJME_MW'],\n",
    "                   y_pred=pjme_test['MW_Prediction_catboost']), mean_absolute_error(y_true=pjme_test['PJME_MW'],\n",
    "                   y_pred=pjme_test['MW_Prediction_catboost'])"
   ]
  },
  {
   "cell_type": "code",
   "execution_count": null,
   "metadata": {},
   "outputs": [],
   "source": [
    "mean_absolute_percentage_error(y_true=pjme_test['PJME_MW'],\n",
    "                   y_pred=pjme_test['MW_Prediction_catboost'])"
   ]
  },
  {
   "cell_type": "markdown",
   "metadata": {},
   "source": [
    "Ошибка не сильно отличается от результатов XGBoost, но как правило, требуется дополнительная настройка модели и добавление признаков."
   ]
  },
  {
   "cell_type": "markdown",
   "metadata": {
    "_uuid": "4cd7f2212c6ca87a2ffb2b8ea12a3581e4ee4027"
   },
   "source": [
    "# Что дальше?\n",
    "- Можно добавить лаги\n",
    "- Добавить праздники\n",
    "- Добавить погодные условия"
   ]
  },
  {
   "cell_type": "code",
   "execution_count": null,
   "metadata": {},
   "outputs": [],
   "source": []
  }
 ],
 "metadata": {
  "kernelspec": {
   "display_name": "Python 3",
   "language": "python",
   "name": "python3"
  },
  "language_info": {
   "codemirror_mode": {
    "name": "ipython",
    "version": 3
   },
   "file_extension": ".py",
   "mimetype": "text/x-python",
   "name": "python",
   "nbconvert_exporter": "python",
   "pygments_lexer": "ipython3",
   "version": "3.8.5"
  }
 },
 "nbformat": 4,
 "nbformat_minor": 1
}
