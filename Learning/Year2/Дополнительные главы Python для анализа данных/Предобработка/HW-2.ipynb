{
 "cells": [
  {
   "cell_type": "code",
   "execution_count": 1,
   "metadata": {},
   "outputs": [],
   "source": [
    "import pandas as pd\n",
    "from pymorphy3 import MorphAnalyzer\n",
    "from stop_words import get_stop_words\n",
    "from string import punctuation\n",
    "\n",
    "import os\n",
    "import string\n",
    "import annoy\n",
    "import codecs\n",
    "import re\n",
    "\n",
    "from gensim.models import Word2Vec\n",
    "\n",
    "import numpy as np\n",
    "from tqdm.notebook import tqdm\n",
    "\n",
    "from sklearn import model_selection, preprocessing\n",
    "from sklearn.feature_extraction.text import TfidfVectorizer, CountVectorizer, HashingVectorizer\n",
    "\n",
    "import pickle\n",
    "import matplotlib.pyplot as plt\n",
    "from sklearn import linear_model, metrics"
   ]
  },
  {
   "cell_type": "code",
   "execution_count": 2,
   "metadata": {},
   "outputs": [],
   "source": [
    "df_prod = pd.read_csv('data/ProductsDataset.csv')"
   ]
  },
  {
   "cell_type": "markdown",
   "metadata": {},
   "source": [
    "Вытаскиваем первые 200000 вопросов, затем сохранение в файл, ибо очень долго обрабатывается, причина ограничения по числу так же в долгой обработке"
   ]
  },
  {
   "cell_type": "code",
   "execution_count": null,
   "metadata": {},
   "outputs": [],
   "source": [
    "#question = None\n",
    "#written = False\n",
    "#df_question = pd.DataFrame(columns=['question', 'answer'])\n",
    "#с = 0\n",
    "\n",
    "#Мы идем по всем записям, берем первую строку как вопрос\n",
    "# и после знака --- находим ответ\n",
    "#with codecs.open(\"data/Otvety.txt\", \"r\", \"utf-8\") as fin:\n",
    "#    for line in tqdm(fin):\n",
    "#        if с==0:\n",
    "#            с+=1\n",
    "#            continue\n",
    "#        if line.startswith(\"---\"):\n",
    "#            written = False\n",
    "#            continue\n",
    "#        if not written and question is not None:\n",
    "#            df_question.loc[len(df_question)] = [question.replace(\"\\t\", \" \").strip(), line.replace(\"\\t\", \" \")]\n",
    "#            written = True\n",
    "#            question = None\n",
    "#            continue\n",
    "#        if not written:\n",
    "#            question = line.strip()\n",
    "#            с += 1\n",
    "#            if с > 200000:\n",
    "#                break\n",
    "#            continue"
   ]
  },
  {
   "cell_type": "code",
   "execution_count": 268,
   "metadata": {},
   "outputs": [],
   "source": [
    "#df_question.to_csv('data/Question.csv', index=False)"
   ]
  },
  {
   "cell_type": "code",
   "execution_count": 3,
   "metadata": {},
   "outputs": [],
   "source": [
    "df_question = pd.read_csv('data/Question.csv')"
   ]
  },
  {
   "cell_type": "code",
   "execution_count": 4,
   "metadata": {},
   "outputs": [],
   "source": [
    "#удаление пустых значений в важных столбцах, сброс индексов\n",
    "df_prod.drop(df_prod[df_prod['descrirption'].isna()==True].index, inplace=True)\n",
    "df_prod.drop(df_prod[df_prod['product_id'].isna()==True].index, inplace=True)\n",
    "df_prod.reset_index(inplace=True)\n",
    "\n",
    "#соединение в одну таблицу для логистической регрессии\n",
    "df = pd.DataFrame(list(zip(df_prod.title, [0]*(df_prod.shape[0]))), columns=['text', 'label'])\n",
    "new_row = pd.DataFrame(list(zip(df_prod['descrirption'], [0]*(df_prod.shape[0]))), columns=['text', 'label'])\n",
    "df = pd.concat([df, new_row], ignore_index=True)\n",
    "new_row = pd.DataFrame(list(zip(df_question.question, [1]*(df_question.shape[0]))), columns=['text', 'label'])\n",
    "df = pd.concat([df, new_row], ignore_index=True)"
   ]
  },
  {
   "cell_type": "code",
   "execution_count": 5,
   "metadata": {},
   "outputs": [],
   "source": [
    "#функция предобработки текста\n",
    "exclude = set(punctuation)\n",
    "sw = set(get_stop_words(\"ru\"))\n",
    "morpher = MorphAnalyzer()\n",
    "\n",
    "def preprocess_txt(txt):\n",
    "    txt = str(txt)\n",
    "    txt = \"\".join(c for c in txt if c not in exclude)\n",
    "    txt = txt.lower().split()\n",
    "    txt = [morpher.parse(word)[0].normal_form for word in txt]\n",
    "    txt = [i for i in txt if i not in sw and i != \"\"]\n",
    "    txt = [''.join(x for x in i if x.isalpha() or x.isdigit()) for i in txt]\n",
    "    return txt"
   ]
  },
  {
   "cell_type": "code",
   "execution_count": 6,
   "metadata": {},
   "outputs": [],
   "source": [
    "#предобработка текста\n",
    "df.text = df.text.apply(lambda x: preprocess_txt(x))\n",
    "#для w2v нужны списки слов, а для логистической регрессии нужна предобработанная строка,\n",
    "#поэтому оставляем предобработанную таблицу чтобы не пересчитывать,\n",
    "#а для модели регрессии обработаем текст в отдельной таблице\n",
    "df_model = df.copy()\n",
    "df_model.text = df_model.text.apply(lambda x: ' '.join(str(i) for i in x))"
   ]
  },
  {
   "cell_type": "code",
   "execution_count": 7,
   "metadata": {},
   "outputs": [],
   "source": [
    "#тоже долго считается, поэтому отдельно сохранила в файлы\n",
    "df.to_csv('data/All.csv', index=False)\n",
    "df_model.to_csv('data/All_model.csv', index=False)"
   ]
  },
  {
   "cell_type": "markdown",
   "metadata": {},
   "source": [
    "### Классификация запросов"
   ]
  },
  {
   "cell_type": "code",
   "execution_count": 8,
   "metadata": {},
   "outputs": [
    {
     "data": {
      "image/png": "[encoded data removed]",
      "text/plain": [
       "<Figure size 640x480 with 1 Axes>"
      ]
     },
     "metadata": {},
     "output_type": "display_data"
    }
   ],
   "source": [
    "plt.hist(df_model.label)\n",
    "plt.show()"
   ]
  },
  {
   "cell_type": "markdown",
   "metadata": {},
   "source": [
    "Классы не сбалансированы."
   ]
  },
  {
   "cell_type": "code",
   "execution_count": 9,
   "metadata": {},
   "outputs": [],
   "source": [
    "train_x, valid_x, train_y, valid_y = model_selection.train_test_split(df_model['text'], df_model['label'], stratify=df_model['label'])\n",
    "\n",
    "count_vect = CountVectorizer().fit(train_x)\n",
    "\n",
    "xtrain_count = count_vect.transform(train_x)\n",
    "xvalid_count = count_vect.transform(valid_x)\n",
    "\n",
    "hash_vec = HashingVectorizer().fit(train_x)\n",
    "xtrain_has = hash_vec.transform(train_x)\n",
    "xvalid_has = hash_vec.transform(valid_x)\n",
    "\n",
    "tfidf_vec = TfidfVectorizer().fit(train_x)\n",
    "xtrain_tfidf = tfidf_vec.transform(train_x)\n",
    "xvalid_tfidf = tfidf_vec.transform(valid_x)\n",
    "\n",
    "tfidf_vec_ngrams = TfidfVectorizer(ngram_range=(1, 3)).fit(train_x)\n",
    "xtrain_tfidf_ngram = tfidf_vec_ngrams.transform(train_x)\n",
    "xvalid_tfidf_ngram = tfidf_vec_ngrams.transform(valid_x)"
   ]
  },
  {
   "cell_type": "code",
   "execution_count": 10,
   "metadata": {},
   "outputs": [],
   "source": [
    "#функция для построения модели на данных с различными способами векторизации\n",
    "def train_model(classifier, feature_vector_train, label, feature_vector_valid, is_neural_net=False):\n",
    "    classifier.fit(feature_vector_train, label)\n",
    "    \n",
    "    predictions = classifier.predict(feature_vector_valid)\n",
    "    \n",
    "    if is_neural_net:\n",
    "        predictions = predictions.argmax(axis=-1)\n",
    "    \n",
    "    return metrics.accuracy_score(predictions, valid_y)"
   ]
  },
  {
   "cell_type": "code",
   "execution_count": 11,
   "metadata": {},
   "outputs": [
    {
     "name": "stdout",
     "output_type": "stream",
     "text": [
      "LR, Count Vectors:  0.9748678239249929\n",
      "LR, HashingVectorizer:  0.9726511600041937\n",
      "LR, WordLevel TF-IDF:  0.9732951907379394\n",
      "LR, N-Gram Vectors:  0.9708538649332754\n"
     ]
    }
   ],
   "source": [
    "# Linear Classifier на Count Vectors\n",
    "accuracy = train_model(linear_model.LogisticRegression(), xtrain_count, train_y, xvalid_count)\n",
    "print(\"LR, Count Vectors: \", accuracy)\n",
    "\n",
    "# Linear Classifier на Hashing Vectors\n",
    "accuracy = train_model(linear_model.LogisticRegression(), xtrain_has, train_y, xvalid_has)\n",
    "print(\"LR, HashingVectorizer: \", accuracy)\n",
    "\n",
    "# Linear Classifier на Ngram Level TF IDF Vectors\n",
    "accuracy = train_model(linear_model.LogisticRegression(), xtrain_tfidf, train_y, xvalid_tfidf)\n",
    "print(\"LR, WordLevel TF-IDF: \", accuracy)\n",
    "\n",
    "# Linear Classifier на Ngram Level TF IDF Vectors\n",
    "accuracy = train_model(linear_model.LogisticRegression(), xtrain_tfidf_ngram, train_y, xvalid_tfidf_ngram)\n",
    "print(\"LR, N-Gram Vectors: \", accuracy)"
   ]
  },
  {
   "cell_type": "markdown",
   "metadata": {},
   "source": [
    "Лучшие результаты у логистической регрессии на Count Vectors. Также сохранение модели в файл."
   ]
  },
  {
   "cell_type": "code",
   "execution_count": 12,
   "metadata": {},
   "outputs": [],
   "source": [
    "model = linear_model.LogisticRegression().fit(xtrain_count, train_y)\n",
    "\n",
    "with open(\"data/model_lr.pkl\", \"wb\") as f:\n",
    "    pickle.dump(model, f)"
   ]
  },
  {
   "cell_type": "markdown",
   "metadata": {},
   "source": [
    "### Обучение W2V на продуктовых запросах"
   ]
  },
  {
   "cell_type": "code",
   "execution_count": 13,
   "metadata": {},
   "outputs": [],
   "source": [
    "sentences_prod = []\n",
    "c = 2*len(df_prod)\n",
    "\n",
    "for i in range(0, c):\n",
    "    sentences_prod.append(df.text.loc[i])"
   ]
  },
  {
   "cell_type": "code",
   "execution_count": 14,
   "metadata": {},
   "outputs": [],
   "source": [
    "# Обучим модель word2vec на наших вопросах\n",
    "sentences_prod = [i for i in sentences_prod if len(i) > 2]\n",
    "model_prod = Word2Vec(sentences=sentences_prod, vector_size=100, min_count=1, window=5)\n",
    "model_prod.save(\"data/w2v_model_prod\")"
   ]
  },
  {
   "cell_type": "code",
   "execution_count": 15,
   "metadata": {},
   "outputs": [
    {
     "data": {
      "text/plain": [
       "True"
      ]
     },
     "execution_count": 15,
     "metadata": {},
     "output_type": "execute_result"
    }
   ],
   "source": [
    "#построение индекса\n",
    "index_prod = annoy.AnnoyIndex(100 ,'angular')\n",
    "\n",
    "index_map_prod = {}\n",
    "counter = 0\n",
    "\n",
    "for i in range(0, len(df_prod)):\n",
    "    n_w2v = 0\n",
    "    n_w2v_des = 0\n",
    "    index_map_prod[counter] = ' '.join([str(df_prod.product_id.loc[i]), str(df_prod.title.loc[i])])\n",
    "    index_map_prod[counter+len(df_prod)] = ' '.join([str(df_prod.product_id.loc[i]), str(df_prod.title.loc[i])])\n",
    "    text = preprocess_txt(df_prod.title.loc[i])\n",
    "    text_des = preprocess_txt(df_prod.descrirption.loc[i])\n",
    "    vector = np.zeros(100)\n",
    "    vector_des = np.zeros(100)\n",
    "    for word in text:\n",
    "        if word in model_prod.wv:\n",
    "            vector += model_prod.wv[word]\n",
    "            n_w2v += 1\n",
    "    if n_w2v > 0:\n",
    "        vector = vector / n_w2v\n",
    "    for word in text_des:\n",
    "        if word in model_prod.wv:\n",
    "            vector_des += model_prod.wv[word]\n",
    "            n_w2v_des += 1\n",
    "    if n_w2v_des > 0:\n",
    "        vector_des = vector_des / n_w2v_des\n",
    "    index_prod.add_item(counter, vector)\n",
    "    index_prod.add_item(counter+len(df_prod), vector_des)\n",
    "            \n",
    "    counter += 1\n",
    "\n",
    "index_prod.build(10)\n",
    "index_prod.save('data/prod.ann')"
   ]
  },
  {
   "cell_type": "markdown",
   "metadata": {},
   "source": [
    "### Обучение W2V на вопросах из болталки"
   ]
  },
  {
   "cell_type": "code",
   "execution_count": 16,
   "metadata": {},
   "outputs": [],
   "source": [
    "sentences_quest = []\n",
    "c = 2*len(df_prod)\n",
    "\n",
    "for i in range(c, len(df)):\n",
    "    sentences_quest.append(df.text.loc[i])"
   ]
  },
  {
   "cell_type": "code",
   "execution_count": 17,
   "metadata": {},
   "outputs": [],
   "source": [
    "# Обучим модель word2vec на наших вопросах\n",
    "sentences_quest = [i for i in sentences_quest if len(i) > 2]\n",
    "model_quest = Word2Vec(sentences=sentences_quest, vector_size=100, min_count=1, window=5)\n",
    "model_quest.save(\"data/w2v_model_quest\")"
   ]
  },
  {
   "cell_type": "code",
   "execution_count": 18,
   "metadata": {},
   "outputs": [
    {
     "data": {
      "text/plain": [
       "True"
      ]
     },
     "execution_count": 18,
     "metadata": {},
     "output_type": "execute_result"
    }
   ],
   "source": [
    "index_quest = annoy.AnnoyIndex(100 ,'angular')\n",
    "\n",
    "index_map_quest = {}\n",
    "counter = 0\n",
    "\n",
    "for i in range(0, len(df_question)):\n",
    "    n_w2v = 0\n",
    "    index_map_quest[counter] = df_question.answer.loc[i]\n",
    "    question = preprocess_txt(df_question.question.loc[i])\n",
    "    vector = np.zeros(100)\n",
    "    for word in question:\n",
    "        if word in model_quest.wv:\n",
    "            vector += model_quest.wv[word]\n",
    "            n_w2v += 1\n",
    "    if n_w2v > 0:\n",
    "        vector = vector / n_w2v\n",
    "    index_quest.add_item(counter, vector)\n",
    "            \n",
    "    counter += 1\n",
    "\n",
    "index_quest.build(10)\n",
    "index_quest.save('data/speaker.ann')"
   ]
  },
  {
   "cell_type": "markdown",
   "metadata": {},
   "source": [
    "### Функции для обработки продуктовых запросов, вопросов из болталки и общая функция обработки входящих запросов."
   ]
  },
  {
   "cell_type": "code",
   "execution_count": 78,
   "metadata": {},
   "outputs": [],
   "source": [
    "\n",
    "def product(txt):    \n",
    "    n_w2v = 0\n",
    "    vector = np.zeros(100)\n",
    "    for word in txt:\n",
    "        if word in model_prod.wv:\n",
    "            vector += model_prod.wv[word]\n",
    "            n_w2v += 1\n",
    "    if n_w2v > 0:\n",
    "        vector = vector / n_w2v\n",
    "    answer_index = index_prod.get_nns_by_vector(vector, 1)\n",
    "    return index_map_prod[answer_index[0]]"
   ]
  },
  {
   "cell_type": "code",
   "execution_count": 79,
   "metadata": {},
   "outputs": [],
   "source": [
    "\n",
    "def question(txt):    \n",
    "    n_w2v = 0\n",
    "    vector = np.zeros(100)\n",
    "    for word in txt:\n",
    "        if word in model_quest.wv:\n",
    "            vector += model_quest.wv[word]\n",
    "            n_w2v += 1\n",
    "    if n_w2v > 0:\n",
    "        vector = vector / n_w2v\n",
    "    answer_index = index_quest.get_nns_by_vector(vector, 1)\n",
    "    return index_map_quest[answer_index[0]]"
   ]
  },
  {
   "cell_type": "code",
   "execution_count": 89,
   "metadata": {},
   "outputs": [],
   "source": [
    "def get_answer(txt):\n",
    "    preprocessed_text = preprocess_txt(txt)\n",
    "    preprocessed_text_model = ' '.join(str(i) for i in preprocessed_text)\n",
    "    with open(\"data/model_lr.pkl\", \"wb\") as f:\n",
    "        pickle.dump(model, f)\n",
    "    preprocessed_text_model = count_vect.transform([preprocessed_text_model])\n",
    "    predictions = model.predict(preprocessed_text_model)\n",
    "    if predictions[0]==0:\n",
    "        return product(preprocessed_text)\n",
    "    if predictions[0]==1:\n",
    "        return question(preprocessed_text)"
   ]
  },
  {
   "cell_type": "code",
   "execution_count": 95,
   "metadata": {},
   "outputs": [
    {
     "data": {
      "text/plain": [
       "True"
      ]
     },
     "execution_count": 95,
     "metadata": {},
     "output_type": "execute_result"
    }
   ],
   "source": [
    "get_answer('Юбка детская ORBY').startswith('58e3cfe6132ca50e053f5f82')"
   ]
  },
  {
   "cell_type": "code",
   "execution_count": 96,
   "metadata": {},
   "outputs": [
    {
     "data": {
      "text/plain": [
       "True"
      ]
     },
     "execution_count": 96,
     "metadata": {},
     "output_type": "execute_result"
    }
   ],
   "source": [
    "not get_answer('Где ключи от танка').startswith('5')"
   ]
  }
 ],
 "metadata": {
  "kernelspec": {
   "display_name": "base",
   "language": "python",
   "name": "python3"
  },
  "language_info": {
   "codemirror_mode": {
    "name": "ipython",
    "version": 3
   },
   "file_extension": ".py",
   "mimetype": "text/x-python",
   "name": "python",
   "nbconvert_exporter": "python",
   "pygments_lexer": "ipython3",
   "version": "3.11.11"
  }
 },
 "nbformat": 4,
 "nbformat_minor": 2
}
