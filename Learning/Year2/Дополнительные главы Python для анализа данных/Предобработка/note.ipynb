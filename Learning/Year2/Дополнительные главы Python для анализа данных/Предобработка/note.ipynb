{
 "cells": [
  {
   "cell_type": "code",
   "execution_count": 9,
   "metadata": {},
   "outputs": [],
   "source": [
    "import pandas as pd\n",
    "\n",
    "s = pd.Series(\n",
    "    [\"Разруха не в клозетах, а в головах. \",\n",
    "     \"Люди как люди. Любят деньги, но ведь это всегда было.\",\n",
    "     \"Там хорошо, где нас нет: в прошлом нас уже нет, и оно кажется прекрасным.\",\n",
    "     \"Нет силы более могучей, чем знание; человек, вооружённый знанием, — непобедим.\"\n",
    "     ],\n",
    "    dtype=\"string\"\n",
    ")"
   ]
  },
  {
   "cell_type": "code",
   "execution_count": 10,
   "metadata": {},
   "outputs": [
    {
     "name": "stdout",
     "output_type": "stream",
     "text": [
      "0          [РАЗРУХА, НЕ, В, КЛОЗЕТАХ, А, В, ГОЛОВАХ, ]\n",
      "1    [ЛЮДИ, КАК, ЛЮДИ, ЛЮБЯТ, ДЕНЬГИ, НО, ВЕДЬ, ЭТО...\n",
      "2    [ТАМ, ХОРОШО, ГДЕ, НАС, НЕТ, В, ПРОШЛОМ, НАС, ...\n",
      "3    [НЕТ, СИЛЫ, БОЛЕЕ, МОГУЧЕЙ, ЧЕМ, ЗНАНИЕ, ЧЕЛОВ...\n",
      "dtype: object\n"
     ]
    }
   ],
   "source": [
    "import string\n",
    "\n",
    "# Создаем множество из символов пунктуации\n",
    "exclude = set(string.punctuation)\n",
    "\n",
    "# Заменяем символы пунктуации на пустые строки\n",
    "s = s.str.replace(f'[{string.punctuation}]', '', regex=True)\n",
    "# Приводим тексты к нижнему регистру\n",
    "s = s.str.upper()\n",
    "# Разделяем тексты по пробелу\n",
    "s = s.str.split(' ')\n",
    "print(s)"
   ]
  },
  {
   "cell_type": "code",
   "execution_count": 17,
   "metadata": {},
   "outputs": [],
   "source": [
    "import pandas as pd\n",
    "import string\n",
    "import pymorphy3\n",
    "from nltk.corpus import stopwords\n",
    "\n",
    "morpher = pymorphy3.MorphAnalyzer()\n",
    "\n",
    "stop_words = set(stopwords.words('russian'))\n",
    "sw = set(stop_words)\n",
    "\n",
    "def preprocess_txt(line):\n",
    "    # Почистим строку от пунктуации. Для этого пробежимся по каждому символу и проверим, не является ли он знаком пунктуации\n",
    "    exclude = set(string.punctuation)\n",
    "    spls = \"\".join(i for i in line.strip() if i not in exclude).split()\n",
    "    # Лемматизируем все слова в нашем тексте\n",
    "    spls = [morpher.parse(i.lower())[0].normal_form for i in spls]\n",
    "    spls = [i for i in spls if i not in sw and i != \"\"]\n",
    "    return spls"
   ]
  },
  {
   "cell_type": "code",
   "execution_count": 18,
   "metadata": {},
   "outputs": [
    {
     "name": "stdout",
     "output_type": "stream",
     "text": [
      "0                            [разруха, клозет, голова]\n",
      "1              [человек, человек, любить, деньга, это]\n",
      "2                 [прошлый, оно, казаться, прекрасный]\n",
      "3    [сила, могучий, знание, человек, вооружённый, ...\n",
      "dtype: object\n"
     ]
    }
   ],
   "source": [
    "s = pd.Series(\n",
    "    [\"Разруха не в клозетах, а в головах. \",\n",
    "     \"Люди как люди. Любят деньги, но ведь это всегда было.\",\n",
    "     \"Там хорошо, где нас нет: в прошлом нас уже нет, и оно кажется прекрасным.\",\n",
    "     \"Нет силы более могучей, чем знание; человек, вооружённый знанием, — непобедим.\"\n",
    "     ],\n",
    "    dtype=\"string\"\n",
    ")\n",
    "\n",
    "# Применяем функцию для предобработки к Series\n",
    "s = s.apply(lambda x: preprocess_txt(x))\n",
    "print(s)"
   ]
  },
  {
   "cell_type": "code",
   "execution_count": 31,
   "metadata": {},
   "outputs": [
    {
     "name": "stdout",
     "output_type": "stream",
     "text": [
      "0    Авторитет и дружба вода и огонь, вещи разнород...\n",
      "1    Нет силы более могучей, чем знание; человек, в...\n",
      "2    Истинная сила человека не в порывах, а в неруш...\n",
      "3                Величайшее богатство народа его язык.\n",
      "Name: text, dtype: object\n",
      "0    [дружбы, условие, равенство, враждебные, и, ра...\n",
      "1    [непобедим, знанием, вооружённый, человек, зна...\n",
      "2    [спокойствии, нерушимом, в, а, порывах, в, не,...\n",
      "3           [язык, его, народа, богатство, величайшее]\n",
      "Name: text, dtype: object\n"
     ]
    }
   ],
   "source": [
    "import pandas as pd\n",
    "import string\n",
    "\n",
    "data = pd.DataFrame({\n",
    "    'label': [\n",
    "        'В. Белинский',\n",
    "        'М. Горький',\n",
    "        'Л. Толстой',\n",
    "        'М. Шолохов'\n",
    "        ],\n",
    "    'text': [\n",
    "        \"Авторитет и дружба вода и огонь, вещи разнородные и враждебные; равенство условие дружбы.\",\n",
    "        \"Нет силы более могучей, чем знание; человек, вооружённый знанием, непобедим.\",\n",
    "        \"Истинная сила человека не в порывах, а в нерушимом спокойствии.\",\n",
    "        \"Величайшее богатство народа его язык.\"\n",
    "     ]\n",
    "})\n",
    "\n",
    "def preprocess_txt(line):\n",
    "    l = line.str.replace(f'[{string.punctuation}]', '', regex=True)\n",
    "    l = l.str.lower().str.strip().str.split(' ')\n",
    "    for i in range(0,len(l)):\n",
    "        l[i] = list(reversed(l[i]))\n",
    "    return l\n",
    "\n",
    "data.text = preprocess_txt(data.text)\n",
    "print(data.text)"
   ]
  }
 ],
 "metadata": {
  "kernelspec": {
   "display_name": "Python 3",
   "language": "python",
   "name": "python3"
  },
  "language_info": {
   "codemirror_mode": {
    "name": "ipython",
    "version": 3
   },
   "file_extension": ".py",
   "mimetype": "text/x-python",
   "name": "python",
   "nbconvert_exporter": "python",
   "pygments_lexer": "ipython3",
   "version": "3.12.8"
  }
 },
 "nbformat": 4,
 "nbformat_minor": 2
}
