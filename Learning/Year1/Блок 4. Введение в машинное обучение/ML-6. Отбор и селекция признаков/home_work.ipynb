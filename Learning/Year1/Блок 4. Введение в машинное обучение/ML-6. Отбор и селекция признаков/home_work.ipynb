{
 "cells": [
  {
   "cell_type": "code",
   "execution_count": 92,
   "metadata": {},
   "outputs": [],
   "source": [
    "import pandas as pd\n",
    "import matplotlib.pyplot as plt\n",
    "from comet_ml import Experiment\n",
    "from sklearn.linear_model import LinearRegression, LogisticRegression\n",
    "from sklearn.preprocessing import LabelEncoder\n",
    "from sklearn.preprocessing import OneHotEncoder\n",
    "from sklearn.model_selection import train_test_split\n",
    "import seaborn as sns\n",
    "from  sklearn.ensemble import IsolationForest\n",
    "from sklearn.metrics import mean_absolute_error\n",
    "from sklearn.feature_selection import RFE\n",
    "from sklearn.feature_selection import SelectKBest, f_regression"
   ]
  },
  {
   "cell_type": "code",
   "execution_count": 81,
   "metadata": {},
   "outputs": [
    {
     "name": "stderr",
     "output_type": "stream",
     "text": [
      "\u001b[1;38;5;214mCOMET WARNING:\u001b[0m As you are running in a Jupyter environment, you will need to call `experiment.end()` when finished to ensure all metrics and code are logged before exiting.\n",
      "\u001b[1;38;5;39mCOMET INFO:\u001b[0m Experiment is live on comet.com https://www.comet.com/webbigail1/home-work-price-may/9da8dc99996746d3b68c81e3e27f0fdd\n",
      "\n"
     ]
    }
   ],
   "source": [
    "experiment = Experiment(\n",
    "    api_key=\"***\",\n",
    "    project_name=\"home_work_price_may\",\n",
    "    workspace=\"webbigail1\",\n",
    "    log_code=True\n",
    ")"
   ]
  },
  {
   "cell_type": "markdown",
   "metadata": {},
   "source": [
    "## Загрузка данных"
   ]
  },
  {
   "cell_type": "code",
   "execution_count": 82,
   "metadata": {},
   "outputs": [
    {
     "name": "stderr",
     "output_type": "stream",
     "text": [
      "\"wget\" �� ���� ����७��� ��� ���譥�\n",
      "��������, �ᯮ��塞�� �ணࠬ��� ��� ������ 䠩���.\n"
     ]
    }
   ],
   "source": [
    "%%capture\n",
    "!wget https://www.dropbox.com/s/64ol9q9ssggz6f1/data_ford_price.xlsx"
   ]
  },
  {
   "cell_type": "code",
   "execution_count": 83,
   "metadata": {},
   "outputs": [],
   "source": [
    "data = pd.read_excel('data/data_ford_price.xlsx')"
   ]
  },
  {
   "cell_type": "code",
   "execution_count": 84,
   "metadata": {},
   "outputs": [
    {
     "data": {
      "text/html": [
       "<div>\n",
       "<style scoped>\n",
       "    .dataframe tbody tr th:only-of-type {\n",
       "        vertical-align: middle;\n",
       "    }\n",
       "\n",
       "    .dataframe tbody tr th {\n",
       "        vertical-align: top;\n",
       "    }\n",
       "\n",
       "    .dataframe thead th {\n",
       "        text-align: right;\n",
       "    }\n",
       "</style>\n",
       "<table border=\"1\" class=\"dataframe\">\n",
       "  <thead>\n",
       "    <tr style=\"text-align: right;\">\n",
       "      <th></th>\n",
       "      <th>price</th>\n",
       "      <th>year</th>\n",
       "      <th>condition</th>\n",
       "      <th>cylinders</th>\n",
       "      <th>odometer</th>\n",
       "      <th>title_status</th>\n",
       "      <th>transmission</th>\n",
       "      <th>drive</th>\n",
       "      <th>size</th>\n",
       "      <th>lat</th>\n",
       "      <th>long</th>\n",
       "      <th>weather</th>\n",
       "    </tr>\n",
       "  </thead>\n",
       "  <tbody>\n",
       "    <tr>\n",
       "      <th>0</th>\n",
       "      <td>43900</td>\n",
       "      <td>2016</td>\n",
       "      <td>4</td>\n",
       "      <td>6</td>\n",
       "      <td>43500</td>\n",
       "      <td>clean</td>\n",
       "      <td>automatic</td>\n",
       "      <td>4wd</td>\n",
       "      <td>full-size</td>\n",
       "      <td>36.471500</td>\n",
       "      <td>-82.483400</td>\n",
       "      <td>59.0</td>\n",
       "    </tr>\n",
       "    <tr>\n",
       "      <th>1</th>\n",
       "      <td>15490</td>\n",
       "      <td>2009</td>\n",
       "      <td>2</td>\n",
       "      <td>8</td>\n",
       "      <td>98131</td>\n",
       "      <td>clean</td>\n",
       "      <td>automatic</td>\n",
       "      <td>4wd</td>\n",
       "      <td>full-size</td>\n",
       "      <td>40.468826</td>\n",
       "      <td>-74.281734</td>\n",
       "      <td>52.0</td>\n",
       "    </tr>\n",
       "    <tr>\n",
       "      <th>2</th>\n",
       "      <td>2495</td>\n",
       "      <td>2002</td>\n",
       "      <td>2</td>\n",
       "      <td>8</td>\n",
       "      <td>201803</td>\n",
       "      <td>clean</td>\n",
       "      <td>automatic</td>\n",
       "      <td>4wd</td>\n",
       "      <td>full-size</td>\n",
       "      <td>42.477134</td>\n",
       "      <td>-82.949564</td>\n",
       "      <td>45.0</td>\n",
       "    </tr>\n",
       "    <tr>\n",
       "      <th>3</th>\n",
       "      <td>1300</td>\n",
       "      <td>2000</td>\n",
       "      <td>1</td>\n",
       "      <td>8</td>\n",
       "      <td>170305</td>\n",
       "      <td>rebuilt</td>\n",
       "      <td>automatic</td>\n",
       "      <td>4wd</td>\n",
       "      <td>full-size</td>\n",
       "      <td>40.764373</td>\n",
       "      <td>-82.349503</td>\n",
       "      <td>49.0</td>\n",
       "    </tr>\n",
       "    <tr>\n",
       "      <th>4</th>\n",
       "      <td>13865</td>\n",
       "      <td>2010</td>\n",
       "      <td>3</td>\n",
       "      <td>8</td>\n",
       "      <td>166062</td>\n",
       "      <td>clean</td>\n",
       "      <td>automatic</td>\n",
       "      <td>4wd</td>\n",
       "      <td>NaN</td>\n",
       "      <td>49.210949</td>\n",
       "      <td>-123.114720</td>\n",
       "      <td>NaN</td>\n",
       "    </tr>\n",
       "  </tbody>\n",
       "</table>\n",
       "</div>"
      ],
      "text/plain": [
       "   price  year  condition  cylinders  odometer title_status transmission  \\\n",
       "0  43900  2016          4          6     43500        clean    automatic   \n",
       "1  15490  2009          2          8     98131        clean    automatic   \n",
       "2   2495  2002          2          8    201803        clean    automatic   \n",
       "3   1300  2000          1          8    170305      rebuilt    automatic   \n",
       "4  13865  2010          3          8    166062        clean    automatic   \n",
       "\n",
       "  drive       size        lat        long  weather  \n",
       "0   4wd  full-size  36.471500  -82.483400     59.0  \n",
       "1   4wd  full-size  40.468826  -74.281734     52.0  \n",
       "2   4wd  full-size  42.477134  -82.949564     45.0  \n",
       "3   4wd  full-size  40.764373  -82.349503     49.0  \n",
       "4   4wd        NaN  49.210949 -123.114720      NaN  "
      ]
     },
     "execution_count": 84,
     "metadata": {},
     "output_type": "execute_result"
    }
   ],
   "source": [
    "data.head()"
   ]
  },
  {
   "cell_type": "code",
   "execution_count": 85,
   "metadata": {},
   "outputs": [],
   "source": [
    "# Функция для кодирования методом OneHotEncoding\n",
    "\n",
    "def encode_cat_features(columns_to_change, X_train, X_test, y_train):\n",
    "    one_hot_encoder = OneHotEncoder()\n",
    "    # Закодируем категориальные признаки\n",
    "    X_train_onehot = one_hot_encoder.fit_transform(X_train[columns_to_change]).toarray()\n",
    "    X_test_onehot = one_hot_encoder.transform(X_test[columns_to_change]).toarray()\n",
    "\n",
    "    # Результаты преобразуем обратно в DataFrame для удобства\n",
    "    columns = one_hot_encoder.get_feature_names_out(columns_to_change)\n",
    "    X_train_onehot_df = pd.DataFrame(X_train_onehot, columns=columns)\n",
    "    X_test_onehot_df = pd.DataFrame(X_test_onehot, columns=columns)\n",
    "\n",
    "    # Сбросим индексы таблиц\n",
    "    X_train = X_train.reset_index().drop(['index'], axis = 1)\n",
    "    X_test = X_test.reset_index().drop(['index'], axis = 1)\n",
    "    y_train = y_train.reset_index().drop(['index'], axis = 1)\n",
    "\n",
    "    # Добавим результаты кодирования к исходным таблицам\n",
    "    X_train_new = pd.concat([X_train, X_train_onehot_df], axis=1)\n",
    "    X_test_new = pd.concat([X_test, X_test_onehot_df], axis=1)\n",
    "    \n",
    "    # Удалим столбцы, которые уже были закодированы\n",
    "    X_train_new = X_train_new.drop(columns=columns_to_change)\n",
    "    X_test_new = X_test_new.drop(columns=columns_to_change)\n",
    "\n",
    "    return X_train_new, X_test_new"
   ]
  },
  {
   "cell_type": "markdown",
   "metadata": {},
   "source": [
    "## Предобработка данных\n",
    "\n",
    "### Анализ мультколлинеарности"
   ]
  },
  {
   "cell_type": "code",
   "execution_count": 86,
   "metadata": {},
   "outputs": [
    {
     "data": {
      "image/png": "[encoded data removed]",
      "text/plain": [
       "<Figure size 640x480 with 2 Axes>"
      ]
     },
     "metadata": {},
     "output_type": "display_data"
    }
   ],
   "source": [
    "data_plot = sns.heatmap(data.corr(numeric_only=True), annot=True)"
   ]
  },
  {
   "cell_type": "markdown",
   "metadata": {},
   "source": [
    "У признаков lat и weather присутствует сильная обратная связь, поэтому удалим lat, так как этот признак, в отличие от weather, необходимо округлять:"
   ]
  },
  {
   "cell_type": "code",
   "execution_count": 87,
   "metadata": {},
   "outputs": [],
   "source": [
    "data.drop('lat', axis = 1, inplace = True)"
   ]
  },
  {
   "cell_type": "markdown",
   "metadata": {},
   "source": [
    "### Разделяем:"
   ]
  },
  {
   "cell_type": "code",
   "execution_count": 88,
   "metadata": {},
   "outputs": [],
   "source": [
    "y = data['price']\n",
    "x = data.drop(columns='price')"
   ]
  },
  {
   "cell_type": "markdown",
   "metadata": {},
   "source": [
    "### Общая статистика по числовым данным"
   ]
  },
  {
   "cell_type": "code",
   "execution_count": 89,
   "metadata": {},
   "outputs": [
    {
     "data": {
      "text/html": [
       "<div>\n",
       "<style scoped>\n",
       "    .dataframe tbody tr th:only-of-type {\n",
       "        vertical-align: middle;\n",
       "    }\n",
       "\n",
       "    .dataframe tbody tr th {\n",
       "        vertical-align: top;\n",
       "    }\n",
       "\n",
       "    .dataframe thead th {\n",
       "        text-align: right;\n",
       "    }\n",
       "</style>\n",
       "<table border=\"1\" class=\"dataframe\">\n",
       "  <thead>\n",
       "    <tr style=\"text-align: right;\">\n",
       "      <th></th>\n",
       "      <th>count</th>\n",
       "      <th>mean</th>\n",
       "      <th>std</th>\n",
       "      <th>min</th>\n",
       "      <th>25%</th>\n",
       "      <th>50%</th>\n",
       "      <th>75%</th>\n",
       "      <th>max</th>\n",
       "    </tr>\n",
       "  </thead>\n",
       "  <tbody>\n",
       "    <tr>\n",
       "      <th>year</th>\n",
       "      <td>7017.0</td>\n",
       "      <td>2007.869745</td>\n",
       "      <td>6.975329</td>\n",
       "      <td>1957.000000</td>\n",
       "      <td>2004.000000</td>\n",
       "      <td>2010.000000</td>\n",
       "      <td>2013.0000</td>\n",
       "      <td>2.018000e+03</td>\n",
       "    </tr>\n",
       "    <tr>\n",
       "      <th>condition</th>\n",
       "      <td>7017.0</td>\n",
       "      <td>2.598689</td>\n",
       "      <td>0.703662</td>\n",
       "      <td>0.000000</td>\n",
       "      <td>2.000000</td>\n",
       "      <td>3.000000</td>\n",
       "      <td>3.0000</td>\n",
       "      <td>5.000000e+00</td>\n",
       "    </tr>\n",
       "    <tr>\n",
       "      <th>cylinders</th>\n",
       "      <td>7017.0</td>\n",
       "      <td>7.374662</td>\n",
       "      <td>0.942928</td>\n",
       "      <td>3.000000</td>\n",
       "      <td>6.000000</td>\n",
       "      <td>8.000000</td>\n",
       "      <td>8.0000</td>\n",
       "      <td>1.000000e+01</td>\n",
       "    </tr>\n",
       "    <tr>\n",
       "      <th>odometer</th>\n",
       "      <td>7017.0</td>\n",
       "      <td>119978.670942</td>\n",
       "      <td>89922.155723</td>\n",
       "      <td>0.000000</td>\n",
       "      <td>73285.000000</td>\n",
       "      <td>118000.000000</td>\n",
       "      <td>157804.0000</td>\n",
       "      <td>2.490000e+06</td>\n",
       "    </tr>\n",
       "    <tr>\n",
       "      <th>long</th>\n",
       "      <td>7017.0</td>\n",
       "      <td>-91.903404</td>\n",
       "      <td>14.030710</td>\n",
       "      <td>-151.055832</td>\n",
       "      <td>-95.937145</td>\n",
       "      <td>-88.168416</td>\n",
       "      <td>-82.7063</td>\n",
       "      <td>-5.377999e+00</td>\n",
       "    </tr>\n",
       "    <tr>\n",
       "      <th>weather</th>\n",
       "      <td>6837.0</td>\n",
       "      <td>52.142899</td>\n",
       "      <td>7.954830</td>\n",
       "      <td>29.000000</td>\n",
       "      <td>45.000000</td>\n",
       "      <td>51.000000</td>\n",
       "      <td>59.0000</td>\n",
       "      <td>7.100000e+01</td>\n",
       "    </tr>\n",
       "  </tbody>\n",
       "</table>\n",
       "</div>"
      ],
      "text/plain": [
       "            count           mean           std          min           25%  \\\n",
       "year       7017.0    2007.869745      6.975329  1957.000000   2004.000000   \n",
       "condition  7017.0       2.598689      0.703662     0.000000      2.000000   \n",
       "cylinders  7017.0       7.374662      0.942928     3.000000      6.000000   \n",
       "odometer   7017.0  119978.670942  89922.155723     0.000000  73285.000000   \n",
       "long       7017.0     -91.903404     14.030710  -151.055832    -95.937145   \n",
       "weather    6837.0      52.142899      7.954830    29.000000     45.000000   \n",
       "\n",
       "                     50%          75%           max  \n",
       "year         2010.000000    2013.0000  2.018000e+03  \n",
       "condition       3.000000       3.0000  5.000000e+00  \n",
       "cylinders       8.000000       8.0000  1.000000e+01  \n",
       "odometer   118000.000000  157804.0000  2.490000e+06  \n",
       "long          -88.168416     -82.7063 -5.377999e+00  \n",
       "weather        51.000000      59.0000  7.100000e+01  "
      ]
     },
     "execution_count": 89,
     "metadata": {},
     "output_type": "execute_result"
    }
   ],
   "source": [
    "x.describe().T"
   ]
  },
  {
   "cell_type": "code",
   "execution_count": 93,
   "metadata": {},
   "outputs": [
    {
     "data": {
      "text/plain": [
       "{'web': 'https://www.comet.com/api/image/download?imageId=34043782ab3a4a28b06b5169c7ede1dc&experimentKey=9da8dc99996746d3b68c81e3e27f0fdd',\n",
       " 'api': 'https://www.comet.com/api/rest/v1/image/get-image?imageId=34043782ab3a4a28b06b5169c7ede1dc&experimentKey=9da8dc99996746d3b68c81e3e27f0fdd',\n",
       " 'imageId': '34043782ab3a4a28b06b5169c7ede1dc'}"
      ]
     },
     "execution_count": 93,
     "metadata": {},
     "output_type": "execute_result"
    },
    {
     "data": {
      "image/png": "[encoded data removed]",
      "text/plain": [
       "<Figure size 1200x800 with 6 Axes>"
      ]
     },
     "metadata": {},
     "output_type": "display_data"
    }
   ],
   "source": [
    "x.hist(figsize=(12,8))\n",
    "experiment.log_figure('X_train_numeric_hist', plt)"
   ]
  },
  {
   "cell_type": "markdown",
   "metadata": {},
   "source": [
    "* Видим пропуски в признаке weather(значение count меньше размера данных).\n",
    "* Признаки condition и cylinders являются категориальными."
   ]
  },
  {
   "cell_type": "markdown",
   "metadata": {},
   "source": [
    "### Проверка на наличие пропусков и типов переменных"
   ]
  },
  {
   "cell_type": "code",
   "execution_count": 94,
   "metadata": {},
   "outputs": [
    {
     "name": "stdout",
     "output_type": "stream",
     "text": [
      "<class 'pandas.core.frame.DataFrame'>\n",
      "RangeIndex: 7017 entries, 0 to 7016\n",
      "Data columns (total 10 columns):\n",
      " #   Column        Non-Null Count  Dtype  \n",
      "---  ------        --------------  -----  \n",
      " 0   year          7017 non-null   int64  \n",
      " 1   condition     7017 non-null   int64  \n",
      " 2   cylinders     7017 non-null   int64  \n",
      " 3   odometer      7017 non-null   int64  \n",
      " 4   title_status  7017 non-null   object \n",
      " 5   transmission  7017 non-null   object \n",
      " 6   drive         6626 non-null   object \n",
      " 7   size          5453 non-null   object \n",
      " 8   long          7017 non-null   float64\n",
      " 9   weather       6837 non-null   float64\n",
      "dtypes: float64(2), int64(4), object(4)\n",
      "memory usage: 548.3+ KB\n"
     ]
    }
   ],
   "source": [
    "x.info()"
   ]
  },
  {
   "cell_type": "markdown",
   "metadata": {},
   "source": [
    "Типы в наших данных:\n",
    "* 4 признака типа **object** - обычно это строковые значения;\n",
    "* 4 признака типа **int64** - целочисленные значения;\n",
    "* 2 признака типа **float64** - числа с плавающей запятой. \n",
    "\n",
    "Кроме этого, мы видим, что признаки *drive, size и weather* имеют пропуски в данных.\n",
    "\n",
    "### Обработка пропусков в данных\n",
    "\n",
    "Далеко не все алгоритмы умеют работать с пропусками в данных. Кроме этого, удачно заполнив пропуски, мы сможем лучше восстановить распределение данных, а значит лучше построить моделей. \n",
    "\n",
    "Заполнять пропуски будем с помощью ML.\n",
    "\n",
    "#### weather\n",
    "является непрерывным, поэтому используем линейную регрессию"
   ]
  },
  {
   "cell_type": "code",
   "execution_count": 95,
   "metadata": {},
   "outputs": [],
   "source": [
    "# Скопируем данные в отдельную переменную\n",
    "df = x.copy()\n",
    " \n",
    "# В качестве тестовой выборки возьмем строки с пропусками в признаке weather\n",
    "test_data = df[df['weather'].isnull()]\n",
    "# И удалим эти строчки из таблицы\n",
    "df.dropna(inplace=True)\n",
    "\n",
    "# Определим целевой признак и факторы\n",
    "y_train = df['weather']\n",
    "X_train = df.drop(['size','weather','drive'], axis=1)\n",
    "X_test = test_data.drop(['size','weather','drive'], axis=1)\n",
    "\n",
    "# Создадим кодировщик\n",
    "one_hot_encoder = OneHotEncoder()\n",
    "categorial_cols = ['cylinders', 'title_status', 'transmission', 'condition']\n",
    "\n",
    "X_train_new, X_test_new = encode_cat_features(categorial_cols, X_train, X_test, y_train)"
   ]
  },
  {
   "cell_type": "code",
   "execution_count": 96,
   "metadata": {},
   "outputs": [],
   "source": [
    "model = LinearRegression()\n",
    "model.fit(X_train_new, y_train)\n",
    " \n",
    "y_pred = model.predict(X_test_new)"
   ]
  },
  {
   "cell_type": "code",
   "execution_count": 97,
   "metadata": {},
   "outputs": [],
   "source": [
    "for i, ni in enumerate(test_data.index):\n",
    "    x.loc[ni, 'weather'] = y_pred[i]"
   ]
  },
  {
   "cell_type": "markdown",
   "metadata": {},
   "source": [
    "#### size, drive\n",
    "Данные признаки являются категориальными. Следовательно, понадобится классификатор для заполения пропусков в них."
   ]
  },
  {
   "cell_type": "code",
   "execution_count": 98,
   "metadata": {},
   "outputs": [],
   "source": [
    "# Скопируем данные в отдельную переменную\n",
    "df = x.copy()\n",
    " \n",
    "# В качестве тестовой выборки возьмем строки с пропусками в признаке weather\n",
    "test_data = df[df['size'].isnull()]\n",
    "# И удалим эти строчки из таблицы\n",
    "df.dropna(inplace=True)\n",
    "\n",
    "# Определим целевой признак и факторы\n",
    "y_train = df['size']\n",
    "X_train = df.drop(['size','drive'], axis=1)\n",
    "X_test = test_data.drop(['size','drive'], axis=1)\n",
    "\n",
    "X_train_new, X_test_new = encode_cat_features(categorial_cols, X_train, X_test, y_train)"
   ]
  },
  {
   "cell_type": "code",
   "execution_count": 99,
   "metadata": {},
   "outputs": [
    {
     "name": "stderr",
     "output_type": "stream",
     "text": [
      "c:\\Python\\Python312\\Lib\\site-packages\\sklearn\\linear_model\\_logistic.py:469: ConvergenceWarning: lbfgs failed to converge (status=1):\n",
      "STOP: TOTAL NO. of ITERATIONS REACHED LIMIT.\n",
      "\n",
      "Increase the number of iterations (max_iter) or scale the data as shown in:\n",
      "    https://scikit-learn.org/stable/modules/preprocessing.html\n",
      "Please also refer to the documentation for alternative solver options:\n",
      "    https://scikit-learn.org/stable/modules/linear_model.html#logistic-regression\n",
      "  n_iter_i = _check_optimize_result(\n"
     ]
    }
   ],
   "source": [
    "model = LogisticRegression(max_iter=1000)\n",
    "model.fit(X_train_new, y_train)\n",
    " \n",
    "y_pred = model.predict(X_test_new)"
   ]
  },
  {
   "cell_type": "code",
   "execution_count": 100,
   "metadata": {},
   "outputs": [],
   "source": [
    "for i, ni in enumerate(test_data.index):\n",
    "    x.loc[ni, 'size'] = y_pred[i]"
   ]
  },
  {
   "cell_type": "code",
   "execution_count": 101,
   "metadata": {},
   "outputs": [],
   "source": [
    "# Скопируем данные в отдельную переменную\n",
    "df = x.copy()\n",
    " \n",
    "# В качестве тестовой выборки возьмем строки с пропусками в признаке weather\n",
    "test_data = df[df['drive'].isnull()]\n",
    "# И удалим эти строчки из таблицы\n",
    "df.dropna(inplace=True)\n",
    "\n",
    "# Определим целевой признак и факторы\n",
    "y_train = df['drive']\n",
    "X_train = df.drop(columns='drive')\n",
    "X_test = test_data.drop(columns='drive')\n",
    "\n",
    "categorial_cols = ['cylinders', 'title_status', 'transmission', 'condition', 'size']\n",
    "\n",
    "X_train_new, X_test_new = encode_cat_features(categorial_cols, X_train, X_test, y_train)"
   ]
  },
  {
   "cell_type": "code",
   "execution_count": 102,
   "metadata": {},
   "outputs": [
    {
     "name": "stderr",
     "output_type": "stream",
     "text": [
      "c:\\Python\\Python312\\Lib\\site-packages\\sklearn\\linear_model\\_logistic.py:469: ConvergenceWarning: lbfgs failed to converge (status=1):\n",
      "STOP: TOTAL NO. of ITERATIONS REACHED LIMIT.\n",
      "\n",
      "Increase the number of iterations (max_iter) or scale the data as shown in:\n",
      "    https://scikit-learn.org/stable/modules/preprocessing.html\n",
      "Please also refer to the documentation for alternative solver options:\n",
      "    https://scikit-learn.org/stable/modules/linear_model.html#logistic-regression\n",
      "  n_iter_i = _check_optimize_result(\n"
     ]
    }
   ],
   "source": [
    "model = LogisticRegression(max_iter=1000)\n",
    "model.fit(X_train_new, y_train)\n",
    " \n",
    "y_pred = model.predict(X_test_new)"
   ]
  },
  {
   "cell_type": "code",
   "execution_count": 103,
   "metadata": {},
   "outputs": [],
   "source": [
    "for i, ni in enumerate(test_data.index):\n",
    "    x.loc[ni, 'drive'] = y_pred[i]"
   ]
  },
  {
   "cell_type": "code",
   "execution_count": 104,
   "metadata": {},
   "outputs": [
    {
     "name": "stdout",
     "output_type": "stream",
     "text": [
      "<class 'pandas.core.frame.DataFrame'>\n",
      "RangeIndex: 7017 entries, 0 to 7016\n",
      "Data columns (total 10 columns):\n",
      " #   Column        Non-Null Count  Dtype  \n",
      "---  ------        --------------  -----  \n",
      " 0   year          7017 non-null   int64  \n",
      " 1   condition     7017 non-null   int64  \n",
      " 2   cylinders     7017 non-null   int64  \n",
      " 3   odometer      7017 non-null   int64  \n",
      " 4   title_status  7017 non-null   object \n",
      " 5   transmission  7017 non-null   object \n",
      " 6   drive         7017 non-null   object \n",
      " 7   size          7017 non-null   object \n",
      " 8   long          7017 non-null   float64\n",
      " 9   weather       7017 non-null   float64\n",
      "dtypes: float64(2), int64(4), object(4)\n",
      "memory usage: 548.3+ KB\n"
     ]
    }
   ],
   "source": [
    "x.info()"
   ]
  },
  {
   "cell_type": "markdown",
   "metadata": {},
   "source": [
    "### Разделим выборки на тренировочные и тестовые"
   ]
  },
  {
   "cell_type": "code",
   "execution_count": 105,
   "metadata": {},
   "outputs": [],
   "source": [
    "X_train, X_test, y_train, y_test = train_test_split(x, y, test_size=0.3, random_state=40)"
   ]
  },
  {
   "cell_type": "markdown",
   "metadata": {},
   "source": [
    "### Кодировка категориальных переменных\n",
    "\n",
    "У нас 6 категориальных столбцов."
   ]
  },
  {
   "cell_type": "code",
   "execution_count": 106,
   "metadata": {},
   "outputs": [],
   "source": [
    "categorical_features = ['condition', 'cylinders', 'title_status', \n",
    "                        'transmission', 'drive', 'size']"
   ]
  },
  {
   "cell_type": "markdown",
   "metadata": {},
   "source": [
    "**Label Encoding**"
   ]
  },
  {
   "cell_type": "code",
   "execution_count": 107,
   "metadata": {},
   "outputs": [],
   "source": [
    "label_encoder = LabelEncoder()\n",
    "X_train_le = X_train.copy()\n",
    "X_test_le = X_test.copy()\n",
    "\n",
    "for feature in categorical_features:\n",
    "    X_train_le[feature] = label_encoder.fit_transform(X_train_le[feature])\n",
    "    X_test_le[feature] = label_encoder.transform(X_test_le[feature])"
   ]
  },
  {
   "cell_type": "markdown",
   "metadata": {},
   "source": [
    "**One Hot Encoding**"
   ]
  },
  {
   "cell_type": "code",
   "execution_count": 108,
   "metadata": {},
   "outputs": [],
   "source": [
    "X_train_oh, X_test_oh = encode_cat_features(categorical_features, X_train, X_test, y_train)"
   ]
  },
  {
   "cell_type": "markdown",
   "metadata": {},
   "source": [
    "Построим модели на закодированных двумя разными способами данных."
   ]
  },
  {
   "cell_type": "code",
   "execution_count": 109,
   "metadata": {},
   "outputs": [
    {
     "name": "stdout",
     "output_type": "stream",
     "text": [
      "MAE: 4530.494\n"
     ]
    }
   ],
   "source": [
    "model = LinearRegression()\n",
    "model.fit(X_train_le, y_train)\n",
    "y_predicted = model.predict(X_test_le)\n",
    " \n",
    "mae = mean_absolute_error(y_test, y_predicted)\n",
    "print('MAE: %.3f' % mae)"
   ]
  },
  {
   "cell_type": "code",
   "execution_count": 110,
   "metadata": {},
   "outputs": [],
   "source": [
    "experiment.log_metric('MAE Label Encoding', mae)"
   ]
  },
  {
   "cell_type": "code",
   "execution_count": 111,
   "metadata": {},
   "outputs": [
    {
     "name": "stdout",
     "output_type": "stream",
     "text": [
      "MAE: 4471.860\n"
     ]
    }
   ],
   "source": [
    "model = LinearRegression()\n",
    "model.fit(X_train_oh, y_train)\n",
    "y_predicted = model.predict(X_test_oh)\n",
    " \n",
    "mae = mean_absolute_error(y_test, y_predicted)\n",
    "print('MAE: %.3f' % mae)"
   ]
  },
  {
   "cell_type": "code",
   "execution_count": 112,
   "metadata": {},
   "outputs": [],
   "source": [
    "experiment.log_metric('MAE One Hot Encoding', mae)"
   ]
  },
  {
   "cell_type": "markdown",
   "metadata": {},
   "source": [
    "One Hot Encoding показал немного лучший результат."
   ]
  },
  {
   "cell_type": "markdown",
   "metadata": {},
   "source": [
    "### Обработка выбросов в данных\n",
    "\n",
    "Будем использовать Isolation Forest\n",
    "\n",
    "*One Hot Encoding*"
   ]
  },
  {
   "cell_type": "code",
   "execution_count": 113,
   "metadata": {},
   "outputs": [
    {
     "name": "stdout",
     "output_type": "stream",
     "text": [
      "MAE: 4420.319\n"
     ]
    }
   ],
   "source": [
    "# ищем выбросы в обучающей выборке\n",
    "iso = IsolationForest(contamination=0.1)\n",
    "y_predicted = iso.fit_predict(X_train_oh)\n",
    " \n",
    "# выберем все строки, которые не являются выбросами\n",
    "mask = y_predicted != -1\n",
    "X_train_oh, y_train_oh  = X_train_oh[mask], y_train[mask]\n",
    " \n",
    "model = LinearRegression()\n",
    "model.fit(X_train_oh, y_train_oh)\n",
    " \n",
    "y_predicted = model.predict(X_test_oh)\n",
    "mae = mean_absolute_error(y_test, y_predicted)\n",
    "print('MAE: %.3f' % mae)"
   ]
  },
  {
   "cell_type": "code",
   "execution_count": 114,
   "metadata": {},
   "outputs": [],
   "source": [
    "experiment.log_metric('MAE One Hot Encoding no outlier', mae)"
   ]
  },
  {
   "cell_type": "markdown",
   "metadata": {},
   "source": [
    "*Label Encoding*"
   ]
  },
  {
   "cell_type": "code",
   "execution_count": 115,
   "metadata": {},
   "outputs": [
    {
     "name": "stdout",
     "output_type": "stream",
     "text": [
      "MAE: 4345.265\n"
     ]
    }
   ],
   "source": [
    "# ищем выбросы в обучающей выборке\n",
    "iso = IsolationForest(contamination=0.1)\n",
    "y_predicted = iso.fit_predict(X_train_le)\n",
    " \n",
    "# выберем все строки, которые не являются выбросами\n",
    "mask = y_predicted != -1\n",
    "X_train_le, y_train_le = X_train_le[mask], y_train[mask]\n",
    " \n",
    "model = LinearRegression()\n",
    "model.fit(X_train_le, y_train_le)\n",
    " \n",
    "y_predicted = model.predict(X_test_le)\n",
    "mae = mean_absolute_error(y_test, y_predicted)\n",
    "print('MAE: %.3f' % mae)"
   ]
  },
  {
   "cell_type": "code",
   "execution_count": 116,
   "metadata": {},
   "outputs": [],
   "source": [
    "experiment.log_metric('MAE Label Encoding no outlier', mae)"
   ]
  },
  {
   "cell_type": "markdown",
   "metadata": {},
   "source": [
    "На данных очищенных от выбросов лучший результат показывает метод порядкового кодирования, далее будем использовать эти данные. К тому же по причине того что количество признаков при порядковом кодировании не увеличивается нам дальше будет проще при отборе признаков."
   ]
  },
  {
   "cell_type": "markdown",
   "metadata": {},
   "source": [
    "##  Отбор признаков\n",
    "\n",
    "### RFE"
   ]
  },
  {
   "cell_type": "code",
   "execution_count": 117,
   "metadata": {},
   "outputs": [
    {
     "data": {
      "text/plain": [
       "array(['condition', 'cylinders', 'transmission'], dtype=object)"
      ]
     },
     "execution_count": 117,
     "metadata": {},
     "output_type": "execute_result"
    }
   ],
   "source": [
    "estimator = LinearRegression()\n",
    "selector = RFE(estimator, n_features_to_select=3, step=1)\n",
    "selector = selector.fit(X_train_le, y_train_le)\n",
    " \n",
    "selector.get_feature_names_out()"
   ]
  },
  {
   "cell_type": "code",
   "execution_count": 118,
   "metadata": {},
   "outputs": [],
   "source": [
    "X_train_le_rfe = X_train_le[['condition', 'cylinders', 'drive']]\n",
    "X_test_le_rfe = X_test_le[['condition', 'cylinders', 'drive']]"
   ]
  },
  {
   "cell_type": "code",
   "execution_count": 119,
   "metadata": {},
   "outputs": [
    {
     "name": "stdout",
     "output_type": "stream",
     "text": [
      "MAE: 6829.761\n"
     ]
    }
   ],
   "source": [
    "model = LinearRegression()\n",
    "model.fit(X_train_le_rfe, y_train_le)\n",
    " \n",
    "y_predicted = model.predict(X_test_le_rfe)\n",
    "mae = mean_absolute_error(y_test, y_predicted)\n",
    "print('MAE: %.3f' % mae)"
   ]
  },
  {
   "cell_type": "code",
   "execution_count": 120,
   "metadata": {},
   "outputs": [],
   "source": [
    "experiment.log_metric('MAE Label Encoding no outlier rfe', mae)"
   ]
  },
  {
   "cell_type": "markdown",
   "metadata": {},
   "source": [
    "### SelectKBest"
   ]
  },
  {
   "cell_type": "code",
   "execution_count": 121,
   "metadata": {},
   "outputs": [
    {
     "data": {
      "text/plain": [
       "array(['year', 'condition', 'odometer'], dtype=object)"
      ]
     },
     "execution_count": 121,
     "metadata": {},
     "output_type": "execute_result"
    }
   ],
   "source": [
    "selector = SelectKBest(f_regression, k=3)\n",
    "selector.fit(X_train_le, y_train_le)\n",
    " \n",
    "selector.get_feature_names_out()"
   ]
  },
  {
   "cell_type": "code",
   "execution_count": 122,
   "metadata": {},
   "outputs": [],
   "source": [
    "X_train_le_sb = X_train_le[['year', 'condition', 'odometer']]\n",
    "X_test_le_sb = X_test_le[['year', 'condition', 'odometer']]"
   ]
  },
  {
   "cell_type": "code",
   "execution_count": 123,
   "metadata": {},
   "outputs": [
    {
     "name": "stdout",
     "output_type": "stream",
     "text": [
      "MAE: 4655.909\n"
     ]
    }
   ],
   "source": [
    "model = LinearRegression()\n",
    "model.fit(X_train_le_sb, y_train_le)\n",
    " \n",
    "y_predicted = model.predict(X_test_le_sb)\n",
    "mae = mean_absolute_error(y_test, y_predicted)\n",
    "print('MAE: %.3f' % mae)"
   ]
  },
  {
   "cell_type": "code",
   "execution_count": 124,
   "metadata": {},
   "outputs": [],
   "source": [
    "experiment.log_metric('MAE Label Encoding no outlier selectkbest', mae)"
   ]
  },
  {
   "cell_type": "markdown",
   "metadata": {},
   "source": [
    "#### **Вывод**\n",
    "\n",
    "Если выбирать из методов отбора признаков, то SelectKBest показал существенно лучшие результаты по сравнению с RFE.\n",
    "\n",
    "А в общем сокращение количества признаков привело к ухудшению показателей метрики. Самые лучшие результаты получились на очищенных от выбросов данных, закодированных методом порядкового кодирования *Label Encoding*."
   ]
  },
  {
   "cell_type": "code",
   "execution_count": 125,
   "metadata": {},
   "outputs": [
    {
     "name": "stderr",
     "output_type": "stream",
     "text": [
      "\u001b[1;38;5;39mCOMET INFO:\u001b[0m ---------------------------------------------------------------------------------------\n",
      "\u001b[1;38;5;39mCOMET INFO:\u001b[0m Comet.ml Experiment Summary\n",
      "\u001b[1;38;5;39mCOMET INFO:\u001b[0m ---------------------------------------------------------------------------------------\n",
      "\u001b[1;38;5;39mCOMET INFO:\u001b[0m   Data:\n",
      "\u001b[1;38;5;39mCOMET INFO:\u001b[0m     display_summary_level : 1\n",
      "\u001b[1;38;5;39mCOMET INFO:\u001b[0m     url                   : https://www.comet.com/webbigail1/home-work-price-may/9da8dc99996746d3b68c81e3e27f0fdd\n",
      "\u001b[1;38;5;39mCOMET INFO:\u001b[0m   Metrics:\n",
      "\u001b[1;38;5;39mCOMET INFO:\u001b[0m     MAE Label Encoding                        : 4530.49412355944\n",
      "\u001b[1;38;5;39mCOMET INFO:\u001b[0m     MAE Label Encoding no outlier             : 4345.264978476584\n",
      "\u001b[1;38;5;39mCOMET INFO:\u001b[0m     MAE Label Encoding no outlier rfe         : 6829.76090192289\n",
      "\u001b[1;38;5;39mCOMET INFO:\u001b[0m     MAE Label Encoding no outlier selectkbest : 4655.908798356063\n",
      "\u001b[1;38;5;39mCOMET INFO:\u001b[0m     MAE One Hot Encoding                      : 4471.859654610688\n",
      "\u001b[1;38;5;39mCOMET INFO:\u001b[0m     MAE One Hot Encoding no outlier           : 4420.31870963319\n",
      "\u001b[1;38;5;39mCOMET INFO:\u001b[0m   Parameters:\n",
      "\u001b[1;38;5;39mCOMET INFO:\u001b[0m     C                        : 1.0\n",
      "\u001b[1;38;5;39mCOMET INFO:\u001b[0m     bootstrap                : False\n",
      "\u001b[1;38;5;39mCOMET INFO:\u001b[0m     categories               : auto\n",
      "\u001b[1;38;5;39mCOMET INFO:\u001b[0m     ccp_alpha                : 0.0\n",
      "\u001b[1;38;5;39mCOMET INFO:\u001b[0m     class_weight             : None\n",
      "\u001b[1;38;5;39mCOMET INFO:\u001b[0m     contamination            : 0.1\n",
      "\u001b[1;38;5;39mCOMET INFO:\u001b[0m     copy_X                   : True\n"
     ]
    },
    {
     "name": "stderr",
     "output_type": "stream",
     "text": [
      "\u001b[1;38;5;39mCOMET INFO:\u001b[0m     criterion                : squared_error\n",
      "\u001b[1;38;5;39mCOMET INFO:\u001b[0m     drop                     : None\n",
      "\u001b[1;38;5;39mCOMET INFO:\u001b[0m     dtype                    : <class 'numpy.float64'>\n",
      "\u001b[1;38;5;39mCOMET INFO:\u001b[0m     dual                     : False\n",
      "\u001b[1;38;5;39mCOMET INFO:\u001b[0m     estimator                : LinearRegression()\n",
      "\u001b[1;38;5;39mCOMET INFO:\u001b[0m     estimator__copy_X        : True\n",
      "\u001b[1;38;5;39mCOMET INFO:\u001b[0m     estimator__fit_intercept : True\n",
      "\u001b[1;38;5;39mCOMET INFO:\u001b[0m     estimator__n_jobs        : None\n",
      "\u001b[1;38;5;39mCOMET INFO:\u001b[0m     estimator__positive      : False\n",
      "\u001b[1;38;5;39mCOMET INFO:\u001b[0m     feature_name_combiner    : concat\n",
      "\u001b[1;38;5;39mCOMET INFO:\u001b[0m     fit_intercept            : True\n",
      "\u001b[1;38;5;39mCOMET INFO:\u001b[0m     handle_unknown           : error\n",
      "\u001b[1;38;5;39mCOMET INFO:\u001b[0m     importance_getter        : auto\n",
      "\u001b[1;38;5;39mCOMET INFO:\u001b[0m     intercept_scaling        : 1\n",
      "\u001b[1;38;5;39mCOMET INFO:\u001b[0m     k                        : 3\n",
      "\u001b[1;38;5;39mCOMET INFO:\u001b[0m     l1_ratio                 : None\n",
      "\u001b[1;38;5;39mCOMET INFO:\u001b[0m     max_categories           : None\n",
      "\u001b[1;38;5;39mCOMET INFO:\u001b[0m     max_depth                : 8\n",
      "\u001b[1;38;5;39mCOMET INFO:\u001b[0m     max_features             : 1.0\n",
      "\u001b[1;38;5;39mCOMET INFO:\u001b[0m     max_iter                 : 1000\n",
      "\u001b[1;38;5;39mCOMET INFO:\u001b[0m     max_leaf_nodes           : None\n",
      "\u001b[1;38;5;39mCOMET INFO:\u001b[0m     max_samples              : auto\n",
      "\u001b[1;38;5;39mCOMET INFO:\u001b[0m     min_frequency            : None\n",
      "\u001b[1;38;5;39mCOMET INFO:\u001b[0m     min_impurity_decrease    : 0.0\n",
      "\u001b[1;38;5;39mCOMET INFO:\u001b[0m     min_samples_leaf         : 1\n",
      "\u001b[1;38;5;39mCOMET INFO:\u001b[0m     min_samples_split        : 2\n",
      "\u001b[1;38;5;39mCOMET INFO:\u001b[0m     min_weight_fraction_leaf : 0.0\n",
      "\u001b[1;38;5;39mCOMET INFO:\u001b[0m     monotonic_cst            : None\n",
      "\u001b[1;38;5;39mCOMET INFO:\u001b[0m     multi_class              : auto\n",
      "\u001b[1;38;5;39mCOMET INFO:\u001b[0m     n_estimators             : 100\n",
      "\u001b[1;38;5;39mCOMET INFO:\u001b[0m     n_features_to_select     : 3\n",
      "\u001b[1;38;5;39mCOMET INFO:\u001b[0m     n_jobs                   : None\n",
      "\u001b[1;38;5;39mCOMET INFO:\u001b[0m     penalty                  : l2\n",
      "\u001b[1;38;5;39mCOMET INFO:\u001b[0m     positive                 : False\n",
      "\u001b[1;38;5;39mCOMET INFO:\u001b[0m     random_state             : None\n",
      "\u001b[1;38;5;39mCOMET INFO:\u001b[0m     score_func               : <function f_regression at 0x0000025F1C41B6A0>\n",
      "\u001b[1;38;5;39mCOMET INFO:\u001b[0m     solver                   : lbfgs\n",
      "\u001b[1;38;5;39mCOMET INFO:\u001b[0m     sparse_output            : True\n",
      "\u001b[1;38;5;39mCOMET INFO:\u001b[0m     splitter                 : random\n",
      "\u001b[1;38;5;39mCOMET INFO:\u001b[0m     step                     : 1\n",
      "\u001b[1;38;5;39mCOMET INFO:\u001b[0m     tol                      : 0.0001\n",
      "\u001b[1;38;5;39mCOMET INFO:\u001b[0m     verbose                  : 0\n",
      "\u001b[1;38;5;39mCOMET INFO:\u001b[0m     warm_start               : False\n",
      "\u001b[1;38;5;39mCOMET INFO:\u001b[0m   Uploads:\n",
      "\u001b[1;38;5;39mCOMET INFO:\u001b[0m     environment details      : 1\n",
      "\u001b[1;38;5;39mCOMET INFO:\u001b[0m     figures                  : 1\n",
      "\u001b[1;38;5;39mCOMET INFO:\u001b[0m     filename                 : 1\n",
      "\u001b[1;38;5;39mCOMET INFO:\u001b[0m     git metadata             : 1\n",
      "\u001b[1;38;5;39mCOMET INFO:\u001b[0m     git-patch (uncompressed) : 1 (7.18 MB)\n",
      "\u001b[1;38;5;39mCOMET INFO:\u001b[0m     installed packages       : 1\n",
      "\u001b[1;38;5;39mCOMET INFO:\u001b[0m     notebook                 : 1\n",
      "\u001b[1;38;5;39mCOMET INFO:\u001b[0m     source_code              : 1\n",
      "\u001b[1;38;5;39mCOMET INFO:\u001b[0m \n"
     ]
    }
   ],
   "source": [
    "experiment.end()"
   ]
  }
 ],
 "metadata": {
  "kernelspec": {
   "display_name": "Python 3",
   "language": "python",
   "name": "python3"
  },
  "language_info": {
   "codemirror_mode": {
    "name": "ipython",
    "version": 3
   },
   "file_extension": ".py",
   "mimetype": "text/x-python",
   "name": "python",
   "nbconvert_exporter": "python",
   "pygments_lexer": "ipython3",
   "version": "3.12.2"
  }
 },
 "nbformat": 4,
 "nbformat_minor": 2
}
