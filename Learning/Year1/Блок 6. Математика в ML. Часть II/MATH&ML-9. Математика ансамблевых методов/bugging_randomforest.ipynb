{
 "cells": [
  {
   "cell_type": "code",
   "execution_count": 345,
   "metadata": {},
   "outputs": [],
   "source": [
    "import pandas as pd\n",
    "import numpy as np\n",
    "from sklearn import model_selection\n",
    "from sklearn import linear_model, metrics, tree, ensemble, preprocessing\n",
    "import matplotlib.pyplot as plt"
   ]
  },
  {
   "cell_type": "code",
   "execution_count": 4,
   "metadata": {},
   "outputs": [
    {
     "data": {
      "text/plain": [
       "0.317"
      ]
     },
     "execution_count": 4,
     "metadata": {},
     "output_type": "execute_result"
    }
   ],
   "source": [
    "round(((4.4**2+3.8**2+4.8**2+4.0**2+3.4**2+4.2**2+5.2**2)/7 - ((4.4+3.8+4.8+4.0+3.4+4.2+5.2)/7)**2), 3)"
   ]
  },
  {
   "cell_type": "code",
   "execution_count": 98,
   "metadata": {},
   "outputs": [
    {
     "data": {
      "text/plain": [
       "0.317"
      ]
     },
     "execution_count": 98,
     "metadata": {},
     "output_type": "execute_result"
    }
   ],
   "source": [
    "data = pd.DataFrame([4.4, 3.8, 4.8, 4.0, 3.4, 4.2, 5.2])\n",
    "round((data[0]**2).sum()/7-((data[0].sum()/7)**2), 3)"
   ]
  },
  {
   "cell_type": "code",
   "execution_count": 114,
   "metadata": {},
   "outputs": [
    {
     "name": "stdout",
     "output_type": "stream",
     "text": [
      "<class 'pandas.core.frame.DataFrame'>\n",
      "Index: 1599 entries, 1 to 1599\n",
      "Data columns (total 13 columns):\n",
      " #   Column                Non-Null Count  Dtype  \n",
      "---  ------                --------------  -----  \n",
      " 0   fixed.acidity         1599 non-null   float64\n",
      " 1   volatile.acidity      1599 non-null   float64\n",
      " 2   citric.acid           1599 non-null   float64\n",
      " 3   residual.sugar        1599 non-null   float64\n",
      " 4   chlorides             1599 non-null   float64\n",
      " 5   free.sulfur.dioxide   1599 non-null   float64\n",
      " 6   total.sulfur.dioxide  1599 non-null   float64\n",
      " 7   density               1599 non-null   float64\n",
      " 8   pH                    1599 non-null   float64\n",
      " 9   sulphates             1599 non-null   float64\n",
      " 10  alcohol               1599 non-null   float64\n",
      " 11  quality               1599 non-null   int64  \n",
      " 12  label                 1599 non-null   int64  \n",
      "dtypes: float64(11), int64(2)\n",
      "memory usage: 174.9 KB\n"
     ]
    }
   ],
   "source": [
    "data = pd.read_csv('data/wineQualityReds.csv', sep=',', index_col=0)\n",
    "data['label'] = data.quality.apply(lambda x: 1 if x>=6 else 0)\n",
    "data.info()"
   ]
  },
  {
   "cell_type": "code",
   "execution_count": 100,
   "metadata": {},
   "outputs": [
    {
     "data": {
      "text/plain": [
       "label\n",
       "1    855\n",
       "0    744\n",
       "Name: count, dtype: int64"
      ]
     },
     "execution_count": 100,
     "metadata": {},
     "output_type": "execute_result"
    }
   ],
   "source": [
    "data.label.value_counts()"
   ]
  },
  {
   "cell_type": "code",
   "execution_count": 101,
   "metadata": {},
   "outputs": [],
   "source": [
    "X = data.drop(['label', 'quality'], axis=1)\n",
    "y = data.label\n",
    "X_train, X_test, y_train, y_test = model_selection.train_test_split(X, y, test_size=0.3, random_state=42)"
   ]
  },
  {
   "cell_type": "code",
   "execution_count": 102,
   "metadata": {},
   "outputs": [],
   "source": [
    "col_names = list(X_train.columns)\n",
    "scaler = preprocessing.MinMaxScaler()\n",
    "scaler.fit(X_train)\n",
    "X_train_scaled = scaler.transform(X_train)\n",
    "X_test_scaled = scaler.transform(X_test)\n",
    "X_train_scaled = pd.DataFrame(X_train_scaled, columns=col_names)\n",
    "X_test_scaled = pd.DataFrame(X_test_scaled, columns=col_names)"
   ]
  },
  {
   "cell_type": "code",
   "execution_count": 105,
   "metadata": {},
   "outputs": [
    {
     "name": "stdout",
     "output_type": "stream",
     "text": [
      "F1 линейной регрессии:0.739\n"
     ]
    }
   ],
   "source": [
    "lc = linear_model.LogisticRegression()\n",
    "lc.fit(X_train_scaled, y_train)\n",
    "y_pred_lc = lc.predict(X_test_scaled)\n",
    "print(f'F1 линейной регрессии:{round(metrics.f1_score(y_test, y_pred_lr), 3)}')"
   ]
  },
  {
   "cell_type": "code",
   "execution_count": 104,
   "metadata": {},
   "outputs": [
    {
     "name": "stdout",
     "output_type": "stream",
     "text": [
      "F1 линейной регрессии:0.783\n"
     ]
    }
   ],
   "source": [
    "dt = tree.DecisionTreeClassifier(max_depth=10)\n",
    "dt.fit(X_train_scaled, y_train)\n",
    "y_pred_dt = dt.predict(X_test_scaled)\n",
    "print(f'F1 линейной регрессии:{round(metrics.f1_score(y_test, y_pred_dt), 3)}')"
   ]
  },
  {
   "cell_type": "code",
   "execution_count": 75,
   "metadata": {},
   "outputs": [
    {
     "name": "stdout",
     "output_type": "stream",
     "text": [
      "F1 линейной регрессии:0.819\n"
     ]
    }
   ],
   "source": [
    "bag = ensemble.BaggingClassifier(estimator=dt, n_estimators=1500, random_state=42)\n",
    "bag.fit(X_train_scaled, y_train)\n",
    "y_pred_bag = bag.predict(X_test_scaled)\n",
    "print(f'F1 линейной регрессии:{round(metrics.f1_score(y_test, y_pred_bag), 3)}')\n"
   ]
  },
  {
   "cell_type": "markdown",
   "metadata": {},
   "source": [
    "## Случайный лес"
   ]
  },
  {
   "cell_type": "code",
   "execution_count": 312,
   "metadata": {},
   "outputs": [
    {
     "name": "stdout",
     "output_type": "stream",
     "text": [
      "<class 'pandas.core.frame.DataFrame'>\n",
      "RangeIndex: 506 entries, 0 to 505\n",
      "Data columns (total 13 columns):\n",
      " #   Column          Non-Null Count  Dtype \n",
      "---  ------          --------------  ----- \n",
      " 0   crim_rate       506 non-null    object\n",
      " 1   zn              506 non-null    object\n",
      " 2   business        506 non-null    object\n",
      " 3   river           506 non-null    int64 \n",
      " 4   nit_oxiden      506 non-null    object\n",
      " 5   rooms           506 non-null    object\n",
      " 6   age             506 non-null    object\n",
      " 7   dist            506 non-null    object\n",
      " 8   highways_index  506 non-null    int64 \n",
      " 9   tax             506 non-null    int64 \n",
      " 10  pup_per_teaс    506 non-null    object\n",
      " 11  lower           506 non-null    object\n",
      " 12  target          506 non-null    object\n",
      "dtypes: int64(3), object(10)\n",
      "memory usage: 51.5+ KB\n"
     ]
    }
   ],
   "source": [
    "data = pd.read_csv('data/boston (1).csv', sep=',')\n",
    "data.info()"
   ]
  },
  {
   "cell_type": "code",
   "execution_count": 313,
   "metadata": {},
   "outputs": [],
   "source": [
    "cols = ['crim_rate', 'zn', 'business', 'nit_oxiden', 'rooms', 'age', 'dist', 'pup_per_teaс', 'lower', 'target']    \n",
    "for i in cols:\n",
    "    data[i] = data[i].apply(lambda x: x.replace(',', '.'))\n",
    "    data[i] = data[i].astype('float')"
   ]
  },
  {
   "cell_type": "code",
   "execution_count": 314,
   "metadata": {},
   "outputs": [
    {
     "data": {
      "text/plain": [
       "22.77"
      ]
     },
     "execution_count": 314,
     "metadata": {},
     "output_type": "execute_result"
    }
   ],
   "source": [
    "X = data.drop('target', axis=1)\n",
    "y = data.target\n",
    "X_train, X_test, y_train, y_test = model_selection.train_test_split(X, y, test_size=0.3, random_state=13)\n",
    "y_train.mean().round(2)"
   ]
  },
  {
   "cell_type": "code",
   "execution_count": 315,
   "metadata": {},
   "outputs": [
    {
     "name": "stdout",
     "output_type": "stream",
     "text": [
      "MAE: 3.72\n"
     ]
    }
   ],
   "source": [
    "lr = linear_model.LinearRegression()\n",
    "lr.fit(X_train, y_train)\n",
    "y_pred_lr = lr.predict(X_test)\n",
    "print(f'MAE: {round(metrics.mean_absolute_error(y_test, y_pred_lr), 2)}')"
   ]
  },
  {
   "cell_type": "code",
   "execution_count": 316,
   "metadata": {},
   "outputs": [
    {
     "name": "stdout",
     "output_type": "stream",
     "text": [
      "MAE: 2.84\n"
     ]
    }
   ],
   "source": [
    "dt = tree.DecisionTreeRegressor(random_state=13)\n",
    "dt.fit(X_train, y_train)\n",
    "y_pred_dt = dt.predict(X_test)\n",
    "print(f'MAE: {round(metrics.mean_absolute_error(y_test, y_pred_dt), 2)}')"
   ]
  },
  {
   "cell_type": "code",
   "execution_count": 317,
   "metadata": {},
   "outputs": [
    {
     "name": "stdout",
     "output_type": "stream",
     "text": [
      "MAE 3: 2.93\n",
      "MAE 10: 2.47\n",
      "MAE 100: 2.26\n",
      "MAE 500: 2.24\n"
     ]
    }
   ],
   "source": [
    "num = [3, 10, 100, 500]\n",
    "for i in num:\n",
    "    rf = ensemble.RandomForestRegressor(n_estimators=i, random_state=13)\n",
    "    rf.fit(X_train, y_train)\n",
    "    y_pred_rf = rf.predict(X_test)\n",
    "    print(f'MAE {i}: {round(metrics.mean_absolute_error(y_test, y_pred_rf), 2)}')"
   ]
  },
  {
   "cell_type": "markdown",
   "metadata": {},
   "source": [
    "### Practic"
   ]
  },
  {
   "cell_type": "code",
   "execution_count": 318,
   "metadata": {},
   "outputs": [
    {
     "name": "stdout",
     "output_type": "stream",
     "text": [
      "<class 'pandas.core.frame.DataFrame'>\n",
      "RangeIndex: 145460 entries, 0 to 145459\n",
      "Data columns (total 23 columns):\n",
      " #   Column         Non-Null Count   Dtype  \n",
      "---  ------         --------------   -----  \n",
      " 0   Date           145460 non-null  object \n",
      " 1   Location       145460 non-null  object \n",
      " 2   MinTemp        143975 non-null  float64\n",
      " 3   MaxTemp        144199 non-null  float64\n",
      " 4   Rainfall       142199 non-null  float64\n",
      " 5   Evaporation    82670 non-null   float64\n",
      " 6   Sunshine       75625 non-null   float64\n",
      " 7   WindGustDir    135134 non-null  object \n",
      " 8   WindGustSpeed  135197 non-null  float64\n",
      " 9   WindDir9am     134894 non-null  object \n",
      " 10  WindDir3pm     141232 non-null  object \n",
      " 11  WindSpeed9am   143693 non-null  float64\n",
      " 12  WindSpeed3pm   142398 non-null  float64\n",
      " 13  Humidity9am    142806 non-null  float64\n",
      " 14  Humidity3pm    140953 non-null  float64\n",
      " 15  Pressure9am    130395 non-null  float64\n",
      " 16  Pressure3pm    130432 non-null  float64\n",
      " 17  Cloud9am       89572 non-null   float64\n",
      " 18  Cloud3pm       86102 non-null   float64\n",
      " 19  Temp9am        143693 non-null  float64\n",
      " 20  Temp3pm        141851 non-null  float64\n",
      " 21  RainToday      142199 non-null  object \n",
      " 22  RainTomorrow   142193 non-null  object \n",
      "dtypes: float64(16), object(7)\n",
      "memory usage: 25.5+ MB\n"
     ]
    }
   ],
   "source": [
    "data = pd.read_csv('data/weatherAUS.csv', sep=',')\n",
    "data.info()"
   ]
  },
  {
   "cell_type": "code",
   "execution_count": 319,
   "metadata": {},
   "outputs": [
    {
     "data": {
      "text/plain": [
       "343248"
      ]
     },
     "execution_count": 319,
     "metadata": {},
     "output_type": "execute_result"
    }
   ],
   "source": [
    "data.isnull().sum().sum()"
   ]
  },
  {
   "cell_type": "code",
   "execution_count": 320,
   "metadata": {},
   "outputs": [
    {
     "data": {
      "text/plain": [
       "Date             0.000\n",
       "Location         0.000\n",
       "MinTemp          0.010\n",
       "MaxTemp          0.009\n",
       "Rainfall         0.022\n",
       "Evaporation      0.432\n",
       "Sunshine         0.480\n",
       "WindGustDir      0.071\n",
       "WindGustSpeed    0.071\n",
       "WindDir9am       0.073\n",
       "WindDir3pm       0.029\n",
       "WindSpeed9am     0.012\n",
       "WindSpeed3pm     0.021\n",
       "Humidity9am      0.018\n",
       "Humidity3pm      0.031\n",
       "Pressure9am      0.104\n",
       "Pressure3pm      0.103\n",
       "Cloud9am         0.384\n",
       "Cloud3pm         0.408\n",
       "Temp9am          0.012\n",
       "Temp3pm          0.025\n",
       "RainToday        0.022\n",
       "RainTomorrow     0.022\n",
       "dtype: float64"
      ]
     },
     "execution_count": 320,
     "metadata": {},
     "output_type": "execute_result"
    }
   ],
   "source": [
    "# процент пропусков по столбцам\n",
    "round(data.isna().sum() / len(data), 3)"
   ]
  },
  {
   "cell_type": "code",
   "execution_count": 321,
   "metadata": {},
   "outputs": [
    {
     "name": "stdout",
     "output_type": "stream",
     "text": [
      "3\n"
     ]
    }
   ],
   "source": [
    "count_drop = 0\n",
    "for i in data.columns:\n",
    "    if data[i].isnull().sum()/145460>0.4:\n",
    "        data.drop(i, axis=1, inplace=True)\n",
    "        count_drop+=1\n",
    "print(count_drop)"
   ]
  },
  {
   "cell_type": "code",
   "execution_count": 322,
   "metadata": {},
   "outputs": [],
   "source": [
    "data.RainToday = data.RainToday.map({'No': 0, 'Yes': 1})\n",
    "data.RainTomorrow = data.RainTomorrow.map({'No': 0, 'Yes': 1})"
   ]
  },
  {
   "cell_type": "code",
   "execution_count": 323,
   "metadata": {},
   "outputs": [
    {
     "data": {
      "text/plain": [
       "0.22"
      ]
     },
     "execution_count": 323,
     "metadata": {},
     "output_type": "execute_result"
    }
   ],
   "source": [
    "data.RainToday.mean().round(2)"
   ]
  },
  {
   "cell_type": "code",
   "execution_count": 324,
   "metadata": {},
   "outputs": [
    {
     "data": {
      "text/plain": [
       "Month\n",
       "1     0.189\n",
       "2     0.207\n",
       "3     0.217\n",
       "4     0.217\n",
       "5     0.222\n",
       "6     0.264\n",
       "7     0.271\n",
       "8     0.253\n",
       "9     0.229\n",
       "10    0.197\n",
       "11    0.211\n",
       "12    0.213\n",
       "Name: RainToday, dtype: float64"
      ]
     },
     "execution_count": 324,
     "metadata": {},
     "output_type": "execute_result"
    }
   ],
   "source": [
    "data.Date = pd.to_datetime(data.Date)\n",
    "data['Month'] = data.Date.dt.month\n",
    "data.drop('Date', axis=1, inplace=True)\n",
    "data.groupby('Month')['RainToday'].mean().round(3)"
   ]
  },
  {
   "cell_type": "code",
   "execution_count": 325,
   "metadata": {},
   "outputs": [
    {
     "data": {
      "text/plain": [
       "(145460, 124)"
      ]
     },
     "execution_count": 325,
     "metadata": {},
     "output_type": "execute_result"
    }
   ],
   "source": [
    "categoricals = ['Month', 'Location', 'WindGustDir', 'WindDir9am', 'WindDir3pm']\n",
    "data = pd.get_dummies(data, columns=categoricals)\n",
    "data.shape"
   ]
  },
  {
   "cell_type": "code",
   "execution_count": 326,
   "metadata": {},
   "outputs": [],
   "source": [
    "data.dropna(inplace=True)"
   ]
  },
  {
   "cell_type": "code",
   "execution_count": 327,
   "metadata": {},
   "outputs": [
    {
     "data": {
      "text/plain": [
       "0.23"
      ]
     },
     "execution_count": 327,
     "metadata": {},
     "output_type": "execute_result"
    }
   ],
   "source": [
    "X = data.drop('RainTomorrow', axis=1)\n",
    "y = data.RainTomorrow\n",
    "X_train, X_test, y_train, y_test = model_selection.train_test_split(X, y, test_size=0.3, random_state=31)\n",
    "y_test.mean().round(2)"
   ]
  },
  {
   "cell_type": "code",
   "execution_count": 328,
   "metadata": {},
   "outputs": [
    {
     "data": {
      "text/plain": [
       "0.02879072820657669"
      ]
     },
     "execution_count": 328,
     "metadata": {},
     "output_type": "execute_result"
    }
   ],
   "source": [
    "target = X_train['MinTemp'].values\n",
    "np.random.seed(31)\n",
    "ind = np.random.randint(0, len(target), (1000, len(target)))\n",
    "val = target[ind]\n",
    "val_mean = []\n",
    "val_mean = [i.mean() for i in val]\n",
    "np.std(val_mean)"
   ]
  },
  {
   "cell_type": "code",
   "execution_count": 329,
   "metadata": {},
   "outputs": [
    {
     "data": {
      "text/plain": [
       "0.02879072820657669"
      ]
     },
     "execution_count": 329,
     "metadata": {},
     "output_type": "execute_result"
    }
   ],
   "source": [
    "def gbs(data, n):     \n",
    "    inds = np.random.randint(0, len(data), (n, len(data))) #определяем индексы случайным образом\n",
    "    numbers = data[inds] #выбираем значения по индексам\n",
    "    return numbers\n",
    "target = X_train['MinTemp'].values #выбираем целевую переменную\n",
    "np.random.seed(31) #задаём параметр генератора случайных чисел\n",
    "mean_values = [np.mean(x) for x in gbs(target, 1000)] #получаем все средние значения\n",
    "np.std(mean_values) #находим для них стандартное отклонение"
   ]
  },
  {
   "cell_type": "code",
   "execution_count": 332,
   "metadata": {},
   "outputs": [],
   "source": [
    "col_names = list(X_train.columns)\n",
    "scaler = preprocessing.MinMaxScaler()\n",
    "scaler.fit(X_train)\n",
    "X_train_scaled = scaler.transform(X_train)\n",
    "X_test_scaled = scaler.transform(X_test)\n",
    "X_train_scaled = pd.DataFrame(X_train_scaled, columns=col_names)\n",
    "X_test_scaled = pd.DataFrame(X_test_scaled, columns=col_names)"
   ]
  },
  {
   "cell_type": "code",
   "execution_count": 334,
   "metadata": {},
   "outputs": [
    {
     "name": "stdout",
     "output_type": "stream",
     "text": [
      "Roc_auc: 0.74\n"
     ]
    }
   ],
   "source": [
    "lr = linear_model.LogisticRegression().fit(X_train_scaled, y_train)\n",
    "y_pred = lr.predict(X_test_scaled)\n",
    "print(f'Roc_auc: {round(metrics.roc_auc_score(y_test, y_pred), 2)}')"
   ]
  },
  {
   "cell_type": "code",
   "execution_count": 335,
   "metadata": {},
   "outputs": [
    {
     "name": "stdout",
     "output_type": "stream",
     "text": [
      "{'max_depth': 5, 'max_leaf_nodes': 9, 'min_samples_split': 2}\n"
     ]
    }
   ],
   "source": [
    "params = {'max_leaf_nodes': list(range(2, 10)),\n",
    "          'min_samples_split': [2, 3, 4],\n",
    "          'max_depth': [5,7,9,11]\n",
    "}\n",
    "gs = model_selection.GridSearchCV(tree.DecisionTreeClassifier(random_state=42),\n",
    "                                  params, cv=3\n",
    ").fit(X_train, y_train)\n",
    "print(gs.best_params_)"
   ]
  },
  {
   "cell_type": "code",
   "execution_count": 338,
   "metadata": {},
   "outputs": [
    {
     "name": "stdout",
     "output_type": "stream",
     "text": [
      "Roc_auc: 0.7\n"
     ]
    }
   ],
   "source": [
    "dt = tree.DecisionTreeClassifier(**gs.best_params_).fit(X_train, y_train)\n",
    "y_pred = dt.predict(X_test)\n",
    "print(f'Roc_auc: {round(metrics.roc_auc_score(y_test, y_pred), 2)}')"
   ]
  },
  {
   "cell_type": "code",
   "execution_count": 339,
   "metadata": {},
   "outputs": [
    {
     "name": "stdout",
     "output_type": "stream",
     "text": [
      "Roc_auc: 0.73\n"
     ]
    }
   ],
   "source": [
    "rf = ensemble.RandomForestClassifier(n_estimators=1000,\n",
    "                                     random_state=31).fit(X_train, y_train)\n",
    "y_pred = rf.predict(X_test)\n",
    "print(f'Roc_auc: {round(metrics.roc_auc_score(y_test, y_pred), 2)}')"
   ]
  },
  {
   "cell_type": "code",
   "execution_count": 340,
   "metadata": {},
   "outputs": [
    {
     "name": "stdout",
     "output_type": "stream",
     "text": [
      "{'max_depth': 15, 'max_features': 7, 'min_samples_leaf': 3}\n"
     ]
    }
   ],
   "source": [
    "params = {'max_features': [ 4, 5, 6, 7],\n",
    "          'min_samples_leaf': [3, 5, 7, 9, 11],\n",
    "          'max_depth': [5, 10, 15]\n",
    "}\n",
    "gs = model_selection.GridSearchCV(ensemble.RandomForestClassifier(n_estimators=100,\n",
    "                                                                  random_state=31\n",
    "                                  ), params, cv=3\n",
    ").fit(X_train, y_train)\n",
    "print(gs.best_params_)"
   ]
  },
  {
   "cell_type": "code",
   "execution_count": 348,
   "metadata": {},
   "outputs": [
    {
     "name": "stdout",
     "output_type": "stream",
     "text": [
      "Roc_auc: 0.7\n"
     ]
    }
   ],
   "source": [
    "rf = ensemble.RandomForestClassifier(**gs.best_params_, random_state=31).fit(X_train, y_train)\n",
    "y_pred = rf.predict(X_test)\n",
    "print(f'Roc_auc: {round(metrics.roc_auc_score(y_test, y_pred), 2)}')"
   ]
  },
  {
   "cell_type": "code",
   "execution_count": 349,
   "metadata": {},
   "outputs": [
    {
     "data": {
      "text/plain": [
       "<Axes: >"
      ]
     },
     "execution_count": 349,
     "metadata": {},
     "output_type": "execute_result"
    },
    {
     "data": {
      "image/png": "[encoded data removed]",
      "text/plain": [
       "<Figure size 1000x500 with 1 Axes>"
      ]
     },
     "metadata": {},
     "output_type": "display_data"
    }
   ],
   "source": [
    "plt.rcParams['figure.figsize'] = (10,5)\n",
    "feat_importances = pd.Series(rf.feature_importances_, index=X_train.columns)\n",
    "feat_importances.nlargest(5).plot(kind='barh')"
   ]
  }
 ],
 "metadata": {
  "kernelspec": {
   "display_name": "Python 3",
   "language": "python",
   "name": "python3"
  },
  "language_info": {
   "codemirror_mode": {
    "name": "ipython",
    "version": 3
   },
   "file_extension": ".py",
   "mimetype": "text/x-python",
   "name": "python",
   "nbconvert_exporter": "python",
   "pygments_lexer": "ipython3",
   "version": "3.12.2"
  }
 },
 "nbformat": 4,
 "nbformat_minor": 2
}
