{
 "cells": [
  {
   "cell_type": "code",
   "execution_count": 2,
   "metadata": {},
   "outputs": [],
   "source": [
    "import pandas as pd\n",
    "melb_data = pd.read_csv('data/melb_data_fe.csv', sep=',')\n",
    "melb_df = melb_data.copy()"
   ]
  },
  {
   "cell_type": "code",
   "execution_count": null,
   "metadata": {},
   "outputs": [],
   "source": [
    "melb_df['Date'] = pd.to_datetime(melb_df['Date'])\n",
    "print(melb_df['Date'].dt.quarter.value_counts())"
   ]
  },
  {
   "cell_type": "code",
   "execution_count": null,
   "metadata": {},
   "outputs": [],
   "source": [
    "cols_to_exclude = ['Date', 'Rooms', 'Bedroom', 'Bathroom', 'Car'] # список столбцов, которые мы не берём во внимание\n",
    "max_unique_count = 150 # задаём максимальное число уникальных категорий\n",
    "for col in melb_df.columns: # цикл по именам столбцов\n",
    "    if melb_df[col].nunique() < max_unique_count and col not in cols_to_exclude: # проверяем условие\n",
    "        melb_df[col] = melb_df[col].astype('category') # преобразуем тип столбца\n",
    "display(melb_df.info())"
   ]
  },
  {
   "cell_type": "code",
   "execution_count": null,
   "metadata": {},
   "outputs": [],
   "source": [
    "melb_df.sort_values(by='Price').head(10)\n",
    "melb_df.sort_values(by='Date', ascending=False)\n",
    "#сортировка сначала по расстоянию, затем по цене и вывод только двух столбцов\n",
    "#с шагом 10\n",
    "melb_df.sort_values(by=['Distance', 'Price']).loc[::10, ['Distance', 'Price']]"
   ]
  },
  {
   "cell_type": "code",
   "execution_count": null,
   "metadata": {},
   "outputs": [],
   "source": [
    "#вначале по возрастанию ст. дата, затем по убыванию ст. коэффициент\n",
    "#индексы на новые, вывод только 2-х столбцов \n",
    "mask1 = melb_df['AreaRatio'] < -0.8\n",
    "mask2 = melb_df['Type'] == 'townhouse'\n",
    "mask3 = melb_df['SellerG'] == 'McGrath'\n",
    "melb_df[mask1 & mask2 & mask3].sort_values(\n",
    "    by=['Date', 'AreaRatio'],\n",
    "    ascending=[True, False],\n",
    "    ignore_index=True\n",
    ").loc[:, ['Date', 'AreaRatio']]"
   ]
  },
  {
   "cell_type": "code",
   "execution_count": 7,
   "metadata": {},
   "outputs": [],
   "source": [
    "# чтобы сочетание маски, сортировки и присваивания индексов работало без предупреждения\n",
    "# копирование столбца с фильтрацией\n",
    "filtered = melb_df[melb_df['Rooms'] > 5].copy()\n",
    "filtered.sort_values(inplace=True, by=['Rooms'])"
   ]
  },
  {
   "cell_type": "code",
   "execution_count": 8,
   "metadata": {},
   "outputs": [
    {
     "data": {
      "text/plain": [
       "BuildingArea    126.0\n",
       "Name: 1558, dtype: object"
      ]
     },
     "execution_count": 8,
     "metadata": {},
     "output_type": "execute_result"
    }
   ],
   "source": [
    "# Задание 2.2\n",
    "melb_df.sort_values(by=['AreaRatio'], ascending=False, ignore_index=True).loc[1558, ['BuildingArea']]"
   ]
  },
  {
   "cell_type": "code",
   "execution_count": 9,
   "metadata": {},
   "outputs": [
    {
     "name": "stdout",
     "output_type": "stream",
     "text": [
      "1300000.0\n"
     ]
    }
   ],
   "source": [
    "# Задание 2.3\n",
    "mask1 = melb_df['Type'] == 'townhouse'\n",
    "mask2 = melb_df['Rooms'] > 2\n",
    "filtered = melb_df[mask1 & mask2].copy()\n",
    "filtered.sort_values(\n",
    "    inplace=True,\n",
    "    by=['Rooms', 'MeanRoomsSquare'],\n",
    "    ascending=[True, False],\n",
    "    ignore_index = True)\n",
    "print(filtered['Price'][18])"
   ]
  },
  {
   "cell_type": "code",
   "execution_count": null,
   "metadata": {},
   "outputs": [],
   "source": [
    "# таблица со средними значениями с группировкой по типу\n",
    "melb_df.groupby(by='Type').mean(numeric_only=True)"
   ]
  },
  {
   "cell_type": "code",
   "execution_count": null,
   "metadata": {},
   "outputs": [],
   "source": [
    "# вывод только столбца с ценой\n",
    "melb_df.groupby('Type')['Price'].mean()"
   ]
  },
  {
   "cell_type": "code",
   "execution_count": null,
   "metadata": {},
   "outputs": [],
   "source": [
    "# минимальное расстояние от центра до объекта в зависимости от региона\n",
    "# с сортировкой по убыванию\n",
    "melb_df.groupby('Regionname')['Distance'].min().sort_values(ascending=False)"
   ]
  },
  {
   "cell_type": "code",
   "execution_count": null,
   "metadata": {},
   "outputs": [],
   "source": [
    "# таблица продаж по месяцам, кол-во средняя\n",
    "# и максимальная цена, группировка по меcяцу продажи, по убыванию\n",
    "melb_df.groupby('MonthSale')['Price'].agg(\n",
    "    ['count', 'mean', 'max']\n",
    ").sort_values(by='count', ascending=False)"
   ]
  },
  {
   "cell_type": "code",
   "execution_count": null,
   "metadata": {},
   "outputs": [],
   "source": [
    "# все статистические методы\n",
    "melb_df.groupby('MonthSale')['Price'].agg('describe')"
   ]
  },
  {
   "cell_type": "code",
   "execution_count": null,
   "metadata": {},
   "outputs": [],
   "source": [
    "# уникальные значения названий компаний и все их названия\n",
    "melb_df.groupby('Regionname')['SellerG'].agg(\n",
    "    \t\t['nunique', set]\n",
    ")"
   ]
  },
  {
   "cell_type": "code",
   "execution_count": null,
   "metadata": {},
   "outputs": [],
   "source": [
    "# Задание 3.1\n",
    "melb_df.groupby('Rooms')['Price'].mean().sort_values(ascending=False)"
   ]
  },
  {
   "cell_type": "code",
   "execution_count": null,
   "metadata": {},
   "outputs": [],
   "source": [
    "# Задание 3.2\n",
    "melb_df.groupby('Regionname')['Lattitude'].std().sort_values()"
   ]
  },
  {
   "cell_type": "code",
   "execution_count": null,
   "metadata": {},
   "outputs": [],
   "source": [
    "# Задание 3.3 временной период\n",
    "date1 = pd.to_datetime('2017-05-01')\n",
    "date2 = pd.to_datetime('2017-09-01')\n",
    "mask = (date1 <= melb_df['Date']) & (melb_df['Date']<= date2)\n",
    "melb_df[mask].groupby('SellerG')['Price'].sum().sort_values()"
   ]
  },
  {
   "cell_type": "code",
   "execution_count": null,
   "metadata": {},
   "outputs": [],
   "source": [
    "#  таблица, которая показывает зависимость медианной цены и площади здания от числа комнат\n",
    "melb_df.groupby('Rooms')[['Price', 'BuildingArea']].median()"
   ]
  },
  {
   "cell_type": "code",
   "execution_count": null,
   "metadata": {},
   "outputs": [],
   "source": [
    "# учитываются количество комнат и тип дома\n",
    "melb_df.groupby(['Rooms', 'Type'])['Price'].mean()\n",
    "# формирует таблицу, кол-во комнат - строки, тип - столбцы\n",
    "melb_df.groupby(['Rooms', 'Type'])['Price'].mean().unstack()"
   ]
  },
  {
   "cell_type": "code",
   "execution_count": null,
   "metadata": {},
   "outputs": [],
   "source": [
    "melb_df.pivot_table(values='Price', index='Rooms', columns='Type', fill_value=0).round()\n",
    "melb_df.pivot_table(values='Price', index='Regionname', columns='Weekend', aggfunc='count')\n",
    "melb_df.pivot_table(values='Landsize', index='Regionname', columns='Type',\n",
    "    aggfunc=['median', 'mean'], fill_value=0)\n",
    "melb_df.pivot_table(values='Price', index=['Method','Type'], columns='Regionname',\n",
    "    aggfunc='median', fill_value=0)"
   ]
  },
  {
   "cell_type": "code",
   "execution_count": null,
   "metadata": {},
   "outputs": [],
   "source": [
    "pivot = melb_df.pivot_table(values='Landsize', index='Regionname', columns='Type',\n",
    "    aggfunc=['median', 'mean'], fill_value=0)\n",
    "display(pivot['mean']['unit'])\n",
    "# регионы, в которых средняя площадь здания для домов типа house меньше их медианной площади\n",
    "mask = pivot['mean']['house'] < pivot['median']['house']\n",
    "filtered_pivot = pivot[mask]\n",
    "display(filtered_pivot)\n",
    "# получить индексы отфильтрованной таблицы\n",
    "print(list(filtered_pivot.index))\n",
    "# ['Southern Metropolitan', 'Western Metropolitan']"
   ]
  },
  {
   "cell_type": "code",
   "execution_count": null,
   "metadata": {},
   "outputs": [],
   "source": [
    "# Задание 4.2\n",
    "melb_df.pivot_table(values='BuildingArea', index='Type', columns='Rooms',\n",
    "    aggfunc='median', fill_value=0)"
   ]
  },
  {
   "cell_type": "code",
   "execution_count": null,
   "metadata": {},
   "outputs": [],
   "source": [
    "# Задание 4.3\n",
    "pivot = melb_df.pivot_table(values='Price', index='SellerG', columns='Type',\n",
    "    aggfunc='median', fill_value=0)\n",
    "max_value = pivot['unit'].max()\n",
    "print(pivot[pivot['unit'] == max_value].index[0]) #выведение названия\n"
   ]
  }
 ],
 "metadata": {
  "kernelspec": {
   "display_name": "Python 3",
   "language": "python",
   "name": "python3"
  },
  "language_info": {
   "codemirror_mode": {
    "name": "ipython",
    "version": 3
   },
   "file_extension": ".py",
   "mimetype": "text/x-python",
   "name": "python",
   "nbconvert_exporter": "python",
   "pygments_lexer": "ipython3",
   "version": "3.10.11"
  }
 },
 "nbformat": 4,
 "nbformat_minor": 2
}
