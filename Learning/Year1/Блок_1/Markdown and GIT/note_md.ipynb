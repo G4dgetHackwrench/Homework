{
 "cells": [
  {
   "cell_type": "markdown",
   "metadata": {},
   "source": [
    "один символ — для наклонного текста (_italic_, *italic*);\n",
    "два символа — для жирного текста (__strong__, **strong**);\n",
    "три — для наклонного и жирного одновременно (***жирный и наклонный***)."
   ]
  },
  {
   "cell_type": "markdown",
   "metadata": {},
   "source": [
    "# <center> Заголовок h1 </center>"
   ]
  },
  {
   "cell_type": "markdown",
   "metadata": {},
   "source": [
    "---"
   ]
  },
  {
   "cell_type": "markdown",
   "metadata": {},
   "source": [
    "+ элемент 1\n",
    "\n",
    "- элемент 2\n",
    "\n",
    "* элемент ..."
   ]
  },
  {
   "cell_type": "markdown",
   "metadata": {},
   "source": [
    "---"
   ]
  },
  {
   "cell_type": "markdown",
   "metadata": {},
   "source": [
    "* элемент\n",
    "\n",
    "  * вложенный элемент 2.1"
   ]
  },
  {
   "cell_type": "markdown",
   "metadata": {},
   "source": [
    "В отличие от ненумерованных списков, в нумерованных перед элементами вложенного списка ставится три пробела.\n",
    "\n",
    "2. элемент 2\n",
    "\n",
    "   2.1. элемент 3\n",
    "\n",
    "   2.2. элемент 3"
   ]
  },
  {
   "cell_type": "markdown",
   "metadata": {},
   "source": [
    "без подсказки — [текст ссылки](http://example.com/link);\n",
    "c подсказкой — [текст ссылки](http://example.com/link \"Подсказка\")."
   ]
  },
  {
   "cell_type": "markdown",
   "metadata": {},
   "source": [
    "Для отображения изображений перед квадратными скобками ставится восклицательный знак:\n",
    "\n",
    "![](https://i.imgur.com/3uj9teq.png)\n",
    "В квадратные скобки при этом записывается текст, который отображается, если картинка по каким-то причинам недоступна."
   ]
  },
  {
   "cell_type": "markdown",
   "metadata": {},
   "source": [
    "<img src=https://i.imgur.com/3uj9teq.png width=500px height=30%>"
   ]
  },
  {
   "cell_type": "markdown",
   "metadata": {},
   "source": [
    "Для выделения программного кода используется обратный апостроф:\n",
    "\n",
    "одинарный парный — для вставки строки кода в текст;\n",
    "двойной парный — для вставки небольшого участка кода, содержащего одинарный апостроф, в текст;\n",
    "тройной парный — для вставки блока программного кода.\n",
    "`print('Hello world!')`\n",
    "При использовании тройного апострофа можно указать язык программирования, чтобы автоматически подсветить участки кода, как в редакторе.\n",
    "```python\n",
    "\n",
    "lst = [10, 34, 21, 21, 3]\n",
    "\n",
    "summa = sum(lst)\n",
    "\n",
    "```\n",
    "\n",
    "Для оформления цитат используется знак «больше» (>):\n",
    "\n",
    "> Цитируемый текст"
   ]
  },
  {
   "cell_type": "markdown",
   "metadata": {},
   "source": [
    "---"
   ]
  },
  {
   "cell_type": "markdown",
   "metadata": {},
   "source": [
    "Чтобы начать использовать KaTeX в Markdown, необходимо воспользоваться символом $. Если обрамить формулу с обеих сторон одним символом $, то её можно встроить в текст, а если двумя — формула автоматически центрируется.\n",
    "Пусть задано выражение:\n",
    "\n",
    "$$a = b +c,$$\n",
    "\n",
    "где $a=0$"
   ]
  },
  {
   "cell_type": "markdown",
   "metadata": {},
   "source": [
    "$\\alpha$ — \n",
    "$\\gamma$ — \n",
    "$\\sigma$ — \n",
    "$a^2$ — \n",
    "$b_{ij}$ — \n",
    "$w^{ij}_n$ — \n",
    "$\\frac{1+x}{n}$ — "
   ]
  },
  {
   "cell_type": "markdown",
   "metadata": {},
   "source": [
    "# <center> Face Mask Detection\n",
    "\n",
    "<center> <img src=https://raw.githubusercontent.com/Vrushti24/Face-Mask-Detection/logo/Logo/facemaskdetection.ai%20%40%2051.06%25%20(CMYK_GPU%20Preview)%20%2018-02-2021%2018_33_18%20(2).png width=200 height=200> </center>\n",
    "\n",
    "Face Mask Detection system built with OpenCV, Keras/TensorFlow using Deep Learning and Computer Vision concepts in order to detect face masks in static images as well as in real-time video streams.\n",
    "\n",
    "<center> <img src=\"https://github.com/chandrikadeb7/Face-Mask-Detection/blob/master/Readme_images/Screen%20Shot%202020-05-14%20at%208.49.06%20PM.png?raw=true\" width=300 height=200> </center>"
   ]
  }
 ],
 "metadata": {
  "language_info": {
   "name": "python"
  }
 },
 "nbformat": 4,
 "nbformat_minor": 2
}
