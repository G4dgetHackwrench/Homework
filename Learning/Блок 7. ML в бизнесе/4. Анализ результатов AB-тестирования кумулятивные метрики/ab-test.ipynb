{
 "cells": [
  {
   "cell_type": "code",
   "execution_count": 454,
   "metadata": {},
   "outputs": [],
   "source": [
    "import pandas as pd\n",
    "import numpy as np\n",
    "import plotly.express as px\n",
    "from statsmodels.stats.proportion import proportions_ztest\n",
    "from statsmodels.stats.proportion import proportions_chisquare\n",
    "from scipy.stats import shapiro\n",
    "from scipy.stats import ttest_ind\n",
    "from scipy.stats import norm, t\n",
    "from statsmodels.stats import proportion"
   ]
  },
  {
   "cell_type": "markdown",
   "metadata": {},
   "source": [
    "### Анализ структуры данных"
   ]
  },
  {
   "cell_type": "code",
   "execution_count": 455,
   "metadata": {},
   "outputs": [
    {
     "data": {
      "text/html": [
       "<div>\n",
       "<style scoped>\n",
       "    .dataframe tbody tr th:only-of-type {\n",
       "        vertical-align: middle;\n",
       "    }\n",
       "\n",
       "    .dataframe tbody tr th {\n",
       "        vertical-align: top;\n",
       "    }\n",
       "\n",
       "    .dataframe thead th {\n",
       "        text-align: right;\n",
       "    }\n",
       "</style>\n",
       "<table border=\"1\" class=\"dataframe\">\n",
       "  <thead>\n",
       "    <tr style=\"text-align: right;\">\n",
       "      <th></th>\n",
       "      <th>user_id</th>\n",
       "      <th>date</th>\n",
       "      <th>group</th>\n",
       "      <th>purchase</th>\n",
       "      <th>price</th>\n",
       "    </tr>\n",
       "  </thead>\n",
       "  <tbody>\n",
       "    <tr>\n",
       "      <th>0</th>\n",
       "      <td>851104</td>\n",
       "      <td>2021-01-21</td>\n",
       "      <td>A</td>\n",
       "      <td>0</td>\n",
       "      <td>0</td>\n",
       "    </tr>\n",
       "    <tr>\n",
       "      <th>1</th>\n",
       "      <td>804228</td>\n",
       "      <td>2021-01-12</td>\n",
       "      <td>A</td>\n",
       "      <td>0</td>\n",
       "      <td>0</td>\n",
       "    </tr>\n",
       "    <tr>\n",
       "      <th>2</th>\n",
       "      <td>661590</td>\n",
       "      <td>2021-01-11</td>\n",
       "      <td>B</td>\n",
       "      <td>0</td>\n",
       "      <td>0</td>\n",
       "    </tr>\n",
       "    <tr>\n",
       "      <th>3</th>\n",
       "      <td>853541</td>\n",
       "      <td>2021-01-08</td>\n",
       "      <td>B</td>\n",
       "      <td>0</td>\n",
       "      <td>0</td>\n",
       "    </tr>\n",
       "    <tr>\n",
       "      <th>4</th>\n",
       "      <td>864975</td>\n",
       "      <td>2021-01-21</td>\n",
       "      <td>A</td>\n",
       "      <td>1</td>\n",
       "      <td>150000</td>\n",
       "    </tr>\n",
       "  </tbody>\n",
       "</table>\n",
       "</div>"
      ],
      "text/plain": [
       "   user_id        date group  purchase   price\n",
       "0   851104  2021-01-21     A         0       0\n",
       "1   804228  2021-01-12     A         0       0\n",
       "2   661590  2021-01-11     B         0       0\n",
       "3   853541  2021-01-08     B         0       0\n",
       "4   864975  2021-01-21     A         1  150000"
      ]
     },
     "execution_count": 455,
     "metadata": {},
     "output_type": "execute_result"
    }
   ],
   "source": [
    "data = pd.read_csv('data/ab_data_tourist.csv')\n",
    "data.head()"
   ]
  },
  {
   "cell_type": "code",
   "execution_count": 456,
   "metadata": {},
   "outputs": [
    {
     "name": "stdout",
     "output_type": "stream",
     "text": [
      "<class 'pandas.core.frame.DataFrame'>\n",
      "RangeIndex: 294478 entries, 0 to 294477\n",
      "Data columns (total 5 columns):\n",
      " #   Column    Non-Null Count   Dtype \n",
      "---  ------    --------------   ----- \n",
      " 0   user_id   294478 non-null  int64 \n",
      " 1   date      294478 non-null  object\n",
      " 2   group     294478 non-null  object\n",
      " 3   purchase  294478 non-null  int64 \n",
      " 4   price     294478 non-null  int64 \n",
      "dtypes: int64(3), object(2)\n",
      "memory usage: 11.2+ MB\n"
     ]
    }
   ],
   "source": [
    "data.info()"
   ]
  },
  {
   "cell_type": "markdown",
   "metadata": {},
   "source": [
    "Формат столбца с датой нужно перевести в datetime."
   ]
  },
  {
   "cell_type": "code",
   "execution_count": 457,
   "metadata": {},
   "outputs": [],
   "source": [
    "data.date = pd.to_datetime(data.date)"
   ]
  },
  {
   "cell_type": "markdown",
   "metadata": {},
   "source": [
    "Проверяем одинаковой длительности проведения A/B-тестирования в каждой из групп."
   ]
  },
  {
   "cell_type": "code",
   "execution_count": 458,
   "metadata": {},
   "outputs": [
    {
     "name": "stdout",
     "output_type": "stream",
     "text": [
      "group\n",
      "A   2021-01-02\n",
      "B   2021-01-02\n",
      "Name: date, dtype: datetime64[ns] group\n",
      "A   2021-01-24\n",
      "B   2021-01-24\n",
      "Name: date, dtype: datetime64[ns]\n"
     ]
    }
   ],
   "source": [
    "date_min = data.groupby('group')['date'].min()\n",
    "date_max = data.groupby('group')['date'].max()\n",
    "print(date_min, date_max)"
   ]
  },
  {
   "cell_type": "markdown",
   "metadata": {},
   "source": [
    "По интервалу совпадает, теперь проверим по количеству дней."
   ]
  },
  {
   "cell_type": "code",
   "execution_count": 459,
   "metadata": {},
   "outputs": [
    {
     "name": "stdout",
     "output_type": "stream",
     "text": [
      "Количество дней наблюдений в группе А: 23\n",
      "Количество дней наблюдений в группе B: 23\n"
     ]
    }
   ],
   "source": [
    "print(f\"Количество дней наблюдений в группе А: {data[data.group=='A'].date.unique().shape[0]}\")\n",
    "print(f\"Количество дней наблюдений в группе B: {data[data.group=='B'].date.unique().shape[0]}\")"
   ]
  },
  {
   "cell_type": "markdown",
   "metadata": {},
   "source": [
    "Длительность проведения тестирования одинакова в обеих группах."
   ]
  },
  {
   "cell_type": "code",
   "execution_count": 460,
   "metadata": {},
   "outputs": [
    {
     "data": {
      "text/plain": [
       "user_id     0\n",
       "date        0\n",
       "group       0\n",
       "purchase    0\n",
       "price       0\n",
       "dtype: int64"
      ]
     },
     "execution_count": 460,
     "metadata": {},
     "output_type": "execute_result"
    }
   ],
   "source": [
    "data.isnull().sum()"
   ]
  },
  {
   "cell_type": "code",
   "execution_count": 461,
   "metadata": {},
   "outputs": [
    {
     "data": {
      "text/plain": [
       "array([851104, 804228, 661590, ..., 734608, 697314, 715931], dtype=int64)"
      ]
     },
     "execution_count": 461,
     "metadata": {},
     "output_type": "execute_result"
    }
   ],
   "source": [
    "data.user_id.unique()"
   ]
  },
  {
   "cell_type": "code",
   "execution_count": 462,
   "metadata": {},
   "outputs": [
    {
     "data": {
      "text/plain": [
       "<DatetimeArray>\n",
       "['2021-01-21 00:00:00', '2021-01-12 00:00:00', '2021-01-11 00:00:00',\n",
       " '2021-01-08 00:00:00', '2021-01-10 00:00:00', '2021-01-19 00:00:00',\n",
       " '2021-01-17 00:00:00', '2021-01-04 00:00:00', '2021-01-15 00:00:00',\n",
       " '2021-01-18 00:00:00', '2021-01-09 00:00:00', '2021-01-22 00:00:00',\n",
       " '2021-01-24 00:00:00', '2021-01-23 00:00:00', '2021-01-20 00:00:00',\n",
       " '2021-01-05 00:00:00', '2021-01-06 00:00:00', '2021-01-13 00:00:00',\n",
       " '2021-01-07 00:00:00', '2021-01-03 00:00:00', '2021-01-02 00:00:00',\n",
       " '2021-01-16 00:00:00', '2021-01-14 00:00:00']\n",
       "Length: 23, dtype: datetime64[ns]"
      ]
     },
     "execution_count": 462,
     "metadata": {},
     "output_type": "execute_result"
    }
   ],
   "source": [
    "data.date.unique()"
   ]
  },
  {
   "cell_type": "code",
   "execution_count": 463,
   "metadata": {},
   "outputs": [
    {
     "data": {
      "text/plain": [
       "array(['A', 'B'], dtype=object)"
      ]
     },
     "execution_count": 463,
     "metadata": {},
     "output_type": "execute_result"
    }
   ],
   "source": [
    "data.group.unique()"
   ]
  },
  {
   "cell_type": "code",
   "execution_count": 464,
   "metadata": {},
   "outputs": [
    {
     "data": {
      "text/plain": [
       "array([0, 1], dtype=int64)"
      ]
     },
     "execution_count": 464,
     "metadata": {},
     "output_type": "execute_result"
    }
   ],
   "source": [
    "data.purchase.unique()"
   ]
  },
  {
   "cell_type": "code",
   "execution_count": 465,
   "metadata": {},
   "outputs": [
    {
     "data": {
      "text/plain": [
       "array([     0, 150000,  10000,  60000, 100000, 200000], dtype=int64)"
      ]
     },
     "execution_count": 465,
     "metadata": {},
     "output_type": "execute_result"
    }
   ],
   "source": [
    "data.price.unique()"
   ]
  },
  {
   "cell_type": "markdown",
   "metadata": {},
   "source": [
    "Явных пропусков нет, скрытых тоже."
   ]
  },
  {
   "cell_type": "code",
   "execution_count": 466,
   "metadata": {},
   "outputs": [],
   "source": [
    "data_group = data.groupby('user_id')['group'].nunique()"
   ]
  },
  {
   "cell_type": "markdown",
   "metadata": {},
   "source": [
    "Нашлись 1895 пользователей, попавших в обе группы. Удалим их."
   ]
  },
  {
   "cell_type": "code",
   "execution_count": 467,
   "metadata": {},
   "outputs": [],
   "source": [
    "list_delete = list(data_group[data_group==2].index)\n",
    "data.drop(data.loc[data.user_id.isin(list_delete)].index, inplace=True)"
   ]
  },
  {
   "cell_type": "markdown",
   "metadata": {},
   "source": [
    "### Первичный анализ результатов A/B-тестирования"
   ]
  },
  {
   "cell_type": "markdown",
   "metadata": {},
   "source": [
    "Количество посещений сайта"
   ]
  },
  {
   "cell_type": "code",
   "execution_count": 468,
   "metadata": {},
   "outputs": [
    {
     "name": "stdout",
     "output_type": "stream",
     "text": [
      "Количество посещений в группе А: 145307\n",
      "Количество посещений в группе В: 145381\n"
     ]
    }
   ],
   "source": [
    "print(f\"Количество посещений в группе А: {data[data.group=='A']['user_id'].count()}\")\n",
    "print(f\"Количество посещений в группе В: {data[data.group=='B']['user_id'].count()}\")"
   ]
  },
  {
   "cell_type": "markdown",
   "metadata": {},
   "source": [
    "Суммарное количество совершённых покупок"
   ]
  },
  {
   "cell_type": "code",
   "execution_count": 469,
   "metadata": {},
   "outputs": [
    {
     "name": "stdout",
     "output_type": "stream",
     "text": [
      "Количество покупок в группе А: 17487\n",
      "Количество покупок в группе B: 17290\n"
     ]
    }
   ],
   "source": [
    "print(f\"Количество покупок в группе А: {data[data.group=='A']['purchase'].sum()}\")\n",
    "print(f\"Количество покупок в группе B: {data[data.group=='B']['purchase'].sum()}\")"
   ]
  },
  {
   "cell_type": "markdown",
   "metadata": {},
   "source": [
    "Cумма всех покупок"
   ]
  },
  {
   "cell_type": "code",
   "execution_count": 470,
   "metadata": {},
   "outputs": [
    {
     "name": "stdout",
     "output_type": "stream",
     "text": [
      "Сумма всех покупок в группе А: 1417780000\n",
      "Сумма всех покупок в группе B: 1533010000\n"
     ]
    }
   ],
   "source": [
    "print(f\"Сумма всех покупок в группе А: {data[data.group=='A']['price'].sum()}\")\n",
    "print(f\"Сумма всех покупок в группе B: {data[data.group=='B']['price'].sum()}\")"
   ]
  },
  {
   "cell_type": "markdown",
   "metadata": {},
   "source": [
    "Все показатели примерно одинаковы, считаю что выборка сбалансирована."
   ]
  },
  {
   "cell_type": "code",
   "execution_count": 471,
   "metadata": {},
   "outputs": [
    {
     "name": "stdout",
     "output_type": "stream",
     "text": [
      "Конверсия в группе А: 0.12\n",
      "Конверсия в группе B: 0.119\n"
     ]
    }
   ],
   "source": [
    "print(f\"Конверсия в группе А: {data[data.group=='A']['purchase'].mean().round(3)}\")\n",
    "print(f\"Конверсия в группе B: {data[data.group=='B']['purchase'].mean().round(3)}\")"
   ]
  },
  {
   "cell_type": "code",
   "execution_count": 472,
   "metadata": {},
   "outputs": [
    {
     "name": "stdout",
     "output_type": "stream",
     "text": [
      "Средний чек в группе А: 9757.135\n",
      "Средний чек в группе B: 10544.775\n"
     ]
    }
   ],
   "source": [
    "print(f\"Средний чек в группе А: {data[data.group=='A']['price'].mean().round(3)}\")\n",
    "print(f\"Средний чек в группе B: {data[data.group=='B']['price'].mean().round(3)}\")"
   ]
  },
  {
   "cell_type": "markdown",
   "metadata": {},
   "source": [
    "По конверсии разницы практически нет, а по среднему чеку она совсем незначительная, но в группе B средний чек немного выше."
   ]
  },
  {
   "cell_type": "code",
   "execution_count": 473,
   "metadata": {},
   "outputs": [
    {
     "data": {
      "text/html": [
       "<div>\n",
       "<style scoped>\n",
       "    .dataframe tbody tr th:only-of-type {\n",
       "        vertical-align: middle;\n",
       "    }\n",
       "\n",
       "    .dataframe tbody tr th {\n",
       "        vertical-align: top;\n",
       "    }\n",
       "\n",
       "    .dataframe thead th {\n",
       "        text-align: right;\n",
       "    }\n",
       "</style>\n",
       "<table border=\"1\" class=\"dataframe\">\n",
       "  <thead>\n",
       "    <tr style=\"text-align: right;\">\n",
       "      <th>group</th>\n",
       "      <th>A</th>\n",
       "      <th>B</th>\n",
       "    </tr>\n",
       "  </thead>\n",
       "  <tbody>\n",
       "    <tr>\n",
       "      <th>Нет</th>\n",
       "      <td>127820</td>\n",
       "      <td>128091</td>\n",
       "    </tr>\n",
       "    <tr>\n",
       "      <th>Санкт-Петербург</th>\n",
       "      <td>5182</td>\n",
       "      <td>5201</td>\n",
       "    </tr>\n",
       "    <tr>\n",
       "      <th>Турция</th>\n",
       "      <td>5271</td>\n",
       "      <td>1730</td>\n",
       "    </tr>\n",
       "    <tr>\n",
       "      <th>Таиланд</th>\n",
       "      <td>1832</td>\n",
       "      <td>5227</td>\n",
       "    </tr>\n",
       "    <tr>\n",
       "      <th>Камчатка</th>\n",
       "      <td>3478</td>\n",
       "      <td>3438</td>\n",
       "    </tr>\n",
       "    <tr>\n",
       "      <th>Мальдивы</th>\n",
       "      <td>1724</td>\n",
       "      <td>1694</td>\n",
       "    </tr>\n",
       "  </tbody>\n",
       "</table>\n",
       "</div>"
      ],
      "text/plain": [
       "group                 A       B\n",
       "Нет              127820  128091\n",
       "Санкт-Петербург    5182    5201\n",
       "Турция             5271    1730\n",
       "Таиланд            1832    5227\n",
       "Камчатка           3478    3438\n",
       "Мальдивы           1724    1694"
      ]
     },
     "execution_count": 473,
     "metadata": {},
     "output_type": "execute_result"
    }
   ],
   "source": [
    "data_piv = pd.pivot_table(data,\n",
    "                          index='price',\n",
    "                          columns='group' ,\n",
    "                          values='user_id',\n",
    "                          aggfunc='count',\n",
    ").reset_index(drop=True).set_index([pd.Index(['Нет',\n",
    "                                              'Санкт-Петербург',\n",
    "                                              'Турция','Таиланд',\n",
    "                                              'Камчатка','Мальдивы'])]\n",
    "                                   )\n",
    "data_piv"
   ]
  },
  {
   "cell_type": "code",
   "execution_count": 474,
   "metadata": {},
   "outputs": [
    {
     "data": {
      "image/png": "[encoded data removed]"
     },
     "metadata": {},
     "output_type": "display_data"
    }
   ],
   "source": [
    "fig = px.bar(data_piv.drop('Нет', axis=0),\n",
    "             barmode='group',\n",
    "             height=400,\n",
    "             width=700,\n",
    "             text_auto=True,\n",
    "             title='Количество продаж в зависимости от группы и цены тура',\n",
    "             labels={'index':'Тур',\n",
    "                     'value':'Количество продаж',\n",
    "                     'group':'Группа'}\n",
    ")\n",
    "\n",
    "fig.update_layout(\n",
    "    margin=dict(l=20, r=20, t=60, b=20),\n",
    "    paper_bgcolor='LightSteelBlue',\n",
    "    legend = dict(orientation='h')\n",
    ")\n",
    "fig.show('png')"
   ]
  },
  {
   "cell_type": "markdown",
   "metadata": {},
   "source": [
    "В трех турах количество продаж почти одинаково. Туры в Турцию чаще покупали пользователи из групы А, а в турах в Таиланд противоположная ситуация - их чаще покупают пользователи из группы В. Можно предположить что туры в Таиланд на новом дизайне представлены в более выгодном свете, несмотря на их цену(больше чем в Турции).\n",
    "\n",
    "### Анализ данных на предмет стабилизации метрик"
   ]
  },
  {
   "cell_type": "code",
   "execution_count": 475,
   "metadata": {},
   "outputs": [
    {
     "data": {
      "text/html": [
       "<div>\n",
       "<style scoped>\n",
       "    .dataframe tbody tr th:only-of-type {\n",
       "        vertical-align: middle;\n",
       "    }\n",
       "\n",
       "    .dataframe tbody tr th {\n",
       "        vertical-align: top;\n",
       "    }\n",
       "\n",
       "    .dataframe thead th {\n",
       "        text-align: right;\n",
       "    }\n",
       "</style>\n",
       "<table border=\"1\" class=\"dataframe\">\n",
       "  <thead>\n",
       "    <tr style=\"text-align: right;\">\n",
       "      <th></th>\n",
       "      <th>date</th>\n",
       "      <th>group</th>\n",
       "      <th>user_count</th>\n",
       "      <th>purchase</th>\n",
       "      <th>price</th>\n",
       "    </tr>\n",
       "  </thead>\n",
       "  <tbody>\n",
       "    <tr>\n",
       "      <th>0</th>\n",
       "      <td>2021-01-02</td>\n",
       "      <td>A</td>\n",
       "      <td>2854</td>\n",
       "      <td>359</td>\n",
       "      <td>29410000</td>\n",
       "    </tr>\n",
       "    <tr>\n",
       "      <th>1</th>\n",
       "      <td>2021-01-02</td>\n",
       "      <td>B</td>\n",
       "      <td>2861</td>\n",
       "      <td>345</td>\n",
       "      <td>29660000</td>\n",
       "    </tr>\n",
       "    <tr>\n",
       "      <th>2</th>\n",
       "      <td>2021-01-03</td>\n",
       "      <td>A</td>\n",
       "      <td>6596</td>\n",
       "      <td>748</td>\n",
       "      <td>62000000</td>\n",
       "    </tr>\n",
       "    <tr>\n",
       "      <th>3</th>\n",
       "      <td>2021-01-03</td>\n",
       "      <td>B</td>\n",
       "      <td>6619</td>\n",
       "      <td>754</td>\n",
       "      <td>65960000</td>\n",
       "    </tr>\n",
       "    <tr>\n",
       "      <th>4</th>\n",
       "      <td>2021-01-04</td>\n",
       "      <td>A</td>\n",
       "      <td>6566</td>\n",
       "      <td>799</td>\n",
       "      <td>64250000</td>\n",
       "    </tr>\n",
       "  </tbody>\n",
       "</table>\n",
       "</div>"
      ],
      "text/plain": [
       "        date group  user_count  purchase     price\n",
       "0 2021-01-02     A        2854       359  29410000\n",
       "1 2021-01-02     B        2861       345  29660000\n",
       "2 2021-01-03     A        6596       748  62000000\n",
       "3 2021-01-03     B        6619       754  65960000\n",
       "4 2021-01-04     A        6566       799  64250000"
      ]
     },
     "execution_count": 475,
     "metadata": {},
     "output_type": "execute_result"
    }
   ],
   "source": [
    "daily_data = data.groupby(['date', 'group']).agg({\n",
    "    'user_id':'count',\n",
    "    'purchase':'sum',\n",
    "    'price':'sum'\n",
    "}).reset_index().rename(columns={'user_id': 'user_count'})\n",
    "daily_data.head()"
   ]
  },
  {
   "cell_type": "code",
   "execution_count": 490,
   "metadata": {},
   "outputs": [],
   "source": [
    "daily_data_a = daily_data[daily_data['group'] == 'A']\n",
    "daily_data_b = daily_data[daily_data['group'] == 'B']\n",
    "\n",
    "daily_data_a.loc[:, 'conversion'] = daily_data_a.purchase/daily_data_a.user_count*100\n",
    "daily_data_a.loc[:, 'cheque'] = daily_data_a.price/daily_data_a.purchase\n",
    "daily_data_a.loc[:, 'cum_user_count'] = daily_data_a.user_count.cumsum()\n",
    "daily_data_a.loc[:, 'cum_purchase'] = daily_data_a.purchase.cumsum()\n",
    "daily_data_a.loc[:, 'cum_price'] = daily_data_a.price.cumsum()\n",
    "daily_data_a.loc[:, 'cum_conversion'] = daily_data_a.cum_purchase/daily_data_a.cum_user_count*100\n",
    "daily_data_a.loc[:, 'cum_cheque'] = daily_data_a.cum_price/daily_data_a.cum_purchase*100\n",
    "\n",
    "daily_data_b.loc[:, 'conversion'] = daily_data_b.purchase/daily_data_b.user_count*100\n",
    "daily_data_b.loc[:, 'cheque'] = daily_data_b.price/daily_data_b.purchase\n",
    "daily_data_b.loc[:, 'cum_user_count'] = daily_data_b.user_count.cumsum()\n",
    "daily_data_b.loc[:, 'cum_purchase'] = daily_data_b.purchase.cumsum()\n",
    "daily_data_b.loc[:, 'cum_price'] = daily_data_b.price.cumsum()\n",
    "daily_data_b.loc[:, 'cum_conversion'] = daily_data_b.cum_purchase/daily_data_b.cum_user_count*100\n",
    "daily_data_b.loc[:, 'cum_cheque'] = daily_data_b.cum_price/daily_data_b.cum_purchase*100\n",
    "\n",
    "daily_data = pd.concat([daily_data_a, daily_data_b])"
   ]
  },
  {
   "cell_type": "code",
   "execution_count": 477,
   "metadata": {},
   "outputs": [
    {
     "data": {
      "image/png": "[encoded data removed]"
     },
     "metadata": {},
     "output_type": "display_data"
    }
   ],
   "source": [
    "fig = px.line(daily_data, x='date', y='cum_conversion',\n",
    "              color='group',\n",
    "              height=400,\n",
    "              width=700,\n",
    "              title='Кумулятивный график конверсии по дням',\n",
    "              labels={'date':'Дата',\n",
    "                      'cum_conversion':'Показатели конверсии',\n",
    "                      'group':'Группа'}\n",
    ")\n",
    "\n",
    "fig.update_layout(\n",
    "    margin=dict(l=20, r=20, t=60, b=20),\n",
    "    paper_bgcolor='LightSteelBlue',\n",
    "    legend = dict(orientation='h')\n",
    ")\n",
    "fig.show('png')"
   ]
  },
  {
   "cell_type": "code",
   "execution_count": 478,
   "metadata": {},
   "outputs": [
    {
     "data": {
      "image/png": "[encoded data removed]"
     },
     "metadata": {},
     "output_type": "display_data"
    }
   ],
   "source": [
    "fig = px.line(daily_data, x='date', y='cum_cheque',\n",
    "              color='group',\n",
    "              height=400,\n",
    "              width=700,\n",
    "              title='Кумулятивный график среднего чека по дням',\n",
    "              labels={'date':'Дата',\n",
    "                      'cum_cheque':'Кумулятивный средний чек',\n",
    "                      'group':'Группа'}\n",
    ")\n",
    "\n",
    "fig.update_layout(\n",
    "    margin=dict(l=20, r=20, t=60, b=20),\n",
    "    paper_bgcolor='LightSteelBlue',\n",
    "    legend = dict(orientation='h')\n",
    ")\n",
    "fig.show('png')"
   ]
  },
  {
   "cell_type": "markdown",
   "metadata": {},
   "source": [
    "Кумулятивные графики стабилизировались, поэтому можно считать длительность эксперимента достаточной для того, чтобы судить о статистической значимости разности между показателем конверсии в группах.\n",
    "\n",
    "Есть небольшая разница в конверсиях. Также наблюдается значительная разница в среднем чеке наблюдений.\n",
    "\n",
    "### Статистический анализ результатов A/B-тестирования"
   ]
  },
  {
   "cell_type": "code",
   "execution_count": 479,
   "metadata": {},
   "outputs": [],
   "source": [
    "# функция для красивого вывода решения\n",
    "def decision_hypothesis(p):\n",
    "    print('p-value = {:.3f}'.format(p))\n",
    "    if (p <= alpha):\n",
    "        print(\"Отвергаем нулевую гипотезу в пользу альтернативной\")\n",
    "    else:\n",
    "        print(\"У нас нет оснований отвергнуть нулевую гипотезу\")\n",
    "        \n",
    "# функция для принятия решения о нормальности\n",
    "def decision_normality(p):\n",
    "    print('p-value = {:.3f}'.format(p))\n",
    "    if p <= alpha:\n",
    "        print('p-значение меньше, чем заданный уровень значимости {:.2f}. Распределение отлично от нормального'.format(alpha))\n",
    "    else:\n",
    "        print('p-значение больше, чем заданный уровень значимости {:.2f}. Распределение является нормальным'.format(alpha))"
   ]
  },
  {
   "cell_type": "markdown",
   "metadata": {},
   "source": [
    "**Есть ли статистическая разница между конверсиями в группах А и B?**\n",
    "\n",
    "Группы независимы, будем использовать Z-тест для пропорций.\n",
    "\n",
    "*Нулевая гипотеза* ($H_0$): конверсии в группах A и B равны..\n",
    "\n",
    "$$ H_0 : p_a = p_b$$\n",
    "\n",
    "*Альтернативная гипотеза* ($H_1$):  конверсии в группах A и B не равны..\n",
    "\n",
    "$$ H_1 : p_a \\neq p_b$$"
   ]
  },
  {
   "cell_type": "code",
   "execution_count": 480,
   "metadata": {},
   "outputs": [],
   "source": [
    "data_temp = data.groupby('group')['purchase'].agg(['sum', 'count'])"
   ]
  },
  {
   "cell_type": "code",
   "execution_count": 481,
   "metadata": {},
   "outputs": [
    {
     "name": "stdout",
     "output_type": "stream",
     "text": [
      "p-value = 0.239\n",
      "У нас нет оснований отвергнуть нулевую гипотезу\n"
     ]
    }
   ],
   "source": [
    "alpha = 0.05\n",
    "\n",
    "_, p_value = proportions_ztest(\n",
    "    count=data_temp['sum'],\n",
    "    nobs=data_temp['count'],\n",
    "    alternative='two-sided'\n",
    ")\n",
    "decision_hypothesis(p_value)"
   ]
  },
  {
   "cell_type": "markdown",
   "metadata": {},
   "source": [
    "Принимаем нулевую гипотезу о равенстве конверсий. По результатам теста статистической разницы между конверсиями в двух группах нет."
   ]
  },
  {
   "cell_type": "markdown",
   "metadata": {},
   "source": [
    "**Есть ли статистическая разница между ежедневными средними чеками в группах А и B?**\n",
    "\n",
    "*Нулевая гипотеза* ($H_0$): средний чек пользователя из группы А равен среднему чеку пользователя из группы B.\n",
    "\n",
    "$$ H_0 : p_a = p_b$$\n",
    "\n",
    "*Альтернативная гипотеза* ($H_1$): средний чек пользователя из группы А отличается от среднего чека пользователя из группы B.\n",
    "\n",
    "$$ H_1 : p_a \\neq p_b$$"
   ]
  },
  {
   "cell_type": "code",
   "execution_count": 482,
   "metadata": {},
   "outputs": [
    {
     "name": "stdout",
     "output_type": "stream",
     "text": [
      "p-value = 0.253\n",
      "p-значение больше, чем заданный уровень значимости 0.05. Распределение является нормальным\n",
      "p-value = 0.094\n",
      "p-значение больше, чем заданный уровень значимости 0.05. Распределение является нормальным\n"
     ]
    }
   ],
   "source": [
    "_, p_value = shapiro(daily_data[daily_data.group=='A'].cheque)\n",
    "decision_normality(p_value)\n",
    "\n",
    "_, p_value = shapiro(daily_data[daily_data.group=='B'].cheque)\n",
    "decision_normality(p_value)"
   ]
  },
  {
   "cell_type": "markdown",
   "metadata": {},
   "source": [
    "Распределение нормальное в обеих группах, значит выбираем двухвыборочный T-тест."
   ]
  },
  {
   "cell_type": "code",
   "execution_count": 483,
   "metadata": {},
   "outputs": [
    {
     "name": "stdout",
     "output_type": "stream",
     "text": [
      "p-value = 0.000\n",
      "Отвергаем нулевую гипотезу в пользу альтернативной\n"
     ]
    }
   ],
   "source": [
    "alpha = 0.05\n",
    "\n",
    "results = ttest_ind(\n",
    "    a=daily_data[daily_data.group=='A'].cheque,\n",
    "    b=daily_data[daily_data.group=='B'].cheque,\n",
    "    alternative='two-sided'\n",
    ")\n",
    "decision_hypothesis(results.pvalue)"
   ]
  },
  {
   "cell_type": "markdown",
   "metadata": {},
   "source": [
    "Принимаем альтернативную гипотезу. По результатам теста между средними чеками в двух группах есть статистическая разница. Посмотрим в какую сторону.\n",
    "\n",
    "*Нулевая гипотеза* ($H_0$): средний чек пользователя из группы А больше или равен среднему чеку пользователя из группы B.\n",
    "\n",
    "$$ H_0 : p_a >= p_b$$\n",
    "\n",
    "*Альтернативная гипотеза* ($H_1$): средний чек пользователя из группы А меньше среднего чека пользователя из группы B.\n",
    "\n",
    "$$ H_1 : p_a < p_b$$"
   ]
  },
  {
   "cell_type": "code",
   "execution_count": 484,
   "metadata": {},
   "outputs": [
    {
     "name": "stdout",
     "output_type": "stream",
     "text": [
      "p-value = 0.000\n",
      "Отвергаем нулевую гипотезу в пользу альтернативной\n"
     ]
    }
   ],
   "source": [
    "alpha = 0.05\n",
    "\n",
    "results = ttest_ind(\n",
    "    a=daily_data[daily_data.group=='A'].cheque,\n",
    "    b=daily_data[daily_data.group=='B'].cheque,\n",
    "    alternative='less'\n",
    ")\n",
    "decision_hypothesis(results.pvalue)"
   ]
  },
  {
   "cell_type": "markdown",
   "metadata": {},
   "source": [
    "Ежедневный средний чек пользователей из группы А меньше ежедневного среднего чека пользователей из группы В, разница статистически значима. Думаю это могло произойти из-за разницы Турция-Таиланд, потому что разница в цене данных туров велика.\n",
    "\n",
    "#### конверсия в каждой из групп"
   ]
  },
  {
   "cell_type": "code",
   "execution_count": 485,
   "metadata": {},
   "outputs": [],
   "source": [
    "data_a = data[data.group=='A']\n",
    "data_b = data[data.group=='B']"
   ]
  },
  {
   "cell_type": "code",
   "execution_count": 486,
   "metadata": {},
   "outputs": [
    {
     "name": "stdout",
     "output_type": "stream",
     "text": [
      "Доверительный интервал для конверсии в группе А: (11.87, 12.2)\n",
      "Доверительный интервал для конверсии в группе B: (11.73, 12.06)\n"
     ]
    }
   ],
   "source": [
    "lower_bound_a, upper_bound_a = proportion.proportion_confint(\n",
    "    count=data_a.purchase.sum(),\n",
    "    nobs=data_a.user_id.count(),\n",
    "    alpha=0.05\n",
    ")\n",
    "\n",
    "lower_bound_b, upper_bound_b = proportion.proportion_confint(\n",
    "    count=data_b.purchase.sum(),\n",
    "    nobs=data_b.user_id.count(),\n",
    "    alpha=0.05\n",
    ")\n",
    "\n",
    "print('Доверительный интервал для конверсии в группе А: {}'.format((round(lower_bound_a * 100, 2), round(upper_bound_a * 100, 2))))\n",
    "print('Доверительный интервал для конверсии в группе B: {}'.format((round(lower_bound_b * 100, 2), round(upper_bound_b * 100, 2))))"
   ]
  },
  {
   "cell_type": "markdown",
   "metadata": {},
   "source": [
    "С надёжностью в 95 % конверсия группы А лежит в интервале от 11.87 % до 12.2 %, а конверсия группы B лежит в интервале от 11.73 % до 12.06 %.\n",
    "\n",
    "Присутствует перекрытие между доверительными интервалами для групп, поэтому стоит построить доверительный интервал разницы конверсий.\n",
    "\n",
    "#### разница конверсий"
   ]
  },
  {
   "cell_type": "code",
   "execution_count": 487,
   "metadata": {},
   "outputs": [
    {
     "name": "stdout",
     "output_type": "stream",
     "text": [
      "Доверительный интервал для разности конверсий: (-0.38, 0.09)\n"
     ]
    }
   ],
   "source": [
    "n = [data_a.user_id.count(), data_b.user_id.count()]\n",
    "x_p = [data_a.purchase.mean(), data_b.purchase.mean()]\n",
    "\n",
    "alpha = 0.05\n",
    "diff = data_b.purchase.mean() - data_a.purchase.mean()\n",
    "z_crit = -norm.ppf(alpha/2)\n",
    "eps = z_crit * (x_p[0] * (1 - x_p[0])/n[0] + x_p[1] * (1 - x_p[1])/n[1]) ** 0.5\n",
    "lower_bound = (diff - eps).round(4)*100\n",
    "upper_bound = (diff + eps).round(4)*100\n",
    "print('Доверительный интервал для разности конверсий: {}'.format((lower_bound, upper_bound)))"
   ]
  },
  {
   "cell_type": "markdown",
   "metadata": {},
   "source": [
    "Интервал охватывает точку 0, значит варианты А и В равнозначны по метрике конверсий.\n",
    "\n",
    "#### ежедневный средний чек в каждой из групп"
   ]
  },
  {
   "cell_type": "code",
   "execution_count": 488,
   "metadata": {},
   "outputs": [
    {
     "name": "stdout",
     "output_type": "stream",
     "text": [
      "Доверительный интервал среднего чека в группе А: (79660, 82279)\n"
     ]
    }
   ],
   "source": [
    "gamma = 0.95\n",
    "n = 23\n",
    "k = n-1\n",
    "x_mean = daily_data_a.cheque.mean()\n",
    "x_std = np.std(daily_data_a.cheque)\n",
    "lower, upper = t.interval(gamma, df=k, loc=x_mean, scale=x_std/(n ** 0.5))\n",
    "print('Доверительный интервал среднего чека в группе А: {}'.format((round(lower), round(upper))))"
   ]
  },
  {
   "cell_type": "code",
   "execution_count": 489,
   "metadata": {},
   "outputs": [
    {
     "name": "stdout",
     "output_type": "stream",
     "text": [
      "Доверительный интервал среднего чека в группе В: (87647, 89505)\n"
     ]
    }
   ],
   "source": [
    "gamma = 0.95\n",
    "n = daily_data_b.shape[0]\n",
    "k = n-1\n",
    "x_mean = daily_data_b.cheque.mean()\n",
    "x_std = np.std(daily_data_b.cheque)\n",
    "lower, upper = t.interval(gamma, df=k, loc=x_mean, scale=x_std/(n ** 0.5))\n",
    "print('Доверительный интервал среднего чека в группе В: {}'.format((round(lower), round(upper))))"
   ]
  },
  {
   "cell_type": "markdown",
   "metadata": {},
   "source": [
    "С надежностью 95% истинные траты пользователей из группы А лежат в интервале от 79 660 до 82 279 рублей, а пользователей группы В - от 87 647 до 89 505."
   ]
  },
  {
   "cell_type": "markdown",
   "metadata": {},
   "source": [
    "### Общий вывод по результатам A/B-теста\n",
    "\n",
    "Принимая во внимание графики кумулятивных конверсий, результаты статистического теста для конверсий, а также расчеты доверительных интервалов и разницы этих интервалов, мы не можем дать точный ответ какой вариант посадочной страницы является предпочтительным.\n",
    "\n",
    "Ответ на этот вопрос нам помогли найти кумулятивный график среднего чека, результаты статистических тестов ежедневных средних чеков и их доверительные интервалы в каждой из групп - вариант В является более эффективным."
   ]
  }
 ],
 "metadata": {
  "kernelspec": {
   "display_name": "Python 3",
   "language": "python",
   "name": "python3"
  },
  "language_info": {
   "codemirror_mode": {
    "name": "ipython",
    "version": 3
   },
   "file_extension": ".py",
   "mimetype": "text/x-python",
   "name": "python",
   "nbconvert_exporter": "python",
   "pygments_lexer": "ipython3",
   "version": "3.11.9"
  }
 },
 "nbformat": 4,
 "nbformat_minor": 2
}
