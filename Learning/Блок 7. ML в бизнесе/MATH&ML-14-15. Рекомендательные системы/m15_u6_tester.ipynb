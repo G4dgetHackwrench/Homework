{
 "cells": [
  {
   "cell_type": "markdown",
   "metadata": {},
   "source": [
    " Итак, вы познакомились с основными методами построения рекомендательных систем, и теперь настало время закрепить полученные знания на практике. В предыдущем модуле мы начали строить РС для сервиса чтения статей CI&T DeskDrop. В этом юните мы продолжим работу над ней.  \n",
    "\n",
    "Примечание. Если у вас не сохранился код, который мы использовали ранее, вы можете найти его в ноутбуке RecSys_unit6.\n",
    "\n",
    "Так как теперь вам известны более сложные алгоритмы построения рекомендательных систем, начнём с них.\n",
    "\n",
    "Для начала необходимо построить матрицу, в которой по столбцам будут находиться id статей, по строкам — id пользователей, а на пересечениях строк и столбцов — оценка взаимодействия пользователя со статьёй. Если взаимодействия не было, в соответствующей ячейке должен стоять ноль."
   ]
  },
  {
   "cell_type": "code",
   "execution_count": 1,
   "metadata": {},
   "outputs": [],
   "source": [
    "import pandas as pd\n",
    "import numpy as np\n",
    "import math"
   ]
  },
  {
   "cell_type": "code",
   "execution_count": 3,
   "metadata": {},
   "outputs": [],
   "source": [
    "articles_df = pd.read_csv('shared_articles.zip')\n",
    "articles_df = articles_df[articles_df['eventType'] == 'CONTENT SHARED']"
   ]
  },
  {
   "cell_type": "code",
   "execution_count": 5,
   "metadata": {},
   "outputs": [],
   "source": [
    "interactions_df = pd.read_csv('users_interactions.csv')"
   ]
  },
  {
   "cell_type": "code",
   "execution_count": 6,
   "metadata": {},
   "outputs": [],
   "source": [
    "interactions_df.personId = interactions_df.personId.astype(str)\n",
    "interactions_df.contentId = interactions_df.contentId.astype(str)\n",
    "articles_df.contentId = articles_df.contentId.astype(str)"
   ]
  },
  {
   "cell_type": "code",
   "execution_count": 7,
   "metadata": {},
   "outputs": [],
   "source": [
    "event_type_strength = {\n",
    "   'VIEW': 1.0,\n",
    "   'LIKE': 2.0, \n",
    "   'BOOKMARK': 2.5, \n",
    "   'FOLLOW': 3.0,\n",
    "   'COMMENT CREATED': 4.0,  \n",
    "}"
   ]
  },
  {
   "cell_type": "code",
   "execution_count": 8,
   "metadata": {},
   "outputs": [],
   "source": [
    "interactions_df['eventStrength'] = interactions_df.eventType.apply(lambda x: event_type_strength[x])"
   ]
  },
  {
   "cell_type": "code",
   "execution_count": 9,
   "metadata": {},
   "outputs": [],
   "source": [
    "users_interactions_count_df = (\n",
    "    interactions_df\n",
    "    .groupby(['personId', 'contentId'])\n",
    "    .first()\n",
    "    .reset_index()\n",
    "    .groupby('personId').size())\n",
    "\n",
    "users_with_enough_interactions_df = \\\n",
    "    users_interactions_count_df[users_interactions_count_df >= 5].reset_index()[['personId']]"
   ]
  },
  {
   "cell_type": "code",
   "execution_count": 10,
   "metadata": {},
   "outputs": [],
   "source": [
    "interactions_from_selected_users_df = interactions_df.loc[np.in1d(interactions_df.personId,\n",
    "            users_with_enough_interactions_df)]"
   ]
  },
  {
   "cell_type": "code",
   "execution_count": 11,
   "metadata": {},
   "outputs": [],
   "source": [
    "def smooth_user_preference(x):\n",
    "    return math.log(1+x, 2)\n",
    "    \n",
    "interactions_full_df = (\n",
    "    interactions_from_selected_users_df\n",
    "    .groupby(['personId', 'contentId']).eventStrength.sum()\n",
    "    .apply(smooth_user_preference)\n",
    "    .reset_index().set_index(['personId', 'contentId'])\n",
    ")\n",
    "interactions_full_df['last_timestamp'] = (\n",
    "    interactions_from_selected_users_df\n",
    "    .groupby(['personId', 'contentId'])['timestamp'].max()\n",
    ")\n",
    "        \n",
    "interactions_full_df = interactions_full_df.reset_index()"
   ]
  },
  {
   "cell_type": "code",
   "execution_count": 12,
   "metadata": {},
   "outputs": [],
   "source": [
    "from sklearn.model_selection import train_test_split\n",
    "\n",
    "split_ts = 1475519545\n",
    "interactions_train_df = interactions_full_df.loc[interactions_full_df.last_timestamp < split_ts].copy()\n",
    "interactions_test_df = interactions_full_df.loc[interactions_full_df.last_timestamp >= split_ts].copy()\n"
   ]
  },
  {
   "cell_type": "code",
   "execution_count": 13,
   "metadata": {},
   "outputs": [
    {
     "data": {
      "text/html": [
       "<div>\n",
       "<style scoped>\n",
       "    .dataframe tbody tr th:only-of-type {\n",
       "        vertical-align: middle;\n",
       "    }\n",
       "\n",
       "    .dataframe tbody tr th {\n",
       "        vertical-align: top;\n",
       "    }\n",
       "\n",
       "    .dataframe thead th {\n",
       "        text-align: right;\n",
       "    }\n",
       "</style>\n",
       "<table border=\"1\" class=\"dataframe\">\n",
       "  <thead>\n",
       "    <tr style=\"text-align: right;\">\n",
       "      <th>contentId</th>\n",
       "      <th>-1006791494035379303</th>\n",
       "      <th>-1021685224930603833</th>\n",
       "      <th>-1022885988494278200</th>\n",
       "      <th>-1024046541613287684</th>\n",
       "      <th>-1033806831489252007</th>\n",
       "      <th>-1038011342017850</th>\n",
       "      <th>-1039912738963181810</th>\n",
       "      <th>-1046621686880462790</th>\n",
       "      <th>-1051830303851697653</th>\n",
       "      <th>-1055630159212837930</th>\n",
       "      <th>...</th>\n",
       "      <th>9217155070834564627</th>\n",
       "      <th>921770761777842242</th>\n",
       "      <th>9220445660318725468</th>\n",
       "      <th>9222265156747237864</th>\n",
       "      <th>943818026930898372</th>\n",
       "      <th>957332268361319692</th>\n",
       "      <th>966067567430037498</th>\n",
       "      <th>972258375127367383</th>\n",
       "      <th>980458131533897249</th>\n",
       "      <th>98528655405030624</th>\n",
       "    </tr>\n",
       "    <tr>\n",
       "      <th>personId</th>\n",
       "      <th></th>\n",
       "      <th></th>\n",
       "      <th></th>\n",
       "      <th></th>\n",
       "      <th></th>\n",
       "      <th></th>\n",
       "      <th></th>\n",
       "      <th></th>\n",
       "      <th></th>\n",
       "      <th></th>\n",
       "      <th></th>\n",
       "      <th></th>\n",
       "      <th></th>\n",
       "      <th></th>\n",
       "      <th></th>\n",
       "      <th></th>\n",
       "      <th></th>\n",
       "      <th></th>\n",
       "      <th></th>\n",
       "      <th></th>\n",
       "      <th></th>\n",
       "    </tr>\n",
       "  </thead>\n",
       "  <tbody>\n",
       "    <tr>\n",
       "      <th>-1007001694607905623</th>\n",
       "      <td>0.0</td>\n",
       "      <td>0.0</td>\n",
       "      <td>0.0</td>\n",
       "      <td>0.0</td>\n",
       "      <td>0.0</td>\n",
       "      <td>0.0</td>\n",
       "      <td>0.0</td>\n",
       "      <td>0.0</td>\n",
       "      <td>0.0</td>\n",
       "      <td>0.0</td>\n",
       "      <td>...</td>\n",
       "      <td>0.0</td>\n",
       "      <td>0.0</td>\n",
       "      <td>0.0</td>\n",
       "      <td>0.0</td>\n",
       "      <td>0.000000</td>\n",
       "      <td>0.0</td>\n",
       "      <td>0.0</td>\n",
       "      <td>0.0</td>\n",
       "      <td>0.0</td>\n",
       "      <td>0.0</td>\n",
       "    </tr>\n",
       "    <tr>\n",
       "      <th>-1032019229384696495</th>\n",
       "      <td>1.0</td>\n",
       "      <td>0.0</td>\n",
       "      <td>0.0</td>\n",
       "      <td>0.0</td>\n",
       "      <td>0.0</td>\n",
       "      <td>0.0</td>\n",
       "      <td>1.0</td>\n",
       "      <td>0.0</td>\n",
       "      <td>0.0</td>\n",
       "      <td>0.0</td>\n",
       "      <td>...</td>\n",
       "      <td>3.0</td>\n",
       "      <td>0.0</td>\n",
       "      <td>0.0</td>\n",
       "      <td>0.0</td>\n",
       "      <td>2.321928</td>\n",
       "      <td>0.0</td>\n",
       "      <td>0.0</td>\n",
       "      <td>0.0</td>\n",
       "      <td>0.0</td>\n",
       "      <td>0.0</td>\n",
       "    </tr>\n",
       "    <tr>\n",
       "      <th>-108842214936804958</th>\n",
       "      <td>0.0</td>\n",
       "      <td>0.0</td>\n",
       "      <td>0.0</td>\n",
       "      <td>0.0</td>\n",
       "      <td>0.0</td>\n",
       "      <td>0.0</td>\n",
       "      <td>0.0</td>\n",
       "      <td>0.0</td>\n",
       "      <td>0.0</td>\n",
       "      <td>0.0</td>\n",
       "      <td>...</td>\n",
       "      <td>0.0</td>\n",
       "      <td>0.0</td>\n",
       "      <td>0.0</td>\n",
       "      <td>0.0</td>\n",
       "      <td>0.000000</td>\n",
       "      <td>0.0</td>\n",
       "      <td>2.0</td>\n",
       "      <td>0.0</td>\n",
       "      <td>0.0</td>\n",
       "      <td>0.0</td>\n",
       "    </tr>\n",
       "    <tr>\n",
       "      <th>-1130272294246983140</th>\n",
       "      <td>0.0</td>\n",
       "      <td>0.0</td>\n",
       "      <td>0.0</td>\n",
       "      <td>0.0</td>\n",
       "      <td>0.0</td>\n",
       "      <td>0.0</td>\n",
       "      <td>0.0</td>\n",
       "      <td>0.0</td>\n",
       "      <td>0.0</td>\n",
       "      <td>0.0</td>\n",
       "      <td>...</td>\n",
       "      <td>0.0</td>\n",
       "      <td>0.0</td>\n",
       "      <td>0.0</td>\n",
       "      <td>0.0</td>\n",
       "      <td>1.000000</td>\n",
       "      <td>0.0</td>\n",
       "      <td>0.0</td>\n",
       "      <td>0.0</td>\n",
       "      <td>0.0</td>\n",
       "      <td>0.0</td>\n",
       "    </tr>\n",
       "    <tr>\n",
       "      <th>-1160159014793528221</th>\n",
       "      <td>0.0</td>\n",
       "      <td>0.0</td>\n",
       "      <td>0.0</td>\n",
       "      <td>0.0</td>\n",
       "      <td>0.0</td>\n",
       "      <td>0.0</td>\n",
       "      <td>0.0</td>\n",
       "      <td>0.0</td>\n",
       "      <td>0.0</td>\n",
       "      <td>0.0</td>\n",
       "      <td>...</td>\n",
       "      <td>0.0</td>\n",
       "      <td>0.0</td>\n",
       "      <td>0.0</td>\n",
       "      <td>0.0</td>\n",
       "      <td>0.000000</td>\n",
       "      <td>0.0</td>\n",
       "      <td>0.0</td>\n",
       "      <td>0.0</td>\n",
       "      <td>0.0</td>\n",
       "      <td>0.0</td>\n",
       "    </tr>\n",
       "    <tr>\n",
       "      <th>...</th>\n",
       "      <td>...</td>\n",
       "      <td>...</td>\n",
       "      <td>...</td>\n",
       "      <td>...</td>\n",
       "      <td>...</td>\n",
       "      <td>...</td>\n",
       "      <td>...</td>\n",
       "      <td>...</td>\n",
       "      <td>...</td>\n",
       "      <td>...</td>\n",
       "      <td>...</td>\n",
       "      <td>...</td>\n",
       "      <td>...</td>\n",
       "      <td>...</td>\n",
       "      <td>...</td>\n",
       "      <td>...</td>\n",
       "      <td>...</td>\n",
       "      <td>...</td>\n",
       "      <td>...</td>\n",
       "      <td>...</td>\n",
       "      <td>...</td>\n",
       "    </tr>\n",
       "    <tr>\n",
       "      <th>953707509720613429</th>\n",
       "      <td>0.0</td>\n",
       "      <td>0.0</td>\n",
       "      <td>0.0</td>\n",
       "      <td>0.0</td>\n",
       "      <td>0.0</td>\n",
       "      <td>0.0</td>\n",
       "      <td>0.0</td>\n",
       "      <td>0.0</td>\n",
       "      <td>0.0</td>\n",
       "      <td>0.0</td>\n",
       "      <td>...</td>\n",
       "      <td>0.0</td>\n",
       "      <td>0.0</td>\n",
       "      <td>0.0</td>\n",
       "      <td>0.0</td>\n",
       "      <td>0.000000</td>\n",
       "      <td>0.0</td>\n",
       "      <td>0.0</td>\n",
       "      <td>0.0</td>\n",
       "      <td>0.0</td>\n",
       "      <td>0.0</td>\n",
       "    </tr>\n",
       "    <tr>\n",
       "      <th>983095443598229476</th>\n",
       "      <td>0.0</td>\n",
       "      <td>0.0</td>\n",
       "      <td>0.0</td>\n",
       "      <td>0.0</td>\n",
       "      <td>0.0</td>\n",
       "      <td>0.0</td>\n",
       "      <td>0.0</td>\n",
       "      <td>0.0</td>\n",
       "      <td>0.0</td>\n",
       "      <td>0.0</td>\n",
       "      <td>...</td>\n",
       "      <td>0.0</td>\n",
       "      <td>0.0</td>\n",
       "      <td>0.0</td>\n",
       "      <td>0.0</td>\n",
       "      <td>0.000000</td>\n",
       "      <td>0.0</td>\n",
       "      <td>0.0</td>\n",
       "      <td>0.0</td>\n",
       "      <td>0.0</td>\n",
       "      <td>0.0</td>\n",
       "    </tr>\n",
       "    <tr>\n",
       "      <th>989049974880576288</th>\n",
       "      <td>0.0</td>\n",
       "      <td>0.0</td>\n",
       "      <td>0.0</td>\n",
       "      <td>0.0</td>\n",
       "      <td>0.0</td>\n",
       "      <td>0.0</td>\n",
       "      <td>0.0</td>\n",
       "      <td>0.0</td>\n",
       "      <td>0.0</td>\n",
       "      <td>0.0</td>\n",
       "      <td>...</td>\n",
       "      <td>0.0</td>\n",
       "      <td>0.0</td>\n",
       "      <td>0.0</td>\n",
       "      <td>0.0</td>\n",
       "      <td>0.000000</td>\n",
       "      <td>0.0</td>\n",
       "      <td>0.0</td>\n",
       "      <td>0.0</td>\n",
       "      <td>0.0</td>\n",
       "      <td>0.0</td>\n",
       "    </tr>\n",
       "    <tr>\n",
       "      <th>997469202936578234</th>\n",
       "      <td>0.0</td>\n",
       "      <td>0.0</td>\n",
       "      <td>0.0</td>\n",
       "      <td>0.0</td>\n",
       "      <td>0.0</td>\n",
       "      <td>0.0</td>\n",
       "      <td>0.0</td>\n",
       "      <td>0.0</td>\n",
       "      <td>0.0</td>\n",
       "      <td>0.0</td>\n",
       "      <td>...</td>\n",
       "      <td>0.0</td>\n",
       "      <td>0.0</td>\n",
       "      <td>0.0</td>\n",
       "      <td>0.0</td>\n",
       "      <td>0.000000</td>\n",
       "      <td>0.0</td>\n",
       "      <td>0.0</td>\n",
       "      <td>0.0</td>\n",
       "      <td>0.0</td>\n",
       "      <td>0.0</td>\n",
       "    </tr>\n",
       "    <tr>\n",
       "      <th>998688566268269815</th>\n",
       "      <td>0.0</td>\n",
       "      <td>0.0</td>\n",
       "      <td>0.0</td>\n",
       "      <td>0.0</td>\n",
       "      <td>0.0</td>\n",
       "      <td>0.0</td>\n",
       "      <td>0.0</td>\n",
       "      <td>0.0</td>\n",
       "      <td>0.0</td>\n",
       "      <td>0.0</td>\n",
       "      <td>...</td>\n",
       "      <td>0.0</td>\n",
       "      <td>0.0</td>\n",
       "      <td>0.0</td>\n",
       "      <td>0.0</td>\n",
       "      <td>0.000000</td>\n",
       "      <td>0.0</td>\n",
       "      <td>0.0</td>\n",
       "      <td>0.0</td>\n",
       "      <td>0.0</td>\n",
       "      <td>0.0</td>\n",
       "    </tr>\n",
       "  </tbody>\n",
       "</table>\n",
       "<p>1112 rows × 2366 columns</p>\n",
       "</div>"
      ],
      "text/plain": [
       "contentId             -1006791494035379303  -1021685224930603833   \n",
       "personId                                                           \n",
       "-1007001694607905623                   0.0                   0.0  \\\n",
       "-1032019229384696495                   1.0                   0.0   \n",
       "-108842214936804958                    0.0                   0.0   \n",
       "-1130272294246983140                   0.0                   0.0   \n",
       "-1160159014793528221                   0.0                   0.0   \n",
       "...                                    ...                   ...   \n",
       "953707509720613429                     0.0                   0.0   \n",
       "983095443598229476                     0.0                   0.0   \n",
       "989049974880576288                     0.0                   0.0   \n",
       "997469202936578234                     0.0                   0.0   \n",
       "998688566268269815                     0.0                   0.0   \n",
       "\n",
       "contentId             -1022885988494278200  -1024046541613287684   \n",
       "personId                                                           \n",
       "-1007001694607905623                   0.0                   0.0  \\\n",
       "-1032019229384696495                   0.0                   0.0   \n",
       "-108842214936804958                    0.0                   0.0   \n",
       "-1130272294246983140                   0.0                   0.0   \n",
       "-1160159014793528221                   0.0                   0.0   \n",
       "...                                    ...                   ...   \n",
       "953707509720613429                     0.0                   0.0   \n",
       "983095443598229476                     0.0                   0.0   \n",
       "989049974880576288                     0.0                   0.0   \n",
       "997469202936578234                     0.0                   0.0   \n",
       "998688566268269815                     0.0                   0.0   \n",
       "\n",
       "contentId             -1033806831489252007  -1038011342017850   \n",
       "personId                                                        \n",
       "-1007001694607905623                   0.0                0.0  \\\n",
       "-1032019229384696495                   0.0                0.0   \n",
       "-108842214936804958                    0.0                0.0   \n",
       "-1130272294246983140                   0.0                0.0   \n",
       "-1160159014793528221                   0.0                0.0   \n",
       "...                                    ...                ...   \n",
       "953707509720613429                     0.0                0.0   \n",
       "983095443598229476                     0.0                0.0   \n",
       "989049974880576288                     0.0                0.0   \n",
       "997469202936578234                     0.0                0.0   \n",
       "998688566268269815                     0.0                0.0   \n",
       "\n",
       "contentId             -1039912738963181810  -1046621686880462790   \n",
       "personId                                                           \n",
       "-1007001694607905623                   0.0                   0.0  \\\n",
       "-1032019229384696495                   1.0                   0.0   \n",
       "-108842214936804958                    0.0                   0.0   \n",
       "-1130272294246983140                   0.0                   0.0   \n",
       "-1160159014793528221                   0.0                   0.0   \n",
       "...                                    ...                   ...   \n",
       "953707509720613429                     0.0                   0.0   \n",
       "983095443598229476                     0.0                   0.0   \n",
       "989049974880576288                     0.0                   0.0   \n",
       "997469202936578234                     0.0                   0.0   \n",
       "998688566268269815                     0.0                   0.0   \n",
       "\n",
       "contentId             -1051830303851697653  -1055630159212837930  ...   \n",
       "personId                                                          ...   \n",
       "-1007001694607905623                   0.0                   0.0  ...  \\\n",
       "-1032019229384696495                   0.0                   0.0  ...   \n",
       "-108842214936804958                    0.0                   0.0  ...   \n",
       "-1130272294246983140                   0.0                   0.0  ...   \n",
       "-1160159014793528221                   0.0                   0.0  ...   \n",
       "...                                    ...                   ...  ...   \n",
       "953707509720613429                     0.0                   0.0  ...   \n",
       "983095443598229476                     0.0                   0.0  ...   \n",
       "989049974880576288                     0.0                   0.0  ...   \n",
       "997469202936578234                     0.0                   0.0  ...   \n",
       "998688566268269815                     0.0                   0.0  ...   \n",
       "\n",
       "contentId             9217155070834564627  921770761777842242   \n",
       "personId                                                        \n",
       "-1007001694607905623                  0.0                 0.0  \\\n",
       "-1032019229384696495                  3.0                 0.0   \n",
       "-108842214936804958                   0.0                 0.0   \n",
       "-1130272294246983140                  0.0                 0.0   \n",
       "-1160159014793528221                  0.0                 0.0   \n",
       "...                                   ...                 ...   \n",
       "953707509720613429                    0.0                 0.0   \n",
       "983095443598229476                    0.0                 0.0   \n",
       "989049974880576288                    0.0                 0.0   \n",
       "997469202936578234                    0.0                 0.0   \n",
       "998688566268269815                    0.0                 0.0   \n",
       "\n",
       "contentId             9220445660318725468  9222265156747237864   \n",
       "personId                                                         \n",
       "-1007001694607905623                  0.0                  0.0  \\\n",
       "-1032019229384696495                  0.0                  0.0   \n",
       "-108842214936804958                   0.0                  0.0   \n",
       "-1130272294246983140                  0.0                  0.0   \n",
       "-1160159014793528221                  0.0                  0.0   \n",
       "...                                   ...                  ...   \n",
       "953707509720613429                    0.0                  0.0   \n",
       "983095443598229476                    0.0                  0.0   \n",
       "989049974880576288                    0.0                  0.0   \n",
       "997469202936578234                    0.0                  0.0   \n",
       "998688566268269815                    0.0                  0.0   \n",
       "\n",
       "contentId             943818026930898372  957332268361319692   \n",
       "personId                                                       \n",
       "-1007001694607905623            0.000000                 0.0  \\\n",
       "-1032019229384696495            2.321928                 0.0   \n",
       "-108842214936804958             0.000000                 0.0   \n",
       "-1130272294246983140            1.000000                 0.0   \n",
       "-1160159014793528221            0.000000                 0.0   \n",
       "...                                  ...                 ...   \n",
       "953707509720613429              0.000000                 0.0   \n",
       "983095443598229476              0.000000                 0.0   \n",
       "989049974880576288              0.000000                 0.0   \n",
       "997469202936578234              0.000000                 0.0   \n",
       "998688566268269815              0.000000                 0.0   \n",
       "\n",
       "contentId             966067567430037498  972258375127367383   \n",
       "personId                                                       \n",
       "-1007001694607905623                 0.0                 0.0  \\\n",
       "-1032019229384696495                 0.0                 0.0   \n",
       "-108842214936804958                  2.0                 0.0   \n",
       "-1130272294246983140                 0.0                 0.0   \n",
       "-1160159014793528221                 0.0                 0.0   \n",
       "...                                  ...                 ...   \n",
       "953707509720613429                   0.0                 0.0   \n",
       "983095443598229476                   0.0                 0.0   \n",
       "989049974880576288                   0.0                 0.0   \n",
       "997469202936578234                   0.0                 0.0   \n",
       "998688566268269815                   0.0                 0.0   \n",
       "\n",
       "contentId             980458131533897249  98528655405030624  \n",
       "personId                                                     \n",
       "-1007001694607905623                 0.0                0.0  \n",
       "-1032019229384696495                 0.0                0.0  \n",
       "-108842214936804958                  0.0                0.0  \n",
       "-1130272294246983140                 0.0                0.0  \n",
       "-1160159014793528221                 0.0                0.0  \n",
       "...                                  ...                ...  \n",
       "953707509720613429                   0.0                0.0  \n",
       "983095443598229476                   0.0                0.0  \n",
       "989049974880576288                   0.0                0.0  \n",
       "997469202936578234                   0.0                0.0  \n",
       "998688566268269815                   0.0                0.0  \n",
       "\n",
       "[1112 rows x 2366 columns]"
      ]
     },
     "metadata": {},
     "output_type": "display_data"
    }
   ],
   "source": [
    "# создаем таблицу сопряженности\n",
    "ct = pd.crosstab(columns=interactions_train_df.contentId, # в колонках таблицы располагаем номера статей\n",
    "                 index=interactions_train_df.personId, # в столбцах пользователей\n",
    "                 values=interactions_train_df.eventStrength, # значения на пересечении\n",
    "                 aggfunc='sum' # агрегирующая функция для значений\n",
    "                 )\n",
    "ct.fillna(0, inplace=True)\n",
    "display(ct)"
   ]
  },
  {
   "cell_type": "code",
   "execution_count": 14,
   "metadata": {},
   "outputs": [
    {
     "name": "stdout",
     "output_type": "stream",
     "text": [
      "оценкa взаимодействия пользователя с ID -1032019229384696495 со статьёй с ID 943818026930898372\n",
      "2.32\n"
     ]
    }
   ],
   "source": [
    "# Задание 6.1\n",
    "# 1 point possible (graded)\n",
    "# Найдите оценку взаимодействия пользователя с ID -1032019229384696495 со статьёй с ID 943818026930898372. \n",
    "# Результат округлите до двух знаков после точки-разделителя.\n",
    "print('оценкa взаимодействия пользователя с ID -1032019229384696495 со статьёй с ID 943818026930898372')\n",
    "print(ct.loc[['-1032019229384696495'],['943818026930898372']].round(2).values[0][0])\n",
    "# Примечание. Здесь и далее (пока не будет указано иное) необходимо работать с обучающей выборкой.\n",
    "\n",
    "# answer\n",
    "# 2.32  #   верно "
   ]
  },
  {
   "cell_type": "code",
   "execution_count": 15,
   "metadata": {},
   "outputs": [
    {
     "name": "stdout",
     "output_type": "stream",
     "text": [
      "среднее арифметическое всех чисел в получившемся массиве  0.017\n"
     ]
    }
   ],
   "source": [
    "# Задание 6.2\n",
    "# 1 point possible (graded)\n",
    "# Найдите среднее арифметическое всех чисел в получившемся массиве. Результат округлите до трёх знаков после точки-разделителя.\n",
    "print('среднее арифметическое всех чисел в получившемся массиве ', ct.mean().mean().round(3))\n",
    "\n",
    "# Answer\n",
    "# 0.017  # верно "
   ]
  },
  {
   "cell_type": "markdown",
   "metadata": {},
   "source": [
    "Перейдём к реализации коллаборативной фильтрации. Ранее мы делали это с помощью библиотеки surprise, однако это не всегда удобно, так как эта библиотека имеет ограниченное количество метрик для оценки качества и небольшой потенциал для более тонкой настройки алгоритма. Поэтому давайте попробуем реализовать алгоритмы коллаборативной фильтрации «с нуля». Такая практика применяется, если необходимо выстроить более сложную систему, чем могут предложить готовые модули. Кроме того, «ручная» реализация алгоритмов позволит лучше понять принцип их работы."
   ]
  },
  {
   "cell_type": "code",
   "execution_count": 14,
   "metadata": {},
   "outputs": [],
   "source": [
    "# Задание 6.3\n",
    "# 1 point possible (graded)\n",
    "# Постройте матрицу схожести. Для этого вычислите все попарные коэффициенты корреляции для матрицы, \n",
    "# полученной в предыдущем задании. Для каждой пары учитывайте только ненулевые значения \n",
    "# (так как нулевые обозначают отсутствие взаимодействия и не интересуют нас). \n",
    "# Выведите результат, полученный в ячейке с третьим индексом по строкам и сороковым — по столбцам. \n",
    "# Ответ округлите до двух знаков после точки-разделителя.\n",
    "\n",
    "# Подсказка (1 из 1): Чтобы построить матрицу схожести, сначала создайте нулевую матрицу, \n",
    "# у которой количество строк и столбцов будет соответствовать количеству элементов в массиве из предыдущего задания.\n",
    "# Затем реализуйте цикл в цикле (используйте цикл for): заполните ячейки коэффициентами корреляции, \n",
    "# если оба элемента с рассматриваемыми индексами не равны 0.\n",
    "\n",
    "# Answer\n",
    "# -0.33  # верно "
   ]
  },
  {
   "cell_type": "markdown",
   "metadata": {},
   "source": [
    "Матрица корреляции между пользователями будет квадратной так как мы сравниваем пользователей по их отношению к книгам, т.е. строки и столбцы этой матрицы равны количеству пользователей. Создадим нулевую матрицу такой размерности             \n",
    "```my_matrix = np.zeros((len(ct), len(ct)))```.               \n",
    "Нужно построить матрицу корреляции между пользователями, то есть в ```np.corrcoef``` нужно передать строки из массива, где строками являются пользователи, столбцами - книги, а значениями - оценка пользоваиеля. Поэтому создаем вложенный цикл - первый начинается с нулевого индекса(первого) пользователя, но не включает последний индекс, а второй наоборот, включает последний индекс, но начинается с первого индекса (второй пользователь). Это сделано для того, чтобы в итоговой матрице не появилось сравнение пользователя с самим собой.             \n",
    "Так как нас интересует корреляция между пользователями только по не нулевым значениям - создаем маску:              \n",
    " ```mask_uv = (ct_arr[i] != 0) & (ct_arr[j] != 0)```,            \n",
    "эта маска показывает True если оба пользователя поставили оценку книге. Далее записываем строки для текущей пары пользователей в переменные ```ratings_v``` и ```ratings_u```. Например для 3-го и 40-го пользователя одновременно оцененными оказалось только 4 книги, т.е. в наших переменных оказались массивы из 4 элементов. Далее находим для текущих пользователей коэффициент корреляции с помощью                 \n",
    "```np.corrcoef(ratings_v, ratings_u)[0, 1]```.                  \n",
    " Полученный коэффициент корреляции вносим в нашу нулевую матрицу для соответствующих пользователей                \n",
    "  ```my_matrix[i, j] = np.corrcoef(ratings_v, ratings_u)[0, 1]```.                 \n",
    "Так как матрица семмитричная то ```my_matrix[j, i] = my_matrix[i, j] ```.\n"
   ]
  },
  {
   "cell_type": "code",
   "execution_count": 16,
   "metadata": {},
   "outputs": [
    {
     "data": {
      "text/plain": [
       "(1112, 1112)"
      ]
     },
     "execution_count": 16,
     "metadata": {},
     "output_type": "execute_result"
    }
   ],
   "source": [
    "# Создаем квадратную матрицу нулей размером равным числу пользователей\n",
    "my_matrix = np.zeros((len(ct), len(ct)))\n",
    "my_matrix.shape"
   ]
  },
  {
   "cell_type": "code",
   "execution_count": 17,
   "metadata": {},
   "outputs": [
    {
     "name": "stderr",
     "output_type": "stream",
     "text": [
      "/home/aubakirov/anaconda3/lib/python3.10/site-packages/numpy/lib/function_base.py:518: RuntimeWarning: Mean of empty slice.\n",
      "  avg = a.mean(axis, **keepdims_kw)\n",
      "/home/aubakirov/anaconda3/lib/python3.10/site-packages/numpy/core/_methods.py:182: RuntimeWarning: invalid value encountered in divide\n",
      "  ret = um.true_divide(\n",
      "/home/aubakirov/anaconda3/lib/python3.10/site-packages/numpy/lib/function_base.py:2845: RuntimeWarning: Degrees of freedom <= 0 for slice\n",
      "  c = cov(x, y, rowvar, dtype=dtype)\n",
      "/home/aubakirov/anaconda3/lib/python3.10/site-packages/numpy/lib/function_base.py:2704: RuntimeWarning: divide by zero encountered in divide\n",
      "  c *= np.true_divide(1, fact)\n",
      "/home/aubakirov/anaconda3/lib/python3.10/site-packages/numpy/lib/function_base.py:2704: RuntimeWarning: invalid value encountered in multiply\n",
      "  c *= np.true_divide(1, fact)\n",
      "/home/aubakirov/anaconda3/lib/python3.10/site-packages/numpy/lib/function_base.py:2853: RuntimeWarning: invalid value encountered in divide\n",
      "  c /= stddev[:, None]\n",
      "/home/aubakirov/anaconda3/lib/python3.10/site-packages/numpy/lib/function_base.py:2854: RuntimeWarning: invalid value encountered in divide\n",
      "  c /= stddev[None, :]\n"
     ]
    }
   ],
   "source": [
    "ct_arr = ct.values\n",
    "for i in range(len(ct_arr) - 1):\n",
    "    for j in range(i + 1, len(ct_arr)):\n",
    "        # print('i ', i)\n",
    "        # print('j ', j)\n",
    "        mask_uv = (ct_arr[i] != 0) & (ct_arr[j] != 0) \n",
    "        ratings_v = ct_arr[i, mask_uv] \n",
    "        ratings_u = ct_arr[j, mask_uv]\n",
    "        my_matrix[i, j] = np.corrcoef(ratings_v, ratings_u)[0, 1] \n",
    "        my_matrix[j, i] = my_matrix[i, j]\n"
   ]
  },
  {
   "cell_type": "code",
   "execution_count": 18,
   "metadata": {},
   "outputs": [
    {
     "data": {
      "text/plain": [
       "-0.33"
      ]
     },
     "metadata": {},
     "output_type": "display_data"
    }
   ],
   "source": [
    "display(my_matrix[3,40].round(2))"
   ]
  },
  {
   "cell_type": "markdown",
   "metadata": {},
   "source": [
    "Теперь у нас есть матрицы схожести пользователей. Их можно использовать для построения рекомендаций. Чтобы это сделать, надо реализовать следующий алгоритм.\n",
    "\n",
    "Для каждого пользователя:\n",
    "\n",
    "1. Найти пользователей с похожестью больше 0.\n",
    "2. Для каждой статьи вычислить долю пользователей (среди выделенных на первом шаге), которые взаимодействовали со статьёй.\n",
    "3. Порекомендовать статьи (не более 10) с наибольшими долями со второго шага (среди тех, которые пользователь ещё не видел)."
   ]
  },
  {
   "cell_type": "code",
   "execution_count": 18,
   "metadata": {},
   "outputs": [],
   "source": [
    "# Задание 6.4\n",
    "# 1 point possible (graded)\n",
    "# Постройте рекомендательную систему по алгоритму, описанному выше. Найдите первую рекомендацию для строки 35 (если считать с нуля)."
   ]
  },
  {
   "cell_type": "code",
   "execution_count": 19,
   "metadata": {},
   "outputs": [],
   "source": [
    "# Создаем словарь где ключами будут индексы пользователей, \n",
    "# а значениями список пользователей коэффициент корреляции с которыми больше 0\n",
    "user_dict = {}\n",
    "\n",
    "# В цикле перебираем все индексы пользователей\n",
    "for i in range(1112):\n",
    "# Создаем список для текущего индекса пользователя\n",
    "    user_ls = []\n",
    "# Повторно перебираем все индексы пользователей\n",
    "    for j in range(1112):\n",
    "# И сравниваем с текущим пользователем, при выполнении условия вносим индекс в список\n",
    "        if my_matrix[i,j] > 0:\n",
    "            user_ls.append(ct.index[j])\n",
    "# Заносим полученный список в словарь под ключом, соответствующим текущему пользователю\n",
    "    user_dict[ct.index[i]] = user_ls\n"
   ]
  },
  {
   "cell_type": "code",
   "execution_count": 20,
   "metadata": {},
   "outputs": [],
   "source": [
    "# Делаем группировку по читателям и статьям, чтобы определить прочитанные статьи для пользователей\n",
    "tr = interactions_train_df.groupby(['personId', 'contentId'], as_index=False)['eventStrength'].sum()\n",
    "\n",
    "# Создаем массив ID пользователей\n",
    "user_arr = ct.index\n",
    "\n",
    "# В цикле проходим по ID пользователей и заполняем список списками из статей\n",
    "ls = []\n",
    "for user in user_arr:\n",
    "    ls.append(tr[tr['personId']==user]['contentId'].to_list())"
   ]
  },
  {
   "cell_type": "code",
   "execution_count": 21,
   "metadata": {},
   "outputs": [],
   "source": [
    "# Повторяем для тестовой выборки\n",
    "ts = interactions_test_df.groupby(['personId', 'contentId'], as_index=False)['eventStrength'].sum()\n",
    "\n",
    "ls_test = []\n",
    "for user in user_arr:\n",
    "    ls_test.append(ts[ts['personId']==user]['contentId'].to_list())"
   ]
  },
  {
   "cell_type": "code",
   "execution_count": 22,
   "metadata": {},
   "outputs": [],
   "source": [
    "# Создаем датафрейм \n",
    "df_rec = pd.DataFrame({'userId':user_arr,'true_train':ls, 'true_test':ls_test})"
   ]
  },
  {
   "cell_type": "code",
   "execution_count": 23,
   "metadata": {},
   "outputs": [],
   "source": [
    "# Создаем пустой список с рекомендациями\n",
    "rec_ls = []\n",
    "\n",
    "# В цикле проходим по всем пользователям\n",
    "for user in user_arr:\n",
    "\n",
    "# Фильтруем тренировочную выборку оставляя в ней только пользователей, которые похожи на текущего пользователя\n",
    "    step_one = tr[tr['personId'].isin(user_dict[user])]\n",
    "\n",
    "# Группируем результат фильтрации по статьям, а в значения заносим суммарную оценку статьи от похожих пользователей\n",
    "    step_two = step_one.groupby(['contentId'], as_index=False)['eventStrength'].sum()\n",
    "\n",
    "# Опять фильтруем результат оставляя только те статьи, которые текущий пользователь не читал\n",
    "# .values вернет массив в котором будет наш список, поэтому используем обращение по индексу [0], чтобы до него добраться\n",
    "    step_three = step_two[step_two['contentId'].isin(df_rec[df_rec['userId']==user]['true_train'].values[0])]\n",
    "    \n",
    "   \n",
    "# Сортируем рейтинг статей по убыванию\n",
    "    step_four = step_three.sort_values(['eventStrength'], ascending=False)\n",
    "\n",
    "# Формируем список из первых 10 статей, это и будет наша рекомендация и заносим её в список\n",
    "    rec_ls.append(step_four['contentId'].iloc[:10].to_list())\n"
   ]
  },
  {
   "cell_type": "code",
   "execution_count": 24,
   "metadata": {},
   "outputs": [
    {
     "data": {
      "text/plain": [
       "'8657408509986329668'"
      ]
     },
     "metadata": {},
     "output_type": "display_data"
    }
   ],
   "source": [
    "# Обновляем датафрейм\n",
    "df_rec = pd.DataFrame({'userId':user_arr,'true_train':ls, 'true_test':ls_test, 'prediction_user_based':rec_ls })\n",
    "display(df_rec.iloc[35]['prediction_user_based'][0])"
   ]
  },
  {
   "cell_type": "markdown",
   "metadata": {},
   "source": [
    "***"
   ]
  },
  {
   "cell_type": "code",
   "execution_count": 28,
   "metadata": {},
   "outputs": [
    {
     "data": {
      "text/plain": [
       "'-5148591903395022444'"
      ]
     },
     "execution_count": 28,
     "metadata": {},
     "output_type": "execute_result"
    }
   ],
   "source": [
    "# ЗАДАНИЕ 6.4\n",
    "\n",
    "interactions = (\n",
    "    interactions_train_df\n",
    "    .groupby('personId')['contentId'].agg(lambda x: list(x))\n",
    "    .reset_index()\n",
    "    .rename(columns={'contentId': 'true_train'})\n",
    "    .set_index('personId')\n",
    ")\n",
    "\n",
    "interactions['true_test'] = (\n",
    "    interactions_test_df\n",
    "    .groupby('personId')['contentId'].agg(lambda x: list(x))\n",
    ")\n",
    "\n",
    "interactions['true_test'] = [ [] if x is np.NaN else x for x in interactions['true_test'] ]\n",
    "\n",
    "prediction_user_based = []\n",
    "for i in range(len(my_matrix)):\n",
    "    users_sim = my_matrix[i] > 0\n",
    "    if not any(users_sim):\n",
    "        prediction_user_based.append([])\n",
    "    else:\n",
    "        tmp_recommend = np.argsort(ct[users_sim].sum(axis=0))[::-1]\n",
    "        tmp_recommend = ct.columns[tmp_recommend]\n",
    "        recommend = np.array(tmp_recommend)[~np.in1d(tmp_recommend, interactions.iloc[i][\"true_train\"])][:10]\n",
    "        prediction_user_based.append(list(recommend))\n",
    "interactions['prediction_user_based'] = prediction_user_based\n",
    "prediction_user_based[35][0]"
   ]
  },
  {
   "cell_type": "code",
   "execution_count": 29,
   "metadata": {},
   "outputs": [
    {
     "data": {
      "text/plain": [
       "0.005"
      ]
     },
     "execution_count": 29,
     "metadata": {},
     "output_type": "execute_result"
    }
   ],
   "source": [
    "# ЗАДАНИЕ 6.5\n",
    "def calc_precision(column):\n",
    "    return ( interactions.apply(  lambda row:len(set(row['true_test']).intersection(\n",
    "                set(row[column]))) /min(len(row['true_test']) + 0.001, 10.0), axis=1)).mean()\n",
    "\n",
    "round(calc_precision('prediction_user_based'), 3)"
   ]
  },
  {
   "cell_type": "code",
   "execution_count": 31,
   "metadata": {},
   "outputs": [
    {
     "data": {
      "text/plain": [
       "0.7071067811865483"
      ]
     },
     "execution_count": 31,
     "metadata": {},
     "output_type": "execute_result"
    }
   ],
   "source": [
    "# ЗАДАНИЕ 6.6\n",
    "from scipy.linalg import svd\n",
    "\n",
    "U, sigma, V = svd(ct)\n",
    "U.max()"
   ]
  }
 ],
 "metadata": {
  "kernelspec": {
   "display_name": "Python 3",
   "language": "python",
   "name": "python3"
  },
  "language_info": {
   "codemirror_mode": {
    "name": "ipython",
    "version": 3
   },
   "file_extension": ".py",
   "mimetype": "text/x-python",
   "name": "python",
   "nbconvert_exporter": "python",
   "pygments_lexer": "ipython3",
   "version": "3.10.9"
  }
 },
 "nbformat": 4,
 "nbformat_minor": 2
}
