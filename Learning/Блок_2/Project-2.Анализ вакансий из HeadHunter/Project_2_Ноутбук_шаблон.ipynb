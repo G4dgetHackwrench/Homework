{
  "cells": [
    {
      "cell_type": "markdown",
      "id": "42289889-bd57-434e-9637-d3e354756316",
      "metadata": {
        "id": "42289889-bd57-434e-9637-d3e354756316"
      },
      "source": [
        "<center> <img src = https://raw.githubusercontent.com/AndreyRysistov/DatasetsForPandas/main/hh%20label.jpg alt=\"drawing\" style=\"width:400px;\">"
      ]
    },
    {
      "cell_type": "markdown",
      "id": "829cb75b-f14e-4ba8-9195-7ba929a7d656",
      "metadata": {
        "id": "829cb75b-f14e-4ba8-9195-7ba929a7d656",
        "tags": []
      },
      "source": [
        "# <center> Проект: Анализ вакансий из HeadHunter\n",
        "   "
      ]
    },
    {
      "cell_type": "code",
      "execution_count": 2,
      "id": "dccfde33-2452-43fb-a8a5-5c6ebc02a71d",
      "metadata": {
        "id": "dccfde33-2452-43fb-a8a5-5c6ebc02a71d"
      },
      "outputs": [],
      "source": [
        "import pandas as pd\n",
        "import urllib.parse as req\n",
        "import plotly.express as px"
      ]
    },
    {
      "cell_type": "markdown",
      "id": "0dc6476b-7a00-44f1-ac93-6e3baed33a29",
      "metadata": {
        "id": "0dc6476b-7a00-44f1-ac93-6e3baed33a29"
      },
      "source": [
        "# Юнит 3. Предварительный анализ данных"
      ]
    },
    {
      "cell_type": "markdown",
      "id": "889782b6-8d1c-410e-8920-e57f27917c64",
      "metadata": {
        "id": "889782b6-8d1c-410e-8920-e57f27917c64"
      },
      "source": [
        "1. Напишите запрос, который посчитает количество вакансий в нашей базе (вакансии находятся в таблице vacancies). "
      ]
    },
    {
      "cell_type": "code",
      "execution_count": 4,
      "id": "bc39e68e-ed02-4ee2-9235-7258a2f867a8",
      "metadata": {
        "id": "bc39e68e-ed02-4ee2-9235-7258a2f867a8"
      },
      "outputs": [],
      "source": [
        "# текст запроса\n",
        "query_3_1 = f'''SELECT COUNT(id) cnt\n",
        "                FROM vacancies\n",
        "'''"
      ]
    },
    {
      "cell_type": "code",
      "execution_count": 5,
      "id": "7mAwtsk4hEHY",
      "metadata": {
        "id": "7mAwtsk4hEHY"
      },
      "outputs": [
        {
          "data": {
            "text/plain": [
              "'Количество вакансий в базе: 49197.'"
            ]
          },
          "metadata": {},
          "output_type": "display_data"
        }
      ],
      "source": [
        "# результат запроса\n",
        "df = pd.read_sql_query(query_3_1, connection)\n",
        "value = df['cnt'].iloc[0]\n",
        "display(f'Количество вакансий в базе: {value}.')"
      ]
    },
    {
      "cell_type": "markdown",
      "id": "b583485d-1f9e-494e-ada4-80ffff7c53d6",
      "metadata": {
        "id": "b583485d-1f9e-494e-ada4-80ffff7c53d6"
      },
      "source": [
        "2. Напишите запрос, который посчитает количество работодателей (таблица employers). "
      ]
    },
    {
      "cell_type": "code",
      "execution_count": 6,
      "id": "5408c52c-3407-4a63-b25b-1aafa2322d28",
      "metadata": {
        "id": "5408c52c-3407-4a63-b25b-1aafa2322d28"
      },
      "outputs": [],
      "source": [
        "# текст запроса\n",
        "query_3_2 = f'''SELECT COUNT(id) cnt\n",
        "                FROM employers\n",
        "'''"
      ]
    },
    {
      "cell_type": "code",
      "execution_count": 7,
      "id": "jVL4eshKhdqc",
      "metadata": {
        "id": "jVL4eshKhdqc"
      },
      "outputs": [
        {
          "data": {
            "text/plain": [
              "'Количество работодателей в базе: 23501.'"
            ]
          },
          "metadata": {},
          "output_type": "display_data"
        }
      ],
      "source": [
        "# результат запроса\n",
        "df = pd.read_sql_query(query_3_2, connection)\n",
        "value = df['cnt'].iloc[0]\n",
        "display(f'Количество работодателей в базе: {value}.')"
      ]
    },
    {
      "cell_type": "markdown",
      "id": "a2bfff1f-c975-4bf6-84be-2185d79dcb76",
      "metadata": {
        "id": "a2bfff1f-c975-4bf6-84be-2185d79dcb76"
      },
      "source": [
        "3. Посчитате с помощью запроса количество регионов (таблица areas)."
      ]
    },
    {
      "cell_type": "code",
      "execution_count": 8,
      "id": "1m8QJwBYhey6",
      "metadata": {
        "id": "1m8QJwBYhey6"
      },
      "outputs": [],
      "source": [
        "# текст запроса\n",
        "query_3_3 = f'''SELECT COUNT(id) cnt\n",
        "                FROM areas\n",
        "'''"
      ]
    },
    {
      "cell_type": "code",
      "execution_count": 9,
      "id": "EZsn9tlfhe7f",
      "metadata": {
        "id": "EZsn9tlfhe7f"
      },
      "outputs": [
        {
          "data": {
            "text/plain": [
              "'Количество регионов: 1362.'"
            ]
          },
          "metadata": {},
          "output_type": "display_data"
        }
      ],
      "source": [
        "# результат запроса\n",
        "df = pd.read_sql_query(query_3_3, connection)\n",
        "value = df['cnt'].iloc[0]\n",
        "display(f'Количество регионов: {value}.')"
      ]
    },
    {
      "cell_type": "markdown",
      "id": "41bb59f3-53cc-4a67-a5bc-bedf573955e4",
      "metadata": {
        "id": "41bb59f3-53cc-4a67-a5bc-bedf573955e4"
      },
      "source": [
        "4. Посчитате с помощью запроса количество сфер деятельности в базе (таблица industries)."
      ]
    },
    {
      "cell_type": "code",
      "execution_count": 10,
      "id": "d286cf4c-707b-4cd2-9190-7ab3587d04a1",
      "metadata": {
        "id": "d286cf4c-707b-4cd2-9190-7ab3587d04a1"
      },
      "outputs": [],
      "source": [
        "# текст запроса\n",
        "query_3_4 = f'''SELECT COUNT(id) cnt\n",
        "                FROM industries\n",
        "'''"
      ]
    },
    {
      "cell_type": "code",
      "execution_count": 11,
      "id": "JYAaoZ4qhfzW",
      "metadata": {
        "id": "JYAaoZ4qhfzW"
      },
      "outputs": [
        {
          "data": {
            "text/plain": [
              "'Количество сфер деятельности: 294.'"
            ]
          },
          "metadata": {},
          "output_type": "display_data"
        }
      ],
      "source": [
        "# результат запроса\n",
        "df = pd.read_sql_query(query_3_4, connection)\n",
        "value = df['cnt'].iloc[0]\n",
        "display(f'Количество сфер деятельности: {value}.')"
      ]
    },
    {
      "cell_type": "markdown",
      "id": "9a8a2181-6914-448b-85f1-38f5f18b8a93",
      "metadata": {
        "id": "9a8a2181-6914-448b-85f1-38f5f18b8a93"
      },
      "source": [
        "***"
      ]
    },
    {
      "cell_type": "markdown",
      "id": "be4e9bd3-a4db-4a20-82fb-6b02fc2957e0",
      "metadata": {
        "id": "be4e9bd3-a4db-4a20-82fb-6b02fc2957e0"
      },
      "source": [
        "### выводы по предварительному анализу данных\n",
        "\n",
        "Соотношение работодателей и вакансий приблизительно 1 к 2. Большое количество регионов, видимо потому что здесь и города и регионы и страны одновременно, а еще у нас большая страна."
      ]
    },
    {
      "cell_type": "markdown",
      "id": "8d62a9f3-f64e-4fe7-bdac-c4dffa16155e",
      "metadata": {
        "id": "8d62a9f3-f64e-4fe7-bdac-c4dffa16155e"
      },
      "source": [
        "# Юнит 4. Детальный анализ вакансий"
      ]
    },
    {
      "cell_type": "markdown",
      "id": "93053d3d-b284-481a-9cf7-012d7014c0e0",
      "metadata": {
        "id": "93053d3d-b284-481a-9cf7-012d7014c0e0"
      },
      "source": [
        "1. Напишите запрос, который позволит узнать, сколько (cnt) вакансий в каждом регионе (area).\n",
        "Отсортируйте по количеству вакансий в порядке убывания."
      ]
    },
    {
      "cell_type": "code",
      "execution_count": 12,
      "id": "3f069da6-fdc9-4ae7-b514-fafe2675efd3",
      "metadata": {
        "id": "3f069da6-fdc9-4ae7-b514-fafe2675efd3"
      },
      "outputs": [],
      "source": [
        "# текст запроса\n",
        "query_4_1 = f'''SELECT\n",
        "                      a.name area,\n",
        "                      COUNT(v.id) cnt\n",
        "                FROM areas a\n",
        "                JOIN vacancies v on a.id = v.area_id\n",
        "                GROUP BY a.id\n",
        "                ORDER BY 2 DESC\n",
        "                LIMIT 5\n",
        "'''"
      ]
    },
    {
      "cell_type": "code",
      "execution_count": 13,
      "id": "P7QL86hrjhRJ",
      "metadata": {
        "id": "P7QL86hrjhRJ"
      },
      "outputs": [
        {
          "data": {
            "text/html": [
              "<div>\n",
              "<style scoped>\n",
              "    .dataframe tbody tr th:only-of-type {\n",
              "        vertical-align: middle;\n",
              "    }\n",
              "\n",
              "    .dataframe tbody tr th {\n",
              "        vertical-align: top;\n",
              "    }\n",
              "\n",
              "    .dataframe thead th {\n",
              "        text-align: right;\n",
              "    }\n",
              "</style>\n",
              "<table border=\"1\" class=\"dataframe\">\n",
              "  <thead>\n",
              "    <tr style=\"text-align: right;\">\n",
              "      <th></th>\n",
              "      <th>area</th>\n",
              "      <th>cnt</th>\n",
              "    </tr>\n",
              "  </thead>\n",
              "  <tbody>\n",
              "    <tr>\n",
              "      <th>0</th>\n",
              "      <td>Москва</td>\n",
              "      <td>5333</td>\n",
              "    </tr>\n",
              "    <tr>\n",
              "      <th>1</th>\n",
              "      <td>Санкт-Петербург</td>\n",
              "      <td>2851</td>\n",
              "    </tr>\n",
              "    <tr>\n",
              "      <th>2</th>\n",
              "      <td>Минск</td>\n",
              "      <td>2112</td>\n",
              "    </tr>\n",
              "    <tr>\n",
              "      <th>3</th>\n",
              "      <td>Новосибирск</td>\n",
              "      <td>2006</td>\n",
              "    </tr>\n",
              "    <tr>\n",
              "      <th>4</th>\n",
              "      <td>Алматы</td>\n",
              "      <td>1892</td>\n",
              "    </tr>\n",
              "  </tbody>\n",
              "</table>\n",
              "</div>"
            ],
            "text/plain": [
              "              area   cnt\n",
              "0           Москва  5333\n",
              "1  Санкт-Петербург  2851\n",
              "2            Минск  2112\n",
              "3      Новосибирск  2006\n",
              "4           Алматы  1892"
            ]
          },
          "execution_count": 13,
          "metadata": {},
          "output_type": "execute_result"
        }
      ],
      "source": [
        "# результат запроса\n",
        "df = pd.read_sql_query(query_4_1, connection)\n",
        "df"
      ]
    },
    {
      "cell_type": "markdown",
      "id": "4266f0b6-1646-492a-88b4-2f6a46502135",
      "metadata": {
        "id": "4266f0b6-1646-492a-88b4-2f6a46502135"
      },
      "source": [
        "2. Напишите запрос, чтобы определить у какого количества вакансий заполнено хотя бы одно из двух полей с зарплатой."
      ]
    },
    {
      "cell_type": "code",
      "execution_count": 14,
      "id": "0c44b350-72eb-4d65-8b54-a1fc449ba9fd",
      "metadata": {
        "id": "0c44b350-72eb-4d65-8b54-a1fc449ba9fd"
      },
      "outputs": [],
      "source": [
        "# текст запроса\n",
        "query_4_2 = f'''SELECT\n",
        "                      COUNT(id) cnt\n",
        "                FROM vacancies\n",
        "                WHERE (salary_from IS NOT NULL) OR (salary_to IS NOT NULL)\n",
        "'''"
      ]
    },
    {
      "cell_type": "code",
      "execution_count": 15,
      "id": "rhvwaMDkoWTi",
      "metadata": {
        "id": "rhvwaMDkoWTi"
      },
      "outputs": [
        {
          "data": {
            "text/plain": [
              "'У 24073 вакансий заполнено хотя бы одно из двух полей с зарплатой.'"
            ]
          },
          "metadata": {},
          "output_type": "display_data"
        }
      ],
      "source": [
        "# результат запроса\n",
        "df = pd.read_sql_query(query_4_2, connection)\n",
        "value = df['cnt'].iloc[0]\n",
        "display(f'У {value} вакансий заполнено хотя бы одно из двух полей с зарплатой.')"
      ]
    },
    {
      "cell_type": "markdown",
      "id": "635c4d5d-f323-4c66-b428-50a088120aa0",
      "metadata": {
        "id": "635c4d5d-f323-4c66-b428-50a088120aa0"
      },
      "source": [
        "3. Найдите средние значения для нижней и верхней границы зарплатной вилки. Округлите значения до целого."
      ]
    },
    {
      "cell_type": "code",
      "execution_count": 16,
      "id": "603cdbe4-0ec3-4106-8eaf-c73fcdd29165",
      "metadata": {
        "id": "603cdbe4-0ec3-4106-8eaf-c73fcdd29165"
      },
      "outputs": [],
      "source": [
        "# текст запроса\n",
        "query_4_3 = f'''SELECT\n",
        "                      ROUND(AVG(salary_from)) salary_from,\n",
        "                      ROUND(AVG(salary_to)) salary_to\n",
        "                FROM vacancies\n",
        "'''"
      ]
    },
    {
      "cell_type": "code",
      "execution_count": 17,
      "id": "pswpAb66ovZZ",
      "metadata": {
        "id": "pswpAb66ovZZ"
      },
      "outputs": [
        {
          "data": {
            "text/plain": [
              "'Среднее значение нижней границы зарплатной вилки: 71065.0. Среднее значение верхней границы зарплатной вилки: 110537.0.'"
            ]
          },
          "metadata": {},
          "output_type": "display_data"
        }
      ],
      "source": [
        "# результат запроса\n",
        "df = pd.read_sql_query(query_4_3, connection)\n",
        "value_from = df['salary_from'].iloc[0]\n",
        "value_to = df['salary_to'].iloc[0]\n",
        "display(f'Среднее значение нижней границы зарплатной вилки: {value_from}. Среднее значение верхней границы зарплатной вилки: {value_to}.')"
      ]
    },
    {
      "cell_type": "markdown",
      "id": "f3fdaec9-5fd3-4260-9cf5-1d7406b628a5",
      "metadata": {
        "id": "f3fdaec9-5fd3-4260-9cf5-1d7406b628a5"
      },
      "source": [
        "4. Напишите запрос, который выведет количество вакансий для каждого сочетания типа рабочего графика (schedule) и типа трудоустройства (employment), используемого в вакансиях. Результат отсортируйте по убыванию количества.\n"
      ]
    },
    {
      "cell_type": "code",
      "execution_count": 18,
      "id": "1ea710ec-871b-431e-9462-c7d0fd87011b",
      "metadata": {
        "id": "1ea710ec-871b-431e-9462-c7d0fd87011b"
      },
      "outputs": [],
      "source": [
        "# текст запроса\n",
        "query_4_4 = f'''SELECT\n",
        "                      schedule,\n",
        "                      employment,\n",
        "                      COUNT(id) cnt\n",
        "                FROM vacancies\n",
        "                GROUP BY schedule, employment\n",
        "                ORDER BY 3 DESC\n",
        "'''"
      ]
    },
    {
      "cell_type": "code",
      "execution_count": 19,
      "id": "lGUVqavdo4JQ",
      "metadata": {
        "id": "lGUVqavdo4JQ"
      },
      "outputs": [
        {
          "data": {
            "text/html": [
              "<div>\n",
              "<style scoped>\n",
              "    .dataframe tbody tr th:only-of-type {\n",
              "        vertical-align: middle;\n",
              "    }\n",
              "\n",
              "    .dataframe tbody tr th {\n",
              "        vertical-align: top;\n",
              "    }\n",
              "\n",
              "    .dataframe thead th {\n",
              "        text-align: right;\n",
              "    }\n",
              "</style>\n",
              "<table border=\"1\" class=\"dataframe\">\n",
              "  <thead>\n",
              "    <tr style=\"text-align: right;\">\n",
              "      <th></th>\n",
              "      <th>schedule</th>\n",
              "      <th>employment</th>\n",
              "      <th>cnt</th>\n",
              "    </tr>\n",
              "  </thead>\n",
              "  <tbody>\n",
              "    <tr>\n",
              "      <th>0</th>\n",
              "      <td>Полный день</td>\n",
              "      <td>Полная занятость</td>\n",
              "      <td>35367</td>\n",
              "    </tr>\n",
              "    <tr>\n",
              "      <th>1</th>\n",
              "      <td>Удаленная работа</td>\n",
              "      <td>Полная занятость</td>\n",
              "      <td>7802</td>\n",
              "    </tr>\n",
              "    <tr>\n",
              "      <th>2</th>\n",
              "      <td>Гибкий график</td>\n",
              "      <td>Полная занятость</td>\n",
              "      <td>1593</td>\n",
              "    </tr>\n",
              "    <tr>\n",
              "      <th>3</th>\n",
              "      <td>Удаленная работа</td>\n",
              "      <td>Частичная занятость</td>\n",
              "      <td>1312</td>\n",
              "    </tr>\n",
              "    <tr>\n",
              "      <th>4</th>\n",
              "      <td>Сменный график</td>\n",
              "      <td>Полная занятость</td>\n",
              "      <td>940</td>\n",
              "    </tr>\n",
              "    <tr>\n",
              "      <th>5</th>\n",
              "      <td>Полный день</td>\n",
              "      <td>Стажировка</td>\n",
              "      <td>569</td>\n",
              "    </tr>\n",
              "    <tr>\n",
              "      <th>6</th>\n",
              "      <td>Вахтовый метод</td>\n",
              "      <td>Полная занятость</td>\n",
              "      <td>367</td>\n",
              "    </tr>\n",
              "    <tr>\n",
              "      <th>7</th>\n",
              "      <td>Полный день</td>\n",
              "      <td>Частичная занятость</td>\n",
              "      <td>347</td>\n",
              "    </tr>\n",
              "    <tr>\n",
              "      <th>8</th>\n",
              "      <td>Гибкий график</td>\n",
              "      <td>Частичная занятость</td>\n",
              "      <td>312</td>\n",
              "    </tr>\n",
              "    <tr>\n",
              "      <th>9</th>\n",
              "      <td>Полный день</td>\n",
              "      <td>Проектная работа</td>\n",
              "      <td>141</td>\n",
              "    </tr>\n",
              "    <tr>\n",
              "      <th>10</th>\n",
              "      <td>Удаленная работа</td>\n",
              "      <td>Проектная работа</td>\n",
              "      <td>133</td>\n",
              "    </tr>\n",
              "    <tr>\n",
              "      <th>11</th>\n",
              "      <td>Гибкий график</td>\n",
              "      <td>Стажировка</td>\n",
              "      <td>116</td>\n",
              "    </tr>\n",
              "    <tr>\n",
              "      <th>12</th>\n",
              "      <td>Сменный график</td>\n",
              "      <td>Частичная занятость</td>\n",
              "      <td>101</td>\n",
              "    </tr>\n",
              "    <tr>\n",
              "      <th>13</th>\n",
              "      <td>Удаленная работа</td>\n",
              "      <td>Стажировка</td>\n",
              "      <td>64</td>\n",
              "    </tr>\n",
              "    <tr>\n",
              "      <th>14</th>\n",
              "      <td>Гибкий график</td>\n",
              "      <td>Проектная работа</td>\n",
              "      <td>18</td>\n",
              "    </tr>\n",
              "    <tr>\n",
              "      <th>15</th>\n",
              "      <td>Сменный график</td>\n",
              "      <td>Стажировка</td>\n",
              "      <td>12</td>\n",
              "    </tr>\n",
              "    <tr>\n",
              "      <th>16</th>\n",
              "      <td>Вахтовый метод</td>\n",
              "      <td>Проектная работа</td>\n",
              "      <td>2</td>\n",
              "    </tr>\n",
              "    <tr>\n",
              "      <th>17</th>\n",
              "      <td>Сменный график</td>\n",
              "      <td>Проектная работа</td>\n",
              "      <td>1</td>\n",
              "    </tr>\n",
              "  </tbody>\n",
              "</table>\n",
              "</div>"
            ],
            "text/plain": [
              "            schedule           employment    cnt\n",
              "0        Полный день     Полная занятость  35367\n",
              "1   Удаленная работа     Полная занятость   7802\n",
              "2      Гибкий график     Полная занятость   1593\n",
              "3   Удаленная работа  Частичная занятость   1312\n",
              "4     Сменный график     Полная занятость    940\n",
              "5        Полный день           Стажировка    569\n",
              "6     Вахтовый метод     Полная занятость    367\n",
              "7        Полный день  Частичная занятость    347\n",
              "8      Гибкий график  Частичная занятость    312\n",
              "9        Полный день     Проектная работа    141\n",
              "10  Удаленная работа     Проектная работа    133\n",
              "11     Гибкий график           Стажировка    116\n",
              "12    Сменный график  Частичная занятость    101\n",
              "13  Удаленная работа           Стажировка     64\n",
              "14     Гибкий график     Проектная работа     18\n",
              "15    Сменный график           Стажировка     12\n",
              "16    Вахтовый метод     Проектная работа      2\n",
              "17    Сменный график     Проектная работа      1"
            ]
          },
          "execution_count": 19,
          "metadata": {},
          "output_type": "execute_result"
        }
      ],
      "source": [
        "# результат запроса\n",
        "df = pd.read_sql_query(query_4_4, connection)\n",
        "df"
      ]
    },
    {
      "cell_type": "markdown",
      "id": "0136ffee-0ead-4a6b-b608-61d1c753a438",
      "metadata": {
        "id": "0136ffee-0ead-4a6b-b608-61d1c753a438"
      },
      "source": [
        "5. Напишите запрос, выводящий значения поля Требуемый опыт работы (experience) в порядке возрастания количества вакансий, в которых указан данный вариант опыта. "
      ]
    },
    {
      "cell_type": "code",
      "execution_count": 20,
      "id": "5b3a8e79-f7ab-4008-b767-12aea3a205ea",
      "metadata": {
        "id": "5b3a8e79-f7ab-4008-b767-12aea3a205ea"
      },
      "outputs": [],
      "source": [
        "# текст запроса\n",
        "query_4_5 = f'''SELECT\n",
        "                      experience,\n",
        "                      COUNT(id) cnt\n",
        "                FROM vacancies\n",
        "                GROUP BY experience\n",
        "                ORDER BY 2\n",
        "'''"
      ]
    },
    {
      "cell_type": "code",
      "execution_count": 21,
      "id": "3Is64Y-hpDpq",
      "metadata": {
        "id": "3Is64Y-hpDpq"
      },
      "outputs": [
        {
          "data": {
            "text/html": [
              "<div>\n",
              "<style scoped>\n",
              "    .dataframe tbody tr th:only-of-type {\n",
              "        vertical-align: middle;\n",
              "    }\n",
              "\n",
              "    .dataframe tbody tr th {\n",
              "        vertical-align: top;\n",
              "    }\n",
              "\n",
              "    .dataframe thead th {\n",
              "        text-align: right;\n",
              "    }\n",
              "</style>\n",
              "<table border=\"1\" class=\"dataframe\">\n",
              "  <thead>\n",
              "    <tr style=\"text-align: right;\">\n",
              "      <th></th>\n",
              "      <th>experience</th>\n",
              "      <th>cnt</th>\n",
              "    </tr>\n",
              "  </thead>\n",
              "  <tbody>\n",
              "    <tr>\n",
              "      <th>0</th>\n",
              "      <td>Более 6 лет</td>\n",
              "      <td>1337</td>\n",
              "    </tr>\n",
              "    <tr>\n",
              "      <th>1</th>\n",
              "      <td>Нет опыта</td>\n",
              "      <td>7197</td>\n",
              "    </tr>\n",
              "    <tr>\n",
              "      <th>2</th>\n",
              "      <td>От 3 до 6 лет</td>\n",
              "      <td>14511</td>\n",
              "    </tr>\n",
              "    <tr>\n",
              "      <th>3</th>\n",
              "      <td>От 1 года до 3 лет</td>\n",
              "      <td>26152</td>\n",
              "    </tr>\n",
              "  </tbody>\n",
              "</table>\n",
              "</div>"
            ],
            "text/plain": [
              "           experience    cnt\n",
              "0         Более 6 лет   1337\n",
              "1           Нет опыта   7197\n",
              "2       От 3 до 6 лет  14511\n",
              "3  От 1 года до 3 лет  26152"
            ]
          },
          "execution_count": 21,
          "metadata": {},
          "output_type": "execute_result"
        }
      ],
      "source": [
        "# результат запроса\n",
        "df = pd.read_sql_query(query_4_5, connection)\n",
        "df"
      ]
    },
    {
      "cell_type": "markdown",
      "id": "oq2b7n1QpIka",
      "metadata": {
        "id": "oq2b7n1QpIka"
      },
      "source": [
        "***"
      ]
    },
    {
      "cell_type": "markdown",
      "id": "a74583e7",
      "metadata": {},
      "source": [
        "### выводы по детальному анализу вакансий\n",
        "\n",
        "Почти 10% от общего количества вакансий расположены в городе Москва, потому что Москва является основным центром деловой активности России. Далее с почти равным количеством вакансий(около 5-ти %) следуют 4 города\n",
        "* Санкт-Петербург - культурная столица России и порт на Балтийском море;\n",
        "* Минск - столица Беларуси;\n",
        "* Новосибирск - столица Сибири;\n",
        "* Алматы - бывшая столица и центр деловой активности Казахстана.\n",
        "\n",
        "Почти у половины вакансий не указана заработная плата, по всей видимости работодатели оставляют себе \"пространство для маневров\".\n",
        "Среднее значение минимальной заработной платы - 71065, что приблизительно равно средней заработной плате по России по версии Росстата за первую половину 2023 года, такое могло получиться из-за присутствия в выборке и других стран кроме России. Разница между средней минимальной и средней максимальной з/п(110537) составляет ~55%.\n",
        "Наиболее востребованным сочетанием типа рабочего графика и типа трудоустройства является 'Полный день - Полная занятость', такое сочетание встречается в 35-ти тысячах вакансий. Также для ~94 % вакансий требуется тип трудоустройства - \"Полная занятость\".\n",
        "В наибольшем количестве вакансий требуемый опыт от 1 года до 3 лет.\n",
        "\n",
        "Соискатель с опытом работы от 1 года до 3 лет, ищущий работу на полную занятость и полный день в Москве с желаемой заработной платой в интревале 71-110 тыс. рублей, имеет наибольшие шансы на трудоустройство."
      ]
    },
    {
      "cell_type": "markdown",
      "id": "7ea20ab6-04a7-40a0-adec-443a0e5a42c3",
      "metadata": {
        "id": "7ea20ab6-04a7-40a0-adec-443a0e5a42c3"
      },
      "source": [
        "# Юнит 5. Анализ работодателей"
      ]
    },
    {
      "cell_type": "markdown",
      "id": "968aed80-74ef-4ffb-b5bf-c65b84e9caea",
      "metadata": {
        "id": "968aed80-74ef-4ffb-b5bf-c65b84e9caea"
      },
      "source": [
        "1. Напишите запрос, который позволит узнать, какие работодатели находятся на первом и пятом месте по количеству вакансий."
      ]
    },
    {
      "cell_type": "code",
      "execution_count": 22,
      "id": "f2d62796-d400-4ec1-a675-88112739a50e",
      "metadata": {
        "id": "f2d62796-d400-4ec1-a675-88112739a50e"
      },
      "outputs": [],
      "source": [
        "# текст запроса\n",
        "query_5_1 = f'''SELECT\n",
        "                      e.name employer,\n",
        "                      COUNT(v.id) cnt\n",
        "                FROM vacancies v\n",
        "                JOIN employers e on v.employer_id = e.id\n",
        "                GROUP BY e.name\n",
        "                ORDER BY 2 DESC\n",
        "                LIMIT 10\n",
        "'''"
      ]
    },
    {
      "cell_type": "code",
      "execution_count": 23,
      "id": "64tOMkAxqkQk",
      "metadata": {
        "id": "64tOMkAxqkQk"
      },
      "outputs": [
        {
          "data": {
            "text/html": [
              "<div>\n",
              "<style scoped>\n",
              "    .dataframe tbody tr th:only-of-type {\n",
              "        vertical-align: middle;\n",
              "    }\n",
              "\n",
              "    .dataframe tbody tr th {\n",
              "        vertical-align: top;\n",
              "    }\n",
              "\n",
              "    .dataframe thead th {\n",
              "        text-align: right;\n",
              "    }\n",
              "</style>\n",
              "<table border=\"1\" class=\"dataframe\">\n",
              "  <thead>\n",
              "    <tr style=\"text-align: right;\">\n",
              "      <th></th>\n",
              "      <th>employer</th>\n",
              "      <th>cnt</th>\n",
              "    </tr>\n",
              "  </thead>\n",
              "  <tbody>\n",
              "    <tr>\n",
              "      <th>0</th>\n",
              "      <td>Яндекс</td>\n",
              "      <td>1933</td>\n",
              "    </tr>\n",
              "    <tr>\n",
              "      <th>1</th>\n",
              "      <td>Ростелеком</td>\n",
              "      <td>491</td>\n",
              "    </tr>\n",
              "    <tr>\n",
              "      <th>2</th>\n",
              "      <td>Тинькофф</td>\n",
              "      <td>444</td>\n",
              "    </tr>\n",
              "    <tr>\n",
              "      <th>3</th>\n",
              "      <td>СБЕР</td>\n",
              "      <td>428</td>\n",
              "    </tr>\n",
              "    <tr>\n",
              "      <th>4</th>\n",
              "      <td>Газпром нефть</td>\n",
              "      <td>331</td>\n",
              "    </tr>\n",
              "    <tr>\n",
              "      <th>5</th>\n",
              "      <td>ИК СИБИНТЕК</td>\n",
              "      <td>327</td>\n",
              "    </tr>\n",
              "    <tr>\n",
              "      <th>6</th>\n",
              "      <td>МТС</td>\n",
              "      <td>292</td>\n",
              "    </tr>\n",
              "    <tr>\n",
              "      <th>7</th>\n",
              "      <td>DataArt</td>\n",
              "      <td>247</td>\n",
              "    </tr>\n",
              "    <tr>\n",
              "      <th>8</th>\n",
              "      <td>Совкомбанк Технологии</td>\n",
              "      <td>204</td>\n",
              "    </tr>\n",
              "    <tr>\n",
              "      <th>9</th>\n",
              "      <td>Первый Бит</td>\n",
              "      <td>176</td>\n",
              "    </tr>\n",
              "  </tbody>\n",
              "</table>\n",
              "</div>"
            ],
            "text/plain": [
              "                employer   cnt\n",
              "0                 Яндекс  1933\n",
              "1             Ростелеком   491\n",
              "2               Тинькофф   444\n",
              "3                   СБЕР   428\n",
              "4          Газпром нефть   331\n",
              "5            ИК СИБИНТЕК   327\n",
              "6                    МТС   292\n",
              "7                DataArt   247\n",
              "8  Совкомбанк Технологии   204\n",
              "9             Первый Бит   176"
            ]
          },
          "execution_count": 23,
          "metadata": {},
          "output_type": "execute_result"
        }
      ],
      "source": [
        "# результат запроса\n",
        "df = pd.read_sql_query(query_5_1, connection)\n",
        "df"
      ]
    },
    {
      "cell_type": "markdown",
      "id": "68377cfc-b378-43dc-ab7d-1195abf2c515",
      "metadata": {
        "id": "68377cfc-b378-43dc-ab7d-1195abf2c515"
      },
      "source": [
        "2. Напишите запрос, который для каждого региона выведет количество работодателей и вакансий в нём.\n",
        "Среди регионов, в которых нет вакансий, найдите тот, в котором наибольшее количество работодателей.\n"
      ]
    },
    {
      "cell_type": "code",
      "execution_count": 24,
      "id": "dd7df27a-e3e8-412e-a21a-5d389b71e891",
      "metadata": {
        "id": "dd7df27a-e3e8-412e-a21a-5d389b71e891"
      },
      "outputs": [],
      "source": [
        "# текст запроса\n",
        "query_5_2 = f'''SELECT\n",
        "                      a.name,\n",
        "                      COUNT(DISTINCT e.id) cnt_employers\n",
        "                FROM areas a\n",
        "                LEFT JOIN vacancies v on a.id = v.area_id\n",
        "                LEFT JOIN employers e on a.id = e.area\n",
        "                GROUP BY a.id\n",
        "                HAVING COUNT(v.id) < 1\n",
        "                ORDER BY 2 DESC\n",
        "                LIMIT 1\n",
        "'''"
      ]
    },
    {
      "cell_type": "code",
      "execution_count": 25,
      "id": "x1ikWbydrbf6",
      "metadata": {
        "id": "x1ikWbydrbf6"
      },
      "outputs": [
        {
          "data": {
            "text/html": [
              "<div>\n",
              "<style scoped>\n",
              "    .dataframe tbody tr th:only-of-type {\n",
              "        vertical-align: middle;\n",
              "    }\n",
              "\n",
              "    .dataframe tbody tr th {\n",
              "        vertical-align: top;\n",
              "    }\n",
              "\n",
              "    .dataframe thead th {\n",
              "        text-align: right;\n",
              "    }\n",
              "</style>\n",
              "<table border=\"1\" class=\"dataframe\">\n",
              "  <thead>\n",
              "    <tr style=\"text-align: right;\">\n",
              "      <th></th>\n",
              "      <th>name</th>\n",
              "      <th>cnt_employers</th>\n",
              "    </tr>\n",
              "  </thead>\n",
              "  <tbody>\n",
              "    <tr>\n",
              "      <th>0</th>\n",
              "      <td>Россия</td>\n",
              "      <td>410</td>\n",
              "    </tr>\n",
              "  </tbody>\n",
              "</table>\n",
              "</div>"
            ],
            "text/plain": [
              "     name  cnt_employers\n",
              "0  Россия            410"
            ]
          },
          "execution_count": 25,
          "metadata": {},
          "output_type": "execute_result"
        }
      ],
      "source": [
        "# результат запроса\n",
        "df = pd.read_sql_query(query_5_2, connection)\n",
        "df"
      ]
    },
    {
      "cell_type": "markdown",
      "id": "f2fe0acb-ab1a-4e15-9326-2560e22d73c1",
      "metadata": {
        "id": "f2fe0acb-ab1a-4e15-9326-2560e22d73c1"
      },
      "source": [
        "3. Для каждого работодателя посчитайте количество регионов, в которых он публикует свои вакансии. Отсортируйте результат по убыванию количества.\n"
      ]
    },
    {
      "cell_type": "code",
      "execution_count": 26,
      "id": "6271f8ad-bd2e-4196-ae4a-5b39c4c1010e",
      "metadata": {
        "id": "6271f8ad-bd2e-4196-ae4a-5b39c4c1010e"
      },
      "outputs": [],
      "source": [
        "# текст запроса\n",
        "query_5_3 = f'''SELECT\n",
        "                      e.name,\n",
        "                      COUNT(DISTINCT a.id) cnt_areas\n",
        "                FROM vacancies v\n",
        "                JOIN areas a on a.id = v.area_id\n",
        "                JOIN employers e on v.employer_id = e.id\n",
        "                GROUP BY e.id\n",
        "                ORDER BY 2 DESC\n",
        "'''"
      ]
    },
    {
      "cell_type": "code",
      "execution_count": 27,
      "id": "1EIvX3HasH4F",
      "metadata": {
        "id": "1EIvX3HasH4F"
      },
      "outputs": [
        {
          "data": {
            "text/html": [
              "<div>\n",
              "<style scoped>\n",
              "    .dataframe tbody tr th:only-of-type {\n",
              "        vertical-align: middle;\n",
              "    }\n",
              "\n",
              "    .dataframe tbody tr th {\n",
              "        vertical-align: top;\n",
              "    }\n",
              "\n",
              "    .dataframe thead th {\n",
              "        text-align: right;\n",
              "    }\n",
              "</style>\n",
              "<table border=\"1\" class=\"dataframe\">\n",
              "  <thead>\n",
              "    <tr style=\"text-align: right;\">\n",
              "      <th></th>\n",
              "      <th>name</th>\n",
              "      <th>cnt_areas</th>\n",
              "    </tr>\n",
              "  </thead>\n",
              "  <tbody>\n",
              "    <tr>\n",
              "      <th>0</th>\n",
              "      <td>Яндекс</td>\n",
              "      <td>181</td>\n",
              "    </tr>\n",
              "    <tr>\n",
              "      <th>1</th>\n",
              "      <td>Ростелеком</td>\n",
              "      <td>152</td>\n",
              "    </tr>\n",
              "    <tr>\n",
              "      <th>2</th>\n",
              "      <td>Спецремонт</td>\n",
              "      <td>116</td>\n",
              "    </tr>\n",
              "    <tr>\n",
              "      <th>3</th>\n",
              "      <td>Поляков Денис Иванович</td>\n",
              "      <td>88</td>\n",
              "    </tr>\n",
              "    <tr>\n",
              "      <th>4</th>\n",
              "      <td>ООО ЕФИН</td>\n",
              "      <td>71</td>\n",
              "    </tr>\n",
              "    <tr>\n",
              "      <th>...</th>\n",
              "      <td>...</td>\n",
              "      <td>...</td>\n",
              "    </tr>\n",
              "    <tr>\n",
              "      <th>14901</th>\n",
              "      <td>НПП Авиатрон</td>\n",
              "      <td>1</td>\n",
              "    </tr>\n",
              "    <tr>\n",
              "      <th>14902</th>\n",
              "      <td>Центр дистанционных торгов</td>\n",
              "      <td>1</td>\n",
              "    </tr>\n",
              "    <tr>\n",
              "      <th>14903</th>\n",
              "      <td>Городские Телекоммуникационные Системы</td>\n",
              "      <td>1</td>\n",
              "    </tr>\n",
              "    <tr>\n",
              "      <th>14904</th>\n",
              "      <td>Введенский, Отель</td>\n",
              "      <td>1</td>\n",
              "    </tr>\n",
              "    <tr>\n",
              "      <th>14905</th>\n",
              "      <td>Группа Компаний Автоимпорт</td>\n",
              "      <td>1</td>\n",
              "    </tr>\n",
              "  </tbody>\n",
              "</table>\n",
              "<p>14906 rows × 2 columns</p>\n",
              "</div>"
            ],
            "text/plain": [
              "                                         name  cnt_areas\n",
              "0                                      Яндекс        181\n",
              "1                                  Ростелеком        152\n",
              "2                                  Спецремонт        116\n",
              "3                      Поляков Денис Иванович         88\n",
              "4                                   ООО ЕФИН          71\n",
              "...                                       ...        ...\n",
              "14901                            НПП Авиатрон          1\n",
              "14902              Центр дистанционных торгов          1\n",
              "14903  Городские Телекоммуникационные Системы          1\n",
              "14904                       Введенский, Отель          1\n",
              "14905              Группа Компаний Автоимпорт          1\n",
              "\n",
              "[14906 rows x 2 columns]"
            ]
          },
          "execution_count": 27,
          "metadata": {},
          "output_type": "execute_result"
        }
      ],
      "source": [
        "# результат запроса\n",
        "df = pd.read_sql_query(query_5_3, connection)\n",
        "df"
      ]
    },
    {
      "cell_type": "markdown",
      "id": "eab2206d-d95b-468b-8e5f-34381abf0ce7",
      "metadata": {
        "id": "eab2206d-d95b-468b-8e5f-34381abf0ce7"
      },
      "source": [
        "4. Напишите запрос для подсчёта количества работодателей, у которых не указана сфера деятельности. "
      ]
    },
    {
      "cell_type": "code",
      "execution_count": 28,
      "id": "80defb23-bfb1-4a18-8be6-bf36aa7165d5",
      "metadata": {
        "id": "80defb23-bfb1-4a18-8be6-bf36aa7165d5"
      },
      "outputs": [],
      "source": [
        "# текст запроса\n",
        "query_5_4 = f'''SELECT\n",
        "                      COUNT(e.id) cnt\n",
        "                FROM employers e\n",
        "                LEFT JOIN employers_industries ei on e.id = ei.employer_id\n",
        "                WHERE ei.employer_id IS NULL\n",
        "'''"
      ]
    },
    {
      "cell_type": "code",
      "execution_count": 29,
      "id": "Dp_yCx6ysQSu",
      "metadata": {
        "id": "Dp_yCx6ysQSu"
      },
      "outputs": [
        {
          "data": {
            "text/plain": [
              "'В базе 8419 работодателей, у которых не указана сфера деятельности.'"
            ]
          },
          "metadata": {},
          "output_type": "display_data"
        }
      ],
      "source": [
        "# результат запроса\n",
        "df = pd.read_sql_query(query_5_4, connection)\n",
        "value = df['cnt'].iloc[0]\n",
        "display(f'В базе {value} работодателей, у которых не указана сфера деятельности.')"
      ]
    },
    {
      "cell_type": "markdown",
      "id": "0112af31-f6b0-4e3b-82ab-71296e752e5e",
      "metadata": {
        "id": "0112af31-f6b0-4e3b-82ab-71296e752e5e"
      },
      "source": [
        "5. Напишите запрос, чтобы узнать название компании, находящейся на третьем месте в алфавитном списке (по названию) компаний, у которых указано четыре сферы деятельности. "
      ]
    },
    {
      "cell_type": "code",
      "execution_count": 30,
      "id": "973b0cfc-a972-470a-8b4a-68744ef220c4",
      "metadata": {
        "id": "973b0cfc-a972-470a-8b4a-68744ef220c4"
      },
      "outputs": [],
      "source": [
        "# текст запроса\n",
        "query_5_5 = f'''SELECT\n",
        "                      e.name\n",
        "                FROM employers e\n",
        "                JOIN employers_industries ei on e.id = ei.employer_id\n",
        "                GROUP BY e.id\n",
        "                HAVING COUNT(ei.employer_id) = 4\n",
        "                ORDER BY 1\n",
        "'''"
      ]
    },
    {
      "cell_type": "code",
      "execution_count": 31,
      "id": "xsPtpp8EsaED",
      "metadata": {
        "id": "xsPtpp8EsaED"
      },
      "outputs": [
        {
          "data": {
            "text/html": [
              "<div>\n",
              "<style scoped>\n",
              "    .dataframe tbody tr th:only-of-type {\n",
              "        vertical-align: middle;\n",
              "    }\n",
              "\n",
              "    .dataframe tbody tr th {\n",
              "        vertical-align: top;\n",
              "    }\n",
              "\n",
              "    .dataframe thead th {\n",
              "        text-align: right;\n",
              "    }\n",
              "</style>\n",
              "<table border=\"1\" class=\"dataframe\">\n",
              "  <thead>\n",
              "    <tr style=\"text-align: right;\">\n",
              "      <th></th>\n",
              "      <th>name</th>\n",
              "    </tr>\n",
              "  </thead>\n",
              "  <tbody>\n",
              "    <tr>\n",
              "      <th>0</th>\n",
              "      <td>101 Интернет</td>\n",
              "    </tr>\n",
              "    <tr>\n",
              "      <th>1</th>\n",
              "      <td>21vek.by</td>\n",
              "    </tr>\n",
              "    <tr>\n",
              "      <th>2</th>\n",
              "      <td>2ГИС</td>\n",
              "    </tr>\n",
              "    <tr>\n",
              "      <th>3</th>\n",
              "      <td>2К</td>\n",
              "    </tr>\n",
              "    <tr>\n",
              "      <th>4</th>\n",
              "      <td>4 пикселя +</td>\n",
              "    </tr>\n",
              "    <tr>\n",
              "      <th>...</th>\n",
              "      <td>...</td>\n",
              "    </tr>\n",
              "    <tr>\n",
              "      <th>1133</th>\n",
              "      <td>ЮРИОН</td>\n",
              "    </tr>\n",
              "    <tr>\n",
              "      <th>1134</th>\n",
              "      <td>ЮТИП Технологии</td>\n",
              "    </tr>\n",
              "    <tr>\n",
              "      <th>1135</th>\n",
              "      <td>ЯКласс</td>\n",
              "    </tr>\n",
              "    <tr>\n",
              "      <th>1136</th>\n",
              "      <td>ЯрНео</td>\n",
              "    </tr>\n",
              "    <tr>\n",
              "      <th>1137</th>\n",
              "      <td>Яшин&amp;Партнёры</td>\n",
              "    </tr>\n",
              "  </tbody>\n",
              "</table>\n",
              "<p>1138 rows × 1 columns</p>\n",
              "</div>"
            ],
            "text/plain": [
              "                 name\n",
              "0        101 Интернет\n",
              "1            21vek.by\n",
              "2                2ГИС\n",
              "3                  2К\n",
              "4         4 пикселя +\n",
              "...               ...\n",
              "1133            ЮРИОН\n",
              "1134  ЮТИП Технологии\n",
              "1135           ЯКласс\n",
              "1136            ЯрНео\n",
              "1137    Яшин&Партнёры\n",
              "\n",
              "[1138 rows x 1 columns]"
            ]
          },
          "execution_count": 31,
          "metadata": {},
          "output_type": "execute_result"
        }
      ],
      "source": [
        "# результат запроса\n",
        "df = pd.read_sql_query(query_5_5, connection)\n",
        "df"
      ]
    },
    {
      "cell_type": "markdown",
      "id": "3bfcfdaf-755d-4d2b-8ed8-326201dc07ab",
      "metadata": {
        "id": "3bfcfdaf-755d-4d2b-8ed8-326201dc07ab"
      },
      "source": [
        "6. С помощью запроса выясните, у какого количества работодателей в качестве сферы деятельности указана Разработка программного обеспечения.\n"
      ]
    },
    {
      "cell_type": "code",
      "execution_count": 32,
      "id": "ad3f270f-2991-47eb-929b-e8f88a55b0d1",
      "metadata": {
        "id": "ad3f270f-2991-47eb-929b-e8f88a55b0d1"
      },
      "outputs": [],
      "source": [
        "# текст запроса\n",
        "query_5_6 = f'''SELECT\n",
        "                      COUNT(e.id)\n",
        "                FROM employers e\n",
        "                JOIN employers_industries ei on e.id = ei.employer_id\n",
        "                JOIN industries i on ei.industry_id = i.id\n",
        "                WHERE i.name = 'Разработка программного обеспечения'\n",
        "'''"
      ]
    },
    {
      "cell_type": "code",
      "execution_count": 33,
      "id": "H72qxWM0shPR",
      "metadata": {
        "id": "H72qxWM0shPR"
      },
      "outputs": [
        {
          "data": {
            "text/html": [
              "<div>\n",
              "<style scoped>\n",
              "    .dataframe tbody tr th:only-of-type {\n",
              "        vertical-align: middle;\n",
              "    }\n",
              "\n",
              "    .dataframe tbody tr th {\n",
              "        vertical-align: top;\n",
              "    }\n",
              "\n",
              "    .dataframe thead th {\n",
              "        text-align: right;\n",
              "    }\n",
              "</style>\n",
              "<table border=\"1\" class=\"dataframe\">\n",
              "  <thead>\n",
              "    <tr style=\"text-align: right;\">\n",
              "      <th></th>\n",
              "      <th>count</th>\n",
              "    </tr>\n",
              "  </thead>\n",
              "  <tbody>\n",
              "    <tr>\n",
              "      <th>0</th>\n",
              "      <td>3553</td>\n",
              "    </tr>\n",
              "  </tbody>\n",
              "</table>\n",
              "</div>"
            ],
            "text/plain": [
              "   count\n",
              "0   3553"
            ]
          },
          "execution_count": 33,
          "metadata": {},
          "output_type": "execute_result"
        }
      ],
      "source": [
        "# результат запроса\n",
        "df = pd.read_sql_query(query_5_6, connection)\n",
        "df"
      ]
    },
    {
      "cell_type": "markdown",
      "id": "7b02bb86-0546-40fb-94a4-242f050a5c57",
      "metadata": {
        "id": "7b02bb86-0546-40fb-94a4-242f050a5c57"
      },
      "source": [
        "7. Для компании «Яндекс» выведите список регионов-миллионников, в которых представлены вакансии компании, вместе с количеством вакансий в этих регионах. Также добавьте строку Total с общим количеством вакансий компании. Результат отсортируйте по возрастанию количества.\n",
        "\n",
        "Список городов-милионников надо взять [отсюда](https://ru.wikipedia.org/wiki/%D0%93%D0%BE%D1%80%D0%BE%D0%B4%D0%B0-%D0%BC%D0%B8%D0%BB%D0%BB%D0%B8%D0%BE%D0%BD%D0%B5%D1%80%D1%8B_%D0%A0%D0%BE%D1%81%D1%81%D0%B8%D0%B8). \n",
        "\n",
        "Если возникнут трудности с этим задание посмотрите материалы модуля  PYTHON-17. Как получать данные из веб-источников и API. "
      ]
    },
    {
      "cell_type": "code",
      "execution_count": 34,
      "id": "d7cd2dc7",
      "metadata": {},
      "outputs": [],
      "source": [
        "path_common = req.urlparse('https://ru.wikipedia.org/wiki/Города-миллионеры_России#Список_городов-миллионеров')\n",
        "url = path_common.scheme + '://' + req.quote(path_common.netloc) +  req.quote(path_common.path) + '#'+ req.quote(path_common.fragment)\n",
        "df = pd.read_html(url)[1]\n",
        "cities = tuple(df['Город'].tolist())"
      ]
    },
    {
      "cell_type": "code",
      "execution_count": 35,
      "id": "5a0e32a4-e68a-4365-8a39-2fe24c542c36",
      "metadata": {
        "id": "5a0e32a4-e68a-4365-8a39-2fe24c542c36"
      },
      "outputs": [],
      "source": [
        "# текст запроса\n",
        "query_5_7 = f'''WITH temp AS\n",
        "                (SELECT\n",
        "                       a.name,\n",
        "                       COUNT(v.id) cnt\n",
        "                FROM areas a\n",
        "                JOIN vacancies v on a.id = v.area_id\n",
        "                JOIN employers e on v.employer_id = e.id\n",
        "                WHERE (e.name = 'Яндекс') AND (a.name IN {cities})\n",
        "                GROUP BY a.id)\n",
        "                SELECT *  FROM temp\n",
        "                UNION ALL\n",
        "                SELECT 'Total', sum(cnt)  FROM temp\n",
        "'''"
      ]
    },
    {
      "cell_type": "code",
      "execution_count": 36,
      "id": "ttPhiO1rsvPq",
      "metadata": {
        "id": "ttPhiO1rsvPq"
      },
      "outputs": [
        {
          "data": {
            "text/html": [
              "<div>\n",
              "<style scoped>\n",
              "    .dataframe tbody tr th:only-of-type {\n",
              "        vertical-align: middle;\n",
              "    }\n",
              "\n",
              "    .dataframe tbody tr th {\n",
              "        vertical-align: top;\n",
              "    }\n",
              "\n",
              "    .dataframe thead th {\n",
              "        text-align: right;\n",
              "    }\n",
              "</style>\n",
              "<table border=\"1\" class=\"dataframe\">\n",
              "  <thead>\n",
              "    <tr style=\"text-align: right;\">\n",
              "      <th></th>\n",
              "      <th>name</th>\n",
              "      <th>cnt</th>\n",
              "    </tr>\n",
              "  </thead>\n",
              "  <tbody>\n",
              "    <tr>\n",
              "      <th>0</th>\n",
              "      <td>Москва</td>\n",
              "      <td>54.0</td>\n",
              "    </tr>\n",
              "    <tr>\n",
              "      <th>1</th>\n",
              "      <td>Санкт-Петербург</td>\n",
              "      <td>42.0</td>\n",
              "    </tr>\n",
              "    <tr>\n",
              "      <th>2</th>\n",
              "      <td>Екатеринбург</td>\n",
              "      <td>39.0</td>\n",
              "    </tr>\n",
              "    <tr>\n",
              "      <th>3</th>\n",
              "      <td>Новосибирск</td>\n",
              "      <td>35.0</td>\n",
              "    </tr>\n",
              "    <tr>\n",
              "      <th>4</th>\n",
              "      <td>Волгоград</td>\n",
              "      <td>24.0</td>\n",
              "    </tr>\n",
              "    <tr>\n",
              "      <th>5</th>\n",
              "      <td>Воронеж</td>\n",
              "      <td>32.0</td>\n",
              "    </tr>\n",
              "    <tr>\n",
              "      <th>6</th>\n",
              "      <td>Краснодар</td>\n",
              "      <td>30.0</td>\n",
              "    </tr>\n",
              "    <tr>\n",
              "      <th>7</th>\n",
              "      <td>Красноярск</td>\n",
              "      <td>23.0</td>\n",
              "    </tr>\n",
              "    <tr>\n",
              "      <th>8</th>\n",
              "      <td>Нижний Новгород</td>\n",
              "      <td>36.0</td>\n",
              "    </tr>\n",
              "    <tr>\n",
              "      <th>9</th>\n",
              "      <td>Омск</td>\n",
              "      <td>21.0</td>\n",
              "    </tr>\n",
              "    <tr>\n",
              "      <th>10</th>\n",
              "      <td>Пермь</td>\n",
              "      <td>25.0</td>\n",
              "    </tr>\n",
              "    <tr>\n",
              "      <th>11</th>\n",
              "      <td>Ростов-на-Дону</td>\n",
              "      <td>25.0</td>\n",
              "    </tr>\n",
              "    <tr>\n",
              "      <th>12</th>\n",
              "      <td>Самара</td>\n",
              "      <td>26.0</td>\n",
              "    </tr>\n",
              "    <tr>\n",
              "      <th>13</th>\n",
              "      <td>Казань</td>\n",
              "      <td>25.0</td>\n",
              "    </tr>\n",
              "    <tr>\n",
              "      <th>14</th>\n",
              "      <td>Уфа</td>\n",
              "      <td>26.0</td>\n",
              "    </tr>\n",
              "    <tr>\n",
              "      <th>15</th>\n",
              "      <td>Челябинск</td>\n",
              "      <td>22.0</td>\n",
              "    </tr>\n",
              "    <tr>\n",
              "      <th>16</th>\n",
              "      <td>Total</td>\n",
              "      <td>485.0</td>\n",
              "    </tr>\n",
              "  </tbody>\n",
              "</table>\n",
              "</div>"
            ],
            "text/plain": [
              "               name    cnt\n",
              "0            Москва   54.0\n",
              "1   Санкт-Петербург   42.0\n",
              "2      Екатеринбург   39.0\n",
              "3       Новосибирск   35.0\n",
              "4         Волгоград   24.0\n",
              "5           Воронеж   32.0\n",
              "6         Краснодар   30.0\n",
              "7        Красноярск   23.0\n",
              "8   Нижний Новгород   36.0\n",
              "9              Омск   21.0\n",
              "10            Пермь   25.0\n",
              "11   Ростов-на-Дону   25.0\n",
              "12           Самара   26.0\n",
              "13           Казань   25.0\n",
              "14              Уфа   26.0\n",
              "15        Челябинск   22.0\n",
              "16            Total  485.0"
            ]
          },
          "execution_count": 36,
          "metadata": {},
          "output_type": "execute_result"
        }
      ],
      "source": [
        "# результат запроса\n",
        "df = pd.read_sql_query(query_5_7, connection)\n",
        "df"
      ]
    },
    {
      "cell_type": "markdown",
      "id": "04966e40-3bc3-4dc8-9ba2-e80580ce3abc",
      "metadata": {
        "id": "04966e40-3bc3-4dc8-9ba2-e80580ce3abc"
      },
      "source": [
        "***"
      ]
    },
    {
      "cell_type": "markdown",
      "id": "f5f0a736",
      "metadata": {},
      "source": [
        "Дополнительное исследование\n",
        "\n",
        "8. ТОП-3 компаний, разместивших свои вакансии в наибольшем количестве регионов. Вывод количества вакансий этих компаний в разрезе типов рабочего графика."
      ]
    },
    {
      "cell_type": "code",
      "execution_count": 37,
      "id": "b4a282da",
      "metadata": {},
      "outputs": [],
      "source": [
        "# текст запроса\n",
        "query_5_8 = f'''SELECT\n",
        "                       e.name,\n",
        "                       v.schedule,\n",
        "                       COUNT(v.id) cnt\n",
        "                FROM vacancies v\n",
        "                JOIN employers e on v.employer_id = e.id\n",
        "                WHERE (e.name = 'Яндекс') OR (e.name = 'Ростелеком') OR (e.name = 'Спецремонт')\n",
        "                GROUP BY e.id, v.schedule\n",
        "'''"
      ]
    },
    {
      "cell_type": "code",
      "execution_count": 38,
      "id": "a8f31c49",
      "metadata": {},
      "outputs": [
        {
          "data": {
            "text/html": [
              "<div>\n",
              "<style scoped>\n",
              "    .dataframe tbody tr th:only-of-type {\n",
              "        vertical-align: middle;\n",
              "    }\n",
              "\n",
              "    .dataframe tbody tr th {\n",
              "        vertical-align: top;\n",
              "    }\n",
              "\n",
              "    .dataframe thead th {\n",
              "        text-align: right;\n",
              "    }\n",
              "</style>\n",
              "<table border=\"1\" class=\"dataframe\">\n",
              "  <thead>\n",
              "    <tr style=\"text-align: right;\">\n",
              "      <th></th>\n",
              "      <th>name</th>\n",
              "      <th>schedule</th>\n",
              "      <th>cnt</th>\n",
              "    </tr>\n",
              "  </thead>\n",
              "  <tbody>\n",
              "    <tr>\n",
              "      <th>0</th>\n",
              "      <td>Яндекс</td>\n",
              "      <td>Гибкий график</td>\n",
              "      <td>55</td>\n",
              "    </tr>\n",
              "    <tr>\n",
              "      <th>1</th>\n",
              "      <td>Яндекс</td>\n",
              "      <td>Полный день</td>\n",
              "      <td>131</td>\n",
              "    </tr>\n",
              "    <tr>\n",
              "      <th>2</th>\n",
              "      <td>Яндекс</td>\n",
              "      <td>Сменный график</td>\n",
              "      <td>57</td>\n",
              "    </tr>\n",
              "    <tr>\n",
              "      <th>3</th>\n",
              "      <td>Яндекс</td>\n",
              "      <td>Удаленная работа</td>\n",
              "      <td>1690</td>\n",
              "    </tr>\n",
              "    <tr>\n",
              "      <th>4</th>\n",
              "      <td>Ростелеком</td>\n",
              "      <td>Гибкий график</td>\n",
              "      <td>4</td>\n",
              "    </tr>\n",
              "    <tr>\n",
              "      <th>5</th>\n",
              "      <td>Ростелеком</td>\n",
              "      <td>Полный день</td>\n",
              "      <td>350</td>\n",
              "    </tr>\n",
              "    <tr>\n",
              "      <th>6</th>\n",
              "      <td>Ростелеком</td>\n",
              "      <td>Сменный график</td>\n",
              "      <td>67</td>\n",
              "    </tr>\n",
              "    <tr>\n",
              "      <th>7</th>\n",
              "      <td>Ростелеком</td>\n",
              "      <td>Удаленная работа</td>\n",
              "      <td>70</td>\n",
              "    </tr>\n",
              "    <tr>\n",
              "      <th>8</th>\n",
              "      <td>Спецремонт</td>\n",
              "      <td>Гибкий график</td>\n",
              "      <td>36</td>\n",
              "    </tr>\n",
              "    <tr>\n",
              "      <th>9</th>\n",
              "      <td>Спецремонт</td>\n",
              "      <td>Полный день</td>\n",
              "      <td>65</td>\n",
              "    </tr>\n",
              "    <tr>\n",
              "      <th>10</th>\n",
              "      <td>Спецремонт</td>\n",
              "      <td>Сменный график</td>\n",
              "      <td>50</td>\n",
              "    </tr>\n",
              "  </tbody>\n",
              "</table>\n",
              "</div>"
            ],
            "text/plain": [
              "          name          schedule   cnt\n",
              "0       Яндекс     Гибкий график    55\n",
              "1       Яндекс       Полный день   131\n",
              "2       Яндекс    Сменный график    57\n",
              "3       Яндекс  Удаленная работа  1690\n",
              "4   Ростелеком     Гибкий график     4\n",
              "5   Ростелеком       Полный день   350\n",
              "6   Ростелеком    Сменный график    67\n",
              "7   Ростелеком  Удаленная работа    70\n",
              "8   Спецремонт     Гибкий график    36\n",
              "9   Спецремонт       Полный день    65\n",
              "10  Спецремонт    Сменный график    50"
            ]
          },
          "execution_count": 38,
          "metadata": {},
          "output_type": "execute_result"
        }
      ],
      "source": [
        "# результат запроса\n",
        "df = pd.read_sql_query(query_5_8, connection)\n",
        "df"
      ]
    },
    {
      "cell_type": "markdown",
      "id": "8da1d42a",
      "metadata": {},
      "source": [
        "### выводы по анализу работодателей\n",
        "Наибольшее количество вакансий размещает компания \"Яндекс\"(~4% всех вакансий), Ростелеком, Тинькофф и СБЕР находятся на 2, 3, 4 местах соответственно (~1%).\n",
        "\n",
        "В регионе \"Россия\" не опубликовано ни одной вакансии, при этом 410 работодателей указали его как регион своей деятельности. Могу предположить, что компании, указавшие данный регион, работают по всей России, а уже непосредственно в вакансиях указывают необходимый регион для какой-то определенной вакансии. \n",
        "\n",
        "Яндекс, Ростелеком и Спецремонт публикуют свои вакансии в большом количестве регионов. Проведя дополнительное исследование можно сделать выводы о причинах. У компании \"Яндекс\" подавляющее большинство вакансий предполагают удаленную работу, в таком случае регион нахождения работника не имеет значения, зато уровень заработной платы в регионах может быть ниже, чем, например, в Москве, что выгодно для компании. У \"Ростелеком\" специфика работы предполагает большое количество офисов, в каждый офис нужны работники. Компании \"Спецремонт\" также нужны работники в разных регионах - необходимость ремонтных работ нужна людям независимо от регионов.\n",
        "\n",
        "В базе 8419 работодателей (~17%), у которых не указана сфера деятельности. У 1138 работодателй указаны 4 сферы деятельности.\n",
        "\n",
        "у 3553 (~7%) работодателей в качестве сферы деятельности указана Разработка программного обеспечения. Это достаточно большое количество, значит данная сфера интенсивно развивается.\n",
        "\n",
        "В разрезе количества вакансий \"Яндекс\" по городам-миллионникам ситуация складывается следущая: количество вакансий уменьшается сооразмерно общему количеству населения. Немного выбивается Нижний Новгород, предполагаю что это происходит из-за близости с Москвой."
      ]
    },
    {
      "cell_type": "markdown",
      "id": "b1ef156a-efcb-49ce-bb23-90763e7f35b2",
      "metadata": {
        "id": "b1ef156a-efcb-49ce-bb23-90763e7f35b2",
        "tags": []
      },
      "source": [
        "# Юнит 6. Предметный анализ"
      ]
    },
    {
      "cell_type": "markdown",
      "id": "b9cd50a0-992d-4988-8463-2b2b1c4629b4",
      "metadata": {
        "id": "b9cd50a0-992d-4988-8463-2b2b1c4629b4"
      },
      "source": [
        "1. Сколько вакансий имеет отношение к данным?\n",
        "\n",
        "Считаем, что вакансия имеет отношение к данным, если в её названии содержатся слова 'data' или 'данн'.\n",
        "\n",
        "*Подсказка: Обратите внимание, что названия вакансий могут быть написаны в любом регистре.* \n"
      ]
    },
    {
      "cell_type": "code",
      "execution_count": 39,
      "id": "54ab0e50-c0f1-47cc-a54b-bc5c8bc363f9",
      "metadata": {
        "id": "54ab0e50-c0f1-47cc-a54b-bc5c8bc363f9"
      },
      "outputs": [],
      "source": [
        "# текст запроса\n",
        "query_6_1 = f'''SELECT\n",
        "                      COUNT(id)\n",
        "                FROM vacancies v\n",
        "                WHERE (name ~* 'data') OR (name ~* 'данн')\n",
        "'''"
      ]
    },
    {
      "cell_type": "code",
      "execution_count": 40,
      "id": "9F1meAqsuUjd",
      "metadata": {
        "id": "9F1meAqsuUjd"
      },
      "outputs": [
        {
          "data": {
            "text/html": [
              "<div>\n",
              "<style scoped>\n",
              "    .dataframe tbody tr th:only-of-type {\n",
              "        vertical-align: middle;\n",
              "    }\n",
              "\n",
              "    .dataframe tbody tr th {\n",
              "        vertical-align: top;\n",
              "    }\n",
              "\n",
              "    .dataframe thead th {\n",
              "        text-align: right;\n",
              "    }\n",
              "</style>\n",
              "<table border=\"1\" class=\"dataframe\">\n",
              "  <thead>\n",
              "    <tr style=\"text-align: right;\">\n",
              "      <th></th>\n",
              "      <th>count</th>\n",
              "    </tr>\n",
              "  </thead>\n",
              "  <tbody>\n",
              "    <tr>\n",
              "      <th>0</th>\n",
              "      <td>1771</td>\n",
              "    </tr>\n",
              "  </tbody>\n",
              "</table>\n",
              "</div>"
            ],
            "text/plain": [
              "   count\n",
              "0   1771"
            ]
          },
          "execution_count": 40,
          "metadata": {},
          "output_type": "execute_result"
        }
      ],
      "source": [
        "# результат запроса\n",
        "df = pd.read_sql_query(query_6_1, connection)\n",
        "df"
      ]
    },
    {
      "cell_type": "markdown",
      "id": "4dea20cb-a36b-474a-a0b9-e08e8e3857a5",
      "metadata": {
        "id": "4dea20cb-a36b-474a-a0b9-e08e8e3857a5"
      },
      "source": [
        "2. Сколько есть подходящих вакансий для начинающего дата-сайентиста? \n",
        "Будем считать вакансиями для дата-сайентистов такие, в названии которых есть хотя бы одно из следующих сочетаний:\n",
        "* 'data scientist'\n",
        "* 'data science'\n",
        "* 'исследователь данных'\n",
        "* 'ML' (здесь не нужно брать вакансии по HTML)\n",
        "* 'machine learning'\n",
        "* 'машинн%обучен%'\n",
        "\n",
        "** В следующих заданиях мы продолжим работать с вакансиями по этому условию.*\n",
        "\n",
        "Считаем вакансиями для специалистов уровня Junior следующие:\n",
        "* в названии есть слово 'junior' *или*\n",
        "* требуемый опыт — Нет опыта *или*\n",
        "* тип трудоустройства — Стажировка.\n",
        " "
      ]
    },
    {
      "cell_type": "code",
      "execution_count": 41,
      "id": "9c61b3c0-bb66-46c9-ae1e-81d3f5752b4a",
      "metadata": {
        "id": "9c61b3c0-bb66-46c9-ae1e-81d3f5752b4a"
      },
      "outputs": [],
      "source": [
        "# текст запроса\n",
        "query_6_2 = f'''SELECT\n",
        "                      COUNT(id)\n",
        "                FROM vacancies\n",
        "                WHERE name ~* 'data scien(tist|ce)|исследователь данных|ML|machine learning|машинн.*обучен.*'\n",
        "                      AND name !~* 'HTML' \n",
        "                      AND (name ~* 'junior' OR experience = 'Нет опыта' OR employment = 'Стажировка')\n",
        "'''"
      ]
    },
    {
      "cell_type": "code",
      "execution_count": 42,
      "id": "ZNM-LLYuu1dj",
      "metadata": {
        "id": "ZNM-LLYuu1dj"
      },
      "outputs": [
        {
          "data": {
            "text/html": [
              "<div>\n",
              "<style scoped>\n",
              "    .dataframe tbody tr th:only-of-type {\n",
              "        vertical-align: middle;\n",
              "    }\n",
              "\n",
              "    .dataframe tbody tr th {\n",
              "        vertical-align: top;\n",
              "    }\n",
              "\n",
              "    .dataframe thead th {\n",
              "        text-align: right;\n",
              "    }\n",
              "</style>\n",
              "<table border=\"1\" class=\"dataframe\">\n",
              "  <thead>\n",
              "    <tr style=\"text-align: right;\">\n",
              "      <th></th>\n",
              "      <th>count</th>\n",
              "    </tr>\n",
              "  </thead>\n",
              "  <tbody>\n",
              "    <tr>\n",
              "      <th>0</th>\n",
              "      <td>51</td>\n",
              "    </tr>\n",
              "  </tbody>\n",
              "</table>\n",
              "</div>"
            ],
            "text/plain": [
              "   count\n",
              "0     51"
            ]
          },
          "execution_count": 42,
          "metadata": {},
          "output_type": "execute_result"
        }
      ],
      "source": [
        "# результат запроса\n",
        "df = pd.read_sql_query(query_6_2, connection)\n",
        "df"
      ]
    },
    {
      "cell_type": "markdown",
      "id": "eedceb80-c5ca-480e-b27a-278dfb8b4438",
      "metadata": {
        "id": "eedceb80-c5ca-480e-b27a-278dfb8b4438"
      },
      "source": [
        "3. Сколько есть вакансий для DS, в которых в качестве ключевого навыка указан SQL или postgres?\n",
        "\n",
        "** Критерии для отнесения вакансии к DS указаны в предыдущем задании.*"
      ]
    },
    {
      "cell_type": "code",
      "execution_count": 43,
      "id": "69621713-0cc5-4f1b-a1d7-bb144fa6148c",
      "metadata": {
        "id": "69621713-0cc5-4f1b-a1d7-bb144fa6148c"
      },
      "outputs": [],
      "source": [
        "# текст запроса\n",
        "query_6_3 = f'''SELECT\n",
        "                      COUNT(id)\n",
        "                FROM vacancies\n",
        "                WHERE (name ~* 'data scien(tist|ce)|исследователь данных|machine learning|машинн.*обучен.*'\n",
        "                      OR name ~ 'ML')\n",
        "                      AND name !~* 'HTML'\n",
        "                      AND (key_skills ~* 'SQL' OR key_skills ~* 'postgres')\n",
        "'''"
      ]
    },
    {
      "cell_type": "code",
      "execution_count": 44,
      "id": "alA8WEAAvGdf",
      "metadata": {
        "id": "alA8WEAAvGdf"
      },
      "outputs": [
        {
          "data": {
            "text/html": [
              "<div>\n",
              "<style scoped>\n",
              "    .dataframe tbody tr th:only-of-type {\n",
              "        vertical-align: middle;\n",
              "    }\n",
              "\n",
              "    .dataframe tbody tr th {\n",
              "        vertical-align: top;\n",
              "    }\n",
              "\n",
              "    .dataframe thead th {\n",
              "        text-align: right;\n",
              "    }\n",
              "</style>\n",
              "<table border=\"1\" class=\"dataframe\">\n",
              "  <thead>\n",
              "    <tr style=\"text-align: right;\">\n",
              "      <th></th>\n",
              "      <th>count</th>\n",
              "    </tr>\n",
              "  </thead>\n",
              "  <tbody>\n",
              "    <tr>\n",
              "      <th>0</th>\n",
              "      <td>201</td>\n",
              "    </tr>\n",
              "  </tbody>\n",
              "</table>\n",
              "</div>"
            ],
            "text/plain": [
              "   count\n",
              "0    201"
            ]
          },
          "execution_count": 44,
          "metadata": {},
          "output_type": "execute_result"
        }
      ],
      "source": [
        "# результат запроса\n",
        "df = pd.read_sql_query(query_6_3, connection)\n",
        "df"
      ]
    },
    {
      "cell_type": "markdown",
      "id": "1be1e9c6-37cf-4a5f-bfeb-04cab799dc80",
      "metadata": {
        "id": "1be1e9c6-37cf-4a5f-bfeb-04cab799dc80"
      },
      "source": [
        "4. Проверьте, насколько популярен Python в требованиях работодателей к DS.Для этого вычислите количество вакансий, в которых в качестве ключевого навыка указан Python.\n",
        "\n",
        "** Это можно сделать помощью запроса, аналогичного предыдущему.*"
      ]
    },
    {
      "cell_type": "code",
      "execution_count": 45,
      "id": "0036a355-9ccf-4564-8b01-73d8194297e7",
      "metadata": {
        "id": "0036a355-9ccf-4564-8b01-73d8194297e7"
      },
      "outputs": [],
      "source": [
        "# текст запроса\n",
        "query_6_4 = f'''SELECT\n",
        "                      COUNT(id)\n",
        "                FROM vacancies\n",
        "                WHERE (name ~* 'data scien(tist|ce)|исследователь данных|machine learning|машинн.*обучен.*'\n",
        "                      OR name ~ 'ML')\n",
        "                      AND name !~* 'HTML'\n",
        "                      AND key_skills ~* 'Python'\n",
        "'''"
      ]
    },
    {
      "cell_type": "code",
      "execution_count": 46,
      "id": "1i-5WyucvQ6v",
      "metadata": {
        "id": "1i-5WyucvQ6v"
      },
      "outputs": [
        {
          "data": {
            "text/html": [
              "<div>\n",
              "<style scoped>\n",
              "    .dataframe tbody tr th:only-of-type {\n",
              "        vertical-align: middle;\n",
              "    }\n",
              "\n",
              "    .dataframe tbody tr th {\n",
              "        vertical-align: top;\n",
              "    }\n",
              "\n",
              "    .dataframe thead th {\n",
              "        text-align: right;\n",
              "    }\n",
              "</style>\n",
              "<table border=\"1\" class=\"dataframe\">\n",
              "  <thead>\n",
              "    <tr style=\"text-align: right;\">\n",
              "      <th></th>\n",
              "      <th>count</th>\n",
              "    </tr>\n",
              "  </thead>\n",
              "  <tbody>\n",
              "    <tr>\n",
              "      <th>0</th>\n",
              "      <td>351</td>\n",
              "    </tr>\n",
              "  </tbody>\n",
              "</table>\n",
              "</div>"
            ],
            "text/plain": [
              "   count\n",
              "0    351"
            ]
          },
          "execution_count": 46,
          "metadata": {},
          "output_type": "execute_result"
        }
      ],
      "source": [
        "# результат запроса\n",
        "df = pd.read_sql_query(query_6_4, connection)\n",
        "df"
      ]
    },
    {
      "cell_type": "markdown",
      "id": "ec3c8db7-fa21-4a41-a994-1af63742a642",
      "metadata": {
        "id": "ec3c8db7-fa21-4a41-a994-1af63742a642"
      },
      "source": [
        "5. Сколько ключевых навыков в среднем указывают в вакансиях для DS?\n",
        "Ответ округлите до двух знаков после точки-разделителя."
      ]
    },
    {
      "cell_type": "code",
      "execution_count": 47,
      "id": "949132bc-d5b6-4611-8218-0b9a504d74f4",
      "metadata": {
        "id": "949132bc-d5b6-4611-8218-0b9a504d74f4"
      },
      "outputs": [],
      "source": [
        "# текст запроса\n",
        "query_6_5 = f'''SELECT\n",
        "                      ROUND(AVG(length(key_skills) - length(replace(key_skills, CHR(9), '')) +1), 2) key_skills\n",
        "                FROM vacancies\n",
        "                WHERE (name ~* 'data scien(tist|ce)|исследователь данных|machine learning|машинн.*обучен.*'\n",
        "                      OR name ~ 'ML')\n",
        "                      AND name !~* 'HTML'\n",
        "'''"
      ]
    },
    {
      "cell_type": "code",
      "execution_count": 48,
      "id": "a3V24Tvmviqk",
      "metadata": {
        "id": "a3V24Tvmviqk"
      },
      "outputs": [
        {
          "data": {
            "text/html": [
              "<div>\n",
              "<style scoped>\n",
              "    .dataframe tbody tr th:only-of-type {\n",
              "        vertical-align: middle;\n",
              "    }\n",
              "\n",
              "    .dataframe tbody tr th {\n",
              "        vertical-align: top;\n",
              "    }\n",
              "\n",
              "    .dataframe thead th {\n",
              "        text-align: right;\n",
              "    }\n",
              "</style>\n",
              "<table border=\"1\" class=\"dataframe\">\n",
              "  <thead>\n",
              "    <tr style=\"text-align: right;\">\n",
              "      <th></th>\n",
              "      <th>key_skills</th>\n",
              "    </tr>\n",
              "  </thead>\n",
              "  <tbody>\n",
              "    <tr>\n",
              "      <th>0</th>\n",
              "      <td>6.41</td>\n",
              "    </tr>\n",
              "  </tbody>\n",
              "</table>\n",
              "</div>"
            ],
            "text/plain": [
              "   key_skills\n",
              "0        6.41"
            ]
          },
          "execution_count": 48,
          "metadata": {},
          "output_type": "execute_result"
        }
      ],
      "source": [
        "# результат запроса\n",
        "df = pd.read_sql_query(query_6_5, connection)\n",
        "df"
      ]
    },
    {
      "cell_type": "markdown",
      "id": "1041c17a-ca8f-4543-a0ca-32778914fb00",
      "metadata": {
        "id": "1041c17a-ca8f-4543-a0ca-32778914fb00"
      },
      "source": [
        "6. Напишите запрос, позволяющий вычислить, какую зарплату для DS в **среднем** указывают для каждого типа требуемого опыта (уникальное значение из поля *experience*). \n",
        "\n",
        "При решении задачи примите во внимание следующее:\n",
        "1. Рассматриваем только вакансии, у которых заполнено хотя бы одно из двух полей с зарплатой.\n",
        "2. Если заполнены оба поля с зарплатой, то считаем зарплату по каждой вакансии как сумму двух полей, делённую на 2. Если заполнено только одно из полей, то его и считаем зарплатой по вакансии.\n",
        "3. Если в расчётах участвует null, в результате он тоже даст null (посмотрите, что возвращает запрос select 1 + null). Чтобы избежать этой ситуацию, мы воспользуемся функцией [coalesce](https://postgrespro.ru/docs/postgresql/9.5/functions-conditional#functions-coalesce-nvl-ifnull), которая заменит null на значение, которое мы передадим. Например, посмотрите, что возвращает запрос `select 1 + coalesce(null, 0)`\n",
        "\n",
        "Выясните, на какую зарплату в среднем может рассчитывать дата-сайентист с опытом работы от 3 до 6 лет. Результат округлите до целого числа. "
      ]
    },
    {
      "cell_type": "code",
      "execution_count": 49,
      "id": "b1f66522",
      "metadata": {},
      "outputs": [],
      "source": [
        "# текст запроса\n",
        "query_6_6 = f'''SELECT\n",
        "                      experience,\n",
        "                      ROUND(AVG(COALESCE(((salary_from + salary_to)/2), salary_from, salary_to))) avc_salary\n",
        "                FROM vacancies\n",
        "                WHERE (name ~* 'data scien(tist|ce)|исследователь данных|machine learning|машинн.*обучен.*'\n",
        "                      OR name ~ 'ML')\n",
        "                      AND name !~* 'HTML'\n",
        "                      AND (salary_from IS NOT NULL OR salary_to IS NOT NULL)\n",
        "                GROUP BY experience\n",
        "'''"
      ]
    },
    {
      "cell_type": "code",
      "execution_count": 50,
      "id": "aRIJ0mZEwU1_",
      "metadata": {
        "id": "aRIJ0mZEwU1_"
      },
      "outputs": [
        {
          "data": {
            "text/html": [
              "<div>\n",
              "<style scoped>\n",
              "    .dataframe tbody tr th:only-of-type {\n",
              "        vertical-align: middle;\n",
              "    }\n",
              "\n",
              "    .dataframe tbody tr th {\n",
              "        vertical-align: top;\n",
              "    }\n",
              "\n",
              "    .dataframe thead th {\n",
              "        text-align: right;\n",
              "    }\n",
              "</style>\n",
              "<table border=\"1\" class=\"dataframe\">\n",
              "  <thead>\n",
              "    <tr style=\"text-align: right;\">\n",
              "      <th></th>\n",
              "      <th>experience</th>\n",
              "      <th>avc_salary</th>\n",
              "    </tr>\n",
              "  </thead>\n",
              "  <tbody>\n",
              "    <tr>\n",
              "      <th>0</th>\n",
              "      <td>Нет опыта</td>\n",
              "      <td>74643.0</td>\n",
              "    </tr>\n",
              "    <tr>\n",
              "      <th>1</th>\n",
              "      <td>От 1 года до 3 лет</td>\n",
              "      <td>139675.0</td>\n",
              "    </tr>\n",
              "    <tr>\n",
              "      <th>2</th>\n",
              "      <td>От 3 до 6 лет</td>\n",
              "      <td>243115.0</td>\n",
              "    </tr>\n",
              "  </tbody>\n",
              "</table>\n",
              "</div>"
            ],
            "text/plain": [
              "           experience  avc_salary\n",
              "0           Нет опыта     74643.0\n",
              "1  От 1 года до 3 лет    139675.0\n",
              "2       От 3 до 6 лет    243115.0"
            ]
          },
          "execution_count": 50,
          "metadata": {},
          "output_type": "execute_result"
        }
      ],
      "source": [
        "# результат запроса\n",
        "df = pd.read_sql_query(query_6_6, connection)\n",
        "df"
      ]
    },
    {
      "cell_type": "markdown",
      "id": "6a7892b4-4113-4746-adce-18aa2844f18e",
      "metadata": {
        "id": "6a7892b4-4113-4746-adce-18aa2844f18e"
      },
      "source": [
        "***"
      ]
    },
    {
      "cell_type": "markdown",
      "id": "8ff2e95a",
      "metadata": {},
      "source": [
        "Дополнительное исследование\n",
        "7. Количество вакансий для DS."
      ]
    },
    {
      "cell_type": "code",
      "execution_count": 51,
      "id": "596fa591",
      "metadata": {},
      "outputs": [
        {
          "data": {
            "text/html": [
              "<div>\n",
              "<style scoped>\n",
              "    .dataframe tbody tr th:only-of-type {\n",
              "        vertical-align: middle;\n",
              "    }\n",
              "\n",
              "    .dataframe tbody tr th {\n",
              "        vertical-align: top;\n",
              "    }\n",
              "\n",
              "    .dataframe thead th {\n",
              "        text-align: right;\n",
              "    }\n",
              "</style>\n",
              "<table border=\"1\" class=\"dataframe\">\n",
              "  <thead>\n",
              "    <tr style=\"text-align: right;\">\n",
              "      <th></th>\n",
              "      <th>count</th>\n",
              "    </tr>\n",
              "  </thead>\n",
              "  <tbody>\n",
              "    <tr>\n",
              "      <th>0</th>\n",
              "      <td>480</td>\n",
              "    </tr>\n",
              "  </tbody>\n",
              "</table>\n",
              "</div>"
            ],
            "text/plain": [
              "   count\n",
              "0    480"
            ]
          },
          "execution_count": 51,
          "metadata": {},
          "output_type": "execute_result"
        }
      ],
      "source": [
        "# текст запроса\n",
        "query_6_7 = f'''SELECT\n",
        "                      COUNT(id)\n",
        "                FROM vacancies\n",
        "                WHERE (name ~* 'data scien(tist|ce)|исследователь данных|machine learning|машинн.*обучен.*'\n",
        "                      OR name ~ 'ML')\n",
        "                      AND name !~* 'HTML'\n",
        "'''\n",
        "\n",
        "# результат запроса\n",
        "df = pd.read_sql_query(query_6_7, connection)\n",
        "df"
      ]
    },
    {
      "cell_type": "markdown",
      "id": "b6c7b09a",
      "metadata": {},
      "source": [
        "### выводы по предметному анализу\n",
        "Связанными с данными имеют 1771 вакансий, что составляет 3,6% от всех вакансий.\n",
        "\n",
        "Из 480 вакансий для дата-сайентиста начинающим подходит 51 вакансия(~10,6% от всех вакансий для DS). Цифра получилась небольшая, видимо работодатели в основном ищут работников с опытом.\n",
        "\n",
        "В среднем в вакансиях для DS указывают 6 ключевых навыков, из них в 351 работодатели указали Python в качестве ключевого навыка, а в 201 указан SQL или postgres. Так как Python указан в 73% вакансий из этого можно сделать вывод что данный навык наиболее востребован.\n",
        "\n",
        "Для начинающего дата-сайентиста работодатели в среднем предлагают заработную плату в размере 74643 рублей, для дата-сайентиста с опытом от 1 года до 3 лет средняя заработная плата уже выше на 87% и составляет 139675. На наибольшую заработную плату может претендовать кандидат с опытом работы от 3 до 6 лет - 243115 рублей, что на 74% выше, чем у кандидата с опытом от 1 года до 3 лет, и на 225% выше чем у начинающего дата-сайентиста. Наши данные не совсем точны из-за отсутствия данных по заработной плате для дата-сайентистов с опытом работы более 6 лет, на основании данных по предыдущим трем категориям можно предположить что их средняя заработная плата будет наиболее высокой, но работодатели по каким-либо причинам не указали ее ни в одной из вакансий."
      ]
    },
    {
      "cell_type": "markdown",
      "id": "909dc7f6",
      "metadata": {},
      "source": [
        "***"
      ]
    },
    {
      "cell_type": "markdown",
      "id": "f8852e08",
      "metadata": {},
      "source": [
        "### Дополнительные исследования"
      ]
    },
    {
      "cell_type": "markdown",
      "id": "c8248f38",
      "metadata": {},
      "source": [
        "1. Распределение количества вакансий для DS в зависимости от региона вакансии и опыта работы."
      ]
    },
    {
      "cell_type": "code",
      "execution_count": 52,
      "id": "47d53020",
      "metadata": {},
      "outputs": [],
      "source": [
        "# текст запроса\n",
        "query_7_1 = f'''SELECT\n",
        "                      t.area,\n",
        "                      v.experience,\n",
        "                      COUNT(v.id)\n",
        "                FROM (SELECT\n",
        "                            a.id,\n",
        "                            a.name area\n",
        "                        FROM public.areas a\n",
        "                        JOIN public.vacancies v on a.id = v.area_id\n",
        "                        WHERE (v.name ~* 'data scien(tist|ce)|исследователь данных|machine learning|машинн.*обучен.*'\n",
        "                              OR v.name ~ 'ML')\n",
        "                              AND v.name !~* 'HTML'\n",
        "                        GROUP BY a.id\n",
        "                        ORDER BY COUNT(v.id) DESC\n",
        "                        LIMIT 5) As t\n",
        "                JOIN public.vacancies v on t.id = v.area_id\n",
        "                WHERE (v.name ~* 'data scien(tist|ce)|исследователь данных|machine learning|машинн.*обучен.*'\n",
        "                      OR v.name ~ 'ML')\n",
        "                      AND v.name !~* 'HTML'\n",
        "                GROUP BY  t.area, v.experience\n",
        "                \n",
        "                UNION ALL\n",
        "                \n",
        "                SELECT\n",
        "                      'Other',\n",
        "                      v.experience,\n",
        "                      COUNT(v.id)\n",
        "                FROM (SELECT\n",
        "                            a.id,\n",
        "                            a.name area\n",
        "                        FROM public.areas a\n",
        "                        JOIN public.vacancies v on a.id = v.area_id\n",
        "                        WHERE (v.name ~* 'data scien(tist|ce)|исследователь данных|machine learning|машинн.*обучен.*'\n",
        "                              OR v.name ~ 'ML')\n",
        "                              AND v.name !~* 'HTML'\n",
        "                        GROUP BY a.id\n",
        "                        ORDER BY COUNT(v.id) DESC\n",
        "                        OFFSET 5) As t\n",
        "                JOIN public.vacancies v on t.id = v.area_id\n",
        "                WHERE (v.name ~* 'data scien(tist|ce)|исследователь данных|machine learning|машинн.*обучен.*'\n",
        "                      OR v.name ~ 'ML')\n",
        "                      AND v.name !~* 'HTML'\n",
        "                GROUP BY v.experience\n",
        "'''"
      ]
    },
    {
      "cell_type": "code",
      "execution_count": 53,
      "id": "678b0651",
      "metadata": {},
      "outputs": [
        {
          "data": {
            "text/html": [
              "<div>\n",
              "<style scoped>\n",
              "    .dataframe tbody tr th:only-of-type {\n",
              "        vertical-align: middle;\n",
              "    }\n",
              "\n",
              "    .dataframe tbody tr th {\n",
              "        vertical-align: top;\n",
              "    }\n",
              "\n",
              "    .dataframe thead th {\n",
              "        text-align: right;\n",
              "    }\n",
              "</style>\n",
              "<table border=\"1\" class=\"dataframe\">\n",
              "  <thead>\n",
              "    <tr style=\"text-align: right;\">\n",
              "      <th></th>\n",
              "      <th>area</th>\n",
              "      <th>experience</th>\n",
              "      <th>count</th>\n",
              "    </tr>\n",
              "  </thead>\n",
              "  <tbody>\n",
              "    <tr>\n",
              "      <th>0</th>\n",
              "      <td>Казань</td>\n",
              "      <td>Более 6 лет</td>\n",
              "      <td>1</td>\n",
              "    </tr>\n",
              "    <tr>\n",
              "      <th>1</th>\n",
              "      <td>Казань</td>\n",
              "      <td>Нет опыта</td>\n",
              "      <td>1</td>\n",
              "    </tr>\n",
              "    <tr>\n",
              "      <th>2</th>\n",
              "      <td>Казань</td>\n",
              "      <td>От 1 года до 3 лет</td>\n",
              "      <td>9</td>\n",
              "    </tr>\n",
              "    <tr>\n",
              "      <th>3</th>\n",
              "      <td>Казань</td>\n",
              "      <td>От 3 до 6 лет</td>\n",
              "      <td>5</td>\n",
              "    </tr>\n",
              "    <tr>\n",
              "      <th>4</th>\n",
              "      <td>Москва</td>\n",
              "      <td>Более 6 лет</td>\n",
              "      <td>8</td>\n",
              "    </tr>\n",
              "    <tr>\n",
              "      <th>5</th>\n",
              "      <td>Москва</td>\n",
              "      <td>Нет опыта</td>\n",
              "      <td>10</td>\n",
              "    </tr>\n",
              "    <tr>\n",
              "      <th>6</th>\n",
              "      <td>Москва</td>\n",
              "      <td>От 1 года до 3 лет</td>\n",
              "      <td>107</td>\n",
              "    </tr>\n",
              "    <tr>\n",
              "      <th>7</th>\n",
              "      <td>Москва</td>\n",
              "      <td>От 3 до 6 лет</td>\n",
              "      <td>92</td>\n",
              "    </tr>\n",
              "    <tr>\n",
              "      <th>8</th>\n",
              "      <td>Нижний Новгород</td>\n",
              "      <td>От 1 года до 3 лет</td>\n",
              "      <td>10</td>\n",
              "    </tr>\n",
              "    <tr>\n",
              "      <th>9</th>\n",
              "      <td>Нижний Новгород</td>\n",
              "      <td>От 3 до 6 лет</td>\n",
              "      <td>10</td>\n",
              "    </tr>\n",
              "    <tr>\n",
              "      <th>10</th>\n",
              "      <td>Новосибирск</td>\n",
              "      <td>Более 6 лет</td>\n",
              "      <td>1</td>\n",
              "    </tr>\n",
              "    <tr>\n",
              "      <th>11</th>\n",
              "      <td>Новосибирск</td>\n",
              "      <td>Нет опыта</td>\n",
              "      <td>3</td>\n",
              "    </tr>\n",
              "    <tr>\n",
              "      <th>12</th>\n",
              "      <td>Новосибирск</td>\n",
              "      <td>От 1 года до 3 лет</td>\n",
              "      <td>11</td>\n",
              "    </tr>\n",
              "    <tr>\n",
              "      <th>13</th>\n",
              "      <td>Новосибирск</td>\n",
              "      <td>От 3 до 6 лет</td>\n",
              "      <td>8</td>\n",
              "    </tr>\n",
              "    <tr>\n",
              "      <th>14</th>\n",
              "      <td>Санкт-Петербург</td>\n",
              "      <td>Более 6 лет</td>\n",
              "      <td>3</td>\n",
              "    </tr>\n",
              "    <tr>\n",
              "      <th>15</th>\n",
              "      <td>Санкт-Петербург</td>\n",
              "      <td>Нет опыта</td>\n",
              "      <td>6</td>\n",
              "    </tr>\n",
              "    <tr>\n",
              "      <th>16</th>\n",
              "      <td>Санкт-Петербург</td>\n",
              "      <td>От 1 года до 3 лет</td>\n",
              "      <td>33</td>\n",
              "    </tr>\n",
              "    <tr>\n",
              "      <th>17</th>\n",
              "      <td>Санкт-Петербург</td>\n",
              "      <td>От 3 до 6 лет</td>\n",
              "      <td>22</td>\n",
              "    </tr>\n",
              "    <tr>\n",
              "      <th>18</th>\n",
              "      <td>Other</td>\n",
              "      <td>Более 6 лет</td>\n",
              "      <td>21</td>\n",
              "    </tr>\n",
              "    <tr>\n",
              "      <th>19</th>\n",
              "      <td>Other</td>\n",
              "      <td>Нет опыта</td>\n",
              "      <td>8</td>\n",
              "    </tr>\n",
              "    <tr>\n",
              "      <th>20</th>\n",
              "      <td>Other</td>\n",
              "      <td>От 1 года до 3 лет</td>\n",
              "      <td>53</td>\n",
              "    </tr>\n",
              "    <tr>\n",
              "      <th>21</th>\n",
              "      <td>Other</td>\n",
              "      <td>От 3 до 6 лет</td>\n",
              "      <td>58</td>\n",
              "    </tr>\n",
              "  </tbody>\n",
              "</table>\n",
              "</div>"
            ],
            "text/plain": [
              "               area          experience  count\n",
              "0            Казань         Более 6 лет      1\n",
              "1            Казань           Нет опыта      1\n",
              "2            Казань  От 1 года до 3 лет      9\n",
              "3            Казань       От 3 до 6 лет      5\n",
              "4            Москва         Более 6 лет      8\n",
              "5            Москва           Нет опыта     10\n",
              "6            Москва  От 1 года до 3 лет    107\n",
              "7            Москва       От 3 до 6 лет     92\n",
              "8   Нижний Новгород  От 1 года до 3 лет     10\n",
              "9   Нижний Новгород       От 3 до 6 лет     10\n",
              "10      Новосибирск         Более 6 лет      1\n",
              "11      Новосибирск           Нет опыта      3\n",
              "12      Новосибирск  От 1 года до 3 лет     11\n",
              "13      Новосибирск       От 3 до 6 лет      8\n",
              "14  Санкт-Петербург         Более 6 лет      3\n",
              "15  Санкт-Петербург           Нет опыта      6\n",
              "16  Санкт-Петербург  От 1 года до 3 лет     33\n",
              "17  Санкт-Петербург       От 3 до 6 лет     22\n",
              "18            Other         Более 6 лет     21\n",
              "19            Other           Нет опыта      8\n",
              "20            Other  От 1 года до 3 лет     53\n",
              "21            Other       От 3 до 6 лет     58"
            ]
          },
          "execution_count": 53,
          "metadata": {},
          "output_type": "execute_result"
        }
      ],
      "source": [
        "# результат запроса\n",
        "df_7_1 = pd.read_sql_query(query_7_1, connection)\n",
        "df_7_1"
      ]
    },
    {
      "cell_type": "code",
      "execution_count": 54,
      "id": "bb11098d",
      "metadata": {},
      "outputs": [
        {
          "data": {
            "image/png": "[encoded data removed]"
          },
          "metadata": {},
          "output_type": "display_data"
        }
      ],
      "source": [
        "#строим график\n",
        "fig = px.bar(\n",
        "    df_7_1, #табличные данные\n",
        "    x='area', #ось абсцисс\n",
        "    y='count', #ось ординат\n",
        "    height=500, #высота\n",
        "    width=800, #ширина\n",
        "    text_auto=True, #выводим надписи\n",
        "    barmode='group', #режим диаграммы\n",
        "    color='experience', #выделение цветом\n",
        "    title='Количество вакансий для DS в зависимости от региона и опыта работы', #заголовок\n",
        "    labels={'count':'Количество вакансий', 'area':'Регион', 'experience':'Опыт'} #название осей абсцисс и ординат\n",
        ")\n",
        "\n",
        "#форматирование\n",
        "fig.update_layout(\n",
        "    margin=dict(l=20, r=20, t=60, b=20),\n",
        "    paper_bgcolor='LightSteelBlue'\n",
        ")\n",
        "\n",
        "#отображаем график\n",
        "fig.show(\"png\")"
      ]
    },
    {
      "cell_type": "markdown",
      "id": "707d30ee",
      "metadata": {},
      "source": [
        "***"
      ]
    },
    {
      "cell_type": "markdown",
      "id": "ba25d368",
      "metadata": {},
      "source": [
        "2. Какую зарплату для DS в указывают работодатели в зависимости от количества ключевых навыков и опыта работы. Данные берутся только из вакансий с хотя бы одной указанной заработной платой."
      ]
    },
    {
      "cell_type": "code",
      "execution_count": 55,
      "id": "f49ba54c",
      "metadata": {},
      "outputs": [],
      "source": [
        "# текст запроса\n",
        "query_7_2 = f'''SELECT\n",
        "                      id,\n",
        "                      length(key_skills) - length(replace(key_skills, CHR(9), '')) +1 key_skills,\n",
        "                      experience,\n",
        "                      COALESCE(((salary_from + salary_to)/2), salary_from, salary_to) salary\n",
        "                FROM public.vacancies\n",
        "                WHERE (name ~* 'data scien(tist|ce)|исследователь данных|machine learning|машинн.*обучен.*'\n",
        "                      OR name ~ 'ML')\n",
        "                      AND name !~* 'HTML'\n",
        "                      AND (salary_from IS NOT NULL OR salary_to IS NOT NULL)\n",
        "'''"
      ]
    },
    {
      "cell_type": "code",
      "execution_count": 56,
      "id": "38cc35fe",
      "metadata": {},
      "outputs": [
        {
          "data": {
            "text/html": [
              "<div>\n",
              "<style scoped>\n",
              "    .dataframe tbody tr th:only-of-type {\n",
              "        vertical-align: middle;\n",
              "    }\n",
              "\n",
              "    .dataframe tbody tr th {\n",
              "        vertical-align: top;\n",
              "    }\n",
              "\n",
              "    .dataframe thead th {\n",
              "        text-align: right;\n",
              "    }\n",
              "</style>\n",
              "<table border=\"1\" class=\"dataframe\">\n",
              "  <thead>\n",
              "    <tr style=\"text-align: right;\">\n",
              "      <th></th>\n",
              "      <th>id</th>\n",
              "      <th>key_skills</th>\n",
              "      <th>experience</th>\n",
              "      <th>salary</th>\n",
              "    </tr>\n",
              "  </thead>\n",
              "  <tbody>\n",
              "    <tr>\n",
              "      <th>0</th>\n",
              "      <td>54825318</td>\n",
              "      <td>8.0</td>\n",
              "      <td>От 1 года до 3 лет</td>\n",
              "      <td>60000</td>\n",
              "    </tr>\n",
              "    <tr>\n",
              "      <th>1</th>\n",
              "      <td>55166994</td>\n",
              "      <td>5.0</td>\n",
              "      <td>От 1 года до 3 лет</td>\n",
              "      <td>75000</td>\n",
              "    </tr>\n",
              "    <tr>\n",
              "      <th>2</th>\n",
              "      <td>52995746</td>\n",
              "      <td>3.0</td>\n",
              "      <td>От 1 года до 3 лет</td>\n",
              "      <td>60000</td>\n",
              "    </tr>\n",
              "    <tr>\n",
              "      <th>3</th>\n",
              "      <td>55553897</td>\n",
              "      <td>11.0</td>\n",
              "      <td>Нет опыта</td>\n",
              "      <td>37000</td>\n",
              "    </tr>\n",
              "    <tr>\n",
              "      <th>4</th>\n",
              "      <td>55145641</td>\n",
              "      <td>10.0</td>\n",
              "      <td>Нет опыта</td>\n",
              "      <td>50000</td>\n",
              "    </tr>\n",
              "    <tr>\n",
              "      <th>...</th>\n",
              "      <td>...</td>\n",
              "      <td>...</td>\n",
              "      <td>...</td>\n",
              "      <td>...</td>\n",
              "    </tr>\n",
              "    <tr>\n",
              "      <th>57</th>\n",
              "      <td>55236081</td>\n",
              "      <td>11.0</td>\n",
              "      <td>От 1 года до 3 лет</td>\n",
              "      <td>100000</td>\n",
              "    </tr>\n",
              "    <tr>\n",
              "      <th>58</th>\n",
              "      <td>55047447</td>\n",
              "      <td>5.0</td>\n",
              "      <td>От 3 до 6 лет</td>\n",
              "      <td>292242</td>\n",
              "    </tr>\n",
              "    <tr>\n",
              "      <th>59</th>\n",
              "      <td>55534594</td>\n",
              "      <td>10.0</td>\n",
              "      <td>От 1 года до 3 лет</td>\n",
              "      <td>175000</td>\n",
              "    </tr>\n",
              "    <tr>\n",
              "      <th>60</th>\n",
              "      <td>55306481</td>\n",
              "      <td>7.0</td>\n",
              "      <td>От 1 года до 3 лет</td>\n",
              "      <td>143500</td>\n",
              "    </tr>\n",
              "    <tr>\n",
              "      <th>61</th>\n",
              "      <td>54918116</td>\n",
              "      <td>9.0</td>\n",
              "      <td>От 3 до 6 лет</td>\n",
              "      <td>67126</td>\n",
              "    </tr>\n",
              "  </tbody>\n",
              "</table>\n",
              "<p>62 rows × 4 columns</p>\n",
              "</div>"
            ],
            "text/plain": [
              "          id  key_skills          experience  salary\n",
              "0   54825318         8.0  От 1 года до 3 лет   60000\n",
              "1   55166994         5.0  От 1 года до 3 лет   75000\n",
              "2   52995746         3.0  От 1 года до 3 лет   60000\n",
              "3   55553897        11.0           Нет опыта   37000\n",
              "4   55145641        10.0           Нет опыта   50000\n",
              "..       ...         ...                 ...     ...\n",
              "57  55236081        11.0  От 1 года до 3 лет  100000\n",
              "58  55047447         5.0       От 3 до 6 лет  292242\n",
              "59  55534594        10.0  От 1 года до 3 лет  175000\n",
              "60  55306481         7.0  От 1 года до 3 лет  143500\n",
              "61  54918116         9.0       От 3 до 6 лет   67126\n",
              "\n",
              "[62 rows x 4 columns]"
            ]
          },
          "execution_count": 56,
          "metadata": {},
          "output_type": "execute_result"
        }
      ],
      "source": [
        "# результат запроса\n",
        "df_7_2 = pd.read_sql_query(query_7_2, connection)\n",
        "df_7_2"
      ]
    },
    {
      "cell_type": "code",
      "execution_count": 57,
      "id": "19cbbacd",
      "metadata": {},
      "outputs": [
        {
          "data": {
            "image/png": "[encoded data removed]"
          },
          "metadata": {},
          "output_type": "display_data"
        }
      ],
      "source": [
        "#группируем данные\n",
        "pivot = df_7_2.pivot_table(\n",
        "    values='salary', #значения\n",
        "    index='experience', #строки\n",
        "    columns='key_skills', #столбцы\n",
        "    aggfunc='median' #применяемая функция\n",
        ")\n",
        "\n",
        "#строим график\n",
        "fig = px.imshow(\n",
        "    pivot, #табличные данные\n",
        "    height=500, #высота\n",
        "    width=800, #ширина\n",
        "    title='Медианная з/п для DS в зависимости от опыта работы и кол-ва ключевых навыков', #заголовок\n",
        ")\n",
        "\n",
        "#форматирование\n",
        "fig.update_layout(\n",
        "    margin=dict(l=20, r=20, t=60, b=20),\n",
        "    paper_bgcolor='LightSteelBlue',\n",
        ")\n",
        "\n",
        "#отображаем график\n",
        "fig.show(\"png\")"
      ]
    },
    {
      "cell_type": "markdown",
      "id": "58fe5177",
      "metadata": {},
      "source": [
        "***"
      ]
    },
    {
      "cell_type": "markdown",
      "id": "e45d6970",
      "metadata": {},
      "source": [
        "3. Распределение вакансий по регионам и типам рабочего графика."
      ]
    },
    {
      "cell_type": "code",
      "execution_count": 58,
      "id": "107d3385",
      "metadata": {},
      "outputs": [],
      "source": [
        "# текст запроса\n",
        "query_7_3 = f'''SELECT\n",
        "                      t.area,\n",
        "                      v.schedule,\n",
        "                      COUNT(v.id) cnt\n",
        "                FROM (SELECT\n",
        "                            a.name area,\n",
        "                            a.id\n",
        "                        FROM public.areas a\n",
        "                        JOIN public.vacancies v on a.id = v.area_id\n",
        "                        WHERE (v.name ~* 'data scien(tist|ce)|исследователь данных|machine learning|машинн.*обучен.*'\n",
        "                              OR v.name ~ 'ML')\n",
        "                              AND v.name !~* 'HTML'\n",
        "                        GROUP BY a.id\n",
        "                        ORDER BY COUNT(v.id) DESC\n",
        "                        LIMIT 5) AS t\n",
        "                JOIN public.vacancies v on t.id = v.area_id\n",
        "                WHERE (v.name ~* 'data scien(tist|ce)|исследователь данных|machine learning|машинн.*обучен.*'\n",
        "                      OR v.name ~ 'ML')\n",
        "                      AND v.name !~* 'HTML'\n",
        "                GROUP BY  t.area, v.schedule\n",
        "                \n",
        "                UNION ALL\n",
        "                \n",
        "                SELECT\n",
        "                      'Other',\n",
        "                      v.schedule,\n",
        "                      COUNT(v.id) cnt\n",
        "                FROM (SELECT\n",
        "                            a.name,\n",
        "                            a.id\n",
        "                        FROM public.areas a\n",
        "                        JOIN public.vacancies v on a.id = v.area_id\n",
        "                        WHERE (v.name ~* 'data scien(tist|ce)|исследователь данных|machine learning|машинн.*обучен.*'\n",
        "                            OR v.name ~ 'ML')\n",
        "                            AND v.name !~* 'HTML'\n",
        "                        GROUP BY a.id\n",
        "                        ORDER BY COUNT(v.id) DESC\n",
        "                        OFFSET 5) AS t\n",
        "                JOIN public.vacancies v on t.id = v.area_id\n",
        "                WHERE (v.name ~* 'data scien(tist|ce)|исследователь данных|machine learning|машинн.*обучен.*'\n",
        "                      OR v.name ~ 'ML')\n",
        "                      AND v.name !~* 'HTML'\n",
        "                GROUP BY  v.schedule\n",
        "'''"
      ]
    },
    {
      "cell_type": "code",
      "execution_count": 59,
      "id": "d758a982",
      "metadata": {},
      "outputs": [
        {
          "data": {
            "text/html": [
              "<div>\n",
              "<style scoped>\n",
              "    .dataframe tbody tr th:only-of-type {\n",
              "        vertical-align: middle;\n",
              "    }\n",
              "\n",
              "    .dataframe tbody tr th {\n",
              "        vertical-align: top;\n",
              "    }\n",
              "\n",
              "    .dataframe thead th {\n",
              "        text-align: right;\n",
              "    }\n",
              "</style>\n",
              "<table border=\"1\" class=\"dataframe\">\n",
              "  <thead>\n",
              "    <tr style=\"text-align: right;\">\n",
              "      <th></th>\n",
              "      <th>area</th>\n",
              "      <th>schedule</th>\n",
              "      <th>cnt</th>\n",
              "    </tr>\n",
              "  </thead>\n",
              "  <tbody>\n",
              "    <tr>\n",
              "      <th>0</th>\n",
              "      <td>Казань</td>\n",
              "      <td>Гибкий график</td>\n",
              "      <td>1</td>\n",
              "    </tr>\n",
              "    <tr>\n",
              "      <th>1</th>\n",
              "      <td>Казань</td>\n",
              "      <td>Полный день</td>\n",
              "      <td>10</td>\n",
              "    </tr>\n",
              "    <tr>\n",
              "      <th>2</th>\n",
              "      <td>Казань</td>\n",
              "      <td>Удаленная работа</td>\n",
              "      <td>5</td>\n",
              "    </tr>\n",
              "    <tr>\n",
              "      <th>3</th>\n",
              "      <td>Москва</td>\n",
              "      <td>Гибкий график</td>\n",
              "      <td>11</td>\n",
              "    </tr>\n",
              "    <tr>\n",
              "      <th>4</th>\n",
              "      <td>Москва</td>\n",
              "      <td>Полный день</td>\n",
              "      <td>161</td>\n",
              "    </tr>\n",
              "    <tr>\n",
              "      <th>5</th>\n",
              "      <td>Москва</td>\n",
              "      <td>Удаленная работа</td>\n",
              "      <td>45</td>\n",
              "    </tr>\n",
              "    <tr>\n",
              "      <th>6</th>\n",
              "      <td>Нижний Новгород</td>\n",
              "      <td>Гибкий график</td>\n",
              "      <td>3</td>\n",
              "    </tr>\n",
              "    <tr>\n",
              "      <th>7</th>\n",
              "      <td>Нижний Новгород</td>\n",
              "      <td>Полный день</td>\n",
              "      <td>14</td>\n",
              "    </tr>\n",
              "    <tr>\n",
              "      <th>8</th>\n",
              "      <td>Нижний Новгород</td>\n",
              "      <td>Удаленная работа</td>\n",
              "      <td>3</td>\n",
              "    </tr>\n",
              "    <tr>\n",
              "      <th>9</th>\n",
              "      <td>Новосибирск</td>\n",
              "      <td>Гибкий график</td>\n",
              "      <td>5</td>\n",
              "    </tr>\n",
              "    <tr>\n",
              "      <th>10</th>\n",
              "      <td>Новосибирск</td>\n",
              "      <td>Полный день</td>\n",
              "      <td>13</td>\n",
              "    </tr>\n",
              "    <tr>\n",
              "      <th>11</th>\n",
              "      <td>Новосибирск</td>\n",
              "      <td>Удаленная работа</td>\n",
              "      <td>5</td>\n",
              "    </tr>\n",
              "    <tr>\n",
              "      <th>12</th>\n",
              "      <td>Санкт-Петербург</td>\n",
              "      <td>Гибкий график</td>\n",
              "      <td>8</td>\n",
              "    </tr>\n",
              "    <tr>\n",
              "      <th>13</th>\n",
              "      <td>Санкт-Петербург</td>\n",
              "      <td>Полный день</td>\n",
              "      <td>45</td>\n",
              "    </tr>\n",
              "    <tr>\n",
              "      <th>14</th>\n",
              "      <td>Санкт-Петербург</td>\n",
              "      <td>Удаленная работа</td>\n",
              "      <td>11</td>\n",
              "    </tr>\n",
              "    <tr>\n",
              "      <th>15</th>\n",
              "      <td>Other</td>\n",
              "      <td>Гибкий график</td>\n",
              "      <td>15</td>\n",
              "    </tr>\n",
              "    <tr>\n",
              "      <th>16</th>\n",
              "      <td>Other</td>\n",
              "      <td>Полный день</td>\n",
              "      <td>79</td>\n",
              "    </tr>\n",
              "    <tr>\n",
              "      <th>17</th>\n",
              "      <td>Other</td>\n",
              "      <td>Удаленная работа</td>\n",
              "      <td>46</td>\n",
              "    </tr>\n",
              "  </tbody>\n",
              "</table>\n",
              "</div>"
            ],
            "text/plain": [
              "               area          schedule  cnt\n",
              "0            Казань     Гибкий график    1\n",
              "1            Казань       Полный день   10\n",
              "2            Казань  Удаленная работа    5\n",
              "3            Москва     Гибкий график   11\n",
              "4            Москва       Полный день  161\n",
              "5            Москва  Удаленная работа   45\n",
              "6   Нижний Новгород     Гибкий график    3\n",
              "7   Нижний Новгород       Полный день   14\n",
              "8   Нижний Новгород  Удаленная работа    3\n",
              "9       Новосибирск     Гибкий график    5\n",
              "10      Новосибирск       Полный день   13\n",
              "11      Новосибирск  Удаленная работа    5\n",
              "12  Санкт-Петербург     Гибкий график    8\n",
              "13  Санкт-Петербург       Полный день   45\n",
              "14  Санкт-Петербург  Удаленная работа   11\n",
              "15            Other     Гибкий график   15\n",
              "16            Other       Полный день   79\n",
              "17            Other  Удаленная работа   46"
            ]
          },
          "execution_count": 59,
          "metadata": {},
          "output_type": "execute_result"
        }
      ],
      "source": [
        "# результат запроса\n",
        "df_7_3 = pd.read_sql_query(query_7_3, connection)\n",
        "df_7_3"
      ]
    },
    {
      "cell_type": "code",
      "execution_count": 60,
      "metadata": {},
      "outputs": [
        {
          "data": {
            "image/png": "[encoded data removed]"
          },
          "metadata": {},
          "output_type": "display_data"
        }
      ],
      "source": [
        "#строим график\n",
        "fig = px.bar(\n",
        "    df_7_3, #табличные данные\n",
        "    x='area', #ось абсцисс\n",
        "    y='cnt', #ось ординат\n",
        "    height=600, #высота\n",
        "    width=900, #ширина\n",
        "    text_auto=True, #выводим надписи\n",
        "    barmode='group', #режим диаграммы\n",
        "    color='schedule', #выделение цветом\n",
        "    title='Распределение вакансий по регионам и типам рабочего графика', #заголовок\n",
        "    labels={'cnt':'Количество вакансий', 'area':'Регион', 'schedule':'Тип рабочего графика'} #название осей абсцисс и ординат\n",
        ")\n",
        "\n",
        "#форматирование\n",
        "fig.update_layout(\n",
        "    margin=dict(l=20, r=20, t=60, b=20),\n",
        "    paper_bgcolor='LightSteelBlue'\n",
        ")\n",
        "\n",
        "#отображаем график\n",
        "fig.show(\"png\")"
      ]
    },
    {
      "cell_type": "markdown",
      "id": "c072d0aa",
      "metadata": {},
      "source": [
        "***"
      ]
    },
    {
      "cell_type": "markdown",
      "id": "b70cd218",
      "metadata": {},
      "source": [
        "5. Количество вакансий для DS в разрезе сфер деятельности. Первые 10 сфер деятельности с наибольшим количеством вакансий."
      ]
    },
    {
      "cell_type": "code",
      "execution_count": 61,
      "id": "45d915e2",
      "metadata": {},
      "outputs": [],
      "source": [
        "# текст запроса\n",
        "query_7_4 = f'''SELECT\n",
        "                      i.name,\n",
        "                      COUNT(v.id)\n",
        "                FROM public.vacancies v\n",
        "                JOIN public.employers_industries ei on v.employer_id = ei.employer_id\n",
        "                JOIN public.industries i on ei.industry_id = i.id\n",
        "                WHERE (v.name ~* 'data scien(tist|ce)|исследователь данных|machine learning|машинн.*обучен.*'\n",
        "                      OR v.name ~ 'ML')\n",
        "                      AND v.name !~* 'HTML'\n",
        "                GROUP BY i.id\n",
        "                ORDER BY 2 DESC\n",
        "                LIMIT 10\n",
        "'''"
      ]
    },
    {
      "cell_type": "code",
      "execution_count": 62,
      "id": "b04eefd5",
      "metadata": {},
      "outputs": [
        {
          "data": {
            "text/html": [
              "<div>\n",
              "<style scoped>\n",
              "    .dataframe tbody tr th:only-of-type {\n",
              "        vertical-align: middle;\n",
              "    }\n",
              "\n",
              "    .dataframe tbody tr th {\n",
              "        vertical-align: top;\n",
              "    }\n",
              "\n",
              "    .dataframe thead th {\n",
              "        text-align: right;\n",
              "    }\n",
              "</style>\n",
              "<table border=\"1\" class=\"dataframe\">\n",
              "  <thead>\n",
              "    <tr style=\"text-align: right;\">\n",
              "      <th></th>\n",
              "      <th>name</th>\n",
              "      <th>count</th>\n",
              "    </tr>\n",
              "  </thead>\n",
              "  <tbody>\n",
              "    <tr>\n",
              "      <th>0</th>\n",
              "      <td>Разработка программного обеспечения</td>\n",
              "      <td>148</td>\n",
              "    </tr>\n",
              "    <tr>\n",
              "      <th>1</th>\n",
              "      <td>Системная интеграция,  автоматизации технологи...</td>\n",
              "      <td>139</td>\n",
              "    </tr>\n",
              "    <tr>\n",
              "      <th>2</th>\n",
              "      <td>Банк</td>\n",
              "      <td>92</td>\n",
              "    </tr>\n",
              "    <tr>\n",
              "      <th>3</th>\n",
              "      <td>Интернет-компания (поисковики, платежные систе...</td>\n",
              "      <td>79</td>\n",
              "    </tr>\n",
              "    <tr>\n",
              "      <th>4</th>\n",
              "      <td>Мобильная связь</td>\n",
              "      <td>23</td>\n",
              "    </tr>\n",
              "    <tr>\n",
              "      <th>5</th>\n",
              "      <td>Маркетинговые, рекламные, BTL, дизайнерские, E...</td>\n",
              "      <td>22</td>\n",
              "    </tr>\n",
              "    <tr>\n",
              "      <th>6</th>\n",
              "      <td>Управляющая, инвестиционная компания (управлен...</td>\n",
              "      <td>21</td>\n",
              "    </tr>\n",
              "    <tr>\n",
              "      <th>7</th>\n",
              "      <td>Консалтинговые услуги</td>\n",
              "      <td>16</td>\n",
              "    </tr>\n",
              "    <tr>\n",
              "      <th>8</th>\n",
              "      <td>Фиксированная связь</td>\n",
              "      <td>13</td>\n",
              "    </tr>\n",
              "    <tr>\n",
              "      <th>9</th>\n",
              "      <td>Научно-исследовательская, научная, академическ...</td>\n",
              "      <td>9</td>\n",
              "    </tr>\n",
              "  </tbody>\n",
              "</table>\n",
              "</div>"
            ],
            "text/plain": [
              "                                                name  count\n",
              "0                Разработка программного обеспечения    148\n",
              "1  Системная интеграция,  автоматизации технологи...    139\n",
              "2                                               Банк     92\n",
              "3  Интернет-компания (поисковики, платежные систе...     79\n",
              "4                                    Мобильная связь     23\n",
              "5  Маркетинговые, рекламные, BTL, дизайнерские, E...     22\n",
              "6  Управляющая, инвестиционная компания (управлен...     21\n",
              "7                              Консалтинговые услуги     16\n",
              "8                                Фиксированная связь     13\n",
              "9  Научно-исследовательская, научная, академическ...      9"
            ]
          },
          "execution_count": 62,
          "metadata": {},
          "output_type": "execute_result"
        }
      ],
      "source": [
        "# результат запроса\n",
        "df_7_4 = pd.read_sql_query(query_7_4, connection)\n",
        "df_7_4"
      ]
    },
    {
      "cell_type": "code",
      "execution_count": 63,
      "id": "3d56c3ed",
      "metadata": {},
      "outputs": [
        {
          "data": {
            "image/png": "[encoded data removed]"
          },
          "metadata": {},
          "output_type": "display_data"
        }
      ],
      "source": [
        "#строим график\n",
        "fig = px.bar(\n",
        "    df_7_4, #табличные данные\n",
        "    y='name', #ось абсцисс\n",
        "    x='count', #ось ординат\n",
        "    height=500, #высота\n",
        "    width=1200, #ширина\n",
        "    text_auto=True, #выводим надписи\n",
        "    title='Количество вакансий для DS в зависимости от сферы деятельности', #заголовок\n",
        "    labels={'count':'Количество вакансий', 'name':'Сфера деятельности'} #название осей абсцисс и ординат\n",
        ")\n",
        "\n",
        "#форматирование\n",
        "fig.update_layout(\n",
        "    margin=dict(l=20, r=20, t=60, b=20),\n",
        "    paper_bgcolor='LightSteelBlue'\n",
        ")\n",
        "\n",
        "#отображаем график\n",
        "fig.show(\"png\")"
      ]
    },
    {
      "cell_type": "markdown",
      "id": "96ebfd6d",
      "metadata": {},
      "source": [
        "***"
      ]
    },
    {
      "cell_type": "markdown",
      "id": "214af6ec",
      "metadata": {},
      "source": [
        "5. Количество вакансий с указанной и не указанной з/п, общее и для DS"
      ]
    },
    {
      "cell_type": "code",
      "execution_count": 64,
      "id": "a78f5380",
      "metadata": {},
      "outputs": [],
      "source": [
        "# текст запроса\n",
        "query_7_5 = f'''SELECT\n",
        "                      'DS, указана' as type,\n",
        "                      COUNT(id)\n",
        "                FROM public.vacancies\n",
        "                WHERE (name ~* 'data scien(tist|ce)|исследователь данных|machine learning|машинн.*обучен.*'\n",
        "                      OR name ~ 'ML')\n",
        "                      AND name !~* 'HTML'\n",
        "                      AND (salary_from IS NOT NULL OR salary_to IS NOT NULL)\n",
        "                      \n",
        "                UNION ALL\n",
        "                \n",
        "                SELECT\n",
        "                      'DS, не указана',\n",
        "                      COUNT(id)\n",
        "                FROM public.vacancies\n",
        "                WHERE (name ~* 'data scien(tist|ce)|исследователь данных|machine learning|машинн.*обучен.*'\n",
        "                      OR name ~ 'ML')\n",
        "                      AND name !~* 'HTML'\n",
        "                      AND (salary_from IS NULL AND salary_to IS NULL)\n",
        "                      \n",
        "                UNION ALL\n",
        "                \n",
        "                SELECT\n",
        "                      'Все вакансии, указана',\n",
        "                      COUNT(id)\n",
        "                FROM public.vacancies\n",
        "                WHERE salary_from IS NOT NULL OR salary_to IS NOT NULL\n",
        "                      \n",
        "                UNION ALL\n",
        "                \n",
        "                SELECT\n",
        "                      'Все вакансии, не указана',\n",
        "                      COUNT(id)\n",
        "                FROM public.vacancies\n",
        "                WHERE salary_from IS NULL AND salary_to IS NULL\n",
        "'''"
      ]
    },
    {
      "cell_type": "code",
      "execution_count": 65,
      "id": "df36cd05",
      "metadata": {},
      "outputs": [
        {
          "data": {
            "text/html": [
              "<div>\n",
              "<style scoped>\n",
              "    .dataframe tbody tr th:only-of-type {\n",
              "        vertical-align: middle;\n",
              "    }\n",
              "\n",
              "    .dataframe tbody tr th {\n",
              "        vertical-align: top;\n",
              "    }\n",
              "\n",
              "    .dataframe thead th {\n",
              "        text-align: right;\n",
              "    }\n",
              "</style>\n",
              "<table border=\"1\" class=\"dataframe\">\n",
              "  <thead>\n",
              "    <tr style=\"text-align: right;\">\n",
              "      <th></th>\n",
              "      <th>type</th>\n",
              "      <th>count</th>\n",
              "    </tr>\n",
              "  </thead>\n",
              "  <tbody>\n",
              "    <tr>\n",
              "      <th>0</th>\n",
              "      <td>Все вакансии, не указана</td>\n",
              "      <td>25124</td>\n",
              "    </tr>\n",
              "    <tr>\n",
              "      <th>1</th>\n",
              "      <td>Все вакансии, указана</td>\n",
              "      <td>24073</td>\n",
              "    </tr>\n",
              "    <tr>\n",
              "      <th>2</th>\n",
              "      <td>DS, указана</td>\n",
              "      <td>62</td>\n",
              "    </tr>\n",
              "    <tr>\n",
              "      <th>3</th>\n",
              "      <td>DS, не указана</td>\n",
              "      <td>418</td>\n",
              "    </tr>\n",
              "  </tbody>\n",
              "</table>\n",
              "</div>"
            ],
            "text/plain": [
              "                       type  count\n",
              "0  Все вакансии, не указана  25124\n",
              "1     Все вакансии, указана  24073\n",
              "2               DS, указана     62\n",
              "3            DS, не указана    418"
            ]
          },
          "execution_count": 65,
          "metadata": {},
          "output_type": "execute_result"
        }
      ],
      "source": [
        "# результат запроса\n",
        "df_7_5 = pd.read_sql_query(query_7_5, connection)\n",
        "df_7_5"
      ]
    },
    {
      "cell_type": "code",
      "execution_count": 66,
      "id": "0bf21356",
      "metadata": {},
      "outputs": [
        {
          "data": {
            "image/png": "[encoded data removed]"
          },
          "metadata": {},
          "output_type": "display_data"
        }
      ],
      "source": [
        "#строим график\n",
        "fig = px.bar(\n",
        "    df_7_5, #табличные данные\n",
        "    x='type', #ось абсцисс\n",
        "    y='count', #ось ординат\n",
        "    height=500, #высота\n",
        "    width=800, #ширина\n",
        "    text_auto=True, #выводим надписи\n",
        "    title='Количество вакансий с указанной и не указанной з/п, общее и для DS', #заголовок\n",
        "    labels={'count':'Количество вакансий', 'type':'Указана ли заработная плата'} #название осей абсцисс и ординат\n",
        ")\n",
        "\n",
        "#форматирование\n",
        "fig.update_layout(\n",
        "    margin=dict(l=20, r=20, t=60, b=20),\n",
        "    paper_bgcolor='LightSteelBlue'\n",
        ")\n",
        "\n",
        "#отображаем график\n",
        "fig.show(\"png\")"
      ]
    },
    {
      "cell_type": "markdown",
      "id": "97399c55",
      "metadata": {},
      "source": [
        "***"
      ]
    },
    {
      "cell_type": "markdown",
      "id": "c0ED6fh7wiBT",
      "metadata": {
        "id": "c0ED6fh7wiBT"
      },
      "source": [
        "# Общий вывод по проекту"
      ]
    },
    {
      "cell_type": "markdown",
      "id": "143f016a",
      "metadata": {},
      "source": [
        "Соотношение работодателей и вакансий приблизительно 1 к 2.\n",
        "\n",
        "Почти 10% от общего количества вакансий расположены в городе Москва, потому что Москва является основным центром деловой активности России. Далее с почти равным количеством вакансий(около 5-ти %) следуют 4 города\n",
        "* Санкт-Петербург - культурная столица России и порт на Балтийском море;\n",
        "* Минск - столица Беларуси;\n",
        "* Новосибирск - столица Сибири;\n",
        "* Алматы - бывшая столица и центр деловой активности Казахстана.\n",
        "\n",
        "Почти у половины вакансий не указана заработная плата, по всей видимости работодатели оставляют себе \"пространство для маневров\".\n",
        "Среднее значение минимальной заработной платы - 71065, что приблизительно равно средней заработной плате по России по версии Росстата за первую половину 2023 года, такое могло получиться из-за присутствия в выборке и других стран кроме России. Разница между средней минимальной и средней максимальной з/п(110537) составляет ~55%.\n",
        "Наиболее востребованным сочетанием типа рабочего графика и типа трудоустройства является 'Полный день - Полная занятость', такое сочетание встречается в 35-ти тысячах вакансий. Также для ~94 % вакансий требуется тип трудоустройства - \"Полная занятость\".\n",
        "В наибольшем количестве вакансий требуемый опыт от 1 года до 3 лет.\n",
        "\n",
        "Соискатель с опытом работы от 1 года до 3 лет, ищущий работу на полную занятость и полный день в Москве с желаемой заработной платой в интревале 71-110 тыс. рублей, имеет наибольшие шансы на трудоустройство.\n",
        "\n",
        "Связанными с данными имеют 1771 вакансий, что составляет 3,6% от всех вакансий.\n",
        "Из 536 вакансий для дата-сайентиста начинающим подходит 51 вакансия(~9,6% от всех вакансий для DS). Цифра получилась небольшая, видимо работодатели в основном ищут работников с опытом.\n",
        "В среднем в вакансиях для DS указывают 6 ключевых навыков, из них в 351 работодатели указали Python в качестве ключевого навыка, а в 201 указан SQL или postgres. Так как Python указан в 65% вакансий из этого можно сделать вывод что данный навык наиболее востребован.\n",
        "\n",
        "Для начинающего дата-сайентиста работодатели в среднем предлагают заработную плату в размере 74643 рублей, для дата-сайентиста с опытом от 1 года до 3 лет средняя заработная плата уже выше на 87% и составляет 139675. На наибольшую заработную плату может претендовать кандидат с опытом работы от 3 до 6 лет - 243115 рублей, что на 74% выше, чем у кандидата с опытом от 1 года до 3 лет, и на 225% выше чем у начинающего дата-сайентиста. Наши данные не совсем точны из-за отсутствия данных по заработной плате для дата-сайентистов с опытом работы более 6 лет, на основании данных по предыдущим трем категориям можно предположить что их средняя заработная плата будет наиболее высокой, но работодатели по каким-либо причинам не указали ее ни в одной из вакансий.\n",
        "\n",
        "Как и ожидалось наибольшее количество вакансий для дата-сайентистов в Москве, при этом требуются в основном кандидаты с опытом работы от 1 года до 6 лет. Для кандидатов без опыта или с опытом свыше 6 лет в Москве вакансий совсем немного, в Нижнем Новгороде их нет совсем. Но неожиданно много вакансий для сосикателей с опытом от 6 лет в регионах, которые не вошли в топ-5. Также в этих регионах интересные результаты по требованиям к типу рабочего графика. В большинстве вакансий требуется \"полный день\", на втором месте в большим отрывом \"удаленная работа\", а в \"Other\" разница между вакансиями \"полный лень\" и \"удаленная работа\" совсем небольшая. Могу предположить что это из-за того что вероятность найти кандидата с нужным опытом и навыками в относительно небольшом городе стремится к нулю и работодателям пришлось пойти на компромисс(компромисс потому что большинство работодателей предпочитают \"полный день\").\n",
        "\n",
        "Если посмотреть на график распределения заработной платы в зависимости от требуемого опыта работы и количества указанных ключевых навыков, то в категории \"Нет опыта\" с возрастанием количества навыков медианная заработная плата только уменьшается. Предполагаю что такое могло произойти когда работодатель не совсем понимает какой работник нужен, какие ключевые навыки необходимы и из-за этого указывает все подряд навыки связанные с дата-сайенс. Также может быть набирают сотрудников без опыта чтобы в процессе они разошлись по более узким специализациям, тогда становится понятным почему з/п низкая, а ключевых навыков много - кандидату не нужно владеть всеми указанными навыками. В свою очередь это может отпугивать кандидата. В следующих категориях опыта не прослеживается никакой связи медианной з/п с количеством ключевых навыков. И естесственно с ростом требуемого опыта уровень заработной платы растет. Разброс очень велик - от 50 тыс. рублей до 300 тыс. рублей.\n",
        "\n",
        "Причиной, по которой нет связи количества ключевых навыков с уровнем заработной платы, может быть отсутствие достаточного количества данных по з/п - если в общем количестве вакансий соотношение с указанной з/п и не указанной примерно 1 к 1, то у вакансий для дата-сайентистов в 87% она не указана.\n",
        "\n",
        "Дата-сайентисты наиболее востребованы в разработке программного обеспечения - почти 31% вакансий приходится на данную сферу деятельности."
      ]
    }
  ],
  "metadata": {
    "colab": {
      "collapsed_sections": [
        "8d62a9f3-f64e-4fe7-bdac-c4dffa16155e"
      ],
      "provenance": []
    },
    "kernelspec": {
      "display_name": "Python 3 (ipykernel)",
      "language": "python",
      "name": "python3"
    },
    "language_info": {
      "codemirror_mode": {
        "name": "ipython",
        "version": 3
      },
      "file_extension": ".py",
      "mimetype": "text/x-python",
      "name": "python",
      "nbconvert_exporter": "python",
      "pygments_lexer": "ipython3",
      "version": "3.10.11"
    }
  },
  "nbformat": 4,
  "nbformat_minor": 5
}
