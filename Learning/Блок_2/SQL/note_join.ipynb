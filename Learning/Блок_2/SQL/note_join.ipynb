{
 "cells": [
  {
   "cell_type": "markdown",
   "metadata": {},
   "source": [
    "```sql\n",
    "SELECT \n",
    "    long_name, /*столбец long_name таблицы teams*/\n",
    "    home_team_goals, /*столбец home_team_goals таблицы matches*/\n",
    "    away_team_goals /*столбец away_team_goals таблицы matches*/\n",
    "FROM\n",
    "    sql.teams, /*таблица с командами*/\n",
    "    sql.matches /*таблица с матчами*/\n",
    "WHERE home_team_api_id = api_id /*условие: home_team_api_id таблицы matches равен api_id таблицы teams*/\n",
    "```\n",
    "___"
   ]
  },
  {
   "cell_type": "markdown",
   "metadata": {},
   "source": [
    "```sql\n",
    "SELECT \n",
    "    long_name, /*столбец long_name таблицы teams*/\n",
    "    home_team_goals, /*столбец home_team_goals таблицы matches*/\n",
    "    away_team_goals /*столбец away_team_goals таблицы matches*/\n",
    "FROM    \n",
    "    sql.teams /*таблица с командами*/\n",
    "JOIN sql.matches on home_team_api_id = api_id /*оператор соединения таблиц; таблица matches; условие: home_team_api_id таблицы matches равен api_id таблицы teams*/\n",
    "```\n",
    "___"
   ]
  },
  {
   "cell_type": "markdown",
   "metadata": {},
   "source": [
    "```sql\n",
    "SELECT\n",
    "    h.long_name \"домашняя команда\",\n",
    "    m.home_team_goals \"голы домашней команды\",\n",
    "    m.away_team_goals \"голы гостевой команды\",\n",
    "    a.long_name \"гостевая команда\" \n",
    "FROM\n",
    "    sql.matches m\n",
    "JOIN sql.teams h ON m.home_team_api_id = h.api_id\n",
    "JOIN sql.teams a ON m.away_team_api_id = a.api_id\n",
    "```\n",
    "___"
   ]
  },
  {
   "cell_type": "markdown",
   "metadata": {},
   "source": [
    "```sql\n",
    "SELECT\n",
    "    m.season,\n",
    "    t.long_name,\n",
    "    SUM(m.home_team_goals) + SUM(m.away_team_goals) total_goals\n",
    "FROM sql.matches m\n",
    "JOIN sql.teams t ON t.api_id = m.home_team_api_id OR t.api_id = m.away_team_api_id\n",
    "GROUP BY m.season, t.id\n",
    "HAVING SUM(m.home_team_goals) + SUM(m.away_team_goals) > 100\n",
    "```\n",
    "___"
   ]
  },
  {
   "cell_type": "markdown",
   "metadata": {},
   "source": [
    "*мы можем вывести сумму голов матча, забитых командами, агрегированную по гостевым командам (совокупное количество голов в матче, забитых обеими командами, суммированное в разрезе гостевых команд)*\n",
    "```sql\n",
    "SELECT\n",
    "    t.long_name,\n",
    "    SUM(m.home_team_goals) + SUM(m.away_team_goals) match_goals\n",
    "FROM\n",
    "    sql.matches m\n",
    "JOIN sql.teams t ON m.away_team_api_id = t.api_id\n",
    "GROUP BY t.id\n",
    "```\n",
    "___"
   ]
  },
  {
   "cell_type": "markdown",
   "metadata": {},
   "source": [
    "*вывести таблицу с суммарным количеством забитых голов в матчах по командам и сезонам для команд, в которых суммарное количество голов в матчах сезона больше 100*\n",
    "```sql\n",
    "SELECT\n",
    "    m.season,\n",
    "    t.long_name,\n",
    "    SUM(m.home_team_goals) + SUM(m.away_team_goals) total_goals /*функция суммирования; столбец home_team_goals таблицы m; функция суммирования; столбец away_team_goals таблицы m; новое название столбца*/\n",
    "FROM sql.matches m\n",
    "JOIN sql.teams t ON t.api_id = m.home_team_api_id OR t.api_id = m.away_team_api_id\n",
    "GROUP BY m.season, t.id\n",
    "HAVING SUM(m.home_team_goals) + SUM(m.away_team_goals) > 100\n",
    "```\n",
    "___"
   ]
  },
  {
   "cell_type": "markdown",
   "metadata": {},
   "source": [
    "*Напишите запрос, с помощью которого можно вывести список полных названий команд, сыгравших в гостях 150 и более матчей. Отсортируйте список по названию команды.*\n",
    "```sql\n",
    "SELECT\n",
    "    t.long_name\n",
    "FROM sql.matches m\n",
    "JOIN sql.teams t ON t.api_id = m.away_team_api_id\n",
    "GROUP BY t.id\n",
    "HAVING COUNT(m.id) >= 150\n",
    "ORDER BY t.long_name\n",
    "```\n",
    "___"
   ]
  },
  {
   "cell_type": "markdown",
   "metadata": {},
   "source": [
    "JOIN(INNER) пересечение множеств; \n",
    "\n",
    "LEFT JOIN; \n",
    "\n",
    "RIGHT JOIN; \n",
    "\n",
    "FULL OUTER JOIN объединение множеств; \n",
    "\n",
    "CROSS JOIN перемножение таблиц, умножение строк головной таблицы на кроссджоин таблицу; \n",
    "\n",
    "NATURAL JOIN соединение по колонкам с одинаковым названием\n",
    "___\n"
   ]
  },
  {
   "cell_type": "markdown",
   "metadata": {},
   "source": [
    "***LEFT JOIN***\n",
    "\n",
    "*выведите список уникальных названий команд, содержащихся в таблице matches. Отсортируйте список в алфавитном порядке*\n",
    "```sql\n",
    "SELECT t.long_name\n",
    "FROM sql.teams t\n",
    "LEFT JOIN sql.matches m ON t.api_id = m.away_team_api_id OR t.api_id = m.home_team_api_id\n",
    "WHERE m.id IS NOT NULL\n",
    "GROUP BY t.long_name\n",
    "ORDER BY t.long_name\n",
    "```\n",
    "___"
   ]
  },
  {
   "cell_type": "markdown",
   "metadata": {},
   "source": [
    "*напишите запрос, который выведет полное название команды (long_name), количество матчей, в которых участвовала команда, — домашних и гостевых (matches_cnt). Отсортируйте по количеству матчей в порядке возрастания, затем — по названию команды в алфавитном порядке*\n",
    "\n",
    "```sql\n",
    "SELECT\n",
    "    t.long_name long_name,\n",
    "    COUNT(m.id) matches_cnt\n",
    "FROM sql.teams t\n",
    "LEFT JOIN sql.matches m ON t.api_id = m.away_team_api_id OR t.api_id = m.home_team_api_id\n",
    "GROUP BY t.id\n",
    "ORDER BY 2, t.long_name\n",
    "``````\n",
    "___"
   ]
  },
  {
   "cell_type": "markdown",
   "metadata": {},
   "source": [
    "***CROSS JOIN***\n",
    "\n",
    "*все возможные комбинации полных названий команд в матчах*\n",
    "```sql\n",
    "SELECT\n",
    "    DISTINCT /*оператор исключения повторяющихся строк*/\n",
    "    t1.long_name home_team, /*столбец long_name таблицы t1; новое название*/\n",
    "    t2.long_name away_team /*столбец long_name таблицы t2; новое название*/\n",
    "FROM\n",
    "    sql.teams t1 /*таблица teams с алиасом t1*/\n",
    "    CROSS JOIN sql.teams t2 /*оператор соединения CROSS JOIN; таблица teams с алиасом t2*/\n",
    "```\n",
    "___"
   ]
  },
  {
   "cell_type": "markdown",
   "metadata": {},
   "source": [
    "*Напишите запрос, который выведет все возможные уникальные комбинации коротких названий домашней команды (home_team) и коротких названий гостевой команды (away_team). Команда не может сама с собой играть, то есть быть и домашней, и одновременно гостевой (в одном и том же матче). Отсортируйте запрос по первому и второму столбцам.*\n",
    "```sql\n",
    "SELECT\n",
    "    DISTINCT\n",
    "    t1.short_name home_team, \n",
    "    t2.short_name away_team\n",
    "FROM\n",
    "    sql.teams t1\n",
    "    CROSS JOIN sql.teams t2\n",
    "WHERE t1.id != t2.id\n",
    "ORDER BY 1, 2\n",
    "```\n",
    "___"
   ]
  },
  {
   "cell_type": "markdown",
   "metadata": {},
   "source": [
    "***NATURAL JOIN***\n",
    "\n",
    "Ключевое слово natural в начале оператора JOIN позволяет не указывать условие соединения таблиц — для соединения будут использованы столбцы с одинаковым названием из этих таблиц.\n",
    "\n",
    "NATURAL JOIN можно использовать с любыми видами соединений, которые требуют условия соединения:\n",
    "\n",
    "* NATURAL INNER JOIN (возможна запись NATURAL JOIN);\n",
    "* NATURAL LEFT JOIN;\n",
    "* NATURAL RIGHT JOIN;\n",
    "* NATURAL FULL OUTER JOIN.\n",
    "___"
   ]
  },
  {
   "cell_type": "markdown",
   "metadata": {},
   "source": [
    "INTO сохранение в новую таблицу"
   ]
  }
 ],
 "metadata": {
  "language_info": {
   "name": "python"
  }
 },
 "nbformat": 4,
 "nbformat_minor": 2
}
