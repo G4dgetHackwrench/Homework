{
 "cells": [
  {
   "cell_type": "markdown",
   "metadata": {},
   "source": [
    "```sql\n",
    "WHERE фильтр(граница не включена);\n",
    "BETWEEN задать интервал;\n",
    "NOT BETWEEN не в интервале;\n",
    "IN это есть в этом(column = value1 OR column = value2 OR column = value3);\n",
    "LIKE содержит '%А' заканчивается на А, '_' заменяет один символ;\n",
    "DISTINCT уникальные значения;\n",
    "\n",
    "IS NULL нулевое, пустое;\n",
    "IS NOT NULL не нулевое, пустое;\n",
    "NULL FIRST нулевые сверху;\n",
    "NULL LAST нулевые снизу;\n",
    "\n",
    "ORDER BY сортировка;\n",
    "ASC по алфавиту, по возрастанию;\n",
    "DESC по убыванию;\n",
    "\n",
    "GROUP BY группировка по столбцам(можно несколько);\n",
    "HAVING фильтр сгруппированных данных;\n",
    "\n",
    "OFFSET первые несколько исключаются;\n",
    "LIMIT вывод такого количества строк;\n",
    "\n",
    "COUNT — вычисляет число непустых строк;\n",
    "SUM — вычисляет сумму;\n",
    "AVG — вычисляет среднее;\n",
    "MAX — вычисляет максимум;\n",
    "MIN — вычисляет минимум.\n",
    "\n",
    "::text\n",
    "::date(now()::date)\n",
    "::timestamp\n",
    "select CURRENT_DATE для получения текущей даты\n",
    "```"
   ]
  },
  {
   "cell_type": "markdown",
   "metadata": {},
   "source": [
    "```sql\n",
    "SELECT * /*выбор всех полей*/\n",
    "FROM sql.kinopoisk /*из таблицы sql.kinopoisk*/\n",
    "WHERE year NOT BETWEEN 1965 AND 1980 /*при условии, что год создания не лежит в промежутке между 1965 и 1980*/\n",
    "```\n",
    "___"
   ]
  },
  {
   "cell_type": "markdown",
   "metadata": {},
   "source": [
    "Ещё один полезный оператор для фильтрации строк — IN.\n",
    "\n",
    "column IN (value1, value2, value3)\n",
    "\n",
    "Эта запись аналогична следующей: column = value1 OR column = value2 OR column = value3 — но выглядит проще и компактнее.\n",
    "___"
   ]
  },
  {
   "cell_type": "markdown",
   "metadata": {},
   "source": [
    "```sql\n",
    "SELECT * /*выбор всех полей*/\n",
    "FROM sql.kinopoisk /*из таблицы sql.kinopoisk*/\n",
    "WHERE movie_title LIKE 'А%' /*если название фильма начинается на А*/\n",
    "```\n",
    "*Знак процента (%) в примере показывает, что после A встречается ноль и более символов. Вы можете использовать % в любом месте внутри строки. Также в текстовых строках используется знак подчёркивания (_) — он заменяет ровно один любой символ.*\n",
    "___"
   ]
  },
  {
   "cell_type": "markdown",
   "metadata": {},
   "source": [
    "```sql\n",
    "SELECT * /*выбор всех полей*/\n",
    "FROM sql.kinopoisk /*из таблицы sql.kinopoisk*/\n",
    "WHERE overview IS NULL /*если у фильма отсутствует описание*/\n",
    "IS NULL / IS NOT NULL\n",
    "```\n",
    "___"
   ]
  },
  {
   "cell_type": "markdown",
   "metadata": {},
   "source": [
    "```sql\n",
    "SELECT *\n",
    "FROM sql.kinopoisk\n",
    "ORDER BY rating ASC\n",
    "```\n",
    "*Для обратного порядка используется ключевое слово DESC(по убыванию)*\n",
    "___"
   ]
  },
  {
   "cell_type": "markdown",
   "metadata": {},
   "source": [
    "Также в ORDER BY можно указывать, где должны идти пустые значения — в начале или в конце.\n",
    "\n",
    "Такая настройка порядка вывода задаётся с помощью ключевых слов NULLS FIRST / NULLS LAST.\n",
    "___"
   ]
  },
  {
   "cell_type": "markdown",
   "metadata": {},
   "source": [
    "```sql\n",
    "SELECT\n",
    "    столбец1 AS новое_название,\n",
    "    столбец2,    столбец3\n",
    "FROM таблица\n",
    "WHERE (условие1 OR условие2)    AND условие3\n",
    "ORDER BY сортировка1, сортировка2\n",
    "OFFSET 1 LIMIT 2\n",
    "```\n",
    "___"
   ]
  },
  {
   "cell_type": "markdown",
   "metadata": {},
   "source": [
    "### АГРЕГАТНЫЕ ФУНКЦИИ"
   ]
  },
  {
   "cell_type": "markdown",
   "metadata": {},
   "source": [
    "```sql\n",
    "SELECT /*выбор*/\n",
    "    COUNT(DISTINCT type1) /*функция подсчёта строк; уникальные значения столбца type1*/\n",
    "FROM sql.pokemon /*из таблицы sql.pokemon*/\n",
    "```\n",
    "\n",
    "COUNT — вычисляет число непустых строк;\n",
    "SUM — вычисляет сумму;\n",
    "AVG — вычисляет среднее;\n",
    "MAX — вычисляет максимум;\n",
    "MIN — вычисляет минимум.\n",
    "___"
   ]
  },
  {
   "cell_type": "markdown",
   "metadata": {},
   "source": [
    "```sql\n",
    "SELECT /*выбор*/\n",
    "    COUNT(*) AS \"всего травяных покемонов\", /*подсчёт всех строк; назначить алиас \"всего травяных покемонов\"*/\n",
    "    COUNT(type2) AS \"покемонов с дополнительным типом\", /*подсчёт непустых строк в столбце type2; назначить алиас \"покемонов с дополнительным типом\"*/\n",
    "    AVG(attack) AS \"средняя атака\", /*среднее значение столбца attack; назначить алиас \"средняя атака\"*/\n",
    "    AVG(defense) AS \"средняя защита\" /*среднее значение столбца defense; назначить алиас \"средняя защита\"*/\n",
    "FROM sql.pokemon /*из таблицы sql.pokemon*/\n",
    "WHERE type1 = 'Grass'/*при условии, что значение столбца type1 содержит grass*/\n",
    "```\n",
    "___"
   ]
  },
  {
   "cell_type": "markdown",
   "metadata": {},
   "source": [
    "```sql\n",
    "SELECT /*выбор*/\n",
    "    type1 AS primary_type, /*столбец type1; присвоить алиас primary_type*/\n",
    "    type2 AS additional_type, /*столбец type2; присвоить алиас additional_type*/\n",
    "    COUNT(*) AS pokemon_count /*подсчёт всех строк присвоить алиас pokemon_count*/\n",
    "FROM sql.pokemon /*из таблицы sql.pokemon*/\n",
    "GROUP BY 1, 2 /*группировка по столбцам 1 и 2*/\n",
    "ORDER BY 1, 2 NULLS FIRST /*сортировка по столбцам 1 и 2; сначала нули*/\n",
    "```\n",
    "___"
   ]
  },
  {
   "cell_type": "markdown",
   "metadata": {},
   "source": [
    "###  *HAVING*"
   ]
  },
  {
   "cell_type": "markdown",
   "metadata": {},
   "source": [
    "```sql\n",
    "SELECT /*выбор*/\n",
    "    type1 AS primary_type, /*таблица type1; присвоить алиас primary_type*/\n",
    "    AVG(attack) AS avg_attack /*расчёт среднего по столбцу attack; присвоить алиас avg_attack*/\n",
    "FROM sql.pokemon /*из таблицы sql.pokemon*/\n",
    "GROUP BY primary_type /*группировать по столбцу primary_type*/\n",
    "HAVING AVG(attack) > 90 /*фильтровать по среднему значению attack, превышающему 90*/\n",
    "```\n",
    "___"
   ]
  },
  {
   "cell_type": "markdown",
   "metadata": {},
   "source": [
    "```sql\n",
    "SELECT\n",
    "    столбец1 AS новое_название,\n",
    "    столбец2,\n",
    "    АГРЕГАТ(столбец3)\n",
    "FROM таблица\n",
    "WHERE (условие1 OR условие2)\n",
    "AND условие3\n",
    "GROUP BY столбец1, столбец2\n",
    "HAVING АГРЕГАТ(столбец3) > 5\n",
    "ORDER BY сортировка1, сортировка2\n",
    "OFFSET 1 LIMIT 2\n",
    "```\n",
    "___"
   ]
  },
  {
   "cell_type": "markdown",
   "metadata": {},
   "source": [
    "### Задание\n",
    "```sql\n",
    "SELECT\n",
    "    type1 AS primary_type,\n",
    "    type2 AS additional_type,\n",
    "    AVG(hp) AS avg_hp,\n",
    "    AVG(attack) AS avg_attack,\n",
    "    AVG(defense) AS avg_defense,\n",
    "    AVG(speed) AS avg_speed\n",
    "FROM sql.pokemon\n",
    "GROUP BY type1, type2\n",
    "HAVING (avg(hp) + avg(attack) + avg(defense) + avg(speed)) >400\n",
    "```"
   ]
  }
 ],
 "metadata": {
  "language_info": {
   "name": "python"
  }
 },
 "nbformat": 4,
 "nbformat_minor": 2
}
