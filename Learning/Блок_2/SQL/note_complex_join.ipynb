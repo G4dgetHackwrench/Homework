{
 "cells": [
  {
   "cell_type": "markdown",
   "metadata": {},
   "source": [
    "## **UNION**\n",
    "\n",
    "#### ПРИНЦИП И УСЛОВИЯ РАБОТЫ\n",
    "\n",
    "!!!ORDER BY и LIMIT относятся ко всей получившейся таблице\n",
    "\n",
    "!!!все кроме union убирают дубликаты"
   ]
  },
  {
   "cell_type": "markdown",
   "metadata": {},
   "source": [
    "```sql\n",
    "SELECT         n columns\n",
    "FROM \n",
    "         table_1\n",
    "UNION ALL\n",
    "SELECT \n",
    "         n columns\n",
    "FROM \n",
    "         table_2\n",
    "...\n",
    "UNION ALL\n",
    "SELECT \n",
    "         n columns\n",
    "FROM \n",
    "         table_n\n",
    "```"
   ]
  },
  {
   "cell_type": "markdown",
   "metadata": {},
   "source": [
    "*Обратимся к нашему датасету о транспортной компании и посмотрим, как сформировать справочник с ID всех таблиц и указанием объекта, к которому он относится.*\n",
    "```sql\n",
    "SELECT\n",
    "         c.city_id object_name, 'id города' object_type\n",
    "FROM \n",
    "         sql.city c\n",
    "UNION ALL\n",
    "SELECT\n",
    "         d.driver_id other_name, 'id водителя' other_type\n",
    "FROM \n",
    "         sql.driver d\n",
    "UNION ALL\n",
    "SELECT\n",
    "         s.ship_id, 'id доставки'\n",
    "FROM \n",
    "         sql.shipment s\n",
    "UNION ALL\n",
    "SELECT\n",
    "         c.cust_id, 'id клиента'\n",
    "FROM \n",
    "         sql.customer c\n",
    "UNION ALL\n",
    "SELECT\n",
    "         t.truck_id, 'id грузовика'\n",
    "FROM \n",
    "         sql.truck t\n",
    "ORDER BY 1\n",
    "```"
   ]
  },
  {
   "cell_type": "markdown",
   "metadata": {},
   "source": [
    "*отсортируем каждую часть запроса по отдельности и объединим результаты*\n",
    "```sql\n",
    "(SELECT book_name object_name, 'книга' object_descritption \n",
    "FROM public.books\n",
    "ORDER BY 1\n",
    "LIMIT 1)\n",
    "UNION ALL\n",
    "(SELECT movie_title, 'фильм' \n",
    "FROM sql.kinopoisk\n",
    "ORDER BY 1\n",
    "LIMIT 1)\n",
    "```"
   ]
  },
  {
   "cell_type": "markdown",
   "metadata": {},
   "source": [
    "Для типизации в Postgres составляется запрос по модели column_name::column_type.\n",
    "Таким образом, чтобы перевести city_id в текст, нам потребуется написать city_id::text.\n",
    "\n",
    "*мы хотим вывести список всех id городов и их названий в одном столбце*\n",
    "```sql\n",
    "SELECT \n",
    "         c.city_id::text\n",
    "FROM\n",
    "         sql.city c\n",
    "UNION ALL\n",
    "SELECT \n",
    "         cc.city_name\n",
    "FROM\n",
    "         sql.city cc\n",
    "```"
   ]
  },
  {
   "cell_type": "markdown",
   "metadata": {},
   "source": [
    "*Напишите запрос, который объединит в себе все почтовые индексы водителей и их телефоны в единый столбец-справочник contact. Также добавьте столбец с именем водителя first_name и столбец contact_type с типом контакта (phone или zip в зависимости от типа). Отсортируйте список по столбцу с контактными данными в порядке возрастания, а затем — по имени водителя.*\n",
    "```sql\n",
    "SELECT \n",
    "        d.zip_code::text contact,\n",
    "        d.first_name,\n",
    "        'zip' contact_type\n",
    "FROM\n",
    "        sql.driver d\n",
    "UNION ALL\n",
    "SELECT \n",
    "        d.phone,\n",
    "        d.first_name,\n",
    "        'phone'\n",
    "FROM\n",
    "        sql.driver d\n",
    "ORDER BY 1, 2\n",
    "```"
   ]
  },
  {
   "cell_type": "markdown",
   "metadata": {},
   "source": [
    "#### **группировка**\n",
    "\n",
    "Напишите запрос, который выводит общее число доставок total_shipments, а также количество доставок в каждый день. Необходимые столбцы: date_period, cnt_shipment. Не забывайте о единой типизации. Упорядочите по убыванию столбца date_period.*\n",
    "```sql\n",
    "SELECT\n",
    "        s.ship_date::text date_period,\n",
    "        COUNT(s.ship_id)\n",
    "FROM\n",
    "        sql.shipment s\n",
    "GROUP BY s.ship_date\n",
    "UNION ALL\n",
    "SELECT\n",
    "        'total_shipments',\n",
    "        COUNT(s.ship_id)\n",
    "FROM\n",
    "        sql.shipment s\n",
    "ORDER BY 1 DESC\n",
    "```"
   ]
  },
  {
   "cell_type": "markdown",
   "metadata": {},
   "source": [
    "#### **фильтрация**\n",
    "\n",
    "*Напишите запрос, который выведет все города и штаты, в которых они расположены, а также информацию о том, была ли осуществлена доставка в этот город:*\n",
    "+ *если в город была осуществлена доставка, то выводим 'доставка осуществлялась';*\n",
    "+ *если нет — выводим 'доставка не осуществлялась'.*\n",
    "\n",
    "*Столбцы к выводу: city_name, state, shipping_status. Отсортируйте в алфавитном порядке по городу, а затем — по штату.*\n",
    "```sql\n",
    "SELECT\n",
    "        DISTINCT c.city_name city_name,\n",
    "        c.state state,\n",
    "        'доставка осуществлялась' shipping_status\n",
    "FROM\n",
    "        sql.city c\n",
    "        LEFT JOIN sql.shipment s on c.city_id = s.city_id\n",
    "WHERE s.ship_id IS NOT NULL\n",
    "UNION ALL\n",
    "SELECT\n",
    "        DISTINCT c.city_name city_name,\n",
    "        c.state state,\n",
    "        'доставка не осуществлялась' shipping_status\n",
    "FROM\n",
    "        sql.city c\n",
    "        LEFT JOIN sql.shipment s on c.city_id = s.city_id\n",
    "WHERE  s.ship_id IS NULL\n",
    "ORDER BY 1, 2\n",
    "```"
   ]
  },
  {
   "cell_type": "markdown",
   "metadata": {},
   "source": [
    "*Напишите запрос, который выводит два столбца: city_name и shippings_fake. Выведите города, куда совершались доставки. Пусть первый столбец содержит название города, а второй формируется так:*\n",
    "\n",
    "+ *если в городе было более десяти доставок, вывести количество доставок в этот город как есть;*\n",
    "+ *иначе — вывести количество доставок, увеличенное на пять.*\n",
    "*Отсортируйте по убыванию получившегося «нечестного» количества доставок, а затем — по имени в алфавитном порядке.*\n",
    "```sql\n",
    "SELECT\n",
    "        c.city_name city_name,\n",
    "        COUNT(s.ship_id) shippings_fake\n",
    "FROM\n",
    "        sql.city c\n",
    "        JOIN sql.shipment s on c.city_id = s.city_id\n",
    "GROUP BY c.city_name\n",
    "HAVING COUNT(s.ship_id) > 10\n",
    "UNION ALL\n",
    "SELECT\n",
    "        c.city_name city_name,\n",
    "        COUNT(s.ship_id)+5 shippings_fake\n",
    "FROM\n",
    "        sql.city c\n",
    "        JOIN sql.shipment s on c.city_id = s.city_id\n",
    "GROUP BY c.city_name\n",
    "HAVING COUNT(s.ship_id) <= 10\n",
    "ORDER BY 2 DESC, 1\n",
    "```"
   ]
  },
  {
   "cell_type": "markdown",
   "metadata": {},
   "source": [
    "*Как бы вы рассчитали максимальную оценку в каждом классе?*\n",
    "\n",
    "```sql\n",
    "SELECT \n",
    "  CLASS, \n",
    "  MAX(GRADE) INTO TABLE_B \n",
    "FROM \n",
    "  TABLE_A \n",
    "GROUP BY \n",
    "  CLASS\n",
    "```\n",
    "*Этот запрос группирует данные по каждому классу, а затем находит максимальное значение. Он дополнительно сохраняет результаты в новую таблицу (TABLE_B), чтобы их можно было запросить позже.*\n",
    "\n",
    "*Как найти не только самую высокую оценку в каждом классе и учащегося, получившего её?*\n",
    "```sql\n",
    "SELECT \n",
    "  a.CLASS, \n",
    "  a.GRADE, \n",
    "  a.STUDENT \n",
    "FROM \n",
    "  TABLE_A a \n",
    "  INNER JOIN TABLE_B b ON a.CLASS = b.CLASS \n",
    "  AND a.GRADE = b.GRADE\n",
    "```\n",
    "*Этот запрос выбирает всех учащихся и их оценки из исходной таблицы TABLE_A, где указаны классы и оценки, которые отображаются в таблице максимальных значений TABLE_B. Внутреннее соединение работает как фильтр, сохраняя только максимальные комбинации классов/оценок, потому что только в этом случае оценка появляется в таблице TABLE_B.*\n"
   ]
  },
  {
   "cell_type": "markdown",
   "metadata": {},
   "source": [
    "### **EXCEPT** *(исключить(кроме B,вместо union))*\n",
    "```sql\n",
    "SELECT \n",
    "         n columns\n",
    "FROM \n",
    "         table_1\n",
    "EXCEPT\n",
    "SELECT \n",
    "         n columns\n",
    "FROM \n",
    "         table_2\n",
    "```"
   ]
  },
  {
   "cell_type": "markdown",
   "metadata": {},
   "source": [
    "*Предположим, нам нужно узнать, в какие города осуществлялась доставка, за исключением тех, в которых проживают водители.*\n",
    "```sql\n",
    "SELECT\n",
    "         c.city_name\n",
    "FROM\n",
    "         sql.shipment s\n",
    "JOIN sql.city c ON s.city_id = c.city_id\n",
    "EXCEPT\n",
    "SELECT\n",
    "         cc.city_name\n",
    "FROM\n",
    "         sql.driver d \n",
    "JOIN sql.city cc ON d.city_id=cc.city_id\n",
    "ORDER BY 1\n",
    "```"
   ]
  },
  {
   "cell_type": "markdown",
   "metadata": {},
   "source": [
    "### **INTERSECT** *(пересечение(и там и там, общее))*\n",
    "```sql\n",
    "SELECT \n",
    "         n columns\n",
    "FROM \n",
    "         table_1\n",
    "INTERSECT\n",
    "SELECT \n",
    "         n columns\n",
    "FROM \n",
    "         table_2\n",
    "```"
   ]
  },
  {
   "cell_type": "markdown",
   "metadata": {},
   "source": [
    "*Предположим, нам надо вывести совпадающие по названию города и штаты.*\n",
    "```sql\n",
    "SELECT          c.city_name object_name\n",
    "FROM          sql.city c\n",
    "INTERSECT\n",
    "SELECT \n",
    "         cc.state\n",
    "FROM          sql.city cc\n",
    "ORDER BY 1\n",
    "```"
   ]
  },
  {
   "cell_type": "markdown",
   "metadata": {},
   "source": [
    "```sql\n",
    "SELECT          N columns\n",
    "FROM          table_1\n",
    "UNION / UNION ALL / EXCEPT / INTERSECT \n",
    "SELECT          N columns\n",
    "FROM          table_2\n",
    "```"
   ]
  },
  {
   "cell_type": "markdown",
   "metadata": {},
   "source": [
    "Есть три варианта записи условия по году:\n",
    "\n",
    "1) Записать через диапазон  и строковые литералы `ship_date between '01-01-2017' and '12-31-2017'` или `ship_date between 'Jan 1, 2017' AND 'Dec 31, 2017'`\n",
    "\n",
    "2) С помощью функции EXTRACT извлечь год из даты, тогда результат будет в числовом формате и его можно сравнить со значением 2017 `extract(YEAR from ship_date) = 2017`\n",
    "\n",
    "3) Привести дату к типу строка и воспользоваться поиском по шаблону `ship_date::text like '2017%'`"
   ]
  }
 ],
 "metadata": {
  "kernelspec": {
   "display_name": "Python 3",
   "language": "python",
   "name": "python3"
  },
  "language_info": {
   "codemirror_mode": {
    "name": "ipython",
    "version": 3
   },
   "file_extension": ".py",
   "mimetype": "text/x-python",
   "name": "python",
   "nbconvert_exporter": "python",
   "pygments_lexer": "ipython3",
   "version": "3.10.11"
  }
 },
 "nbformat": 4,
 "nbformat_minor": 2
}
