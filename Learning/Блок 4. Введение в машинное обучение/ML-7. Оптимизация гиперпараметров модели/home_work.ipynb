{
 "cells": [
  {
   "cell_type": "code",
   "execution_count": 1,
   "metadata": {},
   "outputs": [],
   "source": [
    "#импорт библиотек\n",
    "import numpy as np #для матричных вычислений\n",
    "import pandas as pd #для анализа и предобработки данных\n",
    "import matplotlib.pyplot as plt #для визуализации\n",
    "import seaborn as sns #для визуализации\n",
    "\n",
    "from sklearn import linear_model #линейные моделиё\n",
    "from sklearn import tree #деревья решений\n",
    "from sklearn import ensemble #ансамбли\n",
    "from sklearn import metrics #метрики\n",
    "from sklearn import preprocessing #предобработка\n",
    "from sklearn.model_selection import train_test_split #сплитование выборки\n",
    "\n",
    "%matplotlib inline\n",
    "plt.style.use('seaborn-v0_8')\n",
    "\n",
    "from sklearn.model_selection import GridSearchCV\n",
    "from sklearn.model_selection import RandomizedSearchCV\n",
    "from sklearn.model_selection import cross_val_score\n",
    "import hyperopt\n",
    "from hyperopt import hp, fmin, tpe, Trials\n",
    "import optuna"
   ]
  },
  {
   "cell_type": "code",
   "execution_count": 2,
   "metadata": {},
   "outputs": [],
   "source": [
    "data = pd.read_csv('data/_train_sem09 (1).csv')"
   ]
  },
  {
   "cell_type": "code",
   "execution_count": 3,
   "metadata": {},
   "outputs": [
    {
     "data": {
      "text/html": [
       "<div>\n",
       "<style scoped>\n",
       "    .dataframe tbody tr th:only-of-type {\n",
       "        vertical-align: middle;\n",
       "    }\n",
       "\n",
       "    .dataframe tbody tr th {\n",
       "        vertical-align: top;\n",
       "    }\n",
       "\n",
       "    .dataframe thead th {\n",
       "        text-align: right;\n",
       "    }\n",
       "</style>\n",
       "<table border=\"1\" class=\"dataframe\">\n",
       "  <thead>\n",
       "    <tr style=\"text-align: right;\">\n",
       "      <th></th>\n",
       "      <th>Activity</th>\n",
       "      <th>D1</th>\n",
       "      <th>D2</th>\n",
       "      <th>D3</th>\n",
       "      <th>D4</th>\n",
       "      <th>D5</th>\n",
       "      <th>D6</th>\n",
       "      <th>D7</th>\n",
       "      <th>D8</th>\n",
       "      <th>D9</th>\n",
       "      <th>...</th>\n",
       "      <th>D1767</th>\n",
       "      <th>D1768</th>\n",
       "      <th>D1769</th>\n",
       "      <th>D1770</th>\n",
       "      <th>D1771</th>\n",
       "      <th>D1772</th>\n",
       "      <th>D1773</th>\n",
       "      <th>D1774</th>\n",
       "      <th>D1775</th>\n",
       "      <th>D1776</th>\n",
       "    </tr>\n",
       "  </thead>\n",
       "  <tbody>\n",
       "    <tr>\n",
       "      <th>0</th>\n",
       "      <td>1</td>\n",
       "      <td>0.000000</td>\n",
       "      <td>0.497009</td>\n",
       "      <td>0.10</td>\n",
       "      <td>0.0</td>\n",
       "      <td>0.132956</td>\n",
       "      <td>0.678031</td>\n",
       "      <td>0.273166</td>\n",
       "      <td>0.585445</td>\n",
       "      <td>0.743663</td>\n",
       "      <td>...</td>\n",
       "      <td>0</td>\n",
       "      <td>0</td>\n",
       "      <td>0</td>\n",
       "      <td>0</td>\n",
       "      <td>0</td>\n",
       "      <td>0</td>\n",
       "      <td>0</td>\n",
       "      <td>0</td>\n",
       "      <td>0</td>\n",
       "      <td>0</td>\n",
       "    </tr>\n",
       "    <tr>\n",
       "      <th>1</th>\n",
       "      <td>1</td>\n",
       "      <td>0.366667</td>\n",
       "      <td>0.606291</td>\n",
       "      <td>0.05</td>\n",
       "      <td>0.0</td>\n",
       "      <td>0.111209</td>\n",
       "      <td>0.803455</td>\n",
       "      <td>0.106105</td>\n",
       "      <td>0.411754</td>\n",
       "      <td>0.836582</td>\n",
       "      <td>...</td>\n",
       "      <td>1</td>\n",
       "      <td>1</td>\n",
       "      <td>1</td>\n",
       "      <td>1</td>\n",
       "      <td>0</td>\n",
       "      <td>1</td>\n",
       "      <td>0</td>\n",
       "      <td>0</td>\n",
       "      <td>1</td>\n",
       "      <td>0</td>\n",
       "    </tr>\n",
       "    <tr>\n",
       "      <th>2</th>\n",
       "      <td>1</td>\n",
       "      <td>0.033300</td>\n",
       "      <td>0.480124</td>\n",
       "      <td>0.00</td>\n",
       "      <td>0.0</td>\n",
       "      <td>0.209791</td>\n",
       "      <td>0.610350</td>\n",
       "      <td>0.356453</td>\n",
       "      <td>0.517720</td>\n",
       "      <td>0.679051</td>\n",
       "      <td>...</td>\n",
       "      <td>0</td>\n",
       "      <td>0</td>\n",
       "      <td>0</td>\n",
       "      <td>0</td>\n",
       "      <td>0</td>\n",
       "      <td>0</td>\n",
       "      <td>0</td>\n",
       "      <td>0</td>\n",
       "      <td>0</td>\n",
       "      <td>0</td>\n",
       "    </tr>\n",
       "    <tr>\n",
       "      <th>3</th>\n",
       "      <td>1</td>\n",
       "      <td>0.000000</td>\n",
       "      <td>0.538825</td>\n",
       "      <td>0.00</td>\n",
       "      <td>0.5</td>\n",
       "      <td>0.196344</td>\n",
       "      <td>0.724230</td>\n",
       "      <td>0.235606</td>\n",
       "      <td>0.288764</td>\n",
       "      <td>0.805110</td>\n",
       "      <td>...</td>\n",
       "      <td>0</td>\n",
       "      <td>0</td>\n",
       "      <td>0</td>\n",
       "      <td>0</td>\n",
       "      <td>0</td>\n",
       "      <td>0</td>\n",
       "      <td>0</td>\n",
       "      <td>0</td>\n",
       "      <td>0</td>\n",
       "      <td>0</td>\n",
       "    </tr>\n",
       "    <tr>\n",
       "      <th>4</th>\n",
       "      <td>0</td>\n",
       "      <td>0.100000</td>\n",
       "      <td>0.517794</td>\n",
       "      <td>0.00</td>\n",
       "      <td>0.0</td>\n",
       "      <td>0.494734</td>\n",
       "      <td>0.781422</td>\n",
       "      <td>0.154361</td>\n",
       "      <td>0.303809</td>\n",
       "      <td>0.812646</td>\n",
       "      <td>...</td>\n",
       "      <td>0</td>\n",
       "      <td>0</td>\n",
       "      <td>0</td>\n",
       "      <td>0</td>\n",
       "      <td>0</td>\n",
       "      <td>0</td>\n",
       "      <td>0</td>\n",
       "      <td>0</td>\n",
       "      <td>0</td>\n",
       "      <td>0</td>\n",
       "    </tr>\n",
       "  </tbody>\n",
       "</table>\n",
       "<p>5 rows × 1777 columns</p>\n",
       "</div>"
      ],
      "text/plain": [
       "   Activity        D1        D2    D3   D4        D5        D6        D7  \\\n",
       "0         1  0.000000  0.497009  0.10  0.0  0.132956  0.678031  0.273166   \n",
       "1         1  0.366667  0.606291  0.05  0.0  0.111209  0.803455  0.106105   \n",
       "2         1  0.033300  0.480124  0.00  0.0  0.209791  0.610350  0.356453   \n",
       "3         1  0.000000  0.538825  0.00  0.5  0.196344  0.724230  0.235606   \n",
       "4         0  0.100000  0.517794  0.00  0.0  0.494734  0.781422  0.154361   \n",
       "\n",
       "         D8        D9  ...  D1767  D1768  D1769  D1770  D1771  D1772  D1773  \\\n",
       "0  0.585445  0.743663  ...      0      0      0      0      0      0      0   \n",
       "1  0.411754  0.836582  ...      1      1      1      1      0      1      0   \n",
       "2  0.517720  0.679051  ...      0      0      0      0      0      0      0   \n",
       "3  0.288764  0.805110  ...      0      0      0      0      0      0      0   \n",
       "4  0.303809  0.812646  ...      0      0      0      0      0      0      0   \n",
       "\n",
       "   D1774  D1775  D1776  \n",
       "0      0      0      0  \n",
       "1      0      1      0  \n",
       "2      0      0      0  \n",
       "3      0      0      0  \n",
       "4      0      0      0  \n",
       "\n",
       "[5 rows x 1777 columns]"
      ]
     },
     "execution_count": 3,
     "metadata": {},
     "output_type": "execute_result"
    }
   ],
   "source": [
    "data.head()"
   ]
  },
  {
   "cell_type": "code",
   "execution_count": 4,
   "metadata": {},
   "outputs": [],
   "source": [
    "X = data.drop(['Activity'], axis=1)\n",
    "y = data['Activity']"
   ]
  },
  {
   "cell_type": "code",
   "execution_count": 5,
   "metadata": {},
   "outputs": [],
   "source": [
    "X_train, X_test, y_train, y_test = train_test_split(X, y, random_state = 42, test_size = 0.2)"
   ]
  },
  {
   "cell_type": "markdown",
   "metadata": {},
   "source": [
    "## Логистическая регрессия"
   ]
  },
  {
   "cell_type": "code",
   "execution_count": 10,
   "metadata": {},
   "outputs": [
    {
     "name": "stdout",
     "output_type": "stream",
     "text": [
      "f1_score на тестовом наборе: 0.79\n"
     ]
    }
   ],
   "source": [
    "#Создаем объект класса логистическая регрессия\n",
    "log_reg = linear_model.LogisticRegression(max_iter = 1000)\n",
    "#Обучаем модель\n",
    "log_reg.fit(X_train, y_train)\n",
    "#Выводим значения метрики\n",
    "y_test_pred = log_reg.predict(X_test)\n",
    "print('f1_score на тестовом наборе: {:.2f}'.format(metrics.f1_score(y_test, y_test_pred)))"
   ]
  },
  {
   "cell_type": "markdown",
   "metadata": {},
   "source": [
    "## Случайный лес"
   ]
  },
  {
   "cell_type": "code",
   "execution_count": 11,
   "metadata": {},
   "outputs": [
    {
     "name": "stdout",
     "output_type": "stream",
     "text": [
      "f1_score на тестовом наборе: 0.83\n"
     ]
    }
   ],
   "source": [
    "#Создаем объект класса случайный лес\n",
    "rf = ensemble.RandomForestClassifier(random_state=42)\n",
    "\n",
    "#Обучаем модель\n",
    "rf.fit(X_train, y_train)\n",
    "#Выводим значения метрики \n",
    "y_test_pred = rf.predict(X_test)\n",
    "print('f1_score на тестовом наборе: {:.2f}'.format(metrics.f1_score(y_test, y_test_pred)))"
   ]
  },
  {
   "cell_type": "markdown",
   "metadata": {},
   "source": [
    "## GridSearchCV\n",
    "### LogisticRegression"
   ]
  },
  {
   "cell_type": "code",
   "execution_count": 23,
   "metadata": {},
   "outputs": [
    {
     "name": "stderr",
     "output_type": "stream",
     "text": [
      "c:\\Python\\Python312\\Lib\\site-packages\\sklearn\\model_selection\\_validation.py:547: FitFailedWarning: \n",
      "70 fits failed out of a total of 280.\n",
      "The score on these train-test partitions for these parameters will be set to nan.\n",
      "If these failures are not expected, you can try to debug them by setting error_score='raise'.\n",
      "\n",
      "Below are more details about the failures:\n",
      "--------------------------------------------------------------------------------\n",
      "59 fits failed with the following error:\n",
      "Traceback (most recent call last):\n",
      "  File \"c:\\Python\\Python312\\Lib\\site-packages\\sklearn\\model_selection\\_validation.py\", line 895, in _fit_and_score\n",
      "    estimator.fit(X_train, y_train, **fit_params)\n",
      "  File \"c:\\Python\\Python312\\Lib\\site-packages\\sklearn\\base.py\", line 1467, in wrapper\n",
      "    estimator._validate_params()\n",
      "  File \"c:\\Python\\Python312\\Lib\\site-packages\\sklearn\\base.py\", line 666, in _validate_params\n",
      "    validate_parameter_constraints(\n",
      "  File \"c:\\Python\\Python312\\Lib\\site-packages\\sklearn\\utils\\_param_validation.py\", line 95, in validate_parameter_constraints\n",
      "    raise InvalidParameterError(\n",
      "sklearn.utils._param_validation.InvalidParameterError: The 'penalty' parameter of LogisticRegression must be a str among {'l1', 'l2', 'elasticnet'} or None. Got 'none' instead.\n",
      "\n",
      "--------------------------------------------------------------------------------\n",
      "11 fits failed with the following error:\n",
      "Traceback (most recent call last):\n",
      "  File \"c:\\Python\\Python312\\Lib\\site-packages\\sklearn\\model_selection\\_validation.py\", line 895, in _fit_and_score\n",
      "    estimator.fit(X_train, y_train, **fit_params)\n",
      "  File \"c:\\Python\\Python312\\Lib\\site-packages\\sklearn\\base.py\", line 1467, in wrapper\n",
      "    estimator._validate_params()\n",
      "  File \"c:\\Python\\Python312\\Lib\\site-packages\\sklearn\\base.py\", line 666, in _validate_params\n",
      "    validate_parameter_constraints(\n",
      "  File \"c:\\Python\\Python312\\Lib\\site-packages\\sklearn\\utils\\_param_validation.py\", line 95, in validate_parameter_constraints\n",
      "    raise InvalidParameterError(\n",
      "sklearn.utils._param_validation.InvalidParameterError: The 'penalty' parameter of LogisticRegression must be a str among {'elasticnet', 'l2', 'l1'} or None. Got 'none' instead.\n",
      "\n",
      "  warnings.warn(some_fits_failed_message, FitFailedWarning)\n",
      "c:\\Python\\Python312\\Lib\\site-packages\\sklearn\\model_selection\\_search.py:1051: UserWarning: One or more of the test scores are non-finite: [0.75466667 0.75433333        nan        nan 0.767      0.76633333\n",
      "        nan        nan 0.76166667 0.761             nan        nan\n",
      " 0.755      0.756             nan        nan 0.75466667 0.75466667\n",
      "        nan        nan 0.753      0.75366667        nan        nan\n",
      " 0.753      0.75333333        nan        nan 0.73566667 0.73566667\n",
      " 0.754      0.755      0.75466667 0.75766667 0.76366667 0.76433333\n",
      " 0.76433333 0.76266667 0.761      0.76133333 0.763      0.76433333\n",
      " 0.756      0.75633333 0.76433333 0.76366667 0.754      0.75466667\n",
      " 0.765      0.76466667 0.75366667 0.75366667 0.763      0.76\n",
      " 0.75333333 0.75333333]\n",
      "  warnings.warn(\n"
     ]
    },
    {
     "name": "stdout",
     "output_type": "stream",
     "text": [
      "CPU times: total: 9.2 s\n",
      "Wall time: 14min 34s\n",
      "f1_score на тестовом наборе: 0.80\n",
      "Наилучшие значения гиперпараметров: {'C': 0.1, 'penalty': 'l2', 'solver': 'lbfgs'}\n"
     ]
    }
   ],
   "source": [
    "# зададим пространство поиска гиперпараметров\n",
    "param_grid = [\n",
    "              {'penalty': ['l2', 'none'] , # тип регуляризации\n",
    "              'solver': ['lbfgs', 'sag'], # алгоритм оптимизации\n",
    "               'C': [0.01, 0.1, 0.3, 0.5, 0.7, 0.9, 1]}, # уровень силы регурялизации\n",
    "              \n",
    "              {'penalty': ['l1', 'l2'] ,\n",
    "              'solver': ['liblinear', 'saga'],\n",
    "               'C': [0.01, 0.1, 0.3, 0.5, 0.7, 0.9, 1]}\n",
    "]\n",
    "\n",
    "grid_search = GridSearchCV(\n",
    "    estimator=linear_model.LogisticRegression(\n",
    "        random_state=42, #генератор случайных чисел\n",
    "        max_iter=1000 #количество итераций на сходимость\n",
    "    ), \n",
    "    param_grid=param_grid, \n",
    "    cv=5, \n",
    "    n_jobs = -1\n",
    ") \n",
    "\n",
    "#Обучаем модель\n",
    "%time grid_search.fit(X_train, y_train)\n",
    "\n",
    "#Выводим значения метрики \n",
    "y_test_pred = grid_search.predict(X_test)\n",
    "print('f1_score на тестовом наборе: {:.2f}'.format(metrics.f1_score(y_test, y_test_pred)))\n",
    "print(\"Наилучшие значения гиперпараметров: {}\".format(grid_search.best_params_))"
   ]
  },
  {
   "cell_type": "markdown",
   "metadata": {},
   "source": [
    "### RandomForest"
   ]
  },
  {
   "cell_type": "code",
   "execution_count": 26,
   "metadata": {},
   "outputs": [
    {
     "name": "stdout",
     "output_type": "stream",
     "text": [
      "CPU times: total: 3.48 s\n",
      "Wall time: 1min 34s\n",
      "f1_score на тестовом наборе: 0.83\n",
      "Наилучшие значения гиперпараметров: {'max_depth': 15, 'min_samples_leaf': 5, 'n_estimators': 130}\n"
     ]
    }
   ],
   "source": [
    "# зададим пространство поиска гиперпараметров\n",
    "param_grid = {'n_estimators': list(range(100, 200, 30)),\n",
    "              'min_samples_leaf': [5, 7],\n",
    "              'max_depth': list(np.linspace(15, 40, 5, dtype=int))\n",
    "              }\n",
    "\n",
    "grid_search = GridSearchCV(\n",
    "    estimator=ensemble.RandomForestClassifier(random_state=42), \n",
    "    param_grid=param_grid, \n",
    "    cv=5, \n",
    "    n_jobs = -1\n",
    ")\n",
    "\n",
    "#Обучаем модель\n",
    "%time grid_search.fit(X_train, y_train)\n",
    "\n",
    "#Выводим значения метрики \n",
    "y_test_pred = grid_search.predict(X_test)\n",
    "print('f1_score на тестовом наборе: {:.2f}'.format(metrics.f1_score(y_test, y_test_pred)))\n",
    "print(\"Наилучшие значения гиперпараметров: {}\".format(grid_search.best_params_))"
   ]
  },
  {
   "cell_type": "markdown",
   "metadata": {},
   "source": [
    "## RandomizedSearchCV\n",
    "### LogisticRegression"
   ]
  },
  {
   "cell_type": "code",
   "execution_count": 31,
   "metadata": {},
   "outputs": [
    {
     "name": "stderr",
     "output_type": "stream",
     "text": [
      "c:\\Python\\Python312\\Lib\\site-packages\\sklearn\\model_selection\\_search.py:318: UserWarning: The total space of parameters 40 is smaller than n_iter=50. Running 40 iterations. For exhaustive searches, use GridSearchCV.\n",
      "  warnings.warn(\n",
      "c:\\Python\\Python312\\Lib\\site-packages\\sklearn\\model_selection\\_validation.py:547: FitFailedWarning: \n",
      "100 fits failed out of a total of 200.\n",
      "The score on these train-test partitions for these parameters will be set to nan.\n",
      "If these failures are not expected, you can try to debug them by setting error_score='raise'.\n",
      "\n",
      "Below are more details about the failures:\n",
      "--------------------------------------------------------------------------------\n",
      "14 fits failed with the following error:\n",
      "Traceback (most recent call last):\n",
      "  File \"c:\\Python\\Python312\\Lib\\site-packages\\sklearn\\model_selection\\_validation.py\", line 895, in _fit_and_score\n",
      "    estimator.fit(X_train, y_train, **fit_params)\n",
      "  File \"c:\\Python\\Python312\\Lib\\site-packages\\sklearn\\base.py\", line 1467, in wrapper\n",
      "    estimator._validate_params()\n",
      "  File \"c:\\Python\\Python312\\Lib\\site-packages\\sklearn\\base.py\", line 666, in _validate_params\n",
      "    validate_parameter_constraints(\n",
      "  File \"c:\\Python\\Python312\\Lib\\site-packages\\sklearn\\utils\\_param_validation.py\", line 95, in validate_parameter_constraints\n",
      "    raise InvalidParameterError(\n",
      "sklearn.utils._param_validation.InvalidParameterError: The 'penalty' parameter of LogisticRegression must be a str among {'l1', 'elasticnet', 'l2'} or None. Got 'none' instead.\n",
      "\n",
      "--------------------------------------------------------------------------------\n",
      "20 fits failed with the following error:\n",
      "Traceback (most recent call last):\n",
      "  File \"c:\\Python\\Python312\\Lib\\site-packages\\sklearn\\model_selection\\_validation.py\", line 895, in _fit_and_score\n",
      "    estimator.fit(X_train, y_train, **fit_params)\n",
      "  File \"c:\\Python\\Python312\\Lib\\site-packages\\sklearn\\base.py\", line 1467, in wrapper\n",
      "    estimator._validate_params()\n",
      "  File \"c:\\Python\\Python312\\Lib\\site-packages\\sklearn\\base.py\", line 666, in _validate_params\n",
      "    validate_parameter_constraints(\n",
      "  File \"c:\\Python\\Python312\\Lib\\site-packages\\sklearn\\utils\\_param_validation.py\", line 95, in validate_parameter_constraints\n",
      "    raise InvalidParameterError(\n",
      "sklearn.utils._param_validation.InvalidParameterError: The 'penalty' parameter of LogisticRegression must be a str among {'elasticnet', 'l2', 'l1'} or None. Got 'none' instead.\n",
      "\n",
      "--------------------------------------------------------------------------------\n",
      "27 fits failed with the following error:\n",
      "Traceback (most recent call last):\n",
      "  File \"c:\\Python\\Python312\\Lib\\site-packages\\sklearn\\model_selection\\_validation.py\", line 895, in _fit_and_score\n",
      "    estimator.fit(X_train, y_train, **fit_params)\n",
      "  File \"c:\\Python\\Python312\\Lib\\site-packages\\sklearn\\base.py\", line 1467, in wrapper\n",
      "    estimator._validate_params()\n",
      "  File \"c:\\Python\\Python312\\Lib\\site-packages\\sklearn\\base.py\", line 666, in _validate_params\n",
      "    validate_parameter_constraints(\n",
      "  File \"c:\\Python\\Python312\\Lib\\site-packages\\sklearn\\utils\\_param_validation.py\", line 95, in validate_parameter_constraints\n",
      "    raise InvalidParameterError(\n",
      "sklearn.utils._param_validation.InvalidParameterError: The 'penalty' parameter of LogisticRegression must be a str among {'l2', 'l1', 'elasticnet'} or None. Got 'none' instead.\n",
      "\n",
      "--------------------------------------------------------------------------------\n",
      "39 fits failed with the following error:\n",
      "Traceback (most recent call last):\n",
      "  File \"c:\\Python\\Python312\\Lib\\site-packages\\sklearn\\model_selection\\_validation.py\", line 895, in _fit_and_score\n",
      "    estimator.fit(X_train, y_train, **fit_params)\n",
      "  File \"c:\\Python\\Python312\\Lib\\site-packages\\sklearn\\base.py\", line 1467, in wrapper\n",
      "    estimator._validate_params()\n",
      "  File \"c:\\Python\\Python312\\Lib\\site-packages\\sklearn\\base.py\", line 666, in _validate_params\n",
      "    validate_parameter_constraints(\n",
      "  File \"c:\\Python\\Python312\\Lib\\site-packages\\sklearn\\utils\\_param_validation.py\", line 95, in validate_parameter_constraints\n",
      "    raise InvalidParameterError(\n",
      "sklearn.utils._param_validation.InvalidParameterError: The 'penalty' parameter of LogisticRegression must be a str among {'elasticnet', 'l1', 'l2'} or None. Got 'none' instead.\n",
      "\n",
      "  warnings.warn(some_fits_failed_message, FitFailedWarning)\n",
      "c:\\Python\\Python312\\Lib\\site-packages\\sklearn\\model_selection\\_search.py:1051: UserWarning: One or more of the test scores are non-finite: [0.75466667 0.75433333        nan        nan 0.75333333 0.754\n",
      "        nan        nan 0.75233333 0.75133333        nan        nan\n",
      " 0.74966667 0.75              nan        nan 0.75       0.74766667\n",
      "        nan        nan 0.74933333 0.74766667        nan        nan\n",
      " 0.749      0.74666667        nan        nan 0.74833333 0.74666667\n",
      "        nan        nan 0.74733333 0.74666667        nan        nan\n",
      " 0.74733333 0.748             nan        nan]\n",
      "  warnings.warn(\n"
     ]
    },
    {
     "name": "stdout",
     "output_type": "stream",
     "text": [
      "CPU times: total: 5.62 s\n",
      "Wall time: 8min 47s\n",
      "f1_score на тестовом наборе: 0.80\n",
      "Наилучшие значения гиперпараметров: {'solver': 'lbfgs', 'penalty': 'l2', 'C': 0.01}\n"
     ]
    }
   ],
   "source": [
    "# зададим пространство поиска гиперпараметров\n",
    "param_distributions = {'penalty': ['l2', 'none'] ,\n",
    "              'solver': ['lbfgs', 'sag'],\n",
    "               'C': list(np.linspace(0.01, 10, 10, dtype=float))}\n",
    "            \n",
    "random_search = RandomizedSearchCV(\n",
    "    estimator=linear_model.LogisticRegression(random_state=42, max_iter=1000), \n",
    "    param_distributions=param_distributions, \n",
    "    cv=5, \n",
    "    n_iter = 50, \n",
    "    n_jobs = -1\n",
    ")\n",
    "\n",
    "#Обучаем модель\n",
    "%time random_search.fit(X_train, y_train)\n",
    "\n",
    "#Выводим значения метрики\n",
    "y_test_pred = random_search.predict(X_test)\n",
    "print('f1_score на тестовом наборе: {:.2f}'.format(metrics.f1_score(y_test, y_test_pred)))\n",
    "print(\"Наилучшие значения гиперпараметров: {}\".format(random_search.best_params_))"
   ]
  },
  {
   "cell_type": "markdown",
   "metadata": {},
   "source": [
    "### RandomForest"
   ]
  },
  {
   "cell_type": "code",
   "execution_count": 32,
   "metadata": {},
   "outputs": [
    {
     "name": "stderr",
     "output_type": "stream",
     "text": [
      "c:\\Python\\Python312\\Lib\\site-packages\\sklearn\\model_selection\\_search.py:318: UserWarning: The total space of parameters 40 is smaller than n_iter=50. Running 40 iterations. For exhaustive searches, use GridSearchCV.\n",
      "  warnings.warn(\n"
     ]
    },
    {
     "name": "stdout",
     "output_type": "stream",
     "text": [
      "CPU times: total: 3.45 s\n",
      "Wall time: 1min 40s\n",
      "f1_score на тестовом наборе: 0.83\n",
      "Наилучшие значения гиперпараметров: {'n_estimators': 130, 'min_samples_leaf': 5, 'max_depth': 15}\n"
     ]
    }
   ],
   "source": [
    "# зададим пространство поиска гиперпараметров\n",
    "param_distributions = {'n_estimators': list(range(100, 200, 30)),\n",
    "              'min_samples_leaf': [5, 7],\n",
    "              'max_depth': list(np.linspace(15, 40, 5, dtype=int))\n",
    "              }\n",
    "            \n",
    "random_search_forest = RandomizedSearchCV(\n",
    "    estimator=ensemble.RandomForestClassifier(random_state=42), \n",
    "    param_distributions=param_distributions, \n",
    "    cv=5,\n",
    "    n_iter = 50, \n",
    "    n_jobs = -1\n",
    ")\n",
    "\n",
    "#Обучаем модель\n",
    "%time random_search_forest.fit(X_train, y_train)\n",
    "\n",
    "#Выводим значения метрики\n",
    "y_test_pred = random_search_forest.predict(X_test)\n",
    "print('f1_score на тестовом наборе: {:.2f}'.format(metrics.f1_score(y_test, y_test_pred)))\n",
    "print(\"Наилучшие значения гиперпараметров: {}\".format(random_search_forest.best_params_))"
   ]
  },
  {
   "cell_type": "markdown",
   "metadata": {},
   "source": [
    "## Hyperopt\n",
    "\n",
    "### LogisticRegression"
   ]
  },
  {
   "cell_type": "code",
   "execution_count": 109,
   "metadata": {},
   "outputs": [],
   "source": [
    "# зададим пространство поиска гиперпараметров логистической регрессии\n",
    "pen = ['l1', 'l2']\n",
    "sol = ['liblinear', 'saga']\n",
    "space_lr = {'penalty': hp.choice('penalty', pen),\n",
    "              'solver': hp.choice('solver', sol),\n",
    "               'C': hp.uniform('C', 0.01, 1)}"
   ]
  },
  {
   "cell_type": "code",
   "execution_count": 110,
   "metadata": {},
   "outputs": [],
   "source": [
    "# зафиксируем random_state\n",
    "random_state = 42\n",
    "\n",
    "def hyperopt_lr(params, cv=5, X=X_train, y=y_train, random_state=random_state):\n",
    "    # функция получает комбинацию гиперпараметров в \"params\"\n",
    "    params = {'penalty': params['penalty'], \n",
    "              'solver': params['solver'], \n",
    "             'C': float(params['C'])\n",
    "              }\n",
    "  \n",
    "    # используем эту комбинацию для построения модели\n",
    "    model = linear_model.LogisticRegression(**params, random_state=42, max_iter=1000)\n",
    "\n",
    "    # обучаем модель\n",
    "    model.fit(X, y)\n",
    "\n",
    "    score = cross_val_score(model, X, y, cv=cv, scoring=\"f1\", n_jobs=-1).mean()\n",
    "\n",
    "    # метрику необходимо минимизировать, поэтому ставим знак минус\n",
    "    return -score"
   ]
  },
  {
   "cell_type": "code",
   "execution_count": 112,
   "metadata": {},
   "outputs": [
    {
     "name": "stdout",
     "output_type": "stream",
     "text": [
      "  5%|▌         | 1/20 [00:05<01:40,  5.28s/trial, best loss: -0.771966158616668]"
     ]
    },
    {
     "name": "stderr",
     "output_type": "stream",
     "text": [
      "c:\\Python\\Python312\\Lib\\site-packages\\sklearn\\linear_model\\_sag.py:350: ConvergenceWarning: The max_iter was reached which means the coef_ did not converge\n",
      "  warnings.warn(\n",
      "\n"
     ]
    },
    {
     "name": "stdout",
     "output_type": "stream",
     "text": [
      " 45%|████▌     | 9/20 [09:12<06:41, 36.46s/trial, best loss: -0.7833737934825968] "
     ]
    },
    {
     "name": "stderr",
     "output_type": "stream",
     "text": [
      "c:\\Python\\Python312\\Lib\\site-packages\\sklearn\\linear_model\\_sag.py:350: ConvergenceWarning: The max_iter was reached which means the coef_ did not converge\n",
      "  warnings.warn(\n",
      "\n"
     ]
    },
    {
     "name": "stdout",
     "output_type": "stream",
     "text": [
      " 65%|██████▌   | 13/20 [13:47<05:11, 44.44s/trial, best loss: -0.7839950244781424]"
     ]
    },
    {
     "name": "stderr",
     "output_type": "stream",
     "text": [
      "c:\\Python\\Python312\\Lib\\site-packages\\sklearn\\linear_model\\_sag.py:350: ConvergenceWarning: The max_iter was reached which means the coef_ did not converge\n",
      "  warnings.warn(\n",
      "\n"
     ]
    },
    {
     "name": "stdout",
     "output_type": "stream",
     "text": [
      " 70%|███████   | 14/20 [17:10<09:14, 92.48s/trial, best loss: -0.7839950244781424]"
     ]
    },
    {
     "name": "stderr",
     "output_type": "stream",
     "text": [
      "c:\\Python\\Python312\\Lib\\site-packages\\sklearn\\linear_model\\_sag.py:350: ConvergenceWarning: The max_iter was reached which means the coef_ did not converge\n",
      "  warnings.warn(\n",
      "\n"
     ]
    },
    {
     "name": "stdout",
     "output_type": "stream",
     "text": [
      " 90%|█████████ | 18/20 [23:03<02:35, 77.94s/trial, best loss: -0.7839950244781424] "
     ]
    },
    {
     "name": "stderr",
     "output_type": "stream",
     "text": [
      "c:\\Python\\Python312\\Lib\\site-packages\\sklearn\\linear_model\\_sag.py:350: ConvergenceWarning: The max_iter was reached which means the coef_ did not converge\n",
      "  warnings.warn(\n",
      "\n"
     ]
    },
    {
     "name": "stdout",
     "output_type": "stream",
     "text": [
      "100%|██████████| 20/20 [26:37<00:00, 79.88s/trial, best loss: -0.7839950244781424] \n",
      "Наилучшие значения гиперпараметров {'C': 0.4857515970241288, 'penalty': 0, 'solver': 1}\n",
      "CPU times: total: 7min 37s\n",
      "Wall time: 26min 37s\n"
     ]
    }
   ],
   "source": [
    "%%time\n",
    "# начинаем подбор гиперпараметров\n",
    "\n",
    "trials_lr = Trials() # используется для логирования результатов\n",
    "\n",
    "best_lr=fmin(hyperopt_lr, # наша функция \n",
    "          space=space_lr, # пространство гиперпараметров\n",
    "          algo=tpe.suggest, # алгоритм оптимизации, установлен по умолчанию, задавать необязательно\n",
    "          max_evals=20, # максимальное количество итераций\n",
    "          trials=trials_lr, # логирование результатов\n",
    "          rstate=np.random.default_rng(random_state)# фиксируем для повторяемости результата\n",
    "         )\n",
    "print(\"Наилучшие значения гиперпараметров {}\".format(best_lr))"
   ]
  },
  {
   "cell_type": "code",
   "execution_count": 138,
   "metadata": {},
   "outputs": [
    {
     "name": "stdout",
     "output_type": "stream",
     "text": [
      "f1_score на тестовом наборе: 0.79\n"
     ]
    },
    {
     "name": "stderr",
     "output_type": "stream",
     "text": [
      "c:\\Python\\Python312\\Lib\\site-packages\\sklearn\\linear_model\\_sag.py:350: ConvergenceWarning: The max_iter was reached which means the coef_ did not converge\n",
      "  warnings.warn(\n"
     ]
    }
   ],
   "source": [
    "# рассчитаем точность для тестовой выборки\n",
    "model_lr = linear_model.LogisticRegression(\n",
    "    random_state=random_state,\n",
    "    max_iter=1000,\n",
    "    penalty=pen[best_lr['penalty']],\n",
    "    solver=sol[best_lr['solver']],\n",
    "    C=float(best_lr['C'])\n",
    ")\n",
    "model_lr.fit(X_train, y_train)\n",
    "y_test_pred_lr = model_lr.predict(X_test)\n",
    "print('f1_score на тестовом наборе: {:.2f}'.format(metrics.f1_score(y_test, y_test_pred_lr)))"
   ]
  },
  {
   "cell_type": "code",
   "execution_count": 114,
   "metadata": {},
   "outputs": [
    {
     "name": "stdout",
     "output_type": "stream",
     "text": [
      " 40%|████      | 20/50 [00:00<?, ?trial/s, best loss=?]"
     ]
    },
    {
     "name": "stderr",
     "output_type": "stream",
     "text": [
      "c:\\Python\\Python312\\Lib\\site-packages\\sklearn\\linear_model\\_sag.py:350: ConvergenceWarning: The max_iter was reached which means the coef_ did not converge\n",
      "  warnings.warn(\n",
      "\n"
     ]
    },
    {
     "name": "stdout",
     "output_type": "stream",
     "text": [
      " 42%|████▏     | 21/50 [03:10<1:32:13, 190.81s/trial, best loss: -0.7843672038523106]"
     ]
    },
    {
     "name": "stderr",
     "output_type": "stream",
     "text": [
      "c:\\Python\\Python312\\Lib\\site-packages\\sklearn\\linear_model\\_sag.py:350: ConvergenceWarning: The max_iter was reached which means the coef_ did not converge\n",
      "  warnings.warn(\n",
      "\n"
     ]
    },
    {
     "name": "stdout",
     "output_type": "stream",
     "text": [
      " 44%|████▍     | 22/50 [06:28<1:30:59, 194.97s/trial, best loss: -0.7843672038523106]"
     ]
    },
    {
     "name": "stderr",
     "output_type": "stream",
     "text": [
      "c:\\Python\\Python312\\Lib\\site-packages\\sklearn\\linear_model\\_sag.py:350: ConvergenceWarning: The max_iter was reached which means the coef_ did not converge\n",
      "  warnings.warn(\n",
      "\n"
     ]
    },
    {
     "name": "stdout",
     "output_type": "stream",
     "text": [
      " 46%|████▌     | 23/50 [09:48<1:28:44, 197.20s/trial, best loss: -0.7843672038523106]"
     ]
    },
    {
     "name": "stderr",
     "output_type": "stream",
     "text": [
      "c:\\Python\\Python312\\Lib\\site-packages\\sklearn\\linear_model\\_sag.py:350: ConvergenceWarning: The max_iter was reached which means the coef_ did not converge\n",
      "  warnings.warn(\n",
      "\n"
     ]
    },
    {
     "name": "stdout",
     "output_type": "stream",
     "text": [
      " 48%|████▊     | 24/50 [13:06<1:25:33, 197.44s/trial, best loss: -0.7843672038523106]"
     ]
    },
    {
     "name": "stderr",
     "output_type": "stream",
     "text": [
      "c:\\Python\\Python312\\Lib\\site-packages\\sklearn\\linear_model\\_sag.py:350: ConvergenceWarning: The max_iter was reached which means the coef_ did not converge\n",
      "  warnings.warn(\n",
      "\n"
     ]
    },
    {
     "name": "stdout",
     "output_type": "stream",
     "text": [
      " 50%|█████     | 25/50 [16:19<1:21:36, 195.86s/trial, best loss: -0.7843672038523106]"
     ]
    },
    {
     "name": "stderr",
     "output_type": "stream",
     "text": [
      "c:\\Python\\Python312\\Lib\\site-packages\\sklearn\\linear_model\\_sag.py:350: ConvergenceWarning: The max_iter was reached which means the coef_ did not converge\n",
      "  warnings.warn(\n",
      "\n"
     ]
    },
    {
     "name": "stdout",
     "output_type": "stream",
     "text": [
      " 52%|█████▏    | 26/50 [18:57<1:13:11, 183.00s/trial, best loss: -0.7843672038523106]"
     ]
    },
    {
     "name": "stderr",
     "output_type": "stream",
     "text": [
      "c:\\Python\\Python312\\Lib\\site-packages\\sklearn\\linear_model\\_sag.py:350: ConvergenceWarning: The max_iter was reached which means the coef_ did not converge\n",
      "  warnings.warn(\n",
      "\n"
     ]
    },
    {
     "name": "stdout",
     "output_type": "stream",
     "text": [
      " 54%|█████▍    | 27/50 [21:55<1:09:34, 181.50s/trial, best loss: -0.7855542288452043]"
     ]
    },
    {
     "name": "stderr",
     "output_type": "stream",
     "text": [
      "c:\\Python\\Python312\\Lib\\site-packages\\sklearn\\linear_model\\_sag.py:350: ConvergenceWarning: The max_iter was reached which means the coef_ did not converge\n",
      "  warnings.warn(\n",
      "\n"
     ]
    },
    {
     "name": "stdout",
     "output_type": "stream",
     "text": [
      " 56%|█████▌    | 28/50 [25:02<1:07:06, 183.00s/trial, best loss: -0.7855542288452043]"
     ]
    },
    {
     "name": "stderr",
     "output_type": "stream",
     "text": [
      "c:\\Python\\Python312\\Lib\\site-packages\\sklearn\\linear_model\\_sag.py:350: ConvergenceWarning: The max_iter was reached which means the coef_ did not converge\n",
      "  warnings.warn(\n",
      "\n"
     ]
    },
    {
     "name": "stdout",
     "output_type": "stream",
     "text": [
      " 58%|█████▊    | 29/50 [28:11<1:04:44, 184.99s/trial, best loss: -0.7855542288452043]"
     ]
    },
    {
     "name": "stderr",
     "output_type": "stream",
     "text": [
      "c:\\Python\\Python312\\Lib\\site-packages\\sklearn\\linear_model\\_sag.py:350: ConvergenceWarning: The max_iter was reached which means the coef_ did not converge\n",
      "  warnings.warn(\n",
      "\n"
     ]
    },
    {
     "name": "stdout",
     "output_type": "stream",
     "text": [
      " 60%|██████    | 30/50 [31:18<1:01:51, 185.59s/trial, best loss: -0.7855542288452043]"
     ]
    },
    {
     "name": "stderr",
     "output_type": "stream",
     "text": [
      "c:\\Python\\Python312\\Lib\\site-packages\\sklearn\\linear_model\\_sag.py:350: ConvergenceWarning: The max_iter was reached which means the coef_ did not converge\n",
      "  warnings.warn(\n",
      "\n"
     ]
    },
    {
     "name": "stdout",
     "output_type": "stream",
     "text": [
      " 62%|██████▏   | 31/50 [34:29<59:17, 187.26s/trial, best loss: -0.7855542288452043]  "
     ]
    },
    {
     "name": "stderr",
     "output_type": "stream",
     "text": [
      "c:\\Python\\Python312\\Lib\\site-packages\\sklearn\\linear_model\\_sag.py:350: ConvergenceWarning: The max_iter was reached which means the coef_ did not converge\n",
      "  warnings.warn(\n",
      "\n"
     ]
    },
    {
     "name": "stdout",
     "output_type": "stream",
     "text": [
      " 64%|██████▍   | 32/50 [37:30<55:38, 185.47s/trial, best loss: -0.7855542288452043]"
     ]
    },
    {
     "name": "stderr",
     "output_type": "stream",
     "text": [
      "c:\\Python\\Python312\\Lib\\site-packages\\sklearn\\linear_model\\_sag.py:350: ConvergenceWarning: The max_iter was reached which means the coef_ did not converge\n",
      "  warnings.warn(\n",
      "\n"
     ]
    },
    {
     "name": "stdout",
     "output_type": "stream",
     "text": [
      " 66%|██████▌   | 33/50 [40:37<52:38, 185.81s/trial, best loss: -0.7855542288452043]"
     ]
    },
    {
     "name": "stderr",
     "output_type": "stream",
     "text": [
      "c:\\Python\\Python312\\Lib\\site-packages\\sklearn\\linear_model\\_sag.py:350: ConvergenceWarning: The max_iter was reached which means the coef_ did not converge\n",
      "  warnings.warn(\n",
      "\n"
     ]
    },
    {
     "name": "stdout",
     "output_type": "stream",
     "text": [
      " 70%|███████   | 35/50 [44:47<36:58, 147.91s/trial, best loss: -0.7855542288452043]"
     ]
    },
    {
     "name": "stderr",
     "output_type": "stream",
     "text": [
      "c:\\Python\\Python312\\Lib\\site-packages\\sklearn\\linear_model\\_sag.py:350: ConvergenceWarning: The max_iter was reached which means the coef_ did not converge\n",
      "  warnings.warn(\n",
      "\n"
     ]
    },
    {
     "name": "stdout",
     "output_type": "stream",
     "text": [
      " 76%|███████▌  | 38/50 [49:08<19:47, 98.94s/trial, best loss: -0.7855542288452043] "
     ]
    },
    {
     "name": "stderr",
     "output_type": "stream",
     "text": [
      "c:\\Python\\Python312\\Lib\\site-packages\\sklearn\\linear_model\\_sag.py:350: ConvergenceWarning: The max_iter was reached which means the coef_ did not converge\n",
      "  warnings.warn(\n",
      "\n"
     ]
    },
    {
     "name": "stdout",
     "output_type": "stream",
     "text": [
      " 86%|████████▌ | 43/50 [55:02<07:04, 60.69s/trial, best loss: -0.7855542288452043] "
     ]
    },
    {
     "name": "stderr",
     "output_type": "stream",
     "text": [
      "c:\\Python\\Python312\\Lib\\site-packages\\sklearn\\linear_model\\_sag.py:350: ConvergenceWarning: The max_iter was reached which means the coef_ did not converge\n",
      "  warnings.warn(\n",
      "\n"
     ]
    },
    {
     "name": "stdout",
     "output_type": "stream",
     "text": [
      " 98%|█████████▊| 49/50 [1:02:50<01:01, 61.24s/trial, best loss: -0.7855542288452043]"
     ]
    },
    {
     "name": "stderr",
     "output_type": "stream",
     "text": [
      "c:\\Python\\Python312\\Lib\\site-packages\\sklearn\\linear_model\\_sag.py:350: ConvergenceWarning: The max_iter was reached which means the coef_ did not converge\n",
      "  warnings.warn(\n",
      "\n"
     ]
    },
    {
     "name": "stdout",
     "output_type": "stream",
     "text": [
      "100%|██████████| 50/50 [1:06:08<00:00, 132.28s/trial, best loss: -0.7855542288452043]\n",
      "Наилучшие значения гиперпараметров {'C': 0.41809334370290907, 'penalty': 0, 'solver': 1}\n"
     ]
    }
   ],
   "source": [
    "best_lr=fmin(hyperopt_lr, # наша функция \n",
    "          space=space_lr, # пространство гиперпараметров\n",
    "          algo=tpe.suggest, # алгоритм оптимизации, установлен по умолчанию, задавать необязательно\n",
    "          max_evals=50, # максимальное количество итераций\n",
    "          trials=trials_lr, # логирование результатов\n",
    "          rstate=np.random.default_rng(random_state)# фиксируем для повторяемости результата\n",
    "         )\n",
    "print(\"Наилучшие значения гиперпараметров {}\".format(best_lr))"
   ]
  },
  {
   "cell_type": "code",
   "execution_count": 139,
   "metadata": {},
   "outputs": [
    {
     "name": "stdout",
     "output_type": "stream",
     "text": [
      "f1_score на тестовом наборе: 0.79\n"
     ]
    },
    {
     "name": "stderr",
     "output_type": "stream",
     "text": [
      "c:\\Python\\Python312\\Lib\\site-packages\\sklearn\\linear_model\\_sag.py:350: ConvergenceWarning: The max_iter was reached which means the coef_ did not converge\n",
      "  warnings.warn(\n"
     ]
    }
   ],
   "source": [
    "# рассчитаем точность для тестовой выборки\n",
    "model_lr = linear_model.LogisticRegression(\n",
    "    random_state=random_state,\n",
    "    max_iter=1000,\n",
    "    penalty=pen[best_lr['penalty']],\n",
    "    solver=sol[best_lr['solver']],\n",
    "    C=float(best_lr['C'])\n",
    ")\n",
    "model_lr.fit(X_train, y_train)\n",
    "y_test_pred_lr = model_lr.predict(X_test)\n",
    "print('f1_score на тестовом наборе: {:.2f}'.format(metrics.f1_score(y_test, y_test_pred_lr)))"
   ]
  },
  {
   "cell_type": "markdown",
   "metadata": {},
   "source": [
    "### RandomForest"
   ]
  },
  {
   "cell_type": "code",
   "execution_count": 116,
   "metadata": {},
   "outputs": [],
   "source": [
    "# зададим пространство поиска гиперпараметров случайного леса\n",
    "space_rf={'n_estimators': hp.quniform('n_estimators', 100, 300, 10),\n",
    "       'max_depth' : hp.quniform('max_depth', 15, 40, 1),\n",
    "       'min_samples_leaf': hp.quniform('min_samples_leaf', 2, 10, 1)\n",
    "      }"
   ]
  },
  {
   "cell_type": "code",
   "execution_count": 117,
   "metadata": {},
   "outputs": [],
   "source": [
    "def hyperopt_rf(params, cv=5, X=X_train, y=y_train, random_state=random_state):\n",
    "    # функция получает комбинацию гиперпараметров в \"params\"\n",
    "    params = {'n_estimators': int(params['n_estimators']), \n",
    "              'max_depth': int(params['max_depth']), \n",
    "             'min_samples_leaf': int(params['min_samples_leaf'])\n",
    "              }\n",
    "  \n",
    "    # используем эту комбинацию для построения модели\n",
    "    model = ensemble.RandomForestClassifier(**params, random_state=random_state)\n",
    "\n",
    "    # обучаем модель\n",
    "    model.fit(X, y)\n",
    "\n",
    "    score = cross_val_score(model, X, y, cv=cv, scoring=\"f1\", n_jobs=-1).mean()\n",
    "\n",
    "    # метрику необходимо минимизировать, поэтому ставим знак минус\n",
    "    return -score"
   ]
  },
  {
   "cell_type": "code",
   "execution_count": 118,
   "metadata": {},
   "outputs": [
    {
     "name": "stdout",
     "output_type": "stream",
     "text": [
      "100%|██████████| 30/30 [03:56<00:00,  7.88s/trial, best loss: -0.8118379122354072]\n",
      "Наилучшие значения гиперпараметров {'max_depth': 21.0, 'min_samples_leaf': 2.0, 'n_estimators': 220.0}\n",
      "CPU times: total: 1min 7s\n",
      "Wall time: 3min 56s\n"
     ]
    }
   ],
   "source": [
    "%%time\n",
    "# начинаем подбор гиперпараметров\n",
    "\n",
    "trials_rf = Trials() # используется для логирования результатов\n",
    "\n",
    "best_rf=fmin(hyperopt_rf, # наша функция \n",
    "          space=space_rf, # пространство гиперпараметров\n",
    "          algo=tpe.suggest, # алгоритм оптимизации, установлен по умолчанию, задавать необязательно\n",
    "          max_evals=30, # максимальное количество итераций\n",
    "          trials=trials_rf, # логирование результатов\n",
    "          rstate=np.random.default_rng(random_state)# фиксируем для повторяемости результата\n",
    "         )\n",
    "print(\"Наилучшие значения гиперпараметров {}\".format(best_rf))"
   ]
  },
  {
   "cell_type": "code",
   "execution_count": 119,
   "metadata": {},
   "outputs": [
    {
     "name": "stdout",
     "output_type": "stream",
     "text": [
      "f1_score на тестовом наборе: 0.84\n"
     ]
    }
   ],
   "source": [
    "# рассчитаем точность для тестовой выборки\n",
    "model_rf = ensemble.RandomForestClassifier(\n",
    "    random_state=random_state, \n",
    "    n_estimators=int(best_rf['n_estimators']),\n",
    "    max_depth=int(best_rf['max_depth']),\n",
    "    min_samples_leaf=int(best_rf['min_samples_leaf'])\n",
    ")\n",
    "model_rf.fit(X_train, y_train)\n",
    "y_test_pred_rf = model_rf.predict(X_test)\n",
    "print('f1_score на тестовом наборе: {:.2f}'.format(metrics.f1_score(y_test, y_test_pred_rf)))"
   ]
  },
  {
   "cell_type": "code",
   "execution_count": 120,
   "metadata": {},
   "outputs": [
    {
     "name": "stdout",
     "output_type": "stream",
     "text": [
      "100%|██████████| 50/50 [02:34<00:00,  7.73s/trial, best loss: -0.8118379122354072]\n",
      "Наилучшие значения гиперпараметров {'max_depth': 21.0, 'min_samples_leaf': 2.0, 'n_estimators': 220.0}\n"
     ]
    }
   ],
   "source": [
    "best_rf=fmin(hyperopt_rf, # наша функция \n",
    "          space=space_rf, # пространство гиперпараметров\n",
    "          algo=tpe.suggest, # алгоритм оптимизации, установлен по умолчанию, задавать необязательно\n",
    "          max_evals=50, # максимальное количество итераций\n",
    "          trials=trials_rf, # логирование результатов\n",
    "          rstate=np.random.default_rng(random_state)# фиксируем для повторяемости результата\n",
    "         )\n",
    "print(\"Наилучшие значения гиперпараметров {}\".format(best_rf))"
   ]
  },
  {
   "cell_type": "code",
   "execution_count": 121,
   "metadata": {},
   "outputs": [
    {
     "name": "stdout",
     "output_type": "stream",
     "text": [
      "f1_score на тестовом наборе: 0.84\n"
     ]
    }
   ],
   "source": [
    "# рассчитаем точность для тестовой выборки\n",
    "model_rf = ensemble.RandomForestClassifier(\n",
    "    random_state=random_state, \n",
    "    n_estimators=int(best_rf['n_estimators']),\n",
    "    max_depth=int(best_rf['max_depth']),\n",
    "    min_samples_leaf=int(best_rf['min_samples_leaf'])\n",
    ")\n",
    "model_rf.fit(X_train, y_train)\n",
    "y_test_pred_rf = model_rf.predict(X_test)\n",
    "print('f1_score на тестовом наборе: {:.2f}'.format(metrics.f1_score(y_test, y_test_pred_rf)))"
   ]
  },
  {
   "cell_type": "markdown",
   "metadata": {},
   "source": [
    "## Optuna\n",
    "### LogisticRegression"
   ]
  },
  {
   "cell_type": "code",
   "execution_count": 140,
   "metadata": {},
   "outputs": [],
   "source": [
    "pen = ['l1', 'l2']\n",
    "sol = ['liblinear', 'saga']\n",
    "\n",
    "def optuna_lr(trial, cv=5, X=X_train, y=y_train):\n",
    "  # задаем пространства поиска гиперпараметров\n",
    "  penalty = trial.suggest_categorical('penalty', pen)\n",
    "  solver = trial.suggest_categorical('solver', sol)\n",
    "  C = trial.suggest_float('C', 2, 10)\n",
    "\n",
    "  # создаем модель\n",
    "  model = linear_model.LogisticRegression(penalty=penalty,\n",
    "                                          solver=solver,\n",
    "                                          C=C,\n",
    "                                          random_state=random_state,\n",
    "                                          max_iter=1000)\n",
    "  # обучаем модель\n",
    "  model.fit(X, y)\n",
    "  score = cross_val_score(model, X, y, cv=cv, scoring=\"f1\", n_jobs=-1).mean()\n",
    "\n",
    "  return score"
   ]
  },
  {
   "cell_type": "code",
   "execution_count": 141,
   "metadata": {},
   "outputs": [
    {
     "name": "stderr",
     "output_type": "stream",
     "text": [
      "[I 2024-05-23 19:51:08,938] A new study created in memory with name: LogisticRegression\n",
      "c:\\Python\\Python312\\Lib\\site-packages\\sklearn\\linear_model\\_sag.py:350: ConvergenceWarning: The max_iter was reached which means the coef_ did not converge\n",
      "  warnings.warn(\n",
      "[I 2024-05-23 19:55:59,662] Trial 0 finished with value: 0.7640738320877152 and parameters: {'penalty': 'l1', 'solver': 'saga', 'C': 4.5752710618796035}. Best is trial 0 with value: 0.7640738320877152.\n",
      "[I 2024-05-23 19:56:07,565] Trial 1 finished with value: 0.764361394454163 and parameters: {'penalty': 'l2', 'solver': 'liblinear', 'C': 9.419166864446495}. Best is trial 1 with value: 0.764361394454163.\n",
      "c:\\Python\\Python312\\Lib\\site-packages\\sklearn\\linear_model\\_sag.py:350: ConvergenceWarning: The max_iter was reached which means the coef_ did not converge\n",
      "  warnings.warn(\n",
      "[I 2024-05-23 20:00:39,871] Trial 2 finished with value: 0.7634000007148927 and parameters: {'penalty': 'l1', 'solver': 'saga', 'C': 9.110378207408214}. Best is trial 1 with value: 0.764361394454163.\n",
      "c:\\Python\\Python312\\Lib\\site-packages\\sklearn\\linear_model\\_sag.py:350: ConvergenceWarning: The max_iter was reached which means the coef_ did not converge\n",
      "  warnings.warn(\n",
      "[I 2024-05-23 20:05:00,748] Trial 3 finished with value: 0.7635964204274079 and parameters: {'penalty': 'l1', 'solver': 'saga', 'C': 5.207576433392381}. Best is trial 1 with value: 0.764361394454163.\n",
      "[I 2024-05-23 20:05:07,380] Trial 4 finished with value: 0.7650680983346775 and parameters: {'penalty': 'l2', 'solver': 'liblinear', 'C': 7.490912643367783}. Best is trial 4 with value: 0.7650680983346775.\n",
      "c:\\Python\\Python312\\Lib\\site-packages\\sklearn\\linear_model\\_sag.py:350: ConvergenceWarning: The max_iter was reached which means the coef_ did not converge\n",
      "  warnings.warn(\n",
      "[I 2024-05-23 20:09:36,713] Trial 5 finished with value: 0.7635971883714763 and parameters: {'penalty': 'l1', 'solver': 'saga', 'C': 4.393979787522481}. Best is trial 4 with value: 0.7650680983346775.\n",
      "c:\\Python\\Python312\\Lib\\site-packages\\sklearn\\linear_model\\_sag.py:350: ConvergenceWarning: The max_iter was reached which means the coef_ did not converge\n",
      "  warnings.warn(\n",
      "[I 2024-05-23 20:11:53,434] Trial 6 finished with value: 0.7690221459397301 and parameters: {'penalty': 'l2', 'solver': 'saga', 'C': 2.708383231872099}. Best is trial 6 with value: 0.7690221459397301.\n",
      "c:\\Python\\Python312\\Lib\\site-packages\\sklearn\\linear_model\\_sag.py:350: ConvergenceWarning: The max_iter was reached which means the coef_ did not converge\n",
      "  warnings.warn(\n",
      "[I 2024-05-23 20:15:53,220] Trial 7 finished with value: 0.7667324523580172 and parameters: {'penalty': 'l1', 'solver': 'saga', 'C': 2.969551835287213}. Best is trial 6 with value: 0.7690221459397301.\n",
      "c:\\Python\\Python312\\Lib\\site-packages\\sklearn\\linear_model\\_sag.py:350: ConvergenceWarning: The max_iter was reached which means the coef_ did not converge\n",
      "  warnings.warn(\n",
      "[I 2024-05-23 20:20:07,151] Trial 8 finished with value: 0.7651354527782364 and parameters: {'penalty': 'l1', 'solver': 'saga', 'C': 7.385040975525885}. Best is trial 6 with value: 0.7690221459397301.\n",
      "[I 2024-05-23 20:20:12,886] Trial 9 finished with value: 0.7676382622186886 and parameters: {'penalty': 'l2', 'solver': 'liblinear', 'C': 6.112089436027408}. Best is trial 6 with value: 0.7690221459397301.\n",
      "[I 2024-05-23 20:20:15,590] Trial 10 finished with value: 0.7703517466419448 and parameters: {'penalty': 'l2', 'solver': 'liblinear', 'C': 2.070231178378463}. Best is trial 10 with value: 0.7703517466419448.\n",
      "[I 2024-05-23 20:20:18,052] Trial 11 finished with value: 0.7707333750503635 and parameters: {'penalty': 'l2', 'solver': 'liblinear', 'C': 2.001041233100372}. Best is trial 11 with value: 0.7707333750503635.\n",
      "[I 2024-05-23 20:20:20,552] Trial 12 finished with value: 0.7703517466419448 and parameters: {'penalty': 'l2', 'solver': 'liblinear', 'C': 2.032071119744196}. Best is trial 11 with value: 0.7707333750503635.\n",
      "[I 2024-05-23 20:20:23,609] Trial 13 finished with value: 0.7679438131562263 and parameters: {'penalty': 'l2', 'solver': 'liblinear', 'C': 3.4618134646724714}. Best is trial 11 with value: 0.7707333750503635.\n",
      "[I 2024-05-23 20:20:26,275] Trial 14 finished with value: 0.7703517466419448 and parameters: {'penalty': 'l2', 'solver': 'liblinear', 'C': 2.0353273284882474}. Best is trial 11 with value: 0.7707333750503635.\n",
      "[I 2024-05-23 20:20:29,124] Trial 15 finished with value: 0.7669424076525065 and parameters: {'penalty': 'l2', 'solver': 'liblinear', 'C': 3.6933094059606746}. Best is trial 11 with value: 0.7707333750503635.\n",
      "[I 2024-05-23 20:20:32,683] Trial 16 finished with value: 0.7674915425750739 and parameters: {'penalty': 'l2', 'solver': 'liblinear', 'C': 5.866341824224326}. Best is trial 11 with value: 0.7707333750503635.\n",
      "[I 2024-05-23 20:20:36,078] Trial 17 finished with value: 0.7675635329173767 and parameters: {'penalty': 'l2', 'solver': 'liblinear', 'C': 3.935397764111516}. Best is trial 11 with value: 0.7707333750503635.\n",
      "[I 2024-05-23 20:20:38,854] Trial 18 finished with value: 0.7681413414474901 and parameters: {'penalty': 'l2', 'solver': 'liblinear', 'C': 2.7289263127813745}. Best is trial 11 with value: 0.7707333750503635.\n",
      "[I 2024-05-23 20:20:42,721] Trial 19 finished with value: 0.7659253971657315 and parameters: {'penalty': 'l2', 'solver': 'liblinear', 'C': 7.386758096592396}. Best is trial 11 with value: 0.7707333750503635.\n"
     ]
    },
    {
     "name": "stdout",
     "output_type": "stream",
     "text": [
      "CPU times: total: 9min 38s\n",
      "Wall time: 29min 33s\n"
     ]
    }
   ],
   "source": [
    "%%time\n",
    "# cоздаем объект исследования\n",
    "# можем напрямую указать, что нам необходимо максимизировать метрику direction=\"maximize\"\n",
    "study_lr = optuna.create_study(study_name=\"LogisticRegression\", direction=\"maximize\")\n",
    "# ищем лучшую комбинацию гиперпараметров n_trials раз\n",
    "study_lr.optimize(optuna_lr, n_trials=20)"
   ]
  },
  {
   "cell_type": "code",
   "execution_count": 142,
   "metadata": {},
   "outputs": [
    {
     "name": "stdout",
     "output_type": "stream",
     "text": [
      "f1_score на тестовом наборе: 0.79\n"
     ]
    }
   ],
   "source": [
    "# рассчитаем точность для тестовой выборки\n",
    "model_lr = linear_model.LogisticRegression(**study_lr.best_params,random_state=random_state, max_iter=1000)\n",
    "model_lr.fit(X_train, y_train)\n",
    "y_test_pred_lr = model_lr.predict(X_test)\n",
    "print('f1_score на тестовом наборе: {:.2f}'.format(metrics.f1_score(y_test, y_test_pred_lr)))"
   ]
  },
  {
   "cell_type": "code",
   "execution_count": 143,
   "metadata": {},
   "outputs": [
    {
     "name": "stderr",
     "output_type": "stream",
     "text": [
      "[I 2024-05-23 20:20:47,540] Trial 20 finished with value: 0.7677022694512562 and parameters: {'penalty': 'l2', 'solver': 'liblinear', 'C': 5.018153917843323}. Best is trial 11 with value: 0.7707333750503635.\n",
      "[I 2024-05-23 20:20:50,255] Trial 21 finished with value: 0.7688695063357643 and parameters: {'penalty': 'l2', 'solver': 'liblinear', 'C': 2.232900652080941}. Best is trial 11 with value: 0.7707333750503635.\n",
      "[I 2024-05-23 20:20:52,892] Trial 22 finished with value: 0.7691184402020911 and parameters: {'penalty': 'l2', 'solver': 'liblinear', 'C': 2.1990366062589755}. Best is trial 11 with value: 0.7707333750503635.\n",
      "[I 2024-05-23 20:20:55,725] Trial 23 finished with value: 0.7682864133145701 and parameters: {'penalty': 'l2', 'solver': 'liblinear', 'C': 3.1432932514034375}. Best is trial 11 with value: 0.7707333750503635.\n",
      "[I 2024-05-23 20:20:58,643] Trial 24 finished with value: 0.7685283966293417 and parameters: {'penalty': 'l2', 'solver': 'liblinear', 'C': 2.6295804901366493}. Best is trial 11 with value: 0.7707333750503635.\n",
      "[I 2024-05-23 20:21:01,213] Trial 25 finished with value: 0.7707333750503635 and parameters: {'penalty': 'l2', 'solver': 'liblinear', 'C': 2.0277879661972373}. Best is trial 11 with value: 0.7707333750503635.\n",
      "[I 2024-05-23 20:21:04,306] Trial 26 finished with value: 0.7673274009735229 and parameters: {'penalty': 'l2', 'solver': 'liblinear', 'C': 4.0105803589927635}. Best is trial 11 with value: 0.7707333750503635.\n",
      "[I 2024-05-23 20:21:07,184] Trial 27 finished with value: 0.7682864133145701 and parameters: {'penalty': 'l2', 'solver': 'liblinear', 'C': 3.1350202970011}. Best is trial 11 with value: 0.7707333750503635.\n",
      "[I 2024-05-23 20:21:11,414] Trial 28 finished with value: 0.7649168131232403 and parameters: {'penalty': 'l2', 'solver': 'liblinear', 'C': 8.455783914329949}. Best is trial 11 with value: 0.7707333750503635.\n",
      "[I 2024-05-23 20:21:22,368] Trial 29 finished with value: 0.7636823857683884 and parameters: {'penalty': 'l1', 'solver': 'liblinear', 'C': 4.4462174930438625}. Best is trial 11 with value: 0.7707333750503635.\n",
      "[I 2024-05-23 20:21:25,333] Trial 30 finished with value: 0.7683195098596066 and parameters: {'penalty': 'l2', 'solver': 'liblinear', 'C': 3.450711047820221}. Best is trial 11 with value: 0.7707333750503635.\n",
      "[I 2024-05-23 20:21:28,365] Trial 31 finished with value: 0.7697338248174757 and parameters: {'penalty': 'l2', 'solver': 'liblinear', 'C': 2.1095511708411174}. Best is trial 11 with value: 0.7707333750503635.\n",
      "[I 2024-05-23 20:21:31,435] Trial 32 finished with value: 0.7690335494139527 and parameters: {'penalty': 'l2', 'solver': 'liblinear', 'C': 2.50530130957003}. Best is trial 11 with value: 0.7707333750503635.\n",
      "[I 2024-05-23 20:21:34,422] Trial 33 finished with value: 0.7703517466419448 and parameters: {'penalty': 'l2', 'solver': 'liblinear', 'C': 2.03084483686588}. Best is trial 11 with value: 0.7707333750503635.\n",
      "[I 2024-05-23 20:21:37,607] Trial 34 finished with value: 0.7681388492073691 and parameters: {'penalty': 'l2', 'solver': 'liblinear', 'C': 3.183818605732845}. Best is trial 11 with value: 0.7707333750503635.\n",
      "c:\\Python\\Python312\\Lib\\site-packages\\sklearn\\linear_model\\_sag.py:350: ConvergenceWarning: The max_iter was reached which means the coef_ did not converge\n",
      "  warnings.warn(\n",
      "[I 2024-05-23 20:25:25,977] Trial 35 finished with value: 0.7686822956970893 and parameters: {'penalty': 'l1', 'solver': 'saga', 'C': 2.568745816268594}. Best is trial 11 with value: 0.7707333750503635.\n",
      "[I 2024-05-23 20:25:29,342] Trial 36 finished with value: 0.7673277287377325 and parameters: {'penalty': 'l2', 'solver': 'liblinear', 'C': 4.946567613981411}. Best is trial 11 with value: 0.7707333750503635.\n",
      "c:\\Python\\Python312\\Lib\\site-packages\\sklearn\\linear_model\\_sag.py:350: ConvergenceWarning: The max_iter was reached which means the coef_ did not converge\n",
      "  warnings.warn(\n",
      "[I 2024-05-23 20:27:43,304] Trial 37 finished with value: 0.7672252285659555 and parameters: {'penalty': 'l2', 'solver': 'saga', 'C': 4.101137817768619}. Best is trial 11 with value: 0.7707333750503635.\n",
      "[I 2024-05-23 20:27:56,945] Trial 38 finished with value: 0.7613681776423277 and parameters: {'penalty': 'l1', 'solver': 'liblinear', 'C': 5.708991492154162}. Best is trial 11 with value: 0.7707333750503635.\n",
      "c:\\Python\\Python312\\Lib\\site-packages\\sklearn\\linear_model\\_sag.py:350: ConvergenceWarning: The max_iter was reached which means the coef_ did not converge\n",
      "  warnings.warn(\n",
      "[I 2024-05-23 20:30:07,255] Trial 39 finished with value: 0.7667323603940303 and parameters: {'penalty': 'l2', 'solver': 'saga', 'C': 6.62843442909037}. Best is trial 11 with value: 0.7707333750503635.\n",
      "[I 2024-05-23 20:30:23,501] Trial 40 finished with value: 0.7508955148864116 and parameters: {'penalty': 'l1', 'solver': 'liblinear', 'C': 9.726569731118694}. Best is trial 11 with value: 0.7707333750503635.\n",
      "[I 2024-05-23 20:30:26,049] Trial 41 finished with value: 0.7694061937188005 and parameters: {'penalty': 'l2', 'solver': 'liblinear', 'C': 2.4821388207135344}. Best is trial 11 with value: 0.7707333750503635.\n",
      "[I 2024-05-23 20:30:28,536] Trial 42 finished with value: 0.7703517466419448 and parameters: {'penalty': 'l2', 'solver': 'liblinear', 'C': 2.0601003100496573}. Best is trial 11 with value: 0.7707333750503635.\n",
      "[I 2024-05-23 20:30:31,204] Trial 43 finished with value: 0.7669150859893266 and parameters: {'penalty': 'l2', 'solver': 'liblinear', 'C': 2.857328549625574}. Best is trial 11 with value: 0.7707333750503635.\n",
      "[I 2024-05-23 20:30:33,962] Trial 44 finished with value: 0.7675605074056888 and parameters: {'penalty': 'l2', 'solver': 'liblinear', 'C': 3.472659708009216}. Best is trial 11 with value: 0.7707333750503635.\n",
      "[I 2024-05-23 20:30:36,515] Trial 45 finished with value: 0.7697800215165292 and parameters: {'penalty': 'l2', 'solver': 'liblinear', 'C': 2.4215071052994865}. Best is trial 11 with value: 0.7707333750503635.\n",
      "c:\\Python\\Python312\\Lib\\site-packages\\sklearn\\linear_model\\_sag.py:350: ConvergenceWarning: The max_iter was reached which means the coef_ did not converge\n",
      "  warnings.warn(\n",
      "[I 2024-05-23 20:32:46,567] Trial 46 finished with value: 0.7697809337648281 and parameters: {'penalty': 'l2', 'solver': 'saga', 'C': 2.872006092585554}. Best is trial 11 with value: 0.7707333750503635.\n",
      "[I 2024-05-23 20:32:49,349] Trial 47 finished with value: 0.7707333750503635 and parameters: {'penalty': 'l2', 'solver': 'liblinear', 'C': 2.019239283329932}. Best is trial 11 with value: 0.7707333750503635.\n",
      "[I 2024-05-23 20:32:56,343] Trial 48 finished with value: 0.7678990715000453 and parameters: {'penalty': 'l1', 'solver': 'liblinear', 'C': 3.025878996270612}. Best is trial 11 with value: 0.7707333750503635.\n",
      "[I 2024-05-23 20:32:59,319] Trial 49 finished with value: 0.7671749127510316 and parameters: {'penalty': 'l2', 'solver': 'liblinear', 'C': 3.5167059237600826}. Best is trial 11 with value: 0.7707333750503635.\n"
     ]
    },
    {
     "name": "stdout",
     "output_type": "stream",
     "text": [
      "CPU times: total: 4min 35s\n",
      "Wall time: 12min 15s\n"
     ]
    }
   ],
   "source": [
    "%%time\n",
    "# можем прододжить подбор, указав n_trials(любое число, которое добавится к предыдущим итерациям) \n",
    "study_lr.optimize(optuna_lr, n_trials=30)"
   ]
  },
  {
   "cell_type": "code",
   "execution_count": 144,
   "metadata": {},
   "outputs": [
    {
     "name": "stdout",
     "output_type": "stream",
     "text": [
      "f1_score на тестовом наборе: 0.79\n"
     ]
    }
   ],
   "source": [
    "# рассчитаем точность для тестовой выборки\n",
    "model_lr = linear_model.LogisticRegression(**study_lr.best_params,random_state=random_state, max_iter=1000)\n",
    "\n",
    "model_lr.fit(X_train, y_train)\n",
    "\n",
    "y_test_pred_lr = model_lr.predict(X_test)\n",
    "print('f1_score на тестовом наборе: {:.2f}'.format(metrics.f1_score(y_test, y_test_pred_lr)))"
   ]
  },
  {
   "cell_type": "markdown",
   "metadata": {},
   "source": [
    "### RandomForest"
   ]
  },
  {
   "cell_type": "code",
   "execution_count": 147,
   "metadata": {},
   "outputs": [],
   "source": [
    "def optuna_rf(trial, cv=5):\n",
    "  # задаем пространства поиска гиперпараметров\n",
    "  n_estimators = trial.suggest_int('n_estimators', 100, 300, 1)\n",
    "  max_depth = trial.suggest_int('max_depth', 15, 40, 1)\n",
    "  min_samples_leaf = trial.suggest_int('min_samples_leaf', 2, 10, 1)\n",
    "\n",
    "  # создаем модель\n",
    "  model = ensemble.RandomForestClassifier(n_estimators=n_estimators,\n",
    "                                          max_depth=max_depth,\n",
    "                                          min_samples_leaf=min_samples_leaf,\n",
    "                                          random_state=random_state)\n",
    "  # обучаем модель\n",
    "  model.fit(X_train, y_train)\n",
    "  score = cross_val_score(model, X, y, cv=cv, scoring=\"f1\", n_jobs=-1).mean()\n",
    "\n",
    "  return score"
   ]
  },
  {
   "cell_type": "code",
   "execution_count": 148,
   "metadata": {},
   "outputs": [
    {
     "name": "stderr",
     "output_type": "stream",
     "text": [
      "[I 2024-05-23 20:48:55,149] A new study created in memory with name: RandomForestClassifier\n",
      "C:\\Users\\anzel\\AppData\\Local\\Temp\\ipykernel_7520\\1749906253.py:3: FutureWarning: suggest_int() got {'step'} as positional arguments but they were expected to be given as keyword arguments.\n",
      "  n_estimators = trial.suggest_int('n_estimators', 100, 300, 1)\n",
      "C:\\Users\\anzel\\AppData\\Local\\Temp\\ipykernel_7520\\1749906253.py:4: FutureWarning: suggest_int() got {'step'} as positional arguments but they were expected to be given as keyword arguments.\n",
      "  max_depth = trial.suggest_int('max_depth', 15, 40, 1)\n",
      "C:\\Users\\anzel\\AppData\\Local\\Temp\\ipykernel_7520\\1749906253.py:5: FutureWarning: suggest_int() got {'step'} as positional arguments but they were expected to be given as keyword arguments.\n",
      "  min_samples_leaf = trial.suggest_int('min_samples_leaf', 2, 10, 1)\n",
      "[I 2024-05-23 20:49:06,949] Trial 0 finished with value: 0.8061445541975901 and parameters: {'n_estimators': 183, 'max_depth': 24, 'min_samples_leaf': 7}. Best is trial 0 with value: 0.8061445541975901.\n",
      "C:\\Users\\anzel\\AppData\\Local\\Temp\\ipykernel_7520\\1749906253.py:3: FutureWarning: suggest_int() got {'step'} as positional arguments but they were expected to be given as keyword arguments.\n",
      "  n_estimators = trial.suggest_int('n_estimators', 100, 300, 1)\n",
      "C:\\Users\\anzel\\AppData\\Local\\Temp\\ipykernel_7520\\1749906253.py:4: FutureWarning: suggest_int() got {'step'} as positional arguments but they were expected to be given as keyword arguments.\n",
      "  max_depth = trial.suggest_int('max_depth', 15, 40, 1)\n",
      "C:\\Users\\anzel\\AppData\\Local\\Temp\\ipykernel_7520\\1749906253.py:5: FutureWarning: suggest_int() got {'step'} as positional arguments but they were expected to be given as keyword arguments.\n",
      "  min_samples_leaf = trial.suggest_int('min_samples_leaf', 2, 10, 1)\n",
      "[I 2024-05-23 20:49:17,930] Trial 1 finished with value: 0.7993633831820708 and parameters: {'n_estimators': 218, 'max_depth': 22, 'min_samples_leaf': 8}. Best is trial 0 with value: 0.8061445541975901.\n",
      "C:\\Users\\anzel\\AppData\\Local\\Temp\\ipykernel_7520\\1749906253.py:3: FutureWarning: suggest_int() got {'step'} as positional arguments but they were expected to be given as keyword arguments.\n",
      "  n_estimators = trial.suggest_int('n_estimators', 100, 300, 1)\n",
      "C:\\Users\\anzel\\AppData\\Local\\Temp\\ipykernel_7520\\1749906253.py:4: FutureWarning: suggest_int() got {'step'} as positional arguments but they were expected to be given as keyword arguments.\n",
      "  max_depth = trial.suggest_int('max_depth', 15, 40, 1)\n",
      "C:\\Users\\anzel\\AppData\\Local\\Temp\\ipykernel_7520\\1749906253.py:5: FutureWarning: suggest_int() got {'step'} as positional arguments but they were expected to be given as keyword arguments.\n",
      "  min_samples_leaf = trial.suggest_int('min_samples_leaf', 2, 10, 1)\n",
      "[I 2024-05-23 20:49:28,119] Trial 2 finished with value: 0.7991505718452565 and parameters: {'n_estimators': 291, 'max_depth': 36, 'min_samples_leaf': 10}. Best is trial 0 with value: 0.8061445541975901.\n",
      "C:\\Users\\anzel\\AppData\\Local\\Temp\\ipykernel_7520\\1749906253.py:3: FutureWarning: suggest_int() got {'step'} as positional arguments but they were expected to be given as keyword arguments.\n",
      "  n_estimators = trial.suggest_int('n_estimators', 100, 300, 1)\n",
      "C:\\Users\\anzel\\AppData\\Local\\Temp\\ipykernel_7520\\1749906253.py:4: FutureWarning: suggest_int() got {'step'} as positional arguments but they were expected to be given as keyword arguments.\n",
      "  max_depth = trial.suggest_int('max_depth', 15, 40, 1)\n",
      "C:\\Users\\anzel\\AppData\\Local\\Temp\\ipykernel_7520\\1749906253.py:5: FutureWarning: suggest_int() got {'step'} as positional arguments but they were expected to be given as keyword arguments.\n",
      "  min_samples_leaf = trial.suggest_int('min_samples_leaf', 2, 10, 1)\n",
      "[I 2024-05-23 20:49:33,592] Trial 3 finished with value: 0.7986676223126172 and parameters: {'n_estimators': 144, 'max_depth': 34, 'min_samples_leaf': 8}. Best is trial 0 with value: 0.8061445541975901.\n",
      "C:\\Users\\anzel\\AppData\\Local\\Temp\\ipykernel_7520\\1749906253.py:3: FutureWarning: suggest_int() got {'step'} as positional arguments but they were expected to be given as keyword arguments.\n",
      "  n_estimators = trial.suggest_int('n_estimators', 100, 300, 1)\n",
      "C:\\Users\\anzel\\AppData\\Local\\Temp\\ipykernel_7520\\1749906253.py:4: FutureWarning: suggest_int() got {'step'} as positional arguments but they were expected to be given as keyword arguments.\n",
      "  max_depth = trial.suggest_int('max_depth', 15, 40, 1)\n",
      "C:\\Users\\anzel\\AppData\\Local\\Temp\\ipykernel_7520\\1749906253.py:5: FutureWarning: suggest_int() got {'step'} as positional arguments but they were expected to be given as keyword arguments.\n",
      "  min_samples_leaf = trial.suggest_int('min_samples_leaf', 2, 10, 1)\n",
      "[I 2024-05-23 20:49:43,766] Trial 4 finished with value: 0.8099446893601913 and parameters: {'n_estimators': 242, 'max_depth': 24, 'min_samples_leaf': 5}. Best is trial 4 with value: 0.8099446893601913.\n",
      "C:\\Users\\anzel\\AppData\\Local\\Temp\\ipykernel_7520\\1749906253.py:3: FutureWarning: suggest_int() got {'step'} as positional arguments but they were expected to be given as keyword arguments.\n",
      "  n_estimators = trial.suggest_int('n_estimators', 100, 300, 1)\n",
      "C:\\Users\\anzel\\AppData\\Local\\Temp\\ipykernel_7520\\1749906253.py:4: FutureWarning: suggest_int() got {'step'} as positional arguments but they were expected to be given as keyword arguments.\n",
      "  max_depth = trial.suggest_int('max_depth', 15, 40, 1)\n",
      "C:\\Users\\anzel\\AppData\\Local\\Temp\\ipykernel_7520\\1749906253.py:5: FutureWarning: suggest_int() got {'step'} as positional arguments but they were expected to be given as keyword arguments.\n",
      "  min_samples_leaf = trial.suggest_int('min_samples_leaf', 2, 10, 1)\n",
      "[I 2024-05-23 20:49:51,025] Trial 5 finished with value: 0.8082581640930488 and parameters: {'n_estimators': 174, 'max_depth': 32, 'min_samples_leaf': 4}. Best is trial 4 with value: 0.8099446893601913.\n",
      "C:\\Users\\anzel\\AppData\\Local\\Temp\\ipykernel_7520\\1749906253.py:3: FutureWarning: suggest_int() got {'step'} as positional arguments but they were expected to be given as keyword arguments.\n",
      "  n_estimators = trial.suggest_int('n_estimators', 100, 300, 1)\n",
      "C:\\Users\\anzel\\AppData\\Local\\Temp\\ipykernel_7520\\1749906253.py:4: FutureWarning: suggest_int() got {'step'} as positional arguments but they were expected to be given as keyword arguments.\n",
      "  max_depth = trial.suggest_int('max_depth', 15, 40, 1)\n",
      "C:\\Users\\anzel\\AppData\\Local\\Temp\\ipykernel_7520\\1749906253.py:5: FutureWarning: suggest_int() got {'step'} as positional arguments but they were expected to be given as keyword arguments.\n",
      "  min_samples_leaf = trial.suggest_int('min_samples_leaf', 2, 10, 1)\n",
      "[I 2024-05-23 20:49:57,366] Trial 6 finished with value: 0.8061973863643335 and parameters: {'n_estimators': 173, 'max_depth': 16, 'min_samples_leaf': 7}. Best is trial 4 with value: 0.8099446893601913.\n",
      "C:\\Users\\anzel\\AppData\\Local\\Temp\\ipykernel_7520\\1749906253.py:3: FutureWarning: suggest_int() got {'step'} as positional arguments but they were expected to be given as keyword arguments.\n",
      "  n_estimators = trial.suggest_int('n_estimators', 100, 300, 1)\n",
      "C:\\Users\\anzel\\AppData\\Local\\Temp\\ipykernel_7520\\1749906253.py:4: FutureWarning: suggest_int() got {'step'} as positional arguments but they were expected to be given as keyword arguments.\n",
      "  max_depth = trial.suggest_int('max_depth', 15, 40, 1)\n",
      "C:\\Users\\anzel\\AppData\\Local\\Temp\\ipykernel_7520\\1749906253.py:5: FutureWarning: suggest_int() got {'step'} as positional arguments but they were expected to be given as keyword arguments.\n",
      "  min_samples_leaf = trial.suggest_int('min_samples_leaf', 2, 10, 1)\n",
      "[I 2024-05-23 20:50:01,603] Trial 7 finished with value: 0.8043824442871991 and parameters: {'n_estimators': 100, 'max_depth': 27, 'min_samples_leaf': 5}. Best is trial 4 with value: 0.8099446893601913.\n",
      "C:\\Users\\anzel\\AppData\\Local\\Temp\\ipykernel_7520\\1749906253.py:3: FutureWarning: suggest_int() got {'step'} as positional arguments but they were expected to be given as keyword arguments.\n",
      "  n_estimators = trial.suggest_int('n_estimators', 100, 300, 1)\n",
      "C:\\Users\\anzel\\AppData\\Local\\Temp\\ipykernel_7520\\1749906253.py:4: FutureWarning: suggest_int() got {'step'} as positional arguments but they were expected to be given as keyword arguments.\n",
      "  max_depth = trial.suggest_int('max_depth', 15, 40, 1)\n",
      "C:\\Users\\anzel\\AppData\\Local\\Temp\\ipykernel_7520\\1749906253.py:5: FutureWarning: suggest_int() got {'step'} as positional arguments but they were expected to be given as keyword arguments.\n",
      "  min_samples_leaf = trial.suggest_int('min_samples_leaf', 2, 10, 1)\n",
      "[I 2024-05-23 20:50:07,489] Trial 8 finished with value: 0.8054370498658958 and parameters: {'n_estimators': 146, 'max_depth': 17, 'min_samples_leaf': 6}. Best is trial 4 with value: 0.8099446893601913.\n",
      "C:\\Users\\anzel\\AppData\\Local\\Temp\\ipykernel_7520\\1749906253.py:3: FutureWarning: suggest_int() got {'step'} as positional arguments but they were expected to be given as keyword arguments.\n",
      "  n_estimators = trial.suggest_int('n_estimators', 100, 300, 1)\n",
      "C:\\Users\\anzel\\AppData\\Local\\Temp\\ipykernel_7520\\1749906253.py:4: FutureWarning: suggest_int() got {'step'} as positional arguments but they were expected to be given as keyword arguments.\n",
      "  max_depth = trial.suggest_int('max_depth', 15, 40, 1)\n",
      "C:\\Users\\anzel\\AppData\\Local\\Temp\\ipykernel_7520\\1749906253.py:5: FutureWarning: suggest_int() got {'step'} as positional arguments but they were expected to be given as keyword arguments.\n",
      "  min_samples_leaf = trial.suggest_int('min_samples_leaf', 2, 10, 1)\n",
      "[I 2024-05-23 20:50:13,936] Trial 9 finished with value: 0.8010740485706933 and parameters: {'n_estimators': 175, 'max_depth': 23, 'min_samples_leaf': 8}. Best is trial 4 with value: 0.8099446893601913.\n",
      "C:\\Users\\anzel\\AppData\\Local\\Temp\\ipykernel_7520\\1749906253.py:3: FutureWarning: suggest_int() got {'step'} as positional arguments but they were expected to be given as keyword arguments.\n",
      "  n_estimators = trial.suggest_int('n_estimators', 100, 300, 1)\n",
      "C:\\Users\\anzel\\AppData\\Local\\Temp\\ipykernel_7520\\1749906253.py:4: FutureWarning: suggest_int() got {'step'} as positional arguments but they were expected to be given as keyword arguments.\n",
      "  max_depth = trial.suggest_int('max_depth', 15, 40, 1)\n",
      "C:\\Users\\anzel\\AppData\\Local\\Temp\\ipykernel_7520\\1749906253.py:5: FutureWarning: suggest_int() got {'step'} as positional arguments but they were expected to be given as keyword arguments.\n",
      "  min_samples_leaf = trial.suggest_int('min_samples_leaf', 2, 10, 1)\n",
      "[I 2024-05-23 20:50:25,771] Trial 10 finished with value: 0.8167892381041042 and parameters: {'n_estimators': 253, 'max_depth': 40, 'min_samples_leaf': 2}. Best is trial 10 with value: 0.8167892381041042.\n",
      "C:\\Users\\anzel\\AppData\\Local\\Temp\\ipykernel_7520\\1749906253.py:3: FutureWarning: suggest_int() got {'step'} as positional arguments but they were expected to be given as keyword arguments.\n",
      "  n_estimators = trial.suggest_int('n_estimators', 100, 300, 1)\n",
      "C:\\Users\\anzel\\AppData\\Local\\Temp\\ipykernel_7520\\1749906253.py:4: FutureWarning: suggest_int() got {'step'} as positional arguments but they were expected to be given as keyword arguments.\n",
      "  max_depth = trial.suggest_int('max_depth', 15, 40, 1)\n",
      "C:\\Users\\anzel\\AppData\\Local\\Temp\\ipykernel_7520\\1749906253.py:5: FutureWarning: suggest_int() got {'step'} as positional arguments but they were expected to be given as keyword arguments.\n",
      "  min_samples_leaf = trial.suggest_int('min_samples_leaf', 2, 10, 1)\n",
      "[I 2024-05-23 20:50:37,701] Trial 11 finished with value: 0.8163974822407074 and parameters: {'n_estimators': 254, 'max_depth': 38, 'min_samples_leaf': 2}. Best is trial 10 with value: 0.8167892381041042.\n",
      "C:\\Users\\anzel\\AppData\\Local\\Temp\\ipykernel_7520\\1749906253.py:3: FutureWarning: suggest_int() got {'step'} as positional arguments but they were expected to be given as keyword arguments.\n",
      "  n_estimators = trial.suggest_int('n_estimators', 100, 300, 1)\n",
      "C:\\Users\\anzel\\AppData\\Local\\Temp\\ipykernel_7520\\1749906253.py:4: FutureWarning: suggest_int() got {'step'} as positional arguments but they were expected to be given as keyword arguments.\n",
      "  max_depth = trial.suggest_int('max_depth', 15, 40, 1)\n",
      "C:\\Users\\anzel\\AppData\\Local\\Temp\\ipykernel_7520\\1749906253.py:5: FutureWarning: suggest_int() got {'step'} as positional arguments but they were expected to be given as keyword arguments.\n",
      "  min_samples_leaf = trial.suggest_int('min_samples_leaf', 2, 10, 1)\n",
      "[I 2024-05-23 20:50:50,812] Trial 12 finished with value: 0.8171286391280056 and parameters: {'n_estimators': 273, 'max_depth': 40, 'min_samples_leaf': 2}. Best is trial 12 with value: 0.8171286391280056.\n",
      "C:\\Users\\anzel\\AppData\\Local\\Temp\\ipykernel_7520\\1749906253.py:3: FutureWarning: suggest_int() got {'step'} as positional arguments but they were expected to be given as keyword arguments.\n",
      "  n_estimators = trial.suggest_int('n_estimators', 100, 300, 1)\n",
      "C:\\Users\\anzel\\AppData\\Local\\Temp\\ipykernel_7520\\1749906253.py:4: FutureWarning: suggest_int() got {'step'} as positional arguments but they were expected to be given as keyword arguments.\n",
      "  max_depth = trial.suggest_int('max_depth', 15, 40, 1)\n",
      "C:\\Users\\anzel\\AppData\\Local\\Temp\\ipykernel_7520\\1749906253.py:5: FutureWarning: suggest_int() got {'step'} as positional arguments but they were expected to be given as keyword arguments.\n",
      "  min_samples_leaf = trial.suggest_int('min_samples_leaf', 2, 10, 1)\n",
      "[I 2024-05-23 20:51:05,607] Trial 13 finished with value: 0.8175471608735325 and parameters: {'n_estimators': 293, 'max_depth': 39, 'min_samples_leaf': 2}. Best is trial 13 with value: 0.8175471608735325.\n",
      "C:\\Users\\anzel\\AppData\\Local\\Temp\\ipykernel_7520\\1749906253.py:3: FutureWarning: suggest_int() got {'step'} as positional arguments but they were expected to be given as keyword arguments.\n",
      "  n_estimators = trial.suggest_int('n_estimators', 100, 300, 1)\n",
      "C:\\Users\\anzel\\AppData\\Local\\Temp\\ipykernel_7520\\1749906253.py:4: FutureWarning: suggest_int() got {'step'} as positional arguments but they were expected to be given as keyword arguments.\n",
      "  max_depth = trial.suggest_int('max_depth', 15, 40, 1)\n",
      "C:\\Users\\anzel\\AppData\\Local\\Temp\\ipykernel_7520\\1749906253.py:5: FutureWarning: suggest_int() got {'step'} as positional arguments but they were expected to be given as keyword arguments.\n",
      "  min_samples_leaf = trial.suggest_int('min_samples_leaf', 2, 10, 1)\n",
      "[I 2024-05-23 20:51:18,517] Trial 14 finished with value: 0.8131934454660318 and parameters: {'n_estimators': 293, 'max_depth': 32, 'min_samples_leaf': 3}. Best is trial 13 with value: 0.8175471608735325.\n",
      "C:\\Users\\anzel\\AppData\\Local\\Temp\\ipykernel_7520\\1749906253.py:3: FutureWarning: suggest_int() got {'step'} as positional arguments but they were expected to be given as keyword arguments.\n",
      "  n_estimators = trial.suggest_int('n_estimators', 100, 300, 1)\n",
      "C:\\Users\\anzel\\AppData\\Local\\Temp\\ipykernel_7520\\1749906253.py:4: FutureWarning: suggest_int() got {'step'} as positional arguments but they were expected to be given as keyword arguments.\n",
      "  max_depth = trial.suggest_int('max_depth', 15, 40, 1)\n",
      "C:\\Users\\anzel\\AppData\\Local\\Temp\\ipykernel_7520\\1749906253.py:5: FutureWarning: suggest_int() got {'step'} as positional arguments but they were expected to be given as keyword arguments.\n",
      "  min_samples_leaf = trial.suggest_int('min_samples_leaf', 2, 10, 1)\n",
      "[I 2024-05-23 20:51:30,618] Trial 15 finished with value: 0.8145749345817693 and parameters: {'n_estimators': 273, 'max_depth': 40, 'min_samples_leaf': 3}. Best is trial 13 with value: 0.8175471608735325.\n",
      "C:\\Users\\anzel\\AppData\\Local\\Temp\\ipykernel_7520\\1749906253.py:3: FutureWarning: suggest_int() got {'step'} as positional arguments but they were expected to be given as keyword arguments.\n",
      "  n_estimators = trial.suggest_int('n_estimators', 100, 300, 1)\n",
      "C:\\Users\\anzel\\AppData\\Local\\Temp\\ipykernel_7520\\1749906253.py:4: FutureWarning: suggest_int() got {'step'} as positional arguments but they were expected to be given as keyword arguments.\n",
      "  max_depth = trial.suggest_int('max_depth', 15, 40, 1)\n",
      "C:\\Users\\anzel\\AppData\\Local\\Temp\\ipykernel_7520\\1749906253.py:5: FutureWarning: suggest_int() got {'step'} as positional arguments but they were expected to be given as keyword arguments.\n",
      "  min_samples_leaf = trial.suggest_int('min_samples_leaf', 2, 10, 1)\n",
      "[I 2024-05-23 20:51:40,238] Trial 16 finished with value: 0.8125150074456663 and parameters: {'n_estimators': 216, 'max_depth': 29, 'min_samples_leaf': 3}. Best is trial 13 with value: 0.8175471608735325.\n",
      "C:\\Users\\anzel\\AppData\\Local\\Temp\\ipykernel_7520\\1749906253.py:3: FutureWarning: suggest_int() got {'step'} as positional arguments but they were expected to be given as keyword arguments.\n",
      "  n_estimators = trial.suggest_int('n_estimators', 100, 300, 1)\n",
      "C:\\Users\\anzel\\AppData\\Local\\Temp\\ipykernel_7520\\1749906253.py:4: FutureWarning: suggest_int() got {'step'} as positional arguments but they were expected to be given as keyword arguments.\n",
      "  max_depth = trial.suggest_int('max_depth', 15, 40, 1)\n",
      "C:\\Users\\anzel\\AppData\\Local\\Temp\\ipykernel_7520\\1749906253.py:5: FutureWarning: suggest_int() got {'step'} as positional arguments but they were expected to be given as keyword arguments.\n",
      "  min_samples_leaf = trial.suggest_int('min_samples_leaf', 2, 10, 1)\n",
      "[I 2024-05-23 20:51:54,056] Trial 17 finished with value: 0.8172215908167605 and parameters: {'n_estimators': 299, 'max_depth': 36, 'min_samples_leaf': 2}. Best is trial 13 with value: 0.8175471608735325.\n",
      "C:\\Users\\anzel\\AppData\\Local\\Temp\\ipykernel_7520\\1749906253.py:3: FutureWarning: suggest_int() got {'step'} as positional arguments but they were expected to be given as keyword arguments.\n",
      "  n_estimators = trial.suggest_int('n_estimators', 100, 300, 1)\n",
      "C:\\Users\\anzel\\AppData\\Local\\Temp\\ipykernel_7520\\1749906253.py:4: FutureWarning: suggest_int() got {'step'} as positional arguments but they were expected to be given as keyword arguments.\n",
      "  max_depth = trial.suggest_int('max_depth', 15, 40, 1)\n",
      "C:\\Users\\anzel\\AppData\\Local\\Temp\\ipykernel_7520\\1749906253.py:5: FutureWarning: suggest_int() got {'step'} as positional arguments but they were expected to be given as keyword arguments.\n",
      "  min_samples_leaf = trial.suggest_int('min_samples_leaf', 2, 10, 1)\n",
      "[I 2024-05-23 20:52:06,105] Trial 18 finished with value: 0.8102444558621542 and parameters: {'n_estimators': 295, 'max_depth': 36, 'min_samples_leaf': 4}. Best is trial 13 with value: 0.8175471608735325.\n",
      "C:\\Users\\anzel\\AppData\\Local\\Temp\\ipykernel_7520\\1749906253.py:3: FutureWarning: suggest_int() got {'step'} as positional arguments but they were expected to be given as keyword arguments.\n",
      "  n_estimators = trial.suggest_int('n_estimators', 100, 300, 1)\n",
      "C:\\Users\\anzel\\AppData\\Local\\Temp\\ipykernel_7520\\1749906253.py:4: FutureWarning: suggest_int() got {'step'} as positional arguments but they were expected to be given as keyword arguments.\n",
      "  max_depth = trial.suggest_int('max_depth', 15, 40, 1)\n",
      "C:\\Users\\anzel\\AppData\\Local\\Temp\\ipykernel_7520\\1749906253.py:5: FutureWarning: suggest_int() got {'step'} as positional arguments but they were expected to be given as keyword arguments.\n",
      "  min_samples_leaf = trial.suggest_int('min_samples_leaf', 2, 10, 1)\n",
      "[I 2024-05-23 20:52:15,891] Trial 19 finished with value: 0.8098693665139575 and parameters: {'n_estimators': 235, 'max_depth': 30, 'min_samples_leaf': 4}. Best is trial 13 with value: 0.8175471608735325.\n"
     ]
    },
    {
     "name": "stdout",
     "output_type": "stream",
     "text": [
      "CPU times: total: 1min 6s\n",
      "Wall time: 3min 20s\n"
     ]
    }
   ],
   "source": [
    "%%time\n",
    "# cоздаем объект исследования\n",
    "# можем напрямую указать, что нам необходимо максимизировать метрику direction=\"maximize\"\n",
    "study_rf = optuna.create_study(study_name=\"RandomForestClassifier\", direction=\"maximize\")\n",
    "# ищем лучшую комбинацию гиперпараметров n_trials раз\n",
    "study_rf.optimize(optuna_rf, n_trials=20)"
   ]
  },
  {
   "cell_type": "code",
   "execution_count": 149,
   "metadata": {},
   "outputs": [
    {
     "name": "stdout",
     "output_type": "stream",
     "text": [
      "f1_score на тестовом наборе: 0.83\n"
     ]
    }
   ],
   "source": [
    "# рассчитаем точность для тестовой выборки\n",
    "model_rf = ensemble.RandomForestClassifier(**study_rf.best_params,random_state=random_state)\n",
    "model_rf.fit(X_train, y_train)\n",
    "y_test_pred_rf = model_rf.predict(X_test)\n",
    "print('f1_score на тестовом наборе: {:.2f}'.format(metrics.f1_score(y_test, y_test_pred_rf)))"
   ]
  },
  {
   "cell_type": "code",
   "execution_count": 150,
   "metadata": {},
   "outputs": [
    {
     "name": "stderr",
     "output_type": "stream",
     "text": [
      "C:\\Users\\anzel\\AppData\\Local\\Temp\\ipykernel_7520\\1749906253.py:3: FutureWarning: suggest_int() got {'step'} as positional arguments but they were expected to be given as keyword arguments.\n",
      "  n_estimators = trial.suggest_int('n_estimators', 100, 300, 1)\n",
      "C:\\Users\\anzel\\AppData\\Local\\Temp\\ipykernel_7520\\1749906253.py:4: FutureWarning: suggest_int() got {'step'} as positional arguments but they were expected to be given as keyword arguments.\n",
      "  max_depth = trial.suggest_int('max_depth', 15, 40, 1)\n",
      "C:\\Users\\anzel\\AppData\\Local\\Temp\\ipykernel_7520\\1749906253.py:5: FutureWarning: suggest_int() got {'step'} as positional arguments but they were expected to be given as keyword arguments.\n",
      "  min_samples_leaf = trial.suggest_int('min_samples_leaf', 2, 10, 1)\n",
      "[I 2024-05-23 20:52:30,993] Trial 20 finished with value: 0.7962186263923653 and parameters: {'n_estimators': 272, 'max_depth': 37, 'min_samples_leaf': 10}. Best is trial 13 with value: 0.8175471608735325.\n",
      "C:\\Users\\anzel\\AppData\\Local\\Temp\\ipykernel_7520\\1749906253.py:3: FutureWarning: suggest_int() got {'step'} as positional arguments but they were expected to be given as keyword arguments.\n",
      "  n_estimators = trial.suggest_int('n_estimators', 100, 300, 1)\n",
      "C:\\Users\\anzel\\AppData\\Local\\Temp\\ipykernel_7520\\1749906253.py:4: FutureWarning: suggest_int() got {'step'} as positional arguments but they were expected to be given as keyword arguments.\n",
      "  max_depth = trial.suggest_int('max_depth', 15, 40, 1)\n",
      "C:\\Users\\anzel\\AppData\\Local\\Temp\\ipykernel_7520\\1749906253.py:5: FutureWarning: suggest_int() got {'step'} as positional arguments but they were expected to be given as keyword arguments.\n",
      "  min_samples_leaf = trial.suggest_int('min_samples_leaf', 2, 10, 1)\n",
      "[I 2024-05-23 20:52:43,392] Trial 21 finished with value: 0.817051111210373 and parameters: {'n_estimators': 268, 'max_depth': 40, 'min_samples_leaf': 2}. Best is trial 13 with value: 0.8175471608735325.\n",
      "C:\\Users\\anzel\\AppData\\Local\\Temp\\ipykernel_7520\\1749906253.py:3: FutureWarning: suggest_int() got {'step'} as positional arguments but they were expected to be given as keyword arguments.\n",
      "  n_estimators = trial.suggest_int('n_estimators', 100, 300, 1)\n",
      "C:\\Users\\anzel\\AppData\\Local\\Temp\\ipykernel_7520\\1749906253.py:4: FutureWarning: suggest_int() got {'step'} as positional arguments but they were expected to be given as keyword arguments.\n",
      "  max_depth = trial.suggest_int('max_depth', 15, 40, 1)\n",
      "C:\\Users\\anzel\\AppData\\Local\\Temp\\ipykernel_7520\\1749906253.py:5: FutureWarning: suggest_int() got {'step'} as positional arguments but they were expected to be given as keyword arguments.\n",
      "  min_samples_leaf = trial.suggest_int('min_samples_leaf', 2, 10, 1)\n",
      "[I 2024-05-23 20:52:57,060] Trial 22 finished with value: 0.817412091315705 and parameters: {'n_estimators': 298, 'max_depth': 34, 'min_samples_leaf': 2}. Best is trial 13 with value: 0.8175471608735325.\n",
      "C:\\Users\\anzel\\AppData\\Local\\Temp\\ipykernel_7520\\1749906253.py:3: FutureWarning: suggest_int() got {'step'} as positional arguments but they were expected to be given as keyword arguments.\n",
      "  n_estimators = trial.suggest_int('n_estimators', 100, 300, 1)\n",
      "C:\\Users\\anzel\\AppData\\Local\\Temp\\ipykernel_7520\\1749906253.py:4: FutureWarning: suggest_int() got {'step'} as positional arguments but they were expected to be given as keyword arguments.\n",
      "  max_depth = trial.suggest_int('max_depth', 15, 40, 1)\n",
      "C:\\Users\\anzel\\AppData\\Local\\Temp\\ipykernel_7520\\1749906253.py:5: FutureWarning: suggest_int() got {'step'} as positional arguments but they were expected to be given as keyword arguments.\n",
      "  min_samples_leaf = trial.suggest_int('min_samples_leaf', 2, 10, 1)\n",
      "[I 2024-05-23 20:53:09,540] Trial 23 finished with value: 0.8133876882085687 and parameters: {'n_estimators': 293, 'max_depth': 34, 'min_samples_leaf': 3}. Best is trial 13 with value: 0.8175471608735325.\n",
      "C:\\Users\\anzel\\AppData\\Local\\Temp\\ipykernel_7520\\1749906253.py:3: FutureWarning: suggest_int() got {'step'} as positional arguments but they were expected to be given as keyword arguments.\n",
      "  n_estimators = trial.suggest_int('n_estimators', 100, 300, 1)\n",
      "C:\\Users\\anzel\\AppData\\Local\\Temp\\ipykernel_7520\\1749906253.py:4: FutureWarning: suggest_int() got {'step'} as positional arguments but they were expected to be given as keyword arguments.\n",
      "  max_depth = trial.suggest_int('max_depth', 15, 40, 1)\n",
      "C:\\Users\\anzel\\AppData\\Local\\Temp\\ipykernel_7520\\1749906253.py:5: FutureWarning: suggest_int() got {'step'} as positional arguments but they were expected to be given as keyword arguments.\n",
      "  min_samples_leaf = trial.suggest_int('min_samples_leaf', 2, 10, 1)\n",
      "[I 2024-05-23 20:53:22,656] Trial 24 finished with value: 0.8159682021494689 and parameters: {'n_estimators': 282, 'max_depth': 34, 'min_samples_leaf': 2}. Best is trial 13 with value: 0.8175471608735325.\n",
      "C:\\Users\\anzel\\AppData\\Local\\Temp\\ipykernel_7520\\1749906253.py:3: FutureWarning: suggest_int() got {'step'} as positional arguments but they were expected to be given as keyword arguments.\n",
      "  n_estimators = trial.suggest_int('n_estimators', 100, 300, 1)\n",
      "C:\\Users\\anzel\\AppData\\Local\\Temp\\ipykernel_7520\\1749906253.py:4: FutureWarning: suggest_int() got {'step'} as positional arguments but they were expected to be given as keyword arguments.\n",
      "  max_depth = trial.suggest_int('max_depth', 15, 40, 1)\n",
      "C:\\Users\\anzel\\AppData\\Local\\Temp\\ipykernel_7520\\1749906253.py:5: FutureWarning: suggest_int() got {'step'} as positional arguments but they were expected to be given as keyword arguments.\n",
      "  min_samples_leaf = trial.suggest_int('min_samples_leaf', 2, 10, 1)\n",
      "[I 2024-05-23 20:53:33,473] Trial 25 finished with value: 0.814039443706861 and parameters: {'n_estimators': 251, 'max_depth': 38, 'min_samples_leaf': 3}. Best is trial 13 with value: 0.8175471608735325.\n",
      "C:\\Users\\anzel\\AppData\\Local\\Temp\\ipykernel_7520\\1749906253.py:3: FutureWarning: suggest_int() got {'step'} as positional arguments but they were expected to be given as keyword arguments.\n",
      "  n_estimators = trial.suggest_int('n_estimators', 100, 300, 1)\n",
      "C:\\Users\\anzel\\AppData\\Local\\Temp\\ipykernel_7520\\1749906253.py:4: FutureWarning: suggest_int() got {'step'} as positional arguments but they were expected to be given as keyword arguments.\n",
      "  max_depth = trial.suggest_int('max_depth', 15, 40, 1)\n",
      "C:\\Users\\anzel\\AppData\\Local\\Temp\\ipykernel_7520\\1749906253.py:5: FutureWarning: suggest_int() got {'step'} as positional arguments but they were expected to be given as keyword arguments.\n",
      "  min_samples_leaf = trial.suggest_int('min_samples_leaf', 2, 10, 1)\n",
      "[I 2024-05-23 20:53:44,972] Trial 26 finished with value: 0.8094115011886107 and parameters: {'n_estimators': 298, 'max_depth': 32, 'min_samples_leaf': 5}. Best is trial 13 with value: 0.8175471608735325.\n",
      "C:\\Users\\anzel\\AppData\\Local\\Temp\\ipykernel_7520\\1749906253.py:3: FutureWarning: suggest_int() got {'step'} as positional arguments but they were expected to be given as keyword arguments.\n",
      "  n_estimators = trial.suggest_int('n_estimators', 100, 300, 1)\n",
      "C:\\Users\\anzel\\AppData\\Local\\Temp\\ipykernel_7520\\1749906253.py:4: FutureWarning: suggest_int() got {'step'} as positional arguments but they were expected to be given as keyword arguments.\n",
      "  max_depth = trial.suggest_int('max_depth', 15, 40, 1)\n",
      "C:\\Users\\anzel\\AppData\\Local\\Temp\\ipykernel_7520\\1749906253.py:5: FutureWarning: suggest_int() got {'step'} as positional arguments but they were expected to be given as keyword arguments.\n",
      "  min_samples_leaf = trial.suggest_int('min_samples_leaf', 2, 10, 1)\n",
      "[I 2024-05-23 20:53:54,231] Trial 27 finished with value: 0.8101063832719937 and parameters: {'n_estimators': 225, 'max_depth': 35, 'min_samples_leaf': 4}. Best is trial 13 with value: 0.8175471608735325.\n",
      "C:\\Users\\anzel\\AppData\\Local\\Temp\\ipykernel_7520\\1749906253.py:3: FutureWarning: suggest_int() got {'step'} as positional arguments but they were expected to be given as keyword arguments.\n",
      "  n_estimators = trial.suggest_int('n_estimators', 100, 300, 1)\n",
      "C:\\Users\\anzel\\AppData\\Local\\Temp\\ipykernel_7520\\1749906253.py:4: FutureWarning: suggest_int() got {'step'} as positional arguments but they were expected to be given as keyword arguments.\n",
      "  max_depth = trial.suggest_int('max_depth', 15, 40, 1)\n",
      "C:\\Users\\anzel\\AppData\\Local\\Temp\\ipykernel_7520\\1749906253.py:5: FutureWarning: suggest_int() got {'step'} as positional arguments but they were expected to be given as keyword arguments.\n",
      "  min_samples_leaf = trial.suggest_int('min_samples_leaf', 2, 10, 1)\n",
      "[I 2024-05-23 20:54:06,386] Trial 28 finished with value: 0.8166589833625888 and parameters: {'n_estimators': 264, 'max_depth': 38, 'min_samples_leaf': 2}. Best is trial 13 with value: 0.8175471608735325.\n",
      "C:\\Users\\anzel\\AppData\\Local\\Temp\\ipykernel_7520\\1749906253.py:3: FutureWarning: suggest_int() got {'step'} as positional arguments but they were expected to be given as keyword arguments.\n",
      "  n_estimators = trial.suggest_int('n_estimators', 100, 300, 1)\n",
      "C:\\Users\\anzel\\AppData\\Local\\Temp\\ipykernel_7520\\1749906253.py:4: FutureWarning: suggest_int() got {'step'} as positional arguments but they were expected to be given as keyword arguments.\n",
      "  max_depth = trial.suggest_int('max_depth', 15, 40, 1)\n",
      "C:\\Users\\anzel\\AppData\\Local\\Temp\\ipykernel_7520\\1749906253.py:5: FutureWarning: suggest_int() got {'step'} as positional arguments but they were expected to be given as keyword arguments.\n",
      "  min_samples_leaf = trial.suggest_int('min_samples_leaf', 2, 10, 1)\n",
      "[I 2024-05-23 20:54:15,490] Trial 29 finished with value: 0.8124028060284679 and parameters: {'n_estimators': 200, 'max_depth': 30, 'min_samples_leaf': 3}. Best is trial 13 with value: 0.8175471608735325.\n",
      "C:\\Users\\anzel\\AppData\\Local\\Temp\\ipykernel_7520\\1749906253.py:3: FutureWarning: suggest_int() got {'step'} as positional arguments but they were expected to be given as keyword arguments.\n",
      "  n_estimators = trial.suggest_int('n_estimators', 100, 300, 1)\n",
      "C:\\Users\\anzel\\AppData\\Local\\Temp\\ipykernel_7520\\1749906253.py:4: FutureWarning: suggest_int() got {'step'} as positional arguments but they were expected to be given as keyword arguments.\n",
      "  max_depth = trial.suggest_int('max_depth', 15, 40, 1)\n",
      "C:\\Users\\anzel\\AppData\\Local\\Temp\\ipykernel_7520\\1749906253.py:5: FutureWarning: suggest_int() got {'step'} as positional arguments but they were expected to be given as keyword arguments.\n",
      "  min_samples_leaf = trial.suggest_int('min_samples_leaf', 2, 10, 1)\n",
      "[I 2024-05-23 20:54:26,534] Trial 30 finished with value: 0.8049767529970353 and parameters: {'n_estimators': 299, 'max_depth': 27, 'min_samples_leaf': 6}. Best is trial 13 with value: 0.8175471608735325.\n",
      "C:\\Users\\anzel\\AppData\\Local\\Temp\\ipykernel_7520\\1749906253.py:3: FutureWarning: suggest_int() got {'step'} as positional arguments but they were expected to be given as keyword arguments.\n",
      "  n_estimators = trial.suggest_int('n_estimators', 100, 300, 1)\n",
      "C:\\Users\\anzel\\AppData\\Local\\Temp\\ipykernel_7520\\1749906253.py:4: FutureWarning: suggest_int() got {'step'} as positional arguments but they were expected to be given as keyword arguments.\n",
      "  max_depth = trial.suggest_int('max_depth', 15, 40, 1)\n",
      "C:\\Users\\anzel\\AppData\\Local\\Temp\\ipykernel_7520\\1749906253.py:5: FutureWarning: suggest_int() got {'step'} as positional arguments but they were expected to be given as keyword arguments.\n",
      "  min_samples_leaf = trial.suggest_int('min_samples_leaf', 2, 10, 1)\n",
      "[I 2024-05-23 20:54:39,591] Trial 31 finished with value: 0.8157493781819213 and parameters: {'n_estimators': 281, 'max_depth': 39, 'min_samples_leaf': 2}. Best is trial 13 with value: 0.8175471608735325.\n",
      "C:\\Users\\anzel\\AppData\\Local\\Temp\\ipykernel_7520\\1749906253.py:3: FutureWarning: suggest_int() got {'step'} as positional arguments but they were expected to be given as keyword arguments.\n",
      "  n_estimators = trial.suggest_int('n_estimators', 100, 300, 1)\n",
      "C:\\Users\\anzel\\AppData\\Local\\Temp\\ipykernel_7520\\1749906253.py:4: FutureWarning: suggest_int() got {'step'} as positional arguments but they were expected to be given as keyword arguments.\n",
      "  max_depth = trial.suggest_int('max_depth', 15, 40, 1)\n",
      "C:\\Users\\anzel\\AppData\\Local\\Temp\\ipykernel_7520\\1749906253.py:5: FutureWarning: suggest_int() got {'step'} as positional arguments but they were expected to be given as keyword arguments.\n",
      "  min_samples_leaf = trial.suggest_int('min_samples_leaf', 2, 10, 1)\n",
      "[I 2024-05-23 20:54:52,731] Trial 32 finished with value: 0.8157493781819213 and parameters: {'n_estimators': 281, 'max_depth': 36, 'min_samples_leaf': 2}. Best is trial 13 with value: 0.8175471608735325.\n",
      "C:\\Users\\anzel\\AppData\\Local\\Temp\\ipykernel_7520\\1749906253.py:3: FutureWarning: suggest_int() got {'step'} as positional arguments but they were expected to be given as keyword arguments.\n",
      "  n_estimators = trial.suggest_int('n_estimators', 100, 300, 1)\n",
      "C:\\Users\\anzel\\AppData\\Local\\Temp\\ipykernel_7520\\1749906253.py:4: FutureWarning: suggest_int() got {'step'} as positional arguments but they were expected to be given as keyword arguments.\n",
      "  max_depth = trial.suggest_int('max_depth', 15, 40, 1)\n",
      "C:\\Users\\anzel\\AppData\\Local\\Temp\\ipykernel_7520\\1749906253.py:5: FutureWarning: suggest_int() got {'step'} as positional arguments but they were expected to be given as keyword arguments.\n",
      "  min_samples_leaf = trial.suggest_int('min_samples_leaf', 2, 10, 1)\n",
      "[I 2024-05-23 20:55:04,124] Trial 33 finished with value: 0.8153268353818067 and parameters: {'n_estimators': 262, 'max_depth': 37, 'min_samples_leaf': 3}. Best is trial 13 with value: 0.8175471608735325.\n",
      "C:\\Users\\anzel\\AppData\\Local\\Temp\\ipykernel_7520\\1749906253.py:3: FutureWarning: suggest_int() got {'step'} as positional arguments but they were expected to be given as keyword arguments.\n",
      "  n_estimators = trial.suggest_int('n_estimators', 100, 300, 1)\n",
      "C:\\Users\\anzel\\AppData\\Local\\Temp\\ipykernel_7520\\1749906253.py:4: FutureWarning: suggest_int() got {'step'} as positional arguments but they were expected to be given as keyword arguments.\n",
      "  max_depth = trial.suggest_int('max_depth', 15, 40, 1)\n",
      "C:\\Users\\anzel\\AppData\\Local\\Temp\\ipykernel_7520\\1749906253.py:5: FutureWarning: suggest_int() got {'step'} as positional arguments but they were expected to be given as keyword arguments.\n",
      "  min_samples_leaf = trial.suggest_int('min_samples_leaf', 2, 10, 1)\n",
      "[I 2024-05-23 20:55:13,653] Trial 34 finished with value: 0.8002802324251992 and parameters: {'n_estimators': 282, 'max_depth': 39, 'min_samples_leaf': 9}. Best is trial 13 with value: 0.8175471608735325.\n",
      "C:\\Users\\anzel\\AppData\\Local\\Temp\\ipykernel_7520\\1749906253.py:3: FutureWarning: suggest_int() got {'step'} as positional arguments but they were expected to be given as keyword arguments.\n",
      "  n_estimators = trial.suggest_int('n_estimators', 100, 300, 1)\n",
      "C:\\Users\\anzel\\AppData\\Local\\Temp\\ipykernel_7520\\1749906253.py:4: FutureWarning: suggest_int() got {'step'} as positional arguments but they were expected to be given as keyword arguments.\n",
      "  max_depth = trial.suggest_int('max_depth', 15, 40, 1)\n",
      "C:\\Users\\anzel\\AppData\\Local\\Temp\\ipykernel_7520\\1749906253.py:5: FutureWarning: suggest_int() got {'step'} as positional arguments but they were expected to be given as keyword arguments.\n",
      "  min_samples_leaf = trial.suggest_int('min_samples_leaf', 2, 10, 1)\n",
      "[I 2024-05-23 20:55:26,780] Trial 35 finished with value: 0.813200301161286 and parameters: {'n_estimators': 284, 'max_depth': 19, 'min_samples_leaf': 2}. Best is trial 13 with value: 0.8175471608735325.\n",
      "C:\\Users\\anzel\\AppData\\Local\\Temp\\ipykernel_7520\\1749906253.py:3: FutureWarning: suggest_int() got {'step'} as positional arguments but they were expected to be given as keyword arguments.\n",
      "  n_estimators = trial.suggest_int('n_estimators', 100, 300, 1)\n",
      "C:\\Users\\anzel\\AppData\\Local\\Temp\\ipykernel_7520\\1749906253.py:4: FutureWarning: suggest_int() got {'step'} as positional arguments but they were expected to be given as keyword arguments.\n",
      "  max_depth = trial.suggest_int('max_depth', 15, 40, 1)\n",
      "C:\\Users\\anzel\\AppData\\Local\\Temp\\ipykernel_7520\\1749906253.py:5: FutureWarning: suggest_int() got {'step'} as positional arguments but they were expected to be given as keyword arguments.\n",
      "  min_samples_leaf = trial.suggest_int('min_samples_leaf', 2, 10, 1)\n",
      "[I 2024-05-23 20:55:36,727] Trial 36 finished with value: 0.8110362161070608 and parameters: {'n_estimators': 245, 'max_depth': 33, 'min_samples_leaf': 4}. Best is trial 13 with value: 0.8175471608735325.\n",
      "C:\\Users\\anzel\\AppData\\Local\\Temp\\ipykernel_7520\\1749906253.py:3: FutureWarning: suggest_int() got {'step'} as positional arguments but they were expected to be given as keyword arguments.\n",
      "  n_estimators = trial.suggest_int('n_estimators', 100, 300, 1)\n",
      "C:\\Users\\anzel\\AppData\\Local\\Temp\\ipykernel_7520\\1749906253.py:4: FutureWarning: suggest_int() got {'step'} as positional arguments but they were expected to be given as keyword arguments.\n",
      "  max_depth = trial.suggest_int('max_depth', 15, 40, 1)\n",
      "C:\\Users\\anzel\\AppData\\Local\\Temp\\ipykernel_7520\\1749906253.py:5: FutureWarning: suggest_int() got {'step'} as positional arguments but they were expected to be given as keyword arguments.\n",
      "  min_samples_leaf = trial.suggest_int('min_samples_leaf', 2, 10, 1)\n",
      "[I 2024-05-23 20:55:49,630] Trial 37 finished with value: 0.8151541050210114 and parameters: {'n_estimators': 300, 'max_depth': 35, 'min_samples_leaf': 3}. Best is trial 13 with value: 0.8175471608735325.\n",
      "C:\\Users\\anzel\\AppData\\Local\\Temp\\ipykernel_7520\\1749906253.py:3: FutureWarning: suggest_int() got {'step'} as positional arguments but they were expected to be given as keyword arguments.\n",
      "  n_estimators = trial.suggest_int('n_estimators', 100, 300, 1)\n",
      "C:\\Users\\anzel\\AppData\\Local\\Temp\\ipykernel_7520\\1749906253.py:4: FutureWarning: suggest_int() got {'step'} as positional arguments but they were expected to be given as keyword arguments.\n",
      "  max_depth = trial.suggest_int('max_depth', 15, 40, 1)\n",
      "C:\\Users\\anzel\\AppData\\Local\\Temp\\ipykernel_7520\\1749906253.py:5: FutureWarning: suggest_int() got {'step'} as positional arguments but they were expected to be given as keyword arguments.\n",
      "  min_samples_leaf = trial.suggest_int('min_samples_leaf', 2, 10, 1)\n",
      "[I 2024-05-23 20:56:02,321] Trial 38 finished with value: 0.8149977233642136 and parameters: {'n_estimators': 272, 'max_depth': 25, 'min_samples_leaf': 2}. Best is trial 13 with value: 0.8175471608735325.\n",
      "C:\\Users\\anzel\\AppData\\Local\\Temp\\ipykernel_7520\\1749906253.py:3: FutureWarning: suggest_int() got {'step'} as positional arguments but they were expected to be given as keyword arguments.\n",
      "  n_estimators = trial.suggest_int('n_estimators', 100, 300, 1)\n",
      "C:\\Users\\anzel\\AppData\\Local\\Temp\\ipykernel_7520\\1749906253.py:4: FutureWarning: suggest_int() got {'step'} as positional arguments but they were expected to be given as keyword arguments.\n",
      "  max_depth = trial.suggest_int('max_depth', 15, 40, 1)\n",
      "C:\\Users\\anzel\\AppData\\Local\\Temp\\ipykernel_7520\\1749906253.py:5: FutureWarning: suggest_int() got {'step'} as positional arguments but they were expected to be given as keyword arguments.\n",
      "  min_samples_leaf = trial.suggest_int('min_samples_leaf', 2, 10, 1)\n",
      "[I 2024-05-23 20:56:06,883] Trial 39 finished with value: 0.8050532275870801 and parameters: {'n_estimators': 109, 'max_depth': 37, 'min_samples_leaf': 5}. Best is trial 13 with value: 0.8175471608735325.\n",
      "C:\\Users\\anzel\\AppData\\Local\\Temp\\ipykernel_7520\\1749906253.py:3: FutureWarning: suggest_int() got {'step'} as positional arguments but they were expected to be given as keyword arguments.\n",
      "  n_estimators = trial.suggest_int('n_estimators', 100, 300, 1)\n",
      "C:\\Users\\anzel\\AppData\\Local\\Temp\\ipykernel_7520\\1749906253.py:4: FutureWarning: suggest_int() got {'step'} as positional arguments but they were expected to be given as keyword arguments.\n",
      "  max_depth = trial.suggest_int('max_depth', 15, 40, 1)\n",
      "C:\\Users\\anzel\\AppData\\Local\\Temp\\ipykernel_7520\\1749906253.py:5: FutureWarning: suggest_int() got {'step'} as positional arguments but they were expected to be given as keyword arguments.\n",
      "  min_samples_leaf = trial.suggest_int('min_samples_leaf', 2, 10, 1)\n",
      "[I 2024-05-23 20:56:16,661] Trial 40 finished with value: 0.8100678716364247 and parameters: {'n_estimators': 235, 'max_depth': 35, 'min_samples_leaf': 4}. Best is trial 13 with value: 0.8175471608735325.\n",
      "C:\\Users\\anzel\\AppData\\Local\\Temp\\ipykernel_7520\\1749906253.py:3: FutureWarning: suggest_int() got {'step'} as positional arguments but they were expected to be given as keyword arguments.\n",
      "  n_estimators = trial.suggest_int('n_estimators', 100, 300, 1)\n",
      "C:\\Users\\anzel\\AppData\\Local\\Temp\\ipykernel_7520\\1749906253.py:4: FutureWarning: suggest_int() got {'step'} as positional arguments but they were expected to be given as keyword arguments.\n",
      "  max_depth = trial.suggest_int('max_depth', 15, 40, 1)\n",
      "C:\\Users\\anzel\\AppData\\Local\\Temp\\ipykernel_7520\\1749906253.py:5: FutureWarning: suggest_int() got {'step'} as positional arguments but they were expected to be given as keyword arguments.\n",
      "  min_samples_leaf = trial.suggest_int('min_samples_leaf', 2, 10, 1)\n",
      "[I 2024-05-23 20:56:29,096] Trial 41 finished with value: 0.8168658725271172 and parameters: {'n_estimators': 272, 'max_depth': 40, 'min_samples_leaf': 2}. Best is trial 13 with value: 0.8175471608735325.\n",
      "C:\\Users\\anzel\\AppData\\Local\\Temp\\ipykernel_7520\\1749906253.py:3: FutureWarning: suggest_int() got {'step'} as positional arguments but they were expected to be given as keyword arguments.\n",
      "  n_estimators = trial.suggest_int('n_estimators', 100, 300, 1)\n",
      "C:\\Users\\anzel\\AppData\\Local\\Temp\\ipykernel_7520\\1749906253.py:4: FutureWarning: suggest_int() got {'step'} as positional arguments but they were expected to be given as keyword arguments.\n",
      "  max_depth = trial.suggest_int('max_depth', 15, 40, 1)\n",
      "C:\\Users\\anzel\\AppData\\Local\\Temp\\ipykernel_7520\\1749906253.py:5: FutureWarning: suggest_int() got {'step'} as positional arguments but they were expected to be given as keyword arguments.\n",
      "  min_samples_leaf = trial.suggest_int('min_samples_leaf', 2, 10, 1)\n",
      "[I 2024-05-23 20:56:41,096] Trial 42 finished with value: 0.8172632049186286 and parameters: {'n_estimators': 261, 'max_depth': 39, 'min_samples_leaf': 2}. Best is trial 13 with value: 0.8175471608735325.\n",
      "C:\\Users\\anzel\\AppData\\Local\\Temp\\ipykernel_7520\\1749906253.py:3: FutureWarning: suggest_int() got {'step'} as positional arguments but they were expected to be given as keyword arguments.\n",
      "  n_estimators = trial.suggest_int('n_estimators', 100, 300, 1)\n",
      "C:\\Users\\anzel\\AppData\\Local\\Temp\\ipykernel_7520\\1749906253.py:4: FutureWarning: suggest_int() got {'step'} as positional arguments but they were expected to be given as keyword arguments.\n",
      "  max_depth = trial.suggest_int('max_depth', 15, 40, 1)\n",
      "C:\\Users\\anzel\\AppData\\Local\\Temp\\ipykernel_7520\\1749906253.py:5: FutureWarning: suggest_int() got {'step'} as positional arguments but they were expected to be given as keyword arguments.\n",
      "  min_samples_leaf = trial.suggest_int('min_samples_leaf', 2, 10, 1)\n",
      "[I 2024-05-23 20:56:53,020] Trial 43 finished with value: 0.8169628102070874 and parameters: {'n_estimators': 258, 'max_depth': 39, 'min_samples_leaf': 2}. Best is trial 13 with value: 0.8175471608735325.\n",
      "C:\\Users\\anzel\\AppData\\Local\\Temp\\ipykernel_7520\\1749906253.py:3: FutureWarning: suggest_int() got {'step'} as positional arguments but they were expected to be given as keyword arguments.\n",
      "  n_estimators = trial.suggest_int('n_estimators', 100, 300, 1)\n",
      "C:\\Users\\anzel\\AppData\\Local\\Temp\\ipykernel_7520\\1749906253.py:4: FutureWarning: suggest_int() got {'step'} as positional arguments but they were expected to be given as keyword arguments.\n",
      "  max_depth = trial.suggest_int('max_depth', 15, 40, 1)\n",
      "C:\\Users\\anzel\\AppData\\Local\\Temp\\ipykernel_7520\\1749906253.py:5: FutureWarning: suggest_int() got {'step'} as positional arguments but they were expected to be given as keyword arguments.\n",
      "  min_samples_leaf = trial.suggest_int('min_samples_leaf', 2, 10, 1)\n",
      "[I 2024-05-23 20:57:03,383] Trial 44 finished with value: 0.8039696928232338 and parameters: {'n_estimators': 289, 'max_depth': 38, 'min_samples_leaf': 7}. Best is trial 13 with value: 0.8175471608735325.\n",
      "C:\\Users\\anzel\\AppData\\Local\\Temp\\ipykernel_7520\\1749906253.py:3: FutureWarning: suggest_int() got {'step'} as positional arguments but they were expected to be given as keyword arguments.\n",
      "  n_estimators = trial.suggest_int('n_estimators', 100, 300, 1)\n",
      "C:\\Users\\anzel\\AppData\\Local\\Temp\\ipykernel_7520\\1749906253.py:4: FutureWarning: suggest_int() got {'step'} as positional arguments but they were expected to be given as keyword arguments.\n",
      "  max_depth = trial.suggest_int('max_depth', 15, 40, 1)\n",
      "C:\\Users\\anzel\\AppData\\Local\\Temp\\ipykernel_7520\\1749906253.py:5: FutureWarning: suggest_int() got {'step'} as positional arguments but they were expected to be given as keyword arguments.\n",
      "  min_samples_leaf = trial.suggest_int('min_samples_leaf', 2, 10, 1)\n",
      "[I 2024-05-23 20:57:15,761] Trial 45 finished with value: 0.813908445204578 and parameters: {'n_estimators': 288, 'max_depth': 37, 'min_samples_leaf': 3}. Best is trial 13 with value: 0.8175471608735325.\n",
      "C:\\Users\\anzel\\AppData\\Local\\Temp\\ipykernel_7520\\1749906253.py:3: FutureWarning: suggest_int() got {'step'} as positional arguments but they were expected to be given as keyword arguments.\n",
      "  n_estimators = trial.suggest_int('n_estimators', 100, 300, 1)\n",
      "C:\\Users\\anzel\\AppData\\Local\\Temp\\ipykernel_7520\\1749906253.py:4: FutureWarning: suggest_int() got {'step'} as positional arguments but they were expected to be given as keyword arguments.\n",
      "  max_depth = trial.suggest_int('max_depth', 15, 40, 1)\n",
      "C:\\Users\\anzel\\AppData\\Local\\Temp\\ipykernel_7520\\1749906253.py:5: FutureWarning: suggest_int() got {'step'} as positional arguments but they were expected to be given as keyword arguments.\n",
      "  min_samples_leaf = trial.suggest_int('min_samples_leaf', 2, 10, 1)\n",
      "[I 2024-05-23 20:57:24,865] Trial 46 finished with value: 0.8169301114570023 and parameters: {'n_estimators': 195, 'max_depth': 39, 'min_samples_leaf': 2}. Best is trial 13 with value: 0.8175471608735325.\n",
      "C:\\Users\\anzel\\AppData\\Local\\Temp\\ipykernel_7520\\1749906253.py:3: FutureWarning: suggest_int() got {'step'} as positional arguments but they were expected to be given as keyword arguments.\n",
      "  n_estimators = trial.suggest_int('n_estimators', 100, 300, 1)\n",
      "C:\\Users\\anzel\\AppData\\Local\\Temp\\ipykernel_7520\\1749906253.py:4: FutureWarning: suggest_int() got {'step'} as positional arguments but they were expected to be given as keyword arguments.\n",
      "  max_depth = trial.suggest_int('max_depth', 15, 40, 1)\n",
      "C:\\Users\\anzel\\AppData\\Local\\Temp\\ipykernel_7520\\1749906253.py:5: FutureWarning: suggest_int() got {'step'} as positional arguments but they were expected to be given as keyword arguments.\n",
      "  min_samples_leaf = trial.suggest_int('min_samples_leaf', 2, 10, 1)\n",
      "[I 2024-05-23 20:57:36,903] Trial 47 finished with value: 0.8141791855689103 and parameters: {'n_estimators': 276, 'max_depth': 36, 'min_samples_leaf': 3}. Best is trial 13 with value: 0.8175471608735325.\n",
      "C:\\Users\\anzel\\AppData\\Local\\Temp\\ipykernel_7520\\1749906253.py:3: FutureWarning: suggest_int() got {'step'} as positional arguments but they were expected to be given as keyword arguments.\n",
      "  n_estimators = trial.suggest_int('n_estimators', 100, 300, 1)\n",
      "C:\\Users\\anzel\\AppData\\Local\\Temp\\ipykernel_7520\\1749906253.py:4: FutureWarning: suggest_int() got {'step'} as positional arguments but they were expected to be given as keyword arguments.\n",
      "  max_depth = trial.suggest_int('max_depth', 15, 40, 1)\n",
      "C:\\Users\\anzel\\AppData\\Local\\Temp\\ipykernel_7520\\1749906253.py:5: FutureWarning: suggest_int() got {'step'} as positional arguments but they were expected to be given as keyword arguments.\n",
      "  min_samples_leaf = trial.suggest_int('min_samples_leaf', 2, 10, 1)\n",
      "[I 2024-05-23 20:57:47,149] Trial 48 finished with value: 0.8174547219570274 and parameters: {'n_estimators': 215, 'max_depth': 33, 'min_samples_leaf': 2}. Best is trial 13 with value: 0.8175471608735325.\n",
      "C:\\Users\\anzel\\AppData\\Local\\Temp\\ipykernel_7520\\1749906253.py:3: FutureWarning: suggest_int() got {'step'} as positional arguments but they were expected to be given as keyword arguments.\n",
      "  n_estimators = trial.suggest_int('n_estimators', 100, 300, 1)\n",
      "C:\\Users\\anzel\\AppData\\Local\\Temp\\ipykernel_7520\\1749906253.py:4: FutureWarning: suggest_int() got {'step'} as positional arguments but they were expected to be given as keyword arguments.\n",
      "  max_depth = trial.suggest_int('max_depth', 15, 40, 1)\n",
      "C:\\Users\\anzel\\AppData\\Local\\Temp\\ipykernel_7520\\1749906253.py:5: FutureWarning: suggest_int() got {'step'} as positional arguments but they were expected to be given as keyword arguments.\n",
      "  min_samples_leaf = trial.suggest_int('min_samples_leaf', 2, 10, 1)\n",
      "[I 2024-05-23 20:57:53,958] Trial 49 finished with value: 0.810063940092588 and parameters: {'n_estimators': 153, 'max_depth': 33, 'min_samples_leaf': 3}. Best is trial 13 with value: 0.8175471608735325.\n"
     ]
    },
    {
     "name": "stdout",
     "output_type": "stream",
     "text": [
      "CPU times: total: 2min 5s\n",
      "Wall time: 5min 32s\n"
     ]
    }
   ],
   "source": [
    "%%time\n",
    "# можем прододжить подбор, указав n_trials(любое число, которое добавится к предыдущим итерациям) \n",
    "study_rf.optimize(optuna_rf, n_trials=30)"
   ]
  },
  {
   "cell_type": "code",
   "execution_count": 151,
   "metadata": {},
   "outputs": [
    {
     "name": "stdout",
     "output_type": "stream",
     "text": [
      "f1_score на тестовом наборе: 0.83\n"
     ]
    }
   ],
   "source": [
    "# рассчитаем точность для тестовой выборки\n",
    "model_rf = ensemble.RandomForestClassifier(**study_rf.best_params,random_state=random_state, )\n",
    "model_rf.fit(X_train, y_train)\n",
    "y_test_pred_rf = model_rf.predict(X_test)\n",
    "print('f1_score на тестовом наборе: {:.2f}'.format(metrics.f1_score(y_test, y_test_pred_rf)))"
   ]
  }
 ],
 "metadata": {
  "kernelspec": {
   "display_name": "Python 3",
   "language": "python",
   "name": "python3"
  },
  "language_info": {
   "codemirror_mode": {
    "name": "ipython",
    "version": 3
   },
   "file_extension": ".py",
   "mimetype": "text/x-python",
   "name": "python",
   "nbconvert_exporter": "python",
   "pygments_lexer": "ipython3",
   "version": "3.12.2"
  }
 },
 "nbformat": 4,
 "nbformat_minor": 2
}
