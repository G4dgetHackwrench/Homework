{
 "cells": [
  {
   "cell_type": "code",
   "execution_count": 38,
   "metadata": {},
   "outputs": [],
   "source": [
    "import pandas as pd\n",
    "ratings1 = pd.read_csv('data/ratings1.csv', sep=',')\n",
    "ratings2 = pd.read_csv('data/ratings2.csv', sep=',')\n",
    "dates = pd.read_csv('data/dates.csv', sep=',')\n",
    "movies = pd.read_csv('data/movies.csv', sep=',')\n",
    "orders = pd.read_csv('data/orders.csv', sep=';')\n",
    "products = pd.read_csv('data/products.csv', sep=';')"
   ]
  },
  {
   "cell_type": "code",
   "execution_count": 12,
   "metadata": {},
   "outputs": [],
   "source": [
    "ratings1_df = ratings1.copy()"
   ]
  },
  {
   "cell_type": "code",
   "execution_count": 13,
   "metadata": {},
   "outputs": [],
   "source": [
    "ratings2_df = ratings2.copy()"
   ]
  },
  {
   "cell_type": "code",
   "execution_count": 14,
   "metadata": {},
   "outputs": [],
   "source": [
    "dates_df = dates.copy()"
   ]
  },
  {
   "cell_type": "code",
   "execution_count": 15,
   "metadata": {},
   "outputs": [],
   "source": [
    "movies_df = movies.copy()"
   ]
  },
  {
   "cell_type": "code",
   "execution_count": 39,
   "metadata": {},
   "outputs": [],
   "source": [
    "orders_df = orders.copy()\n",
    "products_df = products.copy()"
   ]
  },
  {
   "cell_type": "code",
   "execution_count": null,
   "metadata": {},
   "outputs": [],
   "source": [
    "# Задание 5.2\n",
    "movies_df['movieId'].nunique()\n",
    "# Задание 5.3\n",
    "ratings1_df['userId'].nunique()\n",
    "# Задание 5.4\n",
    "dates['date'] = pd.to_datetime(dates['date'])\n",
    "dates['date'].dt.year.value_counts()"
   ]
  },
  {
   "cell_type": "code",
   "execution_count": null,
   "metadata": {},
   "outputs": [],
   "source": [
    "#одинаковое количество столбцов и имена, таблица прибавляется снизу\n",
    "# также замена индексов на новые, чтобы не было дублей\n",
    "ratings = pd.concat(\n",
    "    [ratings1, ratings2],\n",
    "    ignore_index=True\n",
    ")\n",
    "display(ratings)"
   ]
  },
  {
   "cell_type": "code",
   "execution_count": null,
   "metadata": {},
   "outputs": [],
   "source": [
    "#удаляем дубли\n",
    "ratings = ratings.drop_duplicates(ignore_index=True)\n",
    "print('Число строк в таблице ratings: ', ratings.shape[0])"
   ]
  },
  {
   "cell_type": "code",
   "execution_count": null,
   "metadata": {},
   "outputs": [],
   "source": [
    "# соединяем таблицы, выводим семь последних строк\n",
    "ratings_dates = pd.concat([ratings, dates], axis=1)\n",
    "display(ratings_dates.tail(7))"
   ]
  },
  {
   "cell_type": "code",
   "execution_count": 21,
   "metadata": {},
   "outputs": [],
   "source": [
    "# Задание 6.3\n",
    "def concat_user_files(path):\n",
    "    data = pd.DataFrame()\n",
    "    files = os.listdir(path)\n",
    "    files.sort()\n",
    "    for file in files:\n",
    "        tmp_data = pd.read_csv(path + '/' + file)\n",
    "        data = pd.concat([data, tmp_data])\n",
    "    data = data.drop_duplicates(ignore_index=True)\n",
    "    return data"
   ]
  },
  {
   "cell_type": "code",
   "execution_count": null,
   "metadata": {},
   "outputs": [],
   "source": [
    "# объединим таблицы типом left. Так как в наших таблицах есть \n",
    "# одноимённые столбцы, установим один из суффиксов, чтобы избежать ошибки\n",
    "# здесь не используется указание на столбец, с помощью которого таблицы объединяются\n",
    "joined_false = ratings_dates.join(movies, rsuffix='_right', how='left')\n",
    "display(joined_false)"
   ]
  },
  {
   "cell_type": "code",
   "execution_count": null,
   "metadata": {},
   "outputs": [],
   "source": [
    "joined = ratings_dates.join(movies.set_index('movieId'), on='movieId', how='left')\n",
    "display(joined.head())"
   ]
  },
  {
   "cell_type": "code",
   "execution_count": null,
   "metadata": {},
   "outputs": [],
   "source": [
    "merged = ratings_dates.merge(movies, on='movieId', how='left')\n",
    "display(merged.head())"
   ]
  },
  {
   "cell_type": "code",
   "execution_count": null,
   "metadata": {},
   "outputs": [],
   "source": [
    "# Задание 7.5\n",
    "items_df = pd.DataFrame({\n",
    "    'item_id': [417283, 849734, 132223, 573943, 19475, 3294095, 382043, 302948, 100132, 312394], \n",
    "    'vendor': ['Samsung', 'LG', 'Apple', 'Apple', 'LG', 'Apple', 'Samsung', 'Samsung', 'LG', 'ZTE'],\n",
    "    'stock_count': [54, 33, 122, 18, 102, 43, 77, 143, 60, 19]\n",
    "})\n",
    "\n",
    "purchase_df = pd.DataFrame({\n",
    "    'purchase_id': [101, 101, 101, 112, 121, 145, 145, 145, 145, 221],\n",
    "    'item_id': [417283, 849734, 132223, 573943, 19475, 3294095, 382043, 302948, 103845, 100132], \n",
    "    'price': [13900, 5330, 38200, 49990, 9890, 33000, 67500, 34500, 89900, 11400]\n",
    "})\n",
    "\n",
    "merged = items_df.merge(purchase_df, on='item_id', how='inner')\n",
    "income = sum(merged['price']*merged['stock_count'])\n",
    "display(merged)"
   ]
  },
  {
   "cell_type": "code",
   "execution_count": 26,
   "metadata": {},
   "outputs": [],
   "source": [
    "#библиотека для регулярных выражений\n",
    "import re \n",
    "def get_year_release(arg):\n",
    "    #находим все слова по шаблону \"(DDDD)\"\n",
    "    candidates = re.findall(r'\\(\\d{4}\\)', arg) \n",
    "    # проверяем число вхождений\n",
    "    if len(candidates) > 0:\n",
    "        #если число вхождений больше 0,\n",
    "\t#очищаем строку от знаков \"(\" и \")\"\n",
    "        year = candidates[0].replace('(', '')\n",
    "        year = year.replace(')', '')\n",
    "        return int(year)\n",
    "    else:\n",
    "        #если год не указан, возвращаем None\n",
    "        return None"
   ]
  },
  {
   "cell_type": "code",
   "execution_count": null,
   "metadata": {},
   "outputs": [],
   "source": [
    "# Задание 8.1\n",
    "joined['year_release'] = joined['title'].apply(get_year_release)\n",
    "print(int(joined['year_release'].shape[0]) - int(joined['year_release'].count()))"
   ]
  },
  {
   "cell_type": "code",
   "execution_count": null,
   "metadata": {},
   "outputs": [],
   "source": [
    "# Задание 8.2\n",
    "print(joined[joined['year_release'] == 1999.0].groupby('title')['rating'].mean().sort_values())"
   ]
  },
  {
   "cell_type": "code",
   "execution_count": null,
   "metadata": {},
   "outputs": [],
   "source": [
    "# Задание 8.3\n",
    "print(joined[joined['year_release'] == 2010.0].groupby('genres')['rating'].mean().sort_values())"
   ]
  },
  {
   "cell_type": "code",
   "execution_count": null,
   "metadata": {},
   "outputs": [],
   "source": [
    "# Задание 8.4\n",
    "print(joined.groupby('userId')['genres'].nunique().sort_values(ascending=False))"
   ]
  },
  {
   "cell_type": "code",
   "execution_count": null,
   "metadata": {},
   "outputs": [],
   "source": [
    "# Задание 8.5\n",
    "print(joined.groupby('userId')['rating'].agg(['count', 'mean']\n",
    "        ).sort_values(['count', 'mean'], ascending=[True, False]))"
   ]
  },
  {
   "cell_type": "code",
   "execution_count": null,
   "metadata": {},
   "outputs": [],
   "source": [
    "# Задание 8.6\n",
    "temp = joined[joined['year_release'] == 2018.0].groupby('genres'\n",
    "        )['rating'].agg(['count', 'mean'])\n",
    "result = temp[temp['count'] >10].sort_values(by = 'mean', ascending=False)\n",
    "print(result)"
   ]
  },
  {
   "cell_type": "code",
   "execution_count": null,
   "metadata": {},
   "outputs": [],
   "source": [
    "# Задание 8.7\n",
    "joined['year_rating'] = joined['date'].dt.year\n",
    "result = joined.pivot_table(values='rating', index='year_rating', columns='genres',\n",
    "                aggfunc='mean')\n",
    "print(result[result['Action|Adventure'] < 3])\n",
    "print(result['Action|Adventure|Animation|Children|Comedy|IMAX'].sort_values())\n",
    "print(result['Animation|Children|Mystery'].loc[2018])\n",
    "print(result['Comedy'])"
   ]
  },
  {
   "cell_type": "code",
   "execution_count": null,
   "metadata": {},
   "outputs": [],
   "source": [
    "# Задание 8.8\n",
    "orders_products = orders_df.merge(products_df, left_on='ID товара', right_on='Product_ID', how='left')\n",
    "print(orders_products[orders_products['Name'].isna()])"
   ]
  },
  {
   "cell_type": "code",
   "execution_count": 84,
   "metadata": {},
   "outputs": [
    {
     "name": "stdout",
     "output_type": "stream",
     "text": [
      "         Дата создания  Order ID  ID Покупателя   Статус Оплачен Отменен  \\\n",
      "6  08.11.2019 08:36:22         5              5  Отменён     Нет      Да   \n",
      "\n",
      "  Отгружен  ID товара  Количество  Product_ID                  Name  Price  \\\n",
      "6      Нет        124           1       124.0  Носки беговые Camino  999.0   \n",
      "\n",
      "  CURRENCY  \n",
      "6      RUR  \n"
     ]
    }
   ],
   "source": [
    "# Задание 8.9\n",
    "print(orders_products[orders_products['Отменен'] == 'Да'])"
   ]
  },
  {
   "cell_type": "code",
   "execution_count": null,
   "metadata": {},
   "outputs": [],
   "source": [
    "# Задание 8.10\n",
    "print((orders_products[orders_products['Оплачен'] == 'Да']['Price']*orders_products[orders_products['Оплачен'] == 'Да']['Количество']).sort_values())\n",
    "print(orders_products.loc[10])"
   ]
  },
  {
   "cell_type": "code",
   "execution_count": null,
   "metadata": {},
   "outputs": [],
   "source": [
    "# Задание 8.10\n",
    "print(orders_products.info())"
   ]
  }
 ],
 "metadata": {
  "kernelspec": {
   "display_name": "Python 3",
   "language": "python",
   "name": "python3"
  },
  "language_info": {
   "codemirror_mode": {
    "name": "ipython",
    "version": 3
   },
   "file_extension": ".py",
   "mimetype": "text/x-python",
   "name": "python",
   "nbconvert_exporter": "python",
   "pygments_lexer": "ipython3",
   "version": "3.10.11"
  }
 },
 "nbformat": 4,
 "nbformat_minor": 2
}
